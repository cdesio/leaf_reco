{
 "cells": [
  {
   "cell_type": "code",
   "execution_count": 4,
   "metadata": {},
   "outputs": [],
   "source": [
    "import numpy as np\n",
    "import os"
   ]
  },
  {
   "cell_type": "code",
   "execution_count": 5,
   "metadata": {},
   "outputs": [],
   "source": [
    "data_dir = '/storage/yw18581/data/'\n",
    "data_folder = os.path.join(data_dir, 'train_validation_test')"
   ]
  },
  {
   "cell_type": "code",
   "execution_count": 6,
   "metadata": {},
   "outputs": [],
   "source": [
    "unet_dir = os.path.join(data_dir, \"trained_models\",\n",
    "                        \"UNet_training_generator_1500epochs\")"
   ]
  },
  {
   "cell_type": "code",
   "execution_count": 9,
   "metadata": {},
   "outputs": [],
   "source": [
    "def cut_X(arr, reshape = None):\n",
    "    x_cut = arr[:,960:1300,600:]\n",
    "    if reshape:\n",
    "        if len(x_cut.shape)>3:\n",
    "            x_cut = x_cut[...,0]\n",
    "            x_cut_out = x_cut.reshape(x_cut.shape[0],x_cut.shape[1]*x_cut.shape[2])\n",
    "    else:\n",
    "        x_cut_out = x_cut\n",
    "    return x_cut_out\n",
    "\n",
    "def reshape_RF(arr):\n",
    "    arr_RF = arr.reshape((arr.shape[0], arr.shape[1]*arr.shape[2]))\n",
    "    return arr_RF"
   ]
  },
  {
   "cell_type": "code",
   "execution_count": 10,
   "metadata": {},
   "outputs": [],
   "source": [
    "def cut_reshape(arr):\n",
    "    arr_cut = cut_X(arr)\n",
    "    arr_RF = reshape_RF(arr_cut)\n",
    "    return arr_RF"
   ]
  },
  {
   "cell_type": "code",
   "execution_count": 11,
   "metadata": {},
   "outputs": [],
   "source": [
    "def import_splitted_gt(pos):\n",
    "    Xy = np.load(os.path.join(data_folder,\"Xy_\"+pos+\"_clean.npz\"))\n",
    "    X = Xy[\"y\"]\n",
    "    y = Xy[\"dist\"]\n",
    "    X_RF = cut_reshape(X)\n",
    "    indices = np.load(os.path.join(data_folder,\"RF_train_test_indices_80_20_\"+pos+\"_clean.npz\"))\n",
    "    training_indices = indices[\"train\"]\n",
    "    test_indices = indices[\"test\"]\n",
    "    X_RF_train = X_RF[training_indices]\n",
    "    y_train = y[training_indices]\n",
    "    X_RF_test = X_RF[test_indices]\n",
    "    y_test = y[test_indices]\n",
    "    return X_RF_train, y_train, X_RF_test, y_test"
   ]
  },
  {
   "cell_type": "code",
   "execution_count": 13,
   "metadata": {},
   "outputs": [],
   "source": [
    "def import_splitted_UNet(pos):\n",
    "    Xy = np.load(os.path.join(unet_dir,\"Xy_\"+pos+\"_clean_predicted_UNet.npz\"))\n",
    "    X = Xy[\"y\"]\n",
    "    y = Xy[\"dist\"]\n",
    "    X_RF = cut_reshape(X)\n",
    "    indices = np.load(os.path.join(data_folder,\"RF_train_test_indices_80_20_\"+pos+\"_clean.npz\"))\n",
    "    training_indices = indices[\"train\"]\n",
    "    test_indices = indices[\"test\"]\n",
    "    X_RF_train = X_RF[training_indices]\n",
    "    y_train = y[training_indices]\n",
    "    X_RF_test = X_RF[test_indices]\n",
    "    y_test = y[test_indices]\n",
    "    return X_RF_train, y_train, X_RF_test, y_test"
   ]
  },
  {
   "cell_type": "code",
   "execution_count": 14,
   "metadata": {},
   "outputs": [],
   "source": [
    "X_30mm_cl_UNet_RF_train, y_30mm_cl_UNet_train, X_30mm_cl_UNet_RF_test, y_30mm_cl_UNet_test  = import_splitted_UNet(\"30mm\")"
   ]
  },
  {
   "cell_type": "code",
   "execution_count": 15,
   "metadata": {},
   "outputs": [
    {
     "data": {
      "text/plain": [
       "array([30, 30, 30, 30, 30, 30, 30, 30, 30, 30, 30, 30, 30, 30, 30, 30, 30,\n",
       "       30, 30, 30, 30, 30, 30, 30, 30, 30, 30, 30, 30, 30, 30, 30, 30, 30,\n",
       "       30, 30, 30, 30, 30, 30, 30, 30, 30, 30, 30, 30, 30, 30, 30, 30, 30,\n",
       "       30, 30, 30, 30, 30, 30, 30, 30, 30, 30, 30, 30, 30, 30, 30, 30, 30,\n",
       "       30, 30, 30, 30, 30, 30, 30, 30, 30, 30, 30, 30, 30, 30, 30, 30, 30,\n",
       "       30, 30, 30, 30, 30, 30, 30, 30, 30, 30, 30, 30, 30, 30, 30, 30, 30,\n",
       "       30, 30, 30, 30, 30, 30, 30, 30, 30, 30, 30, 30, 30, 30, 30, 30, 30,\n",
       "       30, 30, 30, 30, 30, 30, 30, 30, 30, 30, 30, 30, 30, 30, 30, 30, 30,\n",
       "       30, 30, 30, 30, 30, 30, 30, 30])"
      ]
     },
     "execution_count": 15,
     "metadata": {},
     "output_type": "execute_result"
    }
   ],
   "source": [
    "y_30mm_cl_UNet_train"
   ]
  },
  {
   "cell_type": "code",
   "execution_count": 16,
   "metadata": {},
   "outputs": [
    {
     "data": {
      "text/plain": [
       "array([30, 30, 30, 30, 30, 30, 30, 30, 30, 30, 30, 30, 30, 30, 30, 30, 30,\n",
       "       30, 30, 30, 30, 30, 30, 30, 30, 30, 30, 30, 30, 30, 30, 30, 30, 30,\n",
       "       30, 30, 30])"
      ]
     },
     "execution_count": 16,
     "metadata": {},
     "output_type": "execute_result"
    }
   ],
   "source": [
    "y_30mm_cl_UNet_test"
   ]
  },
  {
   "cell_type": "code",
   "execution_count": 17,
   "metadata": {},
   "outputs": [
    {
     "data": {
      "text/plain": [
       "array([  0, 255], dtype=uint8)"
      ]
     },
     "execution_count": 17,
     "metadata": {},
     "output_type": "execute_result"
    }
   ],
   "source": [
    "np.unique(X_30mm_cl_UNet_RF_test[0])"
   ]
  },
  {
   "cell_type": "code",
   "execution_count": 22,
   "metadata": {},
   "outputs": [
    {
     "data": {
      "text/plain": [
       "37"
      ]
     },
     "execution_count": 22,
     "metadata": {},
     "output_type": "execute_result"
    }
   ],
   "source": [
    "len(X_30mm_cl_UNet_RF_test)"
   ]
  },
  {
   "cell_type": "code",
   "execution_count": 24,
   "metadata": {},
   "outputs": [
    {
     "name": "stdout",
     "output_type": "stream",
     "text": [
      "[  0 255]\n",
      "[  0 255]\n",
      "[  0 255]\n",
      "[  0 255]\n",
      "[  0 255]\n",
      "[  0 255]\n",
      "[  0 255]\n",
      "[  0 255]\n",
      "[  0 255]\n",
      "[  0 255]\n",
      "[  0 255]\n",
      "[  0 255]\n",
      "[  0 255]\n",
      "[  0 255]\n",
      "[  0 255]\n",
      "[  0 255]\n",
      "[  0 255]\n",
      "[  0 255]\n",
      "[  0 255]\n",
      "[  0 255]\n",
      "[  0 255]\n",
      "[  0 255]\n",
      "[  0 255]\n",
      "[  0 255]\n",
      "[  0 255]\n",
      "[  0 255]\n",
      "[  0 255]\n",
      "[  0 255]\n",
      "[  0 255]\n",
      "[  0 255]\n",
      "[  0 255]\n",
      "[  0 255]\n",
      "[  0 255]\n",
      "[  0 255]\n",
      "[  0 255]\n",
      "[  0 255]\n",
      "[  0 255]\n"
     ]
    }
   ],
   "source": [
    "for i in range(37):\n",
    "    print(np.unique(X_30mm_cl_UNet_RF_test[i]))"
   ]
  },
  {
   "cell_type": "code",
   "execution_count": 25,
   "metadata": {},
   "outputs": [],
   "source": [
    "model = np.load(os.path.join(data_dir, \"RF30_trained_model_clean_data.npz\"))[\"rf\"][-1]"
   ]
  },
  {
   "cell_type": "code",
   "execution_count": 26,
   "metadata": {},
   "outputs": [
    {
     "data": {
      "text/plain": [
       "sklearn.tree.tree.DecisionTreeRegressor"
      ]
     },
     "execution_count": 26,
     "metadata": {},
     "output_type": "execute_result"
    }
   ],
   "source": [
    "type(model)"
   ]
  },
  {
   "cell_type": "code",
   "execution_count": 27,
   "metadata": {},
   "outputs": [
    {
     "data": {
      "text/plain": [
       "array([0., 0., 0., ..., 0., 0., 0.])"
      ]
     },
     "execution_count": 27,
     "metadata": {},
     "output_type": "execute_result"
    }
   ],
   "source": [
    "model.feature_importances_"
   ]
  },
  {
   "cell_type": "code",
   "execution_count": 28,
   "metadata": {},
   "outputs": [
    {
     "data": {
      "text/plain": [
       "(array([119202, 129357, 130101, 134448, 135728, 142905, 142953, 144954,\n",
       "        151710, 159469, 159647, 169308, 171545, 173347, 174923, 175736]),)"
      ]
     },
     "execution_count": 28,
     "metadata": {},
     "output_type": "execute_result"
    }
   ],
   "source": [
    "np.nonzero(model.feature_importances_)"
   ]
  },
  {
   "cell_type": "code",
   "execution_count": 29,
   "metadata": {},
   "outputs": [],
   "source": [
    "feature_indices = np.nonzero(model.feature_importances_)"
   ]
  },
  {
   "cell_type": "code",
   "execution_count": 31,
   "metadata": {},
   "outputs": [
    {
     "data": {
      "text/plain": [
       "array([255, 255, 255, 255, 255, 255, 255, 255, 255, 255, 255, 255, 255,\n",
       "       255, 255, 255], dtype=uint8)"
      ]
     },
     "execution_count": 31,
     "metadata": {},
     "output_type": "execute_result"
    }
   ],
   "source": [
    "X_30mm_cl_UNet_RF_test[0][feature_indices]"
   ]
  },
  {
   "cell_type": "code",
   "execution_count": 33,
   "metadata": {},
   "outputs": [
    {
     "data": {
      "text/plain": [
       "<function Tree.decision_path>"
      ]
     },
     "execution_count": 33,
     "metadata": {},
     "output_type": "execute_result"
    }
   ],
   "source": [
    "model.tree_.decision_path"
   ]
  },
  {
   "cell_type": "code",
   "execution_count": 34,
   "metadata": {},
   "outputs": [
    {
     "data": {
      "text/plain": [
       "array([35., 35., 35., 35., 35., 35., 35., 35., 35., 35., 35., 30., 35.,\n",
       "       35., 35., 35., 35., 35., 35., 35., 35., 35., 35., 35., 35., 35.,\n",
       "       30., 35., 30., 35., 35., 35., 35., 35., 35., 35., 35., 35., 35.,\n",
       "       35., 35., 35., 35., 35., 35., 35., 35., 35., 35., 35., 35., 30.,\n",
       "       35., 35., 35., 35., 35., 35., 35., 35., 35., 35., 35., 35., 35.,\n",
       "       35., 30., 35., 35., 35., 35., 35., 35., 35., 35., 35., 35., 35.,\n",
       "       35., 35., 35., 35., 35., 35., 35., 35., 35., 35., 35., 30., 35.,\n",
       "       35., 35., 30., 35., 35., 35., 35., 30., 35., 35., 35., 35., 35.,\n",
       "       35., 35., 35., 35., 35., 35., 35., 30., 35., 35., 35., 35., 35.,\n",
       "       35., 30., 35., 35., 35., 35., 35., 35., 30., 35., 35., 35., 35.,\n",
       "       35., 35., 35., 30., 35., 35., 35., 35., 35., 35., 35., 35., 35.,\n",
       "       35.])"
      ]
     },
     "execution_count": 34,
     "metadata": {},
     "output_type": "execute_result"
    }
   ],
   "source": [
    "model.predict(X_30mm_cl_UNet_RF_train)"
   ]
  },
  {
   "cell_type": "code",
   "execution_count": 35,
   "metadata": {},
   "outputs": [
    {
     "data": {
      "text/plain": [
       "array([35., 35., 35., 35., 35., 35., 35., 35., 35., 30., 35., 35., 35.,\n",
       "       35., 35., 35., 35., 35., 35., 30., 35., 35., 35., 35., 35., 35.,\n",
       "       30., 35., 35., 35., 35., 35., 35., 35., 35., 35., 35.])"
      ]
     },
     "execution_count": 35,
     "metadata": {},
     "output_type": "execute_result"
    }
   ],
   "source": [
    "model.predict(X_30mm_cl_UNet_RF_test)"
   ]
  },
  {
   "cell_type": "markdown",
   "metadata": {},
   "source": [
    "---"
   ]
  },
  {
   "cell_type": "code",
   "execution_count": 37,
   "metadata": {},
   "outputs": [],
   "source": [
    "import pickle\n",
    "\n",
    "loaded_model = pickle.load(open(os.path.join(data_dir,\"RF30_8_trained_model_clean_data.npz\"), 'rb'))"
   ]
  },
  {
   "cell_type": "code",
   "execution_count": 38,
   "metadata": {},
   "outputs": [
    {
     "data": {
      "text/plain": [
       "sklearn.ensemble.forest.RandomForestRegressor"
      ]
     },
     "execution_count": 38,
     "metadata": {},
     "output_type": "execute_result"
    }
   ],
   "source": [
    "type(loaded_model)"
   ]
  },
  {
   "cell_type": "code",
   "execution_count": 39,
   "metadata": {},
   "outputs": [
    {
     "name": "stderr",
     "output_type": "stream",
     "text": [
      "[Parallel(n_jobs=2)]: Using backend ThreadingBackend with 2 concurrent workers.\n",
      "[Parallel(n_jobs=2)]: Done  30 out of  30 | elapsed:    0.0s finished\n"
     ]
    },
    {
     "data": {
      "text/plain": [
       "array([35.        , 33.66666667, 35.        , 35.        , 35.        ,\n",
       "       35.        , 35.        , 33.5       , 35.        , 30.66666667,\n",
       "       35.        , 35.        , 34.83333333, 35.        , 35.        ,\n",
       "       35.        , 35.        , 33.33333333, 35.        , 30.        ,\n",
       "       35.        , 35.        , 33.        , 33.83333333, 35.        ,\n",
       "       35.        , 32.66666667, 35.        , 32.5       , 35.        ,\n",
       "       35.        , 33.83333333, 35.        , 35.        , 35.        ,\n",
       "       33.5       , 35.        ])"
      ]
     },
     "execution_count": 39,
     "metadata": {},
     "output_type": "execute_result"
    }
   ],
   "source": [
    "loaded_model.predict(X_30mm_cl_UNet_RF_test)"
   ]
  },
  {
   "cell_type": "code",
   "execution_count": 43,
   "metadata": {},
   "outputs": [
    {
     "data": {
      "text/plain": [
       "(395,)"
      ]
     },
     "execution_count": 43,
     "metadata": {},
     "output_type": "execute_result"
    }
   ],
   "source": [
    "np.nonzero(loaded_model.feature_importances_)[0].shape"
   ]
  },
  {
   "cell_type": "code",
   "execution_count": 44,
   "metadata": {},
   "outputs": [],
   "source": [
    "X_20mm_cl_UNet_RF  = import_splitted_UNet(\"20mm\")"
   ]
  },
  {
   "cell_type": "code",
   "execution_count": 45,
   "metadata": {},
   "outputs": [],
   "source": [
    "Xunet_train, yunet_train, Xunet_test, yunet_test = X_20mm_cl_UNet_RF"
   ]
  },
  {
   "cell_type": "code",
   "execution_count": 46,
   "metadata": {},
   "outputs": [
    {
     "data": {
      "text/plain": [
       "array([20, 20, 20, 20, 20, 20, 20, 20, 20, 20, 20, 20, 20, 20, 20, 20, 20,\n",
       "       20, 20, 20, 20, 20, 20, 20, 20, 20, 20, 20, 20, 20, 20, 20, 20, 20,\n",
       "       20, 20, 20, 20, 20, 20, 20, 20, 20, 20, 20, 20, 20, 20, 20, 20, 20,\n",
       "       20, 20, 20, 20, 20, 20, 20, 20, 20, 20, 20, 20, 20, 20, 20, 20, 20,\n",
       "       20, 20, 20, 20, 20, 20, 20, 20, 20, 20, 20, 20, 20, 20, 20, 20, 20,\n",
       "       20, 20, 20, 20, 20, 20, 20, 20, 20, 20, 20, 20, 20, 20, 20, 20, 20,\n",
       "       20, 20, 20, 20, 20, 20, 20, 20, 20, 20, 20, 20, 20, 20, 20, 20, 20,\n",
       "       20, 20, 20, 20, 20, 20, 20, 20, 20, 20, 20, 20, 20, 20, 20, 20, 20,\n",
       "       20, 20])"
      ]
     },
     "execution_count": 46,
     "metadata": {},
     "output_type": "execute_result"
    }
   ],
   "source": [
    "yunet_train"
   ]
  },
  {
   "cell_type": "code",
   "execution_count": 47,
   "metadata": {},
   "outputs": [
    {
     "data": {
      "text/plain": [
       "array([20, 20, 20, 20, 20, 20, 20, 20, 20, 20, 20, 20, 20, 20, 20, 20, 20,\n",
       "       20, 20, 20, 20, 20, 20, 20, 20, 20, 20, 20, 20, 20, 20, 20, 20, 20,\n",
       "       20])"
      ]
     },
     "execution_count": 47,
     "metadata": {},
     "output_type": "execute_result"
    }
   ],
   "source": [
    "yunet_test"
   ]
  },
  {
   "cell_type": "code",
   "execution_count": 48,
   "metadata": {},
   "outputs": [
    {
     "name": "stderr",
     "output_type": "stream",
     "text": [
      "[Parallel(n_jobs=2)]: Using backend ThreadingBackend with 2 concurrent workers.\n",
      "[Parallel(n_jobs=2)]: Done  30 out of  30 | elapsed:    0.0s finished\n"
     ]
    },
    {
     "data": {
      "text/plain": [
       "array([20.83333333, 20.16666667, 20.        , 20.66666667, 20.66666667,\n",
       "       20.66666667, 20.5       , 20.83333333, 21.        , 20.66666667,\n",
       "       21.        , 20.66666667, 21.        , 20.66666667, 20.83333333,\n",
       "       20.66666667, 20.83333333, 21.        , 20.83333333, 21.        ,\n",
       "       21.        , 21.16666667, 20.66666667, 21.        , 20.83333333,\n",
       "       21.16666667, 20.66666667, 20.16666667, 20.33333333, 21.        ,\n",
       "       21.        , 21.16666667, 21.        , 20.66666667, 20.83333333,\n",
       "       20.83333333, 20.83333333, 21.16666667, 20.66666667, 20.83333333,\n",
       "       20.66666667, 20.        , 20.        , 21.        , 20.83333333,\n",
       "       21.        , 20.83333333, 20.5       , 20.83333333, 20.66666667,\n",
       "       20.        , 21.33333333, 20.        , 21.        , 20.5       ,\n",
       "       20.83333333, 21.        , 21.16666667, 20.66666667, 20.83333333,\n",
       "       20.16666667, 20.66666667, 21.16666667, 20.83333333, 21.16666667,\n",
       "       20.33333333, 21.        , 20.66666667, 21.        , 21.16666667,\n",
       "       20.83333333, 20.83333333, 20.16666667, 21.16666667, 20.5       ,\n",
       "       21.16666667, 20.83333333, 20.66666667, 20.83333333, 21.16666667,\n",
       "       20.66666667, 20.5       , 20.66666667, 21.16666667, 21.        ,\n",
       "       20.66666667, 20.66666667, 20.16666667, 20.5       , 20.66666667,\n",
       "       20.83333333, 20.83333333, 20.16666667, 20.83333333, 21.16666667,\n",
       "       20.66666667, 21.        , 20.66666667, 20.33333333, 20.33333333,\n",
       "       21.16666667, 20.83333333, 21.16666667, 20.33333333, 20.        ,\n",
       "       20.16666667, 20.66666667, 20.16666667, 20.        , 21.16666667,\n",
       "       20.66666667, 20.16666667, 20.33333333, 21.16666667, 20.5       ,\n",
       "       20.33333333, 20.83333333, 20.16666667, 20.66666667, 20.83333333,\n",
       "       20.33333333, 20.66666667, 20.66666667, 20.66666667, 20.66666667,\n",
       "       21.16666667, 20.66666667, 20.83333333, 20.83333333, 20.83333333,\n",
       "       21.        , 20.83333333, 20.66666667, 20.5       , 20.33333333,\n",
       "       20.16666667, 21.        , 21.16666667])"
      ]
     },
     "execution_count": 48,
     "metadata": {},
     "output_type": "execute_result"
    }
   ],
   "source": [
    "loaded_model.predict(Xunet_train)"
   ]
  },
  {
   "cell_type": "code",
   "execution_count": 49,
   "metadata": {},
   "outputs": [],
   "source": [
    "from sklearn.metrics import mean_squared_error as mse"
   ]
  },
  {
   "cell_type": "code",
   "execution_count": 50,
   "metadata": {},
   "outputs": [
    {
     "name": "stderr",
     "output_type": "stream",
     "text": [
      "[Parallel(n_jobs=2)]: Using backend ThreadingBackend with 2 concurrent workers.\n",
      "[Parallel(n_jobs=2)]: Done  30 out of  30 | elapsed:    0.0s finished\n"
     ]
    },
    {
     "data": {
      "text/plain": [
       "0.6264090177133659"
      ]
     },
     "execution_count": 50,
     "metadata": {},
     "output_type": "execute_result"
    }
   ],
   "source": [
    "mse(yunet_train, loaded_model.predict(Xunet_train))"
   ]
  },
  {
   "cell_type": "code",
   "execution_count": 51,
   "metadata": {},
   "outputs": [
    {
     "name": "stderr",
     "output_type": "stream",
     "text": [
      "[Parallel(n_jobs=2)]: Using backend ThreadingBackend with 2 concurrent workers.\n",
      "[Parallel(n_jobs=2)]: Done  30 out of  30 | elapsed:    0.0s finished\n"
     ]
    },
    {
     "data": {
      "text/plain": [
       "0.6761904761904765"
      ]
     },
     "execution_count": 51,
     "metadata": {},
     "output_type": "execute_result"
    }
   ],
   "source": [
    "mse(yunet_test, loaded_model.predict(Xunet_test))"
   ]
  },
  {
   "cell_type": "code",
   "execution_count": 52,
   "metadata": {},
   "outputs": [
    {
     "name": "stderr",
     "output_type": "stream",
     "text": [
      "[Parallel(n_jobs=2)]: Using backend ThreadingBackend with 2 concurrent workers.\n",
      "[Parallel(n_jobs=2)]: Done  30 out of  30 | elapsed:    0.0s finished\n"
     ]
    },
    {
     "data": {
      "text/plain": [
       "array([20.5       , 20.66666667, 21.        , 20.66666667, 21.        ,\n",
       "       20.66666667, 20.83333333, 20.16666667, 21.16666667, 20.66666667,\n",
       "       20.83333333, 20.66666667, 21.33333333, 21.        , 21.        ,\n",
       "       20.66666667, 20.66666667, 20.83333333, 20.83333333, 21.        ,\n",
       "       20.66666667, 20.66666667, 21.16666667, 20.5       , 20.66666667,\n",
       "       20.66666667, 20.83333333, 20.83333333, 21.        , 20.16666667,\n",
       "       21.        , 20.83333333, 21.16666667, 20.5       , 20.5       ])"
      ]
     },
     "execution_count": 52,
     "metadata": {},
     "output_type": "execute_result"
    }
   ],
   "source": [
    "loaded_model.predict(Xunet_test)"
   ]
  },
  {
   "cell_type": "code",
   "execution_count": 53,
   "metadata": {},
   "outputs": [
    {
     "data": {
      "text/plain": [
       "30"
      ]
     },
     "execution_count": 53,
     "metadata": {},
     "output_type": "execute_result"
    }
   ],
   "source": [
    "loaded_model.n_estimators"
   ]
  },
  {
   "cell_type": "code",
   "execution_count": null,
   "metadata": {},
   "outputs": [],
   "source": [
    "loadeda_model.max_de"
   ]
  }
 ],
 "metadata": {
  "kernelspec": {
   "display_name": "Python 3",
   "language": "python",
   "name": "python3"
  },
  "language_info": {
   "codemirror_mode": {
    "name": "ipython",
    "version": 3
   },
   "file_extension": ".py",
   "mimetype": "text/x-python",
   "name": "python",
   "nbconvert_exporter": "python",
   "pygments_lexer": "ipython3",
   "version": "3.6.7"
  }
 },
 "nbformat": 4,
 "nbformat_minor": 2
}
