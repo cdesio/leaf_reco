{
 "cells": [
  {
   "cell_type": "code",
   "execution_count": 1,
   "metadata": {},
   "outputs": [],
   "source": [
    "import numpy as np\n",
    "from sklearn.externals import joblib\n",
    "from sklearn.ensemble import RandomForestRegressor\n",
    "import os\n",
    "from sklearn.metrics import mean_squared_error, mean_absolute_error\n",
    "import matplotlib.pyplot as plt\n",
    "from sklearn.model_selection import train_test_split"
   ]
  },
  {
   "cell_type": "code",
   "execution_count": 2,
   "metadata": {},
   "outputs": [],
   "source": [
    "data_dir = '/storage/yw18581/data/'\n",
    "data_folder = os.path.join(data_dir, 'train_validation_test')"
   ]
  },
  {
   "cell_type": "code",
   "execution_count": 3,
   "metadata": {},
   "outputs": [],
   "source": [
    "unet_dir = os.path.join(data_dir, \"trained_models\",\n",
    "                        \"UNet_training_generator_1500epochs\")"
   ]
  },
  {
   "cell_type": "code",
   "execution_count": 4,
   "metadata": {},
   "outputs": [],
   "source": [
    "def cut_X(arr, reshape = None):\n",
    "    x_cut = arr[:,960:1300,600:]\n",
    "    if reshape:\n",
    "        if len(x_cut.shape)>3:\n",
    "            x_cut = x_cut[...,0]\n",
    "            x_cut_out = x_cut.reshape(x_cut.shape[0],x_cut.shape[1]*x_cut.shape[2])\n",
    "    else:\n",
    "        x_cut_out = x_cut\n",
    "    return x_cut_out\n",
    "\n",
    "def reshape_RF(arr):\n",
    "    arr_RF = arr.reshape((arr.shape[0], arr.shape[1]*arr.shape[2]))\n",
    "    return arr_RF"
   ]
  },
  {
   "cell_type": "code",
   "execution_count": 5,
   "metadata": {},
   "outputs": [],
   "source": [
    "def cut_reshape(arr):\n",
    "    arr_cut = cut_X(arr)\n",
    "    arr_RF = reshape_RF(arr_cut)\n",
    "    return arr_RF"
   ]
  },
  {
   "cell_type": "code",
   "execution_count": 6,
   "metadata": {},
   "outputs": [],
   "source": [
    "def import_and_split(pos):\n",
    "    Xy = np.load(os.path.join(data_folder,\"Xy_\"+pos+\"_clean.npz\"))\n",
    "    X = Xy[\"y\"]\n",
    "    y = Xy[\"dist\"]\n",
    "    X_RF = cut_reshape(X)\n",
    "    indices = np.arange(len(X))\n",
    "    training_indices, test_indices = train_test_split(indices,test_size=0.20, random_state=42)\n",
    "    np.savez_compressed(os.path.join(data_folder,\"RF_train_test_indices_80_20_\"+pos+\"_clean.npz\"), \n",
    "                    train=training_indices, test=test_indices)\n",
    "    X_RF_train = X_RF[training_indices]\n",
    "    y_train = y[training_indices]\n",
    "    X_RF_test = X_RF[test_indices]\n",
    "    y_test = y[test_indices]\n",
    "    return X_RF_train, y_train, X_RF_test, y_test"
   ]
  },
  {
   "cell_type": "code",
   "execution_count": 7,
   "metadata": {},
   "outputs": [],
   "source": [
    "X_1mm_cl_RF_train, y_1mm_cl_train, X_1mm_cl_RF_test, y_1mm_cl_test  = import_and_split(\"1mm\")"
   ]
  },
  {
   "cell_type": "code",
   "execution_count": 8,
   "metadata": {},
   "outputs": [],
   "source": [
    "X_2mm_cl_RF_train, y_2mm_cl_train, X_2mm_cl_RF_test, y_2mm_cl_test = import_and_split(\"2mm\")"
   ]
  },
  {
   "cell_type": "code",
   "execution_count": 9,
   "metadata": {},
   "outputs": [],
   "source": [
    "X_3mm_cl_RF_train, y_3mm_cl_train, X_3mm_cl_RF_test, y_3mm_cl_test = import_and_split(\"3mm\")\n"
   ]
  },
  {
   "cell_type": "code",
   "execution_count": 10,
   "metadata": {},
   "outputs": [],
   "source": [
    "X_4mm_cl_RF_train, y_4mm_cl_train, X_4mm_cl_RF_test, y_4mm_cl_test= import_and_split(\"4mm\")"
   ]
  },
  {
   "cell_type": "code",
   "execution_count": 11,
   "metadata": {},
   "outputs": [],
   "source": [
    "X_10mm_cl_RF_train, y_10mm_cl_train, X_10mm_cl_RF_test, y_10mm_cl_test = import_and_split(\"10mm\")"
   ]
  },
  {
   "cell_type": "code",
   "execution_count": 12,
   "metadata": {},
   "outputs": [],
   "source": [
    "X_15mm_cl_RF_train, y_15mm_cl_train, X_15mm_cl_RF_test, y_15mm_cl_test = import_and_split(\"15mm\")"
   ]
  },
  {
   "cell_type": "code",
   "execution_count": 13,
   "metadata": {},
   "outputs": [],
   "source": [
    "X_20mm_cl_RF_train, y_20mm_cl_train, X_20mm_cl_RF_test, y_20mm_cl_test = import_and_split(\"20mm\")"
   ]
  },
  {
   "cell_type": "code",
   "execution_count": 14,
   "metadata": {},
   "outputs": [],
   "source": [
    "X_25mm_cl_RF_train, y_25mm_cl_train, X_25mm_cl_RF_test, y_25mm_cl_test = import_and_split(\"25mm\")"
   ]
  },
  {
   "cell_type": "code",
   "execution_count": 15,
   "metadata": {},
   "outputs": [],
   "source": [
    "X_30mm_cl_RF_train, y_30mm_cl_train, X_30mm_cl_RF_test, y_30mm_cl_test = import_and_split(\"30mm\")"
   ]
  },
  {
   "cell_type": "code",
   "execution_count": 16,
   "metadata": {},
   "outputs": [],
   "source": [
    "X_35mm_cl_RF_train, y_35mm_cl_train, X_35mm_cl_RF_test, y_35mm_cl_test = import_and_split(\"35mm\")"
   ]
  },
  {
   "cell_type": "code",
   "execution_count": 17,
   "metadata": {},
   "outputs": [],
   "source": [
    "X_train = np.vstack((X_1mm_cl_RF_train, X_2mm_cl_RF_train, X_3mm_cl_RF_train, X_4mm_cl_RF_train, X_10mm_cl_RF_train,\n",
    "              X_15mm_cl_RF_train, X_20mm_cl_RF_train, X_25mm_cl_RF_train, X_30mm_cl_RF_train, X_35mm_cl_RF_train))"
   ]
  },
  {
   "cell_type": "code",
   "execution_count": 18,
   "metadata": {},
   "outputs": [],
   "source": [
    "y_train =  np.hstack((y_1mm_cl_train, y_2mm_cl_train, y_3mm_cl_train, y_4mm_cl_train, y_10mm_cl_train, \n",
    "                     y_15mm_cl_train, y_20mm_cl_train, y_25mm_cl_train, y_30mm_cl_train, y_35mm_cl_train))"
   ]
  },
  {
   "cell_type": "code",
   "execution_count": 244,
   "metadata": {},
   "outputs": [],
   "source": [
    "rf30 = RandomForestRegressor(random_state=42, n_estimators=30,n_jobs=2, verbose=2)"
   ]
  },
  {
   "cell_type": "code",
   "execution_count": 22,
   "metadata": {},
   "outputs": [
    {
     "name": "stderr",
     "output_type": "stream",
     "text": [
      "[Parallel(n_jobs=2)]: Using backend ThreadingBackend with 2 concurrent workers.\n"
     ]
    },
    {
     "name": "stdout",
     "output_type": "stream",
     "text": [
      "building tree 1 of 30building tree 2 of 30\n",
      "\n",
      "building tree 3 of 30\n",
      "building tree 4 of 30\n",
      "building tree 5 of 30\n",
      "building tree 6 of 30\n",
      "building tree 7 of 30\n",
      "building tree 8 of 30\n",
      "building tree 9 of 30\n",
      "building tree 10 of 30\n",
      "building tree 11 of 30\n",
      "building tree 12 of 30\n",
      "building tree 13 of 30\n",
      "building tree 14 of 30\n",
      "building tree 15 of 30\n",
      "building tree 16 of 30\n",
      "building tree 17 of 30\n",
      "building tree 18 of 30\n",
      "building tree 19 of 30\n",
      "building tree 20 of 30\n",
      "building tree 21 of 30\n",
      "building tree 22 of 30\n",
      "building tree 23 of 30\n",
      "building tree 24 of 30\n",
      "building tree 25 of 30\n",
      "building tree 26 of 30\n",
      "building tree 27 of 30\n",
      "building tree 28 of 30\n",
      "building tree 29 of 30\n",
      "building tree 30 of 30\n"
     ]
    },
    {
     "name": "stderr",
     "output_type": "stream",
     "text": [
      "[Parallel(n_jobs=2)]: Done  30 out of  30 | elapsed:  2.8min finished\n"
     ]
    },
    {
     "data": {
      "text/plain": [
       "RandomForestRegressor(bootstrap=True, criterion='mse', max_depth=None,\n",
       "           max_features='auto', max_leaf_nodes=None,\n",
       "           min_impurity_decrease=0.0, min_impurity_split=None,\n",
       "           min_samples_leaf=1, min_samples_split=2,\n",
       "           min_weight_fraction_leaf=0.0, n_estimators=30, n_jobs=2,\n",
       "           oob_score=False, random_state=42, verbose=2, warm_start=False)"
      ]
     },
     "execution_count": 22,
     "metadata": {},
     "output_type": "execute_result"
    }
   ],
   "source": [
    "rf30.fit(X_train, y_train)"
   ]
  },
  {
   "cell_type": "code",
   "execution_count": 23,
   "metadata": {},
   "outputs": [],
   "source": [
    "np.savez_compressed(os.path.join(data_dir,\"RF30_trained_model_clean_data.npz\"),rf = rf30)"
   ]
  },
  {
   "cell_type": "code",
   "execution_count": 207,
   "metadata": {},
   "outputs": [],
   "source": [
    "X_test = np.vstack((X_1mm_cl_RF_test, X_2mm_cl_RF_test, X_3mm_cl_RF_test, X_4mm_cl_RF_test, X_10mm_cl_RF_test,\n",
    "              X_15mm_cl_RF_test, X_20mm_cl_RF_test, X_25mm_cl_RF_test, X_30mm_cl_RF_test, X_35mm_cl_RF_test))\n",
    "\n",
    "y_test =  np.hstack((y_1mm_cl_test, y_2mm_cl_test, y_3mm_cl_test, y_4mm_cl_test, y_10mm_cl_test, \n",
    "                     y_15mm_cl_test, y_20mm_cl_test, y_25mm_cl_test, y_30mm_cl_test, y_35mm_cl_test))"
   ]
  },
  {
   "cell_type": "code",
   "execution_count": 172,
   "metadata": {},
   "outputs": [
    {
     "name": "stderr",
     "output_type": "stream",
     "text": [
      "[Parallel(n_jobs=2)]: Using backend ThreadingBackend with 2 concurrent workers.\n",
      "[Parallel(n_jobs=2)]: Done  30 out of  30 | elapsed:    0.0s finished\n"
     ]
    }
   ],
   "source": [
    "test_preds = rf30.predict(X_test)"
   ]
  },
  {
   "cell_type": "code",
   "execution_count": 173,
   "metadata": {},
   "outputs": [
    {
     "data": {
      "text/plain": [
       "0.014969474969474972"
      ]
     },
     "execution_count": 173,
     "metadata": {},
     "output_type": "execute_result"
    }
   ],
   "source": [
    "mean_squared_error(test_preds, y_test)"
   ]
  },
  {
   "cell_type": "code",
   "execution_count": 160,
   "metadata": {},
   "outputs": [
    {
     "name": "stderr",
     "output_type": "stream",
     "text": [
      "[Parallel(n_jobs=2)]: Using backend ThreadingBackend with 2 concurrent workers.\n",
      "[Parallel(n_jobs=2)]: Done  30 out of  30 | elapsed:    0.0s finished\n"
     ]
    },
    {
     "data": {
      "text/plain": [
       "array([1.        , 1.        , 1.        , 1.        , 1.        ,\n",
       "       1.        , 1.        , 1.        , 1.        , 1.        ,\n",
       "       1.        , 1.        , 1.        , 1.        , 1.        ,\n",
       "       1.        , 1.        , 1.        , 1.        , 1.        ,\n",
       "       1.        , 1.03333333, 1.        , 1.        , 1.        ,\n",
       "       1.        , 1.        , 1.        , 1.        , 1.        ,\n",
       "       1.        , 1.        , 1.        , 1.        , 1.06666667])"
      ]
     },
     "execution_count": 160,
     "metadata": {},
     "output_type": "execute_result"
    }
   ],
   "source": [
    "rf30.predict(X_1mm_cl_RF_test)"
   ]
  },
  {
   "cell_type": "code",
   "execution_count": 161,
   "metadata": {},
   "outputs": [
    {
     "name": "stderr",
     "output_type": "stream",
     "text": [
      "[Parallel(n_jobs=2)]: Using backend ThreadingBackend with 2 concurrent workers.\n",
      "[Parallel(n_jobs=2)]: Done  30 out of  30 | elapsed:    0.0s finished\n"
     ]
    },
    {
     "data": {
      "text/plain": [
       "array([2.3       , 1.93333333, 2.43333333, 2.        , 2.        ,\n",
       "       2.        , 2.        , 2.        , 2.        , 2.        ,\n",
       "       2.33333333, 2.03333333, 2.06666667, 2.1       , 2.        ,\n",
       "       2.        , 2.06666667, 2.        , 2.06666667, 1.96666667,\n",
       "       2.        , 2.        , 2.16666667, 2.1       , 2.        ,\n",
       "       2.        , 2.        , 1.93333333, 1.93333333, 2.06666667,\n",
       "       2.        , 2.        , 2.23333333, 2.03333333, 2.06666667,\n",
       "       2.1       , 2.03333333, 2.        , 2.        , 2.        ,\n",
       "       2.        , 2.        , 1.96666667, 2.        , 2.        ,\n",
       "       2.        , 2.        , 2.        , 2.        , 1.36666667,\n",
       "       2.        , 2.        , 2.36666667, 2.        , 2.        ,\n",
       "       2.43333333, 2.03333333, 2.        , 2.        , 2.        ])"
      ]
     },
     "execution_count": 161,
     "metadata": {},
     "output_type": "execute_result"
    }
   ],
   "source": [
    "rf30.predict(X_2mm_cl_RF_test)"
   ]
  },
  {
   "cell_type": "code",
   "execution_count": 162,
   "metadata": {},
   "outputs": [
    {
     "name": "stderr",
     "output_type": "stream",
     "text": [
      "[Parallel(n_jobs=2)]: Using backend ThreadingBackend with 2 concurrent workers.\n",
      "[Parallel(n_jobs=2)]: Done  30 out of  30 | elapsed:    0.0s finished\n"
     ]
    },
    {
     "data": {
      "text/plain": [
       "array([3.1       , 2.9       , 2.8       , 3.1       , 3.        ,\n",
       "       3.        , 2.8       , 3.        , 3.03333333, 3.        ,\n",
       "       2.93333333, 2.93333333, 3.        , 2.93333333, 3.        ,\n",
       "       3.        , 3.        , 2.76666667, 3.        , 3.        ,\n",
       "       3.        , 3.        , 2.9       , 3.        , 3.        ,\n",
       "       2.83333333, 2.86666667, 3.        , 3.        , 2.96666667,\n",
       "       2.7       , 3.        , 3.        , 3.        ])"
      ]
     },
     "execution_count": 162,
     "metadata": {},
     "output_type": "execute_result"
    }
   ],
   "source": [
    "rf30.predict(X_3mm_cl_RF_test)"
   ]
  },
  {
   "cell_type": "code",
   "execution_count": 163,
   "metadata": {},
   "outputs": [
    {
     "name": "stderr",
     "output_type": "stream",
     "text": [
      "[Parallel(n_jobs=2)]: Using backend ThreadingBackend with 2 concurrent workers.\n",
      "[Parallel(n_jobs=2)]: Done  30 out of  30 | elapsed:    0.0s finished\n"
     ]
    },
    {
     "data": {
      "text/plain": [
       "array([4.        , 3.93333333, 4.        , 3.6       , 4.        ,\n",
       "       4.        , 4.        , 3.93333333, 4.        , 4.        ,\n",
       "       4.        , 3.53333333, 4.        , 4.        , 4.        ,\n",
       "       3.8       , 4.        , 3.86666667, 4.        , 4.        ,\n",
       "       3.73333333, 4.        , 4.        , 4.        , 4.        ,\n",
       "       4.        , 4.        , 3.96666667, 4.        , 4.        ,\n",
       "       3.96666667, 4.        , 4.        ])"
      ]
     },
     "execution_count": 163,
     "metadata": {},
     "output_type": "execute_result"
    }
   ],
   "source": [
    "rf30.predict(X_4mm_cl_RF_test)"
   ]
  },
  {
   "cell_type": "code",
   "execution_count": 164,
   "metadata": {},
   "outputs": [
    {
     "name": "stderr",
     "output_type": "stream",
     "text": [
      "[Parallel(n_jobs=2)]: Using backend ThreadingBackend with 2 concurrent workers.\n",
      "[Parallel(n_jobs=2)]: Done  30 out of  30 | elapsed:    0.0s finished\n"
     ]
    },
    {
     "data": {
      "text/plain": [
       "array([10.        , 10.        , 10.        , 10.16666667, 10.        ,\n",
       "       10.        , 10.        , 10.        , 10.        , 10.        ,\n",
       "       10.        , 10.        , 10.        , 10.        , 10.        ,\n",
       "       10.        , 10.        , 10.        , 10.        , 10.        ,\n",
       "       10.        , 10.        , 10.        , 10.        , 10.16666667,\n",
       "       10.        , 10.        , 10.        , 10.        , 10.        ,\n",
       "       10.        , 10.        , 10.16666667])"
      ]
     },
     "execution_count": 164,
     "metadata": {},
     "output_type": "execute_result"
    }
   ],
   "source": [
    "rf30.predict(X_10mm_cl_RF_test)"
   ]
  },
  {
   "cell_type": "code",
   "execution_count": 165,
   "metadata": {},
   "outputs": [
    {
     "name": "stderr",
     "output_type": "stream",
     "text": [
      "[Parallel(n_jobs=2)]: Using backend ThreadingBackend with 2 concurrent workers.\n",
      "[Parallel(n_jobs=2)]: Done  30 out of  30 | elapsed:    0.0s finished\n"
     ]
    },
    {
     "data": {
      "text/plain": [
       "array([15.        , 15.        , 15.        , 15.        , 15.        ,\n",
       "       15.        , 15.        , 14.83333333, 15.        , 15.        ,\n",
       "       15.        , 15.        , 15.        , 15.        , 15.16666667,\n",
       "       15.        , 15.        , 15.        , 15.        , 15.        ,\n",
       "       15.        , 15.        , 15.        , 15.        , 15.        ,\n",
       "       15.        , 15.        , 15.        , 15.        , 15.        ,\n",
       "       15.        , 15.        , 15.        , 15.        , 15.        ,\n",
       "       15.        , 15.        , 15.        , 15.        , 15.        ,\n",
       "       15.        , 15.        , 15.        , 15.        , 15.        ,\n",
       "       15.        , 15.        , 15.        , 15.        , 15.        ,\n",
       "       15.        , 15.        , 15.        , 15.        , 15.16666667,\n",
       "       15.        , 15.        , 15.        , 15.        , 15.        ])"
      ]
     },
     "execution_count": 165,
     "metadata": {},
     "output_type": "execute_result"
    }
   ],
   "source": [
    "rf30.predict(X_15mm_cl_RF_test)"
   ]
  },
  {
   "cell_type": "code",
   "execution_count": 167,
   "metadata": {},
   "outputs": [
    {
     "name": "stderr",
     "output_type": "stream",
     "text": [
      "[Parallel(n_jobs=2)]: Using backend ThreadingBackend with 2 concurrent workers.\n",
      "[Parallel(n_jobs=2)]: Done  30 out of  30 | elapsed:    0.0s finished\n"
     ]
    },
    {
     "data": {
      "text/plain": [
       "array([20.        , 19.83333333, 20.        , 20.        , 20.        ,\n",
       "       19.66666667, 20.        , 20.        , 20.        , 20.        ,\n",
       "       20.        , 19.83333333, 20.        , 20.        , 20.        ,\n",
       "       20.        , 20.        , 20.        , 20.        , 20.        ,\n",
       "       20.        , 19.33333333, 20.        , 20.        , 20.        ,\n",
       "       20.        , 20.        , 20.        , 20.        , 20.        ,\n",
       "       20.        , 20.        , 20.        , 20.16666667, 20.        ])"
      ]
     },
     "execution_count": 167,
     "metadata": {},
     "output_type": "execute_result"
    }
   ],
   "source": [
    "rf30.predict(X_20mm_cl_RF_test)"
   ]
  },
  {
   "cell_type": "code",
   "execution_count": 168,
   "metadata": {},
   "outputs": [
    {
     "name": "stderr",
     "output_type": "stream",
     "text": [
      "[Parallel(n_jobs=2)]: Using backend ThreadingBackend with 2 concurrent workers.\n",
      "[Parallel(n_jobs=2)]: Done  30 out of  30 | elapsed:    0.0s finished\n"
     ]
    },
    {
     "data": {
      "text/plain": [
       "array([25.        , 25.        , 25.        , 25.        , 25.        ,\n",
       "       25.        , 25.        , 25.        , 25.        , 25.        ,\n",
       "       25.        , 25.        , 25.        , 24.5       , 25.        ,\n",
       "       25.        , 25.        , 25.        , 25.        , 25.        ,\n",
       "       25.        , 25.        , 25.        , 25.        , 25.        ,\n",
       "       25.        , 25.        , 25.        , 25.        , 25.        ,\n",
       "       25.        , 25.        , 25.        , 25.        , 25.        ,\n",
       "       24.83333333, 25.        , 25.        ])"
      ]
     },
     "execution_count": 168,
     "metadata": {},
     "output_type": "execute_result"
    }
   ],
   "source": [
    "rf30.predict(X_25mm_cl_RF_test)"
   ]
  },
  {
   "cell_type": "code",
   "execution_count": 169,
   "metadata": {},
   "outputs": [
    {
     "name": "stderr",
     "output_type": "stream",
     "text": [
      "[Parallel(n_jobs=2)]: Using backend ThreadingBackend with 2 concurrent workers.\n",
      "[Parallel(n_jobs=2)]: Done  30 out of  30 | elapsed:    0.0s finished\n"
     ]
    },
    {
     "data": {
      "text/plain": [
       "array([30.        , 30.        , 30.        , 32.5       , 30.        ,\n",
       "       30.        , 30.        , 29.83333333, 30.        , 30.        ,\n",
       "       30.        , 30.        , 30.        , 30.16666667, 30.        ,\n",
       "       30.        , 30.        , 30.        , 30.        , 30.        ,\n",
       "       30.        , 30.        , 30.        , 29.83333333, 30.        ,\n",
       "       30.        , 30.        , 30.        , 30.        , 30.        ,\n",
       "       30.        , 30.        , 30.        , 30.        , 30.        ,\n",
       "       30.        , 30.        ])"
      ]
     },
     "execution_count": 169,
     "metadata": {},
     "output_type": "execute_result"
    }
   ],
   "source": [
    "rf30.predict(X_30mm_cl_RF_test)"
   ]
  },
  {
   "cell_type": "code",
   "execution_count": 170,
   "metadata": {},
   "outputs": [
    {
     "name": "stderr",
     "output_type": "stream",
     "text": [
      "[Parallel(n_jobs=2)]: Using backend ThreadingBackend with 2 concurrent workers.\n",
      "[Parallel(n_jobs=2)]: Done  30 out of  30 | elapsed:    0.0s finished\n"
     ]
    },
    {
     "data": {
      "text/plain": [
       "array([35. , 35. , 35. , 35. , 35. , 35. , 35. , 35. , 35. , 35. , 35. ,\n",
       "       35. , 35. , 35. , 35. , 35. , 35. , 35. , 35. , 35. , 35. , 35. ,\n",
       "       33.5, 35. , 35. , 35. , 35. , 35. , 35. , 35. , 35. , 35. , 35. ,\n",
       "       35. , 35. , 35. ])"
      ]
     },
     "execution_count": 170,
     "metadata": {},
     "output_type": "execute_result"
    }
   ],
   "source": [
    "rf30.predict(X_35mm_cl_RF_test)"
   ]
  },
  {
   "cell_type": "code",
   "execution_count": 179,
   "metadata": {},
   "outputs": [],
   "source": [
    "def import_and_split_UNet(pos):\n",
    "    Xy = np.load(os.path.join(unet_dir,\"Xy_\"+pos+\"_clean_predicted_UNet.npz\"))\n",
    "    X = Xy[\"y\"]\n",
    "    y = Xy[\"dist\"]\n",
    "    X_RF = cut_reshape(X)\n",
    "    indices = np.load(os.path.join(data_folder,\"RF_train_test_indices_80_20_\"+pos+\"_clean.npz\"))\n",
    "    training_indices = indices[\"train\"]\n",
    "    test_indices = indices[\"test\"]\n",
    "    X_RF_train = X_RF[training_indices]\n",
    "    y_train = y[training_indices]\n",
    "    X_RF_test = X_RF[test_indices]\n",
    "    y_test = y[test_indices]\n",
    "    return X_RF_train, y_train, X_RF_test, y_test"
   ]
  },
  {
   "cell_type": "code",
   "execution_count": 180,
   "metadata": {},
   "outputs": [],
   "source": [
    "X_1mm_cl_UNet_RF_train, y_1mm_cl_UNet_train, X_1mm_cl_UNet_RF_test, y_1mm_cl_UNet_test  = import_and_split_UNet(\"1mm\")"
   ]
  },
  {
   "cell_type": "code",
   "execution_count": 181,
   "metadata": {},
   "outputs": [],
   "source": [
    "X_2mm_cl_UNet_RF_train, y_2mm_cl_UNet_train, X_2mm_cl_UNet_RF_test, y_2mm_cl_UNet_test  = import_and_split_UNet(\"2mm\")"
   ]
  },
  {
   "cell_type": "code",
   "execution_count": 182,
   "metadata": {},
   "outputs": [],
   "source": [
    "X_3mm_cl_UNet_RF_train, y_3mm_cl_UNet_train, X_3mm_cl_UNet_RF_test, y_3mm_cl_UNet_test  = import_and_split_UNet(\"3mm\")"
   ]
  },
  {
   "cell_type": "code",
   "execution_count": 183,
   "metadata": {},
   "outputs": [],
   "source": [
    "X_4mm_cl_UNet_RF_train, y_4mm_cl_UNet_train, X_4mm_cl_UNet_RF_test, y_4mm_cl_UNet_test  = import_and_split_UNet(\"4mm\")"
   ]
  },
  {
   "cell_type": "code",
   "execution_count": 184,
   "metadata": {},
   "outputs": [],
   "source": [
    "X_10mm_cl_UNet_RF_train, y_10mm_cl_UNet_train, X_10mm_cl_UNet_RF_test, y_10mm_cl_UNet_test  = import_and_split_UNet(\"10mm\")"
   ]
  },
  {
   "cell_type": "code",
   "execution_count": 185,
   "metadata": {},
   "outputs": [],
   "source": [
    "X_15mm_cl_UNet_RF_train, y_15mm_cl_UNet_train, X_15mm_cl_UNet_RF_test, y_15mm_cl_UNet_test  = import_and_split_UNet(\"15mm\")"
   ]
  },
  {
   "cell_type": "code",
   "execution_count": 186,
   "metadata": {},
   "outputs": [],
   "source": [
    "X_20mm_cl_UNet_RF_train, y_20mm_cl_UNet_train, X_20mm_cl_UNet_RF_test, y_20mm_cl_UNet_test  = import_and_split_UNet(\"20mm\")"
   ]
  },
  {
   "cell_type": "code",
   "execution_count": 187,
   "metadata": {},
   "outputs": [],
   "source": [
    "X_25mm_cl_UNet_RF_train, y_25mm_cl_UNet_train, X_25mm_cl_UNet_RF_test, y_25mm_cl_UNet_test  = import_and_split_UNet(\"25mm\")"
   ]
  },
  {
   "cell_type": "code",
   "execution_count": 188,
   "metadata": {},
   "outputs": [],
   "source": [
    "X_30mm_cl_UNet_RF_train, y_30mm_cl_UNet_train, X_30mm_cl_UNet_RF_test, y_30mm_cl_UNet_test  = import_and_split_UNet(\"30mm\")"
   ]
  },
  {
   "cell_type": "code",
   "execution_count": 189,
   "metadata": {},
   "outputs": [],
   "source": [
    "X_35mm_cl_UNet_RF_train, y_35mm_cl_UNet_train, X_35mm_cl_UNet_RF_test, y_35mm_cl_UNet_test  = import_and_split_UNet(\"35mm\")"
   ]
  },
  {
   "cell_type": "code",
   "execution_count": 206,
   "metadata": {},
   "outputs": [],
   "source": [
    "X_UNet_test = np.vstack((X_1mm_cl_UNet_RF_test, X_2mm_cl_UNet_RF_test, X_3mm_cl_UNet_RF_test, X_4mm_cl_UNet_RF_test, X_10mm_cl_UNet_RF_test,\n",
    "              X_15mm_cl_UNet_RF_test, X_20mm_cl_UNet_RF_test, X_25mm_cl_UNet_RF_test, X_30mm_cl_UNet_RF_test, X_35mm_cl_UNet_RF_test))\n",
    "\n",
    "y_UNet_test =  np.hstack((y_1mm_cl_UNet_test, y_2mm_cl_UNet_test, y_3mm_cl_UNet_test, y_4mm_cl_UNet_test, y_10mm_cl_UNet_test, \n",
    "                     y_15mm_cl_UNet_test, y_20mm_cl_UNet_test, y_25mm_cl_UNet_test, y_30mm_cl_UNet_test, y_35mm_cl_UNet_test))"
   ]
  },
  {
   "cell_type": "code",
   "execution_count": 191,
   "metadata": {},
   "outputs": [
    {
     "name": "stderr",
     "output_type": "stream",
     "text": [
      "[Parallel(n_jobs=2)]: Using backend ThreadingBackend with 2 concurrent workers.\n",
      "[Parallel(n_jobs=2)]: Done  30 out of  30 | elapsed:    0.0s finished\n"
     ]
    }
   ],
   "source": [
    "test_UNet_preds = rf30.predict(X_UNet_test)"
   ]
  },
  {
   "cell_type": "code",
   "execution_count": 192,
   "metadata": {},
   "outputs": [
    {
     "data": {
      "text/plain": [
       "0.2230189255189255"
      ]
     },
     "execution_count": 192,
     "metadata": {},
     "output_type": "execute_result"
    }
   ],
   "source": [
    "mean_squared_error(test_UNet_preds, y_UNet_test)"
   ]
  },
  {
   "cell_type": "code",
   "execution_count": 193,
   "metadata": {},
   "outputs": [
    {
     "data": {
      "text/plain": [
       "array([ 1.        ,  1.        ,  1.        ,  1.        ,  1.06666667,\n",
       "        1.        ,  1.        ,  1.        ,  1.        ,  1.1       ,\n",
       "        1.        ,  1.        ,  1.        ,  1.16666667,  1.        ,\n",
       "        1.        ,  1.        ,  1.        ,  1.        ,  1.13333333,\n",
       "        1.        ,  1.        ,  1.3       ,  1.        ,  1.13333333,\n",
       "        1.        ,  1.        ,  1.        ,  1.03333333,  1.        ,\n",
       "        1.        ,  1.        ,  1.        ,  1.        ,  1.        ,\n",
       "        3.        ,  2.        ,  2.9       ,  2.16666667,  2.53333333,\n",
       "        2.        ,  2.1       ,  2.06666667,  2.        ,  2.        ,\n",
       "        2.        ,  2.13333333,  2.06666667,  2.8       ,  2.        ,\n",
       "        2.        ,  2.        ,  2.        ,  2.8       ,  2.        ,\n",
       "        2.        ,  2.        ,  3.        ,  2.73333333,  2.06666667,\n",
       "        2.        ,  2.06666667,  2.2       ,  2.06666667,  2.93333333,\n",
       "        2.        ,  2.53333333,  2.7       ,  3.        ,  2.        ,\n",
       "        2.8       ,  2.73333333,  2.13333333,  2.        ,  2.03333333,\n",
       "        2.06666667,  2.        ,  2.1       ,  2.        ,  2.16666667,\n",
       "        2.96666667,  2.        ,  2.36666667,  2.        ,  2.06666667,\n",
       "        2.        ,  2.9       ,  3.        ,  2.46666667,  2.        ,\n",
       "        2.76666667,  2.2       ,  2.        ,  2.13333333,  2.06666667,\n",
       "        3.5       ,  3.13333333,  3.53333333,  3.56666667,  3.63333333,\n",
       "        3.7       ,  3.03333333,  3.        ,  3.8       ,  3.7       ,\n",
       "        3.26666667,  3.63333333,  3.56666667,  3.36666667,  3.86666667,\n",
       "        3.7       ,  3.6       ,  3.43333333,  3.63333333,  3.6       ,\n",
       "        3.56666667,  3.        ,  3.8       ,  3.6       ,  3.66666667,\n",
       "        3.23333333,  3.3       ,  3.53333333,  3.1       ,  3.8       ,\n",
       "        3.33333333,  3.23333333,  3.43333333,  3.8       ,  4.33333333,\n",
       "        3.96666667,  4.        ,  3.9       ,  4.2       ,  4.16666667,\n",
       "        4.2       ,  3.86666667,  4.03333333,  4.36666667,  3.86666667,\n",
       "        3.9       ,  3.63333333,  4.1       ,  4.        ,  3.9       ,\n",
       "        4.36666667,  4.        ,  3.96666667,  4.26666667,  4.03333333,\n",
       "        3.83333333,  3.9       ,  3.9       ,  3.96666667,  3.76666667,\n",
       "        3.93333333,  3.76666667,  3.96666667,  4.13333333,  3.73333333,\n",
       "        4.2       ,  4.2       , 10.66666667, 10.33333333, 10.66666667,\n",
       "       10.5       , 10.16666667, 10.33333333, 10.33333333, 10.33333333,\n",
       "       10.66666667, 10.66666667, 10.33333333, 10.33333333, 10.        ,\n",
       "       10.5       , 11.        , 10.5       , 10.33333333, 10.33333333,\n",
       "       10.        , 10.33333333, 10.83333333, 10.16666667, 10.16666667,\n",
       "       10.33333333, 10.33333333, 10.16666667, 10.        , 10.66666667,\n",
       "       10.        , 10.66666667, 10.33333333, 10.33333333, 10.16666667,\n",
       "       15.16666667, 15.        , 15.        , 15.33333333, 15.        ,\n",
       "       15.        , 15.33333333, 15.66666667, 15.33333333, 15.        ,\n",
       "       15.        , 15.        , 15.83333333, 15.16666667, 15.33333333,\n",
       "       15.5       , 15.16666667, 15.16666667, 15.66666667, 15.        ,\n",
       "       15.        , 15.83333333, 15.16666667, 15.        , 15.        ,\n",
       "       15.66666667, 15.5       , 15.        , 15.        , 15.        ,\n",
       "       15.        , 15.66666667, 15.16666667, 15.16666667, 15.33333333,\n",
       "       15.33333333, 15.16666667, 15.33333333, 15.        , 15.        ,\n",
       "       15.5       , 15.66666667, 15.        , 15.16666667, 15.16666667,\n",
       "       15.66666667, 15.        , 15.16666667, 15.        , 15.16666667,\n",
       "       15.16666667, 15.        , 15.33333333, 15.        , 15.66666667,\n",
       "       15.5       , 15.16666667, 15.16666667, 15.        , 15.16666667,\n",
       "       20.5       , 20.66666667, 21.        , 20.66666667, 21.        ,\n",
       "       20.66666667, 20.83333333, 20.16666667, 21.16666667, 20.66666667,\n",
       "       20.83333333, 20.66666667, 21.33333333, 21.        , 21.        ,\n",
       "       20.66666667, 20.66666667, 20.83333333, 20.83333333, 21.        ,\n",
       "       20.66666667, 20.66666667, 21.16666667, 20.5       , 20.66666667,\n",
       "       20.66666667, 20.83333333, 20.83333333, 21.        , 20.16666667,\n",
       "       21.        , 20.83333333, 21.16666667, 20.5       , 20.5       ,\n",
       "       26.33333333, 25.66666667, 25.5       , 26.16666667, 25.        ,\n",
       "       25.5       , 25.33333333, 25.5       , 26.33333333, 25.33333333,\n",
       "       25.83333333, 25.83333333, 25.33333333, 25.66666667, 25.5       ,\n",
       "       25.66666667, 25.33333333, 25.16666667, 25.5       , 26.33333333,\n",
       "       25.33333333, 25.33333333, 25.66666667, 25.16666667, 25.33333333,\n",
       "       25.33333333, 25.5       , 26.33333333, 25.16666667, 25.33333333,\n",
       "       25.66666667, 25.16666667, 25.16666667, 26.33333333, 25.66666667,\n",
       "       26.        , 26.33333333, 25.33333333, 35.        , 35.        ,\n",
       "       35.        , 35.        , 35.        , 35.        , 35.        ,\n",
       "       35.        , 35.        , 35.        , 35.        , 35.        ,\n",
       "       35.        , 35.        , 35.        , 35.        , 35.        ,\n",
       "       35.        , 35.        , 35.        , 35.        , 35.        ,\n",
       "       35.        , 35.        , 35.        , 35.        , 35.        ,\n",
       "       35.        , 35.        , 35.        , 35.        , 35.        ,\n",
       "       35.        , 35.        , 35.        , 35.        ])"
      ]
     },
     "execution_count": 193,
     "metadata": {},
     "output_type": "execute_result"
    }
   ],
   "source": [
    "test_UNet_preds"
   ]
  },
  {
   "cell_type": "code",
   "execution_count": 194,
   "metadata": {},
   "outputs": [
    {
     "name": "stderr",
     "output_type": "stream",
     "text": [
      "[Parallel(n_jobs=2)]: Using backend ThreadingBackend with 2 concurrent workers.\n",
      "[Parallel(n_jobs=2)]: Done  30 out of  30 | elapsed:    0.0s finished\n"
     ]
    },
    {
     "data": {
      "text/plain": [
       "array([1.        , 1.        , 1.        , 1.        , 1.06666667,\n",
       "       1.        , 1.        , 1.        , 1.        , 1.1       ,\n",
       "       1.        , 1.        , 1.        , 1.16666667, 1.        ,\n",
       "       1.        , 1.        , 1.        , 1.        , 1.13333333,\n",
       "       1.        , 1.        , 1.3       , 1.        , 1.13333333,\n",
       "       1.        , 1.        , 1.        , 1.03333333, 1.        ,\n",
       "       1.        , 1.        , 1.        , 1.        , 1.        ])"
      ]
     },
     "execution_count": 194,
     "metadata": {},
     "output_type": "execute_result"
    }
   ],
   "source": [
    "test_unet_preds_1mm = rf30.predict(X_1mm_cl_UNet_RF_test)\n",
    "test_unet_preds_1mm"
   ]
  },
  {
   "cell_type": "code",
   "execution_count": 195,
   "metadata": {},
   "outputs": [
    {
     "name": "stderr",
     "output_type": "stream",
     "text": [
      "[Parallel(n_jobs=2)]: Using backend ThreadingBackend with 2 concurrent workers.\n",
      "[Parallel(n_jobs=2)]: Done  30 out of  30 | elapsed:    0.0s finished\n"
     ]
    },
    {
     "data": {
      "text/plain": [
       "array([3.        , 2.        , 2.9       , 2.16666667, 2.53333333,\n",
       "       2.        , 2.1       , 2.06666667, 2.        , 2.        ,\n",
       "       2.        , 2.13333333, 2.06666667, 2.8       , 2.        ,\n",
       "       2.        , 2.        , 2.        , 2.8       , 2.        ,\n",
       "       2.        , 2.        , 3.        , 2.73333333, 2.06666667,\n",
       "       2.        , 2.06666667, 2.2       , 2.06666667, 2.93333333,\n",
       "       2.        , 2.53333333, 2.7       , 3.        , 2.        ,\n",
       "       2.8       , 2.73333333, 2.13333333, 2.        , 2.03333333,\n",
       "       2.06666667, 2.        , 2.1       , 2.        , 2.16666667,\n",
       "       2.96666667, 2.        , 2.36666667, 2.        , 2.06666667,\n",
       "       2.        , 2.9       , 3.        , 2.46666667, 2.        ,\n",
       "       2.76666667, 2.2       , 2.        , 2.13333333, 2.06666667])"
      ]
     },
     "execution_count": 195,
     "metadata": {},
     "output_type": "execute_result"
    }
   ],
   "source": [
    "test_unet_preds_2mm = rf30.predict(X_2mm_cl_UNet_RF_test)\n",
    "test_unet_preds_2mm"
   ]
  },
  {
   "cell_type": "code",
   "execution_count": 196,
   "metadata": {},
   "outputs": [
    {
     "name": "stderr",
     "output_type": "stream",
     "text": [
      "[Parallel(n_jobs=2)]: Using backend ThreadingBackend with 2 concurrent workers.\n",
      "[Parallel(n_jobs=2)]: Done  30 out of  30 | elapsed:    0.0s finished\n"
     ]
    },
    {
     "data": {
      "text/plain": [
       "array([3.5       , 3.13333333, 3.53333333, 3.56666667, 3.63333333,\n",
       "       3.7       , 3.03333333, 3.        , 3.8       , 3.7       ,\n",
       "       3.26666667, 3.63333333, 3.56666667, 3.36666667, 3.86666667,\n",
       "       3.7       , 3.6       , 3.43333333, 3.63333333, 3.6       ,\n",
       "       3.56666667, 3.        , 3.8       , 3.6       , 3.66666667,\n",
       "       3.23333333, 3.3       , 3.53333333, 3.1       , 3.8       ,\n",
       "       3.33333333, 3.23333333, 3.43333333, 3.8       ])"
      ]
     },
     "execution_count": 196,
     "metadata": {},
     "output_type": "execute_result"
    }
   ],
   "source": [
    "test_unet_preds_3mm = rf30.predict(X_3mm_cl_UNet_RF_test)\n",
    "test_unet_preds_3mm"
   ]
  },
  {
   "cell_type": "code",
   "execution_count": 197,
   "metadata": {},
   "outputs": [
    {
     "name": "stderr",
     "output_type": "stream",
     "text": [
      "[Parallel(n_jobs=2)]: Using backend ThreadingBackend with 2 concurrent workers.\n",
      "[Parallel(n_jobs=2)]: Done  30 out of  30 | elapsed:    0.0s finished\n"
     ]
    },
    {
     "data": {
      "text/plain": [
       "array([4.33333333, 3.96666667, 4.        , 3.9       , 4.2       ,\n",
       "       4.16666667, 4.2       , 3.86666667, 4.03333333, 4.36666667,\n",
       "       3.86666667, 3.9       , 3.63333333, 4.1       , 4.        ,\n",
       "       3.9       , 4.36666667, 4.        , 3.96666667, 4.26666667,\n",
       "       4.03333333, 3.83333333, 3.9       , 3.9       , 3.96666667,\n",
       "       3.76666667, 3.93333333, 3.76666667, 3.96666667, 4.13333333,\n",
       "       3.73333333, 4.2       , 4.2       ])"
      ]
     },
     "execution_count": 197,
     "metadata": {},
     "output_type": "execute_result"
    }
   ],
   "source": [
    "test_unet_preds_4mm = rf30.predict(X_4mm_cl_UNet_RF_test)\n",
    "test_unet_preds_4mm"
   ]
  },
  {
   "cell_type": "code",
   "execution_count": 198,
   "metadata": {},
   "outputs": [
    {
     "name": "stderr",
     "output_type": "stream",
     "text": [
      "[Parallel(n_jobs=2)]: Using backend ThreadingBackend with 2 concurrent workers.\n",
      "[Parallel(n_jobs=2)]: Done  30 out of  30 | elapsed:    0.0s finished\n"
     ]
    },
    {
     "data": {
      "text/plain": [
       "array([10.66666667, 10.33333333, 10.66666667, 10.5       , 10.16666667,\n",
       "       10.33333333, 10.33333333, 10.33333333, 10.66666667, 10.66666667,\n",
       "       10.33333333, 10.33333333, 10.        , 10.5       , 11.        ,\n",
       "       10.5       , 10.33333333, 10.33333333, 10.        , 10.33333333,\n",
       "       10.83333333, 10.16666667, 10.16666667, 10.33333333, 10.33333333,\n",
       "       10.16666667, 10.        , 10.66666667, 10.        , 10.66666667,\n",
       "       10.33333333, 10.33333333, 10.16666667])"
      ]
     },
     "execution_count": 198,
     "metadata": {},
     "output_type": "execute_result"
    }
   ],
   "source": [
    "test_unet_preds_10mm = rf30.predict(X_10mm_cl_UNet_RF_test)\n",
    "test_unet_preds_10mm"
   ]
  },
  {
   "cell_type": "code",
   "execution_count": 199,
   "metadata": {},
   "outputs": [
    {
     "name": "stderr",
     "output_type": "stream",
     "text": [
      "[Parallel(n_jobs=2)]: Using backend ThreadingBackend with 2 concurrent workers.\n",
      "[Parallel(n_jobs=2)]: Done  30 out of  30 | elapsed:    0.0s finished\n"
     ]
    },
    {
     "data": {
      "text/plain": [
       "array([15.16666667, 15.        , 15.        , 15.33333333, 15.        ,\n",
       "       15.        , 15.33333333, 15.66666667, 15.33333333, 15.        ,\n",
       "       15.        , 15.        , 15.83333333, 15.16666667, 15.33333333,\n",
       "       15.5       , 15.16666667, 15.16666667, 15.66666667, 15.        ,\n",
       "       15.        , 15.83333333, 15.16666667, 15.        , 15.        ,\n",
       "       15.66666667, 15.5       , 15.        , 15.        , 15.        ,\n",
       "       15.        , 15.66666667, 15.16666667, 15.16666667, 15.33333333,\n",
       "       15.33333333, 15.16666667, 15.33333333, 15.        , 15.        ,\n",
       "       15.5       , 15.66666667, 15.        , 15.16666667, 15.16666667,\n",
       "       15.66666667, 15.        , 15.16666667, 15.        , 15.16666667,\n",
       "       15.16666667, 15.        , 15.33333333, 15.        , 15.66666667,\n",
       "       15.5       , 15.16666667, 15.16666667, 15.        , 15.16666667])"
      ]
     },
     "execution_count": 199,
     "metadata": {},
     "output_type": "execute_result"
    }
   ],
   "source": [
    "test_unet_preds_15mm = rf30.predict(X_15mm_cl_UNet_RF_test)\n",
    "test_unet_preds_15mm"
   ]
  },
  {
   "cell_type": "code",
   "execution_count": 200,
   "metadata": {},
   "outputs": [
    {
     "name": "stderr",
     "output_type": "stream",
     "text": [
      "[Parallel(n_jobs=2)]: Using backend ThreadingBackend with 2 concurrent workers.\n",
      "[Parallel(n_jobs=2)]: Done  30 out of  30 | elapsed:    0.0s finished\n"
     ]
    },
    {
     "data": {
      "text/plain": [
       "array([20.5       , 20.66666667, 21.        , 20.66666667, 21.        ,\n",
       "       20.66666667, 20.83333333, 20.16666667, 21.16666667, 20.66666667,\n",
       "       20.83333333, 20.66666667, 21.33333333, 21.        , 21.        ,\n",
       "       20.66666667, 20.66666667, 20.83333333, 20.83333333, 21.        ,\n",
       "       20.66666667, 20.66666667, 21.16666667, 20.5       , 20.66666667,\n",
       "       20.66666667, 20.83333333, 20.83333333, 21.        , 20.16666667,\n",
       "       21.        , 20.83333333, 21.16666667, 20.5       , 20.5       ])"
      ]
     },
     "execution_count": 200,
     "metadata": {},
     "output_type": "execute_result"
    }
   ],
   "source": [
    "test_unet_preds_20mm = rf30.predict(X_20mm_cl_UNet_RF_test)\n",
    "test_unet_preds_20mm"
   ]
  },
  {
   "cell_type": "code",
   "execution_count": 201,
   "metadata": {},
   "outputs": [
    {
     "name": "stderr",
     "output_type": "stream",
     "text": [
      "[Parallel(n_jobs=2)]: Using backend ThreadingBackend with 2 concurrent workers.\n",
      "[Parallel(n_jobs=2)]: Done  30 out of  30 | elapsed:    0.0s finished\n"
     ]
    },
    {
     "data": {
      "text/plain": [
       "array([26.33333333, 25.66666667, 25.5       , 26.16666667, 25.        ,\n",
       "       25.5       , 25.33333333, 25.5       , 26.33333333, 25.33333333,\n",
       "       25.83333333, 25.83333333, 25.33333333, 25.66666667, 25.5       ,\n",
       "       25.66666667, 25.33333333, 25.16666667, 25.5       , 26.33333333,\n",
       "       25.33333333, 25.33333333, 25.66666667, 25.16666667, 25.33333333,\n",
       "       25.33333333, 25.5       , 26.33333333, 25.16666667, 25.33333333,\n",
       "       25.66666667, 25.16666667, 25.16666667, 26.33333333, 25.66666667,\n",
       "       26.        , 26.33333333, 25.33333333])"
      ]
     },
     "execution_count": 201,
     "metadata": {},
     "output_type": "execute_result"
    }
   ],
   "source": [
    "test_unet_preds_25mm = rf30.predict(X_25mm_cl_UNet_RF_test)\n",
    "test_unet_preds_25mm"
   ]
  },
  {
   "cell_type": "code",
   "execution_count": 202,
   "metadata": {},
   "outputs": [
    {
     "name": "stderr",
     "output_type": "stream",
     "text": [
      "[Parallel(n_jobs=2)]: Using backend ThreadingBackend with 2 concurrent workers.\n",
      "[Parallel(n_jobs=2)]: Done  30 out of  30 | elapsed:    0.0s finished\n"
     ]
    },
    {
     "data": {
      "text/plain": [
       "array([35.        , 33.66666667, 35.        , 35.        , 35.        ,\n",
       "       35.        , 35.        , 33.5       , 35.        , 30.66666667,\n",
       "       35.        , 35.        , 34.83333333, 35.        , 35.        ,\n",
       "       35.        , 35.        , 33.33333333, 35.        , 30.        ,\n",
       "       35.        , 35.        , 33.        , 33.83333333, 35.        ,\n",
       "       35.        , 32.66666667, 35.        , 32.5       , 35.        ,\n",
       "       35.        , 33.83333333, 35.        , 35.        , 35.        ,\n",
       "       33.5       , 35.        ])"
      ]
     },
     "execution_count": 202,
     "metadata": {},
     "output_type": "execute_result"
    }
   ],
   "source": [
    "test_unet_preds_30mm = rf30.predict(X_30mm_cl_UNet_RF_test)\n",
    "test_unet_preds_30mm"
   ]
  },
  {
   "cell_type": "code",
   "execution_count": 203,
   "metadata": {},
   "outputs": [
    {
     "name": "stderr",
     "output_type": "stream",
     "text": [
      "[Parallel(n_jobs=2)]: Using backend ThreadingBackend with 2 concurrent workers.\n",
      "[Parallel(n_jobs=2)]: Done  30 out of  30 | elapsed:    0.0s finished\n"
     ]
    },
    {
     "data": {
      "text/plain": [
       "array([35., 35., 35., 35., 35., 35., 35., 35., 35., 35., 35., 35., 35.,\n",
       "       35., 35., 35., 35., 35., 35., 35., 35., 35., 35., 35., 35., 35.,\n",
       "       35., 35., 35., 35., 35., 35., 35., 35., 35., 35.])"
      ]
     },
     "execution_count": 203,
     "metadata": {},
     "output_type": "execute_result"
    }
   ],
   "source": [
    "test_unet_preds_35mm = rf30.predict(X_35mm_cl_UNet_RF_test)\n",
    "test_unet_preds_35mm"
   ]
  },
  {
   "cell_type": "code",
   "execution_count": 158,
   "metadata": {},
   "outputs": [],
   "source": [
    "import numpy as np\n",
    "from scipy.stats import norm\n",
    "\n",
    "def plot_histo(preds, true):\n",
    "    data = preds-true\n",
    "    mean,std=norm.fit(data)\n",
    "\n",
    "    plt.hist(data, bins=8, normed=True, facecolor='white',edgecolor =\"k\",  alpha=1)\n",
    "    xmin, xmax = plt.xlim()\n",
    "    x = np.linspace(-5.0,5.0, 20)\n",
    "    y = norm.pdf(x, mean, std)\n",
    "    plt.plot(x, y, c='r')\n",
    "    plt.xlabel('y_pred-y_true(mm)')\n",
    "    plt.ylabel('Frequence')\n",
    "    plt.title(r'$\\mathrm{Histogram\\ of\\ IQ:}\\ \\mu=%.3f,\\ \\sigma=%.3f$' %(mean, std))\n",
    "    plt.show()\n",
    "    return"
   ]
  },
  {
   "cell_type": "code",
   "execution_count": 159,
   "metadata": {},
   "outputs": [
    {
     "name": "stderr",
     "output_type": "stream",
     "text": [
      "[Parallel(n_jobs=2)]: Using backend ThreadingBackend with 2 concurrent workers.\n",
      "[Parallel(n_jobs=2)]: Done  30 out of  30 | elapsed:    0.0s finished\n",
      "/users/yw18581/.conda/envs/fluffy-bunnies/lib/python3.6/site-packages/matplotlib/axes/_axes.py:6521: MatplotlibDeprecationWarning: \n",
      "The 'normed' kwarg was deprecated in Matplotlib 2.1 and will be removed in 3.1. Use 'density' instead.\n",
      "  alternative=\"'density'\", removal=\"3.1\")\n"
     ]
    },
    {
     "data": {
      "image/png": "[encoded data removed]",
      "text/plain": [
       "<Figure size 432x288 with 1 Axes>"
      ]
     },
     "metadata": {
      "needs_background": "light"
     },
     "output_type": "display_data"
    }
   ],
   "source": [
    "plot_histo(rf30.predict(X_30mm_cl_UNet_RF_test[1:]), y_35mm_cl_UNet_test)"
   ]
  },
  {
   "cell_type": "code",
   "execution_count": 177,
   "metadata": {},
   "outputs": [
    {
     "name": "stderr",
     "output_type": "stream",
     "text": [
      "[Parallel(n_jobs=2)]: Using backend ThreadingBackend with 2 concurrent workers.\n"
     ]
    },
    {
     "name": "stdout",
     "output_type": "stream",
     "text": [
      "building tree 1 of 100\n",
      "building tree 2 of 100\n",
      "building tree 3 of 100\n",
      "building tree 4 of 100\n",
      "building tree 5 of 100\n",
      "building tree 6 of 100\n",
      "building tree 7 of 100\n",
      "building tree 8 of 100\n",
      "building tree 9 of 100\n",
      "building tree 10 of 100\n",
      "building tree 11 of 100\n",
      "building tree 12 of 100\n",
      "building tree 13 of 100\n",
      "building tree 14 of 100\n",
      "building tree 15 of 100\n",
      "building tree 16 of 100\n",
      "building tree 17 of 100\n",
      "building tree 18 of 100\n",
      "building tree 19 of 100\n",
      "building tree 20 of 100\n",
      "building tree 21 of 100\n",
      "building tree 22 of 100\n",
      "building tree 23 of 100\n",
      "building tree 24 of 100\n",
      "building tree 25 of 100\n",
      "building tree 26 of 100\n",
      "building tree 27 of 100\n",
      "building tree 28 of 100\n",
      "building tree 29 of 100\n",
      "building tree 30 of 100\n",
      "building tree 31 of 100\n",
      "building tree 32 of 100\n",
      "building tree 33 of 100\n",
      "building tree 34 of 100\n",
      "building tree 35 of 100\n",
      "building tree 36 of 100\n",
      "building tree 37 of 100\n",
      "building tree 38 of 100\n"
     ]
    },
    {
     "name": "stderr",
     "output_type": "stream",
     "text": [
      "[Parallel(n_jobs=2)]: Done  37 tasks      | elapsed:  3.9min\n"
     ]
    },
    {
     "name": "stdout",
     "output_type": "stream",
     "text": [
      "building tree 39 of 100\n",
      "building tree 40 of 100\n",
      "building tree 41 of 100\n",
      "building tree 42 of 100\n",
      "building tree 43 of 100\n",
      "building tree 44 of 100\n",
      "building tree 45 of 100\n",
      "building tree 46 of 100\n",
      "building tree 47 of 100\n",
      "building tree 48 of 100\n",
      "building tree 49 of 100\n",
      "building tree 50 of 100\n",
      "building tree 51 of 100\n",
      "building tree 52 of 100\n",
      "building tree 53 of 100\n",
      "building tree 54 of 100\n",
      "building tree 55 of 100\n",
      "building tree 56 of 100\n",
      "building tree 57 of 100\n",
      "building tree 58 of 100\n",
      "building tree 59 of 100\n",
      "building tree 60 of 100\n",
      "building tree 61 of 100\n",
      "building tree 62 of 100\n",
      "building tree 63 of 100\n",
      "building tree 64 of 100\n",
      "building tree 65 of 100\n",
      "building tree 66 of 100\n",
      "building tree 67 of 100\n",
      "building tree 68 of 100\n",
      "building tree 69 of 100\n",
      "building tree 70 of 100\n",
      "building tree 71 of 100\n",
      "building tree 72 of 100\n",
      "building tree 73 of 100\n",
      "building tree 74 of 100\n",
      "building tree 75 of 100\n",
      "building tree 76 of 100\n",
      "building tree 77 of 100\n",
      "building tree 78 of 100\n",
      "building tree 79 of 100\n",
      "building tree 80 of 100\n",
      "building tree 81 of 100\n",
      "building tree 82 of 100\n",
      "building tree 83 of 100\n",
      "building tree 84 of 100\n",
      "building tree 85 of 100\n",
      "building tree 86 of 100\n",
      "building tree 87 of 100\n",
      "building tree 88 of 100\n",
      "building tree 89 of 100\n",
      "building tree 90 of 100\n",
      "building tree 91 of 100\n",
      "building tree 92 of 100\n",
      "building tree 93 of 100\n",
      "building tree 94 of 100\n",
      "building tree 95 of 100\n",
      "building tree 96 of 100\n",
      "building tree 97 of 100\n",
      "building tree 98 of 100\n",
      "building tree 99 of 100\n",
      "building tree 100 of 100\n"
     ]
    },
    {
     "name": "stderr",
     "output_type": "stream",
     "text": [
      "[Parallel(n_jobs=2)]: Done 100 out of 100 | elapsed:  9.8min finished\n"
     ]
    },
    {
     "data": {
      "text/plain": [
       "RandomForestRegressor(bootstrap=True, criterion='mse', max_depth=None,\n",
       "           max_features='auto', max_leaf_nodes=None,\n",
       "           min_impurity_decrease=0.0, min_impurity_split=None,\n",
       "           min_samples_leaf=1, min_samples_split=2,\n",
       "           min_weight_fraction_leaf=0.0, n_estimators=100, n_jobs=2,\n",
       "           oob_score=False, random_state=42, verbose=2, warm_start=False)"
      ]
     },
     "execution_count": 177,
     "metadata": {},
     "output_type": "execute_result"
    }
   ],
   "source": [
    "rf100 = RandomForestRegressor(random_state=42, n_estimators=100,n_jobs=2, verbose=2)\n",
    "\n",
    "rf100.fit(X_train, y_train)\n"
   ]
  },
  {
   "cell_type": "code",
   "execution_count": 178,
   "metadata": {},
   "outputs": [],
   "source": [
    "np.savez_compressed(os.path.join(data_dir,\"RF100_trained_model_clean_data.npz\"),rf = rf100)"
   ]
  },
  {
   "cell_type": "code",
   "execution_count": 208,
   "metadata": {},
   "outputs": [
    {
     "name": "stderr",
     "output_type": "stream",
     "text": [
      "[Parallel(n_jobs=2)]: Using backend ThreadingBackend with 2 concurrent workers.\n",
      "[Parallel(n_jobs=2)]: Done  37 tasks      | elapsed:    0.0s\n",
      "[Parallel(n_jobs=2)]: Done 100 out of 100 | elapsed:    0.0s finished\n"
     ]
    },
    {
     "data": {
      "text/plain": [
       "0.024498254364089787"
      ]
     },
     "execution_count": 208,
     "metadata": {},
     "output_type": "execute_result"
    }
   ],
   "source": [
    "mean_squared_error(rf100.predict(X_test), y_test)"
   ]
  },
  {
   "cell_type": "code",
   "execution_count": 209,
   "metadata": {},
   "outputs": [
    {
     "name": "stderr",
     "output_type": "stream",
     "text": [
      "[Parallel(n_jobs=2)]: Using backend ThreadingBackend with 2 concurrent workers.\n",
      "[Parallel(n_jobs=2)]: Done  37 tasks      | elapsed:    0.0s\n",
      "[Parallel(n_jobs=2)]: Done 100 out of 100 | elapsed:    0.0s finished\n"
     ]
    },
    {
     "data": {
      "text/plain": [
       "1.9599558603491276"
      ]
     },
     "execution_count": 209,
     "metadata": {},
     "output_type": "execute_result"
    }
   ],
   "source": [
    "mean_squared_error(rf100.predict(X_UNet_test), y_UNet_test)"
   ]
  },
  {
   "cell_type": "code",
   "execution_count": 213,
   "metadata": {},
   "outputs": [
    {
     "name": "stderr",
     "output_type": "stream",
     "text": [
      "[Parallel(n_jobs=2)]: Using backend ThreadingBackend with 2 concurrent workers.\n"
     ]
    },
    {
     "name": "stdout",
     "output_type": "stream",
     "text": [
      "building tree 1 of 200\n",
      "building tree 2 of 200\n",
      "building tree 3 of 200\n",
      "building tree 4 of 200\n",
      "building tree 5 of 200\n",
      "building tree 6 of 200\n",
      "building tree 7 of 200\n",
      "building tree 8 of 200\n",
      "building tree 9 of 200\n",
      "building tree 10 of 200\n",
      "building tree 11 of 200\n",
      "building tree 12 of 200\n",
      "building tree 13 of 200\n",
      "building tree 14 of 200\n",
      "building tree 15 of 200\n",
      "building tree 16 of 200\n",
      "building tree 17 of 200\n",
      "building tree 18 of 200\n",
      "building tree 19 of 200\n",
      "building tree 20 of 200\n",
      "building tree 21 of 200\n",
      "building tree 22 of 200\n",
      "building tree 23 of 200\n",
      "building tree 24 of 200\n",
      "building tree 25 of 200\n",
      "building tree 26 of 200\n",
      "building tree 27 of 200\n",
      "building tree 28 of 200\n",
      "building tree 29 of 200\n",
      "building tree 30 of 200\n",
      "building tree 31 of 200\n",
      "building tree 32 of 200\n",
      "building tree 33 of 200\n",
      "building tree 34 of 200\n",
      "building tree 35 of 200\n",
      "building tree 36 of 200\n",
      "building tree 37 of 200\n",
      "building tree 38 of 200\n",
      "building tree 39 of 200\n"
     ]
    },
    {
     "name": "stderr",
     "output_type": "stream",
     "text": [
      "[Parallel(n_jobs=2)]: Done  37 tasks      | elapsed:  3.7min\n"
     ]
    },
    {
     "name": "stdout",
     "output_type": "stream",
     "text": [
      "building tree 40 of 200\n",
      "building tree 41 of 200\n",
      "building tree 42 of 200\n",
      "building tree 43 of 200\n",
      "building tree 44 of 200\n",
      "building tree 45 of 200\n",
      "building tree 46 of 200\n",
      "building tree 47 of 200\n",
      "building tree 48 of 200\n",
      "building tree 49 of 200\n",
      "building tree 50 of 200\n",
      "building tree 51 of 200\n",
      "building tree 52 of 200\n",
      "building tree 53 of 200\n",
      "building tree 54 of 200\n",
      "building tree 55 of 200\n",
      "building tree 56 of 200\n",
      "building tree 57 of 200\n",
      "building tree 58 of 200\n",
      "building tree 59 of 200\n",
      "building tree 60 of 200\n",
      "building tree 61 of 200\n",
      "building tree 62 of 200\n",
      "building tree 63 of 200\n",
      "building tree 64 of 200\n",
      "building tree 65 of 200\n",
      "building tree 66 of 200\n",
      "building tree 67 of 200\n",
      "building tree 68 of 200\n",
      "building tree 69 of 200\n",
      "building tree 70 of 200\n",
      "building tree 71 of 200\n",
      "building tree 72 of 200\n",
      "building tree 73 of 200\n",
      "building tree 74 of 200\n",
      "building tree 75 of 200\n",
      "building tree 76 of 200\n",
      "building tree 77 of 200\n",
      "building tree 78 of 200\n",
      "building tree 79 of 200\n",
      "building tree 80 of 200\n",
      "building tree 81 of 200\n",
      "building tree 82 of 200\n",
      "building tree 83 of 200\n",
      "building tree 84 of 200\n",
      "building tree 85 of 200\n",
      "building tree 86 of 200\n",
      "building tree 87 of 200\n",
      "building tree 88 of 200\n",
      "building tree 89 of 200\n",
      "building tree 90 of 200\n",
      "building tree 91 of 200\n",
      "building tree 92 of 200\n",
      "building tree 93 of 200\n",
      "building tree 94 of 200\n",
      "building tree 95 of 200\n",
      "building tree 96 of 200\n",
      "building tree 97 of 200\n",
      "building tree 98 of 200\n",
      "building tree 99 of 200\n",
      "building tree 100 of 200\n",
      "building tree 101 of 200\n",
      "building tree 102 of 200\n",
      "building tree 103 of 200\n",
      "building tree 104 of 200\n",
      "building tree 105 of 200\n",
      "building tree 106 of 200\n",
      "building tree 107 of 200\n",
      "building tree 108 of 200\n",
      "building tree 109 of 200\n",
      "building tree 110 of 200\n",
      "building tree 111 of 200\n",
      "building tree 112 of 200\n",
      "building tree 113 of 200\n",
      "building tree 114 of 200\n",
      "building tree 115 of 200\n",
      "building tree 116 of 200\n",
      "building tree 117 of 200\n",
      "building tree 118 of 200\n",
      "building tree 119 of 200\n",
      "building tree 120 of 200\n",
      "building tree 121 of 200\n",
      "building tree 122 of 200\n",
      "building tree 123 of 200\n",
      "building tree 124 of 200\n",
      "building tree 125 of 200\n",
      "building tree 126 of 200\n",
      "building tree 127 of 200\n",
      "building tree 128 of 200\n",
      "building tree 129 of 200\n",
      "building tree 130 of 200\n",
      "building tree 131 of 200\n",
      "building tree 132 of 200\n",
      "building tree 133 of 200\n",
      "building tree 134 of 200\n",
      "building tree 135 of 200\n",
      "building tree 136 of 200\n",
      "building tree 137 of 200\n",
      "building tree 138 of 200\n",
      "building tree 139 of 200\n",
      "building tree 140 of 200\n",
      "building tree 141 of 200\n",
      "building tree 142 of 200\n",
      "building tree 143 of 200\n",
      "building tree 144 of 200\n",
      "building tree 145 of 200\n",
      "building tree 146 of 200\n",
      "building tree 147 of 200\n",
      "building tree 148 of 200\n",
      "building tree 149 of 200\n",
      "building tree 150 of 200\n",
      "building tree 151 of 200\n",
      "building tree 152 of 200\n",
      "building tree 153 of 200\n",
      "building tree 154 of 200\n",
      "building tree 155 of 200\n",
      "building tree 156 of 200\n",
      "building tree 157 of 200\n",
      "building tree 158 of 200\n",
      "building tree 159 of 200\n",
      "building tree 160 of 200\n"
     ]
    },
    {
     "name": "stderr",
     "output_type": "stream",
     "text": [
      "[Parallel(n_jobs=2)]: Done 158 tasks      | elapsed: 15.3min\n"
     ]
    },
    {
     "name": "stdout",
     "output_type": "stream",
     "text": [
      "building tree 161 of 200\n",
      "building tree 162 of 200\n",
      "building tree 163 of 200\n",
      "building tree 164 of 200\n",
      "building tree 165 of 200\n",
      "building tree 166 of 200\n",
      "building tree 167 of 200\n",
      "building tree 168 of 200\n",
      "building tree 169 of 200\n",
      "building tree 170 of 200\n",
      "building tree 171 of 200\n",
      "building tree 172 of 200\n",
      "building tree 173 of 200\n",
      "building tree 174 of 200\n",
      "building tree 175 of 200\n",
      "building tree 176 of 200\n",
      "building tree 177 of 200\n",
      "building tree 178 of 200\n",
      "building tree 179 of 200\n",
      "building tree 180 of 200\n",
      "building tree 181 of 200\n",
      "building tree 182 of 200\n",
      "building tree 183 of 200\n",
      "building tree 184 of 200\n",
      "building tree 185 of 200\n",
      "building tree 186 of 200\n",
      "building tree 187 of 200\n",
      "building tree 188 of 200\n",
      "building tree 189 of 200\n",
      "building tree 190 of 200\n",
      "building tree 191 of 200\n",
      "building tree 192 of 200\n",
      "building tree 193 of 200\n",
      "building tree 194 of 200\n",
      "building tree 195 of 200\n",
      "building tree 196 of 200\n",
      "building tree 197 of 200\n",
      "building tree 198 of 200\n",
      "building tree 199 of 200\n",
      "building tree 200 of 200\n"
     ]
    },
    {
     "name": "stderr",
     "output_type": "stream",
     "text": [
      "[Parallel(n_jobs=2)]: Done 200 out of 200 | elapsed: 19.3min finished\n"
     ]
    }
   ],
   "source": [
    "rf200 = RandomForestRegressor(random_state=42, n_estimators=200,n_jobs=2, verbose=2)\n",
    "\n",
    "rf200.fit(X_train, y_train)\n",
    "\n",
    "np.savez_compressed(os.path.join(data_dir,\"RF200_trained_model_clean_data.npz\"),rf = rf200)"
   ]
  },
  {
   "cell_type": "code",
   "execution_count": 214,
   "metadata": {},
   "outputs": [
    {
     "name": "stderr",
     "output_type": "stream",
     "text": [
      "[Parallel(n_jobs=2)]: Using backend ThreadingBackend with 2 concurrent workers.\n",
      "[Parallel(n_jobs=2)]: Done  37 tasks      | elapsed:    0.0s\n",
      "[Parallel(n_jobs=2)]: Done 158 tasks      | elapsed:    0.1s\n",
      "[Parallel(n_jobs=2)]: Done 200 out of 200 | elapsed:    0.1s finished\n"
     ]
    },
    {
     "data": {
      "text/plain": [
       "0.022426371571072294"
      ]
     },
     "execution_count": 214,
     "metadata": {},
     "output_type": "execute_result"
    }
   ],
   "source": [
    "mean_squared_error(rf200.predict(X_test), y_test)"
   ]
  },
  {
   "cell_type": "code",
   "execution_count": 215,
   "metadata": {},
   "outputs": [
    {
     "name": "stderr",
     "output_type": "stream",
     "text": [
      "[Parallel(n_jobs=2)]: Using backend ThreadingBackend with 2 concurrent workers.\n",
      "[Parallel(n_jobs=2)]: Done  37 tasks      | elapsed:    0.0s\n",
      "[Parallel(n_jobs=2)]: Done 158 tasks      | elapsed:    0.1s\n",
      "[Parallel(n_jobs=2)]: Done 200 out of 200 | elapsed:    0.1s finished\n"
     ]
    },
    {
     "data": {
      "text/plain": [
       "1.9225496882793023"
      ]
     },
     "execution_count": 215,
     "metadata": {},
     "output_type": "execute_result"
    }
   ],
   "source": [
    "mean_squared_error(rf200.predict(X_UNet_test), y_UNet_test)\n"
   ]
  },
  {
   "cell_type": "code",
   "execution_count": 236,
   "metadata": {},
   "outputs": [
    {
     "name": "stderr",
     "output_type": "stream",
     "text": [
      "[Parallel(n_jobs=2)]: Using backend ThreadingBackend with 2 concurrent workers.\n",
      "[Parallel(n_jobs=2)]: Done  37 tasks      | elapsed:    0.0s\n",
      "[Parallel(n_jobs=2)]: Done 158 tasks      | elapsed:    0.0s\n",
      "[Parallel(n_jobs=2)]: Done 200 out of 200 | elapsed:    0.1s finished\n"
     ]
    },
    {
     "data": {
      "text/plain": [
       "array([34.85 , 32.85 , 34.975, 34.975, 34.975, 34.975, 34.95 , 32.725,\n",
       "       34.95 , 30.35 , 35.   , 35.   , 34.5  , 34.975, 34.95 , 35.   ,\n",
       "       35.   , 32.55 , 35.   , 30.05 , 34.975, 34.925, 32.2  , 33.55 ,\n",
       "       34.95 , 34.975, 32.375, 34.975, 32.7  , 34.975, 34.975, 33.575,\n",
       "       34.975, 34.875, 34.875, 32.725, 35.   ])"
      ]
     },
     "execution_count": 236,
     "metadata": {},
     "output_type": "execute_result"
    }
   ],
   "source": [
    "rf200.predict(X_30mm_cl_UNet_RF_test)"
   ]
  },
  {
   "cell_type": "code",
   "execution_count": 227,
   "metadata": {},
   "outputs": [
    {
     "name": "stderr",
     "output_type": "stream",
     "text": [
      "[Parallel(n_jobs=2)]: Using backend ThreadingBackend with 2 concurrent workers.\n",
      "[Parallel(n_jobs=2)]: Done  37 tasks      | elapsed:    0.0s\n",
      "[Parallel(n_jobs=2)]: Done 158 tasks      | elapsed:    0.0s\n",
      "[Parallel(n_jobs=2)]: Done 200 out of 200 | elapsed:    0.1s finished\n"
     ]
    },
    {
     "data": {
      "text/plain": [
       "array([30.   , 30.   , 29.95 , 32.175, 30.   , 30.   , 30.   , 29.775,\n",
       "       30.   , 30.   , 30.   , 30.   , 30.   , 30.025, 30.   , 29.975,\n",
       "       30.   , 30.   , 30.   , 30.   , 30.   , 30.   , 30.   , 29.925,\n",
       "       29.975, 30.   , 30.   , 30.   , 30.   , 30.   , 30.   , 30.   ,\n",
       "       30.   , 30.   , 30.   , 30.   , 30.   ])"
      ]
     },
     "execution_count": 227,
     "metadata": {},
     "output_type": "execute_result"
    }
   ],
   "source": [
    "rf200.predict(X_30mm_cl_RF_test)"
   ]
  },
  {
   "cell_type": "code",
   "execution_count": 243,
   "metadata": {},
   "outputs": [],
   "source": [
    "Xy = np.load(os.path.join(unet_dir, \"Xy_30mm_clean_predicted_UNet.npz\"))"
   ]
  },
  {
   "cell_type": "code",
   "execution_count": null,
   "metadata": {},
   "outputs": [],
   "source": []
  }
 ],
 "metadata": {
  "kernelspec": {
   "display_name": "Python 3",
   "language": "python",
   "name": "python3"
  },
  "language_info": {
   "codemirror_mode": {
    "name": "ipython",
    "version": 3
   },
   "file_extension": ".py",
   "mimetype": "text/x-python",
   "name": "python",
   "nbconvert_exporter": "python",
   "pygments_lexer": "ipython3",
   "version": "3.6.7"
  }
 },
 "nbformat": 4,
 "nbformat_minor": 2
}
