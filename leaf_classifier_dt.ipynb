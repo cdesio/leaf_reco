{
 "cells": [
  {
   "cell_type": "code",
   "execution_count": null,
   "metadata": {},
   "outputs": [],
   "source": [
    "IMG_WIDTH = 1400\n",
    "IMG_HEIGHT = 1400\n",
    "ROW_SLICE = slice(0, 1400)\n",
    "COL_SLICE = slice(1000, None)"
   ]
  },
  {
   "cell_type": "code",
   "execution_count": null,
   "metadata": {},
   "outputs": [],
   "source": [
    "import os\n",
    "from os import path as p\n",
    "import tensorflow as tf\n",
    "from sklearn.preprocessing import LabelEncoder, OneHotEncoder\n",
    "from network_models import leaf_classification_half, train_neural_network\n",
    "from data_loaders_km3 import data_generator, get_n_iterations"
   ]
  },
  {
   "cell_type": "code",
   "execution_count": null,
   "metadata": {},
   "outputs": [],
   "source": [
    "DATA_DIR_IH=\"/data/uob\"\n",
    "DATA_DIR_DEEPTHOUGHT=\"/storage/yw18581/data\""
   ]
  },
  {
   "cell_type": "code",
   "execution_count": null,
   "metadata": {},
   "outputs": [],
   "source": [
    "data_folder = DATA_DIR_DEEPTHOUGHT\n",
    "TRAIN_VAL_TEST_DIR = os.path.join(data_folder,\"train_validation_test\")"
   ]
  },
  {
   "cell_type": "code",
   "execution_count": null,
   "metadata": {},
   "outputs": [],
   "source": [
    "N_FILES = 1\n",
    "BATCH_SIZE=2\n",
    "N_EPOCHS = 10"
   ]
  },
  {
   "cell_type": "code",
   "execution_count": null,
   "metadata": {},
   "outputs": [],
   "source": [
    "CHECKPOINT_FOLDER_PATH = p.join(data_folder, 'trained_models')\n",
    "TASK_NAME = 'CNN_leaf_classifier_half_training_{}epochs'.format(N_EPOCHS)\n",
    "TASK_FOLDER_PATH = os.path.join(CHECKPOINT_FOLDER_PATH, TASK_NAME)"
   ]
  },
  {
   "cell_type": "code",
   "execution_count": null,
   "metadata": {},
   "outputs": [],
   "source": [
    "if not os.path.exists(TASK_FOLDER_PATH):\n",
    "    os.makedirs(TASK_FOLDER_PATH)"
   ]
  },
  {
   "cell_type": "code",
   "execution_count": null,
   "metadata": {},
   "outputs": [],
   "source": [
    "tf.keras.backend.clear_session()"
   ]
  },
  {
   "cell_type": "code",
   "execution_count": null,
   "metadata": {},
   "outputs": [],
   "source": [
    "model = leaf_classification_half(num_classes=4, kernel_size=3, pooling_size=3)\n",
    "from keras.optimizers import Adadelta\n",
    "from keras.losses import categorical_crossentropy\n",
    "model.compile(loss=categorical_crossentropy, optimizer=Adadelta(), metrics=['accuracy'])\n",
    "model.summary()"
   ]
  },
  {
   "cell_type": "code",
   "execution_count": null,
   "metadata": {},
   "outputs": [],
   "source": [
    "TRAINING_WEIGHTS_FILEPATH = os.path.join(TASK_FOLDER_PATH,\n",
    "                                         '{}_weights_training{}.hdf5'.format(model.name, TASK_NAME))"
   ]
  },
  {
   "cell_type": "code",
   "execution_count": null,
   "metadata": {},
   "outputs": [],
   "source": [
    "HISTORY_FILEPATH = os.path.join(TASK_FOLDER_PATH,\n",
    "                                '{}_history{}.pkl'.format(model.name, TASK_NAME))"
   ]
  },
  {
   "cell_type": "code",
   "execution_count": null,
   "metadata": {},
   "outputs": [],
   "source": [
    "MODEL_JSON_FILEPATH = os.path.join(TASK_FOLDER_PATH, '{}.json'.format(model.name))"
   ]
  },
  {
   "cell_type": "code",
   "execution_count": null,
   "metadata": {},
   "outputs": [],
   "source": []
  },
  {
   "cell_type": "code",
   "execution_count": null,
   "metadata": {},
   "outputs": [],
   "source": [
    "fname_train = [os.path.join(TRAIN_VAL_TEST_DIR,\"Xy_train_dist.npz\")]\n",
    "fname_val = [os.path.join(TRAIN_VAL_TEST_DIR,\"Xy_val_dist.npz\")]"
   ]
  },
  {
   "cell_type": "code",
   "execution_count": null,
   "metadata": {},
   "outputs": [],
   "source": [
    "steps_per_epoch, n_events = get_n_iterations(fname_train, batch_size=BATCH_SIZE)\n",
    "print(\"training steps per epoc:{}, number of events:{}\".format(steps_per_epoch, n_events))"
   ]
  },
  {
   "cell_type": "code",
   "execution_count": null,
   "metadata": {
    "lines_to_next_cell": 1
   },
   "outputs": [],
   "source": [
    "validation_steps, n_evts_val = get_n_iterations(fname_val, batch_size=BATCH_SIZE)\n",
    "print(\"validation steps per epoch:{}, number of events:{}\".format(validation_steps, n_evts_val))"
   ]
  },
  {
   "cell_type": "code",
   "execution_count": null,
   "metadata": {
    "lines_to_next_cell": 1
   },
   "outputs": [],
   "source": [
    "def ohe(values):\n",
    "\n",
    "    values_reshaped = values.reshape(-1,1)\n",
    "    onehot_encoder = OneHotEncoder(sparse=False, categories='auto')\n",
    "    onehot_encoded = onehot_encoder.fit_transform(values_reshaped)\n",
    "    return onehot_encoded"
   ]
  },
  {
   "cell_type": "code",
   "execution_count": null,
   "metadata": {},
   "outputs": [],
   "source": [
    "training_generator = data_generator(fname_train, data_key='x', label_key='dist',\n",
    "                                    batch_size=BATCH_SIZE,\n",
    "                                    fdata = lambda y: y, ftarget= ohe)"
   ]
  },
  {
   "cell_type": "code",
   "execution_count": null,
   "metadata": {},
   "outputs": [],
   "source": [
    "validation_generator = data_generator(fname_val, data_key='x', label_key='dist',\n",
    "                                      batch_size=BATCH_SIZE,\n",
    "                                      fdata=lambda y: y, ftarget= ohe)"
   ]
  },
  {
   "cell_type": "code",
   "execution_count": null,
   "metadata": {},
   "outputs": [],
   "source": [
    "training_history = train_neural_network(model, training_generator, steps_per_epoch,\n",
    "                                        validation_generator, validation_steps,\n",
    "                                        batch_size=BATCH_SIZE, epochs = N_EPOCHS)"
   ]
  },
  {
   "cell_type": "code",
   "execution_count": null,
   "metadata": {},
   "outputs": [],
   "source": [
    "print('Saving Model (JSON), Training History & Weights...', end='')\n",
    "model_json_str = model.to_json()\n",
    "with open(MODEL_JSON_FILEPATH, 'w') as model_json_f:\n",
    "    model_json_f.write(model_json_str)"
   ]
  },
  {
   "cell_type": "code",
   "execution_count": null,
   "metadata": {},
   "outputs": [],
   "source": [
    "history_filepath = HISTORY_FILEPATH\n",
    "dump(training_history.history, open(history_filepath, 'wb'))"
   ]
  },
  {
   "cell_type": "code",
   "execution_count": null,
   "metadata": {},
   "outputs": [],
   "source": [
    "model.save_weights(TRAINING_WEIGHTS_FILEPATH)\n",
    "print('...Done!')"
   ]
  }
 ],
 "metadata": {
  "jupytext": {
   "cell_metadata_filter": "-all",
   "main_language": "python",
   "notebook_metadata_filter": "-all"
  }
 },
 "nbformat": 4,
 "nbformat_minor": 2
}
