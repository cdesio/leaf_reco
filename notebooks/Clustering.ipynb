{
 "cells": [
  {
   "cell_type": "code",
   "execution_count": 1,
   "metadata": {},
   "outputs": [],
   "source": [
    "import numpy as np\n",
    "import os\n",
    "from sklearn.cluster import KMeans\n",
    "import matplotlib.pyplot as plt"
   ]
  },
  {
   "cell_type": "code",
   "execution_count": 2,
   "metadata": {},
   "outputs": [],
   "source": [
    "data_dir = '/storage/yw18581/data/'\n",
    "data_folder = os.path.join(data_dir, 'train_validation_test')"
   ]
  },
  {
   "cell_type": "code",
   "execution_count": 3,
   "metadata": {},
   "outputs": [],
   "source": [
    "def cut_X(arr, reshape = None):\n",
    "    x_cut = arr[:,960:1300,600:]\n",
    "    if reshape:\n",
    "        if len(x_cut.shape)>3:\n",
    "            x_cut = x_cut[...,0]\n",
    "            x_cut_out = x_cut.reshape(x_cut.shape[0],x_cut.shape[1]*x_cut.shape[2])\n",
    "    else:\n",
    "        x_cut_out = x_cut\n",
    "    return x_cut_out\n",
    "\n",
    "def reshape_RF(arr):\n",
    "    arr_RF = arr.reshape((arr.shape[0], arr.shape[1]*arr.shape[2]))\n",
    "    return arr_RF"
   ]
  },
  {
   "cell_type": "code",
   "execution_count": 4,
   "metadata": {},
   "outputs": [],
   "source": [
    "X_train = np.load(os.path.join(data_folder, 'Xy_train_dist.npz'))[\"y\"]\n",
    "y_train = np.load(os.path.join(data_folder, 'Xy_train_dist.npz'))[\"dist\"]"
   ]
  },
  {
   "cell_type": "code",
   "execution_count": null,
   "metadata": {},
   "outputs": [],
   "source": [
    "X_val = np.load(os.path.join(data_folder,'Xy_val_dist.npz'))[\"y\"]\n",
    "y_val = np.load(os.path.join(data_folder, 'Xy_val_dist.npz'))[\"dist\"]\n",
    "X_test = np.load(os.path.join(data_folder, 'Xy_test_dist.npz'))[\"y\"]\n",
    "y_test = np.load(os.path.join(data_folder, 'Xy_test_dist.npz'))[\"dist\"]"
   ]
  },
  {
   "cell_type": "code",
   "execution_count": 5,
   "metadata": {},
   "outputs": [],
   "source": [
    "X_train_cut = cut_X(X_train)"
   ]
  },
  {
   "cell_type": "code",
   "execution_count": 7,
   "metadata": {},
   "outputs": [],
   "source": [
    "_, width, height, depth,  = X_train.shape"
   ]
  },
  {
   "cell_type": "code",
   "execution_count": null,
   "metadata": {},
   "outputs": [],
   "source": []
  },
  {
   "cell_type": "code",
   "execution_count": 6,
   "metadata": {},
   "outputs": [],
   "source": [
    "X_train_RF = reshape_RF(X_train_cut)"
   ]
  },
  {
   "cell_type": "code",
   "execution_count": 7,
   "metadata": {},
   "outputs": [],
   "source": [
    "kmeans = KMeans(n_clusters=4, random_state=42).fit(X_train_RF)"
   ]
  },
  {
   "cell_type": "code",
   "execution_count": 8,
   "metadata": {},
   "outputs": [],
   "source": [
    "y_kmeans = kmeans.predict(X_train_RF)"
   ]
  },
  {
   "cell_type": "code",
   "execution_count": 12,
   "metadata": {},
   "outputs": [
    {
     "data": {
      "text/plain": [
       "<matplotlib.collections.PathCollection at 0x7f166c5ffb00>"
      ]
     },
     "execution_count": 12,
     "metadata": {},
     "output_type": "execute_result"
    },
    {
     "data": {
      "image/png": "[encoded data removed]",
      "text/plain": [
       "<Figure size 432x288 with 1 Axes>"
      ]
     },
     "metadata": {
      "needs_background": "light"
     },
     "output_type": "display_data"
    }
   ],
   "source": [
    "plt.scatter(X_train_RF[:,0], X_train_RF[:,1],\n",
    "           c=y_kmeans, s=50, cmap='viridis')\n",
    "#centers = kmeans.cluster_centers_\n",
    "#plt.scatter(centers[:,0], centers[:,1], c='black',\n",
    "#           s=200, alpha=0.5)"
   ]
  },
  {
   "cell_type": "code",
   "execution_count": 16,
   "metadata": {},
   "outputs": [
    {
     "data": {
      "text/plain": [
       "array([2, 0, 0, 1, 0, 0, 1, 1, 1, 0, 0, 2, 1, 2, 1, 3, 2, 0, 2, 3, 3, 3,\n",
       "       0, 2, 1, 0, 1, 0, 2, 3, 1, 3, 2, 0, 2, 2, 0, 3, 1, 3, 2, 1, 2, 0,\n",
       "       2, 3, 3, 0, 1, 0, 3, 1, 2, 2, 0, 0, 2, 1, 0, 1, 1, 3, 1, 2, 3, 3,\n",
       "       1, 0, 1, 0, 3, 2, 0, 3, 3, 2, 1, 2, 0, 1, 1, 2, 0, 3, 0, 2, 2, 1,\n",
       "       1, 2, 2, 3, 2, 1, 0, 2, 1, 0, 1, 0, 1, 2, 0, 3, 0, 3, 0, 0, 2, 3,\n",
       "       2, 0, 2, 0, 0, 3, 0, 1, 3, 1, 0, 3, 2, 0, 0, 2, 1, 3, 3, 2, 1, 1,\n",
       "       2, 3, 1, 0, 0, 1, 1, 0, 0, 0, 3, 3, 3, 2, 3, 2, 3, 1, 2, 2, 0, 1,\n",
       "       0, 3, 0, 2, 3, 1, 1, 1, 2, 3, 3, 1, 3, 0, 0, 2, 1, 3, 2, 1, 0, 3,\n",
       "       1, 1, 2, 0, 1, 1, 1, 0, 3, 0, 2, 0, 3, 0, 1, 0, 1, 3, 0, 1, 1, 1,\n",
       "       0, 3, 0, 1, 0, 0, 0, 2, 3, 1, 0, 2, 2, 2, 0, 2, 1, 3, 2, 2, 1, 0,\n",
       "       2, 3, 2, 3, 2, 0, 1, 0, 2, 3, 0, 3, 2, 3, 2, 3, 2, 3, 2, 2, 3, 0,\n",
       "       0, 3, 1, 0, 2, 0, 3, 2, 2, 2, 1, 3, 3, 0, 1, 0, 0, 1, 2, 3, 3, 2,\n",
       "       3, 1, 1, 2, 2, 1, 3, 3, 2, 2, 1, 3, 3, 1, 1, 2, 1, 1, 1, 0, 0, 2,\n",
       "       1, 0, 0, 2, 0, 1, 2, 2, 1, 3, 1, 3, 3, 3, 2, 0, 2, 3, 0, 1, 2, 0,\n",
       "       0, 1, 2, 3, 2, 2, 0, 3, 0, 1, 3, 2, 0, 0, 0, 3, 3, 2, 1, 2, 1, 2,\n",
       "       0, 0, 2, 0, 3, 1, 1, 1, 0, 3, 0, 3, 3, 0, 1, 2, 3, 1, 3, 0, 1, 0,\n",
       "       0, 3, 1, 1, 0, 2, 0, 0, 0, 3, 0, 3, 1, 3, 2, 0, 3, 3, 0, 0, 3, 2,\n",
       "       2, 0, 3, 1, 0, 2, 2, 1, 3, 0, 1, 1, 0, 3, 1, 0, 2, 3, 2, 0, 0, 3,\n",
       "       1, 2, 2, 0, 0, 1, 2, 0, 3, 0, 2, 1, 3, 2, 3, 3, 2, 1, 2, 0, 0, 0,\n",
       "       3, 3, 2, 0, 1, 2, 3, 2, 2, 1, 3, 1, 0, 1, 3, 0, 1, 2, 1, 3, 2, 2,\n",
       "       1, 0, 3, 2, 2, 3, 2, 3, 3, 0, 0, 0, 3, 2, 1, 0, 1, 1, 3, 2, 1, 2,\n",
       "       1, 2, 1, 2, 0, 1, 1, 3, 1, 2, 2, 0, 2, 1, 0, 3, 2, 3, 3, 1, 1, 0,\n",
       "       3, 2, 2, 1, 3, 2, 0, 1, 0, 3, 1, 3, 2, 3, 3, 2, 2, 2, 3, 0, 2, 3,\n",
       "       1, 0, 0, 0, 2, 2, 1, 3, 2, 1, 3, 3, 1, 0, 2, 0, 1, 0, 0, 3, 1, 3,\n",
       "       2, 1, 1, 0, 1, 0, 2, 2, 1, 1, 3, 3, 1, 1, 0, 3, 2, 1, 0, 1, 1, 1,\n",
       "       1, 1, 2, 1, 3, 1, 0, 2, 0, 3, 3, 0, 0, 2, 1, 1, 3, 3, 3, 2, 3, 1,\n",
       "       1, 1, 3, 0, 2, 0, 0, 1, 0, 3, 2, 2, 0, 1, 3, 0, 3, 1, 0, 0, 3, 3,\n",
       "       2, 0, 1, 0, 3, 3, 3, 2, 3, 2, 3, 0, 1, 2, 1, 0, 0, 1, 1, 3, 3, 1,\n",
       "       1, 0, 1, 0, 2, 1, 3, 3, 1, 0, 0, 0, 2, 3, 3, 1, 1, 3, 1, 2, 1, 1,\n",
       "       3, 1, 2, 0, 3, 3, 0, 2, 0, 3, 1, 3, 0, 1, 2, 2, 3, 1, 2, 3, 0, 0,\n",
       "       1, 2, 0, 1, 3, 2, 0, 3, 0, 1, 1, 1, 2, 1, 1, 2, 3, 3, 0, 0, 3, 1,\n",
       "       0, 2, 2, 0, 2, 2, 2, 3, 3, 2, 3, 1, 2, 2, 0, 2, 0, 1, 2, 1, 0, 2,\n",
       "       3, 3, 1, 1, 0, 3, 0, 1, 3, 2, 2, 0, 1, 0, 2, 1, 2, 3, 2, 0, 1, 3,\n",
       "       3, 2, 3, 0, 2, 2, 3, 2, 0, 3, 1, 0, 2, 2, 0, 3, 1, 3, 0, 0, 0, 0,\n",
       "       0, 1, 2, 2, 0, 2, 2, 2, 1, 3, 2, 3, 0, 1, 2, 3, 0, 1, 3, 3],\n",
       "      dtype=int32)"
      ]
     },
     "execution_count": 16,
     "metadata": {},
     "output_type": "execute_result"
    }
   ],
   "source": [
    "y_kmeans"
   ]
  },
  {
   "cell_type": "code",
   "execution_count": 22,
   "metadata": {},
   "outputs": [],
   "source": [
    "y_train[y_train==10]=3"
   ]
  },
  {
   "cell_type": "code",
   "execution_count": 24,
   "metadata": {},
   "outputs": [],
   "source": [
    "from sklearn.metrics import confusion_matrix"
   ]
  },
  {
   "cell_type": "code",
   "execution_count": 25,
   "metadata": {},
   "outputs": [
    {
     "data": {
      "text/plain": [
       "array([[200,   0,   0,   0],\n",
       "       [  0, 192,   0,   0],\n",
       "       [  0,   0, 190,   0],\n",
       "       [  0,   0,   0, 186]])"
      ]
     },
     "execution_count": 25,
     "metadata": {},
     "output_type": "execute_result"
    }
   ],
   "source": [
    "confusion_matrix(y_train, y_kmeans)"
   ]
  },
  {
   "cell_type": "code",
   "execution_count": 42,
   "metadata": {},
   "outputs": [
    {
     "data": {
      "text/plain": [
       "<matplotlib.image.AxesImage at 0x7f166a65fe48>"
      ]
     },
     "execution_count": 42,
     "metadata": {},
     "output_type": "execute_result"
    },
    {
     "data": {
      "image/png": "[encoded data removed]",
      "text/plain": [
       "<Figure size 432x288 with 1 Axes>"
      ]
     },
     "metadata": {
      "needs_background": "light"
     },
     "output_type": "display_data"
    }
   ],
   "source": [
    "%matplotlib inline\n",
    "from sklearn import cluster\n",
    "from matplotlib.image import imread\n",
    "plt.imshow(X_train_cut[3][...,0])"
   ]
  },
  {
   "cell_type": "code",
   "execution_count": 43,
   "metadata": {},
   "outputs": [],
   "source": [
    "image = X_train_cut[3][...,0]"
   ]
  },
  {
   "cell_type": "code",
   "execution_count": 46,
   "metadata": {},
   "outputs": [],
   "source": [
    "image_res = image.reshape(340*800)"
   ]
  },
  {
   "cell_type": "code",
   "execution_count": 52,
   "metadata": {},
   "outputs": [],
   "source": [
    "img = X_train_RF[3][...,np.newaxis]"
   ]
  },
  {
   "cell_type": "code",
   "execution_count": 53,
   "metadata": {},
   "outputs": [
    {
     "data": {
      "text/plain": [
       "(272000, 1)"
      ]
     },
     "execution_count": 53,
     "metadata": {},
     "output_type": "execute_result"
    }
   ],
   "source": [
    "img.shape"
   ]
  },
  {
   "cell_type": "code",
   "execution_count": 60,
   "metadata": {},
   "outputs": [
    {
     "name": "stderr",
     "output_type": "stream",
     "text": [
      "/users/yw18581/.conda/envs/fluffy-bunnies/lib/python3.6/site-packages/sklearn/cluster/k_means_.py:971: ConvergenceWarning: Number of distinct clusters (2) found smaller than n_clusters (10). Possibly due to duplicate points in X.\n",
      "  return_n_iter=True)\n"
     ]
    }
   ],
   "source": [
    "kmeans_cluster = KMeans(n_clusters=10)\n",
    "kmeans_cluster.fit(img)\n",
    "cluster_centers = kmeans_cluster.cluster_centers_\n",
    "cluster_labels = kmeans_cluster.labels_"
   ]
  },
  {
   "cell_type": "code",
   "execution_count": 61,
   "metadata": {},
   "outputs": [
    {
     "data": {
      "text/plain": [
       "<matplotlib.image.AxesImage at 0x7f166a1417b8>"
      ]
     },
     "execution_count": 61,
     "metadata": {},
     "output_type": "execute_result"
    },
    {
     "data": {
      "image/png": "[encoded data removed]",
      "text/plain": [
       "<Figure size 576x432 with 1 Axes>"
      ]
     },
     "metadata": {
      "needs_background": "light"
     },
     "output_type": "display_data"
    }
   ],
   "source": [
    "plt.figure(figsize = (8,6))\n",
    "plt.imshow(cluster_centers[cluster_labels].reshape(340, 800))"
   ]
  },
  {
   "cell_type": "code",
   "execution_count": null,
   "metadata": {},
   "outputs": [],
   "source": []
  }
 ],
 "metadata": {
  "kernelspec": {
   "display_name": "Python 3",
   "language": "python",
   "name": "python3"
  },
  "language_info": {
   "codemirror_mode": {
    "name": "ipython",
    "version": 3
   },
   "file_extension": ".py",
   "mimetype": "text/x-python",
   "name": "python",
   "nbconvert_exporter": "python",
   "pygments_lexer": "ipython3",
   "version": "3.6.7"
  }
 },
 "nbformat": 4,
 "nbformat_minor": 2
}
