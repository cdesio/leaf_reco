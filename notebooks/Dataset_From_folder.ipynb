{
 "cells": [
  {
   "cell_type": "code",
   "execution_count": 1,
   "metadata": {},
   "outputs": [],
   "source": [
    "import os"
   ]
  },
  {
   "cell_type": "code",
   "execution_count": 29,
   "metadata": {},
   "outputs": [],
   "source": [
    "import re"
   ]
  },
  {
   "cell_type": "code",
   "execution_count": 30,
   "metadata": {},
   "outputs": [],
   "source": [
    "regex = re.compile(r'\\d+')"
   ]
  },
  {
   "cell_type": "code",
   "execution_count": 4,
   "metadata": {},
   "outputs": [],
   "source": [
    "root_path = os.path.join('/','storage','yw18581','data','first_batch')"
   ]
  },
  {
   "cell_type": "code",
   "execution_count": 6,
   "metadata": {},
   "outputs": [],
   "source": [
    "list_dirs = os.listdir(root_path)"
   ]
  },
  {
   "cell_type": "code",
   "execution_count": 15,
   "metadata": {},
   "outputs": [
    {
     "data": {
      "text/plain": [
       "'/storage/yw18581/data/first_batch'"
      ]
     },
     "execution_count": 15,
     "metadata": {},
     "output_type": "execute_result"
    }
   ],
   "source": [
    "root_path"
   ]
  },
  {
   "cell_type": "code",
   "execution_count": 16,
   "metadata": {},
   "outputs": [
    {
     "data": {
      "text/plain": [
       "['10x10_1mm_v1',\n",
       " '10x10_2mm_v1',\n",
       " '10x10_3mm_v1',\n",
       " '10x10_4mm_v2',\n",
       " '10x10_10mm_v2',\n",
       " '10x10_15mm_v2',\n",
       " '10x10_20mm_v1',\n",
       " '10x10_25mm_v1',\n",
       " '10x10_30mm_v1',\n",
       " '10x10_35mm_v1']"
      ]
     },
     "execution_count": 16,
     "metadata": {},
     "output_type": "execute_result"
    }
   ],
   "source": [
    "list_dirs"
   ]
  },
  {
   "cell_type": "code",
   "execution_count": 81,
   "metadata": {},
   "outputs": [],
   "source": [
    "from pprint import pprint"
   ]
  },
  {
   "cell_type": "code",
   "execution_count": 84,
   "metadata": {},
   "outputs": [],
   "source": [
    "distances = []\n",
    "images_list = []\n",
    "masks_list = []\n",
    "\n",
    "def file_sort_key(fpath: str):\n",
    "    # os.path.split(fpath) --> base, fname\n",
    "    # os.path.splitext(fname) --> name, ext\n",
    "    # example_filename: File_3_1mm_mask_2155.tiff\n",
    "    _, fname = os.path.split(fpath)\n",
    "    fname, _ = os.path.splitext(fname)\n",
    "    _, dist, *rest = fname.split('_')\n",
    "    return int(dist)\n",
    "\n",
    "\n",
    "for folder in list_dirs:\n",
    "    image_found = 0\n",
    "    \n",
    "    folder_imgs = []\n",
    "    folder_masks = []\n",
    "    \n",
    "    for fname in sorted(os.listdir(os.path.join(root_path,folder))):\n",
    "        if fname.startswith(\"File\"):\n",
    "            \n",
    "            if \"mask\" not in fname:\n",
    "                image_found+=1\n",
    "                folder_imgs.append(os.path.join(root_path, folder, fname))\n",
    "            else:\n",
    "                folder_masks.append(os.path.join(root_path, folder, fname))\n",
    "    \n",
    "    assert len(folder_imgs) == len(folder_masks)\n",
    "    \n",
    "    folder_imgs = sorted(folder_imgs, key=file_sort_key)\n",
    "    folder_masks = sorted(folder_masks, key=file_sort_key)\n",
    "    \n",
    "    images_list.extend(folder_imgs)\n",
    "    masks_list.extend(folder_masks)\n",
    "    \n",
    "    dist = regex.findall(folder)[2]\n",
    "    if image_found:\n",
    "        distances.extend([dist for _ in range(image_found)])"
   ]
  },
  {
   "cell_type": "code",
   "execution_count": 85,
   "metadata": {},
   "outputs": [
    {
     "name": "stdout",
     "output_type": "stream",
     "text": [
      "3000 3000 3000\n"
     ]
    }
   ],
   "source": [
    "print(len(distances), len(images_list), len(masks_list))"
   ]
  },
  {
   "cell_type": "code",
   "execution_count": 86,
   "metadata": {},
   "outputs": [],
   "source": [
    "from random import choice"
   ]
  },
  {
   "cell_type": "code",
   "execution_count": 88,
   "metadata": {},
   "outputs": [
    {
     "name": "stdout",
     "output_type": "stream",
     "text": [
      "Random Index: 1806\n",
      "20 /storage/yw18581/data/first_batch/10x10_20mm_v1/File_6.tiff /storage/yw18581/data/first_batch/10x10_20mm_v1/File_6_20mm_mask_1801.tiff\n",
      "Random Index: 1528\n",
      "15 /storage/yw18581/data/first_batch/10x10_15mm_v2/File_28.tiff /storage/yw18581/data/first_batch/10x10_15mm_v2/File_28_15mm_mask_1898.tiff\n",
      "Random Index: 432\n",
      "2 /storage/yw18581/data/first_batch/10x10_2mm_v1/File_132.tiff /storage/yw18581/data/first_batch/10x10_2mm_v1/File_132_2mm_mask_2140.tiff\n",
      "Random Index: 1997\n",
      "20 /storage/yw18581/data/first_batch/10x10_20mm_v1/File_197.tiff /storage/yw18581/data/first_batch/10x10_20mm_v1/File_197_20mm_mask_1802.tiff\n",
      "Random Index: 2312\n",
      "25 /storage/yw18581/data/first_batch/10x10_25mm_v1/File_212.tiff /storage/yw18581/data/first_batch/10x10_25mm_v1/File_212_25mm_mask_1698.tiff\n",
      "Random Index: 149\n",
      "1 /storage/yw18581/data/first_batch/10x10_1mm_v1/File_149.tiff /storage/yw18581/data/first_batch/10x10_1mm_v1/File_149_1mm_mask_2157.tiff\n",
      "Random Index: 860\n",
      "3 /storage/yw18581/data/first_batch/10x10_3mm_v1/File_260.tiff /storage/yw18581/data/first_batch/10x10_3mm_v1/File_260_3mm_mask_2113.tiff\n",
      "Random Index: 1670\n",
      "15 /storage/yw18581/data/first_batch/10x10_15mm_v2/File_170.tiff /storage/yw18581/data/first_batch/10x10_15mm_v2/File_170_15mm_mask_1884.tiff\n",
      "Random Index: 1492\n",
      "10 /storage/yw18581/data/first_batch/10x10_10mm_v2/File_292.tiff /storage/yw18581/data/first_batch/10x10_10mm_v2/File_292_4mm_mask_1985.tiff\n",
      "Random Index: 2327\n",
      "25 /storage/yw18581/data/first_batch/10x10_25mm_v1/File_227.tiff /storage/yw18581/data/first_batch/10x10_25mm_v1/File_227_25mm_mask_1694.tiff\n"
     ]
    }
   ],
   "source": [
    "for i in range(10):\n",
    "    idx = choice(range(len(distances)))\n",
    "    print(f'Random Index: {idx}')\n",
    "    print(distances[idx], images_list[idx], masks_list[idx])"
   ]
  },
  {
   "cell_type": "code",
   "execution_count": null,
   "metadata": {},
   "outputs": [],
   "source": [
    "import torch\n",
    "import numpy as np\n",
    "from torch.utils.data"
   ]
  }
 ],
 "metadata": {
  "kernelspec": {
   "display_name": "Python 3",
   "language": "python",
   "name": "python3"
  },
  "language_info": {
   "codemirror_mode": {
    "name": "ipython",
    "version": 3
   },
   "file_extension": ".py",
   "mimetype": "text/x-python",
   "name": "python",
   "nbconvert_exporter": "python",
   "pygments_lexer": "ipython3",
   "version": "3.6.7"
  }
 },
 "nbformat": 4,
 "nbformat_minor": 2
}
