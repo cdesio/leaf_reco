{
 "cells": [
  {
   "cell_type": "code",
   "execution_count": 1,
   "metadata": {},
   "outputs": [],
   "source": [
    "import numpy as np\n",
    "import os\n",
    "import matplotlib.pyplot as plt\n",
    "%matplotlib inline"
   ]
  },
  {
   "cell_type": "code",
   "execution_count": 2,
   "metadata": {},
   "outputs": [],
   "source": [
    "data_dir = '/storage/yw18581/data/'\n",
    "data_folder = os.path.join(data_dir, 'train_validation_test')"
   ]
  },
  {
   "cell_type": "code",
   "execution_count": 3,
   "metadata": {},
   "outputs": [],
   "source": [
    "\n",
    "def cut_X(arr, reshape = None):\n",
    "    x_cut = arr[:,960:1300,600:]\n",
    "    if reshape:\n",
    "        if len(x_cut.shape)>3:\n",
    "            x_cut = x_cut[...,0]\n",
    "            x_cut_out = x_cut.reshape(x_cut.shape[0],x_cut.shape[1]*x_cut.shape[2])\n",
    "    else:\n",
    "        x_cut_out = x_cut\n",
    "    return x_cut_out\n",
    "\n",
    "def reshape_RF(arr):\n",
    "    arr_RF = arr.reshape((arr.shape[0], arr.shape[1]*arr.shape[2]))\n",
    "    return arr_RF"
   ]
  },
  {
   "cell_type": "code",
   "execution_count": 4,
   "metadata": {},
   "outputs": [],
   "source": [
    "\n",
    "X_train = np.load(os.path.join(data_folder, 'Xy_train_dist.npz'))[\"y\"]\n",
    "y_train = np.load(os.path.join(data_folder, 'Xy_train_dist.npz'))[\"dist\"]\n",
    "\n",
    "X_val = np.load(os.path.join(data_folder,'Xy_val_dist.npz'))[\"y\"]\n",
    "y_val = np.load(os.path.join(data_folder, 'Xy_val_dist.npz'))[\"dist\"]\n",
    "X_test = np.load(os.path.join(data_folder, 'Xy_test_dist.npz'))[\"y\"]\n",
    "y_test = np.load(os.path.join(data_folder, 'Xy_test_dist.npz'))[\"dist\"]"
   ]
  },
  {
   "cell_type": "code",
   "execution_count": 5,
   "metadata": {},
   "outputs": [],
   "source": [
    "\n",
    "X_train_cut = cut_X(X_train)\n",
    "X_train_RF = reshape_RF(X_train_cut)\n",
    "X_test_cut = cut_X(X_test)\n",
    "X_test_RF = reshape_RF(X_test_cut)"
   ]
  },
  {
   "cell_type": "code",
   "execution_count": 14,
   "metadata": {},
   "outputs": [],
   "source": [
    "from sklearn import svm\n",
    "from sklearn.tree import DecisionTreeRegressor\n",
    "from sklearn.ensemble import AdaBoostRegressor"
   ]
  },
  {
   "cell_type": "code",
   "execution_count": 28,
   "metadata": {},
   "outputs": [],
   "source": [
    "regr_1 = DecisionTreeRegressor(max_depth=4)\n",
    "\n",
    "regr_2 = AdaBoostRegressor(DecisionTreeRegressor(max_depth=4),\n",
    "                          n_estimators=300, random_state=42)"
   ]
  },
  {
   "cell_type": "code",
   "execution_count": 29,
   "metadata": {},
   "outputs": [
    {
     "data": {
      "text/plain": [
       "AdaBoostRegressor(base_estimator=DecisionTreeRegressor(criterion='mse', max_depth=4, max_features=None,\n",
       "           max_leaf_nodes=None, min_impurity_decrease=0.0,\n",
       "           min_impurity_split=None, min_samples_leaf=1,\n",
       "           min_samples_split=2, min_weight_fraction_leaf=0.0,\n",
       "           presort=False, random_state=None, splitter='best'),\n",
       "         learning_rate=1.0, loss='linear', n_estimators=300,\n",
       "         random_state=42)"
      ]
     },
     "execution_count": 29,
     "metadata": {},
     "output_type": "execute_result"
    }
   ],
   "source": [
    "regr_1.fit(X_train_RF, y_train)\n",
    "regr_2.fit(X_train_RF, y_train)"
   ]
  },
  {
   "cell_type": "code",
   "execution_count": 30,
   "metadata": {},
   "outputs": [],
   "source": [
    "y_1 = regr_1.predict(X_test_RF)\n",
    "y_2 = regr_2.predict(X_test_RF)"
   ]
  },
  {
   "cell_type": "code",
   "execution_count": 31,
   "metadata": {},
   "outputs": [],
   "source": [
    "from sklearn.metrics import mean_squared_error, confusion_matrix"
   ]
  },
  {
   "cell_type": "code",
   "execution_count": 32,
   "metadata": {},
   "outputs": [
    {
     "data": {
      "text/plain": [
       "0.03333333333333333"
      ]
     },
     "execution_count": 32,
     "metadata": {},
     "output_type": "execute_result"
    }
   ],
   "source": [
    "mean_squared_error(y_test, y_1)"
   ]
  },
  {
   "cell_type": "code",
   "execution_count": 33,
   "metadata": {},
   "outputs": [
    {
     "data": {
      "text/plain": [
       "1.1041666666666667"
      ]
     },
     "execution_count": 33,
     "metadata": {},
     "output_type": "execute_result"
    }
   ],
   "source": [
    "mean_squared_error(y_test, y_2)"
   ]
  },
  {
   "cell_type": "code",
   "execution_count": 34,
   "metadata": {},
   "outputs": [],
   "source": [
    "X_1mm = np.load(os.path.join(data_folder, \"Xy_1mm.npz\"))[\"y\"]\n",
    "y_1mm = np.load(os.path.join(data_folder, \"Xy_1mm.npz\"))[\"dist\"]\n",
    "\n",
    "X_3mm = np.load(os.path.join(data_folder, \"Xy_3mm.npz\"))[\"y\"]\n",
    "y_3mm = np.load(os.path.join(data_folder, \"Xy_3mm.npz\"))[\"dist\"]\n",
    "\n",
    "X_15mm = np.load(os.path.join(data_folder, \"Xy_15mm.npz\"))[\"y\"]\n",
    "y_15mm = np.load(os.path.join(data_folder, \"Xy_15mm.npz\"))[\"dist\"]\n",
    "\n",
    "X_20mm = np.load(os.path.join(data_folder, \"Xy_20mm.npz\"))[\"y\"]\n",
    "y_20mm = np.load(os.path.join(data_folder, \"Xy_20mm.npz\"))[\"dist\"]\n",
    "\n",
    "X_30mm = np.load(os.path.join(data_folder, \"Xy_30mm.npz\"))[\"y\"]\n",
    "y_30mm = np.load(os.path.join(data_folder, \"Xy_30mm.npz\"))[\"dist\"]\n",
    "\n",
    "X_35mm = np.load(os.path.join(data_folder, \"Xy_35mm.npz\"))[\"y\"]\n",
    "y_35mm = np.load(os.path.join(data_folder, \"Xy_35mm.npz\"))[\"dist\"]"
   ]
  },
  {
   "cell_type": "code",
   "execution_count": 35,
   "metadata": {},
   "outputs": [],
   "source": [
    "X_1mm_cut = cut_X(X_1mm)\n",
    "X_3mm_cut = cut_X(X_3mm)\n",
    "X_15mm_cut = cut_X(X_15mm)\n",
    "X_20mm_cut = cut_X(X_20mm)\n",
    "X_30mm_cut = cut_X(X_30mm)\n",
    "X_35mm_cut = cut_X(X_35mm)\n",
    "\n",
    "X_1mm_RF  = reshape_RF(X_1mm_cut)\n",
    "X_3mm_RF  = reshape_RF(X_3mm_cut)\n",
    "X_15mm_RF  = reshape_RF(X_15mm_cut)\n",
    "X_20mm_RF  = reshape_RF(X_20mm_cut)\n",
    "X_30mm_RF  = reshape_RF(X_30mm_cut)\n",
    "X_35mm_RF  = reshape_RF(X_35mm_cut)"
   ]
  },
  {
   "cell_type": "code",
   "execution_count": 36,
   "metadata": {},
   "outputs": [],
   "source": [
    "X_new = np.vstack((X_1mm_RF, X_3mm_RF, X_15mm_RF,\n",
    "                X_20mm_RF, X_3mm_RF, X_35mm_RF))"
   ]
  },
  {
   "cell_type": "code",
   "execution_count": 37,
   "metadata": {},
   "outputs": [],
   "source": [
    "y_new = np.hstack((y_1mm, y_3mm, y_15mm,\n",
    "                  y_20mm, y_30mm, y_35mm))"
   ]
  },
  {
   "cell_type": "code",
   "execution_count": 38,
   "metadata": {},
   "outputs": [],
   "source": [
    "new_preds = regr_1.predict(X_new)"
   ]
  },
  {
   "cell_type": "code",
   "execution_count": 39,
   "metadata": {},
   "outputs": [
    {
     "data": {
      "text/plain": [
       "array([[  0, 300,   0,   0,   0,   0,   0,   0,   0,   0],\n",
       "       [  0,   0,   0,   0,   0,   0,   0,   0,   0,   0],\n",
       "       [  0,  59,   0, 241,   0,   0,   0,   0,   0,   0],\n",
       "       [  0,   0,   0,   0,   0,   0,   0,   0,   0,   0],\n",
       "       [  0,   0,   0,   0,   0,   0,   0,   0,   0,   0],\n",
       "       [  0,   0,   0,   0,  94,   0,   0, 206,   0,   0],\n",
       "       [  0,   0,   0,   0,   2,   0,   0, 298,   0,   0],\n",
       "       [  0,   0,   0,   0,   0,   0,   0,   0,   0,   0],\n",
       "       [  0,  59,   0, 241,   0,   0,   0,   0,   0,   0],\n",
       "       [  0,   0,   0,   0,   0,   0,   0, 300,   0,   0]])"
      ]
     },
     "execution_count": 39,
     "metadata": {},
     "output_type": "execute_result"
    }
   ],
   "source": [
    "confusion_matrix(y_new, new_preds)"
   ]
  },
  {
   "cell_type": "code",
   "execution_count": 40,
   "metadata": {},
   "outputs": [
    {
     "data": {
      "text/plain": [
       "150.20666666666668"
      ]
     },
     "execution_count": 40,
     "metadata": {},
     "output_type": "execute_result"
    }
   ],
   "source": [
    "mean_squared_error(y_new, new_preds)"
   ]
  },
  {
   "cell_type": "code",
   "execution_count": null,
   "metadata": {},
   "outputs": [],
   "source": []
  }
 ],
 "metadata": {
  "kernelspec": {
   "display_name": "Python 3",
   "language": "python",
   "name": "python3"
  },
  "language_info": {
   "codemirror_mode": {
    "name": "ipython",
    "version": 3
   },
   "file_extension": ".py",
   "mimetype": "text/x-python",
   "name": "python",
   "nbconvert_exporter": "python",
   "pygments_lexer": "ipython3",
   "version": "3.6.7"
  }
 },
 "nbformat": 4,
 "nbformat_minor": 2
}
