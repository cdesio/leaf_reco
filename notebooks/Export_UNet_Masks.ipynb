{
 "cells": [
  {
   "cell_type": "code",
   "execution_count": 1,
   "metadata": {
    "scrolled": true
   },
   "outputs": [
    {
     "name": "stdout",
     "output_type": "stream",
     "text": [
      "Thu May  2 10:37:12 2019       \n",
      "+-----------------------------------------------------------------------------+\n",
      "| NVIDIA-SMI 410.79       Driver Version: 410.79       CUDA Version: 10.0     |\n",
      "|-------------------------------+----------------------+----------------------+\n",
      "| GPU  Name        Persistence-M| Bus-Id        Disp.A | Volatile Uncorr. ECC |\n",
      "| Fan  Temp  Perf  Pwr:Usage/Cap|         Memory-Usage | GPU-Util  Compute M. |\n",
      "|===============================+======================+======================|\n",
      "|   0  TITAN Xp            Off  | 00000000:01:00.0 Off |                  N/A |\n",
      "| 23%   26C    P8    16W / 250W |      0MiB / 12195MiB |      0%      Default |\n",
      "+-------------------------------+----------------------+----------------------+\n",
      "                                                                               \n",
      "+-----------------------------------------------------------------------------+\n",
      "| Processes:                                                       GPU Memory |\n",
      "|  GPU       PID   Type   Process name                             Usage      |\n",
      "|=============================================================================|\n",
      "|  No running processes found                                                 |\n",
      "+-----------------------------------------------------------------------------+\n"
     ]
    }
   ],
   "source": [
    "!nvidia-smi"
   ]
  },
  {
   "cell_type": "code",
   "execution_count": 2,
   "metadata": {},
   "outputs": [],
   "source": [
    "IMG_WIDTH = 1400\n",
    "IMG_HEIGHT = 1400\n",
    "ROW_SLICE = slice(0, 1400)\n",
    "COL_SLICE = slice(1000, None)"
   ]
  },
  {
   "cell_type": "code",
   "execution_count": 3,
   "metadata": {},
   "outputs": [
    {
     "name": "stderr",
     "output_type": "stream",
     "text": [
      "Using TensorFlow backend.\n"
     ]
    }
   ],
   "source": [
    "import os\n",
    "import sys\n",
    "import numpy as np\n",
    "sys.path.append(\"../\")\n",
    "from matplotlib.image import imread\n",
    "import matplotlib.pyplot as plt\n",
    "import tensorflow as tf\n",
    "from UNet import get_unet"
   ]
  },
  {
   "cell_type": "code",
   "execution_count": 4,
   "metadata": {},
   "outputs": [],
   "source": [
    "%matplotlib inline"
   ]
  },
  {
   "cell_type": "code",
   "execution_count": 6,
   "metadata": {},
   "outputs": [],
   "source": [
    "data_dir = \"/storage/yw18581/data/\""
   ]
  },
  {
   "cell_type": "code",
   "execution_count": null,
   "metadata": {},
   "outputs": [],
   "source": [
    "from data_loaders_km3 import data_generator, get_n_iterations\n",
    "from os import path as p\n",
    "from tqdm import tqdm"
   ]
  },
  {
   "cell_type": "code",
   "execution_count": null,
   "metadata": {},
   "outputs": [],
   "source": [
    "def inference_step(network_model, test_data_generator, predict_steps):\n",
    "\n",
    "    y_pred = list()\n",
    "\n",
    "    for _ in tqdm(range(predict_steps)):\n",
    "        X_batch, _ = next(test_data_generator)\n",
    "        Y_batch_pred = network_model.predict_on_batch(X_batch)\n",
    "        #print(Y_batch_pred.shape)\n",
    "        y_pred.append(Y_batch_pred)\n",
    "    y_pred = np.concatenate(y_pred, axis=0)\n",
    "\n",
    "    return y_pred"
   ]
  },
  {
   "cell_type": "code",
   "execution_count": null,
   "metadata": {},
   "outputs": [],
   "source": [
    "TRAIN_VAL_TEST_DIR = os.path.join(data_dir, \"train_validation_test\")\n",
    "N_EPOCHS=1500\n",
    "N_FILES = 1\n",
    "BATCH_SIZE=2"
   ]
  },
  {
   "cell_type": "code",
   "execution_count": null,
   "metadata": {},
   "outputs": [],
   "source": [
    "CHECKPOINT_FOLDER_PATH = os.path.join(data_dir, 'trained_models')\n",
    "TASK_NAME = 'UNet_training_generator_{}epochs'.format(N_EPOCHS)\n",
    "TASK_FOLDER_PATH = os.path.join(CHECKPOINT_FOLDER_PATH, TASK_NAME)"
   ]
  },
  {
   "cell_type": "code",
   "execution_count": null,
   "metadata": {},
   "outputs": [],
   "source": [
    "TRAINING_WEIGHTS_FILEPATH=os.path.join(CHECKPOINT_FOLDER_PATH,'retrained_UNet_1000+500epochs.hdf5')"
   ]
  },
  {
   "cell_type": "code",
   "execution_count": null,
   "metadata": {},
   "outputs": [],
   "source": [
    "model1500 = get_unet()\n",
    "model1500.load_weights(TRAINING_WEIGHTS_FILEPATH)"
   ]
  },
  {
   "cell_type": "code",
   "execution_count": 13,
   "metadata": {},
   "outputs": [],
   "source": [
    "fname_1mm = [os.path.join(TRAIN_VAL_TEST_DIR,\"Xy_1mm.npz\")]\n",
    "fname_3mm = [os.path.join(TRAIN_VAL_TEST_DIR,\"Xy_3mm.npz\")]\n",
    "fname_15mm = [os.path.join(TRAIN_VAL_TEST_DIR,\"Xy_15mm.npz\")]\n",
    "fname_20mm = [os.path.join(TRAIN_VAL_TEST_DIR,\"Xy_20mm.npz\")]\n",
    "fname_30mm = [os.path.join(TRAIN_VAL_TEST_DIR,\"Xy_30mm.npz\")]\n",
    "fname_35mm = [os.path.join(TRAIN_VAL_TEST_DIR,\"Xy_35mm.npz\")]"
   ]
  },
  {
   "cell_type": "code",
   "execution_count": 14,
   "metadata": {},
   "outputs": [],
   "source": [
    "fname_2mm = [os.path.join(TRAIN_VAL_TEST_DIR,\"Xy_2mm.npz\")]\n",
    "fname_4mm = [os.path.join(TRAIN_VAL_TEST_DIR,\"Xy_4mm.npz\")]\n",
    "fname_10mm = [os.path.join(TRAIN_VAL_TEST_DIR,\"Xy_10mm.npz\")]\n",
    "fname_25mm = [os.path.join(TRAIN_VAL_TEST_DIR,\"Xy_25mm.npz\")]"
   ]
  },
  {
   "cell_type": "code",
   "execution_count": 15,
   "metadata": {},
   "outputs": [],
   "source": [
    "def data_gen(fname):\n",
    "    return data_generator(fname, batch_size=BATCH_SIZE, ftarget = lambda y: y)"
   ]
  },
  {
   "cell_type": "code",
   "execution_count": 16,
   "metadata": {},
   "outputs": [],
   "source": [
    "data_gen_1mm = data_gen(fname_1mm)\n",
    "data_gen_3mm = data_gen(fname_3mm)\n",
    "data_gen_15mm = data_gen(fname_15mm)\n",
    "data_gen_20mm = data_gen(fname_20mm)\n",
    "data_gen_30mm = data_gen(fname_30mm)\n",
    "data_gen_35mm = data_gen(fname_35mm)\n",
    "data_gen_2mm = data_gen(fname_2mm)\n",
    "data_gen_4mm = data_gen(fname_4mm)\n",
    "data_gen_10mm = data_gen(fname_10mm)\n",
    "data_gen_25mm = data_gen(fname_25mm)"
   ]
  },
  {
   "cell_type": "code",
   "execution_count": 17,
   "metadata": {},
   "outputs": [
    {
     "name": "stdout",
     "output_type": "stream",
     "text": [
      "['/storage/yw18581/data/train_validation_test/Xy_3mm.npz']\n",
      "/storage/yw18581/data/train_validation_test/Xy_3mm.npz\n",
      "(300, 1400, 1400, 1)\n",
      "150 300\n",
      "['/storage/yw18581/data/train_validation_test/Xy_15mm.npz']\n",
      "/storage/yw18581/data/train_validation_test/Xy_15mm.npz\n",
      "(300, 1400, 1400, 1)\n",
      "150 300\n",
      "['/storage/yw18581/data/train_validation_test/Xy_20mm.npz']\n",
      "/storage/yw18581/data/train_validation_test/Xy_20mm.npz\n",
      "(300, 1400, 1400, 1)\n",
      "150 300\n",
      "['/storage/yw18581/data/train_validation_test/Xy_30mm.npz']\n",
      "/storage/yw18581/data/train_validation_test/Xy_30mm.npz\n",
      "(300, 1400, 1400, 1)\n",
      "150 300\n",
      "['/storage/yw18581/data/train_validation_test/Xy_35mm.npz']\n",
      "/storage/yw18581/data/train_validation_test/Xy_35mm.npz\n",
      "(300, 1400, 1400, 1)\n",
      "150 300\n",
      "['/storage/yw18581/data/train_validation_test/Xy_2mm.npz']\n",
      "/storage/yw18581/data/train_validation_test/Xy_2mm.npz\n",
      "(300, 1400, 1400, 1)\n",
      "150 300\n",
      "['/storage/yw18581/data/train_validation_test/Xy_4mm.npz']\n",
      "/storage/yw18581/data/train_validation_test/Xy_4mm.npz\n",
      "(300, 1400, 1400, 1)\n",
      "150 300\n",
      "['/storage/yw18581/data/train_validation_test/Xy_10mm.npz']\n",
      "/storage/yw18581/data/train_validation_test/Xy_10mm.npz\n",
      "(300, 1400, 1400, 1)\n",
      "150 300\n",
      "['/storage/yw18581/data/train_validation_test/Xy_25mm.npz']\n",
      "/storage/yw18581/data/train_validation_test/Xy_25mm.npz\n",
      "(300, 1400, 1400, 1)\n",
      "150 300\n"
     ]
    }
   ],
   "source": [
    "for i in [fname_3mm, fname_15mm, fname_20mm, fname_30mm, fname_35mm, fname_2mm, fname_4mm, fname_10mm, fname_25mm]:\n",
    "    steps, evts = get_n_iterations(i, batch_size=BATCH_SIZE)\n",
    "    print(steps, evts)"
   ]
  },
  {
   "cell_type": "code",
   "execution_count": 18,
   "metadata": {},
   "outputs": [],
   "source": [
    "prediction_steps, n_evts = steps, evts"
   ]
  },
  {
   "cell_type": "code",
   "execution_count": 19,
   "metadata": {},
   "outputs": [],
   "source": [
    "def run_predictions_and_save(model, fname_in, data_gen, steps, file_key):\n",
    "    pred = inference_step(model, data_gen, steps)\n",
    "    pred = pred.astype(np.uint8)*255\n",
    "    Xd = np.load(fname_in[0])\n",
    "    X_out =Xd['x'][...,0]\n",
    "    dist_out = Xd['dist']\n",
    "    np.savez_compressed(os.path.join(TASK_FOLDER_PATH,\"Xy_\"+file_key+\"_predicted_UNet.npz\"),\n",
    "                   x= X_out, y=pred[...,0], dist = dist_out)\n",
    "    return"
   ]
  },
  {
   "cell_type": "code",
   "execution_count": 20,
   "metadata": {},
   "outputs": [
    {
     "name": "stderr",
     "output_type": "stream",
     "text": [
      "100%|██████████| 150/150 [00:40<00:00,  4.95it/s]\n"
     ]
    }
   ],
   "source": [
    "run_predictions_and_save(model1500, fname_1mm, data_gen_1mm, prediction_steps, \"1mm\")"
   ]
  },
  {
   "cell_type": "code",
   "execution_count": 23,
   "metadata": {},
   "outputs": [
    {
     "data": {
      "text/plain": [
       "['Xy_test_predicted_UNet.npz',\n",
       " 'Xy_3mm_predicted_UNet.npz',\n",
       " 'Xy_1mm_predicted_UNet.npz']"
      ]
     },
     "execution_count": 23,
     "metadata": {},
     "output_type": "execute_result"
    }
   ],
   "source": [
    "os.listdir(TASK_FOLDER_PATH)"
   ]
  },
  {
   "cell_type": "code",
   "execution_count": 25,
   "metadata": {},
   "outputs": [
    {
     "name": "stderr",
     "output_type": "stream",
     "text": [
      "100%|██████████| 150/150 [00:39<00:00,  4.90it/s]\n"
     ]
    }
   ],
   "source": [
    "run_predictions_and_save(model1500, fname_2mm, data_gen_2mm, prediction_steps, \"2mm\")"
   ]
  },
  {
   "cell_type": "code",
   "execution_count": 26,
   "metadata": {},
   "outputs": [
    {
     "name": "stderr",
     "output_type": "stream",
     "text": [
      "100%|██████████| 150/150 [00:39<00:00,  4.88it/s]\n"
     ]
    }
   ],
   "source": [
    "run_predictions_and_save(model1500, fname_4mm, data_gen_4mm, prediction_steps, \"4mm\")"
   ]
  },
  {
   "cell_type": "code",
   "execution_count": 27,
   "metadata": {},
   "outputs": [
    {
     "name": "stderr",
     "output_type": "stream",
     "text": [
      "100%|██████████| 150/150 [00:40<00:00,  4.91it/s]\n"
     ]
    }
   ],
   "source": [
    "run_predictions_and_save(model1500, fname_10mm, data_gen_10mm, prediction_steps, \"10mm\")"
   ]
  },
  {
   "cell_type": "code",
   "execution_count": 28,
   "metadata": {},
   "outputs": [
    {
     "name": "stderr",
     "output_type": "stream",
     "text": [
      "100%|██████████| 150/150 [00:40<00:00,  4.86it/s]\n"
     ]
    }
   ],
   "source": [
    "run_predictions_and_save(model1500, fname_15mm, data_gen_15mm, prediction_steps, \"15mm\")"
   ]
  },
  {
   "cell_type": "code",
   "execution_count": 19,
   "metadata": {},
   "outputs": [
    {
     "name": "stderr",
     "output_type": "stream",
     "text": [
      "100%|██████████| 150/150 [00:44<00:00,  4.89it/s]\n"
     ]
    }
   ],
   "source": [
    "run_predictions_and_save(model1500, fname_20mm, data_gen_20mm, prediction_steps, \"20mm\")"
   ]
  },
  {
   "cell_type": "code",
   "execution_count": 20,
   "metadata": {},
   "outputs": [
    {
     "name": "stderr",
     "output_type": "stream",
     "text": [
      "100%|██████████| 150/150 [00:38<00:00,  4.93it/s]\n"
     ]
    }
   ],
   "source": [
    "run_predictions_and_save(model1500, fname_25mm, data_gen_25mm, prediction_steps, \"25mm\")"
   ]
  },
  {
   "cell_type": "code",
   "execution_count": 20,
   "metadata": {},
   "outputs": [
    {
     "name": "stderr",
     "output_type": "stream",
     "text": [
      "100%|██████████| 150/150 [01:16<00:00,  4.90it/s]\n"
     ]
    }
   ],
   "source": [
    "run_predictions_and_save(model1500, fname_30mm, data_gen_30mm, prediction_steps, \"30mm\")"
   ]
  },
  {
   "cell_type": "code",
   "execution_count": 21,
   "metadata": {},
   "outputs": [
    {
     "name": "stderr",
     "output_type": "stream",
     "text": [
      "100%|██████████| 150/150 [00:38<00:00,  4.91it/s]\n"
     ]
    }
   ],
   "source": [
    "run_predictions_and_save(model1500, fname_35mm, data_gen_35mm, prediction_steps, \"35mm\")"
   ]
  },
  {
   "cell_type": "code",
   "execution_count": null,
   "metadata": {},
   "outputs": [],
   "source": []
  },
  {
   "cell_type": "code",
   "execution_count": null,
   "metadata": {},
   "outputs": [],
   "source": []
  }
 ],
 "metadata": {
  "kernelspec": {
   "display_name": "Python 3",
   "language": "python",
   "name": "python3"
  },
  "language_info": {
   "codemirror_mode": {
    "name": "ipython",
    "version": 3
   },
   "file_extension": ".py",
   "mimetype": "text/x-python",
   "name": "python",
   "nbconvert_exporter": "python",
   "pygments_lexer": "ipython3",
   "version": "3.6.7"
  }
 },
 "nbformat": 4,
 "nbformat_minor": 2
}
