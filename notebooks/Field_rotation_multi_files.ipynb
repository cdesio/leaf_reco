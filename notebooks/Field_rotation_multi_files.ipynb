{
 "cells": [
  {
   "cell_type": "code",
   "execution_count": 1,
   "metadata": {},
   "outputs": [],
   "source": [
    "import numpy as np\n",
    "import os\n",
    "import sys\n",
    "import matplotlib.pyplot as plt\n",
    "from matplotlib.image import imread\n",
    "from skimage.segmentation import (morphological_chan_vese,\n",
    "                                  checkerboard_level_set)\n",
    "from sklearn.linear_model import LinearRegression"
   ]
  },
  {
   "cell_type": "code",
   "execution_count": 2,
   "metadata": {},
   "outputs": [],
   "source": [
    "folder = \"/Users/cdesio/UoB/DARK-LANA/Dark/Field_5x5/\""
   ]
  },
  {
   "cell_type": "code",
   "execution_count": 20,
   "metadata": {},
   "outputs": [],
   "source": [
    "fnames = sorted(os.listdir(folder))[1:]"
   ]
  },
  {
   "cell_type": "code",
   "execution_count": 73,
   "metadata": {},
   "outputs": [],
   "source": [
    "def groupby(X, y, key=\"max\"):\n",
    "    y = np.asarray(y)\n",
    "    X = np.asarray(X)\n",
    "    y_uniques = np.unique(y)\n",
    "    if key==\"max\":\n",
    "        y_out = [np.max(X[y==yi]) for yi in y_uniques]\n",
    "    elif key==\"min\":\n",
    "        y_out = [np.min(X[y==yi]) for yi in y_uniques]\n",
    "    return y_uniques, y_out"
   ]
  },
  {
   "cell_type": "code",
   "execution_count": 79,
   "metadata": {},
   "outputs": [],
   "source": [
    "def field_rotation(fname):\n",
    "    img = imread(os.path.join(folder, fname))\n",
    "    init_ls =  checkerboard_level_set(img.shape, 5)\n",
    "    ls = morphological_chan_vese(img, 20, init_level_set=init_ls)\n",
    "    contour = [np.nonzero(ls)[0], np.nonzero(ls)[1]]\n",
    "    cut = ls[2000:2400,645:1600]\n",
    "    a = np.argwhere(cut)\n",
    "    x, y = groupby(a[:,0],a[:,1])\n",
    "    if np.all(np.ravel(y)>=398):\n",
    "        print(\"let's try min\")\n",
    "        x,y = groupby(a[:,0],a[:,1], key='min')\n",
    "        x_new =np.asarray(x).reshape(-1,1)\n",
    "        model = LinearRegression()\n",
    "        model.fit(x_new, y)\n",
    "        r_sq = model.score(x_new, y)\n",
    "        intercept = model.intercept_\n",
    "        slope = model.coef_\n",
    "    else: \n",
    "        x_new =np.asarray(x).reshape(-1,1)\n",
    "        model = LinearRegression()\n",
    "        model.fit(x_new, y)\n",
    "        r_sq = model.score(x_new, y)\n",
    "        intercept = model.intercept_\n",
    "        slope = model.coef_\n",
    "    return r_sq, intercept, slope"
   ]
  },
  {
   "cell_type": "code",
   "execution_count": 80,
   "metadata": {},
   "outputs": [
    {
     "name": "stdout",
     "output_type": "stream",
     "text": [
      "file 0/30\n",
      "let's try min\n",
      "done file 0\n",
      "file 1/30\n",
      "done file 1\n",
      "file 2/30\n",
      "done file 2\n",
      "file 3/30\n",
      "let's try min\n",
      "done file 3\n",
      "file 4/30\n",
      "let's try min\n",
      "done file 4\n",
      "file 5/30\n",
      "done file 5\n",
      "file 6/30\n",
      "let's try min\n",
      "done file 6\n",
      "file 7/30\n",
      "let's try min\n",
      "done file 7\n",
      "file 8/30\n",
      "done file 8\n",
      "file 9/30\n",
      "done file 9\n",
      "file 10/30\n",
      "done file 10\n",
      "file 11/30\n",
      "done file 11\n",
      "file 12/30\n",
      "done file 12\n",
      "file 13/30\n",
      "done file 13\n",
      "file 14/30\n",
      "done file 14\n",
      "file 15/30\n",
      "done file 15\n",
      "file 16/30\n",
      "let's try min\n",
      "done file 16\n",
      "file 17/30\n",
      "let's try min\n",
      "done file 17\n",
      "file 18/30\n",
      "done file 18\n",
      "file 19/30\n",
      "let's try min\n",
      "done file 19\n",
      "file 20/30\n",
      "done file 20\n",
      "file 21/30\n",
      "let's try min\n",
      "done file 21\n",
      "file 22/30\n",
      "done file 22\n",
      "file 23/30\n",
      "done file 23\n",
      "file 24/30\n",
      "done file 24\n",
      "file 25/30\n",
      "let's try min\n",
      "done file 25\n",
      "file 26/30\n",
      "done file 26\n",
      "file 27/30\n",
      "let's try min\n",
      "done file 27\n",
      "file 28/30\n",
      "done file 28\n",
      "file 29/30\n",
      "let's try min\n",
      "done file 29\n",
      "done\n"
     ]
    }
   ],
   "source": [
    "r_sqs = []\n",
    "intercepts = []\n",
    "slopes = []\n",
    "angles = []\n",
    "for i,f in enumerate(fnames):\n",
    "    print(\"file {}/{}\".format(i, len(fnames)))\n",
    "    rsq, inter, sl = field_rotation(f)\n",
    "    r_sqs.append(rsq)\n",
    "    intercepts.append(inter)\n",
    "    slopes.append(sl)\n",
    "    angles.append(np.rad2deg(np.arctan(sl)))\n",
    "    print(\"done file {}\".format(i))\n",
    "print(\"done\")"
   ]
  },
  {
   "cell_type": "code",
   "execution_count": null,
   "metadata": {},
   "outputs": [],
   "source": []
  },
  {
   "cell_type": "code",
   "execution_count": 81,
   "metadata": {
    "scrolled": true
   },
   "outputs": [
    {
     "data": {
      "text/plain": [
       "[0.9908231262268282,\n",
       " 0.9920076816251003,\n",
       " 0.9937917023208398,\n",
       " 0.9936479916493893,\n",
       " 0.9940904971735204,\n",
       " 0.9908680261357136,\n",
       " 0.9940822962599243,\n",
       " 0.9947122040757069,\n",
       " 0.9931954843785468,\n",
       " 0.9932827443860496,\n",
       " 0.9914805070378503,\n",
       " 0.9730890132957426,\n",
       " 0.9927780981993384,\n",
       " 0.9937645343983621,\n",
       " 0.9914439079993745,\n",
       " 0.9943268761515991,\n",
       " 0.9951930435825476,\n",
       " 0.9949837328137354,\n",
       " 0.9936980921212338,\n",
       " 0.988673513176302,\n",
       " 0.993710701058422,\n",
       " 0.99470107121309,\n",
       " 0.9945291873017708,\n",
       " 0.9880457980368358,\n",
       " 0.9932907656169481,\n",
       " 0.9872770763839753,\n",
       " 0.9927700375292019,\n",
       " 0.9940583539948983,\n",
       " 0.9908766917905475,\n",
       " 0.9938062548121431]"
      ]
     },
     "execution_count": 81,
     "metadata": {},
     "output_type": "execute_result"
    }
   ],
   "source": [
    "r_sqs"
   ]
  },
  {
   "cell_type": "code",
   "execution_count": 82,
   "metadata": {},
   "outputs": [
    {
     "data": {
      "text/plain": [
       "[104.73461631141976,\n",
       " 106.51260925759598,\n",
       " 105.36887335976692,\n",
       " 106.3134438870512,\n",
       " 104.58800411838158,\n",
       " 104.27162259852354,\n",
       " 107.8792021731035,\n",
       " 105.7255493000942,\n",
       " 105.20397818134023,\n",
       " 103.69460886328288,\n",
       " 108.20133847400821,\n",
       " 104.56930053232274,\n",
       " 104.3150561896208,\n",
       " 104.04081798067867,\n",
       " 105.87370588621877,\n",
       " 107.64373808845758,\n",
       " 105.32923612784506,\n",
       " 105.37662380336921,\n",
       " 103.67907511665099,\n",
       " 107.59595609980505,\n",
       " 104.5878748713006,\n",
       " 106.09407654055948,\n",
       " 104.32758220333413,\n",
       " 105.90463098863066,\n",
       " 106.95460360577451,\n",
       " 105.98341694232077,\n",
       " 104.91043834476112,\n",
       " 105.44858156805188,\n",
       " 107.97915397927665,\n",
       " 105.75227277705974]"
      ]
     },
     "execution_count": 82,
     "metadata": {},
     "output_type": "execute_result"
    }
   ],
   "source": [
    "intercepts"
   ]
  },
  {
   "cell_type": "code",
   "execution_count": 85,
   "metadata": {},
   "outputs": [],
   "source": [
    "slopes = np.ravel(slopes)"
   ]
  },
  {
   "cell_type": "code",
   "execution_count": 86,
   "metadata": {},
   "outputs": [],
   "source": [
    "angles = np.ravel(angles)"
   ]
  },
  {
   "cell_type": "code",
   "execution_count": 96,
   "metadata": {},
   "outputs": [
    {
     "name": "stdout",
     "output_type": "stream",
     "text": [
      "y = (5.84 ± 0.11) x + (105.63 ± 1.28)\n"
     ]
    }
   ],
   "source": [
    "print(\"y = ({:.2f} ± {:.2f}) x + ({:.2f} ± {:.2f})\".format(np.mean(angles), np.std(angles), \n",
    "                                             np.mean(intercepts), np.std(intercepts)))"
   ]
  },
  {
   "cell_type": "code",
   "execution_count": null,
   "metadata": {},
   "outputs": [],
   "source": []
  },
  {
   "cell_type": "code",
   "execution_count": null,
   "metadata": {},
   "outputs": [],
   "source": []
  }
 ],
 "metadata": {
  "kernelspec": {
   "display_name": "Python 3",
   "language": "python",
   "name": "python3"
  },
  "language_info": {
   "codemirror_mode": {
    "name": "ipython",
    "version": 3
   },
   "file_extension": ".py",
   "mimetype": "text/x-python",
   "name": "python",
   "nbconvert_exporter": "python",
   "pygments_lexer": "ipython3",
   "version": "3.6.7"
  }
 },
 "nbformat": 4,
 "nbformat_minor": 2
}
