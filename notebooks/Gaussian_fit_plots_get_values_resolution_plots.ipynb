{
 "cells": [
  {
   "cell_type": "code",
   "execution_count": 1,
   "metadata": {},
   "outputs": [
    {
     "name": "stdout",
     "output_type": "stream",
     "text": [
      "Welcome to JupyROOT 6.18/04\n"
     ]
    }
   ],
   "source": [
    "from ROOT import TH1F, TCanvas, TF1, gStyle"
   ]
  },
  {
   "cell_type": "code",
   "execution_count": 2,
   "metadata": {},
   "outputs": [],
   "source": [
    "import os\n",
    "import re"
   ]
  },
  {
   "cell_type": "code",
   "execution_count": 3,
   "metadata": {},
   "outputs": [],
   "source": [
    "regex= re.compile(r'\\d+')"
   ]
  },
  {
   "cell_type": "code",
   "execution_count": 4,
   "metadata": {},
   "outputs": [],
   "source": [
    "import numpy as np\n",
    "from sklearn.metrics import mean_squared_error"
   ]
  },
  {
   "cell_type": "code",
   "execution_count": 23,
   "metadata": {},
   "outputs": [],
   "source": [
    "from functools import partial"
   ]
  },
  {
   "cell_type": "code",
   "execution_count": 5,
   "metadata": {},
   "outputs": [],
   "source": [
    "saved_models = '/storage/yw18581/src/leaf_reco/saved_models/trained_6positions/'"
   ]
  },
  {
   "cell_type": "code",
   "execution_count": 24,
   "metadata": {},
   "outputs": [],
   "source": [
    "root_path = partial(os.path.join, saved_models)"
   ]
  },
  {
   "cell_type": "code",
   "execution_count": 50,
   "metadata": {},
   "outputs": [],
   "source": [
    "def get_params(file):\n",
    "    epoch = int(regex.findall(os.path.split(file)[1].split('_')[3])[0])\n",
    "    coef = int(regex.findall(os.path.split(file)[1].split('_')[4])[1])\n",
    "    return epoch, coef"
   ]
  },
  {
   "cell_type": "code",
   "execution_count": 6,
   "metadata": {},
   "outputs": [],
   "source": [
    "model_names = os.listdir(saved_models)"
   ]
  },
  {
   "cell_type": "code",
   "execution_count": 7,
   "metadata": {},
   "outputs": [
    {
     "data": {
      "text/plain": [
       "['Trained_rUNet_pytorch_6positions_dataset_5epochs_0.75coeff_mask.pkl',\n",
       " 'Trained_rUNet_pytorch_6positions_dataset_10epochs_0.75coeff_mask.pkl',\n",
       " 'Trained_rUNet_pytorch_6positions_dataset_15epochs_0.75coeff_mask.pkl',\n",
       " 'Trained_rUNet_pytorch_6positions_dataset_20epochs_0.75coeff_mask.pkl',\n",
       " 'Trained_rUNet_pytorch_6positions_dataset_25epochs_0.75coeff_mask.pkl',\n",
       " 'Trained_rUNet_pytorch_6positions_dataset_30epochs_0.75coeff_mask.pkl',\n",
       " 'Trained_rUNet_pytorch_6positions_dataset_35epochs_0.75coeff_mask.pkl',\n",
       " 'Trained_rUNet_pytorch_6positions_dataset_40epochs_0.75coeff_mask.pkl',\n",
       " 'Trained_rUNet_pytorch_6positions_dataset_45epochs_0.75coeff_mask.pkl',\n",
       " 'Trained_rUNet_pytorch_6positions_dataset_50epochs_0.75coeff_mask.pkl',\n",
       " 'history_Trained_rUNet_pytorch_50epochs_0.75coef.pkl',\n",
       " 'Trained_rUNet_pytorch_6positions_dataset_5epochs_0.7coeff_mask.pkl',\n",
       " 'Trained_rUNet_pytorch_6positions_dataset_10epochs_0.7coeff_mask.pkl',\n",
       " 'Trained_rUNet_pytorch_6positions_dataset_15epochs_0.7coeff_mask.pkl',\n",
       " 'Trained_rUNet_pytorch_6positions_dataset_20epochs_0.7coeff_mask.pkl',\n",
       " 'Trained_rUNet_pytorch_6positions_dataset_25epochs_0.7coeff_mask.pkl',\n",
       " 'Trained_rUNet_pytorch_6positions_dataset_30epochs_0.7coeff_mask.pkl',\n",
       " 'Trained_rUNet_pytorch_6positions_dataset_35epochs_0.7coeff_mask.pkl',\n",
       " 'Trained_rUNet_pytorch_6positions_dataset_40epochs_0.7coeff_mask.pkl',\n",
       " 'Trained_rUNet_pytorch_6positions_dataset_45epochs_0.7coeff_mask.pkl',\n",
       " 'Trained_rUNet_pytorch_6positions_dataset_50epochs_0.7coeff_mask.pkl',\n",
       " 'history_Trained_rUNet_pytorch_50epochs_0.7coef.pkl',\n",
       " 'Trained_rUNet_pytorch_6positions_dataset_5epochs_0.6coeff_mask.pkl',\n",
       " 'Trained_rUNet_pytorch_6positions_dataset_10epochs_0.6coeff_mask.pkl',\n",
       " 'Trained_rUNet_pytorch_6positions_dataset_15epochs_0.6coeff_mask.pkl',\n",
       " 'Trained_rUNet_pytorch_6positions_dataset_20epochs_0.6coeff_mask.pkl',\n",
       " 'Trained_rUNet_pytorch_6positions_dataset_25epochs_0.6coeff_mask.pkl',\n",
       " 'Trained_rUNet_pytorch_6positions_dataset_30epochs_0.6coeff_mask.pkl',\n",
       " 'Trained_rUNet_pytorch_6positions_dataset_35epochs_0.6coeff_mask.pkl',\n",
       " 'Trained_rUNet_pytorch_6positions_dataset_40epochs_0.6coeff_mask.pkl',\n",
       " 'Trained_rUNet_pytorch_6positions_dataset_45epochs_0.6coeff_mask.pkl',\n",
       " 'Trained_rUNet_pytorch_6positions_dataset_50epochs_0.6coeff_mask.pkl',\n",
       " 'history_Trained_rUNet_pytorch_50epochs_0.6coef.pkl',\n",
       " 'Trained_rUNet_pytorch_6positions_dataset_5epochs_0.5coeff_mask.pkl',\n",
       " 'Trained_rUNet_pytorch_6positions_dataset_10epochs_0.5coeff_mask.pkl',\n",
       " 'Trained_rUNet_pytorch_6positions_dataset_15epochs_0.5coeff_mask.pkl',\n",
       " 'Trained_rUNet_pytorch_6positions_dataset_20epochs_0.5coeff_mask.pkl',\n",
       " 'Trained_rUNet_pytorch_6positions_dataset_25epochs_0.5coeff_mask.pkl',\n",
       " 'Trained_rUNet_pytorch_6positions_dataset_30epochs_0.5coeff_mask.pkl',\n",
       " 'Trained_rUNet_pytorch_6positions_dataset_35epochs_0.5coeff_mask.pkl',\n",
       " 'Trained_rUNet_pytorch_6positions_dataset_40epochs_0.5coeff_mask.pkl',\n",
       " 'Trained_rUNet_pytorch_6positions_dataset_45epochs_0.5coeff_mask.pkl',\n",
       " 'Trained_rUNet_pytorch_6positions_dataset_50epochs_0.5coeff_mask.pkl',\n",
       " 'history_Trained_rUNet_pytorch_50epochs_0.5coef.pkl',\n",
       " 'predicted_unseen_6positions_5epochs_0.75coeff.npz',\n",
       " 'predicted_unseen_6positions_10epochs_0.75coeff.npz',\n",
       " 'predicted_unseen_6positions_15epochs_0.75coeff.npz',\n",
       " 'predicted_unseen_6positions_20epochs_0.75coeff.npz',\n",
       " 'predicted_unseen_6positions_25epochs_0.75coeff.npz',\n",
       " 'predicted_unseen_6positions_30epochs_0.75coeff.npz',\n",
       " 'predicted_unseen_6positions_35epochs_0.75coeff.npz',\n",
       " 'predicted_unseen_6positions_40epochs_0.75coeff.npz',\n",
       " 'error_distributions',\n",
       " 'predicted_unseen_6positions_45epochs_0.75coeff.npz',\n",
       " 'predicted_unseen_6positions_50epochs_0.75coeff.npz',\n",
       " 'predicted_unseen_6positions_5epochs_0.7coeff.npz',\n",
       " 'predicted_unseen_6positions_10epochs_0.7coeff.npz',\n",
       " 'predicted_unseen_6positions_15epochs_0.7coeff.npz',\n",
       " 'predicted_unseen_6positions_20epochs_0.7coeff.npz',\n",
       " 'predicted_unseen_6positions_25epochs_0.7coeff.npz',\n",
       " 'predicted_unseen_6positions_30epochs_0.7coeff.npz',\n",
       " 'predicted_unseen_6positions_35epochs_0.7coeff.npz',\n",
       " 'predicted_unseen_6positions_40epochs_0.7coeff.npz',\n",
       " 'predicted_unseen_6positions_45epochs_0.7coeff.npz',\n",
       " 'predicted_unseen_6positions_50epochs_0.7coeff.npz',\n",
       " 'predicted_unseen_6positions_5epochs_0.6coeff.npz',\n",
       " 'predicted_unseen_6positions_10epochs_0.6coeff.npz',\n",
       " 'predicted_unseen_6positions_15epochs_0.6coeff.npz',\n",
       " 'predicted_unseen_6positions_20epochs_0.6coeff.npz',\n",
       " 'predicted_unseen_6positions_25epochs_0.6coeff.npz',\n",
       " 'predicted_unseen_6positions_30epochs_0.6coeff.npz',\n",
       " 'predicted_unseen_6positions_35epochs_0.6coeff.npz',\n",
       " 'predicted_unseen_6positions_40epochs_0.6coeff.npz',\n",
       " 'predicted_unseen_6positions_45epochs_0.6coeff.npz',\n",
       " 'predicted_unseen_6positions_50epochs_0.6coeff.npz',\n",
       " 'predicted_unseen_6positions_5epochs_0.5coeff.npz',\n",
       " 'predicted_unseen_6positions_10epochs_0.5coeff.npz',\n",
       " 'predicted_unseen_6positions_15epochs_0.5coeff.npz',\n",
       " 'predicted_unseen_6positions_20epochs_0.5coeff.npz',\n",
       " 'predicted_unseen_6positions_25epochs_0.5coeff.npz',\n",
       " 'predicted_unseen_6positions_30epochs_0.5coeff.npz',\n",
       " 'predicted_unseen_6positions_35epochs_0.5coeff.npz',\n",
       " 'predicted_unseen_6positions_40epochs_0.5coeff.npz',\n",
       " 'predicted_unseen_6positions_45epochs_0.5coeff.npz',\n",
       " 'predicted_unseen_6positions_50epochs_0.5coeff.npz',\n",
       " 'predicted_testdata_6positions_35epochs_0.75coeff.npz',\n",
       " 'predicted_testdata_6positions_40epochs_0.75coeff.npz',\n",
       " 'predicted_testdata_6positions_45epochs_0.75coeff.npz',\n",
       " 'predicted_testdata_6positions_50epochs_0.75coeff.npz',\n",
       " 'Trained_rUNet_pytorch_6positions_dataset_55epochs_0.75coeff_mask.pkl',\n",
       " 'predicted_testdata_6positions_15epochs_0.6coeff.npz',\n",
       " 'predicted_testdata_6positions_20epochs_0.6coeff.npz',\n",
       " 'predicted_testdata_6positions_30epochs_0.6coeff.npz',\n",
       " 'predicted_testdata_6positions_40epochs_0.6coeff.npz',\n",
       " 'predicted_testdata_6positions_50epochs_0.6coeff.npz',\n",
       " 'predicted_testdata_6positions_15epochs_0.7coeff.npz',\n",
       " 'predicted_testdata_6positions_20epochs_0.7coeff.npz',\n",
       " 'predicted_testdata_6positions_25epochs_0.7coeff.npz',\n",
       " 'predicted_testdata_6positions_30epochs_0.7coeff.npz',\n",
       " 'predicted_testdata_6positions_35epochs_0.7coeff.npz',\n",
       " 'predicted_testdata_6positions_40epochs_0.7coeff.npz',\n",
       " 'predicted_testdata_6positions_45epochs_0.7coeff.npz',\n",
       " 'predicted_testdata_6positions_50epochs_0.7coeff.npz',\n",
       " 'predicted_testdata_6positions_50epochs_0.5coeff.npz',\n",
       " 'predicted_testdata_6positions_10epochs_0.6coeff.npz',\n",
       " 'predicted_testdata_6positions_10epochs_0.75coeff.npz',\n",
       " 'predicted_testdata_6positions_15epochs_0.75coeff.npz',\n",
       " 'predicted_testdata_6positions_20epochs_0.75coeff.npz',\n",
       " 'predicted_testdata_6positions_25epochs_0.75coeff.npz',\n",
       " 'predicted_testdata_6positions_30epochs_0.75coeff.npz',\n",
       " 'predicted_testdata_6positions_5epochs_0.5coeff.npz',\n",
       " 'predicted_testdata_6positions_25epochs_0.6coeff.npz',\n",
       " 'predicted_testdata_6positions_35epochs_0.6coeff.npz',\n",
       " 'predicted_testdata_6positions_45epochs_0.6coeff.npz',\n",
       " 'predicted_testdata_6positions_5epochs_0.75coeff.npz',\n",
       " 'Trained_rUNet_pytorch_6positions_dataset_80epochs_0.6coeff_mask.pkl',\n",
       " 'Trained_rUNet_pytorch_6positions_dataset_90epochs_0.6coeff_mask.pkl',\n",
       " 'Trained_rUNet_pytorch_6positions_dataset_100epochs_0.6coeff_mask.pkl',\n",
       " 'Trained_rUNet_pytorch_6positions_dataset_60epochs_0.5coeff_mask.pkl',\n",
       " 'Trained_rUNet_pytorch_6positions_dataset_70epochs_0.5coeff_mask.pkl',\n",
       " 'Trained_rUNet_pytorch_6positions_dataset_80epochs_0.5coeff_mask.pkl',\n",
       " 'Trained_rUNet_pytorch_6positions_dataset_90epochs_0.5coeff_mask.pkl',\n",
       " 'Trained_rUNet_pytorch_6positions_dataset_100epochs_0.5coeff_mask.pkl',\n",
       " 'predicted_testdata_6positions_5epochs_0.7coeff.npz',\n",
       " 'predicted_testdata_6positions_10epochs_0.7coeff.npz',\n",
       " 'predicted_testdata_6positions_5epochs_0.6coeff.npz',\n",
       " 'predicted_testdata_6positions_10epochs_0.5coeff.npz',\n",
       " 'predicted_testdata_6positions_15epochs_0.5coeff.npz',\n",
       " 'predicted_testdata_6positions_20epochs_0.5coeff.npz',\n",
       " 'predicted_testdata_6positions_25epochs_0.5coeff.npz',\n",
       " 'predicted_testdata_6positions_30epochs_0.5coeff.npz',\n",
       " 'predicted_testdata_6positions_35epochs_0.5coeff.npz',\n",
       " 'predicted_testdata_6positions_40epochs_0.5coeff.npz',\n",
       " 'predicted_testdata_6positions_45epochs_0.5coeff.npz',\n",
       " 'Trained_rUNet_pytorch_6positions_dataset_60epochs_0.75coeff_mask.pkl',\n",
       " 'Trained_rUNet_pytorch_6positions_dataset_65epochs_0.75coeff_mask.pkl',\n",
       " 'Trained_rUNet_pytorch_6positions_dataset_70epochs_0.75coeff_mask.pkl',\n",
       " 'Trained_rUNet_pytorch_6positions_dataset_75epochs_0.75coeff_mask.pkl',\n",
       " 'Trained_rUNet_pytorch_6positions_dataset_80epochs_0.75coeff_mask.pkl',\n",
       " 'Trained_rUNet_pytorch_6positions_dataset_85epochs_0.75coeff_mask.pkl',\n",
       " 'Trained_rUNet_pytorch_6positions_dataset_90epochs_0.75coeff_mask.pkl',\n",
       " 'Trained_rUNet_pytorch_6positions_dataset_95epochs_0.75coeff_mask.pkl',\n",
       " 'Trained_rUNet_pytorch_6positions_dataset_100epochs_0.75coeff_mask.pkl',\n",
       " 'history_Trained_rUNet_pytorch_100epochs_0.75coef.pkl',\n",
       " 'Trained_rUNet_pytorch_6positions_dataset_55epochs_0.7coeff_mask.pkl',\n",
       " 'Trained_rUNet_pytorch_6positions_dataset_60epochs_0.7coeff_mask.pkl',\n",
       " 'Trained_rUNet_pytorch_6positions_dataset_65epochs_0.7coeff_mask.pkl',\n",
       " 'Trained_rUNet_pytorch_6positions_dataset_70epochs_0.7coeff_mask.pkl',\n",
       " 'Trained_rUNet_pytorch_6positions_dataset_75epochs_0.7coeff_mask.pkl',\n",
       " 'Trained_rUNet_pytorch_6positions_dataset_80epochs_0.7coeff_mask.pkl',\n",
       " 'Trained_rUNet_pytorch_6positions_dataset_85epochs_0.7coeff_mask.pkl',\n",
       " 'Trained_rUNet_pytorch_6positions_dataset_90epochs_0.7coeff_mask.pkl',\n",
       " 'Trained_rUNet_pytorch_6positions_dataset_95epochs_0.7coeff_mask.pkl',\n",
       " 'Trained_rUNet_pytorch_6positions_dataset_100epochs_0.7coeff_mask.pkl',\n",
       " 'history_Trained_rUNet_pytorch_100epochs_0.7coef.pkl',\n",
       " 'Trained_rUNet_pytorch_6positions_dataset_55epochs_0.6coeff_mask.pkl',\n",
       " 'Trained_rUNet_pytorch_6positions_dataset_60epochs_0.6coeff_mask.pkl',\n",
       " 'Trained_rUNet_pytorch_6positions_dataset_65epochs_0.6coeff_mask.pkl',\n",
       " 'Trained_rUNet_pytorch_6positions_dataset_70epochs_0.6coeff_mask.pkl',\n",
       " 'Trained_rUNet_pytorch_6positions_dataset_75epochs_0.6coeff_mask.pkl',\n",
       " 'Trained_rUNet_pytorch_6positions_dataset_85epochs_0.6coeff_mask.pkl',\n",
       " 'Trained_rUNet_pytorch_6positions_dataset_95epochs_0.6coeff_mask.pkl',\n",
       " 'history_Trained_rUNet_pytorch_100epochs_0.6coef.pkl',\n",
       " 'Trained_rUNet_pytorch_6positions_dataset_55epochs_0.5coeff_mask.pkl',\n",
       " 'Trained_rUNet_pytorch_6positions_dataset_65epochs_0.5coeff_mask.pkl',\n",
       " 'Trained_rUNet_pytorch_6positions_dataset_75epochs_0.5coeff_mask.pkl',\n",
       " 'Trained_rUNet_pytorch_6positions_dataset_85epochs_0.5coeff_mask.pkl',\n",
       " 'Trained_rUNet_pytorch_6positions_dataset_95epochs_0.5coeff_mask.pkl',\n",
       " 'history_Trained_rUNet_pytorch_100epochs_0.5coef.pkl',\n",
       " 'Trained_rUNet_pytorch_6positions_dataset_5epochs_0.25coeff_mask.pkl',\n",
       " 'Trained_rUNet_pytorch_6positions_dataset_45epochs_0.25coeff_mask.pkl',\n",
       " 'predicted_testdata_6positions_85epochs_0.5coeff.npz',\n",
       " 'Trained_rUNet_pytorch_6positions_dataset_50epochs_0.25coeff_mask.pkl',\n",
       " 'Trained_rUNet_pytorch_6positions_dataset_60epochs_0.25coeff_mask.pkl',\n",
       " 'Trained_rUNet_pytorch_6positions_dataset_70epochs_0.25coeff_mask.pkl',\n",
       " 'Trained_rUNet_pytorch_6positions_dataset_80epochs_0.25coeff_mask.pkl',\n",
       " 'predicted.tar.bz2',\n",
       " 'Trained_rUNet_pytorch_6positions_dataset_10epochs_0.25coeff_mask.pkl',\n",
       " 'Trained_rUNet_pytorch_6positions_dataset_15epochs_0.25coeff_mask.pkl',\n",
       " 'predicted_testdata_6positions_55epochs_0.75coeff.npz',\n",
       " 'predicted_testdata_6positions_60epochs_0.75coeff.npz',\n",
       " 'predicted_testdata_6positions_65epochs_0.75coeff.npz',\n",
       " 'predicted_testdata_6positions_70epochs_0.75coeff.npz',\n",
       " 'predicted_testdata_6positions_75epochs_0.75coeff.npz',\n",
       " 'predicted_testdata_6positions_80epochs_0.75coeff.npz',\n",
       " 'Trained_rUNet_pytorch_6positions_dataset_20epochs_0.25coeff_mask.pkl',\n",
       " 'predicted_testdata_6positions_85epochs_0.75coeff.npz',\n",
       " 'predicted_testdata_6positions_90epochs_0.75coeff.npz',\n",
       " 'predicted_testdata_6positions_95epochs_0.75coeff.npz',\n",
       " 'predicted_testdata_6positions_100epochs_0.75coeff.npz',\n",
       " 'predicted_testdata_6positions_55epochs_0.7coeff.npz',\n",
       " 'predicted_testdata_6positions_60epochs_0.7coeff.npz',\n",
       " 'predicted_testdata_6positions_65epochs_0.7coeff.npz',\n",
       " 'Trained_rUNet_pytorch_6positions_dataset_25epochs_0.25coeff_mask.pkl',\n",
       " 'predicted_testdata_6positions_70epochs_0.7coeff.npz',\n",
       " 'predicted_testdata_6positions_75epochs_0.7coeff.npz',\n",
       " 'predicted_testdata_6positions_80epochs_0.7coeff.npz',\n",
       " 'predicted_testdata_6positions_85epochs_0.7coeff.npz',\n",
       " 'predicted_testdata_6positions_90epochs_0.7coeff.npz',\n",
       " 'predicted_testdata_6positions_95epochs_0.7coeff.npz',\n",
       " 'Trained_rUNet_pytorch_6positions_dataset_30epochs_0.25coeff_mask.pkl',\n",
       " 'predicted_testdata_6positions_100epochs_0.7coeff.npz',\n",
       " 'predicted_testdata_6positions_80epochs_0.6coeff.npz',\n",
       " 'predicted_testdata_6positions_90epochs_0.6coeff.npz',\n",
       " 'predicted_testdata_6positions_100epochs_0.6coeff.npz',\n",
       " 'predicted_testdata_6positions_55epochs_0.6coeff.npz',\n",
       " 'predicted_testdata_6positions_60epochs_0.6coeff.npz',\n",
       " 'Trained_rUNet_pytorch_6positions_dataset_35epochs_0.25coeff_mask.pkl',\n",
       " 'predicted_testdata_6positions_65epochs_0.6coeff.npz',\n",
       " 'predicted_testdata_6positions_70epochs_0.6coeff.npz',\n",
       " 'predicted_testdata_6positions_75epochs_0.6coeff.npz',\n",
       " 'predicted_testdata_6positions_85epochs_0.6coeff.npz',\n",
       " 'predicted_testdata_6positions_95epochs_0.6coeff.npz',\n",
       " 'predicted_testdata_6positions_60epochs_0.5coeff.npz',\n",
       " 'Trained_rUNet_pytorch_6positions_dataset_40epochs_0.25coeff_mask.pkl',\n",
       " 'predicted_testdata_6positions_70epochs_0.5coeff.npz',\n",
       " 'predicted_testdata_6positions_80epochs_0.5coeff.npz',\n",
       " 'predicted_testdata_6positions_90epochs_0.5coeff.npz',\n",
       " 'predicted_testdata_6positions_100epochs_0.5coeff.npz',\n",
       " 'predicted_testdata_6positions_55epochs_0.5coeff.npz',\n",
       " 'predicted_testdata_6positions_65epochs_0.5coeff.npz',\n",
       " 'predicted_testdata_6positions_75epochs_0.5coeff.npz',\n",
       " 'predicted_testdata_6positions_95epochs_0.5coeff.npz',\n",
       " 'Trained_rUNet_pytorch_6positions_dataset_55epochs_0.25coeff_mask.pkl',\n",
       " 'Trained_rUNet_pytorch_6positions_dataset_65epochs_0.25coeff_mask.pkl',\n",
       " 'Trained_rUNet_pytorch_6positions_dataset_75epochs_0.25coeff_mask.pkl',\n",
       " 'Trained_rUNet_pytorch_6positions_dataset_85epochs_0.25coeff_mask.pkl',\n",
       " 'Trained_rUNet_pytorch_6positions_dataset_90epochs_0.25coeff_mask.pkl',\n",
       " 'Trained_rUNet_pytorch_6positions_dataset_95epochs_0.25coeff_mask.pkl',\n",
       " 'Trained_rUNet_pytorch_6positions_dataset_100epochs_0.25coeff_mask.pkl',\n",
       " 'history_Trained_rUNet_pytorch_100epochs_0.25coef.pkl',\n",
       " 'Trained_rUNet_pytorch_6positions_dataset_5epochs_0.3coeff_mask.pkl',\n",
       " 'Trained_rUNet_pytorch_6positions_dataset_10epochs_0.3coeff_mask.pkl',\n",
       " 'Trained_rUNet_pytorch_6positions_dataset_15epochs_0.3coeff_mask.pkl',\n",
       " 'Trained_rUNet_pytorch_6positions_dataset_20epochs_0.3coeff_mask.pkl',\n",
       " 'Trained_rUNet_pytorch_6positions_dataset_25epochs_0.3coeff_mask.pkl',\n",
       " 'Trained_rUNet_pytorch_6positions_dataset_30epochs_0.3coeff_mask.pkl',\n",
       " 'Trained_rUNet_pytorch_6positions_dataset_35epochs_0.3coeff_mask.pkl',\n",
       " 'Trained_rUNet_pytorch_6positions_dataset_40epochs_0.3coeff_mask.pkl',\n",
       " 'Trained_rUNet_pytorch_6positions_dataset_45epochs_0.3coeff_mask.pkl',\n",
       " 'Trained_rUNet_pytorch_6positions_dataset_50epochs_0.3coeff_mask.pkl',\n",
       " 'Trained_rUNet_pytorch_6positions_dataset_55epochs_0.3coeff_mask.pkl',\n",
       " 'Trained_rUNet_pytorch_6positions_dataset_60epochs_0.3coeff_mask.pkl',\n",
       " 'Trained_rUNet_pytorch_6positions_dataset_65epochs_0.3coeff_mask.pkl',\n",
       " 'Trained_rUNet_pytorch_6positions_dataset_70epochs_0.3coeff_mask.pkl',\n",
       " 'Trained_rUNet_pytorch_6positions_dataset_75epochs_0.3coeff_mask.pkl',\n",
       " 'Trained_rUNet_pytorch_6positions_dataset_80epochs_0.3coeff_mask.pkl',\n",
       " 'Trained_rUNet_pytorch_6positions_dataset_85epochs_0.3coeff_mask.pkl',\n",
       " 'Trained_rUNet_pytorch_6positions_dataset_90epochs_0.3coeff_mask.pkl',\n",
       " 'Trained_rUNet_pytorch_6positions_dataset_95epochs_0.3coeff_mask.pkl',\n",
       " 'Trained_rUNet_pytorch_6positions_dataset_100epochs_0.3coeff_mask.pkl',\n",
       " 'history_Trained_rUNet_pytorch_100epochs_0.3coef.pkl',\n",
       " 'Trained_rUNet_pytorch_6positions_dataset_5epochs_0.4coeff_mask.pkl',\n",
       " 'Trained_rUNet_pytorch_6positions_dataset_10epochs_0.4coeff_mask.pkl',\n",
       " 'Trained_rUNet_pytorch_6positions_dataset_15epochs_0.4coeff_mask.pkl',\n",
       " 'Trained_rUNet_pytorch_6positions_dataset_20epochs_0.4coeff_mask.pkl',\n",
       " 'predicted_unseen_6positions_55epochs_0.75coeff.npz',\n",
       " 'predicted_unseen_6positions_60epochs_0.75coeff.npz',\n",
       " 'Trained_rUNet_pytorch_6positions_dataset_25epochs_0.4coeff_mask.pkl',\n",
       " 'predicted_unseen_6positions_65epochs_0.75coeff.npz',\n",
       " 'predicted_unseen_6positions_70epochs_0.75coeff.npz',\n",
       " 'predicted_unseen_6positions_75epochs_0.75coeff.npz',\n",
       " 'predicted_unseen_6positions_80epochs_0.75coeff.npz',\n",
       " 'predicted_unseen_6positions_85epochs_0.75coeff.npz',\n",
       " 'predicted_unseen_6positions_90epochs_0.75coeff.npz',\n",
       " 'Trained_rUNet_pytorch_6positions_dataset_30epochs_0.4coeff_mask.pkl',\n",
       " 'predicted_unseen_6positions_95epochs_0.75coeff.npz',\n",
       " 'predicted_unseen_6positions_100epochs_0.75coeff.npz',\n",
       " 'predicted_unseen_6positions_55epochs_0.7coeff.npz',\n",
       " 'predicted_unseen_6positions_60epochs_0.7coeff.npz',\n",
       " 'predicted_unseen_6positions_65epochs_0.7coeff.npz',\n",
       " 'predicted_unseen_6positions_70epochs_0.7coeff.npz',\n",
       " 'Trained_rUNet_pytorch_6positions_dataset_35epochs_0.4coeff_mask.pkl',\n",
       " 'predicted_unseen_6positions_75epochs_0.7coeff.npz',\n",
       " 'predicted_unseen_6positions_80epochs_0.7coeff.npz',\n",
       " 'predicted_unseen_6positions_85epochs_0.7coeff.npz',\n",
       " 'predicted_unseen_6positions_90epochs_0.7coeff.npz',\n",
       " 'predicted_unseen_6positions_95epochs_0.7coeff.npz',\n",
       " 'predicted_unseen_6positions_100epochs_0.7coeff.npz',\n",
       " 'Trained_rUNet_pytorch_6positions_dataset_40epochs_0.4coeff_mask.pkl',\n",
       " 'predicted_unseen_6positions_80epochs_0.6coeff.npz',\n",
       " 'predicted_unseen_6positions_90epochs_0.6coeff.npz',\n",
       " 'predicted_unseen_6positions_100epochs_0.6coeff.npz',\n",
       " 'predicted_unseen_6positions_55epochs_0.6coeff.npz',\n",
       " 'predicted_unseen_6positions_60epochs_0.6coeff.npz',\n",
       " 'predicted_unseen_6positions_65epochs_0.6coeff.npz',\n",
       " 'Trained_rUNet_pytorch_6positions_dataset_45epochs_0.4coeff_mask.pkl',\n",
       " 'predicted_unseen_6positions_70epochs_0.6coeff.npz',\n",
       " 'predicted_unseen_6positions_75epochs_0.6coeff.npz',\n",
       " 'Trained_rUNet_pytorch_6positions_dataset_50epochs_0.4coeff_mask.pkl',\n",
       " 'predicted_unseen_6positions_85epochs_0.6coeff.npz',\n",
       " 'predicted_unseen_6positions_95epochs_0.6coeff.npz',\n",
       " 'predicted_unseen_6positions_60epochs_0.5coeff.npz',\n",
       " 'predicted_unseen_6positions_70epochs_0.5coeff.npz',\n",
       " 'Trained_rUNet_pytorch_6positions_dataset_55epochs_0.4coeff_mask.pkl',\n",
       " 'predicted_unseen_6positions_80epochs_0.5coeff.npz',\n",
       " 'predicted_unseen_6positions_90epochs_0.5coeff.npz',\n",
       " 'predicted_unseen_6positions_100epochs_0.5coeff.npz',\n",
       " 'predicted_unseen_6positions_55epochs_0.5coeff.npz',\n",
       " 'predicted_unseen_6positions_65epochs_0.5coeff.npz',\n",
       " 'predicted_unseen_6positions_75epochs_0.5coeff.npz',\n",
       " 'predicted_unseen_6positions_85epochs_0.5coeff.npz',\n",
       " 'predicted_unseen_6positions_95epochs_0.5coeff.npz',\n",
       " 'Trained_rUNet_pytorch_6positions_dataset_60epochs_0.4coeff_mask.pkl',\n",
       " 'Trained_rUNet_pytorch_6positions_dataset_65epochs_0.4coeff_mask.pkl',\n",
       " 'Trained_rUNet_pytorch_6positions_dataset_70epochs_0.4coeff_mask.pkl',\n",
       " 'Trained_rUNet_pytorch_6positions_dataset_75epochs_0.4coeff_mask.pkl',\n",
       " 'Trained_rUNet_pytorch_6positions_dataset_80epochs_0.4coeff_mask.pkl',\n",
       " 'Trained_rUNet_pytorch_6positions_dataset_85epochs_0.4coeff_mask.pkl',\n",
       " 'Trained_rUNet_pytorch_6positions_dataset_90epochs_0.4coeff_mask.pkl',\n",
       " 'Trained_rUNet_pytorch_6positions_dataset_95epochs_0.4coeff_mask.pkl',\n",
       " 'Trained_rUNet_pytorch_6positions_dataset_100epochs_0.4coeff_mask.pkl',\n",
       " 'history_Trained_rUNet_pytorch_100epochs_0.4coef.pkl',\n",
       " 'predicted_testdata_6positions_5epochs_0.25coeff.npz',\n",
       " 'predicted_testdata_6positions_45epochs_0.25coeff.npz',\n",
       " 'predicted_testdata_6positions_50epochs_0.25coeff.npz',\n",
       " 'predicted_testdata_6positions_60epochs_0.25coeff.npz',\n",
       " 'predicted_testdata_6positions_70epochs_0.25coeff.npz',\n",
       " 'predicted_testdata_6positions_80epochs_0.25coeff.npz',\n",
       " 'predicted_testdata_6positions_10epochs_0.25coeff.npz',\n",
       " 'predicted_testdata_6positions_15epochs_0.25coeff.npz',\n",
       " 'predicted_testdata_6positions_20epochs_0.25coeff.npz',\n",
       " 'predicted_testdata_6positions_25epochs_0.25coeff.npz',\n",
       " 'predicted_testdata_6positions_30epochs_0.25coeff.npz',\n",
       " 'predicted_testdata_6positions_35epochs_0.25coeff.npz',\n",
       " 'predicted_testdata_6positions_40epochs_0.25coeff.npz',\n",
       " 'predicted_testdata_6positions_55epochs_0.25coeff.npz',\n",
       " 'predicted_testdata_6positions_65epochs_0.25coeff.npz',\n",
       " 'predicted_testdata_6positions_75epochs_0.25coeff.npz',\n",
       " 'predicted_testdata_6positions_85epochs_0.25coeff.npz',\n",
       " 'predicted_testdata_6positions_90epochs_0.25coeff.npz',\n",
       " 'predicted_testdata_6positions_95epochs_0.25coeff.npz',\n",
       " 'predicted_testdata_6positions_100epochs_0.25coeff.npz',\n",
       " 'predicted_unseen_6positions_5epochs_0.25coeff.npz',\n",
       " 'predicted_unseen_6positions_45epochs_0.25coeff.npz',\n",
       " 'predicted_unseen_6positions_50epochs_0.25coeff.npz',\n",
       " 'predicted_unseen_6positions_60epochs_0.25coeff.npz',\n",
       " 'predicted_unseen_6positions_70epochs_0.25coeff.npz',\n",
       " 'predicted_unseen_6positions_80epochs_0.25coeff.npz',\n",
       " 'predicted_unseen_6positions_10epochs_0.25coeff.npz',\n",
       " 'predicted_unseen_6positions_15epochs_0.25coeff.npz',\n",
       " 'predicted_unseen_6positions_20epochs_0.25coeff.npz',\n",
       " 'predicted_unseen_6positions_25epochs_0.25coeff.npz',\n",
       " 'predicted_unseen_6positions_30epochs_0.25coeff.npz',\n",
       " 'predicted_unseen_6positions_35epochs_0.25coeff.npz',\n",
       " 'predicted_unseen_6positions_40epochs_0.25coeff.npz',\n",
       " 'predicted_unseen_6positions_55epochs_0.25coeff.npz',\n",
       " 'predicted_unseen_6positions_65epochs_0.25coeff.npz',\n",
       " 'predicted_unseen_6positions_75epochs_0.25coeff.npz',\n",
       " 'predicted_unseen_6positions_85epochs_0.25coeff.npz',\n",
       " 'predicted_unseen_6positions_90epochs_0.25coeff.npz',\n",
       " 'predicted_unseen_6positions_95epochs_0.25coeff.npz',\n",
       " 'predicted_unseen_6positions_100epochs_0.25coeff.npz',\n",
       " 'predicted_testdata_6positions_5epochs_0.3coeff.npz',\n",
       " 'predicted_testdata_6positions_10epochs_0.3coeff.npz',\n",
       " 'predicted_testdata_6positions_15epochs_0.3coeff.npz',\n",
       " 'predicted_testdata_6positions_20epochs_0.3coeff.npz',\n",
       " 'predicted_testdata_6positions_25epochs_0.3coeff.npz',\n",
       " 'predicted_testdata_6positions_30epochs_0.3coeff.npz',\n",
       " 'predicted_testdata_6positions_35epochs_0.3coeff.npz',\n",
       " 'predicted_testdata_6positions_40epochs_0.3coeff.npz',\n",
       " 'predicted_testdata_6positions_45epochs_0.3coeff.npz',\n",
       " 'predicted_testdata_6positions_50epochs_0.3coeff.npz',\n",
       " 'predicted_testdata_6positions_55epochs_0.3coeff.npz',\n",
       " 'predicted_testdata_6positions_60epochs_0.3coeff.npz',\n",
       " 'predicted_testdata_6positions_65epochs_0.3coeff.npz',\n",
       " 'predicted_testdata_6positions_70epochs_0.3coeff.npz',\n",
       " 'predicted_testdata_6positions_75epochs_0.3coeff.npz',\n",
       " 'predicted_testdata_6positions_80epochs_0.3coeff.npz',\n",
       " 'predicted_testdata_6positions_85epochs_0.3coeff.npz',\n",
       " 'predicted_testdata_6positions_90epochs_0.3coeff.npz',\n",
       " 'predicted_testdata_6positions_95epochs_0.3coeff.npz',\n",
       " 'predicted_testdata_6positions_100epochs_0.3coeff.npz',\n",
       " 'predicted_unseen_6positions_5epochs_0.3coeff.npz',\n",
       " 'predicted_unseen_6positions_10epochs_0.3coeff.npz',\n",
       " 'predicted_unseen_6positions_15epochs_0.3coeff.npz',\n",
       " 'predicted_unseen_6positions_20epochs_0.3coeff.npz',\n",
       " 'predicted_unseen_6positions_25epochs_0.3coeff.npz',\n",
       " 'predicted_unseen_6positions_30epochs_0.3coeff.npz',\n",
       " 'predicted_unseen_6positions_35epochs_0.3coeff.npz',\n",
       " 'predicted_unseen_6positions_40epochs_0.3coeff.npz',\n",
       " 'predicted_unseen_6positions_45epochs_0.3coeff.npz',\n",
       " 'predicted_unseen_6positions_50epochs_0.3coeff.npz',\n",
       " 'predicted_unseen_6positions_55epochs_0.3coeff.npz',\n",
       " 'predicted_unseen_6positions_60epochs_0.3coeff.npz',\n",
       " 'predicted_unseen_6positions_65epochs_0.3coeff.npz',\n",
       " 'predicted_unseen_6positions_70epochs_0.3coeff.npz',\n",
       " 'predicted_unseen_6positions_75epochs_0.3coeff.npz',\n",
       " 'predicted_unseen_6positions_80epochs_0.3coeff.npz',\n",
       " 'predicted_unseen_6positions_85epochs_0.3coeff.npz',\n",
       " 'predicted_unseen_6positions_90epochs_0.3coeff.npz',\n",
       " 'predicted_unseen_6positions_95epochs_0.3coeff.npz',\n",
       " 'predicted_unseen_6positions_100epochs_0.3coeff.npz',\n",
       " 'predicted_testdata_6positions_5epochs_0.4coeff.npz',\n",
       " 'predicted_testdata_6positions_10epochs_0.4coeff.npz',\n",
       " 'predicted_testdata_6positions_15epochs_0.4coeff.npz',\n",
       " 'predicted_testdata_6positions_20epochs_0.4coeff.npz',\n",
       " 'predicted_testdata_6positions_25epochs_0.4coeff.npz',\n",
       " 'predicted_testdata_6positions_30epochs_0.4coeff.npz',\n",
       " 'predicted_testdata_6positions_35epochs_0.4coeff.npz',\n",
       " 'predicted_testdata_6positions_40epochs_0.4coeff.npz',\n",
       " 'predicted_testdata_6positions_45epochs_0.4coeff.npz',\n",
       " 'predicted_testdata_6positions_50epochs_0.4coeff.npz',\n",
       " 'predicted_testdata_6positions_55epochs_0.4coeff.npz',\n",
       " 'predicted_testdata_6positions_60epochs_0.4coeff.npz',\n",
       " 'predicted_testdata_6positions_65epochs_0.4coeff.npz',\n",
       " 'predicted_testdata_6positions_70epochs_0.4coeff.npz',\n",
       " 'predicted_testdata_6positions_75epochs_0.4coeff.npz',\n",
       " 'predicted_testdata_6positions_80epochs_0.4coeff.npz',\n",
       " 'predicted_testdata_6positions_85epochs_0.4coeff.npz',\n",
       " 'predicted_testdata_6positions_90epochs_0.4coeff.npz',\n",
       " 'predicted_testdata_6positions_95epochs_0.4coeff.npz',\n",
       " 'predicted_testdata_6positions_100epochs_0.4coeff.npz',\n",
       " 'predicted_unseen_6positions_5epochs_0.4coeff.npz',\n",
       " 'predicted_unseen_6positions_10epochs_0.4coeff.npz',\n",
       " 'predicted_unseen_6positions_15epochs_0.4coeff.npz',\n",
       " 'predicted_unseen_6positions_20epochs_0.4coeff.npz',\n",
       " 'predicted_unseen_6positions_25epochs_0.4coeff.npz',\n",
       " 'predicted_unseen_6positions_30epochs_0.4coeff.npz',\n",
       " 'predicted_unseen_6positions_35epochs_0.4coeff.npz',\n",
       " 'predicted_unseen_6positions_40epochs_0.4coeff.npz',\n",
       " 'predicted_unseen_6positions_45epochs_0.4coeff.npz',\n",
       " 'predicted_unseen_6positions_50epochs_0.4coeff.npz',\n",
       " 'predicted_unseen_6positions_55epochs_0.4coeff.npz',\n",
       " 'predicted_unseen_6positions_60epochs_0.4coeff.npz',\n",
       " 'predicted_unseen_6positions_65epochs_0.4coeff.npz',\n",
       " 'predicted_unseen_6positions_70epochs_0.4coeff.npz',\n",
       " 'predicted_unseen_6positions_75epochs_0.4coeff.npz',\n",
       " 'predicted_unseen_6positions_80epochs_0.4coeff.npz',\n",
       " 'predicted_unseen_6positions_85epochs_0.4coeff.npz',\n",
       " 'predicted_unseen_6positions_90epochs_0.4coeff.npz',\n",
       " 'predicted_unseen_6positions_95epochs_0.4coeff.npz',\n",
       " 'predicted_unseen_6positions_100epochs_0.4coeff.npz',\n",
       " 'Trained_rUNet_pytorch_6positions_dataset_110epochs_0.75coeff_mask.pkl',\n",
       " 'Trained_rUNet_pytorch_6positions_dataset_120epochs_0.75coeff_mask.pkl',\n",
       " 'Trained_rUNet_pytorch_6positions_dataset_130epochs_0.75coeff_mask.pkl',\n",
       " 'Trained_rUNet_pytorch_6positions_dataset_140epochs_0.75coeff_mask.pkl',\n",
       " 'Trained_rUNet_pytorch_6positions_dataset_150epochs_0.75coeff_mask.pkl',\n",
       " 'Trained_rUNet_pytorch_6positions_dataset_160epochs_0.75coeff_mask.pkl',\n",
       " 'Trained_rUNet_pytorch_6positions_dataset_170epochs_0.75coeff_mask.pkl',\n",
       " 'Trained_rUNet_pytorch_6positions_dataset_180epochs_0.75coeff_mask.pkl',\n",
       " 'Trained_rUNet_pytorch_6positions_dataset_190epochs_0.75coeff_mask.pkl',\n",
       " 'Trained_rUNet_pytorch_6positions_dataset_200epochs_0.75coeff_mask.pkl',\n",
       " 'Trained_rUNet_pytorch_6positions_dataset_210epochs_0.75coeff_mask.pkl',\n",
       " 'Trained_rUNet_pytorch_6positions_dataset_220epochs_0.75coeff_mask.pkl',\n",
       " 'Trained_rUNet_pytorch_6positions_dataset_230epochs_0.75coeff_mask.pkl',\n",
       " 'Trained_rUNet_pytorch_6positions_dataset_240epochs_0.75coeff_mask.pkl',\n",
       " 'Trained_rUNet_pytorch_6positions_dataset_250epochs_0.75coeff_mask.pkl',\n",
       " 'history_Trained_rUNet_pytorch_250epochs_0.75coef.pkl',\n",
       " 'Trained_rUNet_pytorch_6positions_dataset_110epochs_0.7coeff_mask.pkl',\n",
       " 'Trained_rUNet_pytorch_6positions_dataset_120epochs_0.7coeff_mask.pkl',\n",
       " 'Trained_rUNet_pytorch_6positions_dataset_130epochs_0.7coeff_mask.pkl',\n",
       " 'Trained_rUNet_pytorch_6positions_dataset_140epochs_0.7coeff_mask.pkl',\n",
       " 'Trained_rUNet_pytorch_6positions_dataset_150epochs_0.7coeff_mask.pkl',\n",
       " 'predicted_unseen_6positions_110epochs_0.75coeff.npz',\n",
       " 'Trained_rUNet_pytorch_6positions_dataset_160epochs_0.7coeff_mask.pkl',\n",
       " 'Trained_rUNet_pytorch_6positions_dataset_170epochs_0.7coeff_mask.pkl',\n",
       " 'Trained_rUNet_pytorch_6positions_dataset_180epochs_0.7coeff_mask.pkl',\n",
       " 'Trained_rUNet_pytorch_6positions_dataset_190epochs_0.7coeff_mask.pkl',\n",
       " 'Trained_rUNet_pytorch_6positions_dataset_200epochs_0.7coeff_mask.pkl',\n",
       " 'Trained_rUNet_pytorch_6positions_dataset_210epochs_0.7coeff_mask.pkl',\n",
       " 'Trained_rUNet_pytorch_6positions_dataset_220epochs_0.7coeff_mask.pkl',\n",
       " 'Trained_rUNet_pytorch_6positions_dataset_230epochs_0.7coeff_mask.pkl',\n",
       " 'Trained_rUNet_pytorch_6positions_dataset_240epochs_0.7coeff_mask.pkl',\n",
       " 'Trained_rUNet_pytorch_6positions_dataset_250epochs_0.7coeff_mask.pkl',\n",
       " 'history_Trained_rUNet_pytorch_250epochs_0.7coef.pkl',\n",
       " 'Trained_rUNet_pytorch_6positions_dataset_110epochs_0.6coeff_mask.pkl',\n",
       " 'Trained_rUNet_pytorch_6positions_dataset_120epochs_0.6coeff_mask.pkl',\n",
       " 'Trained_rUNet_pytorch_6positions_dataset_130epochs_0.6coeff_mask.pkl',\n",
       " 'Trained_rUNet_pytorch_6positions_dataset_140epochs_0.6coeff_mask.pkl',\n",
       " 'Trained_rUNet_pytorch_6positions_dataset_150epochs_0.6coeff_mask.pkl',\n",
       " 'Trained_rUNet_pytorch_6positions_dataset_160epochs_0.6coeff_mask.pkl',\n",
       " 'Trained_rUNet_pytorch_6positions_dataset_170epochs_0.6coeff_mask.pkl',\n",
       " 'Trained_rUNet_pytorch_6positions_dataset_180epochs_0.6coeff_mask.pkl',\n",
       " 'Trained_rUNet_pytorch_6positions_dataset_190epochs_0.6coeff_mask.pkl',\n",
       " 'Trained_rUNet_pytorch_6positions_dataset_200epochs_0.6coeff_mask.pkl',\n",
       " 'Trained_rUNet_pytorch_6positions_dataset_210epochs_0.6coeff_mask.pkl',\n",
       " 'Trained_rUNet_pytorch_6positions_dataset_220epochs_0.6coeff_mask.pkl',\n",
       " 'Trained_rUNet_pytorch_6positions_dataset_230epochs_0.6coeff_mask.pkl',\n",
       " 'Trained_rUNet_pytorch_6positions_dataset_240epochs_0.6coeff_mask.pkl',\n",
       " 'Trained_rUNet_pytorch_6positions_dataset_250epochs_0.6coeff_mask.pkl',\n",
       " 'history_Trained_rUNet_pytorch_250epochs_0.6coef.pkl',\n",
       " 'Trained_rUNet_pytorch_6positions_dataset_110epochs_0.5coeff_mask.pkl',\n",
       " 'Trained_rUNet_pytorch_6positions_dataset_120epochs_0.5coeff_mask.pkl',\n",
       " 'Trained_rUNet_pytorch_6positions_dataset_130epochs_0.5coeff_mask.pkl',\n",
       " 'Trained_rUNet_pytorch_6positions_dataset_140epochs_0.5coeff_mask.pkl',\n",
       " 'Trained_rUNet_pytorch_6positions_dataset_150epochs_0.5coeff_mask.pkl',\n",
       " 'Trained_rUNet_pytorch_6positions_dataset_160epochs_0.5coeff_mask.pkl',\n",
       " 'Trained_rUNet_pytorch_6positions_dataset_170epochs_0.5coeff_mask.pkl',\n",
       " 'Trained_rUNet_pytorch_6positions_dataset_180epochs_0.5coeff_mask.pkl',\n",
       " 'Trained_rUNet_pytorch_6positions_dataset_190epochs_0.5coeff_mask.pkl',\n",
       " 'Trained_rUNet_pytorch_6positions_dataset_200epochs_0.5coeff_mask.pkl',\n",
       " 'Trained_rUNet_pytorch_6positions_dataset_210epochs_0.5coeff_mask.pkl',\n",
       " 'Trained_rUNet_pytorch_6positions_dataset_220epochs_0.5coeff_mask.pkl',\n",
       " 'Trained_rUNet_pytorch_6positions_dataset_230epochs_0.5coeff_mask.pkl',\n",
       " 'Trained_rUNet_pytorch_6positions_dataset_240epochs_0.5coeff_mask.pkl',\n",
       " 'Trained_rUNet_pytorch_6positions_dataset_250epochs_0.5coeff_mask.pkl',\n",
       " 'history_Trained_rUNet_pytorch_250epochs_0.5coef.pkl',\n",
       " 'predicted_testdata_6positions_110epochs_0.5coeff.npz',\n",
       " 'predicted_testdata_6positions_120epochs_0.5coeff.npz',\n",
       " 'predicted_testdata_6positions_130epochs_0.5coeff.npz',\n",
       " 'predicted_testdata_6positions_140epochs_0.5coeff.npz',\n",
       " 'predicted_testdata_6positions_150epochs_0.5coeff.npz',\n",
       " 'predicted_testdata_6positions_160epochs_0.5coeff.npz',\n",
       " 'predicted_testdata_6positions_170epochs_0.5coeff.npz',\n",
       " 'predicted_testdata_6positions_180epochs_0.5coeff.npz',\n",
       " 'predicted_testdata_6positions_190epochs_0.5coeff.npz',\n",
       " 'predicted_testdata_6positions_200epochs_0.5coeff.npz',\n",
       " 'predicted_testdata_6positions_210epochs_0.5coeff.npz',\n",
       " 'predicted_testdata_6positions_220epochs_0.5coeff.npz',\n",
       " 'predicted_testdata_6positions_230epochs_0.5coeff.npz',\n",
       " 'predicted_testdata_6positions_240epochs_0.5coeff.npz',\n",
       " 'predicted_testdata_6positions_250epochs_0.5coeff.npz',\n",
       " 'predicted_testdata_6positions_110epochs_0.6coeff.npz',\n",
       " 'predicted_testdata_6positions_120epochs_0.6coeff.npz',\n",
       " 'predicted_testdata_6positions_130epochs_0.6coeff.npz',\n",
       " 'predicted_testdata_6positions_140epochs_0.6coeff.npz',\n",
       " 'predicted_testdata_6positions_150epochs_0.6coeff.npz',\n",
       " 'predicted_testdata_6positions_160epochs_0.6coeff.npz',\n",
       " 'predicted_testdata_6positions_170epochs_0.6coeff.npz',\n",
       " 'predicted_testdata_6positions_180epochs_0.6coeff.npz',\n",
       " 'predicted_testdata_6positions_190epochs_0.6coeff.npz',\n",
       " 'predicted_testdata_6positions_200epochs_0.6coeff.npz',\n",
       " 'predicted_testdata_6positions_210epochs_0.6coeff.npz',\n",
       " 'predicted_testdata_6positions_220epochs_0.6coeff.npz',\n",
       " 'predicted_testdata_6positions_230epochs_0.6coeff.npz',\n",
       " 'predicted_testdata_6positions_240epochs_0.6coeff.npz',\n",
       " 'predicted_testdata_6positions_250epochs_0.6coeff.npz',\n",
       " 'predicted_testdata_6positions_110epochs_0.7coeff.npz',\n",
       " 'predicted_testdata_6positions_120epochs_0.7coeff.npz',\n",
       " 'predicted_testdata_6positions_130epochs_0.7coeff.npz',\n",
       " 'predicted_testdata_6positions_140epochs_0.7coeff.npz',\n",
       " 'predicted_testdata_6positions_150epochs_0.7coeff.npz',\n",
       " 'predicted_testdata_6positions_160epochs_0.7coeff.npz',\n",
       " 'predicted_testdata_6positions_170epochs_0.7coeff.npz',\n",
       " 'predicted_testdata_6positions_180epochs_0.7coeff.npz',\n",
       " 'predicted_testdata_6positions_190epochs_0.7coeff.npz',\n",
       " 'predicted_testdata_6positions_200epochs_0.7coeff.npz',\n",
       " 'predicted_testdata_6positions_210epochs_0.7coeff.npz',\n",
       " 'predicted_testdata_6positions_220epochs_0.7coeff.npz',\n",
       " 'predicted_testdata_6positions_230epochs_0.7coeff.npz',\n",
       " 'predicted_testdata_6positions_240epochs_0.7coeff.npz',\n",
       " 'predicted_testdata_6positions_250epochs_0.7coeff.npz',\n",
       " 'predicted_testdata_6positions_110epochs_0.75coeff.npz',\n",
       " 'predicted_testdata_6positions_120epochs_0.75coeff.npz',\n",
       " 'predicted_testdata_6positions_130epochs_0.75coeff.npz',\n",
       " 'predicted_testdata_6positions_140epochs_0.75coeff.npz',\n",
       " 'predicted_testdata_6positions_150epochs_0.75coeff.npz',\n",
       " 'predicted_testdata_6positions_160epochs_0.75coeff.npz',\n",
       " 'predicted_testdata_6positions_170epochs_0.75coeff.npz',\n",
       " 'predicted_testdata_6positions_180epochs_0.75coeff.npz',\n",
       " 'predicted_testdata_6positions_190epochs_0.75coeff.npz',\n",
       " 'predicted_testdata_6positions_200epochs_0.75coeff.npz',\n",
       " 'predicted_testdata_6positions_210epochs_0.75coeff.npz',\n",
       " 'predicted_testdata_6positions_220epochs_0.75coeff.npz',\n",
       " 'predicted_testdata_6positions_230epochs_0.75coeff.npz',\n",
       " 'predicted_testdata_6positions_240epochs_0.75coeff.npz',\n",
       " 'predicted_testdata_6positions_250epochs_0.75coeff.npz',\n",
       " 'predicted_unseen_6positions_110epochs_0.5coeff.npz',\n",
       " 'predicted_unseen_6positions_120epochs_0.5coeff.npz',\n",
       " 'predicted_unseen_6positions_130epochs_0.5coeff.npz',\n",
       " 'predicted_unseen_6positions_140epochs_0.5coeff.npz',\n",
       " 'predicted_unseen_6positions_150epochs_0.5coeff.npz',\n",
       " 'predicted_unseen_6positions_160epochs_0.5coeff.npz',\n",
       " 'predicted_unseen_6positions_170epochs_0.5coeff.npz',\n",
       " 'predicted_unseen_6positions_180epochs_0.5coeff.npz',\n",
       " 'predicted_unseen_6positions_190epochs_0.5coeff.npz',\n",
       " 'predicted_unseen_6positions_200epochs_0.5coeff.npz',\n",
       " 'predicted_unseen_6positions_210epochs_0.5coeff.npz',\n",
       " 'predicted_unseen_6positions_220epochs_0.5coeff.npz',\n",
       " 'predicted_unseen_6positions_230epochs_0.5coeff.npz',\n",
       " 'predicted_unseen_6positions_240epochs_0.5coeff.npz',\n",
       " 'predicted_unseen_6positions_250epochs_0.5coeff.npz',\n",
       " 'predicted_unseen_6positions_110epochs_0.6coeff.npz',\n",
       " 'predicted_unseen_6positions_120epochs_0.6coeff.npz',\n",
       " 'predicted_unseen_6positions_130epochs_0.6coeff.npz',\n",
       " 'predicted_unseen_6positions_140epochs_0.6coeff.npz',\n",
       " 'predicted_unseen_6positions_150epochs_0.6coeff.npz',\n",
       " 'predicted_unseen_6positions_160epochs_0.6coeff.npz',\n",
       " 'predicted_unseen_6positions_170epochs_0.6coeff.npz',\n",
       " 'predicted_unseen_6positions_180epochs_0.6coeff.npz',\n",
       " 'predicted_unseen_6positions_190epochs_0.6coeff.npz',\n",
       " 'predicted_unseen_6positions_200epochs_0.6coeff.npz',\n",
       " 'predicted_unseen_6positions_210epochs_0.6coeff.npz',\n",
       " 'predicted_unseen_6positions_220epochs_0.6coeff.npz',\n",
       " 'predicted_unseen_6positions_230epochs_0.6coeff.npz',\n",
       " 'predicted_unseen_6positions_240epochs_0.6coeff.npz',\n",
       " 'predicted_unseen_6positions_250epochs_0.6coeff.npz',\n",
       " 'predicted_unseen_6positions_110epochs_0.7coeff.npz',\n",
       " 'predicted_unseen_6positions_120epochs_0.7coeff.npz',\n",
       " 'predicted_unseen_6positions_130epochs_0.7coeff.npz',\n",
       " 'predicted_unseen_6positions_140epochs_0.7coeff.npz',\n",
       " 'predicted_unseen_6positions_150epochs_0.7coeff.npz',\n",
       " 'predicted_unseen_6positions_160epochs_0.7coeff.npz',\n",
       " 'predicted_unseen_6positions_170epochs_0.7coeff.npz',\n",
       " 'predicted_unseen_6positions_180epochs_0.7coeff.npz',\n",
       " 'predicted_unseen_6positions_190epochs_0.7coeff.npz',\n",
       " 'predicted_unseen_6positions_200epochs_0.7coeff.npz',\n",
       " 'predicted_unseen_6positions_210epochs_0.7coeff.npz',\n",
       " 'predicted_unseen_6positions_220epochs_0.7coeff.npz',\n",
       " 'predicted_unseen_6positions_230epochs_0.7coeff.npz',\n",
       " 'predicted_unseen_6positions_240epochs_0.7coeff.npz',\n",
       " 'predicted_unseen_6positions_250epochs_0.7coeff.npz',\n",
       " 'predicted_unseen_6positions_120epochs_0.75coeff.npz',\n",
       " 'predicted_unseen_6positions_130epochs_0.75coeff.npz',\n",
       " 'predicted_unseen_6positions_140epochs_0.75coeff.npz',\n",
       " 'predicted_unseen_6positions_150epochs_0.75coeff.npz',\n",
       " 'predicted_unseen_6positions_160epochs_0.75coeff.npz',\n",
       " 'predicted_unseen_6positions_170epochs_0.75coeff.npz',\n",
       " 'predicted_unseen_6positions_180epochs_0.75coeff.npz',\n",
       " 'predicted_unseen_6positions_190epochs_0.75coeff.npz',\n",
       " 'predicted_unseen_6positions_200epochs_0.75coeff.npz',\n",
       " 'predicted_unseen_6positions_210epochs_0.75coeff.npz',\n",
       " 'predicted_unseen_6positions_220epochs_0.75coeff.npz',\n",
       " 'predicted_unseen_6positions_230epochs_0.75coeff.npz',\n",
       " 'predicted_unseen_6positions_240epochs_0.75coeff.npz',\n",
       " 'predicted_unseen_6positions_250epochs_0.75coeff.npz']"
      ]
     },
     "execution_count": 7,
     "metadata": {},
     "output_type": "execute_result"
    }
   ],
   "source": [
    "model_names"
   ]
  },
  {
   "cell_type": "code",
   "execution_count": 8,
   "metadata": {},
   "outputs": [],
   "source": [
    "def get_fnames(coeff, prefix='Trained'):\n",
    "    idx_coef = 6 if prefix=='Trained' else 4\n",
    "    idx_epoch = 5 if prefix =='Trained' else 3\n",
    "    f_list = []\n",
    "    epochs = []\n",
    "    for fname in model_names:\n",
    "        if fname.startswith(prefix):\n",
    "            if regex.findall(fname.split(\"_\")[idx_coef])[1]==str(coeff):\n",
    "                epoch = int(regex.findall(fname.split(\"_\")[idx_epoch])[0]) \n",
    "                epochs.append(epoch)\n",
    "                if int(regex.findall(fname.split(\"_\")[idx_epoch])[0])==epoch:\n",
    "                    f_list.append(fname)\n",
    "    \n",
    "    return np.array(f_list)[np.argsort(epochs)], np.sort(epochs)"
   ]
  },
  {
   "cell_type": "code",
   "execution_count": 9,
   "metadata": {},
   "outputs": [],
   "source": [
    "data_025_75epochs_testdata = os.path.join(saved_models, \"predicted_testdata_6positions_75epochs_0.25coeff.npz\")"
   ]
  },
  {
   "cell_type": "code",
   "execution_count": null,
   "metadata": {},
   "outputs": [],
   "source": []
  },
  {
   "cell_type": "code",
   "execution_count": 10,
   "metadata": {},
   "outputs": [],
   "source": [
    "data_025_75epochs_unseen = os.path.join(saved_models, \"predicted_unseen_6positions_75epochs_0.25coeff.npz\")"
   ]
  },
  {
   "cell_type": "code",
   "execution_count": 20,
   "metadata": {},
   "outputs": [
    {
     "data": {
      "text/plain": [
       "(array(['predicted_unseen_6positions_5epochs_0.25coeff.npz',\n",
       "        'predicted_unseen_6positions_10epochs_0.25coeff.npz',\n",
       "        'predicted_unseen_6positions_15epochs_0.25coeff.npz',\n",
       "        'predicted_unseen_6positions_20epochs_0.25coeff.npz',\n",
       "        'predicted_unseen_6positions_25epochs_0.25coeff.npz',\n",
       "        'predicted_unseen_6positions_30epochs_0.25coeff.npz',\n",
       "        'predicted_unseen_6positions_35epochs_0.25coeff.npz',\n",
       "        'predicted_unseen_6positions_40epochs_0.25coeff.npz',\n",
       "        'predicted_unseen_6positions_45epochs_0.25coeff.npz',\n",
       "        'predicted_unseen_6positions_50epochs_0.25coeff.npz',\n",
       "        'predicted_unseen_6positions_55epochs_0.25coeff.npz',\n",
       "        'predicted_unseen_6positions_60epochs_0.25coeff.npz',\n",
       "        'predicted_unseen_6positions_65epochs_0.25coeff.npz',\n",
       "        'predicted_unseen_6positions_70epochs_0.25coeff.npz',\n",
       "        'predicted_unseen_6positions_75epochs_0.25coeff.npz',\n",
       "        'predicted_unseen_6positions_80epochs_0.25coeff.npz',\n",
       "        'predicted_unseen_6positions_85epochs_0.25coeff.npz',\n",
       "        'predicted_unseen_6positions_90epochs_0.25coeff.npz',\n",
       "        'predicted_unseen_6positions_95epochs_0.25coeff.npz',\n",
       "        'predicted_unseen_6positions_100epochs_0.25coeff.npz'],\n",
       "       dtype='<U51'),\n",
       " array([  5,  10,  15,  20,  25,  30,  35,  40,  45,  50,  55,  60,  65,\n",
       "         70,  75,  80,  85,  90,  95, 100]))"
      ]
     },
     "execution_count": 20,
     "metadata": {},
     "output_type": "execute_result"
    }
   ],
   "source": [
    "get_fnames(25, prefix='predicted_unseen')"
   ]
  },
  {
   "cell_type": "code",
   "execution_count": null,
   "metadata": {},
   "outputs": [],
   "source": []
  },
  {
   "cell_type": "code",
   "execution_count": 55,
   "metadata": {},
   "outputs": [],
   "source": [
    "fnames, epochs = get_fnames(25, prefix='predicted_unseen')"
   ]
  },
  {
   "cell_type": "code",
   "execution_count": 65,
   "metadata": {},
   "outputs": [
    {
     "data": {
      "text/plain": [
       "4"
      ]
     },
     "execution_count": 65,
     "metadata": {},
     "output_type": "execute_result"
    }
   ],
   "source": [
    "int(np.argwhere(epochs==25)[0])"
   ]
  },
  {
   "cell_type": "code",
   "execution_count": 70,
   "metadata": {},
   "outputs": [
    {
     "data": {
      "text/plain": [
       "(40, 25)"
      ]
     },
     "execution_count": 70,
     "metadata": {},
     "output_type": "execute_result"
    }
   ],
   "source": [
    "get_params(fnames[int(np.argwhere(epochs==40)[0])])"
   ]
  },
  {
   "cell_type": "code",
   "execution_count": 87,
   "metadata": {},
   "outputs": [],
   "source": [
    "def gaus_fit_avg(coeff, epoch, fname_keyword, out_file_key, save_file=True,  \n",
    "                 n_bins = 10, histo_min = -1.0, histo_max = 1.0, print_sigma=True):\n",
    "    \n",
    "    filelist, epochs = get_fnames(coeff, prefix=fname_keyword)\n",
    "    model = filelist[int(np.argwhere(epochs==epoch)[0])]\n",
    "\n",
    "    data = np.load(root_path(model))\n",
    "    true = data['true']\n",
    "    preds = data['pred']\n",
    "\n",
    "    mean = np.mean(true-preds)\n",
    "    histo = TH1F(\"{}\".format(fname_keyword),\n",
    "                 \"Distribution of prediction errors for r-UNet estimations\", \n",
    "                 n_bins,histo_min,histo_max)\n",
    "    for i in (true-preds):\n",
    "        histo.Fill(i)\n",
    "    canvas = TCanvas()\n",
    "    f = TF1(\"f\",\"gaus\")\n",
    "    f.FixParameter(1,mean)\n",
    "\n",
    "    histo.Fit(f, \"S\")\n",
    "    histo.GetXaxis().SetTitle(\"prediction error (mm)\");\n",
    "    yax=histo.GetYaxis()\n",
    "    yax.SetLimits(0,500)\n",
    "    #histo.SetAxisRange(0, 500,\"y\")\n",
    "    #gStyle.SetOptStat(\"nmR\")\n",
    "    gStyle.SetOptFit()\n",
    "    gStyle.SetStatY(0.9)\n",
    "    gStyle.SetStatX(0.9)\n",
    "    gStyle.SetStatW(0.15)\n",
    "    gStyle.SetStatH(0.15)\n",
    "    histo.Draw()\n",
    "    canvas.Draw()\n",
    "    if save_file:\n",
    "        canvas.SaveAs(os.path.join(saved_models, 'error_distributions',\n",
    "                                   '_'.join([\"error_distribution\",out_file_key])+\".png\"))\n",
    "    if print_sigma:\n",
    "        sigma = f.GetParameter(2)\n",
    "        err = f.GetParError(2)\n",
    "        print('Sigma: {:.5f} ± {:.5f}'.format(sigma, err))\n",
    "    return histo, canvas, sigma, err"
   ]
  },
  {
   "cell_type": "code",
   "execution_count": 82,
   "metadata": {
    "collapsed": true
   },
   "outputs": [
    {
     "name": "stdout",
     "output_type": "stream",
     "text": [
      "Sigma: 0.28121 ± 0.00707\n",
      " FCN=1895.15 FROM MIGRAD    STATUS=CONVERGED      68 CALLS          69 TOTAL\n",
      "                     EDM=4.50823e-10    STRATEGY= 1      ERROR MATRIX ACCURATE \n",
      "  EXT PARAMETER                                   STEP         FIRST   \n",
      "  NO.   NAME      VALUE            ERROR          SIZE      DERIVATIVE \n",
      "   1  Constant     4.94235e+01   1.52123e+00   2.59727e-02   1.01647e-05\n",
      "   2  Mean        -1.93601e-01     fixed    \n",
      "   3  Sigma        2.81211e-01   7.07111e-03   1.49390e-04  -2.07129e-03\n"
     ]
    },
    {
     "name": "stderr",
     "output_type": "stream",
     "text": [
      "Warning in <TROOT::Append>: Replacing existing TH1: predicted_unseen (Potential memory leak).\n"
     ]
    },
    {
     "data": {
      "image/png": "[encoded data removed]",
      "text/plain": [
       "<IPython.core.display.Image object>"
      ]
     },
     "metadata": {},
     "output_type": "display_data"
    }
   ],
   "source": [
    "h, c, sigma, err = gaus_fit_avg(75, 100, 'predicted_unseen', '', n_bins=100)"
   ]
  },
  {
   "cell_type": "code",
   "execution_count": 97,
   "metadata": {
    "collapsed": true
   },
   "outputs": [
    {
     "name": "stdout",
     "output_type": "stream",
     "text": [
      "Sigma: 0.17025 ± 0.00240\n"
     ]
    },
    {
     "data": {
      "text/plain": [
       "(<ROOT.TH1F object (\"predicted_unseen\") at 0x55c4b7f46b40>,\n",
       " <ROOT.TCanvas object (\"c1_n12\") at 0x55c4b7f25a60>,\n",
       " 0.17025332210898636,\n",
       " 0.0024016974828529186)"
      ]
     },
     "execution_count": 97,
     "metadata": {},
     "output_type": "execute_result"
    },
    {
     "name": "stdout",
     "output_type": "stream",
     "text": [
      " FCN=632.466 FROM MIGRAD    STATUS=CONVERGED      53 CALLS          54 TOTAL\n",
      "                     EDM=8.09169e-10    STRATEGY= 1      ERROR MATRIX ACCURATE \n",
      "  EXT PARAMETER                                   STEP         FIRST   \n",
      "  NO.   NAME      VALUE            ERROR          SIZE      DERIVATIVE \n",
      "   1  Constant     1.38381e+02   3.11789e+00   3.15829e-02   4.89617e-06\n",
      "   2  Mean        -1.02848e-01     fixed    \n",
      "   3  Sigma        1.70253e-01   2.40170e-03   4.83154e-05   9.82277e-03\n"
     ]
    },
    {
     "name": "stderr",
     "output_type": "stream",
     "text": [
      "Warning in <TROOT::Append>: Replacing existing TH1: predicted_unseen (Potential memory leak).\n",
      "Info in <TCanvas::Print>: png file /storage/yw18581/src/leaf_reco/saved_models/trained_6positions/error_distributions/error_distribution_.png has been created\n"
     ]
    },
    {
     "data": {
      "image/png": "[encoded data removed]",
      "text/plain": [
       "<IPython.core.display.Image object>"
      ]
     },
     "metadata": {},
     "output_type": "display_data"
    }
   ],
   "source": [
    "gaus_fit_avg(5, 55, 'predicted_unseen', '', n_bins=100)"
   ]
  },
  {
   "cell_type": "code",
   "execution_count": 98,
   "metadata": {
    "collapsed": true
   },
   "outputs": [
    {
     "name": "stdout",
     "output_type": "stream",
     "text": [
      "Sigma: 0.08875 ± 0.00250\n"
     ]
    },
    {
     "data": {
      "text/plain": [
       "(<ROOT.TH1F object (\"predicted_testdata\") at 0x55c4b7f60ab0>,\n",
       " <ROOT.TCanvas object (\"c1_n13\") at 0x55c4b7f61040>,\n",
       " 0.08874664095579418,\n",
       " 0.0025017257012838606)"
      ]
     },
     "execution_count": 98,
     "metadata": {},
     "output_type": "execute_result"
    },
    {
     "name": "stdout",
     "output_type": "stream",
     "text": [
      " FCN=142.277 FROM MIGRAD    STATUS=CONVERGED      43 CALLS          44 TOTAL\n",
      "                     EDM=4.76616e-10    STRATEGY= 1      ERROR MATRIX ACCURATE \n",
      "  EXT PARAMETER                                   STEP         FIRST   \n",
      "  NO.   NAME      VALUE            ERROR          SIZE      DERIVATIVE \n",
      "   1  Constant     8.45695e+01   3.60689e+00   1.61415e-02  -1.10553e-05\n",
      "   2  Mean         1.84056e-01     fixed    \n",
      "   3  Sigma        8.87466e-02   2.50173e-03   4.06939e-05  -2.31586e-03\n"
     ]
    },
    {
     "name": "stderr",
     "output_type": "stream",
     "text": [
      "Info in <TCanvas::Print>: png file /storage/yw18581/src/leaf_reco/saved_models/trained_6positions/error_distributions/error_distribution_.png has been created\n"
     ]
    },
    {
     "data": {
      "image/png": "[encoded data removed]",
      "text/plain": [
       "<IPython.core.display.Image object>"
      ]
     },
     "metadata": {},
     "output_type": "display_data"
    }
   ],
   "source": [
    "gaus_fit_avg(5, 55, 'predicted_testdata', '', n_bins=100)"
   ]
  },
  {
   "cell_type": "code",
   "execution_count": 99,
   "metadata": {},
   "outputs": [],
   "source": [
    "def idx_mse(dist, true_arr, preds_arr):\n",
    "    idx = np.where(true_arr==dist)[0]\n",
    "    mse = mean_squared_error(true_arr[idx], preds_arr[idx])\n",
    "    print(dist, mse)\n",
    "    return idx, mse "
   ]
  },
  {
   "cell_type": "code",
   "execution_count": 103,
   "metadata": {},
   "outputs": [],
   "source": [
    "def gaus_fit_dist(coeff, epoch, fname_keyword, distances, out_file_key, save_file=False, \n",
    "                  n_bins = 10, histo_min = -1.0, histo_max = 1.0, print_sigma=True):\n",
    "    filelist, epochs = get_fnames(coeff, prefix=fname_keyword)\n",
    "    model = filelist[int(np.argwhere(epochs==epoch)[0])]\n",
    "\n",
    "    data = np.load(root_path(model))\n",
    "    \n",
    "    true = data['true']\n",
    "    preds = data['pred']\n",
    "    sigmas = []\n",
    "    errors = []\n",
    "    for dist in distances:\n",
    "        histo=None\n",
    "        canvas=None\n",
    "        idx = idx_mse(dist, preds_arr=preds, true_arr=true)[0]\n",
    "        y_true = true[idx]\n",
    "        y_pred = preds[idx]\n",
    "        \n",
    "        mean = np.mean(y_true-y_pred)\n",
    "        histo = TH1F(\"{}_{}mm\".format(fname_keyword, dist),\n",
    "                 \"Distribution of prediction errors for r-UNet estimations\", \n",
    "                 n_bins,histo_min,histo_max)\n",
    "        for i in (y_true-y_pred):\n",
    "            histo.Fill(i)\n",
    "    \n",
    "        canvas = TCanvas()\n",
    "        f = TF1(\"f\",\"gaus\")\n",
    "        f.FixParameter(1,mean)\n",
    "\n",
    "        histo.Fit(f, \"S\")\n",
    "        histo.GetXaxis().SetTitle(\"prediction error (mm)\");\n",
    "        yax=histo.GetYaxis()\n",
    "        yax.SetLimits(0,500)\n",
    "        #histo.SetAxisRange(0, 500,\"y\")\n",
    "        #gStyle.SetOptStat(\"nmR\")\n",
    "        gStyle.SetOptFit()\n",
    "        gStyle.SetStatY(0.9)\n",
    "        gStyle.SetStatX(0.9)\n",
    "        gStyle.SetStatW(0.15)\n",
    "        gStyle.SetStatH(0.15)\n",
    "        histo.Draw()\n",
    "        canvas.Draw()\n",
    "        if save_file:\n",
    "            print(\"saving as: {}\".format(os.path.join(saved_models, 'error_distributions',\n",
    "                                   '_'.join([\"TEST_{}mm\".format(dist),fkey])+\".png\")))\n",
    "            canvas.SaveAs(os.path.join(saved_models, 'error_distributions',\n",
    "                                   '_'.join([\"TEST_{}mm\".format(dist),fkey])+\".png\"))\n",
    "        if print_sigma:\n",
    "            sigma=f.GetParameter(2)\n",
    "            err= f.GetParError(2)\n",
    "            print('Sigma: {:.5f} ± {:.5f}'.format(sigma, err))\n",
    "            sigmas.append(sigma)\n",
    "            errors.append(err)\n",
    "    return histo, canvas, sigmas, errors"
   ]
  },
  {
   "cell_type": "code",
   "execution_count": 101,
   "metadata": {},
   "outputs": [],
   "source": [
    "test_distances = [2,4,10,20,25,35]"
   ]
  },
  {
   "cell_type": "code",
   "execution_count": 102,
   "metadata": {},
   "outputs": [],
   "source": [
    "unseen_dist = [1,3,15,30]"
   ]
  },
  {
   "cell_type": "code",
   "execution_count": 122,
   "metadata": {},
   "outputs": [
    {
     "name": "stdout",
     "output_type": "stream",
     "text": [
      "1 0.27101602140377723\n",
      "Sigma: 0.06178 ± 0.00136\n",
      "3 0.01897365626255518\n",
      "Sigma: 0.07295 ± 0.00227\n",
      "15 0.13548099992701484\n",
      "Sigma: 0.04302 ± 0.00106\n",
      "30 0.13804626115639015\n",
      "Sigma: 0.07104 ± 0.00195\n",
      " FCN=56.5124 FROM MIGRAD    STATUS=CONVERGED      35 CALLS          36 TOTAL\n",
      "                     EDM=1.76704e-10    STRATEGY= 1      ERROR MATRIX ACCURATE \n",
      "  EXT PARAMETER                                   STEP         FIRST   \n",
      "  NO.   NAME      VALUE            ERROR          SIZE      DERIVATIVE \n",
      "   1  Constant     1.10270e+02   4.40103e+00   1.40596e-02   4.66816e-06\n",
      "   2  Mean        -5.17044e-01     fixed    \n",
      "   3  Sigma        6.17772e-02   1.35798e-03   2.34272e-05   2.27133e-03\n",
      " FCN=76.1022 FROM MIGRAD    STATUS=CONVERGED      46 CALLS          47 TOTAL\n",
      "                     EDM=4.92499e-09    STRATEGY= 1      ERROR MATRIX ACCURATE \n",
      "  EXT PARAMETER                                   STEP         FIRST   \n",
      "  NO.   NAME      VALUE            ERROR          SIZE      DERIVATIVE \n",
      "   1  Constant     8.27202e+01   3.95096e+00   1.28902e-02  -3.28640e-05\n",
      "   2  Mean         1.00192e-01     fixed    \n",
      "   3  Sigma        7.29462e-02   2.27034e-03   2.93279e-05  -8.42776e-03\n",
      " FCN=6.83032 FROM MIGRAD    STATUS=CONVERGED      38 CALLS          39 TOTAL\n",
      "                     EDM=5.82184e-11    STRATEGY= 1      ERROR MATRIX ACCURATE \n",
      "  EXT PARAMETER                                   STEP         FIRST   \n",
      "  NO.   NAME      VALUE            ERROR          SIZE      DERIVATIVE \n",
      "   1  Constant     1.65748e+02   6.86925e+00   7.57732e-03   1.14811e-06\n",
      "   2  Mean        -3.65756e-01     fixed    \n",
      "   3  Sigma        4.30156e-02   1.05824e-03   8.97240e-06  -4.98821e-04\n",
      " FCN=69.6373 FROM MIGRAD    STATUS=CONVERGED      36 CALLS          37 TOTAL\n",
      "                     EDM=2.24735e-07    STRATEGY= 1      ERROR MATRIX ACCURATE \n",
      "  EXT PARAMETER                                   STEP         FIRST   \n",
      "  NO.   NAME      VALUE            ERROR          SIZE      DERIVATIVE \n",
      "   1  Constant     9.37155e+01   4.08737e+00   1.33452e-02  -2.02970e-04\n",
      "   2  Mean        -3.63133e-01     fixed    \n",
      "   3  Sigma        7.10400e-02   1.94777e-03   2.85376e-05  -7.09000e-02\n"
     ]
    },
    {
     "name": "stderr",
     "output_type": "stream",
     "text": [
      "Warning in <TROOT::Append>: Replacing existing TH1: predicted_unseen_30mm (Potential memory leak).\n"
     ]
    },
    {
     "data": {
      "image/png": "[encoded data removed]",
      "text/plain": [
       "<IPython.core.display.Image object>"
      ]
     },
     "metadata": {},
     "output_type": "display_data"
    }
   ],
   "source": [
    "h, c, sigmas_unseen, errors_unseen = gaus_fit_dist(epoch=80, coeff=75, fname_keyword='predicted_unseen', distances=unseen_dist,\n",
    "             out_file_key='', n_bins=100 )"
   ]
  },
  {
   "cell_type": "code",
   "execution_count": 159,
   "metadata": {},
   "outputs": [
    {
     "name": "stdout",
     "output_type": "stream",
     "text": [
      "2 0.018340652423307024\n",
      "Sigma: 0.05277 ± 0.00361\n",
      "4 0.023963183748769153\n",
      "Sigma: 0.06425 ± 0.00462\n",
      "10 0.020396492018963736\n",
      "Sigma: 0.06236 ± 0.00461\n",
      "20 0.029189986571549486\n",
      "Sigma: 0.05157 ± 0.00383\n",
      "25 0.04730410448561303\n",
      "Sigma: 0.05039 ± 0.00321\n",
      "35 0.11940526740493945\n",
      "Sigma: 0.05001 ± 0.00350\n",
      " FCN=13.0203 FROM MIGRAD    STATUS=CONVERGED      40 CALLS          41 TOTAL\n",
      "                     EDM=6.56635e-10    STRATEGY= 1      ERROR MATRIX ACCURATE \n",
      "  EXT PARAMETER                                   STEP         FIRST   \n",
      "  NO.   NAME      VALUE            ERROR          SIZE      DERIVATIVE \n",
      "   1  Constant     2.43688e+01   2.45260e+00   3.53383e-03   1.28199e-05\n",
      "   2  Mean         1.25349e-01     fixed    \n",
      "   3  Sigma        5.27686e-02   3.61207e-03   3.32590e-05  -3.07075e-04\n",
      " FCN=18.7805 FROM MIGRAD    STATUS=CONVERGED      36 CALLS          37 TOTAL\n",
      "                     EDM=1.48759e-08    STRATEGY= 1      ERROR MATRIX ACCURATE \n",
      "  EXT PARAMETER                                   STEP         FIRST   \n",
      "  NO.   NAME      VALUE            ERROR          SIZE      DERIVATIVE \n",
      "   1  Constant     2.14296e+01   2.17130e+00   3.57348e-03   9.05762e-05\n",
      "   2  Mean         1.39841e-01     fixed    \n",
      "   3  Sigma        6.42513e-02   4.61860e-03   3.81387e-05   9.32855e-03\n",
      " FCN=16.9517 FROM MIGRAD    STATUS=CONVERGED      41 CALLS          42 TOTAL\n",
      "                     EDM=4.38601e-09    STRATEGY= 1      ERROR MATRIX ACCURATE \n",
      "  EXT PARAMETER                                   STEP         FIRST   \n",
      "  NO.   NAME      VALUE            ERROR          SIZE      DERIVATIVE \n",
      "   1  Constant     2.08012e+01   2.17937e+00   3.39180e-03   3.47171e-05\n",
      "   2  Mean         1.28652e-01     fixed    \n",
      "   3  Sigma        6.23579e-02   4.60865e-03   3.80858e-05  -1.00191e-03\n",
      " FCN=11.4036 FROM MIGRAD    STATUS=CONVERGED      41 CALLS          42 TOTAL\n",
      "                     EDM=3.30133e-09    STRATEGY= 1      ERROR MATRIX ACCURATE \n",
      "  EXT PARAMETER                                   STEP         FIRST   \n",
      "  NO.   NAME      VALUE            ERROR          SIZE      DERIVATIVE \n",
      "   1  Constant     2.70538e+01   2.71680e+00   3.56250e-03   2.14950e-05\n",
      "   2  Mean         1.62418e-01     fixed    \n",
      "   3  Sigma        5.15748e-02   3.83455e-03   3.25346e-05  -1.21629e-03\n",
      " FCN=7.64384 FROM MIGRAD    STATUS=CONVERGED      36 CALLS          37 TOTAL\n",
      "                     EDM=1.7864e-07    STRATEGY= 1      ERROR MATRIX ACCURATE \n",
      "  EXT PARAMETER                                   STEP         FIRST   \n",
      "  NO.   NAME      VALUE            ERROR          SIZE      DERIVATIVE \n",
      "   1  Constant     2.83808e+01   2.74556e+00   3.04842e-03   1.67667e-04\n",
      "   2  Mean         2.10968e-01     fixed    \n",
      "   3  Sigma        5.03851e-02   3.21115e-03   2.27098e-05  -9.19898e-03\n",
      " FCN=8.43254 FROM MIGRAD    STATUS=CONVERGED      36 CALLS          37 TOTAL\n",
      "                     EDM=4.14924e-11    STRATEGY= 1      ERROR MATRIX ACCURATE \n",
      "  EXT PARAMETER                                   STEP         FIRST   \n",
      "  NO.   NAME      VALUE            ERROR          SIZE      DERIVATIVE \n",
      "   1  Constant     2.62899e+01   2.73508e+00   3.07341e-03  -8.92026e-07\n",
      "   2  Mean         3.41561e-01     fixed    \n",
      "   3  Sigma        5.00097e-02   3.49534e-03   2.54147e-05  -4.65800e-04\n"
     ]
    },
    {
     "name": "stderr",
     "output_type": "stream",
     "text": [
      "Warning in <TROOT::Append>: Replacing existing TH1: predicted_testdata_35mm (Potential memory leak).\n"
     ]
    },
    {
     "data": {
      "image/png": "[encoded data removed]",
      "text/plain": [
       "<IPython.core.display.Image object>"
      ]
     },
     "metadata": {},
     "output_type": "display_data"
    }
   ],
   "source": [
    "h, c, sigmas_test, errors_test= gaus_fit_dist(epoch=55, coeff=5, fname_keyword='predicted_testdata', distances=test_distances,\n",
    "             out_file_key='', n_bins=100 )"
   ]
  },
  {
   "cell_type": "code",
   "execution_count": 160,
   "metadata": {},
   "outputs": [
    {
     "data": {
      "text/plain": [
       "[0.05276864256582649,\n",
       " 0.06425129395790229,\n",
       " 0.062357942742514744,\n",
       " 0.051574803252987224,\n",
       " 0.05038513970688996,\n",
       " 0.050009743448785685]"
      ]
     },
     "execution_count": 160,
     "metadata": {},
     "output_type": "execute_result"
    }
   ],
   "source": [
    "sigmas_test"
   ]
  },
  {
   "cell_type": "code",
   "execution_count": 161,
   "metadata": {},
   "outputs": [
    {
     "data": {
      "text/plain": [
       "[0.0036120669175944593,\n",
       " 0.004618603819377658,\n",
       " 0.004608647498381545,\n",
       " 0.003834545350841538,\n",
       " 0.0032111485674940904,\n",
       " 0.003495336026758611]"
      ]
     },
     "execution_count": 161,
     "metadata": {},
     "output_type": "execute_result"
    }
   ],
   "source": [
    "errors_test"
   ]
  },
  {
   "cell_type": "code",
   "execution_count": 162,
   "metadata": {},
   "outputs": [
    {
     "data": {
      "text/plain": [
       "[0.061777229285342856,\n",
       " 0.07294616818506733,\n",
       " 0.043015637739066526,\n",
       " 0.07103997269680182]"
      ]
     },
     "execution_count": 162,
     "metadata": {},
     "output_type": "execute_result"
    }
   ],
   "source": [
    "sigmas_unseen"
   ]
  },
  {
   "cell_type": "code",
   "execution_count": 163,
   "metadata": {},
   "outputs": [
    {
     "data": {
      "text/plain": [
       "[0.0013579810926186674,\n",
       " 0.002270337929225409,\n",
       " 0.001058241441340979,\n",
       " 0.001947765820155066]"
      ]
     },
     "execution_count": 163,
     "metadata": {},
     "output_type": "execute_result"
    }
   ],
   "source": [
    "errors_unseen"
   ]
  },
  {
   "cell_type": "code",
   "execution_count": 164,
   "metadata": {},
   "outputs": [],
   "source": [
    "sigmas = sigmas_test+sigmas_unseen"
   ]
  },
  {
   "cell_type": "code",
   "execution_count": 165,
   "metadata": {},
   "outputs": [],
   "source": [
    "errors = errors_test+errors_unseen"
   ]
  },
  {
   "cell_type": "code",
   "execution_count": 166,
   "metadata": {},
   "outputs": [],
   "source": [
    "distances = test_distances+unseen_dist"
   ]
  },
  {
   "cell_type": "code",
   "execution_count": 167,
   "metadata": {},
   "outputs": [],
   "source": [
    "import matplotlib.pyplot as plt"
   ]
  },
  {
   "cell_type": "code",
   "execution_count": 168,
   "metadata": {},
   "outputs": [],
   "source": [
    "from matplotlib.ticker import (MultipleLocator, FormatStrFormatter,\n",
    "                               AutoMinorLocator)"
   ]
  },
  {
   "cell_type": "code",
   "execution_count": 169,
   "metadata": {},
   "outputs": [
    {
     "data": {
      "image/png": "[encoded data removed]",
      "text/plain": [
       "<Figure size 864x576 with 1 Axes>"
      ]
     },
     "metadata": {
      "needs_background": "light"
     },
     "output_type": "display_data"
    }
   ],
   "source": [
    "fig, ax = plt.subplots(figsize=(12,8))\n",
    "ax.errorbar(np.sort(distances), np.array(sigmas)[np.argsort(distances)]*1000,\n",
    "            np.array(errors)[np.argsort(distances)]*1000,\n",
    "            fmt='x', capsize=4, c='red',ecolor='k')\n",
    "ax.set_ylabel(\"Resolution (microns)\", size=14)\n",
    "ax.set_xlabel(\"Position (mm)\", size=14)\n",
    "ax.set_ylim(30,120)\n",
    "\n",
    "ax.xaxis.set_major_locator(MultipleLocator(5))\n",
    "ax.xaxis.set_major_formatter(FormatStrFormatter('%d'))\n",
    "ax.xaxis.set_minor_locator(MultipleLocator(1))\n",
    "ax.yaxis.set_minor_locator(MultipleLocator(5))"
   ]
  },
  {
   "cell_type": "code",
   "execution_count": 152,
   "metadata": {},
   "outputs": [],
   "source": [
    "distances = test_distances+unseen_dist"
   ]
  },
  {
   "cell_type": "code",
   "execution_count": 153,
   "metadata": {},
   "outputs": [],
   "source": [
    "def mse_positions(coeff, epoch, fname_keyword, dist = unseen_dist):\n",
    "    \n",
    "    filelist, epochs = get_fnames(coeff, prefix=fname_keyword)\n",
    "    model = filelist[int(np.argwhere(epochs==epoch)[0])]\n",
    "\n",
    "    data = np.load(root_path(model))\n",
    "    y_true = data['true']\n",
    "    y_pred = data['pred']\n",
    "    print(model)\n",
    "    mse=[]\n",
    "    avg=[]\n",
    "    std=[]\n",
    "    for d in dist:\n",
    "        idx = idx_mse(d, preds_arr=y_pred, true_arr=y_true)[0]\n",
    "        y_true_d = y_true[idx]\n",
    "        y_pred_d = y_pred[idx]\n",
    "        mse_d = mean_squared_error(y_true_d, y_pred_d)\n",
    "        avg_pred = np.mean(y_pred_d)\n",
    "        std_pred = np.std(y_pred_d)\n",
    "        mse.append(mse_d)\n",
    "        avg.append(avg_pred)\n",
    "        std.append(std_pred)\n",
    "    return mse, avg, std"
   ]
  },
  {
   "cell_type": "code",
   "execution_count": 154,
   "metadata": {},
   "outputs": [
    {
     "name": "stdout",
     "output_type": "stream",
     "text": [
      "predicted_unseen_6positions_55epochs_0.5coeff.npz\n",
      "1 0.10725526988485204\n",
      "3 0.021045900420130572\n",
      "15 0.01412413165153541\n",
      "30 0.00836011290245046\n"
     ]
    }
   ],
   "source": [
    "mse_unseen, avg_unseen, std_unseen = mse_positions(5, 55, 'predicted_unseen')"
   ]
  },
  {
   "cell_type": "code",
   "execution_count": 155,
   "metadata": {},
   "outputs": [
    {
     "name": "stdout",
     "output_type": "stream",
     "text": [
      "predicted_testdata_6positions_55epochs_0.5coeff.npz\n",
      "2 0.018340652423307024\n",
      "4 0.023963183748769153\n",
      "10 0.020396492018963736\n",
      "20 0.029189986571549486\n",
      "25 0.04730410448561303\n",
      "35 0.11940526740493945\n"
     ]
    }
   ],
   "source": [
    "mse_test, avg_test, std_test = mse_positions(5, 55, 'predicted_testdata', dist=test_distances)"
   ]
  },
  {
   "cell_type": "code",
   "execution_count": 156,
   "metadata": {},
   "outputs": [],
   "source": [
    "std = mse_test+mse_unseen"
   ]
  },
  {
   "cell_type": "code",
   "execution_count": 157,
   "metadata": {},
   "outputs": [],
   "source": [
    "avg = avg_test+avg_unseen"
   ]
  },
  {
   "cell_type": "code",
   "execution_count": 158,
   "metadata": {},
   "outputs": [
    {
     "data": {
      "image/png": "[encoded data removed]",
      "text/plain": [
       "<Figure size 864x576 with 1 Axes>"
      ]
     },
     "metadata": {
      "needs_background": "light"
     },
     "output_type": "display_data"
    }
   ],
   "source": [
    "fig, ax = plt.subplots(figsize=(12,8))\n",
    "\n",
    "ax.errorbar(np.sort(distances), np.array(avg)[np.argsort(distances)], \n",
    "                                np.array(std)[np.argsort(distances)], fmt='o',markersize=5, capsize=0, c='b',ecolor='b')\n",
    "ax.plot(np.arange(0,50), np.arange(0,50),c='red')\n",
    "#plt.xticks(np.arange(0,40,5))\n",
    "#plt.yticks(np.arange(0,40,5))\n",
    "ax.xaxis.set_major_locator(MultipleLocator(5))\n",
    "ax.xaxis.set_major_formatter(FormatStrFormatter('%d'))\n",
    "ax.xaxis.set_minor_locator(MultipleLocator(1))\n",
    "\n",
    "ax.yaxis.set_minor_locator(MultipleLocator(1))\n",
    "ax.set_ylabel(\"Reconstructed leaf position (mm)\", size=14)\n",
    "ax.set_xlabel(\"LINAC set leaf position (mm)\", size=14)\n",
    "ax.set_xlim(0,40)\n",
    "ax.set_ylim(0,40)\n",
    "plt.show()\n",
    "#plt.savefig(\"reconstructed_vs_true_linear.png\")"
   ]
  },
  {
   "cell_type": "code",
   "execution_count": 151,
   "metadata": {},
   "outputs": [
    {
     "data": {
      "text/plain": [
       "array([ 1.5169474,  1.9900761,  2.9001012,  4.0159717, 10.055413 ,\n",
       "       15.365527 , 20.09631  , 25.107346 , 30.363537 , 35.14626  ],\n",
       "      dtype=float32)"
      ]
     },
     "execution_count": 151,
     "metadata": {},
     "output_type": "execute_result"
    }
   ],
   "source": [
    "np.array(avg)[np.argsort(distances)]"
   ]
  },
  {
   "cell_type": "code",
   "execution_count": null,
   "metadata": {},
   "outputs": [],
   "source": []
  }
 ],
 "metadata": {
  "kernelspec": {
   "display_name": "Python 3.6 (pyroot)",
   "language": "python",
   "name": "pyroot"
  },
  "language_info": {
   "codemirror_mode": {
    "name": "ipython",
    "version": 3
   },
   "file_extension": ".py",
   "mimetype": "text/x-python",
   "name": "python",
   "nbconvert_exporter": "python",
   "pygments_lexer": "ipython3",
   "version": "3.6.7"
  }
 },
 "nbformat": 4,
 "nbformat_minor": 2
}
