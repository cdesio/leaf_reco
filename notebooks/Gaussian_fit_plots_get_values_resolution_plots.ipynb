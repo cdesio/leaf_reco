{
 "cells": [
  {
   "cell_type": "code",
   "execution_count": 1,
   "metadata": {},
   "outputs": [
    {
     "name": "stdout",
     "output_type": "stream",
     "text": [
      "Welcome to JupyROOT 6.18/04\n"
     ]
    }
   ],
   "source": [
    "from ROOT import TH1F, TCanvas, TF1, gStyle"
   ]
  },
  {
   "cell_type": "code",
   "execution_count": 2,
   "metadata": {},
   "outputs": [],
   "source": [
    "import os\n",
    "import re"
   ]
  },
  {
   "cell_type": "code",
   "execution_count": 3,
   "metadata": {},
   "outputs": [],
   "source": [
    "regex= re.compile(r'\\d+')"
   ]
  },
  {
   "cell_type": "code",
   "execution_count": 4,
   "metadata": {},
   "outputs": [],
   "source": [
    "import numpy as np\n",
    "from sklearn.metrics import mean_squared_error"
   ]
  },
  {
   "cell_type": "code",
   "execution_count": 5,
   "metadata": {},
   "outputs": [],
   "source": [
    "from functools import partial"
   ]
  },
  {
   "cell_type": "code",
   "execution_count": 6,
   "metadata": {},
   "outputs": [],
   "source": [
    "saved_models = '/storage/yw18581/src/leaf_reco/saved_models/trained_6positions_multi_loss/predicted'"
   ]
  },
  {
   "cell_type": "code",
   "execution_count": 74,
   "metadata": {},
   "outputs": [],
   "source": [
    "error_distributions = os.path.join(saved_models, 'error_distributions')"
   ]
  },
  {
   "cell_type": "code",
   "execution_count": 7,
   "metadata": {},
   "outputs": [],
   "source": [
    "root_path = partial(os.path.join, saved_models)"
   ]
  },
  {
   "cell_type": "code",
   "execution_count": 8,
   "metadata": {},
   "outputs": [],
   "source": [
    "def get_params(file):\n",
    "    epoch = int(regex.findall(os.path.split(file)[1].split('_')[3])[0])\n",
    "    coef = int(regex.findall(os.path.split(file)[1].split('_')[4])[1])\n",
    "    return epoch, coef"
   ]
  },
  {
   "cell_type": "code",
   "execution_count": 9,
   "metadata": {},
   "outputs": [],
   "source": [
    "model_names = os.listdir(saved_models)"
   ]
  },
  {
   "cell_type": "code",
   "execution_count": 10,
   "metadata": {},
   "outputs": [
    {
     "data": {
      "text/plain": [
       "['predicted_unseen_6positions_85epochs_0.3coeff.npz',\n",
       " 'predicted_testdata_6positions_35epochs_0.25coeff.npz',\n",
       " 'predicted_unseen_6positions_20epochs_0.3coeff.npz',\n",
       " 'predicted_unseen_6positions_65epochs_0.4coeff.npz',\n",
       " 'predicted_unseen_6positions_65epochs_0.5coeff.npz',\n",
       " 'predicted_testdata_6positions_5epochs_0.25coeff.npz',\n",
       " 'predicted_unseen_6positions_10epochs_0.75coeff.npz',\n",
       " 'predicted_testdata_6positions_70epochs_0.6coeff.npz',\n",
       " 'predicted_testdata_6positions_70epochs_0.7coeff.npz',\n",
       " 'predicted_unseen_6positions_30epochs_0.3coeff.npz',\n",
       " 'predicted_unseen_6positions_75epochs_0.5coeff.npz',\n",
       " 'predicted_unseen_6positions_75epochs_0.4coeff.npz',\n",
       " 'predicted_testdata_6positions_65epochs_0.25coeff.npz',\n",
       " 'predicted_testdata_6positions_100epochs_0.25coeff.npz',\n",
       " 'predicted_unseen_6positions_95epochs_0.3coeff.npz',\n",
       " 'predicted_testdata_6positions_60epochs_0.7coeff.npz',\n",
       " 'predicted_testdata_6positions_60epochs_0.6coeff.npz',\n",
       " 'predicted_unseen_6positions_80epochs_0.25coeff.npz',\n",
       " 'predicted_unseen_6positions_40epochs_0.75coeff.npz',\n",
       " 'predicted_testdata_6positions_50epochs_0.7coeff.npz',\n",
       " 'predicted_unseen_6positions_70epochs_0.25coeff.npz',\n",
       " 'predicted_testdata_6positions_50epochs_0.6coeff.npz',\n",
       " 'predicted_unseen_6positions_45epochs_0.5coeff.npz',\n",
       " 'predicted_testdata_6positions_5epochs_0.3coeff.npz',\n",
       " 'predicted_unseen_6positions_45epochs_0.4coeff.npz',\n",
       " 'predicted_unseen_6positions_5epochs_0.75coeff.npz',\n",
       " 'predicted_testdata_6positions_95epochs_0.25coeff.npz',\n",
       " 'predicted_testdata_6positions_55epochs_0.75coeff.npz',\n",
       " 'predicted_testdata_6positions_40epochs_0.6coeff.npz',\n",
       " 'predicted_testdata_6positions_40epochs_0.7coeff.npz',\n",
       " 'predicted_unseen_6positions_20epochs_0.25coeff.npz',\n",
       " 'predicted_unseen_6positions_5epochs_0.3coeff.npz',\n",
       " 'predicted_unseen_6positions_55epochs_0.4coeff.npz',\n",
       " 'predicted_unseen_6positions_55epochs_0.5coeff.npz',\n",
       " 'predicted_unseen_6positions_10epochs_0.3coeff.npz',\n",
       " 'predicted_testdata_6positions_20epochs_0.7coeff.npz',\n",
       " 'predicted_testdata_6positions_20epochs_0.6coeff.npz',\n",
       " 'predicted_unseen_6positions_15epochs_0.75coeff.npz',\n",
       " 'predicted_unseen_6positions_100epochs_0.3coeff.npz',\n",
       " 'predicted_testdata_6positions_85epochs_0.6coeff.npz',\n",
       " 'predicted_testdata_6positions_85epochs_0.7coeff.npz',\n",
       " 'predicted_unseen_6positions_35epochs_0.5coeff.npz',\n",
       " 'predicted_unseen_6positions_35epochs_0.4coeff.npz',\n",
       " 'predicted_unseen_6positions_70epochs_0.3coeff.npz',\n",
       " 'predicted_testdata_6positions_30epochs_0.25coeff.npz',\n",
       " 'predicted_unseen_6positions_90epochs_0.4coeff.npz',\n",
       " 'predicted_unseen_6positions_90epochs_0.5coeff.npz',\n",
       " 'predicted_testdata_6positions_95epochs_0.7coeff.npz',\n",
       " 'predicted_testdata_6positions_95epochs_0.6coeff.npz',\n",
       " 'predicted_testdata_6positions_100epochs_0.4coeff.npz',\n",
       " 'predicted_testdata_6positions_100epochs_0.5coeff.npz',\n",
       " 'predicted_unseen_6positions_45epochs_0.75coeff.npz',\n",
       " 'predicted_testdata_6positions_30epochs_0.6coeff.npz',\n",
       " 'predicted_testdata_6positions_30epochs_0.7coeff.npz',\n",
       " 'predicted_unseen_6positions_85epochs_0.25coeff.npz',\n",
       " 'predicted_unseen_6positions_80epochs_0.5coeff.npz',\n",
       " 'predicted_unseen_6positions_80epochs_0.4coeff.npz',\n",
       " 'predicted_unseen_6positions_25epochs_0.4coeff.npz',\n",
       " 'predicted_testdata_6positions_60epochs_0.25coeff.npz',\n",
       " 'predicted_unseen_6positions_25epochs_0.5coeff.npz',\n",
       " 'predicted_unseen_6positions_60epochs_0.3coeff.npz',\n",
       " 'predicted_testdata_6positions_50epochs_0.75coeff.npz',\n",
       " 'predicted_unseen_6positions_50epochs_0.3coeff.npz',\n",
       " 'predicted_unseen_6positions_15epochs_0.4coeff.npz',\n",
       " 'predicted_unseen_6positions_15epochs_0.5coeff.npz',\n",
       " 'predicted_testdata_6positions_90epochs_0.25coeff.npz',\n",
       " 'predicted_unseen_6positions_75epochs_0.25coeff.npz',\n",
       " 'predicted_unseen_6positions_40epochs_0.3coeff.npz',\n",
       " 'predicted_unseen_6positions_25epochs_0.25coeff.npz',\n",
       " 'predicted_testdata_6positions_10epochs_0.7coeff.npz',\n",
       " 'predicted_testdata_6positions_10epochs_0.6coeff.npz',\n",
       " 'predicted_unseen_6positions_100epochs_0.5coeff.npz',\n",
       " 'predicted_unseen_6positions_100epochs_0.4coeff.npz',\n",
       " 'predicted_testdata_6positions_45epochs_0.75coeff.npz',\n",
       " 'predicted_testdata_6positions_85epochs_0.25coeff.npz',\n",
       " 'predicted_unseen_6positions_100epochs_0.75coeff.npz',\n",
       " 'predicted_testdata_6positions_65epochs_0.6coeff.npz',\n",
       " 'predicted_testdata_6positions_65epochs_0.7coeff.npz',\n",
       " 'predicted_unseen_6positions_90epochs_0.3coeff.npz',\n",
       " 'predicted_unseen_6positions_60epochs_0.25coeff.npz',\n",
       " 'predicted_unseen_6positions_35epochs_0.3coeff.npz',\n",
       " 'predicted_unseen_6positions_70epochs_0.4coeff.npz',\n",
       " 'predicted_unseen_6positions_70epochs_0.5coeff.npz',\n",
       " 'predicted_testdata_6positions_75epochs_0.7coeff.npz',\n",
       " 'predicted_testdata_6positions_75epochs_0.6coeff.npz',\n",
       " 'predicted_testdata_6positions_100epochs_0.3coeff.npz',\n",
       " 'predicted_testdata_6positions_15epochs_0.75coeff.npz',\n",
       " 'predicted_unseen_6positions_25epochs_0.3coeff.npz',\n",
       " 'predicted_unseen_6positions_30epochs_0.25coeff.npz',\n",
       " 'predicted_unseen_6positions_60epochs_0.5coeff.npz',\n",
       " 'predicted_unseen_6positions_60epochs_0.4coeff.npz',\n",
       " 'predicted_unseen_6positions_80epochs_0.3coeff.npz',\n",
       " 'predicted_unseen_6positions_50epochs_0.5coeff.npz',\n",
       " 'predicted_unseen_6positions_50epochs_0.4coeff.npz',\n",
       " 'predicted_unseen_6positions_15epochs_0.3coeff.npz',\n",
       " 'predicted_testdata_6positions_25epochs_0.25coeff.npz',\n",
       " 'predicted_testdata_6positions_45epochs_0.7coeff.npz',\n",
       " 'predicted_testdata_6positions_45epochs_0.6coeff.npz',\n",
       " 'predicted_unseen_6positions_50epochs_0.75coeff.npz',\n",
       " 'predicted_unseen_6positions_90epochs_0.25coeff.npz',\n",
       " 'predicted_unseen_6positions_40epochs_0.4coeff.npz',\n",
       " 'predicted_unseen_6positions_40epochs_0.5coeff.npz',\n",
       " 'predicted_testdata_6positions_55epochs_0.6coeff.npz',\n",
       " 'predicted_testdata_6positions_55epochs_0.7coeff.npz',\n",
       " 'predicted_testdata_6positions_75epochs_0.25coeff.npz',\n",
       " 'predicted_unseen_6positions_20epochs_0.5coeff.npz',\n",
       " 'predicted_unseen_6positions_20epochs_0.4coeff.npz',\n",
       " 'predicted_unseen_6positions_65epochs_0.3coeff.npz',\n",
       " 'predicted_unseen_6positions_65epochs_0.25coeff.npz',\n",
       " 'predicted_unseen_6positions_85epochs_0.4coeff.npz',\n",
       " 'predicted_unseen_6positions_85epochs_0.5coeff.npz',\n",
       " 'predicted_testdata_6positions_80epochs_0.25coeff.npz',\n",
       " 'predicted_testdata_6positions_35epochs_0.7coeff.npz',\n",
       " 'predicted_testdata_6positions_35epochs_0.6coeff.npz',\n",
       " 'predicted_testdata_6positions_40epochs_0.75coeff.npz',\n",
       " 'predicted_testdata_6positions_90epochs_0.6coeff.npz',\n",
       " 'predicted_testdata_6positions_90epochs_0.7coeff.npz',\n",
       " 'predicted_unseen_6positions_95epochs_0.5coeff.npz',\n",
       " 'predicted_unseen_6positions_95epochs_0.4coeff.npz',\n",
       " 'predicted_unseen_6positions_30epochs_0.4coeff.npz',\n",
       " 'predicted_unseen_6positions_30epochs_0.5coeff.npz',\n",
       " 'predicted_unseen_6positions_35epochs_0.25coeff.npz',\n",
       " 'predicted_unseen_6positions_75epochs_0.3coeff.npz',\n",
       " 'predicted_testdata_6positions_80epochs_0.7coeff.npz',\n",
       " 'predicted_testdata_6positions_80epochs_0.6coeff.npz',\n",
       " 'predicted_testdata_6positions_10epochs_0.75coeff.npz',\n",
       " 'predicted_testdata_6positions_25epochs_0.6coeff.npz',\n",
       " 'predicted_testdata_6positions_25epochs_0.7coeff.npz',\n",
       " 'predicted_testdata_6positions_15epochs_0.6coeff.npz',\n",
       " 'predicted_testdata_6positions_20epochs_0.25coeff.npz',\n",
       " 'predicted_testdata_6positions_15epochs_0.7coeff.npz',\n",
       " 'predicted_testdata_6positions_5epochs_0.5coeff.npz',\n",
       " 'predicted_testdata_6positions_5epochs_0.4coeff.npz',\n",
       " 'predicted_unseen_6positions_45epochs_0.3coeff.npz',\n",
       " 'predicted_testdata_6positions_70epochs_0.25coeff.npz',\n",
       " 'predicted_unseen_6positions_5epochs_0.4coeff.npz',\n",
       " 'predicted_unseen_6positions_5epochs_0.5coeff.npz',\n",
       " 'predicted_unseen_6positions_95epochs_0.25coeff.npz',\n",
       " 'predicted_unseen_6positions_55epochs_0.3coeff.npz',\n",
       " 'predicted_unseen_6positions_10epochs_0.5coeff.npz',\n",
       " 'predicted_unseen_6positions_10epochs_0.4coeff.npz',\n",
       " 'predicted_unseen_6positions_55epochs_0.75coeff.npz',\n",
       " 'predicted_testdata_6positions_40epochs_0.25coeff.npz',\n",
       " 'predicted_testdata_6positions_80epochs_0.75coeff.npz',\n",
       " 'predicted_unseen_6positions_15epochs_0.7coeff.npz',\n",
       " 'predicted_unseen_6positions_15epochs_0.6coeff.npz',\n",
       " 'predicted_testdata_6positions_45epochs_0.3coeff.npz',\n",
       " 'predicted_unseen_6positions_65epochs_0.75coeff.npz',\n",
       " 'predicted_testdata_6positions_10epochs_0.25coeff.npz',\n",
       " 'predicted_unseen_6positions_35epochs_0.75coeff.npz',\n",
       " 'predicted_testdata_6positions_55epochs_0.3coeff.npz',\n",
       " 'predicted_testdata_6positions_10epochs_0.4coeff.npz',\n",
       " 'predicted_testdata_6positions_10epochs_0.5coeff.npz',\n",
       " 'predicted_testdata_6positions_20epochs_0.4coeff.npz',\n",
       " 'predicted_testdata_6positions_20epochs_0.5coeff.npz',\n",
       " 'predicted_testdata_6positions_65epochs_0.3coeff.npz',\n",
       " 'predicted_testdata_6positions_85epochs_0.5coeff.npz',\n",
       " 'predicted_testdata_6positions_85epochs_0.4coeff.npz',\n",
       " 'predicted_testdata_6positions_20epochs_0.75coeff.npz',\n",
       " 'predicted_unseen_6positions_35epochs_0.6coeff.npz',\n",
       " 'predicted_unseen_6positions_35epochs_0.7coeff.npz',\n",
       " 'predicted_unseen_6positions_90epochs_0.7coeff.npz',\n",
       " 'predicted_unseen_6positions_90epochs_0.6coeff.npz',\n",
       " 'predicted_testdata_6positions_100epochs_0.7coeff.npz',\n",
       " 'predicted_testdata_6positions_100epochs_0.6coeff.npz',\n",
       " 'predicted_testdata_6positions_95epochs_0.4coeff.npz',\n",
       " 'predicted_testdata_6positions_95epochs_0.5coeff.npz',\n",
       " 'predicted_unseen_6positions_55epochs_0.25coeff.npz',\n",
       " 'predicted_testdata_6positions_30epochs_0.5coeff.npz',\n",
       " 'predicted_testdata_6positions_30epochs_0.4coeff.npz',\n",
       " 'predicted_testdata_6positions_75epochs_0.3coeff.npz',\n",
       " 'predicted_unseen_6positions_95epochs_0.75coeff.npz',\n",
       " 'predicted_unseen_6positions_80epochs_0.6coeff.npz',\n",
       " 'predicted_unseen_6positions_80epochs_0.7coeff.npz',\n",
       " 'predicted_unseen_6positions_25epochs_0.7coeff.npz',\n",
       " 'predicted_unseen_6positions_25epochs_0.6coeff.npz',\n",
       " 'predicted_testdata_6positions_70epochs_0.75coeff.npz',\n",
       " 'predicted_testdata_6positions_50epochs_0.4coeff.npz',\n",
       " 'predicted_testdata_6positions_50epochs_0.5coeff.npz',\n",
       " 'predicted_testdata_6positions_15epochs_0.3coeff.npz',\n",
       " 'predicted_unseen_6positions_60epochs_0.75coeff.npz',\n",
       " 'predicted_unseen_6positions_100epochs_0.25coeff.npz',\n",
       " 'predicted_unseen_6positions_45epochs_0.6coeff.npz',\n",
       " 'predicted_unseen_6positions_45epochs_0.7coeff.npz',\n",
       " 'predicted_testdata_6positions_85epochs_0.75coeff.npz',\n",
       " 'predicted_testdata_6positions_45epochs_0.25coeff.npz',\n",
       " 'predicted_unseen_6positions_30epochs_0.75coeff.npz',\n",
       " 'predicted_testdata_6positions_40epochs_0.5coeff.npz',\n",
       " 'predicted_testdata_6positions_40epochs_0.4coeff.npz',\n",
       " 'predicted_testdata_6positions_15epochs_0.25coeff.npz',\n",
       " 'predicted_unseen_6positions_55epochs_0.7coeff.npz',\n",
       " 'predicted_unseen_6positions_55epochs_0.6coeff.npz',\n",
       " 'predicted_testdata_6positions_25epochs_0.75coeff.npz',\n",
       " 'predicted_unseen_6positions_65epochs_0.7coeff.npz',\n",
       " 'predicted_unseen_6positions_65epochs_0.6coeff.npz',\n",
       " 'predicted_testdata_6positions_90epochs_0.3coeff.npz',\n",
       " 'predicted_testdata_6positions_35epochs_0.3coeff.npz',\n",
       " 'predicted_testdata_6positions_70epochs_0.5coeff.npz',\n",
       " 'predicted_testdata_6positions_70epochs_0.4coeff.npz',\n",
       " 'predicted_unseen_6positions_75epochs_0.6coeff.npz',\n",
       " 'predicted_unseen_6positions_75epochs_0.7coeff.npz',\n",
       " 'predicted_testdata_6positions_75epochs_0.75coeff.npz',\n",
       " 'predicted_unseen_6positions_90epochs_0.75coeff.npz',\n",
       " 'predicted_testdata_6positions_25epochs_0.3coeff.npz',\n",
       " 'predicted_testdata_6positions_60epochs_0.4coeff.npz',\n",
       " 'predicted_testdata_6positions_60epochs_0.5coeff.npz',\n",
       " 'predicted_unseen_6positions_50epochs_0.25coeff.npz',\n",
       " 'predicted_testdata_6positions_80epochs_0.3coeff.npz',\n",
       " 'predicted_testdata_6positions_50epochs_0.3coeff.npz',\n",
       " 'predicted_testdata_6positions_15epochs_0.5coeff.npz',\n",
       " 'predicted_testdata_6positions_15epochs_0.4coeff.npz',\n",
       " 'predicted_testdata_6positions_30epochs_0.75coeff.npz',\n",
       " 'predicted_unseen_6positions_15epochs_0.25coeff.npz',\n",
       " 'predicted_testdata_6positions_5epochs_0.6coeff.npz',\n",
       " 'predicted_testdata_6positions_5epochs_0.7coeff.npz',\n",
       " 'predicted_testdata_6positions_60epochs_0.75coeff.npz',\n",
       " 'predicted_unseen_6positions_5epochs_0.7coeff.npz',\n",
       " 'predicted_unseen_6positions_5epochs_0.6coeff.npz',\n",
       " 'predicted_testdata_6positions_40epochs_0.3coeff.npz',\n",
       " 'predicted_unseen_6positions_10epochs_0.6coeff.npz',\n",
       " 'predicted_unseen_6positions_10epochs_0.7coeff.npz',\n",
       " 'predicted_unseen_6positions_85epochs_0.75coeff.npz',\n",
       " 'predicted_unseen_6positions_45epochs_0.25coeff.npz',\n",
       " 'predicted_unseen_6positions_75epochs_0.75coeff.npz',\n",
       " 'predicted_unseen_6positions_20epochs_0.6coeff.npz',\n",
       " 'predicted_unseen_6positions_20epochs_0.7coeff.npz',\n",
       " 'predicted_unseen_6positions_85epochs_0.7coeff.npz',\n",
       " 'predicted_unseen_6positions_85epochs_0.6coeff.npz',\n",
       " 'predicted_testdata_6positions_35epochs_0.4coeff.npz',\n",
       " 'predicted_testdata_6positions_35epochs_0.5coeff.npz',\n",
       " 'predicted_testdata_6positions_90epochs_0.75coeff.npz',\n",
       " 'predicted_testdata_6positions_70epochs_0.3coeff.npz',\n",
       " 'predicted_testdata_6positions_50epochs_0.25coeff.npz',\n",
       " 'predicted_testdata_6positions_90epochs_0.5coeff.npz',\n",
       " 'predicted_testdata_6positions_90epochs_0.4coeff.npz',\n",
       " 'predicted_unseen_6positions_95epochs_0.6coeff.npz',\n",
       " 'predicted_unseen_6positions_95epochs_0.7coeff.npz',\n",
       " 'predicted_unseen_6positions_30epochs_0.7coeff.npz',\n",
       " 'predicted_unseen_6positions_30epochs_0.6coeff.npz',\n",
       " 'predicted_unseen_6positions_25epochs_0.75coeff.npz',\n",
       " 'predicted_testdata_6positions_80epochs_0.4coeff.npz',\n",
       " 'predicted_testdata_6positions_80epochs_0.5coeff.npz',\n",
       " 'predicted_testdata_6positions_25epochs_0.5coeff.npz',\n",
       " 'predicted_testdata_6positions_25epochs_0.4coeff.npz',\n",
       " 'predicted_testdata_6positions_60epochs_0.3coeff.npz',\n",
       " 'predicted_unseen_6positions_50epochs_0.6coeff.npz',\n",
       " 'predicted_unseen_6positions_50epochs_0.7coeff.npz',\n",
       " 'predicted_unseen_6positions_10epochs_0.25coeff.npz',\n",
       " 'predicted_testdata_6positions_45epochs_0.4coeff.npz',\n",
       " 'predicted_testdata_6positions_45epochs_0.5coeff.npz',\n",
       " 'predicted_testdata_6positions_5epochs_0.75coeff.npz',\n",
       " 'predicted_testdata_6positions_35epochs_0.75coeff.npz',\n",
       " 'predicted_unseen_6positions_40epochs_0.25coeff.npz',\n",
       " 'predicted_unseen_6positions_40epochs_0.7coeff.npz',\n",
       " 'predicted_unseen_6positions_80epochs_0.75coeff.npz',\n",
       " 'predicted_unseen_6positions_40epochs_0.6coeff.npz',\n",
       " 'predicted_testdata_6positions_100epochs_0.75coeff.npz',\n",
       " 'predicted_testdata_6positions_65epochs_0.75coeff.npz',\n",
       " 'predicted_testdata_6positions_55epochs_0.5coeff.npz',\n",
       " 'predicted_testdata_6positions_55epochs_0.4coeff.npz',\n",
       " 'predicted_testdata_6positions_10epochs_0.3coeff.npz',\n",
       " 'predicted_testdata_6positions_55epochs_0.25coeff.npz',\n",
       " 'predicted_testdata_6positions_85epochs_0.3coeff.npz',\n",
       " 'predicted_unseen_6positions_100epochs_0.6coeff.npz',\n",
       " 'predicted_unseen_6positions_100epochs_0.7coeff.npz',\n",
       " 'predicted_testdata_6positions_20epochs_0.3coeff.npz',\n",
       " 'predicted_testdata_6positions_95epochs_0.75coeff.npz',\n",
       " 'predicted_testdata_6positions_65epochs_0.5coeff.npz',\n",
       " 'predicted_testdata_6positions_65epochs_0.4coeff.npz',\n",
       " 'predicted_unseen_6positions_5epochs_0.25coeff.npz',\n",
       " 'predicted_unseen_6positions_70epochs_0.75coeff.npz',\n",
       " 'predicted_unseen_6positions_70epochs_0.7coeff.npz',\n",
       " 'predicted_unseen_6positions_70epochs_0.6coeff.npz',\n",
       " 'predicted_testdata_6positions_30epochs_0.3coeff.npz',\n",
       " 'predicted_testdata_6positions_75epochs_0.4coeff.npz',\n",
       " 'predicted_testdata_6positions_75epochs_0.5coeff.npz',\n",
       " 'predicted_testdata_6positions_95epochs_0.3coeff.npz',\n",
       " 'predicted_unseen_6positions_60epochs_0.6coeff.npz',\n",
       " 'predicted_unseen_6positions_60epochs_0.7coeff.npz',\n",
       " 'predicted_unseen_6positions_20epochs_0.75coeff.npz']"
      ]
     },
     "execution_count": 10,
     "metadata": {},
     "output_type": "execute_result"
    }
   ],
   "source": [
    "model_names"
   ]
  },
  {
   "cell_type": "code",
   "execution_count": 11,
   "metadata": {},
   "outputs": [],
   "source": [
    "def get_fnames(coeff, prefix='Trained'):\n",
    "    idx_coef = 6 if prefix=='Trained' else 4\n",
    "    idx_epoch = 5 if prefix =='Trained' else 3\n",
    "    f_list = []\n",
    "    epochs = []\n",
    "    for fname in model_names:\n",
    "        if fname.startswith(prefix):\n",
    "            if regex.findall(fname.split(\"_\")[idx_coef])[1]==str(coeff):\n",
    "                epoch = int(regex.findall(fname.split(\"_\")[idx_epoch])[0]) \n",
    "                epochs.append(epoch)\n",
    "                if int(regex.findall(fname.split(\"_\")[idx_epoch])[0])==epoch:\n",
    "                    f_list.append(fname)\n",
    "    \n",
    "    return np.array(f_list)[np.argsort(epochs)], np.sort(epochs)"
   ]
  },
  {
   "cell_type": "code",
   "execution_count": 115,
   "metadata": {},
   "outputs": [],
   "source": [
    "def gaus_fit_avg(coeff, epoch, fname_keyword, out_file_key, save_file=True,  \n",
    "                 n_bins = 10, histo_min = -1.0, histo_max = 1.0, print_sigma=True):\n",
    "    \n",
    "    filelist, epochs = get_fnames(coeff, prefix=fname_keyword)\n",
    "    model = filelist[int(np.argwhere(epochs==epoch)[0])]\n",
    "\n",
    "    data = np.load(root_path(model))\n",
    "    true = data['true']\n",
    "    preds = data['pred']\n",
    "\n",
    "    mean = np.mean(true-preds)\n",
    "    histo = TH1F(\"{}\".format(fname_keyword),\n",
    "                 \"Distribution of prediction errors for r-UNet estimations\", \n",
    "                 n_bins,histo_min,histo_max)\n",
    "    for i in (true-preds):\n",
    "        histo.Fill(i)\n",
    "    canvas = TCanvas()\n",
    "    f = TF1(\"f\",\"gaus\")\n",
    "    f.FixParameter(1,mean)\n",
    "\n",
    "    histo.Fit(f, \"S\")\n",
    "    histo.GetXaxis().SetTitle(\"prediction error (mm)\");\n",
    "    yax=histo.GetYaxis()\n",
    "    yax.SetLimits(0,500)\n",
    "    #histo.SetAxisRange(0, 500,\"y\")\n",
    "    gStyle.SetOptStat(0)\n",
    "    gStyle.SetOptFit(0)\n",
    "    gStyle.SetStatY(0.9)\n",
    "    gStyle.SetStatX(0.9)\n",
    "    gStyle.SetStatW(0.15)\n",
    "    gStyle.SetStatH(0.15)\n",
    "    histo.Draw()\n",
    "    canvas.Draw()\n",
    "    if save_file:\n",
    "        canvas.SaveAs(os.path.join(error_distributions,\n",
    "                                   '_'.join([\"error_distribution\",out_file_key])+\".png\"))\n",
    "    if print_sigma:\n",
    "        sigma = f.GetParameter(2)\n",
    "        err = f.GetParError(2)\n",
    "        print('Sigma: {:.5f} ± {:.5f}'.format(sigma, err))\n",
    "    return histo, canvas, sigma, err"
   ]
  },
  {
   "cell_type": "code",
   "execution_count": 110,
   "metadata": {},
   "outputs": [
    {
     "name": "stdout",
     "output_type": "stream",
     "text": [
      "Sigma: 0.19256 ± 0.00237\n",
      " FCN=594.523 FROM MIGRAD    STATUS=CONVERGED      43 CALLS          44 TOTAL\n",
      "                     EDM=4.37405e-10    STRATEGY= 1      ERROR MATRIX ACCURATE \n",
      "  EXT PARAMETER                                   STEP         FIRST   \n",
      "  NO.   NAME      VALUE            ERROR          SIZE      DERIVATIVE \n",
      "   1  Constant     1.25415e+02   2.66464e+00   2.75729e-02   2.60015e-06\n",
      "   2  Mean        -1.70283e-01     fixed    \n",
      "   3  Sigma        1.92561e-01   2.37020e-03   4.20068e-05  -6.28711e-03\n"
     ]
    },
    {
     "name": "stderr",
     "output_type": "stream",
     "text": [
      "Warning in <TROOT::Append>: Replacing existing TH1: predicted_unseen (Potential memory leak).\n",
      "Info in <TCanvas::Print>: png file /storage/yw18581/src/leaf_reco/saved_models/trained_6positions_multi_loss/predicted/error_distributions/error_distribution_error_distr_avg.png has been created\n"
     ]
    },
    {
     "data": {
      "image/png": "[encoded data removed]",
      "text/plain": [
       "<IPython.core.display.Image object>"
      ]
     },
     "metadata": {},
     "output_type": "display_data"
    }
   ],
   "source": [
    "h, c, sigma, err = gaus_fit_avg(4, 100, 'predicted_unseen', 'error_distr_avg', n_bins=100, save_file=True)"
   ]
  },
  {
   "cell_type": "code",
   "execution_count": 116,
   "metadata": {},
   "outputs": [
    {
     "name": "stdout",
     "output_type": "stream",
     "text": [
      "Sigma: 0.05063 ± 0.00104\n"
     ]
    },
    {
     "data": {
      "text/plain": [
       "(<ROOT.TH1F object (\"predicted_testdata\") at 0x558cc4d2d830>,\n",
       " <ROOT.TCanvas object (\"c1_n15\") at 0x558cc4f513e0>,\n",
       " 0.0506315577080345,\n",
       " 0.0010361594255369998)"
      ]
     },
     "execution_count": 116,
     "metadata": {},
     "output_type": "execute_result"
    },
    {
     "name": "stdout",
     "output_type": "stream",
     "text": [
      " FCN=11.3062 FROM MIGRAD    STATUS=CONVERGED      38 CALLS          39 TOTAL\n",
      "                     EDM=2.31725e-07    STRATEGY= 1      ERROR MATRIX ACCURATE \n",
      "  EXT PARAMETER                                   STEP         FIRST   \n",
      "  NO.   NAME      VALUE            ERROR          SIZE      DERIVATIVE \n",
      "   1  Constant     1.68447e+02   6.19427e+00   8.82457e-03   1.31112e-04\n",
      "   2  Mean         1.16667e-03     fixed    \n",
      "   3  Sigma        5.06316e-02   1.03616e-03   9.56571e-06   5.46098e-02\n"
     ]
    },
    {
     "name": "stderr",
     "output_type": "stream",
     "text": [
      "Warning in <TROOT::Append>: Replacing existing TH1: predicted_testdata (Potential memory leak).\n",
      "Info in <TCanvas::Print>: png file /storage/yw18581/src/leaf_reco/saved_models/trained_6positions_multi_loss/predicted/error_distributions/error_distribution_error_distr_avg.png has been created\n"
     ]
    },
    {
     "data": {
      "image/png": "[encoded data removed]",
      "text/plain": [
       "<IPython.core.display.Image object>"
      ]
     },
     "metadata": {},
     "output_type": "display_data"
    }
   ],
   "source": [
    "gaus_fit_avg(4, 100, 'predicted_testdata', 'error_distr_avg', n_bins=100, save_file=True)"
   ]
  },
  {
   "cell_type": "code",
   "execution_count": 18,
   "metadata": {},
   "outputs": [],
   "source": [
    "def idx_mse(dist, true_arr, preds_arr):\n",
    "    idx = np.where(true_arr==dist)[0]\n",
    "    mse = mean_squared_error(true_arr[idx], preds_arr[idx])\n",
    "    print(dist, mse)\n",
    "    return idx, mse "
   ]
  },
  {
   "cell_type": "code",
   "execution_count": 117,
   "metadata": {},
   "outputs": [],
   "source": [
    "def gaus_fit_dist(coeff, epoch, fname_keyword, distances, out_file_key, save_file=False, \n",
    "                  n_bins = 10, histo_min = -1.0, histo_max = 1.0, print_sigma=True):\n",
    "    filelist, epochs = get_fnames(coeff, prefix=fname_keyword)\n",
    "    model = filelist[int(np.argwhere(epochs==epoch)[0])]\n",
    "\n",
    "    data = np.load(root_path(model))\n",
    "    \n",
    "    true = data['true']\n",
    "    preds = data['pred']\n",
    "    sigmas = []\n",
    "    errors = []\n",
    "    for dist in distances:\n",
    "        histo=None\n",
    "        canvas=None\n",
    "        idx = idx_mse(dist, preds_arr=preds, true_arr=true)[0]\n",
    "        y_true = true[idx]\n",
    "        y_pred = preds[idx]\n",
    "        \n",
    "        mean = np.mean(y_true-y_pred)\n",
    "        histo = TH1F(\"{}_{}mm\".format(fname_keyword, dist),\n",
    "                 \"Distribution of prediction errors for r-UNet estimations\", \n",
    "                 n_bins,histo_min,histo_max)\n",
    "        for i in (y_true-y_pred):\n",
    "            histo.Fill(i)\n",
    "    \n",
    "        canvas = TCanvas()\n",
    "        f = TF1(\"f\",\"gaus\")\n",
    "        f.FixParameter(1,mean)\n",
    "\n",
    "        histo.Fit(f, \"S\")\n",
    "        histo.GetXaxis().SetTitle(\"prediction error (mm)\");\n",
    "        yax=histo.GetYaxis()\n",
    "        yax.SetLimits(0,500)\n",
    "        #histo.SetAxisRange(0, 500,\"y\")\n",
    "        #gStyle.SetOptStat(\"nmR\")\n",
    "        gStyle.SetOptFit(0)\n",
    "        gStyle.SetStatY(0.9)\n",
    "        gStyle.SetStatX(0.9)\n",
    "        gStyle.SetStatW(0.15)\n",
    "        gStyle.SetStatH(0.15)\n",
    "        histo.Draw()\n",
    "        canvas.Draw()\n",
    "        if save_file:\n",
    "            out_file_path = os.path.join(error_distributions,\n",
    "                                   '_'.join([\"TEST_{}mm\".format(dist),out_file_key])+\".png\")\n",
    "            print(\"saving as: {}\".format(out_file_path))\n",
    "            canvas.SaveAs(out_file_path)\n",
    "        if print_sigma:\n",
    "            sigma=f.GetParameter(2)\n",
    "            err= f.GetParError(2)\n",
    "            print('Sigma: {:.5f} ± {:.5f}'.format(sigma, err))\n",
    "            sigmas.append(sigma)\n",
    "            errors.append(err)\n",
    "    return histo, canvas, sigmas, errors"
   ]
  },
  {
   "cell_type": "code",
   "execution_count": 118,
   "metadata": {},
   "outputs": [],
   "source": [
    "epoch= 100\n",
    "coef = 4"
   ]
  },
  {
   "cell_type": "code",
   "execution_count": 119,
   "metadata": {},
   "outputs": [],
   "source": [
    "test_distances = [2,4,10,20,25,35]"
   ]
  },
  {
   "cell_type": "code",
   "execution_count": 120,
   "metadata": {},
   "outputs": [],
   "source": [
    "unseen_dist = [1,3,15,30]"
   ]
  },
  {
   "cell_type": "code",
   "execution_count": 121,
   "metadata": {},
   "outputs": [
    {
     "name": "stdout",
     "output_type": "stream",
     "text": [
      "1 0.17141122917721116\n",
      "saving as: /storage/yw18581/src/leaf_reco/saved_models/trained_6positions_multi_loss/predicted/error_distributions/TEST_1mm_error_distribution_unseen.png\n",
      "Sigma: 0.05768 ± 0.00141\n",
      "3 0.014501266429676845\n",
      "saving as: /storage/yw18581/src/leaf_reco/saved_models/trained_6positions_multi_loss/predicted/error_distributions/TEST_3mm_error_distribution_unseen.png\n",
      "Sigma: 0.08846 ± 0.00280\n",
      "15 0.007489702083939846\n",
      "saving as: /storage/yw18581/src/leaf_reco/saved_models/trained_6positions_multi_loss/predicted/error_distributions/TEST_15mm_error_distribution_unseen.png\n",
      "Sigma: 0.05380 ± 0.00131\n",
      "30 0.0729172566264323\n",
      "saving as: /storage/yw18581/src/leaf_reco/saved_models/trained_6positions_multi_loss/predicted/error_distributions/TEST_30mm_error_distribution_unseen.png\n",
      "Sigma: 0.07024 ± 0.00183\n",
      " FCN=115.801 FROM MIGRAD    STATUS=CONVERGED      43 CALLS          44 TOTAL\n",
      "                     EDM=4.91001e-11    STRATEGY= 1      ERROR MATRIX ACCURATE \n",
      "  EXT PARAMETER                                   STEP         FIRST   \n",
      "  NO.   NAME      VALUE            ERROR          SIZE      DERIVATIVE \n",
      "   1  Constant     1.09731e+02   4.64077e+00   2.06782e-02  -7.89569e-07\n",
      "   2  Mean        -4.09178e-01     fixed    \n",
      "   3  Sigma        5.76822e-02   1.40631e-03   3.52916e-05  -1.43641e-03\n",
      " FCN=35.3406 FROM MIGRAD    STATUS=CONVERGED      41 CALLS          42 TOTAL\n",
      "                     EDM=3.36749e-10    STRATEGY= 1      ERROR MATRIX ACCURATE \n",
      "  EXT PARAMETER                                   STEP         FIRST   \n",
      "  NO.   NAME      VALUE            ERROR          SIZE      DERIVATIVE \n",
      "   1  Constant     7.18970e+01   3.40703e+00   7.49819e-03   5.24347e-06\n",
      "   2  Mean         7.44231e-02     fixed    \n",
      "   3  Sigma        8.84620e-02   2.80341e-03   2.23827e-05  -1.02128e-03\n",
      " FCN=25.6967 FROM MIGRAD    STATUS=CONVERGED      35 CALLS          36 TOTAL\n",
      "                     EDM=1.51002e-09    STRATEGY= 1      ERROR MATRIX ACCURATE \n",
      "  EXT PARAMETER                                   STEP         FIRST   \n",
      "  NO.   NAME      VALUE            ERROR          SIZE      DERIVATIVE \n",
      "   1  Constant     1.30073e+02   5.37160e+00   1.10981e-02   1.04209e-05\n",
      "   2  Mean        -6.79778e-02     fixed    \n",
      "   3  Sigma        5.37968e-02   1.31328e-03   1.66893e-05   7.72861e-03\n",
      " FCN=46.2609 FROM MIGRAD    STATUS=CONVERGED      36 CALLS          37 TOTAL\n",
      "                     EDM=1.38512e-09    STRATEGY= 1      ERROR MATRIX ACCURATE \n",
      "  EXT PARAMETER                                   STEP         FIRST   \n",
      "  NO.   NAME      VALUE            ERROR          SIZE      DERIVATIVE \n",
      "   1  Constant     9.72233e+01   4.14612e+00   1.11731e-02   1.42985e-05\n",
      "   2  Mean        -2.59911e-01     fixed    \n",
      "   3  Sigma        7.02360e-02   1.82905e-03   2.28885e-05   1.51487e-03\n"
     ]
    },
    {
     "name": "stderr",
     "output_type": "stream",
     "text": [
      "Info in <TCanvas::Print>: png file /storage/yw18581/src/leaf_reco/saved_models/trained_6positions_multi_loss/predicted/error_distributions/TEST_1mm_error_distribution_unseen.png has been created\n",
      "Info in <TCanvas::Print>: png file /storage/yw18581/src/leaf_reco/saved_models/trained_6positions_multi_loss/predicted/error_distributions/TEST_3mm_error_distribution_unseen.png has been created\n",
      "Info in <TCanvas::Print>: png file /storage/yw18581/src/leaf_reco/saved_models/trained_6positions_multi_loss/predicted/error_distributions/TEST_15mm_error_distribution_unseen.png has been created\n",
      "Info in <TCanvas::Print>: png file /storage/yw18581/src/leaf_reco/saved_models/trained_6positions_multi_loss/predicted/error_distributions/TEST_30mm_error_distribution_unseen.png has been created\n"
     ]
    },
    {
     "data": {
      "image/png": "[encoded data removed]",
      "text/plain": [
       "<IPython.core.display.Image object>"
      ]
     },
     "metadata": {},
     "output_type": "display_data"
    }
   ],
   "source": [
    "h, c, sigmas_unseen, errors_unseen = gaus_fit_dist(epoch=epoch, coeff=coef, fname_keyword='predicted_unseen', distances=unseen_dist,\n",
    "             out_file_key='error_distribution_unseen', n_bins=100, save_file=True );"
   ]
  },
  {
   "cell_type": "code",
   "execution_count": 122,
   "metadata": {},
   "outputs": [
    {
     "name": "stdout",
     "output_type": "stream",
     "text": [
      "2 0.0027615689558937936\n",
      "saving as: /storage/yw18581/src/leaf_reco/saved_models/trained_6positions_multi_loss/predicted/error_distributions/TEST_2mm_error_distribution_testdata.png\n",
      "Sigma: 0.04631 ± 0.00280\n",
      "4 0.0025889254369755505\n",
      "saving as: /storage/yw18581/src/leaf_reco/saved_models/trained_6positions_multi_loss/predicted/error_distributions/TEST_4mm_error_distribution_testdata.png\n",
      "Sigma: 0.04896 ± 0.00275\n",
      "10 0.0026983519895451076\n",
      "saving as: /storage/yw18581/src/leaf_reco/saved_models/trained_6positions_multi_loss/predicted/error_distributions/TEST_10mm_error_distribution_testdata.png\n",
      "Sigma: 0.05020 ± 0.00332\n",
      "20 0.0026731691746057808\n",
      "saving as: /storage/yw18581/src/leaf_reco/saved_models/trained_6positions_multi_loss/predicted/error_distributions/TEST_20mm_error_distribution_testdata.png\n",
      "Sigma: 0.04532 ± 0.00301\n",
      "25 0.002443215590108416\n",
      "saving as: /storage/yw18581/src/leaf_reco/saved_models/trained_6positions_multi_loss/predicted/error_distributions/TEST_25mm_error_distribution_testdata.png\n",
      "Sigma: 0.05286 ± 0.00415\n",
      "35 0.002911549894494778\n",
      "saving as: /storage/yw18581/src/leaf_reco/saved_models/trained_6positions_multi_loss/predicted/error_distributions/TEST_35mm_error_distribution_testdata.png\n",
      "Sigma: 0.04980 ± 0.00300\n",
      " FCN=10.7402 FROM MIGRAD    STATUS=CONVERGED      35 CALLS          36 TOTAL\n",
      "                     EDM=1.32614e-09    STRATEGY= 1      ERROR MATRIX ACCURATE \n",
      "  EXT PARAMETER                                   STEP         FIRST   \n",
      "  NO.   NAME      VALUE            ERROR          SIZE      DERIVATIVE \n",
      "   1  Constant     3.28806e+01   2.96554e+00   4.03112e-03   8.84970e-07\n",
      "   2  Mean         2.69543e-02     fixed    \n",
      "   3  Sigma        4.63067e-02   2.79576e-03   2.79202e-05  -2.43052e-03\n",
      " FCN=4.77839 FROM MIGRAD    STATUS=CONVERGED      30 CALLS          31 TOTAL\n",
      "                     EDM=6.67815e-07    STRATEGY= 1      ERROR MATRIX ACCURATE \n",
      "  EXT PARAMETER                                   STEP         FIRST   \n",
      "  NO.   NAME      VALUE            ERROR          SIZE      DERIVATIVE \n",
      "   1  Constant     3.11298e+01   2.82108e+00   2.63045e-03   4.39170e-04\n",
      "   2  Mean         1.07179e-02     fixed    \n",
      "   3  Sigma        4.89562e-02   2.75397e-03   1.74191e-05   7.21009e-02\n",
      " FCN=12.4888 FROM MIGRAD    STATUS=CONVERGED      42 CALLS          43 TOTAL\n",
      "                     EDM=9.82247e-12    STRATEGY= 1      ERROR MATRIX ACCURATE \n",
      "  EXT PARAMETER                                   STEP         FIRST   \n",
      "  NO.   NAME      VALUE            ERROR          SIZE      DERIVATIVE \n",
      "   1  Constant     2.49268e+01   2.47697e+00   3.60799e-03   2.15161e-06\n",
      "   2  Mean        -1.53012e-02     fixed    \n",
      "   3  Sigma        5.02031e-02   3.32043e-03   3.21307e-05   9.77653e-05\n",
      " FCN=9.25799 FROM MIGRAD    STATUS=CONVERGED      41 CALLS          42 TOTAL\n",
      "                     EDM=1.63061e-10    STRATEGY= 1      ERROR MATRIX ACCURATE \n",
      "  EXT PARAMETER                                   STEP         FIRST   \n",
      "  NO.   NAME      VALUE            ERROR          SIZE      DERIVATIVE \n",
      "   1  Constant     2.91948e+01   2.97761e+00   3.54606e-03   3.60296e-06\n",
      "   2  Mean        -1.14857e-02     fixed    \n",
      "   3  Sigma        4.53216e-02   3.01488e-03   2.48887e-05  -4.37952e-04\n",
      " FCN=4.84545 FROM MIGRAD    STATUS=CONVERGED      35 CALLS          36 TOTAL\n",
      "                     EDM=5.22731e-07    STRATEGY= 1      ERROR MATRIX ACCURATE \n",
      "  EXT PARAMETER                                   STEP         FIRST   \n",
      "  NO.   NAME      VALUE            ERROR          SIZE      DERIVATIVE \n",
      "   1  Constant     2.48528e+01   2.57293e+00   2.32631e-03  -5.11547e-04\n",
      "   2  Mean        -4.51220e-03     fixed    \n",
      "   3  Sigma        5.28556e-02   4.14826e-03   2.43557e-05  -3.78069e-02\n",
      " FCN=11.9074 FROM MIGRAD    STATUS=CONVERGED      36 CALLS          37 TOTAL\n",
      "                     EDM=2.73982e-07    STRATEGY= 1      ERROR MATRIX ACCURATE \n",
      "  EXT PARAMETER                                   STEP         FIRST   \n",
      "  NO.   NAME      VALUE            ERROR          SIZE      DERIVATIVE \n",
      "   1  Constant     2.75266e+01   2.64312e+00   3.68975e-03  -1.09761e-04\n",
      "   2  Mean        -4.64481e-03     fixed    \n",
      "   3  Sigma        4.98010e-02   3.00071e-03   2.66564e-05   2.75900e-02\n"
     ]
    },
    {
     "name": "stderr",
     "output_type": "stream",
     "text": [
      "Info in <TCanvas::Print>: png file /storage/yw18581/src/leaf_reco/saved_models/trained_6positions_multi_loss/predicted/error_distributions/TEST_2mm_error_distribution_testdata.png has been created\n",
      "Info in <TCanvas::Print>: png file /storage/yw18581/src/leaf_reco/saved_models/trained_6positions_multi_loss/predicted/error_distributions/TEST_4mm_error_distribution_testdata.png has been created\n",
      "Info in <TCanvas::Print>: png file /storage/yw18581/src/leaf_reco/saved_models/trained_6positions_multi_loss/predicted/error_distributions/TEST_10mm_error_distribution_testdata.png has been created\n",
      "Info in <TCanvas::Print>: png file /storage/yw18581/src/leaf_reco/saved_models/trained_6positions_multi_loss/predicted/error_distributions/TEST_20mm_error_distribution_testdata.png has been created\n",
      "Info in <TCanvas::Print>: png file /storage/yw18581/src/leaf_reco/saved_models/trained_6positions_multi_loss/predicted/error_distributions/TEST_25mm_error_distribution_testdata.png has been created\n",
      "Warning in <TROOT::Append>: Replacing existing TH1: predicted_testdata_35mm (Potential memory leak).\n",
      "Info in <TCanvas::Print>: png file /storage/yw18581/src/leaf_reco/saved_models/trained_6positions_multi_loss/predicted/error_distributions/TEST_35mm_error_distribution_testdata.png has been created\n"
     ]
    },
    {
     "data": {
      "image/png": "[encoded data removed]",
      "text/plain": [
       "<IPython.core.display.Image object>"
      ]
     },
     "metadata": {},
     "output_type": "display_data"
    }
   ],
   "source": [
    "h, c, sigmas_test, errors_test= gaus_fit_dist(epoch=epoch, coeff=coef, fname_keyword='predicted_testdata', distances=test_distances,\n",
    "             out_file_key='error_distribution_testdata', n_bins=100, save_file=True  );"
   ]
  },
  {
   "cell_type": "code",
   "execution_count": 25,
   "metadata": {},
   "outputs": [
    {
     "data": {
      "text/plain": [
       "[0.046306701387995926,\n",
       " 0.0489562441817401,\n",
       " 0.050203148664655924,\n",
       " 0.04532158598718315,\n",
       " 0.052855559755730384,\n",
       " 0.049800973831860974]"
      ]
     },
     "execution_count": 25,
     "metadata": {},
     "output_type": "execute_result"
    }
   ],
   "source": [
    "sigmas_test"
   ]
  },
  {
   "cell_type": "code",
   "execution_count": 26,
   "metadata": {},
   "outputs": [
    {
     "data": {
      "text/plain": [
       "[0.0027957593324761977,\n",
       " 0.0027539716995318153,\n",
       " 0.003320426879259996,\n",
       " 0.0030148841534009367,\n",
       " 0.004148260591782322,\n",
       " 0.003000711824394691]"
      ]
     },
     "execution_count": 26,
     "metadata": {},
     "output_type": "execute_result"
    }
   ],
   "source": [
    "errors_test"
   ]
  },
  {
   "cell_type": "code",
   "execution_count": 27,
   "metadata": {},
   "outputs": [
    {
     "data": {
      "text/plain": [
       "[0.05768219465446542,\n",
       " 0.088461958672909,\n",
       " 0.05379675523105381,\n",
       " 0.07023595457250292]"
      ]
     },
     "execution_count": 27,
     "metadata": {},
     "output_type": "execute_result"
    }
   ],
   "source": [
    "sigmas_unseen"
   ]
  },
  {
   "cell_type": "code",
   "execution_count": 28,
   "metadata": {},
   "outputs": [
    {
     "data": {
      "text/plain": [
       "[0.0014063135894952193,\n",
       " 0.0028034078427764814,\n",
       " 0.00131328244057375,\n",
       " 0.00182904722971957]"
      ]
     },
     "execution_count": 28,
     "metadata": {},
     "output_type": "execute_result"
    }
   ],
   "source": [
    "errors_unseen"
   ]
  },
  {
   "cell_type": "code",
   "execution_count": 29,
   "metadata": {},
   "outputs": [],
   "source": [
    "sigmas = sigmas_test+sigmas_unseen"
   ]
  },
  {
   "cell_type": "code",
   "execution_count": 30,
   "metadata": {},
   "outputs": [],
   "source": [
    "errors = errors_test+errors_unseen"
   ]
  },
  {
   "cell_type": "code",
   "execution_count": 31,
   "metadata": {},
   "outputs": [],
   "source": [
    "distances = test_distances+unseen_dist"
   ]
  },
  {
   "cell_type": "code",
   "execution_count": 32,
   "metadata": {},
   "outputs": [],
   "source": [
    "import matplotlib.pyplot as plt"
   ]
  },
  {
   "cell_type": "code",
   "execution_count": 125,
   "metadata": {},
   "outputs": [
    {
     "name": "stdout",
     "output_type": "stream",
     "text": [
      "0.05379675523105381 0.088461958672909\n"
     ]
    }
   ],
   "source": [
    "print(np.min(sigmas_unseen), np.max(sigmas_unseen))"
   ]
  },
  {
   "cell_type": "code",
   "execution_count": 126,
   "metadata": {},
   "outputs": [
    {
     "name": "stdout",
     "output_type": "stream",
     "text": [
      "0.04532158598718315 0.052855559755730384\n"
     ]
    }
   ],
   "source": [
    "print(np.min(sigmas_test), np.max(sigmas_test))"
   ]
  },
  {
   "cell_type": "code",
   "execution_count": 33,
   "metadata": {},
   "outputs": [],
   "source": [
    "from matplotlib.ticker import (MultipleLocator, FormatStrFormatter,\n",
    "                               AutoMinorLocator)"
   ]
  },
  {
   "cell_type": "code",
   "execution_count": 59,
   "metadata": {},
   "outputs": [
    {
     "data": {
      "image/png": "[encoded data removed]",
      "text/plain": [
       "<Figure size 864x576 with 1 Axes>"
      ]
     },
     "metadata": {
      "needs_background": "light"
     },
     "output_type": "display_data"
    }
   ],
   "source": [
    "fig, ax = plt.subplots(figsize=(12,8))\n",
    "ax.errorbar(np.sort(unseen_dist), np.array(sigmas_unseen)[np.argsort(unseen_dist)]*1000,\n",
    "            np.array(errors_unseen)[np.argsort(unseen_dist)]*1000,\n",
    "            fmt='x', capsize=4, c='red',ecolor='k', label='test data', markersize=4)\n",
    "ax.errorbar(np.sort(test_distances), np.array(sigmas_test)[np.argsort(test_distances)]*1000,\n",
    "            np.array(errors_test)[np.argsort(test_distances)]*1000,\n",
    "            fmt='x', capsize=4, c='red',ecolor='b', label='test data')\n",
    "ax.set_ylabel(\"Resolution (microns)\", size=14)\n",
    "ax.set_xlabel(\"Position (mm)\", size=14)\n",
    "ax.set_ylim(30,120)\n",
    "ax.legend(loc='upper right')\n",
    "ax.xaxis.set_major_locator(MultipleLocator(5))\n",
    "ax.xaxis.set_major_formatter(FormatStrFormatter('%d'))\n",
    "ax.xaxis.set_minor_locator(MultipleLocator(1))\n",
    "ax.yaxis.set_minor_locator(MultipleLocator(5))\n",
    "plt.savefig(\"resolution_60_100.png\")"
   ]
  },
  {
   "cell_type": "code",
   "execution_count": 36,
   "metadata": {},
   "outputs": [],
   "source": [
    "distances = test_distances+unseen_dist"
   ]
  },
  {
   "cell_type": "code",
   "execution_count": 37,
   "metadata": {},
   "outputs": [],
   "source": [
    "def mse_positions(coeff, epoch, fname_keyword, dist = unseen_dist):\n",
    "    \n",
    "    filelist, epochs = get_fnames(coeff, prefix=fname_keyword)\n",
    "    model = filelist[int(np.argwhere(epochs==epoch)[0])]\n",
    "\n",
    "    data = np.load(root_path(model))\n",
    "    y_true = data['true']\n",
    "    y_pred = data['pred']\n",
    "    print(model)\n",
    "    mse=[]\n",
    "    avg=[]\n",
    "    std=[]\n",
    "    for d in dist:\n",
    "        idx = idx_mse(d, preds_arr=y_pred, true_arr=y_true)[0]\n",
    "        y_true_d = y_true[idx]\n",
    "        y_pred_d = y_pred[idx]\n",
    "        mse_d = mean_squared_error(y_true_d, y_pred_d)\n",
    "        avg_pred = np.mean(y_pred_d)\n",
    "        std_pred = np.std(y_pred_d)\n",
    "        mse.append(mse_d)\n",
    "        avg.append(avg_pred)\n",
    "        std.append(std_pred)\n",
    "    return mse, avg, std"
   ]
  },
  {
   "cell_type": "code",
   "execution_count": 38,
   "metadata": {},
   "outputs": [
    {
     "name": "stdout",
     "output_type": "stream",
     "text": [
      "predicted_unseen_6positions_100epochs_0.4coeff.npz\n",
      "1 0.17141122917721116\n",
      "3 0.014501266429676845\n",
      "15 0.007489702083939846\n",
      "30 0.0729172566264323\n"
     ]
    }
   ],
   "source": [
    "mse_unseen, avg_unseen, std_unseen = mse_positions(4, 100, 'predicted_unseen')"
   ]
  },
  {
   "cell_type": "code",
   "execution_count": 39,
   "metadata": {},
   "outputs": [
    {
     "name": "stdout",
     "output_type": "stream",
     "text": [
      "predicted_testdata_6positions_100epochs_0.4coeff.npz\n",
      "2 0.0027615689558937936\n",
      "4 0.0025889254369755505\n",
      "10 0.0026983519895451076\n",
      "20 0.0026731691746057808\n",
      "25 0.002443215590108416\n",
      "35 0.002911549894494778\n"
     ]
    }
   ],
   "source": [
    "mse_test, avg_test, std_test = mse_positions(4, 100, 'predicted_testdata', dist=test_distances)"
   ]
  },
  {
   "cell_type": "code",
   "execution_count": 40,
   "metadata": {},
   "outputs": [],
   "source": [
    "std = mse_test+mse_unseen"
   ]
  },
  {
   "cell_type": "code",
   "execution_count": 41,
   "metadata": {},
   "outputs": [],
   "source": [
    "avg = avg_test+avg_unseen"
   ]
  },
  {
   "cell_type": "code",
   "execution_count": 61,
   "metadata": {},
   "outputs": [
    {
     "data": {
      "image/png": "[encoded data removed]",
      "text/plain": [
       "<Figure size 864x576 with 1 Axes>"
      ]
     },
     "metadata": {
      "needs_background": "light"
     },
     "output_type": "display_data"
    }
   ],
   "source": [
    "fig, ax = plt.subplots(figsize=(12,8))\n",
    "\n",
    "ax.errorbar(np.sort(distances), np.array(avg)[np.argsort(distances)], \n",
    "                                np.array(std)[np.argsort(distances)], fmt='o',\n",
    "            markersize=5, capsize=0, c='b',ecolor='b', label='predicted positions')\n",
    "ax.plot(np.arange(0,50), np.arange(0,50),c='red')\n",
    "#plt.xticks(np.arange(0,40,5))\n",
    "#plt.yticks(np.arange(0,40,5))\n",
    "ax.xaxis.set_major_locator(MultipleLocator(5))\n",
    "ax.xaxis.set_major_formatter(FormatStrFormatter('%d'))\n",
    "ax.xaxis.set_minor_locator(MultipleLocator(1))\n",
    "\n",
    "ax.yaxis.set_minor_locator(MultipleLocator(1))\n",
    "ax.set_ylabel(\"Reconstructed leaf position (mm)\", size=14)\n",
    "ax.set_xlabel(\"LINAC set leaf position (mm)\", size=14)\n",
    "ax.set_xlim(0,40)\n",
    "ax.set_ylim(0,40)\n",
    "ax.legend(loc='lower right')\n",
    "\n",
    "\n",
    "plt.savefig(\"reconstructed_vs_true_linear.png\")"
   ]
  },
  {
   "cell_type": "code",
   "execution_count": 151,
   "metadata": {},
   "outputs": [
    {
     "data": {
      "text/plain": [
       "array([ 1.5169474,  1.9900761,  2.9001012,  4.0159717, 10.055413 ,\n",
       "       15.365527 , 20.09631  , 25.107346 , 30.363537 , 35.14626  ],\n",
       "      dtype=float32)"
      ]
     },
     "execution_count": 151,
     "metadata": {},
     "output_type": "execute_result"
    }
   ],
   "source": [
    "np.array(avg)[np.argsort(distances)]"
   ]
  },
  {
   "cell_type": "code",
   "execution_count": null,
   "metadata": {},
   "outputs": [],
   "source": []
  }
 ],
 "metadata": {
  "kernelspec": {
   "display_name": "Python 3.6 (pyroot)",
   "language": "python",
   "name": "pyroot"
  },
  "language_info": {
   "codemirror_mode": {
    "name": "ipython",
    "version": 3
   },
   "file_extension": ".py",
   "mimetype": "text/x-python",
   "name": "python",
   "nbconvert_exporter": "python",
   "pygments_lexer": "ipython3",
   "version": "3.6.7"
  }
 },
 "nbformat": 4,
 "nbformat_minor": 2
}
