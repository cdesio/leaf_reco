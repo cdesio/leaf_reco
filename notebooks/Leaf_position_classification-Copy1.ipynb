{
 "cells": [
  {
   "cell_type": "code",
   "execution_count": 1,
   "metadata": {},
   "outputs": [
    {
     "name": "stdout",
     "output_type": "stream",
     "text": [
      "Fri Mar 15 14:33:33 2019       \n",
      "+-----------------------------------------------------------------------------+\n",
      "| NVIDIA-SMI 410.79       Driver Version: 410.79       CUDA Version: 10.0     |\n",
      "|-------------------------------+----------------------+----------------------+\n",
      "| GPU  Name        Persistence-M| Bus-Id        Disp.A | Volatile Uncorr. ECC |\n",
      "| Fan  Temp  Perf  Pwr:Usage/Cap|         Memory-Usage | GPU-Util  Compute M. |\n",
      "|===============================+======================+======================|\n",
      "|   0  TITAN Xp            Off  | 00000000:01:00.0 Off |                  N/A |\n",
      "| 23%   37C    P0    71W / 250W |      0MiB / 12195MiB |      0%      Default |\n",
      "+-------------------------------+----------------------+----------------------+\n",
      "                                                                               \n",
      "+-----------------------------------------------------------------------------+\n",
      "| Processes:                                                       GPU Memory |\n",
      "|  GPU       PID   Type   Process name                             Usage      |\n",
      "|=============================================================================|\n",
      "|  No running processes found                                                 |\n",
      "+-----------------------------------------------------------------------------+\n"
     ]
    }
   ],
   "source": [
    "!nvidia-smi"
   ]
  },
  {
   "cell_type": "code",
   "execution_count": 26,
   "metadata": {},
   "outputs": [],
   "source": [
    "import numpy as np\n",
    "import matplotlib.pyplot as plt\n",
    "from sklearn.preprocessing import OneHotEncoder\n",
    "from os import path as p\n",
    "import os\n",
    "from plot_history import plot_history"
   ]
  },
  {
   "cell_type": "code",
   "execution_count": 1,
   "metadata": {},
   "outputs": [
    {
     "name": "stderr",
     "output_type": "stream",
     "text": [
      "Using TensorFlow backend.\n"
     ]
    }
   ],
   "source": [
    "from keras.layers import Input\n",
    "from keras.layers.core import Dense, Dropout\n",
    "from keras.layers import Conv2D, MaxPool2D, AveragePooling2D, Flatten\n",
    "from keras.models import Model\n",
    "from keras.losses import categorical_crossentropy, mse\n",
    "from keras.optimizers import Adadelta, Adam, SGD\n",
    "from keras.callbacks import EarlyStopping, ModelCheckpoint\n",
    "import tensorflow.keras.backend as K"
   ]
  },
  {
   "cell_type": "code",
   "execution_count": 4,
   "metadata": {},
   "outputs": [],
   "source": [
    "data_dir = '/storage/yw18581/data/'\n",
    "data_folder = p.join(data_dir, 'train_validation_test')"
   ]
  },
  {
   "cell_type": "code",
   "execution_count": 5,
   "metadata": {},
   "outputs": [],
   "source": [
    "X_train = np.load(p.join(data_folder, 'Xy_train_dist.npz'))[\"y\"]\n",
    "y_train = np.load(p.join(data_folder, 'Xy_train_dist.npz'))[\"dist\"]"
   ]
  },
  {
   "cell_type": "code",
   "execution_count": 6,
   "metadata": {},
   "outputs": [],
   "source": [
    "X_val = np.load(p.join(data_folder,'Xy_val_dist.npz'))[\"y\"]\n",
    "y_val = np.load(p.join(data_folder, 'Xy_val_dist.npz'))[\"dist\"]"
   ]
  },
  {
   "cell_type": "code",
   "execution_count": 7,
   "metadata": {},
   "outputs": [],
   "source": [
    "X_test = np.load(p.join(data_folder, 'Xy_test_dist.npz'))[\"y\"]\n",
    "y_test = np.load(p.join(data_folder, 'Xy_test_dist.npz'))[\"dist\"]"
   ]
  },
  {
   "cell_type": "code",
   "execution_count": 8,
   "metadata": {},
   "outputs": [],
   "source": [
    "X_pred = np.load(p.join(data_dir, 'trained_models/UNet_training_generator_1500epochs/Xy_test_predicted_UNet.npz'))['y']\n",
    "y_pred = np.load(p.join(data_dir, 'trained_models/UNet_training_generator_1500epochs/Xy_test_predicted_UNet.npz'))['dist']"
   ]
  },
  {
   "cell_type": "code",
   "execution_count": 9,
   "metadata": {},
   "outputs": [],
   "source": [
    "def cut_X(arr, reshape = None):\n",
    "    x_cut = arr[:,960:1300,600:]\n",
    "    if reshape:\n",
    "        if len(x_cut.shape)>3:\n",
    "            x_cut = x_cut[...,0]\n",
    "            x_cut_out = x_cut.reshape(x_cut.shape[0],x_cut.shape[1]*x_cut.shape[2])\n",
    "    else:\n",
    "        x_cut_out = x_cut\n",
    "    return x_cut_out"
   ]
  },
  {
   "cell_type": "code",
   "execution_count": 10,
   "metadata": {},
   "outputs": [],
   "source": [
    "def ohe(values):\n",
    "    values_reshaped = values.reshape(-1, 1)\n",
    "    onehot_encoder = OneHotEncoder(sparse=False, categories='auto')\n",
    "    onehot_encoded = onehot_encoder.fit_transform(values_reshaped)\n",
    "    return onehot_encoded"
   ]
  },
  {
   "cell_type": "code",
   "execution_count": 11,
   "metadata": {},
   "outputs": [
    {
     "data": {
      "text/plain": [
       "(768, 1400, 1400, 1)"
      ]
     },
     "execution_count": 11,
     "metadata": {},
     "output_type": "execute_result"
    }
   ],
   "source": [
    "X_train.shape"
   ]
  },
  {
   "cell_type": "code",
   "execution_count": 12,
   "metadata": {},
   "outputs": [],
   "source": [
    "X_train_cut = cut_X(X_train)"
   ]
  },
  {
   "cell_type": "code",
   "execution_count": 13,
   "metadata": {},
   "outputs": [
    {
     "data": {
      "text/plain": [
       "(768, 340, 800, 1)"
      ]
     },
     "execution_count": 13,
     "metadata": {},
     "output_type": "execute_result"
    }
   ],
   "source": [
    "X_train_cut.shape"
   ]
  },
  {
   "cell_type": "code",
   "execution_count": 14,
   "metadata": {},
   "outputs": [],
   "source": [
    "X_val_cut = cut_X(X_val)"
   ]
  },
  {
   "cell_type": "code",
   "execution_count": 15,
   "metadata": {},
   "outputs": [],
   "source": [
    "X_test_cut = cut_X(X_test)"
   ]
  },
  {
   "cell_type": "code",
   "execution_count": 16,
   "metadata": {},
   "outputs": [],
   "source": [
    "X_pred_cut = cut_X(X_pred)"
   ]
  },
  {
   "cell_type": "code",
   "execution_count": 17,
   "metadata": {},
   "outputs": [],
   "source": [
    "y_train_ohe = ohe(y_train)\n",
    "y_val_ohe = ohe(y_val)\n",
    "y_test_ohe = ohe(y_test)"
   ]
  },
  {
   "cell_type": "code",
   "execution_count": 18,
   "metadata": {},
   "outputs": [],
   "source": [
    "N_EPOCHS = 100\n",
    "BATCH_SIZE = 16\n",
    "\n",
    "CHECKPOINT_FOLDER_PATH = p.join(data_dir, 'trained_models')\n",
    "TASK_NAME = 'Leaf_position_classifier_CNN'\n",
    "TASK_FOLDER_PATH = p.join(CHECKPOINT_FOLDER_PATH, TASK_NAME)\n",
    "\n",
    "if not p.exists(TASK_FOLDER_PATH):\n",
    "    os.makedirs(TASK_FOLDER_PATH)"
   ]
  },
  {
   "cell_type": "code",
   "execution_count": 19,
   "metadata": {},
   "outputs": [],
   "source": [
    "K.clear_session()\n",
    "\n"
   ]
  },
  {
   "cell_type": "code",
   "execution_count": 20,
   "metadata": {},
   "outputs": [
    {
     "name": "stdout",
     "output_type": "stream",
     "text": [
      "_________________________________________________________________\n",
      "Layer (type)                 Output Shape              Param #   \n",
      "=================================================================\n",
      "input (InputLayer)           (None, 340, 800, 1)       0         \n",
      "_________________________________________________________________\n",
      "conv2d_1 (Conv2D)            (None, 338, 798, 32)      320       \n",
      "_________________________________________________________________\n",
      "max_pooling2d_1 (MaxPooling2 (None, 169, 399, 32)      0         \n",
      "_________________________________________________________________\n",
      "flatten_1 (Flatten)          (None, 2157792)           0         \n",
      "_________________________________________________________________\n",
      "dense_1 (Dense)              (None, 128)               276197504 \n",
      "_________________________________________________________________\n",
      "dense_2 (Dense)              (None, 4)                 516       \n",
      "=================================================================\n",
      "Total params: 276,198,340\n",
      "Trainable params: 276,198,340\n",
      "Non-trainable params: 0\n",
      "_________________________________________________________________\n"
     ]
    }
   ],
   "source": [
    "\n",
    "def create_model(input_shape):\n",
    "    input_layer = Input(shape=input_shape,name='input')\n",
    "    x = Conv2D(32,kernel_size=3, activation='relu')(input_layer)\n",
    "    x = MaxPool2D(pool_size=(2,2))(x)\n",
    "    x = Flatten()(x)\n",
    "    x = Dense(128, activation ='sigmoid')(x)\n",
    "    prediction = Dense(4, activation='sigmoid')(x)\n",
    "    model = Model(inputs = input_layer, outputs = prediction)\n",
    "    return model\n",
    "\n",
    "model = create_model(input_shape=(X_train_cut.shape[1:]))\n",
    "OPTIMIZER = 'Adam'\n",
    "model.compile(loss=categorical_crossentropy,\n",
    "              optimizer=Adam(), metrics=['accuracy'])\n",
    "\n",
    "callbacks = [#EarlyStopping(monitor='val_acc',patience = 8, verbose = True), \n",
    "             ModelCheckpoint(os.path.join(TASK_FOLDER_PATH,\"leaf_classifier_CNN_{}epochs_{}batch_{}.hdf5\".format(N_EPOCHS,BATCH_SIZE, str(OPTIMIZER))), \n",
    "                             monitor='val_acc')]\n",
    "\n",
    "\n",
    "model.summary()"
   ]
  },
  {
   "cell_type": "code",
   "execution_count": 21,
   "metadata": {},
   "outputs": [
    {
     "name": "stdout",
     "output_type": "stream",
     "text": [
      "Train on 768 samples, validate on 192 samples\n",
      "Epoch 1/100\n",
      "768/768 [==============================] - 26s 34ms/step - loss: 1.2222 - acc: 0.4805 - val_loss: 1.0335 - val_acc: 0.5104\n",
      "Epoch 2/100\n",
      "768/768 [==============================] - 8s 10ms/step - loss: 0.8520 - acc: 0.7148 - val_loss: 0.6754 - val_acc: 0.7969\n",
      "Epoch 3/100\n",
      "768/768 [==============================] - 7s 10ms/step - loss: 0.6076 - acc: 0.7878 - val_loss: 0.5107 - val_acc: 0.7969\n",
      "Epoch 4/100\n",
      "768/768 [==============================] - 7s 10ms/step - loss: 0.4993 - acc: 0.7812 - val_loss: 0.4373 - val_acc: 0.7969\n",
      "Epoch 5/100\n",
      "768/768 [==============================] - 7s 10ms/step - loss: 0.4413 - acc: 0.8971 - val_loss: 0.3920 - val_acc: 1.0000\n",
      "Epoch 6/100\n",
      "768/768 [==============================] - 8s 10ms/step - loss: 0.4005 - acc: 0.9674 - val_loss: 0.3533 - val_acc: 1.0000\n",
      "Epoch 7/100\n",
      "768/768 [==============================] - 7s 10ms/step - loss: 0.3693 - acc: 1.0000 - val_loss: 0.3286 - val_acc: 1.0000\n",
      "Epoch 8/100\n",
      "768/768 [==============================] - 7s 10ms/step - loss: 0.3484 - acc: 0.9622 - val_loss: 0.3077 - val_acc: 1.0000\n",
      "Epoch 9/100\n",
      "768/768 [==============================] - 7s 10ms/step - loss: 0.3276 - acc: 0.9635 - val_loss: 0.2916 - val_acc: 1.0000\n",
      "Epoch 10/100\n",
      "768/768 [==============================] - 8s 10ms/step - loss: 0.3089 - acc: 1.0000 - val_loss: 0.2820 - val_acc: 1.0000\n",
      "Epoch 11/100\n",
      "768/768 [==============================] - 7s 10ms/step - loss: 0.2963 - acc: 1.0000 - val_loss: 0.2653 - val_acc: 1.0000\n",
      "Epoch 12/100\n",
      "768/768 [==============================] - 7s 10ms/step - loss: 0.2806 - acc: 1.0000 - val_loss: 0.2524 - val_acc: 1.0000\n",
      "Epoch 13/100\n",
      "768/768 [==============================] - 7s 10ms/step - loss: 0.2673 - acc: 1.0000 - val_loss: 0.2370 - val_acc: 1.0000\n",
      "Epoch 14/100\n",
      "768/768 [==============================] - 7s 10ms/step - loss: 0.2560 - acc: 1.0000 - val_loss: 0.2270 - val_acc: 1.0000\n",
      "Epoch 15/100\n",
      "768/768 [==============================] - 7s 10ms/step - loss: 0.2477 - acc: 1.0000 - val_loss: 0.2175 - val_acc: 1.0000\n",
      "Epoch 16/100\n",
      "768/768 [==============================] - 7s 10ms/step - loss: 0.2362 - acc: 1.0000 - val_loss: 0.2114 - val_acc: 1.0000\n",
      "Epoch 17/100\n",
      "768/768 [==============================] - 8s 10ms/step - loss: 0.2256 - acc: 1.0000 - val_loss: 0.2058 - val_acc: 1.0000\n",
      "Epoch 18/100\n",
      "768/768 [==============================] - 7s 10ms/step - loss: 0.2227 - acc: 1.0000 - val_loss: 0.1935 - val_acc: 1.0000\n",
      "Epoch 19/100\n",
      "768/768 [==============================] - 7s 10ms/step - loss: 0.2103 - acc: 1.0000 - val_loss: 0.1866 - val_acc: 1.0000\n",
      "Epoch 20/100\n",
      "768/768 [==============================] - 7s 10ms/step - loss: 0.2028 - acc: 1.0000 - val_loss: 0.1813 - val_acc: 1.0000\n",
      "Epoch 21/100\n",
      "768/768 [==============================] - 7s 10ms/step - loss: 0.1954 - acc: 1.0000 - val_loss: 0.1767 - val_acc: 1.0000\n",
      "Epoch 22/100\n",
      "768/768 [==============================] - 7s 10ms/step - loss: 0.1890 - acc: 1.0000 - val_loss: 0.1673 - val_acc: 1.0000\n",
      "Epoch 23/100\n",
      "768/768 [==============================] - 7s 10ms/step - loss: 0.1828 - acc: 1.0000 - val_loss: 0.1619 - val_acc: 1.0000\n",
      "Epoch 24/100\n",
      "768/768 [==============================] - 8s 10ms/step - loss: 0.1760 - acc: 1.0000 - val_loss: 0.1564 - val_acc: 1.0000\n",
      "Epoch 25/100\n",
      "768/768 [==============================] - 7s 10ms/step - loss: 0.1712 - acc: 1.0000 - val_loss: 0.1513 - val_acc: 1.0000\n",
      "Epoch 26/100\n",
      "768/768 [==============================] - 7s 10ms/step - loss: 0.1652 - acc: 1.0000 - val_loss: 0.1488 - val_acc: 1.0000\n",
      "Epoch 27/100\n",
      "768/768 [==============================] - 7s 10ms/step - loss: 0.1602 - acc: 1.0000 - val_loss: 0.1412 - val_acc: 1.0000\n",
      "Epoch 28/100\n",
      "768/768 [==============================] - 8s 10ms/step - loss: 0.1543 - acc: 1.0000 - val_loss: 0.1378 - val_acc: 1.0000\n",
      "Epoch 29/100\n",
      "768/768 [==============================] - 7s 10ms/step - loss: 0.1495 - acc: 1.0000 - val_loss: 0.1350 - val_acc: 1.0000\n",
      "Epoch 30/100\n",
      "768/768 [==============================] - 7s 10ms/step - loss: 0.1448 - acc: 1.0000 - val_loss: 0.1329 - val_acc: 1.0000\n",
      "Epoch 31/100\n",
      "768/768 [==============================] - 7s 10ms/step - loss: 0.1411 - acc: 1.0000 - val_loss: 0.1296 - val_acc: 1.0000\n",
      "Epoch 32/100\n",
      "768/768 [==============================] - 7s 10ms/step - loss: 0.1369 - acc: 1.0000 - val_loss: 0.1210 - val_acc: 1.0000\n",
      "Epoch 33/100\n",
      "768/768 [==============================] - 7s 10ms/step - loss: 0.1320 - acc: 1.0000 - val_loss: 0.1247 - val_acc: 1.0000\n",
      "Epoch 34/100\n",
      "768/768 [==============================] - 7s 10ms/step - loss: 0.1281 - acc: 1.0000 - val_loss: 0.1135 - val_acc: 1.0000\n",
      "Epoch 35/100\n",
      "768/768 [==============================] - 8s 10ms/step - loss: 0.1254 - acc: 1.0000 - val_loss: 0.1125 - val_acc: 1.0000\n",
      "Epoch 36/100\n",
      "768/768 [==============================] - 7s 10ms/step - loss: 0.1203 - acc: 1.0000 - val_loss: 0.1072 - val_acc: 1.0000\n",
      "Epoch 37/100\n",
      "768/768 [==============================] - 7s 10ms/step - loss: 0.1182 - acc: 1.0000 - val_loss: 0.1043 - val_acc: 1.0000\n",
      "Epoch 38/100\n",
      "768/768 [==============================] - 7s 10ms/step - loss: 0.1138 - acc: 1.0000 - val_loss: 0.1010 - val_acc: 1.0000\n",
      "Epoch 39/100\n",
      "768/768 [==============================] - 8s 10ms/step - loss: 0.1104 - acc: 1.0000 - val_loss: 0.0979 - val_acc: 1.0000\n",
      "Epoch 40/100\n",
      "768/768 [==============================] - 8s 10ms/step - loss: 0.1072 - acc: 1.0000 - val_loss: 0.0965 - val_acc: 1.0000\n",
      "Epoch 41/100\n",
      "768/768 [==============================] - 8s 10ms/step - loss: 0.1044 - acc: 1.0000 - val_loss: 0.0925 - val_acc: 1.0000\n",
      "Epoch 42/100\n",
      "768/768 [==============================] - 8s 10ms/step - loss: 0.1015 - acc: 1.0000 - val_loss: 0.0902 - val_acc: 1.0000\n",
      "Epoch 43/100\n",
      "768/768 [==============================] - 8s 10ms/step - loss: 0.0987 - acc: 1.0000 - val_loss: 0.0875 - val_acc: 1.0000\n",
      "Epoch 44/100\n",
      "768/768 [==============================] - 8s 10ms/step - loss: 0.0977 - acc: 1.0000 - val_loss: 0.0852 - val_acc: 1.0000\n",
      "Epoch 45/100\n",
      "768/768 [==============================] - 8s 10ms/step - loss: 0.0941 - acc: 1.0000 - val_loss: 0.0827 - val_acc: 1.0000\n",
      "Epoch 46/100\n",
      "768/768 [==============================] - 8s 10ms/step - loss: 0.0909 - acc: 1.0000 - val_loss: 0.0828 - val_acc: 1.0000\n",
      "Epoch 47/100\n",
      "768/768 [==============================] - 8s 10ms/step - loss: 0.0893 - acc: 1.0000 - val_loss: 0.0787 - val_acc: 1.0000\n",
      "Epoch 48/100\n",
      "768/768 [==============================] - 8s 10ms/step - loss: 0.0860 - acc: 1.0000 - val_loss: 0.0780 - val_acc: 1.0000\n",
      "Epoch 49/100\n",
      "768/768 [==============================] - 7s 10ms/step - loss: 0.0837 - acc: 1.0000 - val_loss: 0.0743 - val_acc: 1.0000\n",
      "Epoch 50/100\n",
      "768/768 [==============================] - 7s 10ms/step - loss: 0.0824 - acc: 1.0000 - val_loss: 0.0726 - val_acc: 1.0000\n",
      "Epoch 51/100\n",
      "768/768 [==============================] - 7s 10ms/step - loss: 0.0803 - acc: 1.0000 - val_loss: 0.0712 - val_acc: 1.0000\n",
      "Epoch 52/100\n",
      "768/768 [==============================] - 7s 10ms/step - loss: 0.0773 - acc: 1.0000 - val_loss: 0.0686 - val_acc: 1.0000\n",
      "Epoch 53/100\n",
      "768/768 [==============================] - 7s 10ms/step - loss: 0.0753 - acc: 1.0000 - val_loss: 0.0669 - val_acc: 1.0000\n",
      "Epoch 54/100\n",
      "768/768 [==============================] - 7s 10ms/step - loss: 0.0737 - acc: 1.0000 - val_loss: 0.0656 - val_acc: 1.0000\n",
      "Epoch 55/100\n",
      "768/768 [==============================] - 7s 10ms/step - loss: 0.0716 - acc: 1.0000 - val_loss: 0.0642 - val_acc: 1.0000\n",
      "Epoch 56/100\n",
      "768/768 [==============================] - 7s 10ms/step - loss: 0.0699 - acc: 1.0000 - val_loss: 0.0619 - val_acc: 1.0000\n",
      "Epoch 57/100\n",
      "768/768 [==============================] - 7s 10ms/step - loss: 0.0682 - acc: 1.0000 - val_loss: 0.0615 - val_acc: 1.0000\n",
      "Epoch 58/100\n",
      "768/768 [==============================] - 7s 10ms/step - loss: 0.0662 - acc: 1.0000 - val_loss: 0.0590 - val_acc: 1.0000\n",
      "Epoch 59/100\n",
      "768/768 [==============================] - 7s 10ms/step - loss: 0.0647 - acc: 1.0000 - val_loss: 0.0574 - val_acc: 1.0000\n",
      "Epoch 60/100\n",
      "768/768 [==============================] - 7s 10ms/step - loss: 0.0637 - acc: 1.0000 - val_loss: 0.0562 - val_acc: 1.0000\n",
      "Epoch 61/100\n",
      "768/768 [==============================] - 7s 10ms/step - loss: 0.0615 - acc: 1.0000 - val_loss: 0.0547 - val_acc: 1.0000\n",
      "Epoch 62/100\n",
      "768/768 [==============================] - 7s 10ms/step - loss: 0.0600 - acc: 1.0000 - val_loss: 0.0537 - val_acc: 1.0000\n",
      "Epoch 63/100\n",
      "768/768 [==============================] - 7s 10ms/step - loss: 0.0588 - acc: 1.0000 - val_loss: 0.0528 - val_acc: 1.0000\n",
      "Epoch 64/100\n",
      "768/768 [==============================] - 8s 10ms/step - loss: 0.0571 - acc: 1.0000 - val_loss: 0.0510 - val_acc: 1.0000\n",
      "Epoch 65/100\n",
      "768/768 [==============================] - 7s 10ms/step - loss: 0.0558 - acc: 1.0000 - val_loss: 0.0497 - val_acc: 1.0000\n",
      "Epoch 66/100\n",
      "768/768 [==============================] - 7s 10ms/step - loss: 0.0544 - acc: 1.0000 - val_loss: 0.0493 - val_acc: 1.0000\n",
      "Epoch 67/100\n",
      "768/768 [==============================] - 7s 10ms/step - loss: 0.0532 - acc: 1.0000 - val_loss: 0.0477 - val_acc: 1.0000\n",
      "Epoch 68/100\n",
      "768/768 [==============================] - 7s 10ms/step - loss: 0.0522 - acc: 1.0000 - val_loss: 0.0473 - val_acc: 1.0000\n",
      "Epoch 69/100\n",
      "768/768 [==============================] - 7s 10ms/step - loss: 0.0506 - acc: 1.0000 - val_loss: 0.0450 - val_acc: 1.0000\n",
      "Epoch 70/100\n",
      "768/768 [==============================] - 7s 10ms/step - loss: 0.0496 - acc: 1.0000 - val_loss: 0.0447 - val_acc: 1.0000\n",
      "Epoch 71/100\n",
      "768/768 [==============================] - 7s 10ms/step - loss: 0.0482 - acc: 1.0000 - val_loss: 0.0430 - val_acc: 1.0000\n",
      "Epoch 72/100\n",
      "768/768 [==============================] - 7s 10ms/step - loss: 0.0471 - acc: 1.0000 - val_loss: 0.0419 - val_acc: 1.0000\n",
      "Epoch 73/100\n",
      "768/768 [==============================] - 7s 10ms/step - loss: 0.0463 - acc: 1.0000 - val_loss: 0.0418 - val_acc: 1.0000\n",
      "Epoch 74/100\n",
      "768/768 [==============================] - 7s 10ms/step - loss: 0.0450 - acc: 1.0000 - val_loss: 0.0406 - val_acc: 1.0000\n",
      "Epoch 75/100\n",
      "768/768 [==============================] - 7s 10ms/step - loss: 0.0447 - acc: 1.0000 - val_loss: 0.0391 - val_acc: 1.0000\n",
      "Epoch 76/100\n",
      "768/768 [==============================] - 7s 10ms/step - loss: 0.0429 - acc: 1.0000 - val_loss: 0.0390 - val_acc: 1.0000\n",
      "Epoch 77/100\n",
      "768/768 [==============================] - 7s 10ms/step - loss: 0.0421 - acc: 1.0000 - val_loss: 0.0375 - val_acc: 1.0000\n",
      "Epoch 78/100\n",
      "768/768 [==============================] - 7s 10ms/step - loss: 0.0412 - acc: 1.0000 - val_loss: 0.0370 - val_acc: 1.0000\n",
      "Epoch 79/100\n",
      "768/768 [==============================] - 7s 10ms/step - loss: 0.0402 - acc: 1.0000 - val_loss: 0.0357 - val_acc: 1.0000\n",
      "Epoch 80/100\n",
      "768/768 [==============================] - 7s 10ms/step - loss: 0.0393 - acc: 1.0000 - val_loss: 0.0348 - val_acc: 1.0000\n",
      "Epoch 81/100\n",
      "768/768 [==============================] - 7s 10ms/step - loss: 0.0384 - acc: 1.0000 - val_loss: 0.0346 - val_acc: 1.0000\n",
      "Epoch 82/100\n",
      "768/768 [==============================] - 7s 10ms/step - loss: 0.0374 - acc: 1.0000 - val_loss: 0.0334 - val_acc: 1.0000\n",
      "Epoch 83/100\n",
      "768/768 [==============================] - 7s 10ms/step - loss: 0.0369 - acc: 1.0000 - val_loss: 0.0326 - val_acc: 1.0000\n",
      "Epoch 84/100\n",
      "768/768 [==============================] - 7s 10ms/step - loss: 0.0357 - acc: 1.0000 - val_loss: 0.0332 - val_acc: 1.0000\n",
      "Epoch 85/100\n",
      "768/768 [==============================] - 7s 10ms/step - loss: 0.0351 - acc: 1.0000 - val_loss: 0.0312 - val_acc: 1.0000\n",
      "Epoch 86/100\n",
      "768/768 [==============================] - 7s 10ms/step - loss: 0.0343 - acc: 1.0000 - val_loss: 0.0305 - val_acc: 1.0000\n",
      "Epoch 87/100\n",
      "768/768 [==============================] - 7s 10ms/step - loss: 0.0336 - acc: 1.0000 - val_loss: 0.0299 - val_acc: 1.0000\n",
      "Epoch 88/100\n",
      "768/768 [==============================] - 7s 10ms/step - loss: 0.0327 - acc: 1.0000 - val_loss: 0.0291 - val_acc: 1.0000\n",
      "Epoch 89/100\n",
      "768/768 [==============================] - 7s 10ms/step - loss: 0.0319 - acc: 1.0000 - val_loss: 0.0291 - val_acc: 1.0000\n",
      "Epoch 90/100\n",
      "768/768 [==============================] - 7s 10ms/step - loss: 0.0315 - acc: 1.0000 - val_loss: 0.0288 - val_acc: 1.0000\n",
      "Epoch 91/100\n",
      "768/768 [==============================] - 7s 10ms/step - loss: 0.0306 - acc: 1.0000 - val_loss: 0.0274 - val_acc: 1.0000\n",
      "Epoch 92/100\n",
      "768/768 [==============================] - 7s 10ms/step - loss: 0.0300 - acc: 1.0000 - val_loss: 0.0269 - val_acc: 1.0000\n",
      "Epoch 93/100\n",
      "768/768 [==============================] - 7s 10ms/step - loss: 0.0294 - acc: 1.0000 - val_loss: 0.0263 - val_acc: 1.0000\n",
      "Epoch 94/100\n",
      "768/768 [==============================] - 7s 10ms/step - loss: 0.0287 - acc: 1.0000 - val_loss: 0.0260 - val_acc: 1.0000\n",
      "Epoch 95/100\n",
      "768/768 [==============================] - 7s 10ms/step - loss: 0.0282 - acc: 1.0000 - val_loss: 0.0255 - val_acc: 1.0000\n",
      "Epoch 96/100\n",
      "768/768 [==============================] - 7s 10ms/step - loss: 0.0275 - acc: 1.0000 - val_loss: 0.0244 - val_acc: 1.0000\n",
      "Epoch 97/100\n",
      "768/768 [==============================] - 7s 10ms/step - loss: 0.0269 - acc: 1.0000 - val_loss: 0.0240 - val_acc: 1.0000\n",
      "Epoch 98/100\n",
      "768/768 [==============================] - 7s 10ms/step - loss: 0.0265 - acc: 1.0000 - val_loss: 0.0234 - val_acc: 1.0000\n",
      "Epoch 99/100\n",
      "768/768 [==============================] - 7s 10ms/step - loss: 0.0261 - acc: 1.0000 - val_loss: 0.0229 - val_acc: 1.0000\n",
      "Epoch 100/100\n",
      "768/768 [==============================] - 7s 10ms/step - loss: 0.0253 - acc: 1.0000 - val_loss: 0.0224 - val_acc: 1.0000\n"
     ]
    }
   ],
   "source": [
    "history = model.fit(X_train_cut, y_train_ohe, validation_data=(X_val_cut, y_val_ohe),\n",
    "                    epochs=N_EPOCHS, verbose=True, batch_size=BATCH_SIZE, shuffle=True, \n",
    "                    callbacks = callbacks)"
   ]
  },
  {
   "cell_type": "code",
   "execution_count": 38,
   "metadata": {},
   "outputs": [
    {
     "data": {
      "image/png": "[encoded data removed]",
      "text/plain": [
       "<Figure size 432x288 with 1 Axes>"
      ]
     },
     "metadata": {
      "needs_background": "light"
     },
     "output_type": "display_data"
    },
    {
     "data": {
      "image/png": "[encoded data removed]",
      "text/plain": [
       "<Figure size 432x288 with 1 Axes>"
      ]
     },
     "metadata": {
      "needs_background": "light"
     },
     "output_type": "display_data"
    }
   ],
   "source": [
    "plot_history(history, ymin_acc=0, ymax_acc=1.05)"
   ]
  },
  {
   "cell_type": "code",
   "execution_count": 39,
   "metadata": {},
   "outputs": [],
   "source": [
    "preds = model.predict(X_test_cut)"
   ]
  },
  {
   "cell_type": "code",
   "execution_count": 40,
   "metadata": {},
   "outputs": [],
   "source": [
    "preds_classes = np.argmax(preds, axis=-1)"
   ]
  },
  {
   "cell_type": "code",
   "execution_count": 41,
   "metadata": {},
   "outputs": [
    {
     "data": {
      "text/plain": [
       "array([3, 2, 0, 1, 0, 3, 1, 3, 1, 2, 2, 0, 0, 2, 0, 0, 1, 2, 2, 1, 1, 2,\n",
       "       2, 1, 0, 0, 2, 1, 1, 1, 1, 2, 2, 2, 1, 1, 1, 0, 1, 2, 3, 0, 3, 1,\n",
       "       3, 1, 1, 0, 0, 0, 2, 3, 1, 0, 3, 1, 3, 3, 3, 1, 1, 0, 0, 0, 0, 3,\n",
       "       0, 1, 1, 1, 1, 0, 3, 0, 0, 1, 0, 0, 3, 2, 3, 0, 2, 0, 1, 3, 3, 0,\n",
       "       3, 2, 1, 1, 0, 1, 3, 2, 1, 3, 0, 0, 1, 0, 2, 0, 2, 2, 3, 3, 3, 3,\n",
       "       1, 2, 0, 3, 2, 3, 0, 0, 2, 0, 1, 3, 3, 3, 1, 3, 1, 0, 2, 2, 0, 3,\n",
       "       1, 0, 3, 2, 2, 1, 1, 3, 3, 2, 1, 2, 2, 1, 2, 2, 1, 1, 3, 1, 2, 0,\n",
       "       3, 1, 1, 0, 3, 1, 3, 3, 3, 0, 0, 2, 0, 2, 2, 0, 2, 3, 1, 0, 0, 1,\n",
       "       0, 3, 0, 2, 2, 2, 0, 3, 0, 3, 1, 2, 1, 1, 2, 2, 0, 2, 1, 0, 0, 3,\n",
       "       3, 0, 2, 3, 2, 3, 2, 0, 2, 2, 2, 3, 3, 2, 1, 2, 3, 0, 2, 0, 2, 1,\n",
       "       3, 3, 3, 3, 0, 1, 2, 0, 0, 2, 1, 0, 3, 2, 3, 1, 2, 1, 3, 2])"
      ]
     },
     "execution_count": 41,
     "metadata": {},
     "output_type": "execute_result"
    }
   ],
   "source": [
    "preds_classes"
   ]
  },
  {
   "cell_type": "code",
   "execution_count": 42,
   "metadata": {},
   "outputs": [
    {
     "data": {
      "text/plain": [
       "array([25, 10,  2,  4,  2, 25,  4, 25,  4, 10, 10,  2,  2, 10,  2,  2,  4,\n",
       "       10, 10,  4,  4, 10, 10,  4,  2,  2, 10,  4,  4,  4,  4, 10, 10, 10,\n",
       "        4,  4,  4,  2,  4, 10, 25,  2, 25,  4, 25,  4,  4,  2,  2,  2, 10,\n",
       "       25,  4,  2, 25,  4, 25, 25, 25,  4,  4,  2,  2,  2,  2, 25,  2,  4,\n",
       "        4,  4,  4,  2, 25,  2,  2,  4,  2,  2, 25, 10, 25,  2, 10,  2,  4,\n",
       "       25, 25,  2, 25, 10,  4,  4,  2,  4, 25, 10,  4, 25,  2,  2,  4,  2,\n",
       "       10,  2, 10, 10, 25, 25, 25, 25,  4, 10,  2, 25, 10, 25,  2,  2, 10,\n",
       "        2,  4, 25, 25, 25,  4, 25,  4,  2, 10, 10,  2, 25,  4,  2, 25, 10,\n",
       "       10,  4,  4, 25, 25, 10,  4, 10, 10,  4, 10, 10,  4,  4, 25,  4, 10,\n",
       "        2, 25,  4,  4,  2, 25,  4, 25, 25, 25,  2,  2, 10,  2, 10, 10,  2,\n",
       "       10, 25,  4,  2,  2,  4,  2, 25,  2, 10, 10, 10,  2, 25,  2, 25,  4,\n",
       "       10,  4,  4, 10, 10,  2, 10,  4,  2,  2, 25, 25,  2, 10, 25, 10, 25,\n",
       "       10,  2, 10, 10, 10, 25, 25, 10,  4, 10, 25,  2, 10,  2, 10,  4, 25,\n",
       "       25, 25, 25,  2,  4, 10,  2,  2, 10,  4,  2, 25, 10, 25,  4, 10,  4,\n",
       "       25, 10])"
      ]
     },
     "execution_count": 42,
     "metadata": {},
     "output_type": "execute_result"
    }
   ],
   "source": [
    "y_test"
   ]
  },
  {
   "cell_type": "code",
   "execution_count": 43,
   "metadata": {},
   "outputs": [],
   "source": [
    "def preds_to_classes(pred_array):\n",
    "    pred_array[pred_array==2]=10\n",
    "    pred_array[pred_array==0]=2\n",
    "    pred_array[pred_array==1]=4\n",
    "    pred_array[pred_array==3]=25\n",
    "    return pred_array"
   ]
  },
  {
   "cell_type": "code",
   "execution_count": 62,
   "metadata": {},
   "outputs": [],
   "source": [
    "preds_classes = preds_to_classes(preds_classes)"
   ]
  },
  {
   "cell_type": "code",
   "execution_count": 63,
   "metadata": {},
   "outputs": [
    {
     "data": {
      "text/plain": [
       "array([[62,  0,  0,  0],\n",
       "       [ 0, 60,  0,  0],\n",
       "       [ 0,  0, 60,  0],\n",
       "       [ 0,  0,  0, 58]])"
      ]
     },
     "execution_count": 63,
     "metadata": {},
     "output_type": "execute_result"
    }
   ],
   "source": [
    "from sklearn.metrics import confusion_matrix\n",
    "confusion_matrix(y_test, preds_classes)"
   ]
  },
  {
   "cell_type": "code",
   "execution_count": 64,
   "metadata": {},
   "outputs": [],
   "source": [
    "preds_unet = model.predict(X_pred_cut[...,np.newaxis])"
   ]
  },
  {
   "cell_type": "code",
   "execution_count": 65,
   "metadata": {},
   "outputs": [],
   "source": [
    "preds_classes_unet_masks = np.argmax(preds_unet, axis=-1)"
   ]
  },
  {
   "cell_type": "code",
   "execution_count": 68,
   "metadata": {},
   "outputs": [
    {
     "data": {
      "text/plain": [
       "array([25, 10,  4,  4,  4, 25,  4, 25,  4, 10, 10,  4,  4, 10,  4,  4,  4,\n",
       "       10, 10,  4,  4, 10, 10,  4,  4,  4, 10,  4,  4,  4,  4, 10, 10, 10,\n",
       "        4,  4,  4,  4,  4, 10, 25,  4, 25,  4, 25,  4,  4,  4,  4,  4, 10,\n",
       "       25,  4,  4, 25,  4, 25, 25, 25,  4,  4,  4,  4,  4,  4, 25,  4,  4,\n",
       "        4,  4,  4,  4, 25,  4,  4,  4,  4,  4, 25, 10, 25,  4, 10,  4,  4,\n",
       "       25, 25,  4, 25, 10,  4,  4,  4,  4, 25, 10,  4, 25,  4,  4,  4,  4,\n",
       "       10,  4, 10, 10, 25, 25, 25, 25,  4, 10,  4, 25, 10, 25,  4,  4, 10,\n",
       "        4,  4, 25, 25, 25,  4, 25,  4,  4, 10, 10,  4, 25,  4,  4, 25, 10,\n",
       "       10,  4,  4, 25, 25, 10,  4, 10, 10,  4, 10, 10,  4,  4, 25,  4, 10,\n",
       "        4, 25,  4,  4,  4, 25,  4, 25, 25, 25,  4,  4, 10,  4, 10, 10,  4,\n",
       "       10, 25,  4,  4,  4,  4,  4, 25,  4, 10, 10, 10,  4, 25,  4, 25,  4,\n",
       "       10,  4,  4, 10, 10,  4, 10,  4,  4,  4, 25, 25,  4, 10, 25, 10, 25,\n",
       "       10,  4, 10, 10, 10, 25, 25, 10,  4, 10, 25,  4, 10,  4, 10,  4, 25,\n",
       "       25, 25, 25,  4,  4, 10,  4,  4, 10,  4,  4, 25, 10, 25,  4, 10,  4,\n",
       "       25, 10])"
      ]
     },
     "execution_count": 68,
     "metadata": {},
     "output_type": "execute_result"
    }
   ],
   "source": [
    "preds_classes_unet_masks"
   ]
  },
  {
   "cell_type": "code",
   "execution_count": 66,
   "metadata": {},
   "outputs": [],
   "source": [
    "unet_classes_predicted = preds_to_classes(preds_classes_unet_masks)"
   ]
  },
  {
   "cell_type": "code",
   "execution_count": null,
   "metadata": {},
   "outputs": [],
   "source": []
  },
  {
   "cell_type": "code",
   "execution_count": 67,
   "metadata": {},
   "outputs": [
    {
     "data": {
      "text/plain": [
       "array([[ 0, 62,  0,  0],\n",
       "       [ 0, 60,  0,  0],\n",
       "       [ 0,  0, 60,  0],\n",
       "       [ 0,  0,  0, 58]])"
      ]
     },
     "execution_count": 67,
     "metadata": {},
     "output_type": "execute_result"
    }
   ],
   "source": [
    "confusion_matrix(y_test, unet_classes_predicted)"
   ]
  },
  {
   "cell_type": "code",
   "execution_count": null,
   "metadata": {},
   "outputs": [],
   "source": []
  }
 ],
 "metadata": {
  "kernelspec": {
   "display_name": "Python 3",
   "language": "python",
   "name": "python3"
  },
  "language_info": {
   "codemirror_mode": {
    "name": "ipython",
    "version": 3
   },
   "file_extension": ".py",
   "mimetype": "text/x-python",
   "name": "python",
   "nbconvert_exporter": "python",
   "pygments_lexer": "ipython3",
   "version": "3.6.7"
  }
 },
 "nbformat": 4,
 "nbformat_minor": 2
}
