{
 "cells": [
  {
   "cell_type": "code",
   "execution_count": 14,
   "metadata": {},
   "outputs": [],
   "source": [
    "import numpy as np\n",
    "import matplotlib.pyplot as plt\n",
    "from sklearn.preprocessing import OneHotEncoder\n",
    "import os"
   ]
  },
  {
   "cell_type": "code",
   "execution_count": 2,
   "metadata": {},
   "outputs": [
    {
     "name": "stderr",
     "output_type": "stream",
     "text": [
      "Using TensorFlow backend.\n"
     ]
    }
   ],
   "source": [
    "from keras.layers import Input\n",
    "from keras.layers.core import Dense, Dropout\n",
    "from keras.models import Model\n",
    "from keras.losses import categorical_crossentropy, mse\n",
    "from keras.optimizers import Adadelta, Adam, SGD"
   ]
  },
  {
   "cell_type": "code",
   "execution_count": 3,
   "metadata": {},
   "outputs": [],
   "source": [
    "def plot_history(history):\n",
    "    f1 = plt.figure()\n",
    "    plt.plot(history.history['loss'],label='training')\n",
    "    plt.plot(history.history['val_loss'],label='validation')\n",
    "    #plt.ylim(0,1)\n",
    "    plt.legend(loc='upper right')\n",
    "    plt.show()\n",
    "    \n",
    "    f2 = plt.figure()\n",
    "    plt.plot(history.history['acc'],label='training')\n",
    "    plt.plot(history.history['val_acc'],label='validation')\n",
    "    plt.ylim(0,1)\n",
    "    plt.legend(loc='upper right')\n",
    "    plt.show()\n",
    "    return"
   ]
  },
  {
   "cell_type": "code",
   "execution_count": 15,
   "metadata": {},
   "outputs": [],
   "source": [
    "data_dir = '/storage/yw18581/data/'\n",
    "data_folder = os.path.join(data_dir, 'train_validation_test')"
   ]
  },
  {
   "cell_type": "code",
   "execution_count": 4,
   "metadata": {},
   "outputs": [],
   "source": [
    "X_train = np.load(os.path.join(data_folder, 'Xy_train_dist.npz')[\"y\"]\n",
    "y_train = np.load(os.path.join(data_folder, 'Xy_train_dist.npz')[\"dist\"]"
   ]
  },
  {
   "cell_type": "code",
   "execution_count": 5,
   "metadata": {},
   "outputs": [],
   "source": [
    "X_val = np.load(os.path.join(data_folder,'Xy_val_dist.npz')[\"y\"]\n",
    "y_val = np.load(os.path.join(data_folder, 'Xy__val_dist.npz')[\"dist\"]"
   ]
  },
  {
   "cell_type": "code",
   "execution_count": null,
   "metadata": {},
   "outputs": [],
   "source": [
    "X_test = np.load(os.path.join(data_folder, 'Xy_test_dist.npz\")[\"y\"]\n",
    "y_test = np.load(os.path.join(data_folder, 'Xy_test_dist.npz\")[\"dist\"]"
   ]
  },
  {
   "cell_type": "code",
   "execution_count": 20,
   "metadata": {},
   "outputs": [],
   "source": [
    "X_pred = np.load(os.path.join(data_dir, 'trained_models/UNet_training_generator_1500epochs/Xy_test_predicted_UNet.npz'))['y']\n",
    "y_pred = np.load(os.path.join(data_dir, 'trained_models/UNet_training_generator_1500epochs/Xy_test_predicted_UNet.npz'))['dist']"
   ]
  },
  {
   "cell_type": "code",
   "execution_count": 57,
   "metadata": {},
   "outputs": [],
   "source": [
    "def cut_X(arr):\n",
    "    x_cut = arr[:,960:1300,600:]\n",
    "    if len(x_cut.shape)>3:\n",
    "        x_cut = x_cut[...,0]\n",
    "    x_cut_out = x_cut.reshape(x_cut.shape[0],x_cut.shape[1]*x_cut.shape[2])\n",
    "    return x_cut_out"
   ]
  },
  {
   "cell_type": "code",
   "execution_count": 7,
   "metadata": {},
   "outputs": [],
   "source": [
    "def ohe(values):\n",
    "    values_reshaped = values.reshape(-1, 1)\n",
    "    onehot_encoder = OneHotEncoder(sparse=False, categories='auto')\n",
    "    onehot_encoded = onehot_encoder.fit_transform(values_reshaped)\n",
    "    return onehot_encoded"
   ]
  },
  {
   "cell_type": "code",
   "execution_count": 8,
   "metadata": {},
   "outputs": [],
   "source": [
    "X_train_cut = cut_X(X_train)"
   ]
  },
  {
   "cell_type": "code",
   "execution_count": 9,
   "metadata": {},
   "outputs": [],
   "source": [
    "X_val_cut = cut_X(X_val)"
   ]
  },
  {
   "cell_type": "code",
   "execution_count": 22,
   "metadata": {},
   "outputs": [],
   "source": [
    "X_test_cut = cut_X(X_test)"
   ]
  },
  {
   "cell_type": "code",
   "execution_count": 58,
   "metadata": {},
   "outputs": [],
   "source": [
    "X_pred_cut = cut_X(X_pred)"
   ]
  },
  {
   "cell_type": "code",
   "execution_count": 23,
   "metadata": {},
   "outputs": [],
   "source": [
    "y_train_ohe = ohe(y_train)\n",
    "y_val_ohe = ohe(y_val)\n",
    "y_test_ohe = ohe(y_test)"
   ]
  },
  {
   "cell_type": "code",
   "execution_count": 12,
   "metadata": {},
   "outputs": [
    {
     "name": "stdout",
     "output_type": "stream",
     "text": [
      "_________________________________________________________________\n",
      "Layer (type)                 Output Shape              Param #   \n",
      "=================================================================\n",
      "input (InputLayer)           (None, 272000)            0         \n",
      "_________________________________________________________________\n",
      "dense_1 (Dense)              (None, 256)               69632256  \n",
      "_________________________________________________________________\n",
      "dense_2 (Dense)              (None, 128)               32896     \n",
      "_________________________________________________________________\n",
      "dropout_1 (Dropout)          (None, 128)               0         \n",
      "_________________________________________________________________\n",
      "dense_3 (Dense)              (None, 64)                8256      \n",
      "_________________________________________________________________\n",
      "dense_4 (Dense)              (None, 4)                 260       \n",
      "=================================================================\n",
      "Total params: 69,673,668\n",
      "Trainable params: 69,673,668\n",
      "Non-trainable params: 0\n",
      "_________________________________________________________________\n"
     ]
    }
   ],
   "source": [
    "def create_model(input_shape):\n",
    "    input_layer = Input(shape=input_shape,name='input')\n",
    "    x = Dense(256, activation='sigmoid')(input_layer)\n",
    "    x = Dense(128, activation ='sigmoid')(x)\n",
    "    x = Dropout(0.3)(x)\n",
    "    x = Dense(64, activation ='sigmoid')(x)\n",
    "    prediction = Dense(4, activation='softmax')(x)\n",
    "    model = Model(inputs = input_layer, outputs = prediction)\n",
    "    return model\n",
    "\n",
    "model = create_model(input_shape=(X_train_cut.shape[1],))\n",
    "model.compile(loss=categorical_crossentropy,\n",
    "              optimizer=Adadelta(), metrics=['accuracy'])\n",
    "model.summary()"
   ]
  },
  {
   "cell_type": "code",
   "execution_count": 13,
   "metadata": {},
   "outputs": [
    {
     "name": "stdout",
     "output_type": "stream",
     "text": [
      "Train on 768 samples, validate on 192 samples\n",
      "Epoch 1/100\n",
      "768/768 [==============================] - 10s 13ms/step - loss: 1.3833 - acc: 0.3151 - val_loss: 1.3676 - val_acc: 0.2083\n",
      "Epoch 2/100\n",
      "768/768 [==============================] - 5s 6ms/step - loss: 1.3103 - acc: 0.3971 - val_loss: 1.2316 - val_acc: 0.2812\n",
      "Epoch 3/100\n",
      "768/768 [==============================] - 5s 6ms/step - loss: 1.1485 - acc: 0.5469 - val_loss: 1.0666 - val_acc: 0.7188\n",
      "Epoch 4/100\n",
      "768/768 [==============================] - 5s 6ms/step - loss: 0.8953 - acc: 0.6914 - val_loss: 0.7844 - val_acc: 0.4688\n",
      "Epoch 5/100\n",
      "768/768 [==============================] - 5s 6ms/step - loss: 0.6843 - acc: 0.8125 - val_loss: 0.5055 - val_acc: 1.0000\n",
      "Epoch 6/100\n",
      "768/768 [==============================] - 5s 6ms/step - loss: 0.5123 - acc: 0.8919 - val_loss: 0.3634 - val_acc: 1.0000\n",
      "Epoch 7/100\n",
      "768/768 [==============================] - 5s 6ms/step - loss: 0.4008 - acc: 0.9271 - val_loss: 0.2548 - val_acc: 1.0000\n",
      "Epoch 8/100\n",
      "768/768 [==============================] - 5s 6ms/step - loss: 0.2831 - acc: 0.9674 - val_loss: 0.1862 - val_acc: 1.0000\n",
      "Epoch 9/100\n",
      "768/768 [==============================] - 5s 6ms/step - loss: 0.2269 - acc: 0.9831 - val_loss: 0.1382 - val_acc: 1.0000\n",
      "Epoch 10/100\n",
      "768/768 [==============================] - 5s 6ms/step - loss: 0.1564 - acc: 0.9935 - val_loss: 0.0905 - val_acc: 1.0000\n",
      "Epoch 11/100\n",
      "768/768 [==============================] - 5s 6ms/step - loss: 0.1165 - acc: 0.9935 - val_loss: 0.0681 - val_acc: 1.0000\n",
      "Epoch 12/100\n",
      "768/768 [==============================] - 5s 6ms/step - loss: 0.0884 - acc: 0.9935 - val_loss: 0.0407 - val_acc: 1.0000\n",
      "Epoch 13/100\n",
      "768/768 [==============================] - 5s 6ms/step - loss: 0.0598 - acc: 0.9987 - val_loss: 0.0262 - val_acc: 1.0000\n",
      "Epoch 14/100\n",
      "768/768 [==============================] - 5s 6ms/step - loss: 0.0475 - acc: 0.9974 - val_loss: 0.0237 - val_acc: 1.0000\n",
      "Epoch 15/100\n",
      "768/768 [==============================] - 5s 6ms/step - loss: 0.0368 - acc: 1.0000 - val_loss: 0.0140 - val_acc: 1.0000\n",
      "Epoch 16/100\n",
      "768/768 [==============================] - 5s 6ms/step - loss: 0.0265 - acc: 0.9987 - val_loss: 0.0094 - val_acc: 1.0000\n",
      "Epoch 17/100\n",
      "768/768 [==============================] - 5s 6ms/step - loss: 0.0197 - acc: 1.0000 - val_loss: 0.0068 - val_acc: 1.0000\n",
      "Epoch 18/100\n",
      "768/768 [==============================] - 5s 6ms/step - loss: 0.0162 - acc: 0.9974 - val_loss: 0.0053 - val_acc: 1.0000\n",
      "Epoch 19/100\n",
      "768/768 [==============================] - 5s 6ms/step - loss: 0.0135 - acc: 1.0000 - val_loss: 0.0041 - val_acc: 1.0000\n",
      "Epoch 20/100\n",
      "768/768 [==============================] - 5s 6ms/step - loss: 0.0110 - acc: 1.0000 - val_loss: 0.0032 - val_acc: 1.0000\n",
      "Epoch 21/100\n",
      "768/768 [==============================] - 5s 6ms/step - loss: 0.0111 - acc: 1.0000 - val_loss: 0.0026 - val_acc: 1.0000\n",
      "Epoch 22/100\n",
      "768/768 [==============================] - 5s 6ms/step - loss: 0.0070 - acc: 1.0000 - val_loss: 0.0021 - val_acc: 1.0000\n",
      "Epoch 23/100\n",
      "768/768 [==============================] - 5s 6ms/step - loss: 0.0070 - acc: 1.0000 - val_loss: 0.0020 - val_acc: 1.0000\n",
      "Epoch 24/100\n",
      "768/768 [==============================] - 5s 6ms/step - loss: 0.0061 - acc: 1.0000 - val_loss: 0.0016 - val_acc: 1.0000\n",
      "Epoch 25/100\n",
      "768/768 [==============================] - 5s 6ms/step - loss: 0.0045 - acc: 1.0000 - val_loss: 0.0015 - val_acc: 1.0000\n",
      "Epoch 26/100\n",
      "768/768 [==============================] - 5s 6ms/step - loss: 0.0035 - acc: 1.0000 - val_loss: 0.0010 - val_acc: 1.0000\n",
      "Epoch 27/100\n",
      "768/768 [==============================] - 5s 6ms/step - loss: 0.0032 - acc: 1.0000 - val_loss: 0.0010 - val_acc: 1.0000\n",
      "Epoch 28/100\n",
      "768/768 [==============================] - 5s 6ms/step - loss: 0.0045 - acc: 1.0000 - val_loss: 8.8838e-04 - val_acc: 1.0000\n",
      "Epoch 29/100\n",
      "768/768 [==============================] - 5s 6ms/step - loss: 0.0034 - acc: 1.0000 - val_loss: 6.5739e-04 - val_acc: 1.0000\n",
      "Epoch 30/100\n",
      "768/768 [==============================] - 5s 6ms/step - loss: 0.0023 - acc: 1.0000 - val_loss: 5.3992e-04 - val_acc: 1.0000\n",
      "Epoch 31/100\n",
      "768/768 [==============================] - 5s 6ms/step - loss: 0.0030 - acc: 1.0000 - val_loss: 4.9514e-04 - val_acc: 1.0000\n",
      "Epoch 32/100\n",
      "768/768 [==============================] - 5s 6ms/step - loss: 0.0021 - acc: 1.0000 - val_loss: 4.2384e-04 - val_acc: 1.0000\n",
      "Epoch 33/100\n",
      "768/768 [==============================] - 5s 6ms/step - loss: 0.0015 - acc: 1.0000 - val_loss: 3.5252e-04 - val_acc: 1.0000\n",
      "Epoch 34/100\n",
      "768/768 [==============================] - 5s 6ms/step - loss: 0.0020 - acc: 1.0000 - val_loss: 3.4123e-04 - val_acc: 1.0000\n",
      "Epoch 35/100\n",
      "768/768 [==============================] - 5s 6ms/step - loss: 0.0033 - acc: 1.0000 - val_loss: 3.6703e-04 - val_acc: 1.0000\n",
      "Epoch 36/100\n",
      "768/768 [==============================] - 5s 6ms/step - loss: 0.0018 - acc: 1.0000 - val_loss: 3.1966e-04 - val_acc: 1.0000\n",
      "Epoch 37/100\n",
      "768/768 [==============================] - 5s 6ms/step - loss: 0.0013 - acc: 1.0000 - val_loss: 3.5549e-04 - val_acc: 1.0000\n",
      "Epoch 38/100\n",
      "768/768 [==============================] - 5s 6ms/step - loss: 0.0019 - acc: 1.0000 - val_loss: 2.7234e-04 - val_acc: 1.0000\n",
      "Epoch 39/100\n",
      "768/768 [==============================] - 5s 6ms/step - loss: 0.0011 - acc: 1.0000 - val_loss: 2.2647e-04 - val_acc: 1.0000\n",
      "Epoch 40/100\n",
      "768/768 [==============================] - 5s 6ms/step - loss: 8.7883e-04 - acc: 1.0000 - val_loss: 1.9689e-04 - val_acc: 1.0000\n",
      "Epoch 41/100\n",
      "768/768 [==============================] - 5s 6ms/step - loss: 0.0023 - acc: 0.9987 - val_loss: 1.9833e-04 - val_acc: 1.0000\n",
      "Epoch 42/100\n",
      "768/768 [==============================] - 5s 6ms/step - loss: 0.0016 - acc: 1.0000 - val_loss: 1.9147e-04 - val_acc: 1.0000\n",
      "Epoch 43/100\n",
      "768/768 [==============================] - 5s 6ms/step - loss: 8.2024e-04 - acc: 1.0000 - val_loss: 1.7166e-04 - val_acc: 1.0000\n",
      "Epoch 44/100\n",
      "768/768 [==============================] - 5s 6ms/step - loss: 0.0016 - acc: 1.0000 - val_loss: 1.9067e-04 - val_acc: 1.0000\n",
      "Epoch 45/100\n",
      "768/768 [==============================] - 5s 6ms/step - loss: 7.6615e-04 - acc: 1.0000 - val_loss: 1.6915e-04 - val_acc: 1.0000\n",
      "Epoch 46/100\n",
      "768/768 [==============================] - 5s 6ms/step - loss: 6.7778e-04 - acc: 1.0000 - val_loss: 1.4591e-04 - val_acc: 1.0000\n",
      "Epoch 47/100\n",
      "768/768 [==============================] - 5s 6ms/step - loss: 6.5979e-04 - acc: 1.0000 - val_loss: 1.1787e-04 - val_acc: 1.0000\n",
      "Epoch 48/100\n",
      "768/768 [==============================] - 5s 6ms/step - loss: 7.3291e-04 - acc: 1.0000 - val_loss: 1.1404e-04 - val_acc: 1.0000\n",
      "Epoch 49/100\n",
      "768/768 [==============================] - 5s 6ms/step - loss: 8.0774e-04 - acc: 1.0000 - val_loss: 1.0758e-04 - val_acc: 1.0000\n",
      "Epoch 50/100\n",
      "768/768 [==============================] - 5s 6ms/step - loss: 8.1695e-04 - acc: 1.0000 - val_loss: 1.3364e-04 - val_acc: 1.0000\n",
      "Epoch 51/100\n",
      "768/768 [==============================] - 5s 6ms/step - loss: 4.9686e-04 - acc: 1.0000 - val_loss: 9.4982e-05 - val_acc: 1.0000\n",
      "Epoch 52/100\n",
      "768/768 [==============================] - 5s 6ms/step - loss: 6.9103e-04 - acc: 1.0000 - val_loss: 9.9558e-05 - val_acc: 1.0000\n",
      "Epoch 53/100\n",
      "768/768 [==============================] - 5s 6ms/step - loss: 5.6336e-04 - acc: 1.0000 - val_loss: 8.3445e-05 - val_acc: 1.0000\n",
      "Epoch 54/100\n",
      "768/768 [==============================] - 5s 6ms/step - loss: 5.9930e-04 - acc: 1.0000 - val_loss: 8.8902e-05 - val_acc: 1.0000\n",
      "Epoch 55/100\n",
      "768/768 [==============================] - 5s 6ms/step - loss: 7.9296e-04 - acc: 1.0000 - val_loss: 8.9768e-05 - val_acc: 1.0000\n",
      "Epoch 56/100\n",
      "768/768 [==============================] - 5s 6ms/step - loss: 5.6246e-04 - acc: 1.0000 - val_loss: 7.7603e-05 - val_acc: 1.0000\n",
      "Epoch 57/100\n",
      "768/768 [==============================] - 5s 6ms/step - loss: 4.2183e-04 - acc: 1.0000 - val_loss: 6.7937e-05 - val_acc: 1.0000\n",
      "Epoch 58/100\n",
      "768/768 [==============================] - 5s 6ms/step - loss: 9.5301e-04 - acc: 1.0000 - val_loss: 7.9730e-05 - val_acc: 1.0000\n",
      "Epoch 59/100\n",
      "768/768 [==============================] - 5s 6ms/step - loss: 4.3695e-04 - acc: 1.0000 - val_loss: 6.5161e-05 - val_acc: 1.0000\n",
      "Epoch 60/100\n",
      "768/768 [==============================] - 5s 6ms/step - loss: 0.0010 - acc: 1.0000 - val_loss: 7.2559e-05 - val_acc: 1.0000\n",
      "Epoch 61/100\n",
      "768/768 [==============================] - 5s 6ms/step - loss: 3.9472e-04 - acc: 1.0000 - val_loss: 6.4494e-05 - val_acc: 1.0000\n",
      "Epoch 62/100\n",
      "768/768 [==============================] - 5s 6ms/step - loss: 7.0979e-04 - acc: 1.0000 - val_loss: 9.7804e-05 - val_acc: 1.0000\n",
      "Epoch 63/100\n",
      "768/768 [==============================] - 5s 6ms/step - loss: 5.0305e-04 - acc: 1.0000 - val_loss: 5.8386e-05 - val_acc: 1.0000\n",
      "Epoch 64/100\n",
      "768/768 [==============================] - 5s 6ms/step - loss: 3.2552e-04 - acc: 1.0000 - val_loss: 5.4811e-05 - val_acc: 1.0000\n",
      "Epoch 65/100\n",
      "768/768 [==============================] - 5s 6ms/step - loss: 3.1245e-04 - acc: 1.0000 - val_loss: 5.0014e-05 - val_acc: 1.0000\n",
      "Epoch 66/100\n",
      "768/768 [==============================] - 5s 6ms/step - loss: 3.8309e-04 - acc: 1.0000 - val_loss: 4.7733e-05 - val_acc: 1.0000\n",
      "Epoch 67/100\n",
      "768/768 [==============================] - 5s 6ms/step - loss: 2.4472e-04 - acc: 1.0000 - val_loss: 4.5369e-05 - val_acc: 1.0000\n",
      "Epoch 68/100\n",
      "768/768 [==============================] - 5s 6ms/step - loss: 3.4360e-04 - acc: 1.0000 - val_loss: 4.5004e-05 - val_acc: 1.0000\n",
      "Epoch 69/100\n",
      "768/768 [==============================] - 5s 6ms/step - loss: 2.2156e-04 - acc: 1.0000 - val_loss: 4.0360e-05 - val_acc: 1.0000\n",
      "Epoch 70/100\n",
      "768/768 [==============================] - 5s 6ms/step - loss: 2.6364e-04 - acc: 1.0000 - val_loss: 3.9530e-05 - val_acc: 1.0000\n",
      "Epoch 71/100\n",
      "768/768 [==============================] - 5s 6ms/step - loss: 2.5869e-04 - acc: 1.0000 - val_loss: 3.8733e-05 - val_acc: 1.0000\n",
      "Epoch 72/100\n",
      "768/768 [==============================] - 5s 6ms/step - loss: 0.0013 - acc: 1.0000 - val_loss: 4.3509e-05 - val_acc: 1.0000\n",
      "Epoch 73/100\n",
      "768/768 [==============================] - 5s 6ms/step - loss: 3.1985e-04 - acc: 1.0000 - val_loss: 4.4336e-05 - val_acc: 1.0000\n",
      "Epoch 74/100\n",
      "768/768 [==============================] - 5s 6ms/step - loss: 2.5827e-04 - acc: 1.0000 - val_loss: 3.9974e-05 - val_acc: 1.0000\n",
      "Epoch 75/100\n",
      "768/768 [==============================] - 5s 6ms/step - loss: 4.4365e-04 - acc: 1.0000 - val_loss: 4.2632e-05 - val_acc: 1.0000\n",
      "Epoch 76/100\n",
      "768/768 [==============================] - 5s 6ms/step - loss: 4.2035e-04 - acc: 1.0000 - val_loss: 4.4235e-05 - val_acc: 1.0000\n",
      "Epoch 77/100\n",
      "768/768 [==============================] - 5s 6ms/step - loss: 3.9084e-04 - acc: 1.0000 - val_loss: 4.1762e-05 - val_acc: 1.0000\n",
      "Epoch 78/100\n",
      "768/768 [==============================] - 5s 6ms/step - loss: 2.3162e-04 - acc: 1.0000 - val_loss: 3.9376e-05 - val_acc: 1.0000\n",
      "Epoch 79/100\n",
      "768/768 [==============================] - 5s 6ms/step - loss: 3.3379e-04 - acc: 1.0000 - val_loss: 4.0297e-05 - val_acc: 1.0000\n",
      "Epoch 80/100\n",
      "768/768 [==============================] - 5s 6ms/step - loss: 1.9155e-04 - acc: 1.0000 - val_loss: 3.5378e-05 - val_acc: 1.0000\n",
      "Epoch 81/100\n",
      "768/768 [==============================] - 5s 6ms/step - loss: 1.8657e-04 - acc: 1.0000 - val_loss: 3.2693e-05 - val_acc: 1.0000\n",
      "Epoch 82/100\n",
      "768/768 [==============================] - 5s 6ms/step - loss: 2.1617e-04 - acc: 1.0000 - val_loss: 3.0602e-05 - val_acc: 1.0000\n",
      "Epoch 83/100\n",
      "768/768 [==============================] - 5s 6ms/step - loss: 2.3354e-04 - acc: 1.0000 - val_loss: 3.3704e-05 - val_acc: 1.0000\n",
      "Epoch 84/100\n",
      "768/768 [==============================] - 5s 6ms/step - loss: 2.9913e-04 - acc: 1.0000 - val_loss: 3.2070e-05 - val_acc: 1.0000\n",
      "Epoch 85/100\n",
      "768/768 [==============================] - 5s 6ms/step - loss: 2.3673e-04 - acc: 1.0000 - val_loss: 2.5844e-05 - val_acc: 1.0000\n",
      "Epoch 86/100\n",
      "768/768 [==============================] - 5s 6ms/step - loss: 3.1624e-04 - acc: 1.0000 - val_loss: 3.4819e-05 - val_acc: 1.0000\n",
      "Epoch 87/100\n",
      "768/768 [==============================] - 5s 6ms/step - loss: 1.7929e-04 - acc: 1.0000 - val_loss: 2.6193e-05 - val_acc: 1.0000\n",
      "Epoch 88/100\n",
      "768/768 [==============================] - 5s 6ms/step - loss: 2.3185e-04 - acc: 1.0000 - val_loss: 2.6165e-05 - val_acc: 1.0000\n",
      "Epoch 89/100\n",
      "768/768 [==============================] - 5s 6ms/step - loss: 2.0774e-04 - acc: 1.0000 - val_loss: 2.8056e-05 - val_acc: 1.0000\n",
      "Epoch 90/100\n",
      "768/768 [==============================] - 5s 6ms/step - loss: 1.6630e-04 - acc: 1.0000 - val_loss: 2.3144e-05 - val_acc: 1.0000\n",
      "Epoch 91/100\n",
      "768/768 [==============================] - 5s 6ms/step - loss: 1.7103e-04 - acc: 1.0000 - val_loss: 2.4476e-05 - val_acc: 1.0000\n",
      "Epoch 92/100\n",
      "768/768 [==============================] - 5s 6ms/step - loss: 2.0514e-04 - acc: 1.0000 - val_loss: 2.0987e-05 - val_acc: 1.0000\n",
      "Epoch 93/100\n",
      "768/768 [==============================] - 5s 6ms/step - loss: 1.4739e-04 - acc: 1.0000 - val_loss: 2.1524e-05 - val_acc: 1.0000\n",
      "Epoch 94/100\n",
      "768/768 [==============================] - 5s 6ms/step - loss: 1.7774e-04 - acc: 1.0000 - val_loss: 2.0997e-05 - val_acc: 1.0000\n",
      "Epoch 95/100\n",
      "768/768 [==============================] - 5s 6ms/step - loss: 1.5213e-04 - acc: 1.0000 - val_loss: 2.0601e-05 - val_acc: 1.0000\n",
      "Epoch 96/100\n",
      "768/768 [==============================] - 5s 6ms/step - loss: 1.4511e-04 - acc: 1.0000 - val_loss: 1.9362e-05 - val_acc: 1.0000\n",
      "Epoch 97/100\n",
      "768/768 [==============================] - 5s 6ms/step - loss: 2.3642e-04 - acc: 1.0000 - val_loss: 1.9210e-05 - val_acc: 1.0000\n",
      "Epoch 98/100\n",
      "768/768 [==============================] - 5s 6ms/step - loss: 2.5375e-04 - acc: 1.0000 - val_loss: 2.1539e-05 - val_acc: 1.0000\n",
      "Epoch 99/100\n",
      "768/768 [==============================] - 5s 6ms/step - loss: 2.1524e-04 - acc: 1.0000 - val_loss: 1.7987e-05 - val_acc: 1.0000\n",
      "Epoch 100/100\n",
      "768/768 [==============================] - 5s 6ms/step - loss: 3.0374e-04 - acc: 1.0000 - val_loss: 3.5215e-05 - val_acc: 1.0000\n"
     ]
    }
   ],
   "source": [
    "history = model.fit(X_train_cut, y_train_ohe, validation_data=(X_val_cut, y_val_ohe),\n",
    "                    epochs=100, verbose=True, batch_size=8, shuffle=True)"
   ]
  },
  {
   "cell_type": "code",
   "execution_count": 38,
   "metadata": {},
   "outputs": [
    {
     "data": {
      "image/png": "[encoded data removed]",
      "text/plain": [
       "<Figure size 432x288 with 1 Axes>"
      ]
     },
     "metadata": {
      "needs_background": "light"
     },
     "output_type": "display_data"
    },
    {
     "data": {
      "image/png": "[encoded data removed]",
      "text/plain": [
       "<Figure size 432x288 with 1 Axes>"
      ]
     },
     "metadata": {
      "needs_background": "light"
     },
     "output_type": "display_data"
    }
   ],
   "source": [
    "plot_history(history)"
   ]
  },
  {
   "cell_type": "code",
   "execution_count": 48,
   "metadata": {},
   "outputs": [],
   "source": [
    "preds = model.predict(X_test_cut)"
   ]
  },
  {
   "cell_type": "code",
   "execution_count": 49,
   "metadata": {},
   "outputs": [],
   "source": [
    "preds_classes = np.argmax(preds, axis=-1)"
   ]
  },
  {
   "cell_type": "code",
   "execution_count": 50,
   "metadata": {},
   "outputs": [
    {
     "data": {
      "text/plain": [
       "array([3, 2, 0, 1, 0, 3, 1, 3, 1, 2, 2, 0, 0, 2, 0, 0, 1, 2, 2, 1, 1, 2,\n",
       "       2, 1, 0, 0, 2, 1, 1, 1, 1, 2, 2, 2, 1, 1, 1, 0, 1, 2, 3, 0, 3, 1,\n",
       "       3, 1, 1, 0, 0, 0, 2, 3, 1, 0, 3, 1, 3, 3, 3, 1, 1, 0, 0, 0, 0, 3,\n",
       "       0, 1, 1, 1, 1, 0, 3, 0, 0, 1, 0, 0, 3, 2, 3, 0, 2, 0, 1, 3, 3, 0,\n",
       "       3, 2, 1, 1, 0, 1, 3, 2, 1, 3, 0, 0, 1, 0, 2, 0, 2, 2, 3, 3, 3, 3,\n",
       "       1, 2, 0, 3, 2, 3, 0, 0, 2, 0, 1, 3, 3, 3, 1, 3, 1, 0, 2, 2, 0, 3,\n",
       "       1, 0, 3, 2, 2, 1, 1, 3, 3, 2, 1, 2, 2, 1, 2, 2, 1, 1, 3, 1, 2, 0,\n",
       "       3, 1, 1, 0, 3, 1, 3, 3, 3, 0, 0, 2, 0, 2, 2, 0, 2, 3, 1, 0, 0, 1,\n",
       "       0, 3, 0, 2, 2, 2, 0, 3, 0, 3, 1, 2, 1, 1, 2, 2, 0, 2, 1, 0, 0, 3,\n",
       "       3, 0, 2, 3, 2, 3, 2, 0, 2, 2, 2, 3, 3, 2, 1, 2, 3, 0, 2, 0, 2, 1,\n",
       "       3, 3, 3, 3, 0, 1, 2, 0, 0, 2, 1, 0, 3, 2, 3, 1, 2, 1, 3, 2])"
      ]
     },
     "execution_count": 50,
     "metadata": {},
     "output_type": "execute_result"
    }
   ],
   "source": [
    "preds_classes"
   ]
  },
  {
   "cell_type": "code",
   "execution_count": 51,
   "metadata": {},
   "outputs": [
    {
     "data": {
      "text/plain": [
       "array([25, 10,  2,  4,  2, 25,  4, 25,  4, 10, 10,  2,  2, 10,  2,  2,  4,\n",
       "       10, 10,  4,  4, 10, 10,  4,  2,  2, 10,  4,  4,  4,  4, 10, 10, 10,\n",
       "        4,  4,  4,  2,  4, 10, 25,  2, 25,  4, 25,  4,  4,  2,  2,  2, 10,\n",
       "       25,  4,  2, 25,  4, 25, 25, 25,  4,  4,  2,  2,  2,  2, 25,  2,  4,\n",
       "        4,  4,  4,  2, 25,  2,  2,  4,  2,  2, 25, 10, 25,  2, 10,  2,  4,\n",
       "       25, 25,  2, 25, 10,  4,  4,  2,  4, 25, 10,  4, 25,  2,  2,  4,  2,\n",
       "       10,  2, 10, 10, 25, 25, 25, 25,  4, 10,  2, 25, 10, 25,  2,  2, 10,\n",
       "        2,  4, 25, 25, 25,  4, 25,  4,  2, 10, 10,  2, 25,  4,  2, 25, 10,\n",
       "       10,  4,  4, 25, 25, 10,  4, 10, 10,  4, 10, 10,  4,  4, 25,  4, 10,\n",
       "        2, 25,  4,  4,  2, 25,  4, 25, 25, 25,  2,  2, 10,  2, 10, 10,  2,\n",
       "       10, 25,  4,  2,  2,  4,  2, 25,  2, 10, 10, 10,  2, 25,  2, 25,  4,\n",
       "       10,  4,  4, 10, 10,  2, 10,  4,  2,  2, 25, 25,  2, 10, 25, 10, 25,\n",
       "       10,  2, 10, 10, 10, 25, 25, 10,  4, 10, 25,  2, 10,  2, 10,  4, 25,\n",
       "       25, 25, 25,  2,  4, 10,  2,  2, 10,  4,  2, 25, 10, 25,  4, 10,  4,\n",
       "       25, 10])"
      ]
     },
     "execution_count": 51,
     "metadata": {},
     "output_type": "execute_result"
    }
   ],
   "source": [
    "y_test"
   ]
  },
  {
   "cell_type": "code",
   "execution_count": 63,
   "metadata": {},
   "outputs": [],
   "source": [
    "def preds_to_classes(pred_array):\n",
    "    pred_array[pred_array==2]=10\n",
    "    pred_array[pred_array==0]=2\n",
    "    pred_array[pred_array==1]=4\n",
    "    pred_array[pred_array==3]=25\n",
    "    return pred_array"
   ]
  },
  {
   "cell_type": "code",
   "execution_count": 53,
   "metadata": {},
   "outputs": [
    {
     "data": {
      "text/plain": [
       "array([[62,  0,  0,  0],\n",
       "       [ 0, 60,  0,  0],\n",
       "       [ 0,  0, 60,  0],\n",
       "       [ 0,  0,  0, 58]])"
      ]
     },
     "execution_count": 53,
     "metadata": {},
     "output_type": "execute_result"
    }
   ],
   "source": [
    "from sklearn.metrics import confusion_matrix\n",
    "confusion_matrix(y_test, preds_classes)"
   ]
  },
  {
   "cell_type": "code",
   "execution_count": 61,
   "metadata": {},
   "outputs": [],
   "source": [
    "preds_unet = model.predict(X_pred_cut)"
   ]
  },
  {
   "cell_type": "code",
   "execution_count": 62,
   "metadata": {},
   "outputs": [],
   "source": [
    "preds_classes_unet_masks = np.argmax(preds_unet, axis=-1)"
   ]
  },
  {
   "cell_type": "code",
   "execution_count": 64,
   "metadata": {},
   "outputs": [],
   "source": [
    "unet_classes_predicted = preds_to_classes(preds_classes_unet_masks)"
   ]
  },
  {
   "cell_type": "code",
   "execution_count": 65,
   "metadata": {},
   "outputs": [
    {
     "data": {
      "text/plain": [
       "array([[62,  0,  0,  0],\n",
       "       [ 0, 60,  0,  0],\n",
       "       [ 0,  0, 60,  0],\n",
       "       [ 0,  0,  0, 58]])"
      ]
     },
     "execution_count": 65,
     "metadata": {},
     "output_type": "execute_result"
    }
   ],
   "source": [
    "confusion_matrix(y_test, unet_classes_predicted)"
   ]
  },
  {
   "cell_type": "code",
   "execution_count": null,
   "metadata": {},
   "outputs": [],
   "source": []
  }
 ],
 "metadata": {
  "kernelspec": {
   "display_name": "Python 3",
   "language": "python",
   "name": "python3"
  },
  "language_info": {
   "codemirror_mode": {
    "name": "ipython",
    "version": 3
   },
   "file_extension": ".py",
   "mimetype": "text/x-python",
   "name": "python",
   "nbconvert_exporter": "python",
   "pygments_lexer": "ipython3",
   "version": "3.6.7"
  }
 },
 "nbformat": 4,
 "nbformat_minor": 2
}
