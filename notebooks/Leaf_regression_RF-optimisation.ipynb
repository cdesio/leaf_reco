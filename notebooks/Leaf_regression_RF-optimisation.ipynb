{
 "cells": [
  {
   "cell_type": "code",
   "execution_count": 2,
   "metadata": {},
   "outputs": [],
   "source": [
    "import numpy as np\n",
    "import matplotlib.pyplot as plt\n",
    "from os import path as p\n",
    "import os\n",
    "from sklearn.metrics import mean_squared_error"
   ]
  },
  {
   "cell_type": "code",
   "execution_count": 3,
   "metadata": {},
   "outputs": [],
   "source": [
    "data_dir = '/storage/yw18581/data/'\n",
    "data_folder = os.path.join(data_dir, 'train_validation_test')"
   ]
  },
  {
   "cell_type": "code",
   "execution_count": 4,
   "metadata": {},
   "outputs": [],
   "source": [
    "X_train = np.load(os.path.join(data_folder, 'Xy_train_dist.npz'))[\"y\"]\n",
    "y_train = np.load(os.path.join(data_folder, 'Xy_train_dist.npz'))[\"dist\"]"
   ]
  },
  {
   "cell_type": "code",
   "execution_count": 5,
   "metadata": {},
   "outputs": [],
   "source": [
    "X_val = np.load(os.path.join(data_folder,'Xy_val_dist.npz'))[\"y\"]\n",
    "y_val = np.load(os.path.join(data_folder, 'Xy_val_dist.npz'))[\"dist\"]"
   ]
  },
  {
   "cell_type": "code",
   "execution_count": 6,
   "metadata": {},
   "outputs": [],
   "source": [
    "X_test = np.load(os.path.join(data_folder, 'Xy_test_dist.npz'))[\"y\"]\n",
    "y_test = np.load(os.path.join(data_folder, 'Xy_test_dist.npz'))[\"dist\"]"
   ]
  },
  {
   "cell_type": "code",
   "execution_count": 7,
   "metadata": {},
   "outputs": [],
   "source": [
    "X_pred = np.load(os.path.join(data_dir, 'trained_models/UNet_training_generator_1500epochs/Xy_test_predicted_UNet.npz'))['y']\n",
    "y_pred = np.load(os.path.join(data_dir, 'trained_models/UNet_training_generator_1500epochs/Xy_test_predicted_UNet.npz'))['dist']"
   ]
  },
  {
   "cell_type": "code",
   "execution_count": 8,
   "metadata": {},
   "outputs": [],
   "source": [
    "def cut_X(arr, reshape = None):\n",
    "    x_cut = arr[:,960:1300,600:]\n",
    "    if reshape:\n",
    "        if len(x_cut.shape)>3:\n",
    "            x_cut = x_cut[...,0]\n",
    "            x_cut_out = x_cut.reshape(x_cut.shape[0],x_cut.shape[1]*x_cut.shape[2])\n",
    "    else:\n",
    "        x_cut_out = x_cut\n",
    "    return x_cut_out"
   ]
  },
  {
   "cell_type": "code",
   "execution_count": 9,
   "metadata": {},
   "outputs": [],
   "source": [
    "def reshape_RF(arr):\n",
    "    arr_RF = arr.reshape((arr.shape[0], arr.shape[1]*arr.shape[2]))\n",
    "    return arr_RF"
   ]
  },
  {
   "cell_type": "code",
   "execution_count": 10,
   "metadata": {},
   "outputs": [],
   "source": [
    "X_train_cut = cut_X(X_train)"
   ]
  },
  {
   "cell_type": "code",
   "execution_count": 11,
   "metadata": {},
   "outputs": [],
   "source": [
    "X_val_cut = cut_X(X_val)"
   ]
  },
  {
   "cell_type": "code",
   "execution_count": 12,
   "metadata": {},
   "outputs": [],
   "source": [
    "X_test_cut = cut_X(X_test)"
   ]
  },
  {
   "cell_type": "code",
   "execution_count": 13,
   "metadata": {},
   "outputs": [],
   "source": [
    "X_pred_cut = cut_X(X_pred)"
   ]
  },
  {
   "cell_type": "code",
   "execution_count": 59,
   "metadata": {},
   "outputs": [],
   "source": [
    "X_train_RF = reshape_RF(X_train_cut)\n",
    "X_val_RF = reshape_RF(X_val_cut)\n",
    "X_test_RF = reshape_RF(X_test_cut)"
   ]
  },
  {
   "cell_type": "code",
   "execution_count": 15,
   "metadata": {},
   "outputs": [],
   "source": [
    "N_EPOCHS = 30\n",
    "BATCH_SIZE = 8\n",
    "\n",
    "CHECKPOINT_FOLDER_PATH = p.join(data_dir, 'trained_models')\n",
    "TASK_NAME = 'Leaf_position_regression'\n",
    "TASK_FOLDER_PATH = p.join(CHECKPOINT_FOLDER_PATH, TASK_NAME)\n",
    "\n",
    "if not p.exists(TASK_FOLDER_PATH):\n",
    "    os.makedirs(TASK_FOLDER_PATH)"
   ]
  },
  {
   "cell_type": "markdown",
   "metadata": {},
   "source": [
    "## Random Forest Regressor"
   ]
  },
  {
   "cell_type": "code",
   "execution_count": 16,
   "metadata": {},
   "outputs": [],
   "source": [
    "from sklearn.ensemble import RandomForestRegressor\n",
    "from sklearn.metrics import mean_squared_error"
   ]
  },
  {
   "cell_type": "code",
   "execution_count": 50,
   "metadata": {},
   "outputs": [],
   "source": [
    "def rf_training(depth, estimators,X,y):\n",
    "    model = RandomForestRegressor(max_depth=depth, n_estimators=estimators, n_jobs=-1,\n",
    "                                 criterion='mse')\n",
    "    model.fit(X,y)\n",
    "    score = model.score(X,y)\n",
    "    print(\"score:{}, depth:{}, estimators:{}\".format(score,depth,estimators))\n",
    "    return model, score"
   ]
  },
  {
   "cell_type": "code",
   "execution_count": 41,
   "metadata": {},
   "outputs": [
    {
     "name": "stdout",
     "output_type": "stream",
     "text": [
      "[  2   4   6   8  10  12  14  16  18  20  22  24  26  28  30  32  34  36\n",
      "  38  40  42  44  46  48  50  52  54  56  58  60  62  64  66  68  70  72\n",
      "  74  76  78  80  82  84  86  88  90  92  94  96  98 100]\n"
     ]
    }
   ],
   "source": [
    "estimators = np.arange(2,102,2)\n",
    "print(estimators)"
   ]
  },
  {
   "cell_type": "code",
   "execution_count": 39,
   "metadata": {},
   "outputs": [
    {
     "data": {
      "text/plain": [
       "array([ 1,  2,  3,  4,  5,  6,  7,  8,  9, 10])"
      ]
     },
     "execution_count": 39,
     "metadata": {},
     "output_type": "execute_result"
    }
   ],
   "source": [
    "depths = np.arange(1,11)\n",
    "depths"
   ]
  },
  {
   "cell_type": "code",
   "execution_count": 70,
   "metadata": {},
   "outputs": [],
   "source": [
    "from tqdm import tqdm\n",
    "from sklearn.externals import joblib"
   ]
  },
  {
   "cell_type": "code",
   "execution_count": 68,
   "metadata": {},
   "outputs": [
    {
     "data": {
      "text/plain": [
       "'leaf_regression_RF_72est_1depth.pkl'"
      ]
     },
     "execution_count": 68,
     "metadata": {},
     "output_type": "execute_result"
    }
   ],
   "source": [
    "depths"
   ]
  },
  {
   "cell_type": "code",
   "execution_count": null,
   "metadata": {},
   "outputs": [
    {
     "name": "stderr",
     "output_type": "stream",
     "text": [
      "  0%|          | 0/9 [00:00<?, ?it/s]\n",
      "  0%|          | 0/50 [00:00<?, ?it/s]\u001b[A\n",
      "  2%|▏         | 1/50 [00:05<04:14,  5.19s/it]\u001b[A"
     ]
    },
    {
     "name": "stdout",
     "output_type": "stream",
     "text": [
      "score:0.993564267809044, depth:2, estimators:2\n",
      "leaf_regression_RF_2est_2depth.pkl\n"
     ]
    },
    {
     "name": "stderr",
     "output_type": "stream",
     "text": [
      "\n",
      "  4%|▍         | 2/50 [00:12<04:33,  5.69s/it]\u001b[A"
     ]
    },
    {
     "name": "stdout",
     "output_type": "stream",
     "text": [
      "score:0.9928417499426078, depth:2, estimators:4\n",
      "leaf_regression_RF_4est_2depth.pkl\n"
     ]
    },
    {
     "name": "stderr",
     "output_type": "stream",
     "text": [
      "\n",
      "  6%|▌         | 3/50 [00:19<04:52,  6.23s/it]\u001b[A"
     ]
    },
    {
     "name": "stdout",
     "output_type": "stream",
     "text": [
      "score:0.9934855757673752, depth:2, estimators:6\n",
      "leaf_regression_RF_6est_2depth.pkl\n"
     ]
    },
    {
     "name": "stderr",
     "output_type": "stream",
     "text": [
      "\n",
      "  8%|▊         | 4/50 [00:30<05:50,  7.63s/it]\u001b[A"
     ]
    },
    {
     "name": "stdout",
     "output_type": "stream",
     "text": [
      "score:0.9934442293571515, depth:2, estimators:8\n",
      "leaf_regression_RF_8est_2depth.pkl\n"
     ]
    },
    {
     "name": "stderr",
     "output_type": "stream",
     "text": [
      "\n",
      " 10%|█         | 5/50 [00:42<06:49,  9.10s/it]\u001b[A"
     ]
    },
    {
     "name": "stdout",
     "output_type": "stream",
     "text": [
      "score:0.9935826491331712, depth:2, estimators:10\n",
      "leaf_regression_RF_10est_2depth.pkl\n"
     ]
    },
    {
     "name": "stderr",
     "output_type": "stream",
     "text": [
      "\n",
      " 12%|█▏        | 6/50 [00:56<07:37, 10.40s/it]\u001b[A"
     ]
    },
    {
     "name": "stdout",
     "output_type": "stream",
     "text": [
      "score:0.9935678906914366, depth:2, estimators:12\n",
      "leaf_regression_RF_12est_2depth.pkl\n"
     ]
    },
    {
     "name": "stderr",
     "output_type": "stream",
     "text": [
      "\n",
      " 14%|█▍        | 7/50 [01:12<08:42, 12.14s/it]\u001b[A"
     ]
    },
    {
     "name": "stdout",
     "output_type": "stream",
     "text": [
      "score:0.9935415174184626, depth:2, estimators:14\n",
      "leaf_regression_RF_14est_2depth.pkl\n"
     ]
    },
    {
     "name": "stderr",
     "output_type": "stream",
     "text": [
      "\n",
      " 16%|█▌        | 8/50 [01:30<09:45, 13.94s/it]\u001b[A"
     ]
    },
    {
     "name": "stdout",
     "output_type": "stream",
     "text": [
      "score:0.9935694566191753, depth:2, estimators:16\n",
      "leaf_regression_RF_16est_2depth.pkl\n"
     ]
    },
    {
     "name": "stderr",
     "output_type": "stream",
     "text": [
      "\n",
      " 18%|█▊        | 9/50 [01:49<10:31, 15.40s/it]\u001b[A"
     ]
    },
    {
     "name": "stdout",
     "output_type": "stream",
     "text": [
      "score:0.9936077027624916, depth:2, estimators:18\n",
      "leaf_regression_RF_18est_2depth.pkl\n"
     ]
    },
    {
     "name": "stderr",
     "output_type": "stream",
     "text": [
      "\n",
      " 20%|██        | 10/50 [02:11<11:33, 17.34s/it]\u001b[A"
     ]
    },
    {
     "name": "stdout",
     "output_type": "stream",
     "text": [
      "score:0.9936313004529258, depth:2, estimators:20\n",
      "leaf_regression_RF_20est_2depth.pkl\n"
     ]
    },
    {
     "name": "stderr",
     "output_type": "stream",
     "text": [
      "\n",
      " 22%|██▏       | 11/50 [02:35<12:32, 19.29s/it]\u001b[A"
     ]
    },
    {
     "name": "stdout",
     "output_type": "stream",
     "text": [
      "score:0.9936134728930153, depth:2, estimators:22\n",
      "leaf_regression_RF_22est_2depth.pkl\n"
     ]
    },
    {
     "name": "stderr",
     "output_type": "stream",
     "text": [
      "\n",
      " 24%|██▍       | 12/50 [03:00<13:16, 20.96s/it]\u001b[A"
     ]
    },
    {
     "name": "stdout",
     "output_type": "stream",
     "text": [
      "score:0.9936627585723954, depth:2, estimators:24\n",
      "leaf_regression_RF_24est_2depth.pkl\n"
     ]
    },
    {
     "name": "stderr",
     "output_type": "stream",
     "text": [
      "\n",
      " 26%|██▌       | 13/50 [03:27<14:06, 22.89s/it]\u001b[A"
     ]
    },
    {
     "name": "stdout",
     "output_type": "stream",
     "text": [
      "score:0.9936553926591423, depth:2, estimators:26\n",
      "leaf_regression_RF_26est_2depth.pkl\n"
     ]
    },
    {
     "name": "stderr",
     "output_type": "stream",
     "text": [
      "\n",
      " 28%|██▊       | 14/50 [03:57<14:59, 24.98s/it]\u001b[A"
     ]
    },
    {
     "name": "stdout",
     "output_type": "stream",
     "text": [
      "score:0.9936479084415936, depth:2, estimators:28\n",
      "leaf_regression_RF_28est_2depth.pkl\n"
     ]
    },
    {
     "name": "stderr",
     "output_type": "stream",
     "text": [
      "\n",
      " 30%|███       | 15/50 [04:27<15:32, 26.64s/it]\u001b[A"
     ]
    },
    {
     "name": "stdout",
     "output_type": "stream",
     "text": [
      "score:0.993687994713338, depth:2, estimators:30\n",
      "leaf_regression_RF_30est_2depth.pkl\n"
     ]
    },
    {
     "name": "stderr",
     "output_type": "stream",
     "text": [
      "\n",
      " 32%|███▏      | 16/50 [05:02<16:27, 29.06s/it]\u001b[A"
     ]
    },
    {
     "name": "stdout",
     "output_type": "stream",
     "text": [
      "score:0.9936426002986869, depth:2, estimators:32\n",
      "leaf_regression_RF_32est_2depth.pkl\n"
     ]
    },
    {
     "name": "stderr",
     "output_type": "stream",
     "text": [
      "\n",
      " 34%|███▍      | 17/50 [05:37<16:58, 30.87s/it]\u001b[A"
     ]
    },
    {
     "name": "stdout",
     "output_type": "stream",
     "text": [
      "score:0.993669139634532, depth:2, estimators:34\n",
      "leaf_regression_RF_34est_2depth.pkl\n"
     ]
    },
    {
     "name": "stderr",
     "output_type": "stream",
     "text": [
      "\n",
      " 36%|███▌      | 18/50 [06:15<17:38, 33.08s/it]\u001b[A"
     ]
    },
    {
     "name": "stdout",
     "output_type": "stream",
     "text": [
      "score:0.9936763189818013, depth:2, estimators:36\n",
      "leaf_regression_RF_36est_2depth.pkl\n"
     ]
    },
    {
     "name": "stderr",
     "output_type": "stream",
     "text": [
      "\n",
      " 38%|███▊      | 19/50 [06:59<18:44, 36.27s/it]\u001b[A"
     ]
    },
    {
     "name": "stdout",
     "output_type": "stream",
     "text": [
      "score:0.993576577311269, depth:2, estimators:38\n",
      "leaf_regression_RF_38est_2depth.pkl\n"
     ]
    },
    {
     "name": "stderr",
     "output_type": "stream",
     "text": [
      "\n",
      " 40%|████      | 20/50 [07:44<19:26, 38.88s/it]\u001b[A"
     ]
    },
    {
     "name": "stdout",
     "output_type": "stream",
     "text": [
      "score:0.9937011974092779, depth:2, estimators:40\n",
      "leaf_regression_RF_40est_2depth.pkl\n"
     ]
    },
    {
     "name": "stderr",
     "output_type": "stream",
     "text": [
      "\n",
      " 42%|████▏     | 21/50 [08:32<20:07, 41.64s/it]\u001b[A"
     ]
    },
    {
     "name": "stdout",
     "output_type": "stream",
     "text": [
      "score:0.9936913716310402, depth:2, estimators:42\n",
      "leaf_regression_RF_42est_2depth.pkl\n"
     ]
    },
    {
     "name": "stderr",
     "output_type": "stream",
     "text": [
      "\n",
      " 44%|████▍     | 22/50 [09:19<20:05, 43.05s/it]\u001b[A"
     ]
    },
    {
     "name": "stdout",
     "output_type": "stream",
     "text": [
      "score:0.9936540060354597, depth:2, estimators:44\n",
      "leaf_regression_RF_44est_2depth.pkl\n"
     ]
    },
    {
     "name": "stderr",
     "output_type": "stream",
     "text": [
      "\n",
      " 46%|████▌     | 23/50 [10:05<19:46, 43.94s/it]\u001b[A"
     ]
    },
    {
     "name": "stdout",
     "output_type": "stream",
     "text": [
      "score:0.993688919830399, depth:2, estimators:46\n",
      "leaf_regression_RF_46est_2depth.pkl\n"
     ]
    },
    {
     "name": "stderr",
     "output_type": "stream",
     "text": [
      "\n",
      " 48%|████▊     | 24/50 [10:52<19:33, 45.15s/it]\u001b[A"
     ]
    },
    {
     "name": "stdout",
     "output_type": "stream",
     "text": [
      "score:0.9937068978475003, depth:2, estimators:48\n",
      "leaf_regression_RF_48est_2depth.pkl\n"
     ]
    },
    {
     "name": "stderr",
     "output_type": "stream",
     "text": [
      "\n",
      " 50%|█████     | 25/50 [11:43<19:27, 46.72s/it]\u001b[A"
     ]
    },
    {
     "name": "stdout",
     "output_type": "stream",
     "text": [
      "score:0.9936884963281422, depth:2, estimators:50\n",
      "leaf_regression_RF_50est_2depth.pkl\n"
     ]
    },
    {
     "name": "stderr",
     "output_type": "stream",
     "text": [
      "\n",
      " 52%|█████▏    | 26/50 [12:35<19:17, 48.23s/it]\u001b[A"
     ]
    },
    {
     "name": "stdout",
     "output_type": "stream",
     "text": [
      "score:0.993686109993086, depth:2, estimators:52\n",
      "leaf_regression_RF_52est_2depth.pkl\n"
     ]
    }
   ],
   "source": [
    "scores = []\n",
    "for d in tqdm(depths[1:]):\n",
    "    for est in tqdm(estimators):\n",
    "        model, score = rf_training(d,est, X_train_RF, y_train)\n",
    "        scores.append((score, d, est))\n",
    "        filename = os.path.join(TASK_FOLDER_PATH,'leaf_regression_RF_{}est_{}depth.pkl'.format(est, d))\n",
    "        print(filename.split('/')[-1])\n",
    "        _ = joblib.dump(model, filename, compress=9)"
   ]
  },
  {
   "cell_type": "code",
   "execution_count": null,
   "metadata": {},
   "outputs": [],
   "source": [
    "rf1 = RandomForestRegressor(max_depth=10, n_estimators=100, n_jobs=-1, \n",
    "                              criterion='mse'  # default\n",
    "                             )\n",
    "rf1.fit(X_train_RF, y_train)"
   ]
  },
  {
   "cell_type": "code",
   "execution_count": null,
   "metadata": {},
   "outputs": [],
   "source": [
    "# Training Performance\n",
    "rf1.score(X_train_RF, y_train)  # will calculate MSE by default"
   ]
  },
  {
   "cell_type": "code",
   "execution_count": null,
   "metadata": {},
   "outputs": [],
   "source": [
    "preds = rf1.predict(X_test_cut.reshape(240, 340*800))"
   ]
  },
  {
   "cell_type": "code",
   "execution_count": 25,
   "metadata": {},
   "outputs": [
    {
     "data": {
      "text/plain": [
       "array([25. , 10. ,  2. ,  4. ,  2. , 25. ,  3.8, 25. ,  4. , 10. , 10. ,\n",
       "        2. ,  2. , 10. ,  2. ,  2. ,  4. , 10. , 10. ,  4. ,  4. , 10. ,\n",
       "       10. ,  4. ,  2. ,  2. , 10. ,  4. ,  4. ,  4. ,  3.8, 10. , 10. ,\n",
       "       10. ,  4. ,  4. ,  4. ,  2. ,  3.8, 10. , 25. ,  2. , 23.5,  4. ,\n",
       "       25. ,  3.6,  4. ,  2. ,  2. ,  2. , 10. , 25. ,  4. ,  2. , 25. ,\n",
       "        4. , 25. , 25. , 25. ,  4. ,  4. ,  2. ,  2. ,  2. ,  2. , 25. ,\n",
       "        2. ,  4. ,  4. ,  3.6,  4. ,  2. , 25. ,  2. ,  2. ,  4. ,  2. ,\n",
       "        2. , 25. , 10. , 25. ,  2. , 10. ,  2. ,  4. , 25. , 25. ,  2. ,\n",
       "       25. , 10. ,  4. ,  3.8,  2. ,  4. , 25. , 10. ,  4. , 25. ,  2. ,\n",
       "        2. ,  4. ,  2. , 10. ,  2. , 10. , 10. , 25. , 25. , 25. , 25. ,\n",
       "        4. ,  9.4,  2. , 25. , 10. , 25. ,  2. ,  2. , 10. ,  2. ,  4. ,\n",
       "       25. , 25. , 25. ,  4. , 25. ,  3.6,  2. , 10. , 10. ,  2. , 25. ,\n",
       "        4. ,  2. , 25. , 10. ,  7.6,  4. ,  4. , 25. , 25. , 10. ,  4. ,\n",
       "       10. , 10. ,  4. , 10. , 10. ,  4. ,  4. , 23.5,  4. , 10. ,  2. ,\n",
       "       25. ,  4. ,  4. ,  2. , 25. ,  4. , 25. , 25. , 25. ,  2. ,  2. ,\n",
       "       10. ,  2. , 10. , 10. ,  2. , 10. , 25. ,  4. ,  2. ,  2. ,  4. ,\n",
       "        2. , 25. ,  2. ,  9.4, 10. , 10. ,  2. , 25. ,  2. , 25. ,  4. ,\n",
       "        9.4,  4. ,  4. , 10. , 10. ,  2. , 10. ,  4. ,  2. ,  2. , 25. ,\n",
       "       25. ,  2. ,  9.4, 25. , 10. , 25. , 10. ,  2. , 10. , 10. , 10. ,\n",
       "       25. , 25. , 10. ,  4. ,  8.8, 25. ,  2. , 10. ,  2. , 10. ,  4. ,\n",
       "       25. , 25. , 25. , 25. ,  2. ,  4. , 10. ,  2. ,  2. , 10. ,  4. ,\n",
       "        2. , 25. , 10. , 25. ,  4. , 10. ,  4. , 25. ,  9.4])"
      ]
     },
     "execution_count": 25,
     "metadata": {},
     "output_type": "execute_result"
    }
   ],
   "source": [
    "preds"
   ]
  },
  {
   "cell_type": "code",
   "execution_count": null,
   "metadata": {},
   "outputs": [],
   "source": [
    "mean_squared_error(y_test, preds)"
   ]
  },
  {
   "cell_type": "code",
   "execution_count": 48,
   "metadata": {},
   "outputs": [],
   "source": [
    "from sklearn.externals import joblib"
   ]
  },
  {
   "cell_type": "code",
   "execution_count": 31,
   "metadata": {},
   "outputs": [],
   "source": [
    "filename = os.path.join(TASK_FOLDER_PATH,'leaf_regression_RF_10est_10depth.pkl')\n",
    "_ = joblib.dump(rf1, filename, compress=9)"
   ]
  },
  {
   "cell_type": "code",
   "execution_count": 53,
   "metadata": {},
   "outputs": [],
   "source": [
    "filename = os.path.join(TASK_FOLDER_PATH,'leaf_regression_RF_10est_10depth.pkl')"
   ]
  },
  {
   "cell_type": "code",
   "execution_count": 55,
   "metadata": {},
   "outputs": [],
   "source": [
    "mod = joblib.load(filename)"
   ]
  },
  {
   "cell_type": "code",
   "execution_count": 60,
   "metadata": {},
   "outputs": [
    {
     "data": {
      "text/plain": [
       "array([25.        ,  5.32422281,  5.32422281,  5.32422281,  5.32422281,\n",
       "       25.        ,  5.32422281, 25.        ,  5.32422281,  5.32422281,\n",
       "        5.32422281,  5.32422281,  5.32422281,  5.32422281,  5.32422281,\n",
       "        5.32422281,  5.32422281,  5.32422281,  5.32422281,  5.32422281,\n",
       "        5.32422281,  5.32422281,  5.32422281,  5.32422281,  5.32422281,\n",
       "        5.32422281,  5.32422281,  5.32422281,  5.32422281,  5.32422281,\n",
       "        5.32422281,  5.32422281,  5.32422281,  5.32422281,  5.32422281,\n",
       "        5.32422281,  5.32422281,  5.32422281,  5.32422281,  5.32422281,\n",
       "       25.        ,  5.32422281, 25.        ,  5.32422281, 25.        ,\n",
       "        5.32422281,  5.32422281,  5.32422281,  5.32422281,  5.32422281,\n",
       "        5.32422281, 25.        ,  5.32422281,  5.32422281, 25.        ,\n",
       "        5.32422281, 25.        , 25.        , 25.        ,  5.32422281,\n",
       "        5.32422281,  5.32422281,  5.32422281,  5.32422281,  5.32422281,\n",
       "       25.        ,  5.32422281,  5.32422281,  5.32422281,  5.32422281,\n",
       "        5.32422281,  5.32422281, 25.        ,  5.32422281,  5.32422281,\n",
       "        5.32422281,  5.32422281,  5.32422281, 25.        ,  5.32422281,\n",
       "       25.        ,  5.32422281,  5.32422281,  5.32422281,  5.32422281,\n",
       "       25.        , 25.        ,  5.32422281, 25.        ,  5.32422281,\n",
       "        5.32422281,  5.32422281,  5.32422281,  5.32422281, 25.        ,\n",
       "        5.32422281,  5.32422281, 25.        ,  5.32422281,  5.32422281,\n",
       "        5.32422281,  5.32422281,  5.32422281,  5.32422281,  5.32422281,\n",
       "        5.32422281, 25.        , 25.        , 25.        , 25.        ,\n",
       "        5.32422281,  5.32422281,  5.32422281, 25.        ,  5.32422281,\n",
       "       25.        ,  5.32422281,  5.32422281,  5.32422281,  5.32422281,\n",
       "        5.32422281, 25.        , 25.        , 25.        ,  5.32422281,\n",
       "       25.        ,  5.32422281,  5.32422281,  5.32422281,  5.32422281,\n",
       "        5.32422281, 25.        ,  5.32422281,  5.32422281, 25.        ,\n",
       "        5.32422281,  5.32422281,  5.32422281,  5.32422281, 25.        ,\n",
       "       25.        ,  5.32422281,  5.32422281,  5.32422281,  5.32422281,\n",
       "        5.32422281,  5.32422281,  5.32422281,  5.32422281,  5.32422281,\n",
       "       21.7284264 ,  5.32422281,  5.32422281,  5.32422281, 25.        ,\n",
       "        5.32422281,  5.32422281,  5.32422281, 25.        ,  5.32422281,\n",
       "       25.        , 25.        , 25.        ,  5.32422281,  5.32422281,\n",
       "        5.32422281,  5.32422281,  5.32422281,  5.32422281,  5.32422281,\n",
       "        5.32422281, 25.        ,  5.32422281,  5.32422281,  5.32422281,\n",
       "        5.32422281,  5.32422281, 25.        ,  5.32422281,  5.32422281,\n",
       "        5.32422281,  5.32422281,  5.32422281, 25.        ,  5.32422281,\n",
       "       25.        ,  5.32422281,  5.32422281,  5.32422281,  5.32422281,\n",
       "        5.32422281,  5.32422281,  5.32422281,  5.32422281,  5.32422281,\n",
       "        5.32422281,  5.32422281, 25.        , 25.        ,  5.32422281,\n",
       "        5.32422281, 25.        ,  5.32422281, 25.        ,  5.32422281,\n",
       "        5.32422281,  5.32422281,  5.32422281,  5.32422281, 25.        ,\n",
       "       25.        ,  5.32422281,  5.32422281,  5.32422281, 25.        ,\n",
       "        5.32422281,  5.32422281,  5.32422281,  5.32422281,  5.32422281,\n",
       "       25.        , 25.        , 25.        , 25.        ,  5.32422281,\n",
       "        5.32422281,  5.32422281,  5.32422281,  5.32422281,  5.32422281,\n",
       "        5.32422281,  5.32422281, 25.        ,  5.32422281, 25.        ,\n",
       "        5.32422281,  5.32422281,  5.32422281, 25.        ,  5.32422281])"
      ]
     },
     "execution_count": 60,
     "metadata": {},
     "output_type": "execute_result"
    }
   ],
   "source": [
    "model.predict(X_test_RF)"
   ]
  },
  {
   "cell_type": "code",
   "execution_count": 76,
   "metadata": {},
   "outputs": [
    {
     "data": {
      "text/plain": [
       "<matplotlib.image.AxesImage at 0x7f6ce4ccaa20>"
      ]
     },
     "execution_count": 76,
     "metadata": {},
     "output_type": "execute_result"
    },
    {
     "data": {
      "image/png": "[encoded data removed]",
      "text/plain": [
       "<Figure size 432x288 with 1 Axes>"
      ]
     },
     "metadata": {
      "needs_background": "light"
     },
     "output_type": "display_data"
    }
   ],
   "source": [
    "plt.imshow(X_test_cut[...,0][0])"
   ]
  },
  {
   "cell_type": "code",
   "execution_count": 83,
   "metadata": {},
   "outputs": [],
   "source": [
    "XX_test = np.load(os.path.join(data_folder, 'Xy_test_dist.npz'))[\"x\"]"
   ]
  },
  {
   "cell_type": "code",
   "execution_count": 84,
   "metadata": {},
   "outputs": [],
   "source": [
    "XX_test_cut = cut_X(XX_test)"
   ]
  },
  {
   "cell_type": "code",
   "execution_count": 85,
   "metadata": {},
   "outputs": [
    {
     "data": {
      "text/plain": [
       "<matplotlib.image.AxesImage at 0x7f6ce4812ef0>"
      ]
     },
     "execution_count": 85,
     "metadata": {},
     "output_type": "execute_result"
    },
    {
     "data": {
      "image/png": "[encoded data removed]",
      "text/plain": [
       "<Figure size 432x288 with 1 Axes>"
      ]
     },
     "metadata": {
      "needs_background": "light"
     },
     "output_type": "display_data"
    }
   ],
   "source": [
    "plt.imshow(XX_test_cut[...,0][0])"
   ]
  },
  {
   "cell_type": "code",
   "execution_count": 95,
   "metadata": {},
   "outputs": [],
   "source": [
    "XX_train_RF = reshape_RF(XX_train_cut)"
   ]
  },
  {
   "cell_type": "code",
   "execution_count": 86,
   "metadata": {},
   "outputs": [],
   "source": [
    "XX_test_RF = reshape_RF(XX_test_cut)"
   ]
  },
  {
   "cell_type": "code",
   "execution_count": 89,
   "metadata": {},
   "outputs": [],
   "source": [
    "model = joblib.load(\"/storage/yw18581/data/trained_models/Leaf_position_regression/leaf_regression_RF_30est_8depth.pkl\")"
   ]
  },
  {
   "cell_type": "code",
   "execution_count": 91,
   "metadata": {},
   "outputs": [
    {
     "data": {
      "text/plain": [
       "345.90203240740743"
      ]
     },
     "execution_count": 91,
     "metadata": {},
     "output_type": "execute_result"
    }
   ],
   "source": [
    "preds = model.predict(XX_test_RF)\n",
    "mean_squared_error(y_test, preds)"
   ]
  },
  {
   "cell_type": "code",
   "execution_count": 92,
   "metadata": {},
   "outputs": [],
   "source": [
    "model2 = RandomForestRegressor(max_depth=8, n_estimators=30, n_jobs=-1,\n",
    "                                 criterion='mse')"
   ]
  },
  {
   "cell_type": "code",
   "execution_count": 96,
   "metadata": {},
   "outputs": [
    {
     "data": {
      "text/plain": [
       "RandomForestRegressor(bootstrap=True, criterion='mse', max_depth=8,\n",
       "           max_features='auto', max_leaf_nodes=None,\n",
       "           min_impurity_decrease=0.0, min_impurity_split=None,\n",
       "           min_samples_leaf=1, min_samples_split=2,\n",
       "           min_weight_fraction_leaf=0.0, n_estimators=30, n_jobs=-1,\n",
       "           oob_score=False, random_state=None, verbose=0, warm_start=False)"
      ]
     },
     "execution_count": 96,
     "metadata": {},
     "output_type": "execute_result"
    }
   ],
   "source": [
    "model2.fit(XX_train_RF, y_train)"
   ]
  },
  {
   "cell_type": "code",
   "execution_count": 97,
   "metadata": {},
   "outputs": [
    {
     "data": {
      "text/plain": [
       "<bound method RegressorMixin.score of RandomForestRegressor(bootstrap=True, criterion='mse', max_depth=8,\n",
       "           max_features='auto', max_leaf_nodes=None,\n",
       "           min_impurity_decrease=0.0, min_impurity_split=None,\n",
       "           min_samples_leaf=1, min_samples_split=2,\n",
       "           min_weight_fraction_leaf=0.0, n_estimators=30, n_jobs=-1,\n",
       "           oob_score=False, random_state=None, verbose=0, warm_start=False)>"
      ]
     },
     "execution_count": 97,
     "metadata": {},
     "output_type": "execute_result"
    }
   ],
   "source": [
    "model2.score"
   ]
  },
  {
   "cell_type": "code",
   "execution_count": 98,
   "metadata": {},
   "outputs": [
    {
     "data": {
      "text/plain": [
       "array([ 8.23333333, 22.26666667, 24.5       , 23.5       , 25.        ,\n",
       "        8.96666667, 24.5       ,  5.66666667, 24.        , 24.23333333,\n",
       "       24.5       , 25.        , 24.5       , 24.23333333, 24.5       ,\n",
       "       24.        , 23.73333333, 23.53333333, 23.53333333, 24.5       ,\n",
       "       24.5       , 22.76666667, 22.26666667, 25.        , 25.        ,\n",
       "       24.5       , 22.46666667, 24.5       , 24.5       , 25.        ,\n",
       "       23.5       , 22.7       , 22.2       , 21.16666667, 24.5       ,\n",
       "       24.        , 24.5       , 25.        , 25.        , 22.96666667,\n",
       "       10.56666667, 25.        ,  9.73333333, 24.3       ,  9.96666667,\n",
       "       23.        , 24.5       , 23.8       , 24.5       , 25.        ,\n",
       "       23.73333333,  8.63333333, 23.5       , 25.        , 10.26666667,\n",
       "       23.8       ,  9.5       ,  8.93333333,  6.36666667, 25.        ,\n",
       "       24.3       , 24.5       , 24.5       , 24.5       , 24.5       ,\n",
       "        7.5       , 24.23333333, 24.5       , 24.5       , 23.73333333,\n",
       "       24.        , 24.3       ,  7.2       , 24.5       , 25.        ,\n",
       "       22.96666667, 23.5       , 24.        ,  6.56666667, 24.23333333,\n",
       "        8.86666667, 24.5       , 24.23333333, 25.        , 24.23333333,\n",
       "        6.96666667,  9.26666667, 24.        ,  8.03333333, 25.        ,\n",
       "       24.5       , 24.5       , 24.        , 23.8       ,  8.46666667,\n",
       "       22.96666667, 23.5       ,  8.23333333, 24.        , 25.        ,\n",
       "       24.5       , 24.5       , 23.46666667, 24.5       , 24.23333333,\n",
       "       21.16666667, 12.63333333,  9.56666667,  7.83333333,  7.33333333,\n",
       "       23.73333333, 23.23333333, 24.        ,  9.36666667, 24.23333333,\n",
       "       11.06666667, 24.5       , 24.5       , 22.7       , 25.        ,\n",
       "       25.        ,  7.66666667,  5.2       ,  8.96666667, 24.5       ,\n",
       "        5.93333333, 24.5       , 24.5       , 23.53333333, 22.96666667,\n",
       "       25.        ,  5.9       , 23.73333333, 23.8       , 10.        ,\n",
       "       24.23333333, 22.46666667, 23.8       , 24.        ,  4.9       ,\n",
       "        4.06666667, 22.7       , 24.5       , 23.03333333, 22.7       ,\n",
       "       23.53333333, 23.53333333, 25.        , 24.5       , 24.5       ,\n",
       "        9.26666667, 24.5       , 25.        , 23.5       ,  8.23333333,\n",
       "       24.        , 24.        , 23.5       , 11.03333333, 25.        ,\n",
       "        6.6       ,  7.26666667,  7.66666667, 24.        , 24.5       ,\n",
       "       22.96666667, 24.5       , 21.43333333, 23.46666667, 25.        ,\n",
       "       23.73333333,  7.13333333, 25.        , 24.        , 23.3       ,\n",
       "       24.        , 24.        ,  9.03333333, 24.5       , 23.73333333,\n",
       "       21.43333333, 22.2       , 25.        ,  7.93333333, 25.        ,\n",
       "        7.9       , 25.        , 25.        , 24.5       , 24.5       ,\n",
       "       23.46666667, 22.96666667, 23.        , 22.2       , 24.5       ,\n",
       "       24.        , 25.        ,  8.03333333,  6.76666667, 23.5       ,\n",
       "       22.        ,  9.2       , 21.93333333,  7.23333333, 24.23333333,\n",
       "       24.5       , 22.        , 21.93333333, 22.53333333,  8.16666667,\n",
       "       11.3       , 24.23333333, 24.5       , 23.03333333, 11.3       ,\n",
       "       24.5       , 23.46666667, 23.5       , 24.5       , 25.        ,\n",
       "       11.1       ,  8.2       ,  5.9       ,  7.13333333, 24.5       ,\n",
       "       23.73333333, 25.        , 24.5       , 24.5       , 23.8       ,\n",
       "       24.        , 25.        ,  6.26666667, 24.23333333,  6.9       ,\n",
       "       25.        , 23.73333333, 24.5       ,  7.03333333, 24.23333333])"
      ]
     },
     "execution_count": 98,
     "metadata": {},
     "output_type": "execute_result"
    }
   ],
   "source": [
    "model.predict(XX_test_RF)"
   ]
  },
  {
   "cell_type": "code",
   "execution_count": 99,
   "metadata": {},
   "outputs": [
    {
     "data": {
      "text/plain": [
       "345.90203240740743"
      ]
     },
     "execution_count": 99,
     "metadata": {},
     "output_type": "execute_result"
    }
   ],
   "source": [
    "preds = model.predict(XX_test_RF)\n",
    "mean_squared_error(y_test, preds)"
   ]
  },
  {
   "cell_type": "code",
   "execution_count": null,
   "metadata": {},
   "outputs": [],
   "source": []
  }
 ],
 "metadata": {
  "kernelspec": {
   "display_name": "Python 3",
   "language": "python",
   "name": "python3"
  },
  "language_info": {
   "codemirror_mode": {
    "name": "ipython",
    "version": 3
   },
   "file_extension": ".py",
   "mimetype": "text/x-python",
   "name": "python",
   "nbconvert_exporter": "python",
   "pygments_lexer": "ipython3",
   "version": "3.6.7"
  }
 },
 "nbformat": 4,
 "nbformat_minor": 2
}
