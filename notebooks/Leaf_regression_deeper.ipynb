{
 "cells": [
  {
   "cell_type": "code",
   "execution_count": 1,
   "metadata": {},
   "outputs": [
    {
     "name": "stdout",
     "output_type": "stream",
     "text": [
      "Thu Mar 14 18:36:27 2019       \n",
      "+-----------------------------------------------------------------------------+\n",
      "| NVIDIA-SMI 410.79       Driver Version: 410.79       CUDA Version: 10.0     |\n",
      "|-------------------------------+----------------------+----------------------+\n",
      "| GPU  Name        Persistence-M| Bus-Id        Disp.A | Volatile Uncorr. ECC |\n",
      "| Fan  Temp  Perf  Pwr:Usage/Cap|         Memory-Usage | GPU-Util  Compute M. |\n",
      "|===============================+======================+======================|\n",
      "|   0  TITAN Xp            Off  | 00000000:01:00.0 Off |                  N/A |\n",
      "| 39%   60C    P0    76W / 250W |      0MiB / 12195MiB |      0%      Default |\n",
      "+-------------------------------+----------------------+----------------------+\n",
      "                                                                               \n",
      "+-----------------------------------------------------------------------------+\n",
      "| Processes:                                                       GPU Memory |\n",
      "|  GPU       PID   Type   Process name                             Usage      |\n",
      "|=============================================================================|\n",
      "|  No running processes found                                                 |\n",
      "+-----------------------------------------------------------------------------+\n"
     ]
    }
   ],
   "source": [
    "!nvidia-smi"
   ]
  },
  {
   "cell_type": "code",
   "execution_count": 2,
   "metadata": {},
   "outputs": [],
   "source": [
    "import numpy as np\n",
    "import matplotlib.pyplot as plt\n",
    "from sklearn.preprocessing import OneHotEncoder\n",
    "import os"
   ]
  },
  {
   "cell_type": "code",
   "execution_count": 3,
   "metadata": {},
   "outputs": [
    {
     "name": "stderr",
     "output_type": "stream",
     "text": [
      "Using TensorFlow backend.\n"
     ]
    }
   ],
   "source": [
    "from keras.layers import Input\n",
    "from keras.layers.core import Dense, Dropout\n",
    "from keras.models import Model\n",
    "from keras.losses import categorical_crossentropy, mse\n",
    "from keras.optimizers import Adadelta, Adam, SGD"
   ]
  },
  {
   "cell_type": "code",
   "execution_count": 4,
   "metadata": {},
   "outputs": [],
   "source": [
    "def plot_history(history, ymin_loss=None, ymax_loss=None, ymin_acc=None, ymax_acc=None):\n",
    "    ymin_loss=np.min(history.history['loss'])\n",
    "    ymax_loss=np.max(history.history['loss'])\n",
    "    f1 = plt.figure()\n",
    "    plt.plot(history.history['loss'],label='training')\n",
    "    plt.plot(history.history['val_loss'],label='validation')\n",
    "    plt.ylim(ymin_loss,ymax_loss)\n",
    "    plt.legend(loc='upper right')\n",
    "    plt.show()\n",
    "    if 'acc' in history.history:\n",
    "        ymin_acc=np.min(history.history['acc'])\n",
    "        ymax_acc=np.max(history.history['acc'])\n",
    "        f2 = plt.figure()\n",
    "        plt.plot(history.history['acc'],label='training')\n",
    "        plt.plot(history.history['val_acc'],label='validation')\n",
    "        plt.ylim(ymin_acc,ymax_acc)\n",
    "        plt.legend(loc='upper right')\n",
    "        plt.show()\n",
    "    return"
   ]
  },
  {
   "cell_type": "code",
   "execution_count": 5,
   "metadata": {},
   "outputs": [],
   "source": [
    "data_dir = '/storage/yw18581/data/'\n",
    "data_folder = os.path.join(data_dir, 'train_validation_test')"
   ]
  },
  {
   "cell_type": "code",
   "execution_count": 6,
   "metadata": {},
   "outputs": [],
   "source": [
    "X_train = np.load(os.path.join(data_folder, 'Xy_train_dist.npz'))[\"y\"]\n",
    "y_train = np.load(os.path.join(data_folder, 'Xy_train_dist.npz'))[\"dist\"]"
   ]
  },
  {
   "cell_type": "code",
   "execution_count": 7,
   "metadata": {},
   "outputs": [],
   "source": [
    "X_val = np.load(os.path.join(data_folder,'Xy_val_dist.npz'))[\"y\"]\n",
    "y_val = np.load(os.path.join(data_folder, 'Xy_val_dist.npz'))[\"dist\"]"
   ]
  },
  {
   "cell_type": "code",
   "execution_count": 8,
   "metadata": {},
   "outputs": [],
   "source": [
    "X_test = np.load(os.path.join(data_folder, 'Xy_test_dist.npz'))[\"y\"]\n",
    "y_test = np.load(os.path.join(data_folder, 'Xy_test_dist.npz'))[\"dist\"]"
   ]
  },
  {
   "cell_type": "code",
   "execution_count": 9,
   "metadata": {},
   "outputs": [],
   "source": [
    "X_pred = np.load(os.path.join(data_dir, 'trained_models/UNet_training_generator_1500epochs/Xy_test_predicted_UNet.npz'))['y']\n",
    "y_pred = np.load(os.path.join(data_dir, 'trained_models/UNet_training_generator_1500epochs/Xy_test_predicted_UNet.npz'))['dist']"
   ]
  },
  {
   "cell_type": "code",
   "execution_count": 10,
   "metadata": {},
   "outputs": [],
   "source": [
    "def cut_X(arr):\n",
    "    x_cut = arr[:,960:1300,600:]\n",
    "    if len(x_cut.shape)>3:\n",
    "        x_cut = x_cut[...,0]\n",
    "    x_cut_out = x_cut.reshape(x_cut.shape[0],x_cut.shape[1]*x_cut.shape[2])\n",
    "    return x_cut_out"
   ]
  },
  {
   "cell_type": "code",
   "execution_count": 11,
   "metadata": {},
   "outputs": [],
   "source": [
    "X_train_cut = cut_X(X_train)"
   ]
  },
  {
   "cell_type": "code",
   "execution_count": 12,
   "metadata": {},
   "outputs": [],
   "source": [
    "X_val_cut = cut_X(X_val)"
   ]
  },
  {
   "cell_type": "code",
   "execution_count": 13,
   "metadata": {},
   "outputs": [],
   "source": [
    "X_test_cut = cut_X(X_test)"
   ]
  },
  {
   "cell_type": "code",
   "execution_count": 14,
   "metadata": {},
   "outputs": [],
   "source": [
    "X_pred_cut = cut_X(X_pred)"
   ]
  },
  {
   "cell_type": "code",
   "execution_count": 15,
   "metadata": {},
   "outputs": [
    {
     "name": "stdout",
     "output_type": "stream",
     "text": [
      "_________________________________________________________________\n",
      "Layer (type)                 Output Shape              Param #   \n",
      "=================================================================\n",
      "input (InputLayer)           (None, 272000)            0         \n",
      "_________________________________________________________________\n",
      "dense_1 (Dense)              (None, 256)               69632256  \n",
      "_________________________________________________________________\n",
      "dropout_1 (Dropout)          (None, 256)               0         \n",
      "_________________________________________________________________\n",
      "dense_2 (Dense)              (None, 128)               32896     \n",
      "_________________________________________________________________\n",
      "dropout_2 (Dropout)          (None, 128)               0         \n",
      "_________________________________________________________________\n",
      "dense_3 (Dense)              (None, 64)                8256      \n",
      "_________________________________________________________________\n",
      "dropout_3 (Dropout)          (None, 64)                0         \n",
      "_________________________________________________________________\n",
      "dense_4 (Dense)              (None, 32)                2080      \n",
      "_________________________________________________________________\n",
      "dropout_4 (Dropout)          (None, 32)                0         \n",
      "_________________________________________________________________\n",
      "dense_5 (Dense)              (None, 16)                528       \n",
      "_________________________________________________________________\n",
      "dropout_5 (Dropout)          (None, 16)                0         \n",
      "_________________________________________________________________\n",
      "dense_6 (Dense)              (None, 8)                 136       \n",
      "_________________________________________________________________\n",
      "dense_7 (Dense)              (None, 1)                 9         \n",
      "=================================================================\n",
      "Total params: 69,676,161\n",
      "Trainable params: 69,676,161\n",
      "Non-trainable params: 0\n",
      "_________________________________________________________________\n"
     ]
    }
   ],
   "source": [
    "def create_model(input_shape):\n",
    "    input_layer = Input(shape=input_shape,name='input')\n",
    "    x = Dense(256, activation='sigmoid')(input_layer)\n",
    "    x = Dropout(0.3)(x)\n",
    "    x = Dense(128, activation ='sigmoid')(x)\n",
    "    x = Dropout(0.3)(x)\n",
    "    x = Dense(64, activation ='sigmoid')(x)\n",
    "    x = Dropout(0.3)(x)\n",
    "    x = Dense(32, activation ='sigmoid')(x)\n",
    "    x = Dropout(0.3)(x)\n",
    "    x = Dense(16, activation ='sigmoid')(x)\n",
    "    x = Dropout(0.3)(x)\n",
    "    x = Dense(8, activation ='sigmoid')(x)\n",
    "    prediction = Dense(1, activation='linear')(x)\n",
    "    model = Model(inputs = input_layer, outputs = prediction)\n",
    "    return model\n",
    "\n",
    "model = create_model(input_shape=(X_train_cut.shape[1],))\n",
    "model.compile(loss='mse',\n",
    "              optimizer=Adadelta())\n",
    "model.summary()"
   ]
  },
  {
   "cell_type": "code",
   "execution_count": 16,
   "metadata": {},
   "outputs": [
    {
     "name": "stdout",
     "output_type": "stream",
     "text": [
      "Train on 768 samples, validate on 192 samples\n",
      "Epoch 1/100\n",
      "768/768 [==============================] - 10s 13ms/step - loss: 151.3826 - val_loss: 137.9329\n",
      "Epoch 2/100\n",
      "768/768 [==============================] - 5s 6ms/step - loss: 123.2935 - val_loss: 119.6120\n",
      "Epoch 3/100\n",
      "768/768 [==============================] - 5s 6ms/step - loss: 109.5196 - val_loss: 108.7214\n",
      "Epoch 4/100\n",
      "768/768 [==============================] - 5s 6ms/step - loss: 100.9989 - val_loss: 101.3399\n",
      "Epoch 5/100\n",
      "768/768 [==============================] - 5s 6ms/step - loss: 95.2931 - val_loss: 96.2151\n",
      "Epoch 6/100\n",
      "768/768 [==============================] - 5s 6ms/step - loss: 91.2147 - val_loss: 92.4647\n",
      "Epoch 7/100\n",
      "768/768 [==============================] - 5s 6ms/step - loss: 88.5018 - val_loss: 89.8993\n",
      "Epoch 8/100\n",
      "768/768 [==============================] - 5s 6ms/step - loss: 86.5577 - val_loss: 88.0056\n",
      "Epoch 9/100\n",
      "768/768 [==============================] - 5s 6ms/step - loss: 85.2090 - val_loss: 86.5042\n",
      "Epoch 10/100\n",
      "768/768 [==============================] - 5s 6ms/step - loss: 84.0535 - val_loss: 85.3514\n",
      "Epoch 11/100\n",
      "768/768 [==============================] - 5s 6ms/step - loss: 83.3403 - val_loss: 84.5273\n",
      "Epoch 12/100\n",
      "768/768 [==============================] - 5s 6ms/step - loss: 82.7759 - val_loss: 83.8777\n",
      "Epoch 13/100\n",
      "768/768 [==============================] - 5s 6ms/step - loss: 82.4079 - val_loss: 83.4321\n",
      "Epoch 14/100\n",
      "768/768 [==============================] - 5s 6ms/step - loss: 82.1112 - val_loss: 83.0769\n",
      "Epoch 15/100\n",
      "768/768 [==============================] - 5s 6ms/step - loss: 81.9148 - val_loss: 82.8025\n",
      "Epoch 16/100\n",
      "768/768 [==============================] - 5s 6ms/step - loss: 81.7640 - val_loss: 82.5935\n",
      "Epoch 17/100\n",
      "768/768 [==============================] - 5s 6ms/step - loss: 81.6460 - val_loss: 82.4429\n",
      "Epoch 18/100\n",
      "768/768 [==============================] - 5s 6ms/step - loss: 81.5945 - val_loss: 82.3109\n",
      "Epoch 19/100\n",
      "768/768 [==============================] - 5s 6ms/step - loss: 81.5337 - val_loss: 82.2176\n",
      "Epoch 20/100\n",
      "768/768 [==============================] - 5s 6ms/step - loss: 81.5232 - val_loss: 82.1524\n",
      "Epoch 21/100\n",
      "768/768 [==============================] - 5s 6ms/step - loss: 81.4789 - val_loss: 82.1006\n",
      "Epoch 22/100\n",
      "768/768 [==============================] - 5s 6ms/step - loss: 81.4891 - val_loss: 82.0532\n",
      "Epoch 23/100\n",
      "768/768 [==============================] - 5s 6ms/step - loss: 81.4270 - val_loss: 82.0226\n",
      "Epoch 24/100\n",
      "768/768 [==============================] - 5s 6ms/step - loss: 81.4863 - val_loss: 81.9939\n",
      "Epoch 25/100\n",
      "768/768 [==============================] - 5s 6ms/step - loss: 81.4582 - val_loss: 81.9702\n",
      "Epoch 26/100\n",
      "768/768 [==============================] - 5s 6ms/step - loss: 81.4446 - val_loss: 81.9468\n",
      "Epoch 27/100\n",
      "768/768 [==============================] - 5s 6ms/step - loss: 81.4214 - val_loss: 81.9327\n",
      "Epoch 28/100\n",
      "768/768 [==============================] - 5s 6ms/step - loss: 81.4193 - val_loss: 81.9227\n",
      "Epoch 29/100\n",
      "768/768 [==============================] - 5s 6ms/step - loss: 81.4048 - val_loss: 81.9144\n",
      "Epoch 30/100\n",
      "768/768 [==============================] - 5s 6ms/step - loss: 81.4580 - val_loss: 81.9092\n",
      "Epoch 31/100\n",
      "768/768 [==============================] - 5s 6ms/step - loss: 81.4465 - val_loss: 81.8889\n",
      "Epoch 32/100\n",
      "768/768 [==============================] - 5s 6ms/step - loss: 81.3909 - val_loss: 81.8784\n",
      "Epoch 33/100\n",
      "768/768 [==============================] - 5s 6ms/step - loss: 81.4868 - val_loss: 81.8725\n",
      "Epoch 34/100\n",
      "768/768 [==============================] - 5s 6ms/step - loss: 81.4281 - val_loss: 81.8693\n",
      "Epoch 35/100\n",
      "768/768 [==============================] - 5s 6ms/step - loss: 81.4098 - val_loss: 81.8702\n",
      "Epoch 36/100\n",
      "768/768 [==============================] - 5s 6ms/step - loss: 81.4077 - val_loss: 81.8639\n",
      "Epoch 37/100\n",
      "768/768 [==============================] - 5s 6ms/step - loss: 81.4657 - val_loss: 81.8698\n",
      "Epoch 38/100\n",
      "768/768 [==============================] - 5s 6ms/step - loss: 81.4362 - val_loss: 81.8727\n",
      "Epoch 39/100\n",
      "768/768 [==============================] - 5s 6ms/step - loss: 81.4271 - val_loss: 81.8643\n",
      "Epoch 40/100\n",
      "768/768 [==============================] - 5s 6ms/step - loss: 81.3977 - val_loss: 81.8600\n",
      "Epoch 41/100\n",
      "768/768 [==============================] - 5s 6ms/step - loss: 81.3694 - val_loss: 81.8609\n",
      "Epoch 42/100\n",
      "768/768 [==============================] - 5s 6ms/step - loss: 81.3819 - val_loss: 81.8567\n",
      "Epoch 43/100\n",
      "768/768 [==============================] - 5s 6ms/step - loss: 81.3890 - val_loss: 81.8592\n",
      "Epoch 44/100\n",
      "768/768 [==============================] - 5s 6ms/step - loss: 81.4604 - val_loss: 81.8577\n",
      "Epoch 45/100\n",
      "768/768 [==============================] - 5s 6ms/step - loss: 81.4877 - val_loss: 81.8649\n",
      "Epoch 46/100\n",
      "768/768 [==============================] - 5s 6ms/step - loss: 81.4650 - val_loss: 81.8598\n",
      "Epoch 47/100\n",
      "768/768 [==============================] - 5s 6ms/step - loss: 81.4666 - val_loss: 81.8591\n",
      "Epoch 48/100\n",
      "768/768 [==============================] - 5s 6ms/step - loss: 81.4717 - val_loss: 81.8510\n",
      "Epoch 49/100\n",
      "768/768 [==============================] - 5s 6ms/step - loss: 81.4668 - val_loss: 81.8472\n",
      "Epoch 50/100\n",
      "768/768 [==============================] - 5s 6ms/step - loss: 81.3472 - val_loss: 81.8510\n",
      "Epoch 51/100\n",
      "768/768 [==============================] - 5s 6ms/step - loss: 81.3840 - val_loss: 81.8498\n",
      "Epoch 52/100\n",
      "768/768 [==============================] - 5s 6ms/step - loss: 81.4672 - val_loss: 81.8531\n",
      "Epoch 53/100\n",
      "768/768 [==============================] - 5s 6ms/step - loss: 81.4304 - val_loss: 81.8525\n",
      "Epoch 54/100\n",
      "768/768 [==============================] - 5s 6ms/step - loss: 81.4795 - val_loss: 81.8505\n",
      "Epoch 55/100\n",
      "768/768 [==============================] - 5s 6ms/step - loss: 81.4437 - val_loss: 81.8529\n",
      "Epoch 56/100\n",
      "768/768 [==============================] - 5s 6ms/step - loss: 81.4216 - val_loss: 81.8481\n",
      "Epoch 57/100\n",
      "768/768 [==============================] - 5s 6ms/step - loss: 81.3819 - val_loss: 81.8467\n",
      "Epoch 58/100\n",
      "768/768 [==============================] - 5s 6ms/step - loss: 81.4483 - val_loss: 81.8533\n",
      "Epoch 59/100\n",
      "768/768 [==============================] - 5s 6ms/step - loss: 81.4506 - val_loss: 81.8536\n",
      "Epoch 60/100\n",
      "768/768 [==============================] - 5s 6ms/step - loss: 81.4494 - val_loss: 81.8526\n",
      "Epoch 61/100\n",
      "768/768 [==============================] - 5s 6ms/step - loss: 81.4743 - val_loss: 81.8547\n",
      "Epoch 62/100\n",
      "768/768 [==============================] - 5s 6ms/step - loss: 81.3397 - val_loss: 81.8560\n",
      "Epoch 63/100\n",
      "768/768 [==============================] - 5s 6ms/step - loss: 81.3672 - val_loss: 81.8501\n",
      "Epoch 64/100\n",
      "768/768 [==============================] - 5s 6ms/step - loss: 81.4036 - val_loss: 81.8552\n",
      "Epoch 65/100\n",
      "768/768 [==============================] - 5s 6ms/step - loss: 81.4722 - val_loss: 81.8542\n",
      "Epoch 66/100\n",
      "768/768 [==============================] - 5s 6ms/step - loss: 81.4847 - val_loss: 81.8559\n",
      "Epoch 67/100\n",
      "768/768 [==============================] - 5s 6ms/step - loss: 81.4917 - val_loss: 81.8547\n",
      "Epoch 68/100\n",
      "768/768 [==============================] - 5s 6ms/step - loss: 81.4622 - val_loss: 81.8478\n",
      "Epoch 69/100\n",
      "768/768 [==============================] - 5s 6ms/step - loss: 81.4121 - val_loss: 81.8445\n",
      "Epoch 70/100\n",
      "768/768 [==============================] - 5s 6ms/step - loss: 81.4340 - val_loss: 81.8476\n",
      "Epoch 71/100\n",
      "768/768 [==============================] - 5s 6ms/step - loss: 81.4727 - val_loss: 81.8459\n",
      "Epoch 72/100\n",
      "768/768 [==============================] - 5s 6ms/step - loss: 81.5096 - val_loss: 81.8415\n",
      "Epoch 73/100\n",
      "768/768 [==============================] - 5s 6ms/step - loss: 81.5254 - val_loss: 81.8414\n",
      "Epoch 74/100\n",
      "768/768 [==============================] - 5s 6ms/step - loss: 81.3380 - val_loss: 81.8421\n",
      "Epoch 75/100\n",
      "768/768 [==============================] - 5s 6ms/step - loss: 81.4462 - val_loss: 81.8481\n",
      "Epoch 76/100\n",
      "768/768 [==============================] - 5s 6ms/step - loss: 81.4138 - val_loss: 81.8415\n",
      "Epoch 77/100\n",
      "768/768 [==============================] - 5s 6ms/step - loss: 81.5184 - val_loss: 81.8403\n",
      "Epoch 78/100\n",
      "768/768 [==============================] - 5s 6ms/step - loss: 81.3968 - val_loss: 81.8391\n",
      "Epoch 79/100\n",
      "768/768 [==============================] - 5s 6ms/step - loss: 81.4965 - val_loss: 81.8373\n",
      "Epoch 80/100\n",
      "768/768 [==============================] - 5s 6ms/step - loss: 81.4337 - val_loss: 81.8379\n",
      "Epoch 81/100\n",
      "768/768 [==============================] - 5s 6ms/step - loss: 81.5312 - val_loss: 81.8365\n",
      "Epoch 82/100\n",
      "768/768 [==============================] - 5s 6ms/step - loss: 81.4273 - val_loss: 81.8366\n",
      "Epoch 83/100\n",
      "768/768 [==============================] - 5s 6ms/step - loss: 81.5708 - val_loss: 81.8323\n",
      "Epoch 84/100\n",
      "768/768 [==============================] - 5s 6ms/step - loss: 81.4130 - val_loss: 81.8372\n",
      "Epoch 85/100\n",
      "768/768 [==============================] - 5s 6ms/step - loss: 81.5171 - val_loss: 81.8374\n",
      "Epoch 86/100\n",
      "768/768 [==============================] - 5s 6ms/step - loss: 81.4959 - val_loss: 81.8353\n",
      "Epoch 87/100\n",
      "768/768 [==============================] - 5s 6ms/step - loss: 81.4074 - val_loss: 81.8356\n",
      "Epoch 88/100\n",
      "768/768 [==============================] - 5s 6ms/step - loss: 81.4070 - val_loss: 81.8388\n",
      "Epoch 89/100\n",
      "768/768 [==============================] - 5s 6ms/step - loss: 81.3689 - val_loss: 81.8437\n",
      "Epoch 90/100\n",
      "768/768 [==============================] - 5s 6ms/step - loss: 81.4439 - val_loss: 81.8496\n",
      "Epoch 91/100\n",
      "768/768 [==============================] - 5s 6ms/step - loss: 81.4148 - val_loss: 81.8530\n",
      "Epoch 92/100\n",
      "768/768 [==============================] - 5s 6ms/step - loss: 81.4472 - val_loss: 81.8555\n",
      "Epoch 93/100\n",
      "768/768 [==============================] - 5s 6ms/step - loss: 81.3864 - val_loss: 81.8635\n",
      "Epoch 94/100\n",
      "768/768 [==============================] - 5s 6ms/step - loss: 81.5037 - val_loss: 81.8629\n",
      "Epoch 95/100\n",
      "768/768 [==============================] - 5s 6ms/step - loss: 81.4136 - val_loss: 81.8616\n",
      "Epoch 96/100\n",
      "768/768 [==============================] - 5s 6ms/step - loss: 81.5418 - val_loss: 81.8545\n",
      "Epoch 97/100\n",
      "768/768 [==============================] - 5s 6ms/step - loss: 81.4817 - val_loss: 81.8504\n",
      "Epoch 98/100\n",
      "768/768 [==============================] - 5s 6ms/step - loss: 81.4565 - val_loss: 81.8493\n",
      "Epoch 99/100\n",
      "768/768 [==============================] - 5s 6ms/step - loss: 81.5271 - val_loss: 81.8460\n",
      "Epoch 100/100\n",
      "768/768 [==============================] - 5s 6ms/step - loss: 81.5305 - val_loss: 81.8468\n"
     ]
    }
   ],
   "source": [
    "history = model.fit(X_train_cut, y_train, validation_data=(X_val_cut, y_val),\n",
    "                    epochs=100, verbose=True, batch_size=8, shuffle=True)"
   ]
  },
  {
   "cell_type": "code",
   "execution_count": 27,
   "metadata": {},
   "outputs": [
    {
     "data": {
      "image/png": "[encoded data removed]",
      "text/plain": [
       "<Figure size 432x288 with 1 Axes>"
      ]
     },
     "metadata": {
      "needs_background": "light"
     },
     "output_type": "display_data"
    }
   ],
   "source": [
    "plot_history(history)"
   ]
  },
  {
   "cell_type": "code",
   "execution_count": null,
   "metadata": {},
   "outputs": [],
   "source": [
    "preds = model.predict(X_test_cut)"
   ]
  },
  {
   "cell_type": "code",
   "execution_count": null,
   "metadata": {},
   "outputs": [],
   "source": [
    "preds_classes = np.argmax(preds, axis=-1)"
   ]
  },
  {
   "cell_type": "code",
   "execution_count": null,
   "metadata": {},
   "outputs": [],
   "source": [
    "preds_classes"
   ]
  },
  {
   "cell_type": "code",
   "execution_count": null,
   "metadata": {},
   "outputs": [],
   "source": [
    "y_test"
   ]
  },
  {
   "cell_type": "code",
   "execution_count": null,
   "metadata": {},
   "outputs": [],
   "source": [
    "def preds_to_classes(pred_array):\n",
    "    pred_array[pred_array==2]=10\n",
    "    pred_array[pred_array==0]=2\n",
    "    pred_array[pred_array==1]=4\n",
    "    pred_array[pred_array==3]=25\n",
    "    return pred_array"
   ]
  },
  {
   "cell_type": "code",
   "execution_count": null,
   "metadata": {},
   "outputs": [],
   "source": [
    "from sklearn.metrics import confusion_matrix\n",
    "confusion_matrix(y_test, preds_classes)"
   ]
  },
  {
   "cell_type": "code",
   "execution_count": null,
   "metadata": {},
   "outputs": [],
   "source": [
    "preds_unet = model.predict(X_pred_cut)"
   ]
  },
  {
   "cell_type": "code",
   "execution_count": null,
   "metadata": {},
   "outputs": [],
   "source": [
    "preds_classes_unet_masks = np.argmax(preds_unet, axis=-1)"
   ]
  },
  {
   "cell_type": "code",
   "execution_count": null,
   "metadata": {},
   "outputs": [],
   "source": [
    "unet_classes_predicted = preds_to_classes(preds_classes_unet_masks)"
   ]
  },
  {
   "cell_type": "code",
   "execution_count": null,
   "metadata": {},
   "outputs": [],
   "source": [
    "confusion_matrix(y_test, unet_classes_predicted)"
   ]
  },
  {
   "cell_type": "code",
   "execution_count": null,
   "metadata": {},
   "outputs": [],
   "source": []
  },
  {
   "cell_type": "code",
   "execution_count": null,
   "metadata": {},
   "outputs": [],
   "source": []
  }
 ],
 "metadata": {
  "kernelspec": {
   "display_name": "Python 3",
   "language": "python",
   "name": "python3"
  },
  "language_info": {
   "codemirror_mode": {
    "name": "ipython",
    "version": 3
   },
   "file_extension": ".py",
   "mimetype": "text/x-python",
   "name": "python",
   "nbconvert_exporter": "python",
   "pygments_lexer": "ipython3",
   "version": "3.6.7"
  }
 },
 "nbformat": 4,
 "nbformat_minor": 2
}
