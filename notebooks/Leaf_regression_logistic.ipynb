{
 "cells": [
  {
   "cell_type": "code",
   "execution_count": 1,
   "metadata": {},
   "outputs": [
    {
     "name": "stdout",
     "output_type": "stream",
     "text": [
      "Mon Mar 25 13:16:26 2019       \n",
      "+-----------------------------------------------------------------------------+\n",
      "| NVIDIA-SMI 410.79       Driver Version: 410.79       CUDA Version: 10.0     |\n",
      "|-------------------------------+----------------------+----------------------+\n",
      "| GPU  Name        Persistence-M| Bus-Id        Disp.A | Volatile Uncorr. ECC |\n",
      "| Fan  Temp  Perf  Pwr:Usage/Cap|         Memory-Usage | GPU-Util  Compute M. |\n",
      "|===============================+======================+======================|\n",
      "|   0  TITAN Xp            Off  | 00000000:01:00.0 Off |                  N/A |\n",
      "| 23%   30C    P2    58W / 250W |      0MiB / 12195MiB |      0%      Default |\n",
      "+-------------------------------+----------------------+----------------------+\n",
      "                                                                               \n",
      "+-----------------------------------------------------------------------------+\n",
      "| Processes:                                                       GPU Memory |\n",
      "|  GPU       PID   Type   Process name                             Usage      |\n",
      "|=============================================================================|\n",
      "|  No running processes found                                                 |\n",
      "+-----------------------------------------------------------------------------+\n"
     ]
    }
   ],
   "source": [
    "!nvidia-smi"
   ]
  },
  {
   "cell_type": "code",
   "execution_count": 2,
   "metadata": {},
   "outputs": [],
   "source": [
    "import numpy as np\n",
    "import matplotlib.pyplot as plt\n",
    "from os import path as p\n",
    "import os\n",
    "from plot_history import plot_history"
   ]
  },
  {
   "cell_type": "code",
   "execution_count": 3,
   "metadata": {},
   "outputs": [
    {
     "name": "stderr",
     "output_type": "stream",
     "text": [
      "Using TensorFlow backend.\n"
     ]
    }
   ],
   "source": [
    "from keras.layers import Input, Activation, BatchNormalization\n",
    "from keras.layers.core import Dense, Dropout\n",
    "from keras.layers import Conv2D, MaxPool2D, AveragePooling2D, Flatten\n",
    "from keras.layers import Activation\n",
    "from keras.models import Model\n",
    "from keras.losses import mse\n",
    "from keras.optimizers import Adadelta, Adam, SGD\n",
    "# from keras.activations import relu\n",
    "from keras.layers.advanced_activations import LeakyReLU\n",
    "from keras.callbacks import EarlyStopping, ModelCheckpoint\n",
    "import tensorflow.keras.backend as K"
   ]
  },
  {
   "cell_type": "code",
   "execution_count": 4,
   "metadata": {},
   "outputs": [],
   "source": [
    "data_dir = '/storage/yw18581/data/'\n",
    "data_folder = os.path.join(data_dir, 'train_validation_test')"
   ]
  },
  {
   "cell_type": "code",
   "execution_count": 5,
   "metadata": {},
   "outputs": [],
   "source": [
    "X_train = np.load(os.path.join(data_folder, 'Xy_train_dist.npz'))[\"y\"]\n",
    "y_train = np.load(os.path.join(data_folder, 'Xy_train_dist.npz'))[\"dist\"]"
   ]
  },
  {
   "cell_type": "code",
   "execution_count": 6,
   "metadata": {},
   "outputs": [],
   "source": [
    "X_val = np.load(os.path.join(data_folder,'Xy_val_dist.npz'))[\"y\"]\n",
    "y_val = np.load(os.path.join(data_folder, 'Xy_val_dist.npz'))[\"dist\"]"
   ]
  },
  {
   "cell_type": "code",
   "execution_count": 7,
   "metadata": {},
   "outputs": [],
   "source": [
    "X_test = np.load(os.path.join(data_folder, 'Xy_test_dist.npz'))[\"y\"]\n",
    "y_test = np.load(os.path.join(data_folder, 'Xy_test_dist.npz'))[\"dist\"]"
   ]
  },
  {
   "cell_type": "code",
   "execution_count": 69,
   "metadata": {},
   "outputs": [],
   "source": [
    "X_pred = np.load(os.path.join(data_dir, 'trained_models/UNet_training_generator_1500epochs/Xy_test_predicted_UNet.npz'))['y']\n",
    "y_pred = np.load(os.path.join(data_dir, 'trained_models/UNet_training_generator_1500epochs/Xy_test_predicted_UNet.npz'))['dist']"
   ]
  },
  {
   "cell_type": "code",
   "execution_count": 9,
   "metadata": {},
   "outputs": [],
   "source": [
    "def cut_X(arr, reshape = None):\n",
    "    x_cut = arr[:,960:1300,600:]\n",
    "    if reshape:\n",
    "        if len(x_cut.shape)>3:\n",
    "            x_cut = x_cut[...,0]\n",
    "            x_cut_out = x_cut.reshape(x_cut.shape[0],x_cut.shape[1]*x_cut.shape[2])\n",
    "    else:\n",
    "        x_cut_out = x_cut\n",
    "    return x_cut_out"
   ]
  },
  {
   "cell_type": "code",
   "execution_count": 10,
   "metadata": {},
   "outputs": [],
   "source": [
    "X_train_cut = cut_X(X_train)"
   ]
  },
  {
   "cell_type": "code",
   "execution_count": 11,
   "metadata": {},
   "outputs": [],
   "source": [
    "X_val_cut = cut_X(X_val)"
   ]
  },
  {
   "cell_type": "code",
   "execution_count": 12,
   "metadata": {},
   "outputs": [],
   "source": [
    "X_test_cut = cut_X(X_test)"
   ]
  },
  {
   "cell_type": "code",
   "execution_count": 70,
   "metadata": {},
   "outputs": [],
   "source": [
    "X_pred_cut = cut_X(X_pred)"
   ]
  },
  {
   "cell_type": "code",
   "execution_count": 14,
   "metadata": {},
   "outputs": [],
   "source": [
    "N_EPOCHS = 30\n",
    "BATCH_SIZE = 8\n",
    "\n",
    "CHECKPOINT_FOLDER_PATH = p.join(data_dir, 'trained_models')\n",
    "TASK_NAME = 'Leaf_position_regression'\n",
    "TASK_FOLDER_PATH = p.join(CHECKPOINT_FOLDER_PATH, TASK_NAME)\n",
    "\n",
    "if not p.exists(TASK_FOLDER_PATH):\n",
    "    os.makedirs(TASK_FOLDER_PATH)"
   ]
  },
  {
   "cell_type": "code",
   "execution_count": 15,
   "metadata": {},
   "outputs": [],
   "source": [
    "K.clear_session()"
   ]
  },
  {
   "cell_type": "code",
   "execution_count": 18,
   "metadata": {},
   "outputs": [
    {
     "name": "stdout",
     "output_type": "stream",
     "text": [
      "_________________________________________________________________\n",
      "Layer (type)                 Output Shape              Param #   \n",
      "=================================================================\n",
      "input (InputLayer)           (None, 340, 800, 1)       0         \n",
      "_________________________________________________________________\n",
      "conv1 (Conv2D)               (None, 340, 800, 8)       80        \n",
      "_________________________________________________________________\n",
      "batch_normalization_9 (Batch (None, 340, 800, 8)       32        \n",
      "_________________________________________________________________\n",
      "activation_9 (Activation)    (None, 340, 800, 8)       0         \n",
      "_________________________________________________________________\n",
      "pool1 (AveragePooling2D)     (None, 170, 400, 8)       0         \n",
      "_________________________________________________________________\n",
      "conv2 (Conv2D)               (None, 170, 400, 16)      1168      \n",
      "_________________________________________________________________\n",
      "batch_normalization_10 (Batc (None, 170, 400, 16)      64        \n",
      "_________________________________________________________________\n",
      "activation_10 (Activation)   (None, 170, 400, 16)      0         \n",
      "_________________________________________________________________\n",
      "pool2 (AveragePooling2D)     (None, 85, 200, 16)       0         \n",
      "_________________________________________________________________\n",
      "conv3 (Conv2D)               (None, 85, 200, 32)       4640      \n",
      "_________________________________________________________________\n",
      "batch_normalization_11 (Batc (None, 85, 200, 32)       128       \n",
      "_________________________________________________________________\n",
      "activation_11 (Activation)   (None, 85, 200, 32)       0         \n",
      "_________________________________________________________________\n",
      "conv4 (Conv2D)               (None, 85, 200, 32)       9248      \n",
      "_________________________________________________________________\n",
      "batch_normalization_12 (Batc (None, 85, 200, 32)       128       \n",
      "_________________________________________________________________\n",
      "activation_12 (Activation)   (None, 85, 200, 32)       0         \n",
      "_________________________________________________________________\n",
      "dropout_2 (Dropout)          (None, 85, 200, 32)       0         \n",
      "_________________________________________________________________\n",
      "flatten_3 (Flatten)          (None, 544000)            0         \n",
      "_________________________________________________________________\n",
      "dense_1 (Dense)              (None, 1)                 544001    \n",
      "=================================================================\n",
      "Total params: 559,489\n",
      "Trainable params: 559,313\n",
      "Non-trainable params: 176\n",
      "_________________________________________________________________\n"
     ]
    }
   ],
   "source": [
    "def create_model(input_shape):\n",
    "    input_layer = Input(shape=input_shape,name='input')\n",
    "    x = Conv2D(8,kernel_size=3, padding='same', \n",
    "               name='conv1')(input_layer)\n",
    "    x = BatchNormalization()(x)\n",
    "    x = Activation('relu')(x)\n",
    "    x = AveragePooling2D(pool_size=2, strides=2, padding='same', name='pool1')(x)\n",
    "    \n",
    "    x = Conv2D(16,kernel_size=3, padding='same', name='conv2')(x)\n",
    "    x = BatchNormalization()(x)\n",
    "    x = Activation('relu')(x)\n",
    "    x = AveragePooling2D(pool_size=2, strides=2, padding='same', name='pool2')(x)\n",
    "    \n",
    "    x = Conv2D(32,kernel_size=3, padding='same', name='conv3')(x)\n",
    "    x = BatchNormalization()(x)\n",
    "    x = Activation('relu')(x)\n",
    "    \n",
    "    x = Conv2D(32,kernel_size=3, padding='same', name='conv4')(x)\n",
    "    x = BatchNormalization()(x)\n",
    "    x = Activation('relu')(x)\n",
    "    \n",
    "    # Maybe a Flatten is needed here.\n",
    "    x = Dropout(0.2)(x)\n",
    "    x = Flatten()(x)\n",
    "    \n",
    "    prediction = Dense(1, activation='linear')(x)\n",
    "    model = Model(inputs = input_layer, outputs = prediction)\n",
    "    return model\n",
    "\n",
    "model = create_model(input_shape=(X_train_cut.shape[1:]))\n",
    "OPTIMIZER = 'Adadelta'\n",
    "model.compile(loss='mse',\n",
    "              optimizer=SGD(), metrics = ['mse'])\n",
    "callbacks = [#EarlyStopping(monitor='val_loss',patience = 8, verbose = True), \n",
    "             ModelCheckpoint(os.path.join(TASK_FOLDER_PATH,\n",
    "                                          \"leaf_regression_cnn_{}epochs_{}batch_{}.hdf5\".format(N_EPOCHS,BATCH_SIZE, OPTIMIZER)), \n",
    "                             monitor='val_loss')]\n",
    "model.summary()"
   ]
  },
  {
   "cell_type": "code",
   "execution_count": 19,
   "metadata": {},
   "outputs": [
    {
     "name": "stdout",
     "output_type": "stream",
     "text": [
      "Train on 768 samples, validate on 192 samples\n",
      "Epoch 1/30\n",
      "768/768 [==============================] - 7s 9ms/step - loss: 84203994466061605928960.0000 - mean_squared_error: 84203994466061605928960.0000 - val_loss: 67789866042994458624.0000 - val_mean_squared_error: 67789866042994458624.0000\n",
      "Epoch 2/30\n",
      "768/768 [==============================] - 4s 5ms/step - loss: 17463285196733984768.0000 - mean_squared_error: 17463285196733984768.0000 - val_loss: 1401428999548174336.0000 - val_mean_squared_error: 1401428999548174336.0000\n",
      "Epoch 3/30\n",
      "768/768 [==============================] - 4s 5ms/step - loss: 361020923449092800.0000 - mean_squared_error: 361020923449092800.0000 - val_loss: 28971946529346900.0000 - val_mean_squared_error: 28971946529346900.0000\n",
      "Epoch 4/30\n",
      "768/768 [==============================] - 4s 5ms/step - loss: 7463438592070998.0000 - mean_squared_error: 7463438592070998.0000 - val_loss: 598941200547840.0000 - val_mean_squared_error: 598941200547840.0000\n",
      "Epoch 5/30\n",
      "768/768 [==============================] - 4s 5ms/step - loss: 154292707218773.3438 - mean_squared_error: 154292707218773.3438 - val_loss: 12381996275029.3340 - val_mean_squared_error: 12381996275029.3340\n",
      "Epoch 6/30\n",
      "768/768 [==============================] - 4s 5ms/step - loss: 3189715848021.3330 - mean_squared_error: 3189715848021.3330 - val_loss: 255974524928.0000 - val_mean_squared_error: 255974524928.0000\n",
      "Epoch 7/30\n",
      "768/768 [==============================] - 4s 5ms/step - loss: 65941511589.3333 - mean_squared_error: 65941511589.3333 - val_loss: 5291747626.6667 - val_mean_squared_error: 5291747626.6667\n",
      "Epoch 8/30\n",
      "768/768 [==============================] - 4s 5ms/step - loss: 1363222255.7500 - mean_squared_error: 1363222255.7500 - val_loss: 109393825.6667 - val_mean_squared_error: 109393825.6667\n",
      "Epoch 9/30\n",
      "768/768 [==============================] - 4s 5ms/step - loss: 28182996.1068 - mean_squared_error: 28182996.1068 - val_loss: 2260137.6667 - val_mean_squared_error: 2260137.6667\n",
      "Epoch 10/30\n",
      "768/768 [==============================] - 4s 5ms/step - loss: 582531.3625 - mean_squared_error: 582531.3625 - val_loss: 46547.3936 - val_mean_squared_error: 46547.3936\n",
      "Epoch 11/30\n",
      "768/768 [==============================] - 4s 5ms/step - loss: 12107.5749 - mean_squared_error: 12107.5749 - val_loss: 1033.4168 - val_mean_squared_error: 1033.4168\n",
      "Epoch 12/30\n",
      "768/768 [==============================] - 4s 5ms/step - loss: 331.5252 - mean_squared_error: 331.5252 - val_loss: 97.5465 - val_mean_squared_error: 97.5465\n",
      "Epoch 13/30\n",
      "768/768 [==============================] - 4s 5ms/step - loss: 86.4970 - mean_squared_error: 86.4970 - val_loss: 81.7304 - val_mean_squared_error: 81.7304\n",
      "Epoch 14/30\n",
      "768/768 [==============================] - 4s 5ms/step - loss: 81.7445 - mean_squared_error: 81.7445 - val_loss: 81.7239 - val_mean_squared_error: 81.7239\n",
      "Epoch 15/30\n",
      "768/768 [==============================] - 4s 5ms/step - loss: 81.5927 - mean_squared_error: 81.5927 - val_loss: 81.9182 - val_mean_squared_error: 81.9182\n",
      "Epoch 16/30\n",
      "768/768 [==============================] - 4s 5ms/step - loss: 81.5117 - mean_squared_error: 81.5117 - val_loss: 81.7174 - val_mean_squared_error: 81.7174\n",
      "Epoch 17/30\n",
      "768/768 [==============================] - 4s 5ms/step - loss: 81.6017 - mean_squared_error: 81.6017 - val_loss: 81.7582 - val_mean_squared_error: 81.7582\n",
      "Epoch 18/30\n",
      "768/768 [==============================] - 4s 5ms/step - loss: 81.5564 - mean_squared_error: 81.5564 - val_loss: 81.8202 - val_mean_squared_error: 81.8202\n",
      "Epoch 19/30\n",
      "768/768 [==============================] - 4s 5ms/step - loss: 81.5941 - mean_squared_error: 81.5941 - val_loss: 82.0534 - val_mean_squared_error: 82.0534\n",
      "Epoch 20/30\n",
      "768/768 [==============================] - 4s 5ms/step - loss: 81.6096 - mean_squared_error: 81.6096 - val_loss: 81.8676 - val_mean_squared_error: 81.8676\n",
      "Epoch 21/30\n",
      "768/768 [==============================] - 4s 5ms/step - loss: 81.5550 - mean_squared_error: 81.5550 - val_loss: 82.2042 - val_mean_squared_error: 82.2042\n",
      "Epoch 22/30\n",
      "768/768 [==============================] - 4s 5ms/step - loss: 81.5941 - mean_squared_error: 81.5941 - val_loss: 81.8378 - val_mean_squared_error: 81.8378\n",
      "Epoch 23/30\n",
      "768/768 [==============================] - 4s 5ms/step - loss: 81.5729 - mean_squared_error: 81.5729 - val_loss: 81.8018 - val_mean_squared_error: 81.8018\n",
      "Epoch 24/30\n",
      "768/768 [==============================] - 4s 5ms/step - loss: 81.5729 - mean_squared_error: 81.5729 - val_loss: 81.8803 - val_mean_squared_error: 81.8803\n",
      "Epoch 25/30\n",
      "768/768 [==============================] - 4s 5ms/step - loss: 81.6288 - mean_squared_error: 81.6288 - val_loss: 81.8670 - val_mean_squared_error: 81.8670\n",
      "Epoch 26/30\n",
      "768/768 [==============================] - 4s 5ms/step - loss: 81.5849 - mean_squared_error: 81.5849 - val_loss: 81.9537 - val_mean_squared_error: 81.9537\n",
      "Epoch 27/30\n",
      "768/768 [==============================] - 4s 5ms/step - loss: 81.6087 - mean_squared_error: 81.6087 - val_loss: 81.9289 - val_mean_squared_error: 81.9289\n",
      "Epoch 28/30\n",
      "768/768 [==============================] - 4s 5ms/step - loss: 81.6563 - mean_squared_error: 81.6563 - val_loss: 81.7507 - val_mean_squared_error: 81.7507\n",
      "Epoch 29/30\n",
      "768/768 [==============================] - 4s 5ms/step - loss: 81.5876 - mean_squared_error: 81.5876 - val_loss: 81.9160 - val_mean_squared_error: 81.9160\n",
      "Epoch 30/30\n",
      "768/768 [==============================] - 4s 5ms/step - loss: 81.5047 - mean_squared_error: 81.5047 - val_loss: 82.1129 - val_mean_squared_error: 82.1129\n"
     ]
    }
   ],
   "source": [
    "history = model.fit(X_train_cut, y_train, validation_data=(X_val_cut, y_val),\n",
    "                    epochs=N_EPOCHS, verbose=True, batch_size=BATCH_SIZE, shuffle=True, \n",
    "                    callbacks = callbacks)"
   ]
  },
  {
   "cell_type": "code",
   "execution_count": 20,
   "metadata": {},
   "outputs": [
    {
     "data": {
      "image/png": "[encoded data removed]",
      "text/plain": [
       "<Figure size 432x288 with 1 Axes>"
      ]
     },
     "metadata": {
      "needs_background": "light"
     },
     "output_type": "display_data"
    }
   ],
   "source": [
    "plot_history(history)"
   ]
  },
  {
   "cell_type": "code",
   "execution_count": 43,
   "metadata": {},
   "outputs": [],
   "source": [
    "from sklearn.ensemble import RandomForestRegressor"
   ]
  },
  {
   "cell_type": "code",
   "execution_count": 44,
   "metadata": {},
   "outputs": [
    {
     "data": {
      "text/plain": [
       "(768, 340, 800, 1)"
      ]
     },
     "execution_count": 44,
     "metadata": {},
     "output_type": "execute_result"
    }
   ],
   "source": [
    "X_train_cut.shape"
   ]
  },
  {
   "cell_type": "code",
   "execution_count": 45,
   "metadata": {},
   "outputs": [
    {
     "data": {
      "text/plain": [
       "(768,)"
      ]
     },
     "execution_count": 45,
     "metadata": {},
     "output_type": "execute_result"
    }
   ],
   "source": [
    "y_train.shape"
   ]
  },
  {
   "cell_type": "code",
   "execution_count": 46,
   "metadata": {},
   "outputs": [
    {
     "data": {
      "text/plain": [
       "array([ 2,  4,  4, 25,  4,  4, 25, 25, 25,  4])"
      ]
     },
     "execution_count": 46,
     "metadata": {},
     "output_type": "execute_result"
    }
   ],
   "source": [
    "y_train[0:10]"
   ]
  },
  {
   "cell_type": "code",
   "execution_count": 47,
   "metadata": {},
   "outputs": [],
   "source": [
    "X_train_RF = X_train_cut.reshape((X_train_cut.shape[0],\n",
    "                                  X_train_cut.shape[1]*X_train_cut.shape[2]))"
   ]
  },
  {
   "cell_type": "code",
   "execution_count": 48,
   "metadata": {},
   "outputs": [
    {
     "data": {
      "text/plain": [
       "(768, 272000)"
      ]
     },
     "execution_count": 48,
     "metadata": {},
     "output_type": "execute_result"
    }
   ],
   "source": [
    "X_train_RF.shape"
   ]
  },
  {
   "cell_type": "markdown",
   "metadata": {},
   "source": [
    "## Random Forest Regressor"
   ]
  },
  {
   "cell_type": "code",
   "execution_count": 49,
   "metadata": {},
   "outputs": [
    {
     "data": {
      "text/plain": [
       "RandomForestRegressor(bootstrap=True, criterion='mse', max_depth=None,\n",
       "           max_features='auto', max_leaf_nodes=None,\n",
       "           min_impurity_decrease=0.0, min_impurity_split=None,\n",
       "           min_samples_leaf=1, min_samples_split=2,\n",
       "           min_weight_fraction_leaf=0.0, n_estimators=100, n_jobs=-1,\n",
       "           oob_score=False, random_state=None, verbose=0, warm_start=False)"
      ]
     },
     "execution_count": 49,
     "metadata": {},
     "output_type": "execute_result"
    }
   ],
   "source": [
    "model = RandomForestRegressor(n_estimators=100, n_jobs=-1, \n",
    "                              criterion='mse'  # default\n",
    "                             )\n",
    "\n",
    "model.fit(X_train_RF, y_train)"
   ]
  },
  {
   "cell_type": "code",
   "execution_count": 51,
   "metadata": {},
   "outputs": [
    {
     "data": {
      "text/plain": [
       "0.9999415753278601"
      ]
     },
     "execution_count": 51,
     "metadata": {},
     "output_type": "execute_result"
    }
   ],
   "source": [
    "# Training Performance\n",
    "model.score(X_train_RF, y_train)  # will calculate MSE by default"
   ]
  },
  {
   "cell_type": "code",
   "execution_count": 85,
   "metadata": {},
   "outputs": [],
   "source": [
    "rf1 = model"
   ]
  },
  {
   "cell_type": "code",
   "execution_count": 86,
   "metadata": {},
   "outputs": [
    {
     "data": {
      "text/plain": [
       "array([25.  , 10.  ,  2.  ,  4.  ,  2.  , 24.85,  3.92, 25.  ,  4.  ,\n",
       "       10.  ,  9.82,  2.  ,  2.  , 10.  ,  2.  ,  2.  ,  4.  , 10.  ,\n",
       "       10.  ,  4.  ,  4.  ,  9.88, 10.  ,  4.  ,  2.  ,  2.  , 10.  ,\n",
       "        4.  ,  4.  ,  4.  ,  4.  , 10.  , 10.  , 10.  ,  4.  ,  4.  ,\n",
       "        3.82,  2.  ,  3.72, 10.  , 25.  ,  2.  , 24.7 ,  4.  , 24.1 ,\n",
       "        3.44,  4.  ,  2.  ,  2.04,  2.  ,  9.94, 25.  ,  4.  ,  2.  ,\n",
       "       25.  ,  3.98, 25.  , 25.  , 24.85,  4.  ,  4.  ,  2.  ,  2.02,\n",
       "        2.  ,  2.  , 25.  ,  2.  ,  4.  ,  4.  ,  3.7 ,  4.  ,  2.  ,\n",
       "       25.  ,  2.  ,  2.  ,  4.  ,  2.  ,  2.  , 24.85,  9.82, 25.  ,\n",
       "        2.  ,  9.82,  2.  ,  4.  , 25.  , 25.  ,  2.  , 25.  , 10.  ,\n",
       "        4.  ,  3.92,  2.  ,  3.96, 25.  , 10.  ,  4.  , 25.  ,  2.  ,\n",
       "        2.  ,  4.  ,  2.26, 10.  ,  2.  ,  9.94, 10.  , 25.  , 25.  ,\n",
       "       25.  , 25.  ,  4.  , 10.  ,  2.  , 25.  , 10.  , 25.  ,  2.  ,\n",
       "        2.  , 10.  ,  2.  ,  3.94, 25.  , 24.1 , 25.  ,  4.  , 25.  ,\n",
       "        3.94,  2.  , 10.  , 10.  ,  2.  , 24.64,  4.  ,  2.  , 24.7 ,\n",
       "       10.  ,  9.46,  4.  ,  4.  , 25.  , 25.  , 10.  ,  3.9 , 10.  ,\n",
       "       10.  ,  4.  , 10.  , 10.  ,  4.  ,  4.  , 24.55,  4.  , 10.  ,\n",
       "        2.  , 25.  ,  4.  ,  4.  ,  2.  , 25.  ,  4.  , 25.  , 25.  ,\n",
       "       24.7 ,  2.  ,  2.  , 10.  ,  2.  ,  9.28, 10.  ,  2.  , 10.  ,\n",
       "       25.  ,  4.  ,  2.  ,  2.  ,  4.  ,  2.  , 25.  ,  2.02,  9.94,\n",
       "        9.94, 10.  ,  2.  , 24.4 ,  2.  , 25.  ,  4.  ,  9.64,  4.  ,\n",
       "        3.92, 10.  , 10.  ,  2.  , 10.  ,  3.98,  2.  ,  2.  , 25.  ,\n",
       "       25.  ,  2.  ,  9.7 , 25.  ,  9.76, 25.  , 10.  ,  2.  , 10.  ,\n",
       "       10.  , 10.  , 24.85, 25.  ,  9.94,  4.  ,  8.8 , 25.  ,  2.  ,\n",
       "        9.76,  2.  ,  9.94,  4.  , 25.  , 25.  , 25.  , 25.  ,  2.02,\n",
       "        4.  , 10.  ,  2.  ,  2.  , 10.  ,  3.98,  2.04, 25.  , 10.  ,\n",
       "       25.  ,  4.  , 10.  ,  4.  , 25.  ,  9.94])"
      ]
     },
     "execution_count": 86,
     "metadata": {},
     "output_type": "execute_result"
    }
   ],
   "source": [
    "rf1.predict(X_test_cut.reshape(240,340*800))"
   ]
  },
  {
   "cell_type": "code",
   "execution_count": 67,
   "metadata": {},
   "outputs": [],
   "source": [
    "from sklearn.metrics import mean_squared_error"
   ]
  },
  {
   "cell_type": "code",
   "execution_count": 52,
   "metadata": {},
   "outputs": [
    {
     "data": {
      "text/plain": [
       "(240, 340, 800, 1)"
      ]
     },
     "execution_count": 52,
     "metadata": {},
     "output_type": "execute_result"
    }
   ],
   "source": [
    "X_test_cut.shape"
   ]
  },
  {
   "cell_type": "code",
   "execution_count": 56,
   "metadata": {},
   "outputs": [],
   "source": [
    "preds = model.predict(X_test_cut.reshape(240, 340*800))"
   ]
  },
  {
   "cell_type": "code",
   "execution_count": 60,
   "metadata": {},
   "outputs": [
    {
     "data": {
      "text/plain": [
       "array([25, 10,  2,  4,  2, 25,  4, 25,  4, 10, 10,  2,  2, 10,  2,  2,  4,\n",
       "       10, 10,  4,  4, 10, 10,  4,  2,  2, 10,  4,  4,  4,  4, 10, 10, 10,\n",
       "        4,  4,  4,  2,  4, 10, 25,  2, 25,  4, 25,  4,  4,  2,  2,  2, 10,\n",
       "       25,  4,  2, 25,  4, 25, 25, 25,  4,  4,  2,  2,  2,  2, 25,  2,  4,\n",
       "        4,  4,  4,  2, 25,  2,  2,  4,  2,  2, 25, 10, 25,  2, 10,  2,  4,\n",
       "       25, 25,  2, 25, 10,  4,  4,  2,  4, 25, 10,  4, 25,  2,  2,  4,  2,\n",
       "       10,  2, 10, 10, 25, 25, 25, 25,  4, 10,  2, 25, 10, 25,  2,  2, 10,\n",
       "        2,  4, 25, 25, 25,  4, 25,  4,  2, 10, 10,  2, 25,  4,  2, 25, 10,\n",
       "       10,  4,  4, 25, 25, 10,  4, 10, 10,  4, 10, 10,  4,  4, 25,  4, 10,\n",
       "        2, 25,  4,  4,  2, 25,  4, 25, 25, 25,  2,  2, 10,  2, 10, 10,  2,\n",
       "       10, 25,  4,  2,  2,  4,  2, 25,  2, 10, 10, 10,  2, 25,  2, 25,  4,\n",
       "       10,  4,  4, 10, 10,  2, 10,  4,  2,  2, 25, 25,  2, 10, 25, 10, 25,\n",
       "       10,  2, 10, 10, 10, 25, 25, 10,  4, 10, 25,  2, 10,  2, 10,  4, 25,\n",
       "       25, 25, 25,  2,  4, 10,  2,  2, 10,  4,  2, 25, 10, 25,  4, 10,  4,\n",
       "       25, 10])"
      ]
     },
     "execution_count": 60,
     "metadata": {},
     "output_type": "execute_result"
    }
   ],
   "source": [
    "y_test"
   ]
  },
  {
   "cell_type": "code",
   "execution_count": 61,
   "metadata": {},
   "outputs": [
    {
     "data": {
      "text/plain": [
       "array([25.  , 10.  ,  2.  ,  4.  ,  2.  , 24.85,  3.92, 25.  ,  4.  ,\n",
       "       10.  ,  9.82,  2.  ,  2.  , 10.  ,  2.  ,  2.  ,  4.  , 10.  ,\n",
       "       10.  ,  4.  ,  4.  ,  9.88, 10.  ,  4.  ,  2.  ,  2.  , 10.  ,\n",
       "        4.  ,  4.  ,  4.  ,  4.  , 10.  , 10.  , 10.  ,  4.  ,  4.  ,\n",
       "        3.82,  2.  ,  3.72, 10.  , 25.  ,  2.  , 24.7 ,  4.  , 24.1 ,\n",
       "        3.44,  4.  ,  2.  ,  2.04,  2.  ,  9.94, 25.  ,  4.  ,  2.  ,\n",
       "       25.  ,  3.98, 25.  , 25.  , 24.85,  4.  ,  4.  ,  2.  ,  2.02,\n",
       "        2.  ,  2.  , 25.  ,  2.  ,  4.  ,  4.  ,  3.7 ,  4.  ,  2.  ,\n",
       "       25.  ,  2.  ,  2.  ,  4.  ,  2.  ,  2.  , 24.85,  9.82, 25.  ,\n",
       "        2.  ,  9.82,  2.  ,  4.  , 25.  , 25.  ,  2.  , 25.  , 10.  ,\n",
       "        4.  ,  3.92,  2.  ,  3.96, 25.  , 10.  ,  4.  , 25.  ,  2.  ,\n",
       "        2.  ,  4.  ,  2.26, 10.  ,  2.  ,  9.94, 10.  , 25.  , 25.  ,\n",
       "       25.  , 25.  ,  4.  , 10.  ,  2.  , 25.  , 10.  , 25.  ,  2.  ,\n",
       "        2.  , 10.  ,  2.  ,  3.94, 25.  , 24.1 , 25.  ,  4.  , 25.  ,\n",
       "        3.94,  2.  , 10.  , 10.  ,  2.  , 24.64,  4.  ,  2.  , 24.7 ,\n",
       "       10.  ,  9.46,  4.  ,  4.  , 25.  , 25.  , 10.  ,  3.9 , 10.  ,\n",
       "       10.  ,  4.  , 10.  , 10.  ,  4.  ,  4.  , 24.55,  4.  , 10.  ,\n",
       "        2.  , 25.  ,  4.  ,  4.  ,  2.  , 25.  ,  4.  , 25.  , 25.  ,\n",
       "       24.7 ,  2.  ,  2.  , 10.  ,  2.  ,  9.28, 10.  ,  2.  , 10.  ,\n",
       "       25.  ,  4.  ,  2.  ,  2.  ,  4.  ,  2.  , 25.  ,  2.02,  9.94,\n",
       "        9.94, 10.  ,  2.  , 24.4 ,  2.  , 25.  ,  4.  ,  9.64,  4.  ,\n",
       "        3.92, 10.  , 10.  ,  2.  , 10.  ,  3.98,  2.  ,  2.  , 25.  ,\n",
       "       25.  ,  2.  ,  9.7 , 25.  ,  9.76, 25.  , 10.  ,  2.  , 10.  ,\n",
       "       10.  , 10.  , 24.85, 25.  ,  9.94,  4.  ,  8.8 , 25.  ,  2.  ,\n",
       "        9.76,  2.  ,  9.94,  4.  , 25.  , 25.  , 25.  , 25.  ,  2.02,\n",
       "        4.  , 10.  ,  2.  ,  2.  , 10.  ,  3.98,  2.04, 25.  , 10.  ,\n",
       "       25.  ,  4.  , 10.  ,  4.  , 25.  ,  9.94])"
      ]
     },
     "execution_count": 61,
     "metadata": {},
     "output_type": "execute_result"
    }
   ],
   "source": [
    "preds"
   ]
  },
  {
   "cell_type": "code",
   "execution_count": 64,
   "metadata": {},
   "outputs": [
    {
     "data": {
      "text/plain": [
       "<matplotlib.collections.PathCollection at 0x7f2dd9fd1390>"
      ]
     },
     "execution_count": 64,
     "metadata": {},
     "output_type": "execute_result"
    },
    {
     "data": {
      "image/png": "[encoded data removed]",
      "text/plain": [
       "<Figure size 432x288 with 1 Axes>"
      ]
     },
     "metadata": {
      "needs_background": "light"
     },
     "output_type": "display_data"
    }
   ],
   "source": [
    "plt.scatter(y_test, preds)"
   ]
  },
  {
   "cell_type": "code",
   "execution_count": 68,
   "metadata": {},
   "outputs": [
    {
     "data": {
      "text/plain": [
       "0.02508041666666664"
      ]
     },
     "execution_count": 68,
     "metadata": {},
     "output_type": "execute_result"
    }
   ],
   "source": [
    "mean_squared_error(y_test, preds)"
   ]
  },
  {
   "cell_type": "code",
   "execution_count": 83,
   "metadata": {},
   "outputs": [],
   "source": [
    "from sklearn.externals import joblib"
   ]
  },
  {
   "cell_type": "code",
   "execution_count": 87,
   "metadata": {},
   "outputs": [],
   "source": [
    "filename = os.path.join(TASK_FOLDER_PATH,'leaf_regression_RF1.pkl')\n",
    "_ = joblib.dump(rf1, filename, compress=9)"
   ]
  },
  {
   "cell_type": "code",
   "execution_count": 71,
   "metadata": {},
   "outputs": [
    {
     "data": {
      "text/plain": [
       "(240, 340, 800)"
      ]
     },
     "execution_count": 71,
     "metadata": {},
     "output_type": "execute_result"
    }
   ],
   "source": [
    "X_pred_cut.shape"
   ]
  },
  {
   "cell_type": "code",
   "execution_count": 88,
   "metadata": {},
   "outputs": [],
   "source": [
    "X_predcnn_RF = X_pred_cut.reshape((X_pred_cut.shape[0],\n",
    "                                  X_pred_cut.shape[1]*X_pred_cut.shape[2]))"
   ]
  },
  {
   "cell_type": "code",
   "execution_count": 91,
   "metadata": {},
   "outputs": [],
   "source": [
    "model = RandomForestRegressor(max_depth=10, random_state=42,\n",
    "                             n_estimators=4, n_jobs=-1, \n",
    "                              criterion='mse'  # default\n",
    "                             )\n",
    "rf2 = model.fit(X_predcnn_RF, y_pred)"
   ]
  },
  {
   "cell_type": "code",
   "execution_count": 92,
   "metadata": {},
   "outputs": [
    {
     "data": {
      "text/plain": [
       "1.0"
      ]
     },
     "execution_count": 92,
     "metadata": {},
     "output_type": "execute_result"
    }
   ],
   "source": [
    "model.score(X_predcnn_RF, y_pred)"
   ]
  },
  {
   "cell_type": "code",
   "execution_count": null,
   "metadata": {},
   "outputs": [],
   "source": []
  },
  {
   "cell_type": "code",
   "execution_count": 93,
   "metadata": {},
   "outputs": [],
   "source": [
    "preds_cnn = rf2.predict(X_pred_cut.reshape(240, 340*800))"
   ]
  },
  {
   "cell_type": "code",
   "execution_count": 78,
   "metadata": {},
   "outputs": [
    {
     "data": {
      "text/plain": [
       "<matplotlib.image.AxesImage at 0x7f2dd9d1c748>"
      ]
     },
     "execution_count": 78,
     "metadata": {},
     "output_type": "execute_result"
    },
    {
     "data": {
      "image/png": "[encoded data removed]",
      "text/plain": [
       "<Figure size 432x288 with 1 Axes>"
      ]
     },
     "metadata": {
      "needs_background": "light"
     },
     "output_type": "display_data"
    }
   ],
   "source": [
    "plt.imshow(X_pred_cut[2])"
   ]
  },
  {
   "cell_type": "code",
   "execution_count": null,
   "metadata": {},
   "outputs": [],
   "source": []
  },
  {
   "cell_type": "code",
   "execution_count": 66,
   "metadata": {},
   "outputs": [
    {
     "data": {
      "text/plain": [
       "\u001b[0;31mSignature:\u001b[0m \u001b[0mmse\u001b[0m\u001b[0;34m(\u001b[0m\u001b[0my_true\u001b[0m\u001b[0;34m,\u001b[0m \u001b[0my_pred\u001b[0m\u001b[0;34m)\u001b[0m\u001b[0;34m\u001b[0m\u001b[0;34m\u001b[0m\u001b[0m\n",
       "\u001b[0;31mDocstring:\u001b[0m <no docstring>\n",
       "\u001b[0;31mFile:\u001b[0m      ~/.conda/envs/fluffy-bunnies/lib/python3.6/site-packages/keras/losses.py\n",
       "\u001b[0;31mType:\u001b[0m      function\n"
      ]
     },
     "metadata": {},
     "output_type": "display_data"
    }
   ],
   "source": [
    "mse?"
   ]
  },
  {
   "cell_type": "markdown",
   "metadata": {},
   "source": [
    "model.save(os.path.join(data_dir,'trained_models','leaf_regression_shallow.hdf5'))"
   ]
  },
  {
   "cell_type": "markdown",
   "metadata": {},
   "source": [
    "preds = model.predict(X_test_cut)"
   ]
  },
  {
   "cell_type": "markdown",
   "metadata": {},
   "source": [
    "preds.ravel().shape"
   ]
  },
  {
   "cell_type": "markdown",
   "metadata": {},
   "source": [
    "y_test.shape"
   ]
  },
  {
   "cell_type": "markdown",
   "metadata": {},
   "source": [
    "from sklearn.metrics import mean_squared_error as mse"
   ]
  },
  {
   "cell_type": "markdown",
   "metadata": {},
   "source": [
    "mse(y_test, preds.ravel())"
   ]
  },
  {
   "cell_type": "markdown",
   "metadata": {},
   "source": [
    "np.unique(y_test)"
   ]
  },
  {
   "cell_type": "markdown",
   "metadata": {},
   "source": [
    "t_test_2 = y_test[y_test==2]\n",
    "t_test_4 = y_test[y_test==4]\n",
    "t_test_10 = y_test[y_test==10]\n",
    "t_test_25 = y_test[y_test==25]"
   ]
  },
  {
   "cell_type": "markdown",
   "metadata": {},
   "source": [
    "print(t_test_2.shape, t_test_4.shape, t_test_10.shape, t_test_25.shape)"
   ]
  },
  {
   "cell_type": "markdown",
   "metadata": {},
   "source": [
    "preds = preds.ravel()"
   ]
  },
  {
   "cell_type": "markdown",
   "metadata": {},
   "source": [
    "preds"
   ]
  },
  {
   "cell_type": "markdown",
   "metadata": {},
   "source": [
    "p2 = preds[y_test==2]\n",
    "p4 = preds[y_test==4]\n",
    "p10 = preds[y_test==10]\n",
    "p25 = preds[y_test==25]"
   ]
  },
  {
   "cell_type": "markdown",
   "metadata": {},
   "source": [
    "mse(t_test_2, p2)"
   ]
  },
  {
   "cell_type": "markdown",
   "metadata": {},
   "source": [
    "mse(t_test_4, p4)"
   ]
  },
  {
   "cell_type": "markdown",
   "metadata": {},
   "source": [
    "mse(t_test_10, p10)"
   ]
  },
  {
   "cell_type": "markdown",
   "metadata": {},
   "source": [
    "mse(t_test_25, p25)"
   ]
  },
  {
   "cell_type": "markdown",
   "metadata": {},
   "source": [
    "from matplotlib.image import imread"
   ]
  },
  {
   "cell_type": "markdown",
   "metadata": {},
   "source": [
    "w = os.walk(os.path.join(data_dir, \"10x10_15mm_v2_8bit_test\"))\n",
    "folder, _, files = next(w)"
   ]
  },
  {
   "cell_type": "markdown",
   "metadata": {},
   "source": [
    "folder"
   ]
  },
  {
   "cell_type": "markdown",
   "metadata": {},
   "source": [
    "files"
   ]
  },
  {
   "cell_type": "markdown",
   "metadata": {},
   "source": [
    "gt_15 = [os.path.join(folder, f) for f in files]"
   ]
  },
  {
   "cell_type": "markdown",
   "metadata": {},
   "source": [
    "gt_15"
   ]
  },
  {
   "cell_type": "markdown",
   "metadata": {},
   "source": [
    "X_15 = [imread(fp)[ROW_SLICE,COL_SLICE] for fp in gt_15]"
   ]
  },
  {
   "cell_type": "markdown",
   "metadata": {},
   "source": [
    "IMG_WIDTH = 1400\n",
    "IMG_HEIGHT = 1400\n",
    "ROW_SLICE = slice(0, 1400)\n",
    "COL_SLICE = slice(1000, None)\n"
   ]
  },
  {
   "cell_type": "markdown",
   "metadata": {},
   "source": [
    "X_15_cut = cut_X(np.asarray(X_15))"
   ]
  },
  {
   "cell_type": "markdown",
   "metadata": {},
   "source": [
    "preds15 = model.predict(X_15_cut)"
   ]
  },
  {
   "cell_type": "markdown",
   "metadata": {},
   "source": [
    "preds15"
   ]
  },
  {
   "cell_type": "markdown",
   "metadata": {},
   "source": []
  }
 ],
 "metadata": {
  "kernelspec": {
   "display_name": "Python 3",
   "language": "python",
   "name": "python3"
  },
  "language_info": {
   "codemirror_mode": {
    "name": "ipython",
    "version": 3
   },
   "file_extension": ".py",
   "mimetype": "text/x-python",
   "name": "python",
   "nbconvert_exporter": "python",
   "pygments_lexer": "ipython3",
   "version": "3.6.7"
  }
 },
 "nbformat": 4,
 "nbformat_minor": 2
}
