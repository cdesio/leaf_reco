{
 "cells": [
  {
   "cell_type": "code",
   "execution_count": 1,
   "metadata": {},
   "outputs": [
    {
     "name": "stdout",
     "output_type": "stream",
     "text": [
      "Thu Mar 14 20:10:20 2019       \n",
      "+-----------------------------------------------------------------------------+\n",
      "| NVIDIA-SMI 410.79       Driver Version: 410.79       CUDA Version: 10.0     |\n",
      "|-------------------------------+----------------------+----------------------+\n",
      "| GPU  Name        Persistence-M| Bus-Id        Disp.A | Volatile Uncorr. ECC |\n",
      "| Fan  Temp  Perf  Pwr:Usage/Cap|         Memory-Usage | GPU-Util  Compute M. |\n",
      "|===============================+======================+======================|\n",
      "|   0  TITAN Xp            Off  | 00000000:01:00.0 Off |                  N/A |\n",
      "| 34%   48C    P0    72W / 250W |      0MiB / 12195MiB |      0%      Default |\n",
      "+-------------------------------+----------------------+----------------------+\n",
      "                                                                               \n",
      "+-----------------------------------------------------------------------------+\n",
      "| Processes:                                                       GPU Memory |\n",
      "|  GPU       PID   Type   Process name                             Usage      |\n",
      "|=============================================================================|\n",
      "|  No running processes found                                                 |\n",
      "+-----------------------------------------------------------------------------+\n"
     ]
    }
   ],
   "source": [
    "!nvidia-smi"
   ]
  },
  {
   "cell_type": "code",
   "execution_count": 2,
   "metadata": {},
   "outputs": [],
   "source": [
    "import numpy as np\n",
    "import matplotlib.pyplot as plt\n",
    "from sklearn.preprocessing import OneHotEncoder\n",
    "import os"
   ]
  },
  {
   "cell_type": "code",
   "execution_count": 3,
   "metadata": {},
   "outputs": [
    {
     "name": "stderr",
     "output_type": "stream",
     "text": [
      "Using TensorFlow backend.\n"
     ]
    }
   ],
   "source": [
    "from keras.layers import Input\n",
    "from keras.layers.core import Dense, Dropout\n",
    "from keras.models import Model\n",
    "from keras.losses import categorical_crossentropy, mse\n",
    "from keras.optimizers import Adadelta, Adam, SGD"
   ]
  },
  {
   "cell_type": "code",
   "execution_count": 4,
   "metadata": {},
   "outputs": [],
   "source": [
    "def plot_history(history, ymin_loss=None, ymax_loss=None, ymin_acc=None, ymax_acc=None):\n",
    "    ymin_loss=np.min(history.history['loss'])\n",
    "    ymax_loss=np.max(history.history['loss'])\n",
    "    f1 = plt.figure()\n",
    "    plt.plot(history.history['loss'],label='training')\n",
    "    plt.plot(history.history['val_loss'],label='validation')\n",
    "    plt.ylim(ymin_loss,ymax_loss)\n",
    "    plt.legend(loc='upper right')\n",
    "    plt.show()\n",
    "    if 'acc' in history.history:\n",
    "        ymin_acc=np.min(history.history['acc'])\n",
    "        ymax_acc=np.max(history.history['acc'])\n",
    "        f2 = plt.figure()\n",
    "        plt.plot(history.history['acc'],label='training')\n",
    "        plt.plot(history.history['val_acc'],label='validation')\n",
    "        plt.ylim(ymin_acc,ymax_acc)\n",
    "        plt.legend(loc='upper right')\n",
    "        plt.show()\n",
    "    return"
   ]
  },
  {
   "cell_type": "code",
   "execution_count": 5,
   "metadata": {},
   "outputs": [],
   "source": [
    "data_dir = '/storage/yw18581/data/'\n",
    "data_folder = os.path.join(data_dir, 'train_validation_test')"
   ]
  },
  {
   "cell_type": "code",
   "execution_count": 6,
   "metadata": {},
   "outputs": [],
   "source": [
    "X_train = np.load(os.path.join(data_folder, 'Xy_train_dist.npz'))[\"y\"]\n",
    "y_train = np.load(os.path.join(data_folder, 'Xy_train_dist.npz'))[\"dist\"]"
   ]
  },
  {
   "cell_type": "code",
   "execution_count": 7,
   "metadata": {},
   "outputs": [],
   "source": [
    "X_val = np.load(os.path.join(data_folder,'Xy_val_dist.npz'))[\"y\"]\n",
    "y_val = np.load(os.path.join(data_folder, 'Xy_val_dist.npz'))[\"dist\"]"
   ]
  },
  {
   "cell_type": "code",
   "execution_count": 8,
   "metadata": {},
   "outputs": [],
   "source": [
    "X_test = np.load(os.path.join(data_folder, 'Xy_test_dist.npz'))[\"y\"]\n",
    "y_test = np.load(os.path.join(data_folder, 'Xy_test_dist.npz'))[\"dist\"]"
   ]
  },
  {
   "cell_type": "code",
   "execution_count": 9,
   "metadata": {},
   "outputs": [],
   "source": [
    "X_pred = np.load(os.path.join(data_dir, 'trained_models/UNet_training_generator_1500epochs/Xy_test_predicted_UNet.npz'))['y']\n",
    "y_pred = np.load(os.path.join(data_dir, 'trained_models/UNet_training_generator_1500epochs/Xy_test_predicted_UNet.npz'))['dist']"
   ]
  },
  {
   "cell_type": "code",
   "execution_count": 10,
   "metadata": {},
   "outputs": [],
   "source": [
    "def cut_X(arr):\n",
    "    x_cut = arr[:,960:1300,600:]\n",
    "    if len(x_cut.shape)>3:\n",
    "        x_cut = x_cut[...,0]\n",
    "    x_cut_out = x_cut.reshape(x_cut.shape[0],x_cut.shape[1]*x_cut.shape[2])\n",
    "    return x_cut_out"
   ]
  },
  {
   "cell_type": "code",
   "execution_count": 11,
   "metadata": {},
   "outputs": [],
   "source": [
    "X_train_cut = cut_X(X_train)"
   ]
  },
  {
   "cell_type": "code",
   "execution_count": 12,
   "metadata": {},
   "outputs": [],
   "source": [
    "X_val_cut = cut_X(X_val)"
   ]
  },
  {
   "cell_type": "code",
   "execution_count": 13,
   "metadata": {},
   "outputs": [],
   "source": [
    "X_test_cut = cut_X(X_test)"
   ]
  },
  {
   "cell_type": "code",
   "execution_count": 14,
   "metadata": {},
   "outputs": [],
   "source": [
    "X_pred_cut = cut_X(X_pred)"
   ]
  },
  {
   "cell_type": "code",
   "execution_count": 15,
   "metadata": {},
   "outputs": [
    {
     "name": "stdout",
     "output_type": "stream",
     "text": [
      "_________________________________________________________________\n",
      "Layer (type)                 Output Shape              Param #   \n",
      "=================================================================\n",
      "input (InputLayer)           (None, 272000)            0         \n",
      "_________________________________________________________________\n",
      "dense_1 (Dense)              (None, 512)               139264512 \n",
      "_________________________________________________________________\n",
      "dense_2 (Dense)              (None, 8)                 4104      \n",
      "_________________________________________________________________\n",
      "dense_3 (Dense)              (None, 1)                 9         \n",
      "=================================================================\n",
      "Total params: 139,268,625\n",
      "Trainable params: 139,268,625\n",
      "Non-trainable params: 0\n",
      "_________________________________________________________________\n"
     ]
    }
   ],
   "source": [
    "def create_model(input_shape):\n",
    "    input_layer = Input(shape=input_shape,name='input')\n",
    "    x = Dense(512, activation ='sigmoid')(input_layer)\n",
    "    #x = Dense(128, activation ='sigmoid')(x)\n",
    "    #x = Dense(64, activation ='sigmoid')(x)\n",
    "    #x = Dense(16, activation ='sigmoid')(x)\n",
    "    x = Dense(8, activation ='sigmoid')(x)\n",
    "    prediction = Dense(1, activation='linear')(x)\n",
    "    model = Model(inputs = input_layer, outputs = prediction)\n",
    "    return model\n",
    "\n",
    "model = create_model(input_shape=(X_train_cut.shape[1],))\n",
    "model.compile(loss='mse',\n",
    "              optimizer=Adadelta())\n",
    "model.summary()"
   ]
  },
  {
   "cell_type": "code",
   "execution_count": 16,
   "metadata": {},
   "outputs": [
    {
     "name": "stdout",
     "output_type": "stream",
     "text": [
      "Train on 768 samples, validate on 192 samples\n",
      "Epoch 1/200\n",
      "768/768 [==============================] - 13s 17ms/step - loss: 151.3619 - val_loss: 155.6736\n",
      "Epoch 2/200\n",
      "768/768 [==============================] - 4s 5ms/step - loss: 145.1869 - val_loss: 149.8392\n",
      "Epoch 3/200\n",
      "768/768 [==============================] - 4s 6ms/step - loss: 139.8409 - val_loss: 144.3830\n",
      "Epoch 4/200\n",
      "768/768 [==============================] - 4s 5ms/step - loss: 134.8790 - val_loss: 139.3131\n",
      "Epoch 5/200\n",
      "768/768 [==============================] - 4s 6ms/step - loss: 130.2505 - val_loss: 134.5559\n",
      "Epoch 6/200\n",
      "768/768 [==============================] - 4s 6ms/step - loss: 125.9388 - val_loss: 130.1351\n",
      "Epoch 7/200\n",
      "768/768 [==============================] - 4s 5ms/step - loss: 121.9594 - val_loss: 126.0472\n",
      "Epoch 8/200\n",
      "768/768 [==============================] - 4s 6ms/step - loss: 118.2810 - val_loss: 122.2416\n",
      "Epoch 9/200\n",
      "768/768 [==============================] - 4s 5ms/step - loss: 114.8746 - val_loss: 118.7101\n",
      "Epoch 10/200\n",
      "768/768 [==============================] - 4s 6ms/step - loss: 111.6998 - val_loss: 115.4132\n",
      "Epoch 11/200\n",
      "768/768 [==============================] - 4s 5ms/step - loss: 108.7821 - val_loss: 112.3811\n",
      "Epoch 12/200\n",
      "768/768 [==============================] - 4s 5ms/step - loss: 106.1078 - val_loss: 109.5878\n",
      "Epoch 13/200\n",
      "768/768 [==============================] - 4s 5ms/step - loss: 103.6246 - val_loss: 106.9780\n",
      "Epoch 14/200\n",
      "768/768 [==============================] - 4s 5ms/step - loss: 101.0517 - val_loss: 99.6125\n",
      "Epoch 15/200\n",
      "768/768 [==============================] - 4s 6ms/step - loss: 88.7692 - val_loss: 86.4801\n",
      "Epoch 16/200\n",
      "768/768 [==============================] - 4s 5ms/step - loss: 83.1268 - val_loss: 83.3635\n",
      "Epoch 17/200\n",
      "768/768 [==============================] - 4s 5ms/step - loss: 81.8996 - val_loss: 82.4831\n",
      "Epoch 18/200\n",
      "768/768 [==============================] - 4s 6ms/step - loss: 81.5894 - val_loss: 82.1742\n",
      "Epoch 19/200\n",
      "768/768 [==============================] - 4s 5ms/step - loss: 81.4569 - val_loss: 81.0549\n",
      "Epoch 20/200\n",
      "768/768 [==============================] - 4s 6ms/step - loss: 82.4179 - val_loss: 81.4167\n",
      "Epoch 21/200\n",
      "768/768 [==============================] - 4s 5ms/step - loss: 78.5330 - val_loss: 75.3631\n",
      "Epoch 22/200\n",
      "768/768 [==============================] - 4s 5ms/step - loss: 73.0680 - val_loss: 72.9566\n",
      "Epoch 23/200\n",
      "768/768 [==============================] - 4s 6ms/step - loss: 67.8196 - val_loss: 67.4614\n",
      "Epoch 24/200\n",
      "768/768 [==============================] - 4s 5ms/step - loss: 64.8789 - val_loss: 62.5180\n",
      "Epoch 25/200\n",
      "768/768 [==============================] - 4s 5ms/step - loss: 62.2909 - val_loss: 61.0599\n",
      "Epoch 26/200\n",
      "768/768 [==============================] - 4s 5ms/step - loss: 59.6431 - val_loss: 58.0762\n",
      "Epoch 27/200\n",
      "768/768 [==============================] - 4s 5ms/step - loss: 58.4634 - val_loss: 58.7028\n",
      "Epoch 28/200\n",
      "768/768 [==============================] - 4s 5ms/step - loss: 55.4773 - val_loss: 53.1013\n",
      "Epoch 29/200\n",
      "768/768 [==============================] - 4s 6ms/step - loss: 53.1106 - val_loss: 53.8109\n",
      "Epoch 30/200\n",
      "768/768 [==============================] - 4s 6ms/step - loss: 51.2272 - val_loss: 50.9296\n",
      "Epoch 31/200\n",
      "768/768 [==============================] - 4s 5ms/step - loss: 48.4670 - val_loss: 47.8158\n",
      "Epoch 32/200\n",
      "768/768 [==============================] - 4s 5ms/step - loss: 47.1195 - val_loss: 45.4719\n",
      "Epoch 33/200\n",
      "768/768 [==============================] - 4s 6ms/step - loss: 44.5937 - val_loss: 43.5013\n",
      "Epoch 34/200\n",
      "768/768 [==============================] - 4s 5ms/step - loss: 42.7987 - val_loss: 41.3445\n",
      "Epoch 35/200\n",
      "768/768 [==============================] - 4s 5ms/step - loss: 41.0779 - val_loss: 43.2191\n",
      "Epoch 36/200\n",
      "768/768 [==============================] - 4s 5ms/step - loss: 39.4683 - val_loss: 38.8201\n",
      "Epoch 37/200\n",
      "768/768 [==============================] - 4s 5ms/step - loss: 38.1902 - val_loss: 38.6656\n",
      "Epoch 38/200\n",
      "768/768 [==============================] - 4s 5ms/step - loss: 36.3563 - val_loss: 35.5057\n",
      "Epoch 39/200\n",
      "768/768 [==============================] - 4s 5ms/step - loss: 35.1418 - val_loss: 34.1279\n",
      "Epoch 40/200\n",
      "768/768 [==============================] - 4s 5ms/step - loss: 33.6799 - val_loss: 32.9438\n",
      "Epoch 41/200\n",
      "768/768 [==============================] - 4s 5ms/step - loss: 32.5506 - val_loss: 32.8276\n",
      "Epoch 42/200\n",
      "768/768 [==============================] - 4s 5ms/step - loss: 31.4793 - val_loss: 30.7516\n",
      "Epoch 43/200\n",
      "768/768 [==============================] - 4s 5ms/step - loss: 30.3220 - val_loss: 30.0500\n",
      "Epoch 44/200\n",
      "768/768 [==============================] - 4s 6ms/step - loss: 29.5032 - val_loss: 29.6175\n",
      "Epoch 45/200\n",
      "768/768 [==============================] - 4s 6ms/step - loss: 28.3002 - val_loss: 27.7198\n",
      "Epoch 46/200\n",
      "768/768 [==============================] - 4s 5ms/step - loss: 27.4585 - val_loss: 27.1118\n",
      "Epoch 47/200\n",
      "768/768 [==============================] - 4s 5ms/step - loss: 26.5096 - val_loss: 26.0057\n",
      "Epoch 48/200\n",
      "768/768 [==============================] - 4s 6ms/step - loss: 25.7068 - val_loss: 25.6782\n",
      "Epoch 49/200\n",
      "768/768 [==============================] - 4s 6ms/step - loss: 24.7951 - val_loss: 24.3803\n",
      "Epoch 50/200\n",
      "768/768 [==============================] - 4s 6ms/step - loss: 24.0881 - val_loss: 23.6287\n",
      "Epoch 51/200\n",
      "768/768 [==============================] - 4s 5ms/step - loss: 23.3125 - val_loss: 22.9416\n",
      "Epoch 52/200\n",
      "768/768 [==============================] - 4s 6ms/step - loss: 22.6570 - val_loss: 22.3035\n",
      "Epoch 53/200\n",
      "768/768 [==============================] - 4s 5ms/step - loss: 21.8947 - val_loss: 21.8244\n",
      "Epoch 54/200\n",
      "768/768 [==============================] - 4s 5ms/step - loss: 21.3237 - val_loss: 21.1265\n",
      "Epoch 55/200\n",
      "768/768 [==============================] - 4s 5ms/step - loss: 20.5834 - val_loss: 20.5297\n",
      "Epoch 56/200\n",
      "768/768 [==============================] - 4s 5ms/step - loss: 20.0107 - val_loss: 19.8765\n",
      "Epoch 57/200\n",
      "768/768 [==============================] - 4s 5ms/step - loss: 19.5339 - val_loss: 19.1699\n",
      "Epoch 58/200\n",
      "768/768 [==============================] - 4s 5ms/step - loss: 18.9230 - val_loss: 18.7732\n",
      "Epoch 59/200\n",
      "768/768 [==============================] - 4s 5ms/step - loss: 18.3598 - val_loss: 18.2018\n",
      "Epoch 60/200\n",
      "768/768 [==============================] - 4s 5ms/step - loss: 17.7735 - val_loss: 17.9535\n",
      "Epoch 61/200\n",
      "768/768 [==============================] - 4s 6ms/step - loss: 17.3314 - val_loss: 17.2917\n",
      "Epoch 62/200\n",
      "768/768 [==============================] - 4s 5ms/step - loss: 16.8369 - val_loss: 16.7735\n",
      "Epoch 63/200\n",
      "768/768 [==============================] - 4s 6ms/step - loss: 16.5096 - val_loss: 17.7549\n",
      "Epoch 64/200\n",
      "768/768 [==============================] - 4s 5ms/step - loss: 16.0833 - val_loss: 15.9291\n",
      "Epoch 65/200\n",
      "768/768 [==============================] - 4s 5ms/step - loss: 15.5632 - val_loss: 15.6752\n",
      "Epoch 66/200\n",
      "768/768 [==============================] - 4s 5ms/step - loss: 15.0364 - val_loss: 15.0874\n",
      "Epoch 67/200\n",
      "768/768 [==============================] - 4s 5ms/step - loss: 14.6464 - val_loss: 14.5847\n",
      "Epoch 68/200\n",
      "768/768 [==============================] - 4s 5ms/step - loss: 14.3090 - val_loss: 14.3764\n",
      "Epoch 69/200\n",
      "768/768 [==============================] - 4s 5ms/step - loss: 13.9258 - val_loss: 14.0709\n",
      "Epoch 70/200\n",
      "768/768 [==============================] - 4s 6ms/step - loss: 13.5648 - val_loss: 13.5106\n",
      "Epoch 71/200\n",
      "768/768 [==============================] - 4s 5ms/step - loss: 13.2706 - val_loss: 13.0918\n",
      "Epoch 72/200\n",
      "768/768 [==============================] - 4s 5ms/step - loss: 12.8538 - val_loss: 12.8694\n",
      "Epoch 73/200\n",
      "768/768 [==============================] - 4s 5ms/step - loss: 12.5506 - val_loss: 12.4585\n",
      "Epoch 74/200\n",
      "768/768 [==============================] - 4s 6ms/step - loss: 12.2208 - val_loss: 12.2071\n",
      "Epoch 75/200\n",
      "768/768 [==============================] - 4s 5ms/step - loss: 11.9654 - val_loss: 11.8547\n",
      "Epoch 76/200\n",
      "768/768 [==============================] - 4s 6ms/step - loss: 11.5957 - val_loss: 11.5948\n",
      "Epoch 77/200\n",
      "768/768 [==============================] - 4s 6ms/step - loss: 11.4691 - val_loss: 11.2784\n",
      "Epoch 78/200\n",
      "768/768 [==============================] - 4s 5ms/step - loss: 11.0658 - val_loss: 10.9649\n",
      "Epoch 79/200\n",
      "768/768 [==============================] - 4s 6ms/step - loss: 10.7786 - val_loss: 10.7489\n",
      "Epoch 80/200\n",
      "768/768 [==============================] - 4s 5ms/step - loss: 10.5143 - val_loss: 10.5997\n",
      "Epoch 81/200\n",
      "768/768 [==============================] - 4s 5ms/step - loss: 10.3653 - val_loss: 10.6706\n",
      "Epoch 82/200\n",
      "768/768 [==============================] - 4s 6ms/step - loss: 10.0056 - val_loss: 10.0333\n",
      "Epoch 83/200\n",
      "768/768 [==============================] - 4s 6ms/step - loss: 9.7237 - val_loss: 9.8160\n",
      "Epoch 84/200\n",
      "768/768 [==============================] - 4s 5ms/step - loss: 9.5077 - val_loss: 9.4840\n",
      "Epoch 85/200\n",
      "768/768 [==============================] - 4s 5ms/step - loss: 9.2667 - val_loss: 9.0924\n",
      "Epoch 86/200\n",
      "768/768 [==============================] - 4s 5ms/step - loss: 8.8793 - val_loss: 9.2295\n",
      "Epoch 87/200\n",
      "768/768 [==============================] - 4s 5ms/step - loss: 8.2682 - val_loss: 7.7788\n",
      "Epoch 88/200\n",
      "768/768 [==============================] - 4s 5ms/step - loss: 7.6149 - val_loss: 7.5707\n",
      "Epoch 89/200\n",
      "768/768 [==============================] - 4s 5ms/step - loss: 7.2761 - val_loss: 7.9451\n",
      "Epoch 90/200\n",
      "768/768 [==============================] - 4s 5ms/step - loss: 6.6030 - val_loss: 5.5975\n",
      "Epoch 91/200\n",
      "768/768 [==============================] - 4s 5ms/step - loss: 5.6984 - val_loss: 5.6944\n",
      "Epoch 92/200\n",
      "768/768 [==============================] - 4s 5ms/step - loss: 5.2914 - val_loss: 4.5060\n",
      "Epoch 93/200\n",
      "768/768 [==============================] - 4s 5ms/step - loss: 4.9129 - val_loss: 5.8388\n",
      "Epoch 94/200\n",
      "768/768 [==============================] - 4s 5ms/step - loss: 4.2668 - val_loss: 4.9833\n",
      "Epoch 95/200\n",
      "768/768 [==============================] - 4s 5ms/step - loss: 3.7628 - val_loss: 3.9100\n",
      "Epoch 96/200\n",
      "768/768 [==============================] - 4s 5ms/step - loss: 3.4376 - val_loss: 3.8738\n",
      "Epoch 97/200\n",
      "768/768 [==============================] - 4s 5ms/step - loss: 3.0437 - val_loss: 3.8484\n",
      "Epoch 98/200\n",
      "768/768 [==============================] - 4s 5ms/step - loss: 2.7023 - val_loss: 2.3733\n",
      "Epoch 99/200\n",
      "768/768 [==============================] - 4s 5ms/step - loss: 2.1743 - val_loss: 2.2326\n",
      "Epoch 100/200\n",
      "768/768 [==============================] - 4s 5ms/step - loss: 2.0059 - val_loss: 2.2945\n",
      "Epoch 101/200\n",
      "768/768 [==============================] - 4s 5ms/step - loss: 1.7910 - val_loss: 1.7056\n",
      "Epoch 102/200\n",
      "768/768 [==============================] - 4s 5ms/step - loss: 1.5796 - val_loss: 1.5744\n",
      "Epoch 103/200\n",
      "768/768 [==============================] - 4s 6ms/step - loss: 1.4024 - val_loss: 1.3588\n",
      "Epoch 104/200\n",
      "768/768 [==============================] - 4s 6ms/step - loss: 1.1797 - val_loss: 1.1215\n",
      "Epoch 105/200\n",
      "768/768 [==============================] - 4s 5ms/step - loss: 1.1073 - val_loss: 0.9735\n",
      "Epoch 106/200\n",
      "768/768 [==============================] - 4s 5ms/step - loss: 0.8926 - val_loss: 0.8370\n",
      "Epoch 107/200\n",
      "768/768 [==============================] - 4s 6ms/step - loss: 0.8024 - val_loss: 0.9160\n",
      "Epoch 108/200\n",
      "768/768 [==============================] - 4s 5ms/step - loss: 0.7654 - val_loss: 0.7033\n",
      "Epoch 109/200\n",
      "768/768 [==============================] - 4s 5ms/step - loss: 0.6343 - val_loss: 0.5473\n",
      "Epoch 110/200\n",
      "768/768 [==============================] - 4s 5ms/step - loss: 0.6022 - val_loss: 0.4689\n",
      "Epoch 111/200\n",
      "768/768 [==============================] - 4s 5ms/step - loss: 0.4279 - val_loss: 0.4147\n",
      "Epoch 112/200\n",
      "768/768 [==============================] - 4s 5ms/step - loss: 0.3890 - val_loss: 0.3501\n",
      "Epoch 113/200\n",
      "768/768 [==============================] - 4s 5ms/step - loss: 0.3229 - val_loss: 0.3012\n",
      "Epoch 114/200\n",
      "768/768 [==============================] - 4s 5ms/step - loss: 0.3157 - val_loss: 0.2624\n",
      "Epoch 115/200\n",
      "768/768 [==============================] - 4s 5ms/step - loss: 0.2498 - val_loss: 0.7144\n",
      "Epoch 116/200\n",
      "768/768 [==============================] - 4s 5ms/step - loss: 0.2072 - val_loss: 0.2007\n",
      "Epoch 117/200\n",
      "768/768 [==============================] - 4s 5ms/step - loss: 0.2408 - val_loss: 0.2026\n",
      "Epoch 118/200\n",
      "768/768 [==============================] - 4s 5ms/step - loss: 0.1689 - val_loss: 0.1973\n",
      "Epoch 119/200\n",
      "768/768 [==============================] - 4s 5ms/step - loss: 0.1337 - val_loss: 0.1469\n",
      "Epoch 120/200\n",
      "768/768 [==============================] - 4s 5ms/step - loss: 0.1376 - val_loss: 0.1614\n",
      "Epoch 121/200\n",
      "768/768 [==============================] - 4s 5ms/step - loss: 0.0822 - val_loss: 0.1250\n",
      "Epoch 122/200\n",
      "768/768 [==============================] - 4s 5ms/step - loss: 0.0912 - val_loss: 0.1122\n",
      "Epoch 123/200\n",
      "768/768 [==============================] - 4s 5ms/step - loss: 0.0648 - val_loss: 0.0544\n",
      "Epoch 124/200\n",
      "768/768 [==============================] - 4s 6ms/step - loss: 0.0648 - val_loss: 0.0471\n",
      "Epoch 125/200\n",
      "768/768 [==============================] - 4s 5ms/step - loss: 0.0493 - val_loss: 0.0379\n",
      "Epoch 126/200\n",
      "768/768 [==============================] - 4s 5ms/step - loss: 0.0662 - val_loss: 0.7134\n",
      "Epoch 127/200\n",
      "768/768 [==============================] - 4s 6ms/step - loss: 0.0973 - val_loss: 0.0280\n",
      "Epoch 128/200\n",
      "768/768 [==============================] - 4s 5ms/step - loss: 0.0263 - val_loss: 0.0296\n",
      "Epoch 129/200\n",
      "768/768 [==============================] - 4s 5ms/step - loss: 0.0480 - val_loss: 0.0245\n",
      "Epoch 130/200\n",
      "768/768 [==============================] - 4s 5ms/step - loss: 0.0548 - val_loss: 0.0251\n",
      "Epoch 131/200\n",
      "768/768 [==============================] - 4s 5ms/step - loss: 0.0017 - val_loss: 0.0309\n",
      "Epoch 132/200\n",
      "768/768 [==============================] - 4s 6ms/step - loss: 0.0295 - val_loss: 0.0223\n",
      "Epoch 133/200\n",
      "768/768 [==============================] - 4s 6ms/step - loss: 0.0392 - val_loss: 0.0208\n",
      "Epoch 134/200\n",
      "768/768 [==============================] - 4s 6ms/step - loss: 0.0290 - val_loss: 0.0272\n",
      "Epoch 135/200\n",
      "768/768 [==============================] - 4s 6ms/step - loss: 0.0025 - val_loss: 0.0302\n",
      "Epoch 136/200\n",
      "768/768 [==============================] - 4s 6ms/step - loss: 0.0586 - val_loss: 0.0208\n",
      "Epoch 137/200\n",
      "768/768 [==============================] - 4s 5ms/step - loss: 0.0654 - val_loss: 0.0206\n",
      "Epoch 138/200\n",
      "768/768 [==============================] - 4s 5ms/step - loss: 0.0594 - val_loss: 0.0251\n",
      "Epoch 139/200\n",
      "768/768 [==============================] - 4s 5ms/step - loss: 0.0033 - val_loss: 0.0208\n",
      "Epoch 140/200\n",
      "768/768 [==============================] - 4s 5ms/step - loss: 0.0907 - val_loss: 0.0266\n",
      "Epoch 141/200\n",
      "768/768 [==============================] - 4s 5ms/step - loss: 0.0181 - val_loss: 0.0209\n",
      "Epoch 142/200\n",
      "768/768 [==============================] - 4s 5ms/step - loss: 0.0020 - val_loss: 0.2616\n",
      "Epoch 143/200\n",
      "768/768 [==============================] - 4s 5ms/step - loss: 0.0183 - val_loss: 0.0208\n",
      "Epoch 144/200\n",
      "768/768 [==============================] - 4s 6ms/step - loss: 0.0671 - val_loss: 0.0210\n",
      "Epoch 145/200\n",
      "768/768 [==============================] - 4s 5ms/step - loss: 2.9141e-04 - val_loss: 0.0393\n",
      "Epoch 146/200\n",
      "768/768 [==============================] - 4s 5ms/step - loss: 0.0431 - val_loss: 0.1762\n",
      "Epoch 147/200\n",
      "768/768 [==============================] - 4s 6ms/step - loss: 0.0698 - val_loss: 0.0255\n",
      "Epoch 148/200\n",
      "768/768 [==============================] - 4s 5ms/step - loss: 0.0394 - val_loss: 0.0219\n",
      "Epoch 149/200\n",
      "768/768 [==============================] - 4s 5ms/step - loss: 0.0368 - val_loss: 0.0587\n",
      "Epoch 150/200\n",
      "768/768 [==============================] - 4s 6ms/step - loss: 0.0559 - val_loss: 0.0258\n",
      "Epoch 151/200\n",
      "768/768 [==============================] - 4s 6ms/step - loss: 0.0606 - val_loss: 0.0958\n",
      "Epoch 152/200\n",
      "768/768 [==============================] - 4s 6ms/step - loss: 0.0635 - val_loss: 0.0223\n",
      "Epoch 153/200\n",
      "768/768 [==============================] - 4s 5ms/step - loss: 0.0037 - val_loss: 0.0324\n",
      "Epoch 154/200\n",
      "768/768 [==============================] - 4s 5ms/step - loss: 0.0361 - val_loss: 0.0250\n",
      "Epoch 155/200\n",
      "768/768 [==============================] - 4s 5ms/step - loss: 0.0458 - val_loss: 0.0223\n",
      "Epoch 156/200\n",
      "768/768 [==============================] - 4s 5ms/step - loss: 0.0237 - val_loss: 0.0350\n",
      "Epoch 157/200\n",
      "768/768 [==============================] - 4s 5ms/step - loss: 0.0281 - val_loss: 0.0208\n",
      "Epoch 158/200\n",
      "768/768 [==============================] - 4s 5ms/step - loss: 0.0285 - val_loss: 0.0209\n",
      "Epoch 159/200\n",
      "768/768 [==============================] - 4s 5ms/step - loss: 0.0236 - val_loss: 0.0208\n",
      "Epoch 160/200\n",
      "768/768 [==============================] - 4s 6ms/step - loss: 0.0189 - val_loss: 0.0474\n",
      "Epoch 161/200\n",
      "768/768 [==============================] - 4s 5ms/step - loss: 0.0614 - val_loss: 0.0318\n",
      "Epoch 162/200\n",
      "768/768 [==============================] - 4s 5ms/step - loss: 0.0648 - val_loss: 0.2283\n",
      "Epoch 163/200\n",
      "768/768 [==============================] - 4s 6ms/step - loss: 0.0698 - val_loss: 0.0213\n",
      "Epoch 164/200\n",
      "768/768 [==============================] - 4s 6ms/step - loss: 0.0269 - val_loss: 0.0213\n",
      "Epoch 165/200\n",
      "768/768 [==============================] - 4s 6ms/step - loss: 0.0516 - val_loss: 0.0976\n",
      "Epoch 166/200\n",
      "768/768 [==============================] - 4s 6ms/step - loss: 0.0310 - val_loss: 0.0209\n",
      "Epoch 167/200\n",
      "768/768 [==============================] - 4s 5ms/step - loss: 0.0394 - val_loss: 0.1559\n",
      "Epoch 168/200\n",
      "768/768 [==============================] - 4s 6ms/step - loss: 0.0083 - val_loss: 0.0222\n",
      "Epoch 169/200\n",
      "768/768 [==============================] - 4s 5ms/step - loss: 0.0487 - val_loss: 0.0208\n",
      "Epoch 170/200\n",
      "768/768 [==============================] - 4s 6ms/step - loss: 0.0340 - val_loss: 0.0231\n",
      "Epoch 171/200\n",
      "768/768 [==============================] - 4s 5ms/step - loss: 0.0204 - val_loss: 0.0210\n",
      "Epoch 172/200\n",
      "768/768 [==============================] - 4s 6ms/step - loss: 0.0565 - val_loss: 0.0206\n",
      "Epoch 173/200\n",
      "768/768 [==============================] - 4s 5ms/step - loss: 0.0401 - val_loss: 0.0209\n",
      "Epoch 174/200\n",
      "768/768 [==============================] - 4s 5ms/step - loss: 0.0131 - val_loss: 0.0209\n",
      "Epoch 175/200\n",
      "768/768 [==============================] - 4s 5ms/step - loss: 0.0138 - val_loss: 0.1121\n",
      "Epoch 176/200\n",
      "768/768 [==============================] - 4s 5ms/step - loss: 0.0462 - val_loss: 0.2046\n",
      "Epoch 177/200\n",
      "768/768 [==============================] - 4s 6ms/step - loss: 0.0727 - val_loss: 0.0208\n",
      "Epoch 178/200\n",
      "768/768 [==============================] - 4s 5ms/step - loss: 0.0281 - val_loss: 0.0496\n",
      "Epoch 179/200\n",
      "768/768 [==============================] - 4s 5ms/step - loss: 0.0446 - val_loss: 0.0208\n",
      "Epoch 180/200\n",
      "768/768 [==============================] - 4s 5ms/step - loss: 0.0328 - val_loss: 0.1084\n",
      "Epoch 181/200\n",
      "768/768 [==============================] - 4s 5ms/step - loss: 0.0375 - val_loss: 0.0414\n",
      "Epoch 182/200\n",
      "768/768 [==============================] - 4s 5ms/step - loss: 0.0424 - val_loss: 0.0231\n",
      "Epoch 183/200\n",
      "768/768 [==============================] - 4s 6ms/step - loss: 0.0254 - val_loss: 0.0563\n",
      "Epoch 184/200\n",
      "768/768 [==============================] - 4s 5ms/step - loss: 0.0437 - val_loss: 0.0208\n",
      "Epoch 185/200\n",
      "768/768 [==============================] - 4s 5ms/step - loss: 0.0346 - val_loss: 0.0208\n",
      "Epoch 186/200\n",
      "768/768 [==============================] - 4s 5ms/step - loss: 0.0113 - val_loss: 0.0206\n",
      "Epoch 187/200\n",
      "768/768 [==============================] - 4s 6ms/step - loss: 0.0600 - val_loss: 0.0211\n",
      "Epoch 188/200\n",
      "768/768 [==============================] - 4s 5ms/step - loss: 0.0420 - val_loss: 0.0363\n",
      "Epoch 189/200\n",
      "768/768 [==============================] - 4s 5ms/step - loss: 0.0113 - val_loss: 0.1626\n",
      "Epoch 190/200\n",
      "768/768 [==============================] - 4s 5ms/step - loss: 0.0538 - val_loss: 0.0351\n",
      "Epoch 191/200\n",
      "768/768 [==============================] - 4s 6ms/step - loss: 0.0558 - val_loss: 0.0208\n",
      "Epoch 192/200\n",
      "768/768 [==============================] - 4s 5ms/step - loss: 0.0224 - val_loss: 0.0233\n",
      "Epoch 193/200\n",
      "768/768 [==============================] - 4s 5ms/step - loss: 0.0837 - val_loss: 0.0209\n",
      "Epoch 194/200\n",
      "768/768 [==============================] - 4s 6ms/step - loss: 0.0105 - val_loss: 0.0714\n",
      "Epoch 195/200\n",
      "768/768 [==============================] - 4s 5ms/step - loss: 0.0476 - val_loss: 0.0208\n",
      "Epoch 196/200\n",
      "768/768 [==============================] - 4s 6ms/step - loss: 0.0346 - val_loss: 0.0267\n",
      "Epoch 197/200\n",
      "768/768 [==============================] - 4s 5ms/step - loss: 0.0186 - val_loss: 0.0223\n",
      "Epoch 198/200\n",
      "768/768 [==============================] - 4s 6ms/step - loss: 0.0508 - val_loss: 0.0208\n",
      "Epoch 199/200\n",
      "768/768 [==============================] - 4s 5ms/step - loss: 0.0338 - val_loss: 0.0208\n",
      "Epoch 200/200\n",
      "768/768 [==============================] - 4s 5ms/step - loss: 0.0174 - val_loss: 0.0307\n"
     ]
    }
   ],
   "source": [
    "history = model.fit(X_train_cut, y_train, validation_data=(X_val_cut, y_val),\n",
    "                    epochs=200, verbose=True, batch_size=16, shuffle=True)"
   ]
  },
  {
   "cell_type": "code",
   "execution_count": 17,
   "metadata": {},
   "outputs": [
    {
     "data": {
      "image/png": "[encoded data removed]",
      "text/plain": [
       "<Figure size 432x288 with 1 Axes>"
      ]
     },
     "metadata": {
      "needs_background": "light"
     },
     "output_type": "display_data"
    }
   ],
   "source": [
    "plot_history(history)"
   ]
  },
  {
   "cell_type": "code",
   "execution_count": 19,
   "metadata": {},
   "outputs": [],
   "source": [
    "model.save(os.path.join(data_dir,'trained_models','leaf_regression_shallow.hdf5'))"
   ]
  },
  {
   "cell_type": "code",
   "execution_count": 20,
   "metadata": {},
   "outputs": [],
   "source": [
    "preds = model.predict(X_test_cut)"
   ]
  },
  {
   "cell_type": "code",
   "execution_count": 27,
   "metadata": {},
   "outputs": [
    {
     "data": {
      "text/plain": [
       "(240,)"
      ]
     },
     "execution_count": 27,
     "metadata": {},
     "output_type": "execute_result"
    }
   ],
   "source": [
    "preds.ravel().shape"
   ]
  },
  {
   "cell_type": "code",
   "execution_count": 22,
   "metadata": {},
   "outputs": [
    {
     "data": {
      "text/plain": [
       "(240,)"
      ]
     },
     "execution_count": 22,
     "metadata": {},
     "output_type": "execute_result"
    }
   ],
   "source": [
    "y_test.shape"
   ]
  },
  {
   "cell_type": "code",
   "execution_count": 29,
   "metadata": {},
   "outputs": [],
   "source": [
    "from sklearn.metrics import mean_squared_error as mse"
   ]
  },
  {
   "cell_type": "code",
   "execution_count": 30,
   "metadata": {},
   "outputs": [
    {
     "data": {
      "text/plain": [
       "0.026234348483862153"
      ]
     },
     "execution_count": 30,
     "metadata": {},
     "output_type": "execute_result"
    }
   ],
   "source": [
    "mse(y_test, preds.ravel())"
   ]
  },
  {
   "cell_type": "code",
   "execution_count": 31,
   "metadata": {},
   "outputs": [
    {
     "data": {
      "text/plain": [
       "array([ 2,  4, 10, 25])"
      ]
     },
     "execution_count": 31,
     "metadata": {},
     "output_type": "execute_result"
    }
   ],
   "source": [
    "np.unique(y_test)"
   ]
  },
  {
   "cell_type": "code",
   "execution_count": 34,
   "metadata": {},
   "outputs": [],
   "source": [
    "t_test_2 = y_test[y_test==2]\n",
    "t_test_4 = y_test[y_test==4]\n",
    "t_test_10 = y_test[y_test==10]\n",
    "t_test_25 = y_test[y_test==25]"
   ]
  },
  {
   "cell_type": "code",
   "execution_count": 35,
   "metadata": {},
   "outputs": [
    {
     "name": "stdout",
     "output_type": "stream",
     "text": [
      "(62,) (60,) (60,) (58,)\n"
     ]
    }
   ],
   "source": [
    "print(t_test_2.shape, t_test_4.shape, t_test_10.shape, t_test_25.shape)"
   ]
  },
  {
   "cell_type": "code",
   "execution_count": 37,
   "metadata": {},
   "outputs": [],
   "source": [
    "preds = preds.ravel()"
   ]
  },
  {
   "cell_type": "code",
   "execution_count": 38,
   "metadata": {},
   "outputs": [
    {
     "data": {
      "text/plain": [
       "array([25.009554 , 10.109066 ,  2.00716  ,  4.1311665,  2.00716  ,\n",
       "       25.009554 ,  4.1311665, 25.009554 ,  4.1311665, 10.109066 ,\n",
       "       10.109066 ,  2.00716  ,  2.00716  , 10.109066 ,  2.00716  ,\n",
       "        2.00716  ,  4.1311665, 10.109066 , 10.109066 ,  4.1311665,\n",
       "        4.1311665, 10.109066 , 10.109066 ,  4.1311665,  2.00716  ,\n",
       "        2.005498 , 10.109066 ,  4.1311665,  4.1311665,  4.1311665,\n",
       "        4.1311665, 10.109066 , 10.109066 , 10.109066 ,  4.1311665,\n",
       "        4.1311665,  4.1311665,  2.0060782,  4.1311665, 10.109066 ,\n",
       "       25.009554 ,  2.00716  , 25.009554 ,  4.1311665, 25.009554 ,\n",
       "        4.1311665,  4.1311665,  2.00716  ,  2.00716  ,  2.00716  ,\n",
       "       10.109066 , 25.009554 ,  4.1311665,  2.00716  , 25.009554 ,\n",
       "        4.1311665, 25.009554 , 25.009554 , 25.009554 ,  4.1311665,\n",
       "        4.1311665,  2.00716  ,  2.00716  ,  2.00716  ,  2.00716  ,\n",
       "       25.009554 ,  2.00716  ,  4.1311665,  4.1311665,  4.1311665,\n",
       "        4.1311665,  2.00716  , 25.009554 ,  2.00716  ,  2.00716  ,\n",
       "        4.1311665,  2.00716  ,  2.00716  , 25.009554 , 10.109066 ,\n",
       "       25.009554 ,  2.00716  , 10.109066 ,  2.00716  ,  4.1311665,\n",
       "       25.009554 , 25.009554 ,  2.00716  , 25.009554 , 10.109066 ,\n",
       "        4.1311665,  4.1311665,  2.00716  ,  4.1311665, 25.009554 ,\n",
       "       10.109066 ,  4.1311665, 25.009554 ,  2.00716  ,  2.007151 ,\n",
       "        4.1311665,  2.00716  , 10.109066 ,  2.00716  , 10.109066 ,\n",
       "       10.109066 , 25.009554 , 25.009554 , 25.009554 , 25.009554 ,\n",
       "        4.1311665, 10.109066 ,  2.00716  , 25.009554 , 10.109066 ,\n",
       "       25.009554 ,  2.00716  ,  2.00716  , 10.109066 ,  2.00716  ,\n",
       "        4.1311665, 25.009554 , 25.009554 , 25.009554 ,  4.1311665,\n",
       "       25.009554 ,  4.1311665,  4.1311665, 10.109066 , 10.109066 ,\n",
       "        2.00716  , 25.009554 ,  4.1311665,  2.00716  , 25.009554 ,\n",
       "       10.109066 , 10.109066 ,  4.1311665,  4.1311665, 25.009554 ,\n",
       "       25.009554 , 10.109066 ,  4.1311107, 10.109066 , 10.109066 ,\n",
       "        4.1311665, 10.109066 , 10.109066 ,  4.1311665,  4.1311665,\n",
       "       25.009554 ,  4.1311665, 10.109066 ,  2.00716  , 25.009554 ,\n",
       "        4.1311665,  4.1311665,  2.00716  , 25.009554 ,  4.1311665,\n",
       "       25.009554 , 25.009554 , 25.009554 ,  2.00716  ,  2.00716  ,\n",
       "       10.109066 ,  2.00716  , 10.109066 , 10.109066 ,  2.00716  ,\n",
       "       10.109066 , 25.009554 ,  4.1311665,  2.00716  ,  2.00716  ,\n",
       "        4.1311665,  2.00716  , 25.009554 ,  2.00716  , 10.109066 ,\n",
       "       10.109066 , 10.109066 ,  2.00716  , 25.009554 ,  2.00716  ,\n",
       "       25.009554 ,  4.1311665, 10.109066 ,  4.1311665,  4.1311665,\n",
       "       10.109066 , 10.109066 ,  2.00716  , 10.109066 ,  4.1311665,\n",
       "        2.00716  ,  2.00716  , 25.009554 , 25.009554 ,  2.00716  ,\n",
       "       10.109066 , 25.009554 , 10.109066 , 25.009554 , 10.109066 ,\n",
       "        2.00716  , 10.109066 , 10.109066 , 10.109066 , 25.009554 ,\n",
       "       25.009554 , 10.109066 ,  4.1311665, 10.109066 , 25.009554 ,\n",
       "        2.00716  , 10.109066 ,  2.00716  , 10.109066 ,  4.1311665,\n",
       "       25.009554 , 25.009554 , 25.009554 , 25.009554 ,  2.00716  ,\n",
       "        4.1311665, 10.109066 ,  2.00716  ,  2.00716  , 10.109066 ,\n",
       "        4.1311665,  2.00716  , 25.009554 , 10.109066 , 25.009554 ,\n",
       "        4.1311665, 10.109066 ,  4.1311665, 25.009554 , 10.109066 ],\n",
       "      dtype=float32)"
      ]
     },
     "execution_count": 38,
     "metadata": {},
     "output_type": "execute_result"
    }
   ],
   "source": [
    "preds"
   ]
  },
  {
   "cell_type": "code",
   "execution_count": 39,
   "metadata": {},
   "outputs": [],
   "source": [
    "p2 = preds[y_test==2]\n",
    "p4 = preds[y_test==4]\n",
    "p10 = preds[y_test==10]\n",
    "p25 = preds[y_test==25]"
   ]
  },
  {
   "cell_type": "code",
   "execution_count": 41,
   "metadata": {},
   "outputs": [
    {
     "data": {
      "text/plain": [
       "0.07330584099461963"
      ]
     },
     "execution_count": 41,
     "metadata": {},
     "output_type": "execute_result"
    }
   ],
   "source": [
    "mse(t_test_2, p2)"
   ]
  },
  {
   "cell_type": "code",
   "execution_count": 42,
   "metadata": {},
   "outputs": [
    {
     "data": {
      "text/plain": [
       "0.017204395864553135"
      ]
     },
     "execution_count": 42,
     "metadata": {},
     "output_type": "execute_result"
    }
   ],
   "source": [
    "mse(t_test_4, p4)"
   ]
  },
  {
   "cell_type": "code",
   "execution_count": 43,
   "metadata": {},
   "outputs": [
    {
     "data": {
      "text/plain": [
       "0.01189539443294052"
      ]
     },
     "execution_count": 43,
     "metadata": {},
     "output_type": "execute_result"
    }
   ],
   "source": [
    "mse(t_test_10, p10)"
   ]
  },
  {
   "cell_type": "code",
   "execution_count": 44,
   "metadata": {},
   "outputs": [
    {
     "data": {
      "text/plain": [
       "9.127718294621445e-05"
      ]
     },
     "execution_count": 44,
     "metadata": {},
     "output_type": "execute_result"
    }
   ],
   "source": [
    "mse(t_test_25, p25)"
   ]
  },
  {
   "cell_type": "code",
   "execution_count": 49,
   "metadata": {},
   "outputs": [],
   "source": [
    "from matplotlib.image import imread"
   ]
  },
  {
   "cell_type": "code",
   "execution_count": 57,
   "metadata": {},
   "outputs": [],
   "source": [
    "w = os.walk(os.path.join(data_dir, \"10x10_15mm_v2_8bit_test\"))\n",
    "folder, _, files = next(w)"
   ]
  },
  {
   "cell_type": "code",
   "execution_count": 58,
   "metadata": {},
   "outputs": [
    {
     "data": {
      "text/plain": [
       "'/storage/yw18581/data/10x10_15mm_v2_8bit_test'"
      ]
     },
     "execution_count": 58,
     "metadata": {},
     "output_type": "execute_result"
    }
   ],
   "source": [
    "folder"
   ]
  },
  {
   "cell_type": "code",
   "execution_count": 59,
   "metadata": {},
   "outputs": [
    {
     "data": {
      "text/plain": [
       "['File_0_15mm_mask_1891.tiff',\n",
       " 'File_10_15mm_mask_1909.tiff',\n",
       " 'File_11_15mm_mask_1888.tiff',\n",
       " 'File_12_15mm_mask_1888.tiff',\n",
       " 'File_13_15mm_mask_1885.tiff',\n",
       " 'File_14_15mm_mask_1887.tiff',\n",
       " 'File_15_15mm_mask_1896.tiff',\n",
       " 'File_16_15mm_mask_1892.tiff',\n",
       " 'File_17_15mm_mask_1881.tiff',\n",
       " 'File_1_15mm_mask_1902.tiff',\n",
       " 'File_2_15mm_mask_1898.tiff',\n",
       " 'File_3_15mm_mask_1883.tiff',\n",
       " 'File_4_15mm_mask_1887.tiff',\n",
       " 'File_5_15mm_mask_1888.tiff',\n",
       " 'File_6_15mm_mask_1902.tiff',\n",
       " 'File_7_15mm_mask_1889.tiff',\n",
       " 'File_8_15mm_mask_1885.tiff',\n",
       " 'File_9_15mm_mask_1890.tiff']"
      ]
     },
     "execution_count": 59,
     "metadata": {},
     "output_type": "execute_result"
    }
   ],
   "source": [
    "files"
   ]
  },
  {
   "cell_type": "code",
   "execution_count": 60,
   "metadata": {},
   "outputs": [],
   "source": [
    "gt_15 = [os.path.join(folder, f) for f in files]"
   ]
  },
  {
   "cell_type": "code",
   "execution_count": 61,
   "metadata": {},
   "outputs": [
    {
     "data": {
      "text/plain": [
       "['/storage/yw18581/data/10x10_15mm_v2_8bit_test/File_0_15mm_mask_1891.tiff',\n",
       " '/storage/yw18581/data/10x10_15mm_v2_8bit_test/File_10_15mm_mask_1909.tiff',\n",
       " '/storage/yw18581/data/10x10_15mm_v2_8bit_test/File_11_15mm_mask_1888.tiff',\n",
       " '/storage/yw18581/data/10x10_15mm_v2_8bit_test/File_12_15mm_mask_1888.tiff',\n",
       " '/storage/yw18581/data/10x10_15mm_v2_8bit_test/File_13_15mm_mask_1885.tiff',\n",
       " '/storage/yw18581/data/10x10_15mm_v2_8bit_test/File_14_15mm_mask_1887.tiff',\n",
       " '/storage/yw18581/data/10x10_15mm_v2_8bit_test/File_15_15mm_mask_1896.tiff',\n",
       " '/storage/yw18581/data/10x10_15mm_v2_8bit_test/File_16_15mm_mask_1892.tiff',\n",
       " '/storage/yw18581/data/10x10_15mm_v2_8bit_test/File_17_15mm_mask_1881.tiff',\n",
       " '/storage/yw18581/data/10x10_15mm_v2_8bit_test/File_1_15mm_mask_1902.tiff',\n",
       " '/storage/yw18581/data/10x10_15mm_v2_8bit_test/File_2_15mm_mask_1898.tiff',\n",
       " '/storage/yw18581/data/10x10_15mm_v2_8bit_test/File_3_15mm_mask_1883.tiff',\n",
       " '/storage/yw18581/data/10x10_15mm_v2_8bit_test/File_4_15mm_mask_1887.tiff',\n",
       " '/storage/yw18581/data/10x10_15mm_v2_8bit_test/File_5_15mm_mask_1888.tiff',\n",
       " '/storage/yw18581/data/10x10_15mm_v2_8bit_test/File_6_15mm_mask_1902.tiff',\n",
       " '/storage/yw18581/data/10x10_15mm_v2_8bit_test/File_7_15mm_mask_1889.tiff',\n",
       " '/storage/yw18581/data/10x10_15mm_v2_8bit_test/File_8_15mm_mask_1885.tiff',\n",
       " '/storage/yw18581/data/10x10_15mm_v2_8bit_test/File_9_15mm_mask_1890.tiff']"
      ]
     },
     "execution_count": 61,
     "metadata": {},
     "output_type": "execute_result"
    }
   ],
   "source": [
    "gt_15"
   ]
  },
  {
   "cell_type": "code",
   "execution_count": 67,
   "metadata": {},
   "outputs": [],
   "source": [
    "X_15 = [imread(fp)[ROW_SLICE,COL_SLICE] for fp in gt_15]"
   ]
  },
  {
   "cell_type": "code",
   "execution_count": 66,
   "metadata": {},
   "outputs": [],
   "source": [
    "IMG_WIDTH = 1400\n",
    "IMG_HEIGHT = 1400\n",
    "ROW_SLICE = slice(0, 1400)\n",
    "COL_SLICE = slice(1000, None)\n"
   ]
  },
  {
   "cell_type": "code",
   "execution_count": 70,
   "metadata": {},
   "outputs": [],
   "source": [
    "X_15_cut = cut_X(np.asarray(X_15))"
   ]
  },
  {
   "cell_type": "code",
   "execution_count": 71,
   "metadata": {},
   "outputs": [],
   "source": [
    "preds15 = model.predict(X_15_cut)"
   ]
  },
  {
   "cell_type": "code",
   "execution_count": 72,
   "metadata": {},
   "outputs": [
    {
     "data": {
      "text/plain": [
       "array([[25.009554],\n",
       "       [25.009554],\n",
       "       [25.009554],\n",
       "       [25.009554],\n",
       "       [25.009554],\n",
       "       [25.009554],\n",
       "       [25.009554],\n",
       "       [25.009554],\n",
       "       [25.009554],\n",
       "       [25.009554],\n",
       "       [25.009554],\n",
       "       [25.009554],\n",
       "       [25.009554],\n",
       "       [25.009554],\n",
       "       [25.009554],\n",
       "       [25.009554],\n",
       "       [25.009554],\n",
       "       [25.009554]], dtype=float32)"
      ]
     },
     "execution_count": 72,
     "metadata": {},
     "output_type": "execute_result"
    }
   ],
   "source": [
    "preds15"
   ]
  },
  {
   "cell_type": "code",
   "execution_count": null,
   "metadata": {},
   "outputs": [],
   "source": []
  }
 ],
 "metadata": {
  "kernelspec": {
   "display_name": "Python 3",
   "language": "python",
   "name": "python3"
  },
  "language_info": {
   "codemirror_mode": {
    "name": "ipython",
    "version": 3
   },
   "file_extension": ".py",
   "mimetype": "text/x-python",
   "name": "python",
   "nbconvert_exporter": "python",
   "pygments_lexer": "ipython3",
   "version": "3.6.7"
  }
 },
 "nbformat": 4,
 "nbformat_minor": 2
}
