{
 "cells": [
  {
   "cell_type": "code",
   "execution_count": 1,
   "metadata": {},
   "outputs": [],
   "source": [
    "import numpy as np\n",
    "import os\n",
    "import matplotlib.pyplot as plt\n",
    "%matplotlib inline"
   ]
  },
  {
   "cell_type": "code",
   "execution_count": 2,
   "metadata": {},
   "outputs": [],
   "source": [
    "data_dir = '/storage/yw18581/data/'\n",
    "data_folder = os.path.join(data_dir, 'train_validation_test')"
   ]
  },
  {
   "cell_type": "code",
   "execution_count": 3,
   "metadata": {},
   "outputs": [],
   "source": [
    "\n",
    "def cut_X(arr, reshape = None):\n",
    "    x_cut = arr[:,960:1300,600:]\n",
    "    if reshape:\n",
    "        if len(x_cut.shape)>3:\n",
    "            x_cut = x_cut[...,0]\n",
    "            x_cut_out = x_cut.reshape(x_cut.shape[0],x_cut.shape[1]*x_cut.shape[2])\n",
    "    else:\n",
    "        x_cut_out = x_cut\n",
    "    return x_cut_out\n",
    "\n",
    "def reshape_RF(arr):\n",
    "    arr_RF = arr.reshape((arr.shape[0], arr.shape[1]*arr.shape[2]))\n",
    "    return arr_RF"
   ]
  },
  {
   "cell_type": "code",
   "execution_count": 4,
   "metadata": {},
   "outputs": [],
   "source": [
    "\n",
    "X_train = np.load(os.path.join(data_folder, 'Xy_train_dist.npz'))[\"y\"]\n",
    "y_train = np.load(os.path.join(data_folder, 'Xy_train_dist.npz'))[\"dist\"]\n",
    "\n",
    "X_val = np.load(os.path.join(data_folder,'Xy_val_dist.npz'))[\"y\"]\n",
    "y_val = np.load(os.path.join(data_folder, 'Xy_val_dist.npz'))[\"dist\"]\n",
    "X_test = np.load(os.path.join(data_folder, 'Xy_test_dist.npz'))[\"y\"]\n",
    "y_test = np.load(os.path.join(data_folder, 'Xy_test_dist.npz'))[\"dist\"]"
   ]
  },
  {
   "cell_type": "code",
   "execution_count": 9,
   "metadata": {},
   "outputs": [],
   "source": [
    "\n",
    "X_train_cut = cut_X(X_train)\n",
    "X_train_RF = reshape_RF(X_train_cut)\n",
    "X_test_cut = cut_X(X_test)\n",
    "X_test_RF = reshape_RF(X_test_cut)"
   ]
  },
  {
   "cell_type": "code",
   "execution_count": 24,
   "metadata": {},
   "outputs": [],
   "source": [
    "from sklearn.linear_model import LogisticRegression, LinearRegression"
   ]
  },
  {
   "cell_type": "code",
   "execution_count": 7,
   "metadata": {},
   "outputs": [],
   "source": [
    "logisticRegr = LogisticRegression()"
   ]
  },
  {
   "cell_type": "code",
   "execution_count": 8,
   "metadata": {},
   "outputs": [
    {
     "name": "stderr",
     "output_type": "stream",
     "text": [
      "/users/yw18581/.conda/envs/fluffy-bunnies/lib/python3.6/site-packages/sklearn/linear_model/logistic.py:433: FutureWarning: Default solver will be changed to 'lbfgs' in 0.22. Specify a solver to silence this warning.\n",
      "  FutureWarning)\n",
      "/users/yw18581/.conda/envs/fluffy-bunnies/lib/python3.6/site-packages/sklearn/linear_model/logistic.py:460: FutureWarning: Default multi_class will be changed to 'auto' in 0.22. Specify the multi_class option to silence this warning.\n",
      "  \"this warning.\", FutureWarning)\n"
     ]
    },
    {
     "data": {
      "text/plain": [
       "LogisticRegression(C=1.0, class_weight=None, dual=False, fit_intercept=True,\n",
       "          intercept_scaling=1, max_iter=100, multi_class='warn',\n",
       "          n_jobs=None, penalty='l2', random_state=None, solver='warn',\n",
       "          tol=0.0001, verbose=0, warm_start=False)"
      ]
     },
     "execution_count": 8,
     "metadata": {},
     "output_type": "execute_result"
    }
   ],
   "source": [
    "logisticRegr.fit(X_train_RF, y_train)"
   ]
  },
  {
   "cell_type": "code",
   "execution_count": 11,
   "metadata": {},
   "outputs": [],
   "source": [
    "preds = logisticRegr.predict(X_test_RF)"
   ]
  },
  {
   "cell_type": "code",
   "execution_count": 21,
   "metadata": {},
   "outputs": [],
   "source": [
    "from sklearn.metrics import mean_squared_error, confusion_matrix"
   ]
  },
  {
   "cell_type": "code",
   "execution_count": 13,
   "metadata": {},
   "outputs": [
    {
     "data": {
      "text/plain": [
       "0.0"
      ]
     },
     "execution_count": 13,
     "metadata": {},
     "output_type": "execute_result"
    }
   ],
   "source": [
    "mean_squared_error(y_test, preds)"
   ]
  },
  {
   "cell_type": "code",
   "execution_count": 14,
   "metadata": {},
   "outputs": [],
   "source": [
    "X_1mm = np.load(os.path.join(data_folder, \"Xy_1mm.npz\"))[\"y\"]\n",
    "y_1mm = np.load(os.path.join(data_folder, \"Xy_1mm.npz\"))[\"dist\"]\n",
    "\n",
    "X_3mm = np.load(os.path.join(data_folder, \"Xy_3mm.npz\"))[\"y\"]\n",
    "y_3mm = np.load(os.path.join(data_folder, \"Xy_3mm.npz\"))[\"dist\"]\n",
    "\n",
    "X_15mm = np.load(os.path.join(data_folder, \"Xy_15mm.npz\"))[\"y\"]\n",
    "y_15mm = np.load(os.path.join(data_folder, \"Xy_15mm.npz\"))[\"dist\"]\n",
    "\n",
    "X_20mm = np.load(os.path.join(data_folder, \"Xy_20mm.npz\"))[\"y\"]\n",
    "y_20mm = np.load(os.path.join(data_folder, \"Xy_20mm.npz\"))[\"dist\"]\n",
    "\n",
    "X_30mm = np.load(os.path.join(data_folder, \"Xy_30mm.npz\"))[\"y\"]\n",
    "y_30mm = np.load(os.path.join(data_folder, \"Xy_30mm.npz\"))[\"dist\"]\n",
    "\n",
    "X_35mm = np.load(os.path.join(data_folder, \"Xy_35mm.npz\"))[\"y\"]\n",
    "y_35mm = np.load(os.path.join(data_folder, \"Xy_35mm.npz\"))[\"dist\"]"
   ]
  },
  {
   "cell_type": "code",
   "execution_count": 15,
   "metadata": {},
   "outputs": [],
   "source": [
    "X_1mm_cut = cut_X(X_1mm)\n",
    "X_3mm_cut = cut_X(X_3mm)\n",
    "X_15mm_cut = cut_X(X_15mm)\n",
    "X_20mm_cut = cut_X(X_20mm)\n",
    "X_30mm_cut = cut_X(X_30mm)\n",
    "X_35mm_cut = cut_X(X_35mm)\n",
    "\n",
    "X_1mm_RF  = reshape_RF(X_1mm_cut)\n",
    "X_3mm_RF  = reshape_RF(X_3mm_cut)\n",
    "X_15mm_RF  = reshape_RF(X_15mm_cut)\n",
    "X_20mm_RF  = reshape_RF(X_20mm_cut)\n",
    "X_30mm_RF  = reshape_RF(X_30mm_cut)\n",
    "X_35mm_RF  = reshape_RF(X_35mm_cut)"
   ]
  },
  {
   "cell_type": "code",
   "execution_count": 19,
   "metadata": {},
   "outputs": [],
   "source": [
    "X_new = np.vstack((X_1mm_RF, X_3mm_RF, X_15mm_RF,\n",
    "                X_20mm_RF, X_3mm_RF, X_35mm_RF))"
   ]
  },
  {
   "cell_type": "code",
   "execution_count": 18,
   "metadata": {},
   "outputs": [],
   "source": [
    "y_new = np.hstack((y_1mm, y_3mm, y_15mm,\n",
    "                  y_20mm, y_30mm, y_35mm))"
   ]
  },
  {
   "cell_type": "code",
   "execution_count": 22,
   "metadata": {},
   "outputs": [],
   "source": [
    "new_preds = logisticRegr.predict(X_new)"
   ]
  },
  {
   "cell_type": "code",
   "execution_count": 23,
   "metadata": {},
   "outputs": [
    {
     "data": {
      "text/plain": [
       "array([[  0, 300,   0,   0,   0,   0,   0,   0,   0,   0],\n",
       "       [  0,   0,   0,   0,   0,   0,   0,   0,   0,   0],\n",
       "       [  0,  93,   0, 207,   0,   0,   0,   0,   0,   0],\n",
       "       [  0,   0,   0,   0,   0,   0,   0,   0,   0,   0],\n",
       "       [  0,   0,   0,   0,   0,   0,   0,   0,   0,   0],\n",
       "       [  0,   0,   0,   0, 300,   0,   0,   0,   0,   0],\n",
       "       [  0,   0,   0,   0,   0,   0,   0, 300,   0,   0],\n",
       "       [  0,   0,   0,   0,   0,   0,   0,   0,   0,   0],\n",
       "       [  0,  93,   0, 207,   0,   0,   0,   0,   0,   0],\n",
       "       [  0,   0,   0,   0,   0,   0,   0, 300,   0,   0]])"
      ]
     },
     "execution_count": 23,
     "metadata": {},
     "output_type": "execute_result"
    }
   ],
   "source": [
    "confusion_matrix(y_new, new_preds)"
   ]
  },
  {
   "cell_type": "code",
   "execution_count": 25,
   "metadata": {},
   "outputs": [
    {
     "data": {
      "text/plain": [
       "LinearRegression(copy_X=True, fit_intercept=True, n_jobs=None,\n",
       "         normalize=False)"
      ]
     },
     "execution_count": 25,
     "metadata": {},
     "output_type": "execute_result"
    }
   ],
   "source": [
    "\n",
    "lireg = LinearRegression()\n",
    "lireg.fit(X_train_RF, y_train)\n"
   ]
  },
  {
   "cell_type": "code",
   "execution_count": 26,
   "metadata": {},
   "outputs": [
    {
     "data": {
      "text/plain": [
       "1.0"
      ]
     },
     "execution_count": 26,
     "metadata": {},
     "output_type": "execute_result"
    }
   ],
   "source": [
    "lireg.score(X_train_RF, y_train)"
   ]
  },
  {
   "cell_type": "code",
   "execution_count": 27,
   "metadata": {},
   "outputs": [],
   "source": [
    "pred_lireg = lireg.predict(X_test_RF)"
   ]
  },
  {
   "cell_type": "code",
   "execution_count": 28,
   "metadata": {},
   "outputs": [
    {
     "data": {
      "text/plain": [
       "0.016055751078923094"
      ]
     },
     "execution_count": 28,
     "metadata": {},
     "output_type": "execute_result"
    }
   ],
   "source": [
    "mean_squared_error(y_test, pred_lireg)"
   ]
  },
  {
   "cell_type": "code",
   "execution_count": 30,
   "metadata": {},
   "outputs": [
    {
     "data": {
      "text/plain": [
       "array([25.07588385,  9.96933706,  1.99006857,  3.99688919,  2.0014466 ,\n",
       "       24.87119189,  3.88147691, 24.88794575,  3.97533751, 10.06588251,\n",
       "       10.04917876,  2.01817358,  1.99959348,  9.97050817,  2.13651623,\n",
       "        1.94721907,  4.01383507, 10.02358028,  9.96067566,  3.97047953,\n",
       "        3.95562357,  9.91573294, 10.12078044,  4.0684399 ,  2.00587077,\n",
       "        2.1102118 , 10.10268966,  3.9562631 ,  3.86445626,  3.98832455,\n",
       "        4.11421457, 10.04652286,  9.94779302,  9.99699335,  4.03160496,\n",
       "        3.99854687,  3.99677484,  2.00105001,  4.05599697, 10.03941667,\n",
       "       25.04691495,  2.00817183, 24.96216561,  4.04649943, 24.60580333,\n",
       "        4.18192047,  4.16150448,  2.01989371,  1.98314971,  1.97932271,\n",
       "        9.96237469, 24.93612279,  3.9914733 ,  1.99736267, 24.98971205,\n",
       "        4.00818013, 24.76969528, 25.0706693 , 24.98802979,  4.01134004,\n",
       "        4.06447482,  2.002751  ,  2.21483815,  2.00444846,  1.96627474,\n",
       "       25.01906557,  1.91411088,  4.01311604,  3.96734967,  4.15571684,\n",
       "        3.99958984,  1.97218113, 25.0817944 ,  2.15056784,  1.93643161,\n",
       "        3.99144592,  1.97392458,  2.01190441, 24.96214596,  9.81414213,\n",
       "       24.99204427,  1.93511353,  9.81078709,  1.81983716,  4.00337103,\n",
       "       25.02928066, 24.97918329,  1.96040824, 24.99178332,  9.94985994,\n",
       "        4.00552199,  4.0161748 ,  2.04049838,  4.30690742, 25.10607206,\n",
       "       10.06678723,  4.00240628, 25.10294923,  2.0180649 ,  2.06829279,\n",
       "        3.98235393,  2.29135002, 10.11205191,  2.01828483, 10.04770205,\n",
       "        9.99613961, 25.04665774, 24.984859  , 25.04224423, 24.93204787,\n",
       "        3.93437503,  9.87564461,  2.00320784, 25.02507917, 10.03102292,\n",
       "       25.07337709,  1.82423589,  2.05591157,  9.99774686,  2.00551721,\n",
       "        3.93199945, 25.05004671, 24.42504181, 25.13352699,  3.97062707,\n",
       "       25.05251059,  4.16430401,  2.02507072, 10.03100483, 10.13813206,\n",
       "        2.04132202, 24.05411648,  3.99691555,  2.12729507, 24.78643829,\n",
       "       10.26315296, 10.07441906,  4.02762703,  4.01918437, 24.98108297,\n",
       "       24.97930509, 10.02295506,  4.0094686 ,  9.98486644, 10.01007533,\n",
       "        4.06784958, 10.05018831, 10.00502183,  4.01932107,  3.9509371 ,\n",
       "       24.58134476,  4.03574224, 10.00572065,  1.98217543, 24.96731267,\n",
       "        3.99067879,  4.00194749,  2.03857279, 25.02458462,  3.99640235,\n",
       "       25.00602111, 25.08058212, 24.75340583,  1.94770423,  1.95690253,\n",
       "        9.90557996,  1.86097632, 10.11052276,  9.9530888 ,  2.02743666,\n",
       "       10.01640897, 25.11630687,  4.13597918,  2.00076241,  2.05410994,\n",
       "        4.02277274,  1.91779578, 25.16893952,  1.93513536,  9.96687179,\n",
       "       10.11856238,  9.98328433,  1.98663466, 24.81291679,  1.9530317 ,\n",
       "       25.04792236,  4.05465255,  9.82101744,  3.95185629,  4.16383134,\n",
       "       10.04047373,  9.98714707,  1.95001913,  9.98037304,  3.91905304,\n",
       "        2.00654448,  1.96141631, 25.02271222, 24.98313264,  2.18266106,\n",
       "        9.83453977, 25.18944867, 10.02434047, 24.96831725, 10.01909755,\n",
       "        2.01286102,  9.94348594, 10.00972627,  9.94176107, 24.93481991,\n",
       "       24.97144638,  9.93296117,  4.03195827,  9.35604304, 25.05323407,\n",
       "        1.9913987 ,  9.77937846,  2.08629886, 10.1002498 ,  4.0202413 ,\n",
       "       25.03911443, 24.9725711 , 24.73468171, 24.83074865,  2.07396067,\n",
       "        4.00890448,  9.96968598,  1.98281155,  2.0177376 , 10.09378631,\n",
       "        3.8074024 ,  2.13490783, 25.31244888, 10.0269171 , 24.9924749 ,\n",
       "        3.9224924 ,  9.94259828,  3.88685133, 25.09268277, 10.01763485])"
      ]
     },
     "execution_count": 30,
     "metadata": {},
     "output_type": "execute_result"
    }
   ],
   "source": [
    "pred_lireg"
   ]
  },
  {
   "cell_type": "code",
   "execution_count": 40,
   "metadata": {},
   "outputs": [
    {
     "name": "stderr",
     "output_type": "stream",
     "text": [
      "/users/yw18581/.conda/envs/fluffy-bunnies/lib/python3.6/site-packages/matplotlib/axes/_axes.py:6521: MatplotlibDeprecationWarning: \n",
      "The 'normed' kwarg was deprecated in Matplotlib 2.1 and will be removed in 3.1. Use 'density' instead.\n",
      "  alternative=\"'density'\", removal=\"3.1\")\n"
     ]
    },
    {
     "data": {
      "image/png": "[encoded data removed]",
      "text/plain": [
       "<Figure size 432x288 with 1 Axes>"
      ]
     },
     "metadata": {
      "needs_background": "light"
     },
     "output_type": "display_data"
    }
   ],
   "source": [
    "import numpy as np\n",
    "from scipy.stats import norm\n",
    "import matplotlib.pyplot as plt\n",
    "\n",
    "data = pred_lireg-y_test\n",
    "mean,std=norm.fit(data)\n",
    "\n",
    "plt.hist(data, bins=6, normed=True, facecolor='white',edgecolor =\"k\",  alpha=1)\n",
    "xmin, xmax = plt.xlim()\n",
    "x = np.linspace(xmin, xmax, 100)\n",
    "y = norm.pdf(x, mean, std)\n",
    "plt.plot(x, y, c='r')\n",
    "plt.xlabel('y_pred-y_true(mm)')\n",
    "plt.ylabel('Frequence')\n",
    "plt.title(r'$\\mathrm{Histogram\\ of\\ IQ:}\\ \\mu=%.3f,\\ \\sigma=%.3f$' %(mean, std))\n",
    "plt.show()"
   ]
  },
  {
   "cell_type": "code",
   "execution_count": 42,
   "metadata": {},
   "outputs": [],
   "source": [
    "pred_new_lireg_500 = lireg.predict(X_new[:500])"
   ]
  },
  {
   "cell_type": "code",
   "execution_count": 43,
   "metadata": {},
   "outputs": [],
   "source": [
    "pred_new_lireg_1000 = lireg.predict(X_new[500:1000])"
   ]
  },
  {
   "cell_type": "code",
   "execution_count": 44,
   "metadata": {},
   "outputs": [],
   "source": [
    "pred_new_lireg_1500 = lireg.predict(X_new[1000:1500])"
   ]
  },
  {
   "cell_type": "code",
   "execution_count": 45,
   "metadata": {},
   "outputs": [],
   "source": [
    "pred_new_lireg_1800 = lireg.predict(X_new[1500:1800])"
   ]
  },
  {
   "cell_type": "code",
   "execution_count": 46,
   "metadata": {},
   "outputs": [],
   "source": [
    "pred_new_lireg = np.hstack((pred_new_lireg_500, pred_new_lireg_1000, \n",
    "                            pred_new_lireg_1500, pred_new_lireg_1800))"
   ]
  },
  {
   "cell_type": "code",
   "execution_count": 47,
   "metadata": {},
   "outputs": [
    {
     "data": {
      "text/plain": [
       "135.0585363677929"
      ]
     },
     "execution_count": 47,
     "metadata": {},
     "output_type": "execute_result"
    }
   ],
   "source": [
    "mean_squared_error(pred_new_lireg, y_new)"
   ]
  },
  {
   "cell_type": "code",
   "execution_count": null,
   "metadata": {},
   "outputs": [],
   "source": []
  }
 ],
 "metadata": {
  "kernelspec": {
   "display_name": "Python 3",
   "language": "python",
   "name": "python3"
  },
  "language_info": {
   "codemirror_mode": {
    "name": "ipython",
    "version": 3
   },
   "file_extension": ".py",
   "mimetype": "text/x-python",
   "name": "python",
   "nbconvert_exporter": "python",
   "pygments_lexer": "ipython3",
   "version": "3.6.7"
  }
 },
 "nbformat": 4,
 "nbformat_minor": 2
}
