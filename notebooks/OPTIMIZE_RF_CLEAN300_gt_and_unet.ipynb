{
 "cells": [
  {
   "cell_type": "code",
   "execution_count": 1,
   "metadata": {},
   "outputs": [],
   "source": [
    "import numpy as np\n",
    "from sklearn.externals import joblib\n",
    "from sklearn.ensemble import RandomForestRegressor\n",
    "import os\n",
    "from sklearn.metrics import mean_squared_error, mean_absolute_error\n",
    "import matplotlib.pyplot as plt\n",
    "from sklearn.model_selection import train_test_split\n",
    "import pickle\n",
    "import pandas as pd"
   ]
  },
  {
   "cell_type": "code",
   "execution_count": 2,
   "metadata": {},
   "outputs": [],
   "source": [
    "data_dir = '/storage/yw18581/data/'\n",
    "data_folder = os.path.join(data_dir, 'train_validation_test')\n",
    "clean_dir = os.path.join(data_folder, 'clean_300_june')"
   ]
  },
  {
   "cell_type": "code",
   "execution_count": 3,
   "metadata": {},
   "outputs": [],
   "source": [
    "def cut_X(arr, reshape = None):\n",
    "    x_cut = arr[:,960:1300,600:]\n",
    "    if reshape:\n",
    "        if len(x_cut.shape)>3:\n",
    "            x_cut = x_cut[...,0]\n",
    "            x_cut_out = x_cut.reshape(x_cut.shape[0],x_cut.shape[1]*x_cut.shape[2])\n",
    "    else:\n",
    "        x_cut_out = x_cut\n",
    "    return x_cut_out\n",
    "\n",
    "def reshape_RF(arr):\n",
    "    arr_RF = arr.reshape((arr.shape[0], arr.shape[1]*arr.shape[2]))\n",
    "    return arr_RF\n",
    "\n",
    "def cut_reshape(arr):\n",
    "    arr_cut = cut_X(arr)\n",
    "    arr_RF = reshape_RF(arr_cut)\n",
    "    return arr_RF"
   ]
  },
  {
   "cell_type": "code",
   "execution_count": null,
   "metadata": {},
   "outputs": [],
   "source": [
    "estimators = [20, 30, 50, 80, 120, 180, 250, 300, 500]\n",
    "depths = [10, 50,  100]"
   ]
  },
  {
   "cell_type": "code",
   "execution_count": 4,
   "metadata": {},
   "outputs": [],
   "source": [
    "estimators = [20, 30, 50, 80, 120, 180, 250, 300, 500]\n",
    "depths = [10, 50,  100]"
   ]
  },
  {
   "cell_type": "code",
   "execution_count": 8,
   "metadata": {},
   "outputs": [],
   "source": [
    "Xy_train = np.load(\"/storage/yw18581/data/train_validation_test/Xy_train_clean_300_24_10_25.npz\")"
   ]
  },
  {
   "cell_type": "code",
   "execution_count": 9,
   "metadata": {},
   "outputs": [],
   "source": [
    "Xy_val = np.load(\"/storage/yw18581/data/train_validation_test/Xy_val_clean_300_24_10_25.npz\")"
   ]
  },
  {
   "cell_type": "code",
   "execution_count": 10,
   "metadata": {},
   "outputs": [],
   "source": [
    "Xy_test = np.load(\"/storage/yw18581/data/train_validation_test/Xy_test_clean_300_24_10_25.npz\")"
   ]
  },
  {
   "cell_type": "code",
   "execution_count": 11,
   "metadata": {},
   "outputs": [],
   "source": [
    "X_test = cut_reshape(Xy_test[\"y\"])\n",
    "y_test = Xy_test[\"dist\"]"
   ]
  },
  {
   "cell_type": "code",
   "execution_count": 12,
   "metadata": {},
   "outputs": [],
   "source": [
    "X_train = cut_reshape(Xy_train[\"y\"])\n",
    "y_train = Xy_train[\"dist\"]\n",
    "X_val = cut_reshape(Xy_val[\"y\"])\n",
    "y_val = Xy_val[\"dist\"]"
   ]
  },
  {
   "cell_type": "code",
   "execution_count": 13,
   "metadata": {},
   "outputs": [],
   "source": [
    "X_train = np.vstack((X_train, X_val))\n",
    "y_train = np.hstack((y_train, y_val))"
   ]
  },
  {
   "cell_type": "code",
   "execution_count": 48,
   "metadata": {},
   "outputs": [],
   "source": [
    "def import_no_split(pos, keyword):\n",
    "    Xy = np.load(os.path.join(clean_dir,\"Xy_\"+pos+\"_{}.npz\".format(keyword)))\n",
    "    X = Xy[\"y\"]\n",
    "    y = Xy[\"dist\"]\n",
    "    X_RF = cut_reshape(X)\n",
    "    return X_RF, y\n",
    "\n",
    "X_15_1, y_15_1 = import_no_split(\"15mm\", \"clean300_june\")\n",
    "X_15_2, y_15_2 = import_no_split(\"15mm\", \"second_batch_clean300_june\")\n",
    "\n",
    "X_15_gt = np.vstack((X_15_1, X_15_2))\n",
    "y_15_gt = np.hstack((y_15_1, y_15_2))\n"
   ]
  },
  {
   "cell_type": "code",
   "execution_count": 12,
   "metadata": {},
   "outputs": [],
   "source": [
    "errors_gt = []"
   ]
  },
  {
   "cell_type": "code",
   "execution_count": 24,
   "metadata": {},
   "outputs": [
    {
     "name": "stderr",
     "output_type": "stream",
     "text": [
      "[Parallel(n_jobs=2)]: Using backend ThreadingBackend with 2 concurrent workers.\n"
     ]
    },
    {
     "name": "stdout",
     "output_type": "stream",
     "text": [
      "building tree 1 of 20\n",
      "building tree 2 of 20\n",
      "building tree 3 of 20\n",
      "building tree 4 of 20\n",
      "building tree 5 of 20\n",
      "building tree 6 of 20\n"
     ]
    },
    {
     "ename": "KeyboardInterrupt",
     "evalue": "",
     "output_type": "error",
     "traceback": [
      "\u001b[0;31m---------------------------------------------------------------------------\u001b[0m",
      "\u001b[0;31mKeyboardInterrupt\u001b[0m                         Traceback (most recent call last)",
      "\u001b[0;32m<ipython-input-24-0d7a13a3658d>\u001b[0m in \u001b[0;36m<module>\u001b[0;34m\u001b[0m\n\u001b[1;32m      3\u001b[0m         rf = RandomForestRegressor(random_state=42, n_estimators=est,\n\u001b[1;32m      4\u001b[0m                                   max_depth=dep, n_jobs=2, verbose=2)\n\u001b[0;32m----> 5\u001b[0;31m         \u001b[0mrf\u001b[0m\u001b[0;34m.\u001b[0m\u001b[0mfit\u001b[0m\u001b[0;34m(\u001b[0m\u001b[0mX_train\u001b[0m\u001b[0;34m,\u001b[0m \u001b[0my_train\u001b[0m\u001b[0;34m)\u001b[0m\u001b[0;34m\u001b[0m\u001b[0;34m\u001b[0m\u001b[0m\n\u001b[0m\u001b[1;32m      6\u001b[0m         \u001b[0mpreds_test_gt\u001b[0m \u001b[0;34m=\u001b[0m \u001b[0mrf\u001b[0m\u001b[0;34m.\u001b[0m\u001b[0mpredict\u001b[0m\u001b[0;34m(\u001b[0m\u001b[0mX_test\u001b[0m\u001b[0;34m)\u001b[0m\u001b[0;34m\u001b[0m\u001b[0;34m\u001b[0m\u001b[0m\n\u001b[1;32m      7\u001b[0m         \u001b[0mpreds_test_15mm_gt\u001b[0m \u001b[0;34m=\u001b[0m \u001b[0mrf\u001b[0m\u001b[0;34m.\u001b[0m\u001b[0mpredict\u001b[0m\u001b[0;34m(\u001b[0m\u001b[0mX_15_gt\u001b[0m\u001b[0;34m)\u001b[0m\u001b[0;34m\u001b[0m\u001b[0;34m\u001b[0m\u001b[0m\n",
      "\u001b[0;32m~/.conda/envs/fluffy-bunnies/lib/python3.6/site-packages/sklearn/ensemble/forest.py\u001b[0m in \u001b[0;36mfit\u001b[0;34m(self, X, y, sample_weight)\u001b[0m\n\u001b[1;32m    331\u001b[0m                     \u001b[0mt\u001b[0m\u001b[0;34m,\u001b[0m \u001b[0mself\u001b[0m\u001b[0;34m,\u001b[0m \u001b[0mX\u001b[0m\u001b[0;34m,\u001b[0m \u001b[0my\u001b[0m\u001b[0;34m,\u001b[0m \u001b[0msample_weight\u001b[0m\u001b[0;34m,\u001b[0m \u001b[0mi\u001b[0m\u001b[0;34m,\u001b[0m \u001b[0mlen\u001b[0m\u001b[0;34m(\u001b[0m\u001b[0mtrees\u001b[0m\u001b[0;34m)\u001b[0m\u001b[0;34m,\u001b[0m\u001b[0;34m\u001b[0m\u001b[0;34m\u001b[0m\u001b[0m\n\u001b[1;32m    332\u001b[0m                     verbose=self.verbose, class_weight=self.class_weight)\n\u001b[0;32m--> 333\u001b[0;31m                 for i, t in enumerate(trees))\n\u001b[0m\u001b[1;32m    334\u001b[0m \u001b[0;34m\u001b[0m\u001b[0m\n\u001b[1;32m    335\u001b[0m             \u001b[0;31m# Collect newly grown trees\u001b[0m\u001b[0;34m\u001b[0m\u001b[0;34m\u001b[0m\u001b[0;34m\u001b[0m\u001b[0m\n",
      "\u001b[0;32m~/.conda/envs/fluffy-bunnies/lib/python3.6/site-packages/sklearn/externals/joblib/parallel.py\u001b[0m in \u001b[0;36m__call__\u001b[0;34m(self, iterable)\u001b[0m\n\u001b[1;32m    928\u001b[0m \u001b[0;34m\u001b[0m\u001b[0m\n\u001b[1;32m    929\u001b[0m             \u001b[0;32mwith\u001b[0m \u001b[0mself\u001b[0m\u001b[0;34m.\u001b[0m\u001b[0m_backend\u001b[0m\u001b[0;34m.\u001b[0m\u001b[0mretrieval_context\u001b[0m\u001b[0;34m(\u001b[0m\u001b[0;34m)\u001b[0m\u001b[0;34m:\u001b[0m\u001b[0;34m\u001b[0m\u001b[0;34m\u001b[0m\u001b[0m\n\u001b[0;32m--> 930\u001b[0;31m                 \u001b[0mself\u001b[0m\u001b[0;34m.\u001b[0m\u001b[0mretrieve\u001b[0m\u001b[0;34m(\u001b[0m\u001b[0;34m)\u001b[0m\u001b[0;34m\u001b[0m\u001b[0;34m\u001b[0m\u001b[0m\n\u001b[0m\u001b[1;32m    931\u001b[0m             \u001b[0;31m# Make sure that we get a last message telling us we are done\u001b[0m\u001b[0;34m\u001b[0m\u001b[0;34m\u001b[0m\u001b[0;34m\u001b[0m\u001b[0m\n\u001b[1;32m    932\u001b[0m             \u001b[0melapsed_time\u001b[0m \u001b[0;34m=\u001b[0m \u001b[0mtime\u001b[0m\u001b[0;34m.\u001b[0m\u001b[0mtime\u001b[0m\u001b[0;34m(\u001b[0m\u001b[0;34m)\u001b[0m \u001b[0;34m-\u001b[0m \u001b[0mself\u001b[0m\u001b[0;34m.\u001b[0m\u001b[0m_start_time\u001b[0m\u001b[0;34m\u001b[0m\u001b[0;34m\u001b[0m\u001b[0m\n",
      "\u001b[0;32m~/.conda/envs/fluffy-bunnies/lib/python3.6/site-packages/sklearn/externals/joblib/parallel.py\u001b[0m in \u001b[0;36mretrieve\u001b[0;34m(self)\u001b[0m\n\u001b[1;32m    831\u001b[0m             \u001b[0;32mtry\u001b[0m\u001b[0;34m:\u001b[0m\u001b[0;34m\u001b[0m\u001b[0;34m\u001b[0m\u001b[0m\n\u001b[1;32m    832\u001b[0m                 \u001b[0;32mif\u001b[0m \u001b[0mgetattr\u001b[0m\u001b[0;34m(\u001b[0m\u001b[0mself\u001b[0m\u001b[0;34m.\u001b[0m\u001b[0m_backend\u001b[0m\u001b[0;34m,\u001b[0m \u001b[0;34m'supports_timeout'\u001b[0m\u001b[0;34m,\u001b[0m \u001b[0;32mFalse\u001b[0m\u001b[0;34m)\u001b[0m\u001b[0;34m:\u001b[0m\u001b[0;34m\u001b[0m\u001b[0;34m\u001b[0m\u001b[0m\n\u001b[0;32m--> 833\u001b[0;31m                     \u001b[0mself\u001b[0m\u001b[0;34m.\u001b[0m\u001b[0m_output\u001b[0m\u001b[0;34m.\u001b[0m\u001b[0mextend\u001b[0m\u001b[0;34m(\u001b[0m\u001b[0mjob\u001b[0m\u001b[0;34m.\u001b[0m\u001b[0mget\u001b[0m\u001b[0;34m(\u001b[0m\u001b[0mtimeout\u001b[0m\u001b[0;34m=\u001b[0m\u001b[0mself\u001b[0m\u001b[0;34m.\u001b[0m\u001b[0mtimeout\u001b[0m\u001b[0;34m)\u001b[0m\u001b[0;34m)\u001b[0m\u001b[0;34m\u001b[0m\u001b[0;34m\u001b[0m\u001b[0m\n\u001b[0m\u001b[1;32m    834\u001b[0m                 \u001b[0;32melse\u001b[0m\u001b[0;34m:\u001b[0m\u001b[0;34m\u001b[0m\u001b[0;34m\u001b[0m\u001b[0m\n\u001b[1;32m    835\u001b[0m                     \u001b[0mself\u001b[0m\u001b[0;34m.\u001b[0m\u001b[0m_output\u001b[0m\u001b[0;34m.\u001b[0m\u001b[0mextend\u001b[0m\u001b[0;34m(\u001b[0m\u001b[0mjob\u001b[0m\u001b[0;34m.\u001b[0m\u001b[0mget\u001b[0m\u001b[0;34m(\u001b[0m\u001b[0;34m)\u001b[0m\u001b[0;34m)\u001b[0m\u001b[0;34m\u001b[0m\u001b[0;34m\u001b[0m\u001b[0m\n",
      "\u001b[0;32m~/.conda/envs/fluffy-bunnies/lib/python3.6/multiprocessing/pool.py\u001b[0m in \u001b[0;36mget\u001b[0;34m(self, timeout)\u001b[0m\n\u001b[1;32m    662\u001b[0m \u001b[0;34m\u001b[0m\u001b[0m\n\u001b[1;32m    663\u001b[0m     \u001b[0;32mdef\u001b[0m \u001b[0mget\u001b[0m\u001b[0;34m(\u001b[0m\u001b[0mself\u001b[0m\u001b[0;34m,\u001b[0m \u001b[0mtimeout\u001b[0m\u001b[0;34m=\u001b[0m\u001b[0;32mNone\u001b[0m\u001b[0;34m)\u001b[0m\u001b[0;34m:\u001b[0m\u001b[0;34m\u001b[0m\u001b[0;34m\u001b[0m\u001b[0m\n\u001b[0;32m--> 664\u001b[0;31m         \u001b[0mself\u001b[0m\u001b[0;34m.\u001b[0m\u001b[0mwait\u001b[0m\u001b[0;34m(\u001b[0m\u001b[0mtimeout\u001b[0m\u001b[0;34m)\u001b[0m\u001b[0;34m\u001b[0m\u001b[0;34m\u001b[0m\u001b[0m\n\u001b[0m\u001b[1;32m    665\u001b[0m         \u001b[0;32mif\u001b[0m \u001b[0;32mnot\u001b[0m \u001b[0mself\u001b[0m\u001b[0;34m.\u001b[0m\u001b[0mready\u001b[0m\u001b[0;34m(\u001b[0m\u001b[0;34m)\u001b[0m\u001b[0;34m:\u001b[0m\u001b[0;34m\u001b[0m\u001b[0;34m\u001b[0m\u001b[0m\n\u001b[1;32m    666\u001b[0m             \u001b[0;32mraise\u001b[0m \u001b[0mTimeoutError\u001b[0m\u001b[0;34m\u001b[0m\u001b[0;34m\u001b[0m\u001b[0m\n",
      "\u001b[0;32m~/.conda/envs/fluffy-bunnies/lib/python3.6/multiprocessing/pool.py\u001b[0m in \u001b[0;36mwait\u001b[0;34m(self, timeout)\u001b[0m\n\u001b[1;32m    659\u001b[0m \u001b[0;34m\u001b[0m\u001b[0m\n\u001b[1;32m    660\u001b[0m     \u001b[0;32mdef\u001b[0m \u001b[0mwait\u001b[0m\u001b[0;34m(\u001b[0m\u001b[0mself\u001b[0m\u001b[0;34m,\u001b[0m \u001b[0mtimeout\u001b[0m\u001b[0;34m=\u001b[0m\u001b[0;32mNone\u001b[0m\u001b[0;34m)\u001b[0m\u001b[0;34m:\u001b[0m\u001b[0;34m\u001b[0m\u001b[0;34m\u001b[0m\u001b[0m\n\u001b[0;32m--> 661\u001b[0;31m         \u001b[0mself\u001b[0m\u001b[0;34m.\u001b[0m\u001b[0m_event\u001b[0m\u001b[0;34m.\u001b[0m\u001b[0mwait\u001b[0m\u001b[0;34m(\u001b[0m\u001b[0mtimeout\u001b[0m\u001b[0;34m)\u001b[0m\u001b[0;34m\u001b[0m\u001b[0;34m\u001b[0m\u001b[0m\n\u001b[0m\u001b[1;32m    662\u001b[0m \u001b[0;34m\u001b[0m\u001b[0m\n\u001b[1;32m    663\u001b[0m     \u001b[0;32mdef\u001b[0m \u001b[0mget\u001b[0m\u001b[0;34m(\u001b[0m\u001b[0mself\u001b[0m\u001b[0;34m,\u001b[0m \u001b[0mtimeout\u001b[0m\u001b[0;34m=\u001b[0m\u001b[0;32mNone\u001b[0m\u001b[0;34m)\u001b[0m\u001b[0;34m:\u001b[0m\u001b[0;34m\u001b[0m\u001b[0;34m\u001b[0m\u001b[0m\n",
      "\u001b[0;32m~/.conda/envs/fluffy-bunnies/lib/python3.6/threading.py\u001b[0m in \u001b[0;36mwait\u001b[0;34m(self, timeout)\u001b[0m\n\u001b[1;32m    549\u001b[0m             \u001b[0msignaled\u001b[0m \u001b[0;34m=\u001b[0m \u001b[0mself\u001b[0m\u001b[0;34m.\u001b[0m\u001b[0m_flag\u001b[0m\u001b[0;34m\u001b[0m\u001b[0;34m\u001b[0m\u001b[0m\n\u001b[1;32m    550\u001b[0m             \u001b[0;32mif\u001b[0m \u001b[0;32mnot\u001b[0m \u001b[0msignaled\u001b[0m\u001b[0;34m:\u001b[0m\u001b[0;34m\u001b[0m\u001b[0;34m\u001b[0m\u001b[0m\n\u001b[0;32m--> 551\u001b[0;31m                 \u001b[0msignaled\u001b[0m \u001b[0;34m=\u001b[0m \u001b[0mself\u001b[0m\u001b[0;34m.\u001b[0m\u001b[0m_cond\u001b[0m\u001b[0;34m.\u001b[0m\u001b[0mwait\u001b[0m\u001b[0;34m(\u001b[0m\u001b[0mtimeout\u001b[0m\u001b[0;34m)\u001b[0m\u001b[0;34m\u001b[0m\u001b[0;34m\u001b[0m\u001b[0m\n\u001b[0m\u001b[1;32m    552\u001b[0m             \u001b[0;32mreturn\u001b[0m \u001b[0msignaled\u001b[0m\u001b[0;34m\u001b[0m\u001b[0;34m\u001b[0m\u001b[0m\n\u001b[1;32m    553\u001b[0m \u001b[0;34m\u001b[0m\u001b[0m\n",
      "\u001b[0;32m~/.conda/envs/fluffy-bunnies/lib/python3.6/threading.py\u001b[0m in \u001b[0;36mwait\u001b[0;34m(self, timeout)\u001b[0m\n\u001b[1;32m    293\u001b[0m         \u001b[0;32mtry\u001b[0m\u001b[0;34m:\u001b[0m    \u001b[0;31m# restore state no matter what (e.g., KeyboardInterrupt)\u001b[0m\u001b[0;34m\u001b[0m\u001b[0;34m\u001b[0m\u001b[0m\n\u001b[1;32m    294\u001b[0m             \u001b[0;32mif\u001b[0m \u001b[0mtimeout\u001b[0m \u001b[0;32mis\u001b[0m \u001b[0;32mNone\u001b[0m\u001b[0;34m:\u001b[0m\u001b[0;34m\u001b[0m\u001b[0;34m\u001b[0m\u001b[0m\n\u001b[0;32m--> 295\u001b[0;31m                 \u001b[0mwaiter\u001b[0m\u001b[0;34m.\u001b[0m\u001b[0macquire\u001b[0m\u001b[0;34m(\u001b[0m\u001b[0;34m)\u001b[0m\u001b[0;34m\u001b[0m\u001b[0;34m\u001b[0m\u001b[0m\n\u001b[0m\u001b[1;32m    296\u001b[0m                 \u001b[0mgotit\u001b[0m \u001b[0;34m=\u001b[0m \u001b[0;32mTrue\u001b[0m\u001b[0;34m\u001b[0m\u001b[0;34m\u001b[0m\u001b[0m\n\u001b[1;32m    297\u001b[0m             \u001b[0;32melse\u001b[0m\u001b[0;34m:\u001b[0m\u001b[0;34m\u001b[0m\u001b[0;34m\u001b[0m\u001b[0m\n",
      "\u001b[0;31mKeyboardInterrupt\u001b[0m: "
     ]
    }
   ],
   "source": [
    "for est in estimators:\n",
    "    for dep in depths:\n",
    "        rf = RandomForestRegressor(random_state=42, n_estimators=est,\n",
    "                                  max_depth=dep, n_jobs=2, verbose=2)\n",
    "        rf.fit(X_train, y_train)\n",
    "        preds_test_gt = rf.predict(X_test)\n",
    "        preds_test_15mm_gt = rf.predict(X_15_gt)\n",
    "        \n",
    "        \n",
    "        mse_gt = mean_squared_error(preds_test_gt, y_test)\n",
    "        \n",
    "        mse_15_gt = mean_squared_error(preds_test_15mm_gt, y_15_gt)\n",
    "        \n",
    "        errors_gt.append((rf, est, dep, mse_gt, mse_15_gt))\n",
    "    "
   ]
  },
  {
   "cell_type": "code",
   "execution_count": 27,
   "metadata": {},
   "outputs": [],
   "source": [
    "pickle.dump(errors_gt, \n",
    "            open(os.path.join(data_dir, \"trained_models\", \"RF_OPTIMISATION_CLEAN_300_GT.npz\"), 'wb'))"
   ]
  },
  {
   "cell_type": "code",
   "execution_count": 5,
   "metadata": {},
   "outputs": [],
   "source": [
    "errors = np.load(os.path.join(data_dir, \"trained_models\", \"RF_OPTIMISATION_CLEAN_300_GT.npz\"))"
   ]
  },
  {
   "cell_type": "code",
   "execution_count": 34,
   "metadata": {},
   "outputs": [],
   "source": [
    "errors2 = np.load(os.path.join(data_dir, \"trained_models\", \"RF_OPTIMISATION_CLEAN_300_GT_small_est.npz\"))"
   ]
  },
  {
   "cell_type": "code",
   "execution_count": 35,
   "metadata": {},
   "outputs": [
    {
     "data": {
      "text/plain": [
       "[(RandomForestRegressor(bootstrap=True, criterion='mse', max_depth=None,\n",
       "             max_features='auto', max_leaf_nodes=None,\n",
       "             min_impurity_decrease=0.0, min_impurity_split=None,\n",
       "             min_samples_leaf=1, min_samples_split=2,\n",
       "             min_weight_fraction_leaf=0.0, n_estimators=4, n_jobs=2,\n",
       "             oob_score=False, random_state=42, verbose=2, warm_start=False),\n",
       "  4,\n",
       "  0.0,\n",
       "  25.0),\n",
       " (RandomForestRegressor(bootstrap=True, criterion='mse', max_depth=None,\n",
       "             max_features='auto', max_leaf_nodes=None,\n",
       "             min_impurity_decrease=0.0, min_impurity_split=None,\n",
       "             min_samples_leaf=1, min_samples_split=2,\n",
       "             min_weight_fraction_leaf=0.0, n_estimators=6, n_jobs=2,\n",
       "             oob_score=False, random_state=42, verbose=2, warm_start=False),\n",
       "  6,\n",
       "  0.0009259259259259268,\n",
       "  24.53125),\n",
       " (RandomForestRegressor(bootstrap=True, criterion='mse', max_depth=None,\n",
       "             max_features='auto', max_leaf_nodes=None,\n",
       "             min_impurity_decrease=0.0, min_impurity_split=None,\n",
       "             min_samples_leaf=1, min_samples_split=2,\n",
       "             min_weight_fraction_leaf=0.0, n_estimators=8, n_jobs=2,\n",
       "             oob_score=False, random_state=42, verbose=2, warm_start=False),\n",
       "  8,\n",
       "  0.0005208333333333333,\n",
       "  11.642578125),\n",
       " (RandomForestRegressor(bootstrap=True, criterion='mse', max_depth=None,\n",
       "             max_features='auto', max_leaf_nodes=None,\n",
       "             min_impurity_decrease=0.0, min_impurity_split=None,\n",
       "             min_samples_leaf=1, min_samples_split=2,\n",
       "             min_weight_fraction_leaf=0.0, n_estimators=10, n_jobs=2,\n",
       "             oob_score=False, random_state=42, verbose=2, warm_start=False),\n",
       "  10,\n",
       "  0.0008333333333333333,\n",
       "  6.545),\n",
       " (RandomForestRegressor(bootstrap=True, criterion='mse', max_depth=None,\n",
       "             max_features='auto', max_leaf_nodes=None,\n",
       "             min_impurity_decrease=0.0, min_impurity_split=None,\n",
       "             min_samples_leaf=1, min_samples_split=2,\n",
       "             min_weight_fraction_leaf=0.0, n_estimators=12, n_jobs=2,\n",
       "             oob_score=False, random_state=42, verbose=2, warm_start=False),\n",
       "  12,\n",
       "  0.000578703703703704,\n",
       "  3.0625),\n",
       " (RandomForestRegressor(bootstrap=True, criterion='mse', max_depth=None,\n",
       "             max_features='auto', max_leaf_nodes=None,\n",
       "             min_impurity_decrease=0.0, min_impurity_split=None,\n",
       "             min_samples_leaf=1, min_samples_split=2,\n",
       "             min_weight_fraction_leaf=0.0, n_estimators=14, n_jobs=2,\n",
       "             oob_score=False, random_state=42, verbose=2, warm_start=False),\n",
       "  14,\n",
       "  0.0011054421768707473,\n",
       "  1.415816326530612),\n",
       " (RandomForestRegressor(bootstrap=True, criterion='mse', max_depth=None,\n",
       "             max_features='auto', max_leaf_nodes=None,\n",
       "             min_impurity_decrease=0.0, min_impurity_split=None,\n",
       "             min_samples_leaf=1, min_samples_split=2,\n",
       "             min_weight_fraction_leaf=0.0, n_estimators=16, n_jobs=2,\n",
       "             oob_score=False, random_state=42, verbose=2, warm_start=False),\n",
       "  16,\n",
       "  0.0008463541666666667,\n",
       "  0.498046875),\n",
       " (RandomForestRegressor(bootstrap=True, criterion='mse', max_depth=None,\n",
       "             max_features='auto', max_leaf_nodes=None,\n",
       "             min_impurity_decrease=0.0, min_impurity_split=None,\n",
       "             min_samples_leaf=1, min_samples_split=2,\n",
       "             min_weight_fraction_leaf=0.0, n_estimators=18, n_jobs=2,\n",
       "             oob_score=False, random_state=42, verbose=2, warm_start=False),\n",
       "  18,\n",
       "  0.0018004115226337451,\n",
       "  0.6064814814814823),\n",
       " (RandomForestRegressor(bootstrap=True, criterion='mse', max_depth=None,\n",
       "             max_features='auto', max_leaf_nodes=None,\n",
       "             min_impurity_decrease=0.0, min_impurity_split=None,\n",
       "             min_samples_leaf=1, min_samples_split=2,\n",
       "             min_weight_fraction_leaf=0.0, n_estimators=20, n_jobs=2,\n",
       "             oob_score=False, random_state=42, verbose=2, warm_start=False),\n",
       "  20,\n",
       "  0.0038020833333333322,\n",
       "  0.27125),\n",
       " (RandomForestRegressor(bootstrap=True, criterion='mse', max_depth=None,\n",
       "             max_features='auto', max_leaf_nodes=None,\n",
       "             min_impurity_decrease=0.0, min_impurity_split=None,\n",
       "             min_samples_leaf=1, min_samples_split=2,\n",
       "             min_weight_fraction_leaf=0.0, n_estimators=24, n_jobs=2,\n",
       "             oob_score=False, random_state=42, verbose=2, warm_start=False),\n",
       "  24,\n",
       "  0.0029007523148148143,\n",
       "  0.66015625),\n",
       " (RandomForestRegressor(bootstrap=True, criterion='mse', max_depth=None,\n",
       "             max_features='auto', max_leaf_nodes=None,\n",
       "             min_impurity_decrease=0.0, min_impurity_split=None,\n",
       "             min_samples_leaf=1, min_samples_split=2,\n",
       "             min_weight_fraction_leaf=0.0, n_estimators=28, n_jobs=2,\n",
       "             oob_score=False, random_state=42, verbose=2, warm_start=False),\n",
       "  28,\n",
       "  0.002365008503401356,\n",
       "  0.6532206632653054),\n",
       " (RandomForestRegressor(bootstrap=True, criterion='mse', max_depth=None,\n",
       "             max_features='auto', max_leaf_nodes=None,\n",
       "             min_impurity_decrease=0.0, min_impurity_split=None,\n",
       "             min_samples_leaf=1, min_samples_split=2,\n",
       "             min_weight_fraction_leaf=0.0, n_estimators=30, n_jobs=2,\n",
       "             oob_score=False, random_state=42, verbose=2, warm_start=False),\n",
       "  30,\n",
       "  0.0020601851851851853,\n",
       "  0.7120833333333333),\n",
       " (RandomForestRegressor(bootstrap=True, criterion='mse', max_depth=None,\n",
       "             max_features='auto', max_leaf_nodes=None,\n",
       "             min_impurity_decrease=0.0, min_impurity_split=None,\n",
       "             min_samples_leaf=1, min_samples_split=2,\n",
       "             min_weight_fraction_leaf=0.0, n_estimators=32, n_jobs=2,\n",
       "             oob_score=False, random_state=42, verbose=2, warm_start=False),\n",
       "  32,\n",
       "  0.0018107096354166667,\n",
       "  0.83251953125),\n",
       " (RandomForestRegressor(bootstrap=True, criterion='mse', max_depth=None,\n",
       "             max_features='auto', max_leaf_nodes=None,\n",
       "             min_impurity_decrease=0.0, min_impurity_split=None,\n",
       "             min_samples_leaf=1, min_samples_split=2,\n",
       "             min_weight_fraction_leaf=0.0, n_estimators=36, n_jobs=2,\n",
       "             oob_score=False, random_state=42, verbose=2, warm_start=False),\n",
       "  36,\n",
       "  0.0017264660493827206,\n",
       "  3.0271990740740744),\n",
       " (RandomForestRegressor(bootstrap=True, criterion='mse', max_depth=None,\n",
       "             max_features='auto', max_leaf_nodes=None,\n",
       "             min_impurity_decrease=0.0, min_impurity_split=None,\n",
       "             min_samples_leaf=1, min_samples_split=2,\n",
       "             min_weight_fraction_leaf=0.0, n_estimators=40, n_jobs=2,\n",
       "             oob_score=False, random_state=42, verbose=2, warm_start=False),\n",
       "  40,\n",
       "  0.0014088541666666676,\n",
       "  4.537109375),\n",
       " (RandomForestRegressor(bootstrap=True, criterion='mse', max_depth=None,\n",
       "             max_features='auto', max_leaf_nodes=None,\n",
       "             min_impurity_decrease=0.0, min_impurity_split=None,\n",
       "             min_samples_leaf=1, min_samples_split=2,\n",
       "             min_weight_fraction_leaf=0.0, n_estimators=50, n_jobs=2,\n",
       "             oob_score=False, random_state=42, verbose=2, warm_start=False),\n",
       "  50,\n",
       "  0.0013150000000000024,\n",
       "  3.6307499999999995)]"
      ]
     },
     "execution_count": 35,
     "metadata": {},
     "output_type": "execute_result"
    }
   ],
   "source": [
    "errors2"
   ]
  },
  {
   "cell_type": "code",
   "execution_count": null,
   "metadata": {},
   "outputs": [],
   "source": []
  },
  {
   "cell_type": "code",
   "execution_count": 14,
   "metadata": {},
   "outputs": [],
   "source": [
    "rf = RandomForestRegressor(random_state=42, n_estimators=20, n_jobs=2, verbose=2)"
   ]
  },
  {
   "cell_type": "code",
   "execution_count": 17,
   "metadata": {},
   "outputs": [],
   "source": [
    "rf = errors[1][0]"
   ]
  },
  {
   "cell_type": "code",
   "execution_count": 18,
   "metadata": {},
   "outputs": [
    {
     "data": {
      "text/plain": [
       "RandomForestRegressor(bootstrap=True, criterion='mse', max_depth=50,\n",
       "           max_features='auto', max_leaf_nodes=None,\n",
       "           min_impurity_decrease=0.0, min_impurity_split=None,\n",
       "           min_samples_leaf=1, min_samples_split=2,\n",
       "           min_weight_fraction_leaf=0.0, n_estimators=20, n_jobs=2,\n",
       "           oob_score=False, random_state=42, verbose=2, warm_start=False)"
      ]
     },
     "execution_count": 18,
     "metadata": {},
     "output_type": "execute_result"
    }
   ],
   "source": [
    "rf"
   ]
  },
  {
   "cell_type": "code",
   "execution_count": 19,
   "metadata": {},
   "outputs": [],
   "source": [
    "Xy_15mm_unet = np.load(\"/storage/yw18581/data/trained_models/preds_15mm.npz\")\n",
    "\n",
    "preds_15mm_unet = Xy_15mm_unet[\"preds_15mm\"]"
   ]
  },
  {
   "cell_type": "code",
   "execution_count": 20,
   "metadata": {},
   "outputs": [],
   "source": [
    "X_RF_15_unet = cut_reshape(preds_15mm_unet)\n",
    "\n",
    "X_RF_15_unet_uint = X_RF_15_unet.astype(np.uint8)*255"
   ]
  },
  {
   "cell_type": "code",
   "execution_count": 21,
   "metadata": {},
   "outputs": [],
   "source": [
    "Xy_test_unet = np.load(\"/storage/yw18581/data/trained_models/preds_500.npz\")"
   ]
  },
  {
   "cell_type": "code",
   "execution_count": 22,
   "metadata": {},
   "outputs": [],
   "source": [
    "y_test_unet = Xy_test_unet[\"preds_500\"]\n",
    "\n",
    "y_test_unet_reshape = cut_reshape(y_test_unet).astype(np.uint8)*255"
   ]
  },
  {
   "cell_type": "code",
   "execution_count": 23,
   "metadata": {},
   "outputs": [
    {
     "name": "stderr",
     "output_type": "stream",
     "text": [
      "[Parallel(n_jobs=2)]: Using backend ThreadingBackend with 2 concurrent workers.\n",
      "[Parallel(n_jobs=2)]: Done  20 out of  20 | elapsed:    0.0s finished\n",
      "[Parallel(n_jobs=2)]: Using backend ThreadingBackend with 2 concurrent workers.\n",
      "[Parallel(n_jobs=2)]: Done  20 out of  20 | elapsed:    0.0s finished\n"
     ]
    }
   ],
   "source": [
    "preds_test_unet = rf.predict(y_test_unet_reshape)\n",
    "preds_test_15mm_unet = rf.predict(X_RF_15_unet_uint)"
   ]
  },
  {
   "cell_type": "code",
   "execution_count": 24,
   "metadata": {},
   "outputs": [],
   "source": [
    "mse_unet = mean_squared_error(preds_test_unet, y_test)\n"
   ]
  },
  {
   "cell_type": "code",
   "execution_count": 26,
   "metadata": {},
   "outputs": [],
   "source": [
    "y_15_gt = np.ones(preds_test_15mm_unet.shape[0])*15"
   ]
  },
  {
   "cell_type": "code",
   "execution_count": 31,
   "metadata": {},
   "outputs": [],
   "source": [
    "mse_15_unet = mean_squared_error(preds_test_15mm_unet-2, y_15_gt)"
   ]
  },
  {
   "cell_type": "code",
   "execution_count": 28,
   "metadata": {},
   "outputs": [
    {
     "data": {
      "text/plain": [
       "0.16402083333333328"
      ]
     },
     "execution_count": 28,
     "metadata": {},
     "output_type": "execute_result"
    }
   ],
   "source": [
    "mse_unet"
   ]
  },
  {
   "cell_type": "code",
   "execution_count": 32,
   "metadata": {},
   "outputs": [
    {
     "data": {
      "text/plain": [
       "0.4434375"
      ]
     },
     "execution_count": 32,
     "metadata": {},
     "output_type": "execute_result"
    }
   ],
   "source": [
    "mse_15_unet"
   ]
  },
  {
   "cell_type": "code",
   "execution_count": 33,
   "metadata": {},
   "outputs": [
    {
     "data": {
      "text/plain": [
       "array([14.75, 14.75, 14.75, 14.75, 15.5 , 14.75, 14.75, 15.5 , 14.75,\n",
       "       17.  , 15.5 , 15.5 , 14.75, 15.5 , 15.5 , 15.5 , 14.75, 15.5 ,\n",
       "       15.5 , 15.5 , 15.5 , 14.75, 15.5 , 15.5 , 15.5 , 15.5 , 15.5 ,\n",
       "       14.  , 14.75, 15.5 , 15.5 , 14.75, 14.75, 15.5 , 15.5 , 15.5 ,\n",
       "       14.75, 14.75, 14.75, 15.5 , 15.5 , 15.5 , 15.5 , 14.75, 15.5 ,\n",
       "       15.5 , 15.5 , 15.5 , 15.5 , 15.5 , 14.75, 15.5 , 14.75, 16.25,\n",
       "       14.75, 14.75, 14.  , 14.75, 14.75, 14.75, 14.75, 14.75, 14.75,\n",
       "       15.5 , 14.75, 15.5 , 14.75, 15.5 , 15.5 , 16.25, 15.5 , 15.5 ,\n",
       "       14.75, 15.5 , 14.75, 15.5 , 15.5 , 14.75, 14.75, 14.75, 16.25,\n",
       "       14.75, 15.5 , 16.25, 15.5 , 15.5 , 14.75, 14.75, 16.25, 15.5 ,\n",
       "       15.5 , 15.5 , 14.  , 16.25, 15.5 , 15.5 , 15.5 , 14.75, 15.5 ,\n",
       "       14.75, 14.75, 15.5 , 14.75, 15.5 , 14.75, 15.5 , 15.5 , 14.75,\n",
       "       14.75, 15.5 , 14.75, 15.5 , 14.75, 16.25, 15.5 , 15.5 , 15.5 ,\n",
       "       15.5 , 14.75, 14.  , 16.25, 15.5 , 14.75, 15.5 , 15.5 , 15.5 ,\n",
       "       15.5 , 15.5 , 15.5 , 14.75, 15.5 , 15.5 , 14.75, 15.5 , 14.75,\n",
       "       15.5 , 15.5 , 16.25, 14.75, 15.5 , 14.75, 15.5 , 15.5 , 16.25,\n",
       "       17.  , 16.25, 14.  , 15.5 , 15.5 , 15.5 , 14.75, 15.5 , 15.5 ,\n",
       "       15.5 , 16.25, 14.75, 13.25, 15.5 , 14.75, 14.75, 14.  , 15.5 ,\n",
       "       14.75, 14.75, 16.25, 15.5 , 15.5 , 13.25, 15.5 , 14.75, 14.75,\n",
       "       16.25, 14.75, 14.75, 16.25, 16.25, 15.5 , 14.75, 15.5 , 15.5 ,\n",
       "       14.75, 15.5 , 14.75, 15.5 , 17.  , 17.  , 14.75, 15.5 , 15.5 ,\n",
       "       15.5 , 15.5 , 14.75, 14.75, 15.5 , 16.25, 14.75, 13.25, 13.25,\n",
       "       15.5 , 14.75, 16.25, 14.75, 14.75, 15.5 , 14.75, 15.5 , 15.5 ,\n",
       "       14.75, 14.75, 14.75, 15.5 , 14.75, 14.75, 15.5 , 14.75, 15.5 ,\n",
       "       15.5 , 15.5 , 15.5 , 15.5 , 15.5 , 15.5 , 15.5 , 15.5 , 14.75,\n",
       "       14.  , 15.5 , 14.75, 15.5 , 15.5 , 14.75, 14.75, 16.25, 14.  ,\n",
       "       14.75, 14.75, 14.  , 14.75, 14.75, 15.5 , 15.5 , 14.75, 15.5 ,\n",
       "       15.5 , 15.5 , 15.5 , 15.5 , 14.75, 15.5 , 14.  , 15.5 , 15.5 ,\n",
       "       14.  , 15.5 , 14.75, 14.75, 13.25, 15.5 , 14.75, 15.5 , 15.5 ,\n",
       "       14.75, 15.5 , 15.5 , 15.5 , 14.  , 14.75, 15.5 , 15.5 , 14.75,\n",
       "       16.25, 15.5 , 14.75, 15.5 , 14.  , 15.5 , 14.75, 16.25, 14.75,\n",
       "       14.75, 14.75, 14.75, 14.75, 15.5 , 14.75, 15.5 , 15.5 , 15.5 ,\n",
       "       15.5 , 15.5 , 14.75, 13.25, 16.25, 15.5 , 14.75, 14.75, 15.5 ,\n",
       "       14.75, 15.5 , 14.75, 14.75, 15.5 , 15.5 , 15.5 , 14.  , 15.5 ,\n",
       "       16.25, 15.5 , 15.5 , 14.75, 15.5 , 14.75, 15.5 , 15.5 , 15.5 ,\n",
       "       14.75, 15.5 , 15.5 , 14.75, 14.  , 16.25, 14.75, 14.75, 15.5 ,\n",
       "       14.75, 15.5 , 15.5 , 14.75, 14.75, 15.5 , 16.25, 15.5 , 15.5 ,\n",
       "       14.75, 13.25, 16.25, 15.5 , 15.5 , 15.5 , 15.5 , 14.75, 14.75,\n",
       "       15.5 , 15.5 , 14.75, 16.25, 15.5 , 14.75, 15.5 , 15.5 , 15.5 ,\n",
       "       14.75, 16.25, 14.  , 14.75, 14.75, 14.75, 15.5 , 14.75, 14.75,\n",
       "       15.5 , 14.75, 15.5 , 14.  , 13.25, 15.5 , 14.75, 15.5 , 14.75,\n",
       "       14.75, 16.25, 14.75, 14.75, 15.5 , 14.75, 15.5 , 14.75, 15.5 ,\n",
       "       14.75, 17.  , 14.75, 15.5 , 14.  , 15.5 , 15.5 , 15.5 , 15.5 ,\n",
       "       15.5 , 14.75, 16.25, 15.5 , 14.75, 14.  , 15.5 , 15.5 , 15.5 ,\n",
       "       14.75, 14.75, 14.  , 15.5 , 14.75, 15.5 , 14.75, 14.75, 14.75,\n",
       "       16.25, 15.5 , 14.75, 14.  , 14.75, 15.5 , 15.5 , 15.5 , 14.75,\n",
       "       15.5 , 15.5 , 16.25, 14.75, 15.5 , 13.25, 16.25, 15.5 , 15.5 ,\n",
       "       14.75, 14.75, 15.5 , 15.5 , 14.  , 15.5 , 15.5 , 15.5 , 14.75,\n",
       "       15.5 , 14.75, 14.75, 15.5 , 15.5 , 14.75, 14.75, 14.  , 16.25,\n",
       "       15.5 , 14.75, 15.5 , 14.75, 14.75, 14.75, 15.5 , 15.5 , 15.5 ,\n",
       "       15.5 , 15.5 , 15.5 , 16.25, 14.75, 15.5 , 15.5 , 15.5 , 15.5 ,\n",
       "       14.  , 15.5 , 15.5 , 14.75, 14.75, 14.75, 16.25, 15.5 , 15.5 ,\n",
       "       15.5 , 13.25, 15.5 , 14.75, 14.75, 14.75, 14.75, 16.25, 14.75,\n",
       "       15.5 , 14.  , 15.5 , 17.  , 15.5 , 14.75, 15.5 , 14.75, 16.25,\n",
       "       15.5 , 15.5 , 14.75, 14.75, 15.5 , 16.25, 14.75, 15.5 , 14.75,\n",
       "       15.5 , 16.25, 15.5 , 14.75, 15.5 , 15.5 , 15.5 , 16.25, 15.5 ,\n",
       "       14.75, 16.25, 15.5 , 15.5 , 14.  , 15.5 , 14.75, 15.5 , 14.  ,\n",
       "       15.5 , 15.5 , 16.25, 14.75, 15.5 , 13.25, 17.  , 15.5 , 14.75,\n",
       "       15.5 , 13.25, 14.75, 15.5 , 15.5 , 15.5 , 15.5 , 16.25, 14.75,\n",
       "       14.75, 15.5 , 14.75, 14.75, 15.5 , 14.75, 15.5 , 14.75, 16.25,\n",
       "       14.75, 15.5 , 14.75, 15.5 , 16.25, 15.5 , 14.75, 14.75, 15.5 ,\n",
       "       16.25, 15.5 , 15.5 , 15.5 , 15.5 , 16.25, 14.75, 14.75, 16.25,\n",
       "       14.75, 15.5 , 14.75, 14.75, 14.75, 13.25, 15.5 , 14.75, 14.75,\n",
       "       14.75, 15.5 , 14.75, 14.75, 15.5 , 15.5 , 14.75, 15.5 , 14.75,\n",
       "       14.75, 15.5 , 14.75, 15.5 , 15.5 , 15.5 , 15.5 , 13.25, 16.25,\n",
       "       14.75, 15.5 , 14.75, 15.5 , 14.75, 16.25, 15.5 , 15.5 , 16.25,\n",
       "       15.5 , 14.75, 15.5 , 14.  , 16.25, 14.75])"
      ]
     },
     "execution_count": 33,
     "metadata": {},
     "output_type": "execute_result"
    }
   ],
   "source": [
    "preds_test_15mm_unet-2"
   ]
  },
  {
   "cell_type": "code",
   "execution_count": 36,
   "metadata": {},
   "outputs": [],
   "source": [
    "errors3 = np.load(os.path.join(data_dir, \"trained_models\", \"RF_OPTIMISATION_CLEAN_300_GT_large_est.npz\"))"
   ]
  },
  {
   "cell_type": "code",
   "execution_count": 37,
   "metadata": {},
   "outputs": [
    {
     "data": {
      "text/plain": [
       "[(RandomForestRegressor(bootstrap=True, criterion='mse', max_depth=None,\n",
       "             max_features='auto', max_leaf_nodes=None,\n",
       "             min_impurity_decrease=0.0, min_impurity_split=None,\n",
       "             min_samples_leaf=1, min_samples_split=2,\n",
       "             min_weight_fraction_leaf=0.0, n_estimators=50, n_jobs=2,\n",
       "             oob_score=False, random_state=42, verbose=2, warm_start=False),\n",
       "  50,\n",
       "  0.0013150000000000024,\n",
       "  3.6307499999999995),\n",
       " (RandomForestRegressor(bootstrap=True, criterion='mse', max_depth=None,\n",
       "             max_features='auto', max_leaf_nodes=None,\n",
       "             min_impurity_decrease=0.0, min_impurity_split=None,\n",
       "             min_samples_leaf=1, min_samples_split=2,\n",
       "             min_weight_fraction_leaf=0.0, n_estimators=60, n_jobs=2,\n",
       "             oob_score=False, random_state=42, verbose=2, warm_start=False),\n",
       "  60,\n",
       "  0.0009131944444444442,\n",
       "  5.826770833333334),\n",
       " (RandomForestRegressor(bootstrap=True, criterion='mse', max_depth=None,\n",
       "             max_features='auto', max_leaf_nodes=None,\n",
       "             min_impurity_decrease=0.0, min_impurity_split=None,\n",
       "             min_samples_leaf=1, min_samples_split=2,\n",
       "             min_weight_fraction_leaf=0.0, n_estimators=70, n_jobs=2,\n",
       "             oob_score=False, random_state=42, verbose=2, warm_start=False),\n",
       "  70,\n",
       "  0.0008681972789115669,\n",
       "  5.681352040816326),\n",
       " (RandomForestRegressor(bootstrap=True, criterion='mse', max_depth=None,\n",
       "             max_features='auto', max_leaf_nodes=None,\n",
       "             min_impurity_decrease=0.0, min_impurity_split=None,\n",
       "             min_samples_leaf=1, min_samples_split=2,\n",
       "             min_weight_fraction_leaf=0.0, n_estimators=72, n_jobs=2,\n",
       "             oob_score=False, random_state=42, verbose=2, warm_start=False),\n",
       "  72,\n",
       "  0.0008206340020576111,\n",
       "  4.766999421296297),\n",
       " (RandomForestRegressor(bootstrap=True, criterion='mse', max_depth=None,\n",
       "             max_features='auto', max_leaf_nodes=None,\n",
       "             min_impurity_decrease=0.0, min_impurity_split=None,\n",
       "             min_samples_leaf=1, min_samples_split=2,\n",
       "             min_weight_fraction_leaf=0.0, n_estimators=76, n_jobs=2,\n",
       "             oob_score=False, random_state=42, verbose=2, warm_start=False),\n",
       "  76,\n",
       "  0.0007365246999076616,\n",
       "  3.331046572022161),\n",
       " (RandomForestRegressor(bootstrap=True, criterion='mse', max_depth=None,\n",
       "             max_features='auto', max_leaf_nodes=None,\n",
       "             min_impurity_decrease=0.0, min_impurity_split=None,\n",
       "             min_samples_leaf=1, min_samples_split=2,\n",
       "             min_weight_fraction_leaf=0.0, n_estimators=80, n_jobs=2,\n",
       "             oob_score=False, random_state=42, verbose=2, warm_start=False),\n",
       "  80,\n",
       "  0.0006647135416666664,\n",
       "  2.97041015625),\n",
       " (RandomForestRegressor(bootstrap=True, criterion='mse', max_depth=None,\n",
       "             max_features='auto', max_leaf_nodes=None,\n",
       "             min_impurity_decrease=0.0, min_impurity_split=None,\n",
       "             min_samples_leaf=1, min_samples_split=2,\n",
       "             min_weight_fraction_leaf=0.0, n_estimators=88, n_jobs=2,\n",
       "             oob_score=False, random_state=42, verbose=2, warm_start=False),\n",
       "  88,\n",
       "  0.0006031551308539975,\n",
       "  3.1733600206611565),\n",
       " (RandomForestRegressor(bootstrap=True, criterion='mse', max_depth=None,\n",
       "             max_features='auto', max_leaf_nodes=None,\n",
       "             min_impurity_decrease=0.0, min_impurity_split=None,\n",
       "             min_samples_leaf=1, min_samples_split=2,\n",
       "             min_weight_fraction_leaf=0.0, n_estimators=96, n_jobs=2,\n",
       "             oob_score=False, random_state=42, verbose=2, warm_start=False),\n",
       "  96,\n",
       "  0.0005086263020833334,\n",
       "  3.8658040364583335),\n",
       " (RandomForestRegressor(bootstrap=True, criterion='mse', max_depth=None,\n",
       "             max_features='auto', max_leaf_nodes=None,\n",
       "             min_impurity_decrease=0.0, min_impurity_split=None,\n",
       "             min_samples_leaf=1, min_samples_split=2,\n",
       "             min_weight_fraction_leaf=0.0, n_estimators=100, n_jobs=2,\n",
       "             oob_score=False, random_state=42, verbose=2, warm_start=False),\n",
       "  100,\n",
       "  0.0005287499999999982,\n",
       "  3.29705),\n",
       " (RandomForestRegressor(bootstrap=True, criterion='mse', max_depth=None,\n",
       "             max_features='auto', max_leaf_nodes=None,\n",
       "             min_impurity_decrease=0.0, min_impurity_split=None,\n",
       "             min_samples_leaf=1, min_samples_split=2,\n",
       "             min_weight_fraction_leaf=0.0, n_estimators=120, n_jobs=2,\n",
       "             oob_score=False, random_state=42, verbose=2, warm_start=False),\n",
       "  120,\n",
       "  0.00045978009259259317,\n",
       "  2.7011458333333334),\n",
       " (RandomForestRegressor(bootstrap=True, criterion='mse', max_depth=None,\n",
       "             max_features='auto', max_leaf_nodes=None,\n",
       "             min_impurity_decrease=0.0, min_impurity_split=None,\n",
       "             min_samples_leaf=1, min_samples_split=2,\n",
       "             min_weight_fraction_leaf=0.0, n_estimators=160, n_jobs=2,\n",
       "             oob_score=False, random_state=42, verbose=2, warm_start=False),\n",
       "  160,\n",
       "  0.0003686523437499993,\n",
       "  2.8471826171875),\n",
       " (RandomForestRegressor(bootstrap=True, criterion='mse', max_depth=None,\n",
       "             max_features='auto', max_leaf_nodes=None,\n",
       "             min_impurity_decrease=0.0, min_impurity_split=None,\n",
       "             min_samples_leaf=1, min_samples_split=2,\n",
       "             min_weight_fraction_leaf=0.0, n_estimators=200, n_jobs=2,\n",
       "             oob_score=False, random_state=42, verbose=2, warm_start=False),\n",
       "  200,\n",
       "  0.0003605208333333326,\n",
       "  2.327403125),\n",
       " (RandomForestRegressor(bootstrap=True, criterion='mse', max_depth=None,\n",
       "             max_features='auto', max_leaf_nodes=None,\n",
       "             min_impurity_decrease=0.0, min_impurity_split=None,\n",
       "             min_samples_leaf=1, min_samples_split=2,\n",
       "             min_weight_fraction_leaf=0.0, n_estimators=240, n_jobs=2,\n",
       "             oob_score=False, random_state=42, verbose=2, warm_start=False),\n",
       "  240,\n",
       "  0.0002824797453703712,\n",
       "  2.0438346354166668),\n",
       " (RandomForestRegressor(bootstrap=True, criterion='mse', max_depth=None,\n",
       "             max_features='auto', max_leaf_nodes=None,\n",
       "             min_impurity_decrease=0.0, min_impurity_split=None,\n",
       "             min_samples_leaf=1, min_samples_split=2,\n",
       "             min_weight_fraction_leaf=0.0, n_estimators=300, n_jobs=2,\n",
       "             oob_score=False, random_state=42, verbose=2, warm_start=False),\n",
       "  300,\n",
       "  0.00035361111111111297,\n",
       "  1.7061625000000002),\n",
       " (RandomForestRegressor(bootstrap=True, criterion='mse', max_depth=None,\n",
       "             max_features='auto', max_leaf_nodes=None,\n",
       "             min_impurity_decrease=0.0, min_impurity_split=None,\n",
       "             min_samples_leaf=1, min_samples_split=2,\n",
       "             min_weight_fraction_leaf=0.0, n_estimators=400, n_jobs=2,\n",
       "             oob_score=False, random_state=42, verbose=2, warm_start=False),\n",
       "  400,\n",
       "  0.00040492187500000126,\n",
       "  1.0550820312499998),\n",
       " (RandomForestRegressor(bootstrap=True, criterion='mse', max_depth=None,\n",
       "             max_features='auto', max_leaf_nodes=None,\n",
       "             min_impurity_decrease=0.0, min_impurity_split=None,\n",
       "             min_samples_leaf=1, min_samples_split=2,\n",
       "             min_weight_fraction_leaf=0.0, n_estimators=500, n_jobs=2,\n",
       "             oob_score=False, random_state=42, verbose=2, warm_start=False),\n",
       "  500,\n",
       "  0.00047241666666666715,\n",
       "  0.7977779999999999),\n",
       " (RandomForestRegressor(bootstrap=True, criterion='mse', max_depth=None,\n",
       "             max_features='auto', max_leaf_nodes=None,\n",
       "             min_impurity_decrease=0.0, min_impurity_split=None,\n",
       "             min_samples_leaf=1, min_samples_split=2,\n",
       "             min_weight_fraction_leaf=0.0, n_estimators=750, n_jobs=2,\n",
       "             oob_score=False, random_state=42, verbose=2, warm_start=False),\n",
       "  750,\n",
       "  0.0005070148148148122,\n",
       "  0.9754619999999999),\n",
       " (RandomForestRegressor(bootstrap=True, criterion='mse', max_depth=None,\n",
       "             max_features='auto', max_leaf_nodes=None,\n",
       "             min_impurity_decrease=0.0, min_impurity_split=None,\n",
       "             min_samples_leaf=1, min_samples_split=2,\n",
       "             min_weight_fraction_leaf=0.0, n_estimators=960, n_jobs=2,\n",
       "             oob_score=False, random_state=42, verbose=2, warm_start=False),\n",
       "  960,\n",
       "  0.0004689082392939805,\n",
       "  0.9250455729166667),\n",
       " (RandomForestRegressor(bootstrap=True, criterion='mse', max_depth=None,\n",
       "             max_features='auto', max_leaf_nodes=None,\n",
       "             min_impurity_decrease=0.0, min_impurity_split=None,\n",
       "             min_samples_leaf=1, min_samples_split=2,\n",
       "             min_weight_fraction_leaf=0.0, n_estimators=1000, n_jobs=2,\n",
       "             oob_score=False, random_state=42, verbose=2, warm_start=False),\n",
       "  1000,\n",
       "  0.00044747916666666824,\n",
       "  0.853933625),\n",
       " (RandomForestRegressor(bootstrap=True, criterion='mse', max_depth=None,\n",
       "             max_features='auto', max_leaf_nodes=None,\n",
       "             min_impurity_decrease=0.0, min_impurity_split=None,\n",
       "             min_samples_leaf=1, min_samples_split=2,\n",
       "             min_weight_fraction_leaf=0.0, n_estimators=2000, n_jobs=2,\n",
       "             oob_score=False, random_state=42, verbose=2, warm_start=False),\n",
       "  2000,\n",
       "  0.0003829093750000009,\n",
       "  0.70972159375),\n",
       " (RandomForestRegressor(bootstrap=True, criterion='mse', max_depth=None,\n",
       "             max_features='auto', max_leaf_nodes=None,\n",
       "             min_impurity_decrease=0.0, min_impurity_split=None,\n",
       "             min_samples_leaf=1, min_samples_split=2,\n",
       "             min_weight_fraction_leaf=0.0, n_estimators=3000, n_jobs=2,\n",
       "             oob_score=False, random_state=42, verbose=2, warm_start=False),\n",
       "  3000,\n",
       "  0.0003893291666666667,\n",
       "  0.6111178333333334)]"
      ]
     },
     "execution_count": 37,
     "metadata": {},
     "output_type": "execute_result"
    }
   ],
   "source": [
    "errors3"
   ]
  },
  {
   "cell_type": "code",
   "execution_count": 38,
   "metadata": {},
   "outputs": [],
   "source": [
    "rf20 = errors2[8][0]"
   ]
  },
  {
   "cell_type": "code",
   "execution_count": 39,
   "metadata": {},
   "outputs": [
    {
     "data": {
      "text/plain": [
       "RandomForestRegressor(bootstrap=True, criterion='mse', max_depth=None,\n",
       "           max_features='auto', max_leaf_nodes=None,\n",
       "           min_impurity_decrease=0.0, min_impurity_split=None,\n",
       "           min_samples_leaf=1, min_samples_split=2,\n",
       "           min_weight_fraction_leaf=0.0, n_estimators=20, n_jobs=2,\n",
       "           oob_score=False, random_state=42, verbose=2, warm_start=False)"
      ]
     },
     "execution_count": 39,
     "metadata": {},
     "output_type": "execute_result"
    }
   ],
   "source": [
    "rf20"
   ]
  },
  {
   "cell_type": "code",
   "execution_count": 40,
   "metadata": {},
   "outputs": [
    {
     "name": "stderr",
     "output_type": "stream",
     "text": [
      "[Parallel(n_jobs=2)]: Using backend ThreadingBackend with 2 concurrent workers.\n",
      "[Parallel(n_jobs=2)]: Done  20 out of  20 | elapsed:    0.0s finished\n",
      "[Parallel(n_jobs=2)]: Using backend ThreadingBackend with 2 concurrent workers.\n",
      "[Parallel(n_jobs=2)]: Done  20 out of  20 | elapsed:    0.0s finished\n"
     ]
    }
   ],
   "source": [
    "preds_test_unet = rf20.predict(y_test_unet_reshape)\n",
    "preds_test_15mm_unet = rf20.predict(X_RF_15_unet_uint)"
   ]
  },
  {
   "cell_type": "code",
   "execution_count": 41,
   "metadata": {},
   "outputs": [],
   "source": [
    "mse_unet = mean_squared_error(preds_test_unet, y_test)\n",
    "\n"
   ]
  },
  {
   "cell_type": "code",
   "execution_count": 42,
   "metadata": {},
   "outputs": [],
   "source": [
    "mse_15_unet = mean_squared_error(preds_test_15mm_unet-2, y_15_gt)"
   ]
  },
  {
   "cell_type": "code",
   "execution_count": 43,
   "metadata": {},
   "outputs": [
    {
     "data": {
      "text/plain": [
       "0.16402083333333328"
      ]
     },
     "execution_count": 43,
     "metadata": {},
     "output_type": "execute_result"
    }
   ],
   "source": [
    "mse_unet"
   ]
  },
  {
   "cell_type": "code",
   "execution_count": 44,
   "metadata": {},
   "outputs": [
    {
     "data": {
      "text/plain": [
       "0.4434375"
      ]
     },
     "execution_count": 44,
     "metadata": {},
     "output_type": "execute_result"
    }
   ],
   "source": [
    "mse_15_unet"
   ]
  },
  {
   "cell_type": "markdown",
   "metadata": {},
   "source": [
    "### repeat and save data"
   ]
  },
  {
   "cell_type": "code",
   "execution_count": 45,
   "metadata": {},
   "outputs": [],
   "source": [
    "rf20_new = RandomForestRegressor(random_state=42, n_estimators=20,\n",
    "                                n_jobs=2, verbose=2)"
   ]
  },
  {
   "cell_type": "code",
   "execution_count": 46,
   "metadata": {},
   "outputs": [
    {
     "name": "stderr",
     "output_type": "stream",
     "text": [
      "[Parallel(n_jobs=2)]: Using backend ThreadingBackend with 2 concurrent workers.\n"
     ]
    },
    {
     "name": "stdout",
     "output_type": "stream",
     "text": [
      "building tree 1 of 20building tree 2 of 20\n",
      "\n",
      "building tree 3 of 20\n",
      "building tree 4 of 20\n",
      "building tree 5 of 20\n",
      "building tree 6 of 20\n",
      "building tree 7 of 20\n",
      "building tree 8 of 20\n",
      "building tree 9 of 20\n",
      "building tree 10 of 20\n",
      "building tree 11 of 20\n",
      "building tree 12 of 20\n",
      "building tree 13 of 20\n",
      "building tree 14 of 20\n",
      "building tree 15 of 20\n",
      "building tree 16 of 20\n",
      "building tree 17 of 20\n",
      "building tree 18 of 20\n",
      "building tree 19 of 20\n",
      "building tree 20 of 20\n"
     ]
    },
    {
     "name": "stderr",
     "output_type": "stream",
     "text": [
      "[Parallel(n_jobs=2)]: Done  20 out of  20 | elapsed:  1.1min finished\n"
     ]
    },
    {
     "data": {
      "text/plain": [
       "RandomForestRegressor(bootstrap=True, criterion='mse', max_depth=None,\n",
       "           max_features='auto', max_leaf_nodes=None,\n",
       "           min_impurity_decrease=0.0, min_impurity_split=None,\n",
       "           min_samples_leaf=1, min_samples_split=2,\n",
       "           min_weight_fraction_leaf=0.0, n_estimators=20, n_jobs=2,\n",
       "           oob_score=False, random_state=42, verbose=2, warm_start=False)"
      ]
     },
     "execution_count": 46,
     "metadata": {},
     "output_type": "execute_result"
    }
   ],
   "source": [
    "rf20_new.fit(X_train, y_train)"
   ]
  },
  {
   "cell_type": "code",
   "execution_count": 49,
   "metadata": {},
   "outputs": [
    {
     "name": "stderr",
     "output_type": "stream",
     "text": [
      "[Parallel(n_jobs=2)]: Using backend ThreadingBackend with 2 concurrent workers.\n",
      "[Parallel(n_jobs=2)]: Done  20 out of  20 | elapsed:    0.0s finished\n",
      "[Parallel(n_jobs=2)]: Using backend ThreadingBackend with 2 concurrent workers.\n",
      "[Parallel(n_jobs=2)]: Done  20 out of  20 | elapsed:    0.0s finished\n"
     ]
    }
   ],
   "source": [
    "preds_test_gt = rf20_new.predict(X_test)\n",
    "preds_test_15mm_gt = rf20_new.predict(X_15_gt)"
   ]
  },
  {
   "cell_type": "code",
   "execution_count": 50,
   "metadata": {},
   "outputs": [],
   "source": [
    "mse_gt = mean_squared_error(preds_test_gt, y_test)\n",
    "mse_15_gt = mean_squared_error(preds_test_15mm_gt, y_15_gt)"
   ]
  },
  {
   "cell_type": "code",
   "execution_count": 51,
   "metadata": {},
   "outputs": [
    {
     "data": {
      "text/plain": [
       "0.0038020833333333322"
      ]
     },
     "execution_count": 51,
     "metadata": {},
     "output_type": "execute_result"
    }
   ],
   "source": [
    "mse_gt"
   ]
  },
  {
   "cell_type": "code",
   "execution_count": 52,
   "metadata": {},
   "outputs": [
    {
     "data": {
      "text/plain": [
       "0.27125"
      ]
     },
     "execution_count": 52,
     "metadata": {},
     "output_type": "execute_result"
    }
   ],
   "source": [
    "mse_15_gt"
   ]
  },
  {
   "cell_type": "code",
   "execution_count": 53,
   "metadata": {},
   "outputs": [
    {
     "name": "stderr",
     "output_type": "stream",
     "text": [
      "[Parallel(n_jobs=2)]: Using backend ThreadingBackend with 2 concurrent workers.\n",
      "[Parallel(n_jobs=2)]: Done  20 out of  20 | elapsed:    0.0s finished\n",
      "[Parallel(n_jobs=2)]: Using backend ThreadingBackend with 2 concurrent workers.\n",
      "[Parallel(n_jobs=2)]: Done  20 out of  20 | elapsed:    0.0s finished\n"
     ]
    }
   ],
   "source": [
    "preds_test_unet = rf20_new.predict(y_test_unet_reshape)\n",
    "preds_test_15mm_unet = rf20_new.predict(X_RF_15_unet_uint)"
   ]
  },
  {
   "cell_type": "code",
   "execution_count": 54,
   "metadata": {},
   "outputs": [],
   "source": [
    "mse_unet = mean_squared_error(preds_test_unet, y_test)\n",
    "mse_15_unet = mean_squared_error(preds_test_15mm_unet-2, y_15_gt)\n"
   ]
  },
  {
   "cell_type": "code",
   "execution_count": 55,
   "metadata": {},
   "outputs": [
    {
     "data": {
      "text/plain": [
       "0.16402083333333328"
      ]
     },
     "execution_count": 55,
     "metadata": {},
     "output_type": "execute_result"
    }
   ],
   "source": [
    "mse_unet"
   ]
  },
  {
   "cell_type": "code",
   "execution_count": 56,
   "metadata": {},
   "outputs": [
    {
     "data": {
      "text/plain": [
       "0.4434375"
      ]
     },
     "execution_count": 56,
     "metadata": {},
     "output_type": "execute_result"
    }
   ],
   "source": [
    "mse_15_unet"
   ]
  },
  {
   "cell_type": "code",
   "execution_count": 60,
   "metadata": {},
   "outputs": [],
   "source": [
    "np.savez_compressed(\"rf_predictions_new.npz\",\n",
    "                   y_gt = y_test, preds_test_gt = preds_test_gt,\n",
    "                   y_15_gt = y_15_gt, preds_15_gt=preds_test_15mm_gt, \n",
    "                   y_test_unet = y_test, preds_test_unet = preds_test_unet,\n",
    "                   y_15_unet = y_15_gt, preds_15_unet = preds_test_15mm_unet)"
   ]
  },
  {
   "cell_type": "code",
   "execution_count": null,
   "metadata": {},
   "outputs": [],
   "source": []
  }
 ],
 "metadata": {
  "kernelspec": {
   "display_name": "Python 3",
   "language": "python",
   "name": "python3"
  },
  "language_info": {
   "codemirror_mode": {
    "name": "ipython",
    "version": 3
   },
   "file_extension": ".py",
   "mimetype": "text/x-python",
   "name": "python",
   "nbconvert_exporter": "python",
   "pygments_lexer": "ipython3",
   "version": "3.6.7"
  }
 },
 "nbformat": 4,
 "nbformat_minor": 2
}
