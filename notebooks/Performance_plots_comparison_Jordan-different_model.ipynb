{
 "cells": [
  {
   "cell_type": "code",
   "execution_count": 1,
   "metadata": {},
   "outputs": [],
   "source": [
    "import sys, os\n",
    "import matplotlib.pyplot as plt\n",
    "sys.path.append('../')\n",
    "from sklearn.metrics import mean_squared_error\n",
    "import re\n",
    "import numpy as np"
   ]
  },
  {
   "cell_type": "code",
   "execution_count": 2,
   "metadata": {},
   "outputs": [],
   "source": [
    "import torch"
   ]
  },
  {
   "cell_type": "code",
   "execution_count": 3,
   "metadata": {},
   "outputs": [],
   "source": [
    "%matplotlib inline"
   ]
  },
  {
   "cell_type": "code",
   "execution_count": 4,
   "metadata": {},
   "outputs": [],
   "source": [
    "regex = re.compile(r'\\d+')"
   ]
  },
  {
   "cell_type": "code",
   "execution_count": 5,
   "metadata": {},
   "outputs": [],
   "source": [
    "predicted = '/storage/yw18581/src/leaf_reco/saved_models/trained_6positions_multi_loss/predicted'"
   ]
  },
  {
   "cell_type": "code",
   "execution_count": 6,
   "metadata": {},
   "outputs": [],
   "source": [
    "saved_models = '/storage/yw18581/src/leaf_reco/saved_models/trained_6positions_multi_loss/'"
   ]
  },
  {
   "cell_type": "code",
   "execution_count": 7,
   "metadata": {},
   "outputs": [],
   "source": [
    "model_names = os.listdir(saved_models)"
   ]
  },
  {
   "cell_type": "code",
   "execution_count": 21,
   "metadata": {},
   "outputs": [],
   "source": [
    "def get_fnames(coeff, prefix='Trained'):\n",
    "    idx_coef = 6 if prefix=='Trained' else 4\n",
    "    idx_epoch = 5 if prefix =='Trained' else 3\n",
    "    f_list = []\n",
    "    epochs = []\n",
    "    model_names = os.listdir(saved_models) if prefix=='Trained' else os.listdir(predicted)\n",
    "    for fname in model_names:\n",
    "        if fname.startswith(prefix):\n",
    "            if regex.findall(fname.split(\"_\")[idx_coef])[1]==str(coeff):\n",
    "                epoch = int(regex.findall(fname.split(\"_\")[idx_epoch])[0]) \n",
    "                epochs.append(epoch)\n",
    "                if int(regex.findall(fname.split(\"_\")[idx_epoch])[0])==epoch:\n",
    "                    f_list.append(fname)\n",
    "    \n",
    "    return np.array(f_list)[np.argsort(epochs)], np.sort(epochs)"
   ]
  },
  {
   "cell_type": "code",
   "execution_count": 9,
   "metadata": {},
   "outputs": [],
   "source": [
    "from functools import partial"
   ]
  },
  {
   "cell_type": "code",
   "execution_count": 10,
   "metadata": {},
   "outputs": [],
   "source": [
    "root_path = partial(os.path.join, saved_models)"
   ]
  },
  {
   "cell_type": "code",
   "execution_count": 27,
   "metadata": {},
   "outputs": [],
   "source": [
    "root_path_pred = partial(os.path.join, predicted)"
   ]
  },
  {
   "cell_type": "code",
   "execution_count": 11,
   "metadata": {},
   "outputs": [],
   "source": [
    "best_models = []"
   ]
  },
  {
   "cell_type": "code",
   "execution_count": 12,
   "metadata": {},
   "outputs": [],
   "source": [
    "coeffs = [25, 3, 4, 5, 6, 7, 75]"
   ]
  },
  {
   "cell_type": "code",
   "execution_count": 14,
   "metadata": {},
   "outputs": [
    {
     "name": "stdout",
     "output_type": "stream",
     "text": [
      "25\n",
      "20\n",
      "3\n",
      "20\n",
      "4\n",
      "20\n",
      "5\n",
      "20\n",
      "6\n",
      "20\n",
      "7\n",
      "20\n",
      "75\n",
      "20\n"
     ]
    }
   ],
   "source": [
    "for c in coeffs:\n",
    "    fnames, _ = get_fnames(c)\n",
    "    print(c)\n",
    "    losses_c = [(p, torch.load(p)['val_loss']) for p in map(lambda f: root_path(f), fnames)]\n",
    "    print(len(losses_c))\n",
    "    best_models.append(min(losses_c, key=lambda e: e[1]))"
   ]
  },
  {
   "cell_type": "code",
   "execution_count": 15,
   "metadata": {},
   "outputs": [
    {
     "data": {
      "text/plain": [
       "[('/storage/yw18581/src/leaf_reco/saved_models/trained_6positions_multi_loss/Trained_rUNet_pytorch_6positions_dataset_15epochs_0.25coeff_mask.pkl',\n",
       "  -0.18855425273930584),\n",
       " ('/storage/yw18581/src/leaf_reco/saved_models/trained_6positions_multi_loss/Trained_rUNet_pytorch_6positions_dataset_80epochs_0.3coeff_mask.pkl',\n",
       "  0.002221730110856394),\n",
       " ('/storage/yw18581/src/leaf_reco/saved_models/trained_6positions_multi_loss/Trained_rUNet_pytorch_6positions_dataset_100epochs_0.4coeff_mask.pkl',\n",
       "  -0.38123128480381435),\n",
       " ('/storage/yw18581/src/leaf_reco/saved_models/trained_6positions_multi_loss/Trained_rUNet_pytorch_6positions_dataset_25epochs_0.5coeff_mask.pkl',\n",
       "  -0.460439998794485),\n",
       " ('/storage/yw18581/src/leaf_reco/saved_models/trained_6positions_multi_loss/Trained_rUNet_pytorch_6positions_dataset_80epochs_0.6coeff_mask.pkl',\n",
       "  0.0012401096755638719),\n",
       " ('/storage/yw18581/src/leaf_reco/saved_models/trained_6positions_multi_loss/Trained_rUNet_pytorch_6positions_dataset_45epochs_0.7coeff_mask.pkl',\n",
       "  -0.6658810906940036),\n",
       " ('/storage/yw18581/src/leaf_reco/saved_models/trained_6positions_multi_loss/Trained_rUNet_pytorch_6positions_dataset_95epochs_0.75coeff_mask.pkl',\n",
       "  0.00016036400079934133)]"
      ]
     },
     "execution_count": 15,
     "metadata": {},
     "output_type": "execute_result"
    }
   ],
   "source": [
    "best_models"
   ]
  },
  {
   "cell_type": "code",
   "execution_count": 16,
   "metadata": {},
   "outputs": [],
   "source": [
    "best_models_path = [e[0] for e in best_models]"
   ]
  },
  {
   "cell_type": "code",
   "execution_count": 17,
   "metadata": {},
   "outputs": [
    {
     "data": {
      "text/plain": [
       "['/storage/yw18581/src/leaf_reco/saved_models/trained_6positions_multi_loss/Trained_rUNet_pytorch_6positions_dataset_15epochs_0.25coeff_mask.pkl',\n",
       " '/storage/yw18581/src/leaf_reco/saved_models/trained_6positions_multi_loss/Trained_rUNet_pytorch_6positions_dataset_80epochs_0.3coeff_mask.pkl',\n",
       " '/storage/yw18581/src/leaf_reco/saved_models/trained_6positions_multi_loss/Trained_rUNet_pytorch_6positions_dataset_100epochs_0.4coeff_mask.pkl',\n",
       " '/storage/yw18581/src/leaf_reco/saved_models/trained_6positions_multi_loss/Trained_rUNet_pytorch_6positions_dataset_25epochs_0.5coeff_mask.pkl',\n",
       " '/storage/yw18581/src/leaf_reco/saved_models/trained_6positions_multi_loss/Trained_rUNet_pytorch_6positions_dataset_80epochs_0.6coeff_mask.pkl',\n",
       " '/storage/yw18581/src/leaf_reco/saved_models/trained_6positions_multi_loss/Trained_rUNet_pytorch_6positions_dataset_45epochs_0.7coeff_mask.pkl',\n",
       " '/storage/yw18581/src/leaf_reco/saved_models/trained_6positions_multi_loss/Trained_rUNet_pytorch_6positions_dataset_95epochs_0.75coeff_mask.pkl']"
      ]
     },
     "execution_count": 17,
     "metadata": {},
     "output_type": "execute_result"
    }
   ],
   "source": [
    "best_models_path"
   ]
  },
  {
   "cell_type": "code",
   "execution_count": 18,
   "metadata": {},
   "outputs": [],
   "source": [
    "m = best_models_path[0]"
   ]
  },
  {
   "cell_type": "code",
   "execution_count": 19,
   "metadata": {},
   "outputs": [],
   "source": [
    "ep = int(regex.findall(os.path.split(m)[1].split('_')[5])[0])"
   ]
  },
  {
   "cell_type": "code",
   "execution_count": 20,
   "metadata": {},
   "outputs": [],
   "source": [
    "coef = int(regex.findall(os.path.split(m)[1].split('_')[6])[1])"
   ]
  },
  {
   "cell_type": "code",
   "execution_count": 22,
   "metadata": {},
   "outputs": [],
   "source": [
    "fnames_c, epochs_c = get_fnames(coef, 'predicted_unseen')"
   ]
  },
  {
   "cell_type": "code",
   "execution_count": 28,
   "metadata": {},
   "outputs": [],
   "source": [
    "predicted_path = root_path_pred(fnames_c[np.where(epochs_c==ep)[0]][0])"
   ]
  },
  {
   "cell_type": "code",
   "execution_count": 29,
   "metadata": {},
   "outputs": [
    {
     "data": {
      "text/plain": [
       "'/storage/yw18581/src/leaf_reco/saved_models/trained_6positions_multi_loss/predicted/predicted_unseen_6positions_15epochs_0.25coeff.npz'"
      ]
     },
     "execution_count": 29,
     "metadata": {},
     "output_type": "execute_result"
    }
   ],
   "source": [
    "predicted_path"
   ]
  },
  {
   "cell_type": "code",
   "execution_count": 30,
   "metadata": {},
   "outputs": [],
   "source": [
    "preds = np.load(predicted_path)"
   ]
  },
  {
   "cell_type": "code",
   "execution_count": 31,
   "metadata": {},
   "outputs": [],
   "source": [
    "y_true, y_pred = preds['true'], preds['pred']"
   ]
  },
  {
   "cell_type": "code",
   "execution_count": 32,
   "metadata": {},
   "outputs": [
    {
     "data": {
      "text/plain": [
       "0.08659245959772904"
      ]
     },
     "execution_count": 32,
     "metadata": {},
     "output_type": "execute_result"
    }
   ],
   "source": [
    "mean_squared_error(y_true, y_pred)"
   ]
  },
  {
   "cell_type": "code",
   "execution_count": 33,
   "metadata": {},
   "outputs": [],
   "source": [
    "def mse(model_path, dataset='predicted_unseen'):\n",
    "    ep = int(regex.findall(os.path.split(model_path)[1].split('_')[5])[0])\n",
    "    coef = int(regex.findall(os.path.split(model_path)[1].split('_')[6])[1])\n",
    "    fnames_c, epochs_c = get_fnames(coef, dataset)\n",
    "    predicted_path = root_path_pred(fnames_c[np.where(epochs_c==ep)[0]][0])\n",
    "    preds = np.load(predicted_path)\n",
    "    y_true, y_pred = preds['true'], preds['pred']\n",
    "    return mean_squared_error(y_true, y_pred) "
   ]
  },
  {
   "cell_type": "code",
   "execution_count": 34,
   "metadata": {},
   "outputs": [],
   "source": [
    "errors = []\n",
    "for m in best_models_path:\n",
    "    err_unseen = mse(m, dataset='predicted_unseen')\n",
    "    err_testdata = mse(m, dataset='predicted_testdata')\n",
    "    errors.append((err_testdata, err_unseen))"
   ]
  },
  {
   "cell_type": "code",
   "execution_count": 35,
   "metadata": {},
   "outputs": [
    {
     "data": {
      "text/plain": [
       "[(0.0511876213069071, 0.08659245959772904),\n",
       " (0.0033133811181023593, 0.30365798438717256),\n",
       " (0.0026834273776038275, 0.06758250927755269),\n",
       " (0.03613546595227481, 0.08376996810974148),\n",
       " (0.003917962829968765, 0.04251767156385941),\n",
       " (0.012022597925598538, 0.07326365416361053),\n",
       " (0.00249315893123111, 0.7395310539339406)]"
      ]
     },
     "execution_count": 35,
     "metadata": {},
     "output_type": "execute_result"
    }
   ],
   "source": [
    "errors"
   ]
  },
  {
   "cell_type": "code",
   "execution_count": 36,
   "metadata": {},
   "outputs": [],
   "source": [
    "delta=[abs(e[1]-e[0]) for e in errors]"
   ]
  },
  {
   "cell_type": "code",
   "execution_count": 37,
   "metadata": {},
   "outputs": [
    {
     "data": {
      "text/plain": [
       "[0.035404838290821944,\n",
       " 0.3003446032690702,\n",
       " 0.06489908189994886,\n",
       " 0.04763450215746667,\n",
       " 0.038599708733890646,\n",
       " 0.06124105623801199,\n",
       " 0.7370378950027094]"
      ]
     },
     "execution_count": 37,
     "metadata": {},
     "output_type": "execute_result"
    }
   ],
   "source": [
    "delta"
   ]
  },
  {
   "cell_type": "code",
   "execution_count": 38,
   "metadata": {},
   "outputs": [],
   "source": [
    "def idx_mse(dist, true_arr, preds_arr):\n",
    "    idx = np.where(true_arr==dist)[0]\n",
    "    mse = mean_squared_error(true_arr[idx], preds_arr[idx])\n",
    "    print(dist, mse)\n",
    "    return idx, mse "
   ]
  },
  {
   "cell_type": "code",
   "execution_count": 39,
   "metadata": {},
   "outputs": [],
   "source": [
    "distances_unseen = [1,3,15,30]\n",
    "distances_testdata = [2,4,10,20,25,35]"
   ]
  },
  {
   "cell_type": "code",
   "execution_count": 40,
   "metadata": {
    "scrolled": true
   },
   "outputs": [
    {
     "name": "stdout",
     "output_type": "stream",
     "text": [
      "1 0.16633411458258246\n",
      "3 0.04388226151343379\n",
      "15 0.034677299313313294\n",
      "30 0.09824917023743991\n"
     ]
    }
   ],
   "source": [
    "ms = [idx_mse(d, preds_arr=y_pred, true_arr=y_true) for d in distances_unseen]"
   ]
  },
  {
   "cell_type": "code",
   "execution_count": 43,
   "metadata": {},
   "outputs": [],
   "source": [
    "def mse_positions(model_path, dataset='predicted_unseen', dist=distances_unseen):\n",
    "    mse=[]\n",
    "    avg=[]\n",
    "    std=[]\n",
    "    ep = int(regex.findall(os.path.split(model_path)[1].split('_')[5])[0])\n",
    "    coef = int(regex.findall(os.path.split(model_path)[1].split('_')[6])[1])\n",
    "    fnames_c, epochs_c = get_fnames(coef, dataset)\n",
    "    predicted_path = root_path_pred(fnames_c[np.where(epochs_c==ep)[0]][0])\n",
    "    print(predicted_path)\n",
    "    preds = np.load(predicted_path)\n",
    "    y_true, y_pred = preds['true'], preds['pred']\n",
    "    for d in dist:\n",
    "        idx = idx_mse(d, preds_arr=y_pred, true_arr=y_true)[0]\n",
    "        y_true_d = y_true[idx]\n",
    "        y_pred_d = y_pred[idx]\n",
    "        mse_d = mean_squared_error(y_true_d, y_pred_d)\n",
    "        avg_pred = np.mean(y_pred_d)\n",
    "        std_pred = np.std(y_pred_d)\n",
    "        mse.append(mse_d)\n",
    "        avg.append(avg_pred)\n",
    "        std.append(std_pred)\n",
    "    return mse, avg, std"
   ]
  },
  {
   "cell_type": "code",
   "execution_count": 44,
   "metadata": {},
   "outputs": [
    {
     "name": "stdout",
     "output_type": "stream",
     "text": [
      "/storage/yw18581/src/leaf_reco/saved_models/trained_6positions_multi_loss/predicted/predicted_unseen_6positions_15epochs_0.25coeff.npz\n",
      "1 0.16633411458258246\n",
      "3 0.04388226151343379\n",
      "15 0.034677299313313294\n",
      "30 0.09824917023743991\n"
     ]
    }
   ],
   "source": [
    "mse_unseen, avg_unseen, std_unseen = mse_positions(best_models_path[0])"
   ]
  },
  {
   "cell_type": "code",
   "execution_count": 45,
   "metadata": {},
   "outputs": [
    {
     "name": "stdout",
     "output_type": "stream",
     "text": [
      "/storage/yw18581/src/leaf_reco/saved_models/trained_6positions_multi_loss/predicted/predicted_testdata_6positions_15epochs_0.25coeff.npz\n",
      "2 0.03189775379244543\n",
      "4 0.029517866547544996\n",
      "10 0.022916869786860864\n",
      "20 0.047438611624310546\n",
      "25 0.05192288959000338\n",
      "35 0.12810193414814597\n"
     ]
    }
   ],
   "source": [
    "mse_test, avg_test, std_test = mse_positions(best_models_path[0], dataset='predicted_testdata', dist=distances_testdata)"
   ]
  },
  {
   "cell_type": "code",
   "execution_count": 46,
   "metadata": {},
   "outputs": [
    {
     "data": {
      "text/plain": [
       "[0.16633411458258246,\n",
       " 0.04388226151343379,\n",
       " 0.034677299313313294,\n",
       " 0.09824917023743991]"
      ]
     },
     "execution_count": 46,
     "metadata": {},
     "output_type": "execute_result"
    }
   ],
   "source": [
    "mse_unseen"
   ]
  },
  {
   "cell_type": "code",
   "execution_count": 47,
   "metadata": {},
   "outputs": [],
   "source": [
    "distances = distances_unseen+distances_testdata"
   ]
  },
  {
   "cell_type": "code",
   "execution_count": 48,
   "metadata": {},
   "outputs": [],
   "source": [
    "errs = mse_unseen+mse_test"
   ]
  },
  {
   "cell_type": "code",
   "execution_count": 49,
   "metadata": {},
   "outputs": [
    {
     "data": {
      "text/plain": [
       "<matplotlib.collections.PathCollection at 0x7f39807ca7f0>"
      ]
     },
     "execution_count": 49,
     "metadata": {},
     "output_type": "execute_result"
    },
    {
     "data": {
      "image/png": "[encoded data removed]",
      "text/plain": [
       "<Figure size 432x288 with 1 Axes>"
      ]
     },
     "metadata": {
      "needs_background": "light"
     },
     "output_type": "display_data"
    }
   ],
   "source": [
    "plt.scatter(distances, errs)"
   ]
  },
  {
   "cell_type": "code",
   "execution_count": 50,
   "metadata": {},
   "outputs": [
    {
     "data": {
      "text/plain": [
       "[1.389318, 3.0299623, 15.1176195, 30.109148]"
      ]
     },
     "execution_count": 50,
     "metadata": {},
     "output_type": "execute_result"
    }
   ],
   "source": [
    "avg_unseen"
   ]
  },
  {
   "cell_type": "code",
   "execution_count": 51,
   "metadata": {},
   "outputs": [
    {
     "data": {
      "text/plain": [
       "[2.1087594, 3.9540784, 9.974408, 19.969221, 24.909945, 34.901585]"
      ]
     },
     "execution_count": 51,
     "metadata": {},
     "output_type": "execute_result"
    }
   ],
   "source": [
    "avg_test"
   ]
  },
  {
   "cell_type": "code",
   "execution_count": 52,
   "metadata": {},
   "outputs": [],
   "source": [
    "avg = avg_unseen+avg_test"
   ]
  },
  {
   "cell_type": "code",
   "execution_count": 54,
   "metadata": {},
   "outputs": [],
   "source": [
    "std = std_unseen+std_test"
   ]
  },
  {
   "cell_type": "code",
   "execution_count": 56,
   "metadata": {},
   "outputs": [],
   "source": [
    "from matplotlib.ticker import (MultipleLocator, FormatStrFormatter,\n",
    "                               AutoMinorLocator)"
   ]
  },
  {
   "cell_type": "code",
   "execution_count": 57,
   "metadata": {},
   "outputs": [
    {
     "data": {
      "image/png": "[encoded data removed]",
      "text/plain": [
       "<Figure size 864x576 with 1 Axes>"
      ]
     },
     "metadata": {
      "needs_background": "light"
     },
     "output_type": "display_data"
    }
   ],
   "source": [
    "#plt.plot(np.sort(distances), np.array(avg)[np.argsort(distances)])\n",
    "fig, ax = plt.subplots(figsize=(12,8))\n",
    "\n",
    "ax.errorbar(np.sort(distances), np.array(avg)[np.argsort(distances)], \n",
    "                                np.array(std)[np.argsort(distances)], fmt='o',markersize=5, capsize=0, c='b',ecolor='b')\n",
    "ax.plot(np.arange(0,50), np.arange(0,50),c='red')\n",
    "#plt.xticks(np.arange(0,40,5))\n",
    "#plt.yticks(np.arange(0,40,5))\n",
    "ax.xaxis.set_major_locator(MultipleLocator(5))\n",
    "ax.xaxis.set_major_formatter(FormatStrFormatter('%d'))\n",
    "ax.xaxis.set_minor_locator(MultipleLocator(1))\n",
    "\n",
    "ax.yaxis.set_minor_locator(MultipleLocator(1))\n",
    "ax.set_ylabel(\"Reconstructed leaf position (mm)\", size=14)\n",
    "ax.set_xlabel(\"LINAC set leaf position (mm)\", size=14)\n",
    "ax.set_xlim(0,40)\n",
    "ax.set_ylim(0,40)\n",
    "#plt.show()\n",
    "plt.savefig(\"reconstructed_vs_true_linear.png\")"
   ]
  },
  {
   "cell_type": "code",
   "execution_count": 181,
   "metadata": {},
   "outputs": [],
   "source": [
    "resolutions = [0.04625, 0.04056, 0.08755, 0.04703, 0.04296, 0.04605,0.049,  0.04191, 0.05296, 0.04766 ]"
   ]
  },
  {
   "cell_type": "code",
   "execution_count": 179,
   "metadata": {},
   "outputs": [],
   "source": [
    "bars = [0.00112, 0.00253, 0.00291, 0.00382, 0.00314, 0.00119,0.003,  0.00299, 0.00150, 0.00329]"
   ]
  },
  {
   "cell_type": "code",
   "execution_count": 168,
   "metadata": {},
   "outputs": [
    {
     "data": {
      "image/png": "[encoded data removed]",
      "text/plain": [
       "<Figure size 432x288 with 1 Axes>"
      ]
     },
     "metadata": {
      "needs_background": "light"
     },
     "output_type": "display_data"
    }
   ],
   "source": [
    "plt.errorbar(np.sort(distances), \n",
    "             np.array(errs)[np.argsort(distances)]*1000, \n",
    "             np.array(std)[np.argsort(distances)]*1000,\n",
    "             fmt='o', capsize=5)\n",
    "#plt.ylim(0,120)\n",
    "plt.show()"
   ]
  },
  {
   "cell_type": "code",
   "execution_count": 183,
   "metadata": {},
   "outputs": [
    {
     "data": {
      "text/plain": [
       "<matplotlib.collections.PathCollection at 0x7f9d68393b70>"
      ]
     },
     "execution_count": 183,
     "metadata": {},
     "output_type": "execute_result"
    },
    {
     "data": {
      "image/png": "[encoded data removed]",
      "text/plain": [
       "<Figure size 432x288 with 1 Axes>"
      ]
     },
     "metadata": {
      "needs_background": "light"
     },
     "output_type": "display_data"
    }
   ],
   "source": [
    "plt.scatter(np.sort(distances), resolutions)"
   ]
  },
  {
   "cell_type": "code",
   "execution_count": 214,
   "metadata": {},
   "outputs": [
    {
     "data": {
      "image/png": "[encoded data removed]",
      "text/plain": [
       "<Figure size 720x432 with 1 Axes>"
      ]
     },
     "metadata": {
      "needs_background": "light"
     },
     "output_type": "display_data"
    }
   ],
   "source": [
    "plt.figure(figsize=(10,6))\n",
    "plt.errorbar(np.sort(distances), \n",
    "             np.array(resolutions)*1000, \n",
    "             np.array(bars)*1000,\n",
    "             fmt='x', capsize=4, c='red',ecolor='k')\n",
    "plt.xticks(np.arange(0,40,5))\n",
    "plt.ylabel(\"Resolution (microns)\", size=14)\n",
    "plt.xlabel(\"Position (mm)\", size=14)\n",
    "plt.ylim(30,120)\n",
    "plt.show()"
   ]
  },
  {
   "cell_type": "code",
   "execution_count": 271,
   "metadata": {},
   "outputs": [
    {
     "data": {
      "image/png": "[encoded data removed]",
      "text/plain": [
       "<Figure size 864x576 with 1 Axes>"
      ]
     },
     "metadata": {
      "needs_background": "light"
     },
     "output_type": "display_data"
    }
   ],
   "source": [
    "#plt.figure(figsize=(10,6))\n",
    "fig, ax = plt.subplots(figsize=(12,8))\n",
    "ax.errorbar(np.sort(distances), \n",
    "             np.array(resolutions)*1000, \n",
    "             np.array(bars)*1000,\n",
    "             fmt='x', capsize=4, c='red',ecolor='k')\n",
    "#ax.xticks(np.arange(0,40,5))\n",
    "ax.set_ylabel(\"Resolution (microns)\", size=14)\n",
    "ax.set_xlabel(\"Position (mm)\", size=14)\n",
    "ax.set_ylim(30,120)\n",
    "\n",
    "ax.xaxis.set_major_locator(MultipleLocator(5))\n",
    "ax.xaxis.set_major_formatter(FormatStrFormatter('%d'))\n",
    "ax.xaxis.set_minor_locator(MultipleLocator(1))\n",
    "ax.yaxis.set_minor_locator(MultipleLocator(5))\n",
    "#plt.show()\n",
    "plt.savefig(\"resolution_vs_position.png\")"
   ]
  },
  {
   "cell_type": "code",
   "execution_count": null,
   "metadata": {},
   "outputs": [],
   "source": []
  }
 ],
 "metadata": {
  "kernelspec": {
   "display_name": "Python 3.7 (ml)",
   "language": "python",
   "name": "mlearning"
  },
  "language_info": {
   "codemirror_mode": {
    "name": "ipython",
    "version": 3
   },
   "file_extension": ".py",
   "mimetype": "text/x-python",
   "name": "python",
   "nbconvert_exporter": "python",
   "pygments_lexer": "ipython3",
   "version": "3.7.3"
  }
 },
 "nbformat": 4,
 "nbformat_minor": 2
}
