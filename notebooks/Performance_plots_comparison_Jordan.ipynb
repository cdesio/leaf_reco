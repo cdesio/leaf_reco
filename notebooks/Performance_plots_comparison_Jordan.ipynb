{
 "cells": [
  {
   "cell_type": "code",
   "execution_count": 1,
   "metadata": {},
   "outputs": [],
   "source": [
    "import sys, os\n",
    "import matplotlib.pyplot as plt\n",
    "sys.path.append('../')\n",
    "from sklearn.metrics import mean_squared_error\n",
    "import re\n",
    "import numpy as np"
   ]
  },
  {
   "cell_type": "code",
   "execution_count": 2,
   "metadata": {},
   "outputs": [],
   "source": [
    "import torch"
   ]
  },
  {
   "cell_type": "code",
   "execution_count": 3,
   "metadata": {},
   "outputs": [],
   "source": [
    "import pickle"
   ]
  },
  {
   "cell_type": "code",
   "execution_count": 4,
   "metadata": {},
   "outputs": [],
   "source": [
    "%matplotlib inline"
   ]
  },
  {
   "cell_type": "code",
   "execution_count": 5,
   "metadata": {},
   "outputs": [],
   "source": [
    "regex = re.compile(r'\\d+')"
   ]
  },
  {
   "cell_type": "code",
   "execution_count": 6,
   "metadata": {},
   "outputs": [],
   "source": [
    "saved_models = '/storage/yw18581/src/leaf_reco/saved_models/trained_6positions/'"
   ]
  },
  {
   "cell_type": "code",
   "execution_count": 7,
   "metadata": {},
   "outputs": [],
   "source": [
    "model_names = os.listdir(saved_models)"
   ]
  },
  {
   "cell_type": "code",
   "execution_count": 50,
   "metadata": {},
   "outputs": [],
   "source": [
    "def get_fnames(coeff, prefix='Trained'):\n",
    "    idx_coef = 6 if prefix=='Trained' else 4\n",
    "    idx_epoch = 5 if prefix =='Trained' else 3\n",
    "    f_list = []\n",
    "    epochs = []\n",
    "    for fname in model_names:\n",
    "        if fname.startswith(prefix):\n",
    "            if regex.findall(fname.split(\"_\")[idx_coef])[1]==str(coeff):\n",
    "                epoch = int(regex.findall(fname.split(\"_\")[idx_epoch])[0]) \n",
    "                epochs.append(epoch)\n",
    "                if int(regex.findall(fname.split(\"_\")[idx_epoch])[0])==epoch:\n",
    "                    f_list.append(fname)\n",
    "    \n",
    "    return np.array(f_list)[np.argsort(epochs)], np.sort(epochs)"
   ]
  },
  {
   "cell_type": "code",
   "execution_count": 46,
   "metadata": {},
   "outputs": [],
   "source": [
    "fnames_25, epochs_25 = get_fnames(25)"
   ]
  },
  {
   "cell_type": "code",
   "execution_count": 47,
   "metadata": {},
   "outputs": [
    {
     "data": {
      "text/plain": [
       "array(['Trained_rUNet_pytorch_6positions_dataset_5epochs_0.25coeff_mask.pkl',\n",
       "       'Trained_rUNet_pytorch_6positions_dataset_10epochs_0.25coeff_mask.pkl',\n",
       "       'Trained_rUNet_pytorch_6positions_dataset_15epochs_0.25coeff_mask.pkl',\n",
       "       'Trained_rUNet_pytorch_6positions_dataset_20epochs_0.25coeff_mask.pkl',\n",
       "       'Trained_rUNet_pytorch_6positions_dataset_25epochs_0.25coeff_mask.pkl',\n",
       "       'Trained_rUNet_pytorch_6positions_dataset_30epochs_0.25coeff_mask.pkl',\n",
       "       'Trained_rUNet_pytorch_6positions_dataset_35epochs_0.25coeff_mask.pkl',\n",
       "       'Trained_rUNet_pytorch_6positions_dataset_40epochs_0.25coeff_mask.pkl',\n",
       "       'Trained_rUNet_pytorch_6positions_dataset_45epochs_0.25coeff_mask.pkl',\n",
       "       'Trained_rUNet_pytorch_6positions_dataset_50epochs_0.25coeff_mask.pkl',\n",
       "       'Trained_rUNet_pytorch_6positions_dataset_55epochs_0.25coeff_mask.pkl',\n",
       "       'Trained_rUNet_pytorch_6positions_dataset_60epochs_0.25coeff_mask.pkl',\n",
       "       'Trained_rUNet_pytorch_6positions_dataset_65epochs_0.25coeff_mask.pkl',\n",
       "       'Trained_rUNet_pytorch_6positions_dataset_70epochs_0.25coeff_mask.pkl',\n",
       "       'Trained_rUNet_pytorch_6positions_dataset_75epochs_0.25coeff_mask.pkl',\n",
       "       'Trained_rUNet_pytorch_6positions_dataset_80epochs_0.25coeff_mask.pkl',\n",
       "       'Trained_rUNet_pytorch_6positions_dataset_85epochs_0.25coeff_mask.pkl',\n",
       "       'Trained_rUNet_pytorch_6positions_dataset_90epochs_0.25coeff_mask.pkl',\n",
       "       'Trained_rUNet_pytorch_6positions_dataset_95epochs_0.25coeff_mask.pkl',\n",
       "       'Trained_rUNet_pytorch_6positions_dataset_100epochs_0.25coeff_mask.pkl'],\n",
       "      dtype='<U69')"
      ]
     },
     "execution_count": 47,
     "metadata": {},
     "output_type": "execute_result"
    }
   ],
   "source": [
    "fnames_25"
   ]
  },
  {
   "cell_type": "code",
   "execution_count": 17,
   "metadata": {},
   "outputs": [],
   "source": [
    "from functools import partial"
   ]
  },
  {
   "cell_type": "code",
   "execution_count": 18,
   "metadata": {},
   "outputs": [],
   "source": [
    "root_path = partial(os.path.join, saved_models)"
   ]
  },
  {
   "cell_type": "code",
   "execution_count": 22,
   "metadata": {},
   "outputs": [],
   "source": [
    "losses_25 = [(p, torch.load(p)['val_loss']) for p in map(lambda f: root_path(f), fnames_25)]"
   ]
  },
  {
   "cell_type": "code",
   "execution_count": 23,
   "metadata": {},
   "outputs": [
    {
     "data": {
      "text/plain": [
       "20"
      ]
     },
     "execution_count": 23,
     "metadata": {},
     "output_type": "execute_result"
    }
   ],
   "source": [
    "len(losses_25)"
   ]
  },
  {
   "cell_type": "code",
   "execution_count": 24,
   "metadata": {},
   "outputs": [
    {
     "data": {
      "text/plain": [
       "('/storage/yw18581/src/leaf_reco/saved_models/trained_6positions/Trained_rUNet_pytorch_6positions_dataset_75epochs_0.25coeff_mask.pkl',\n",
       " 0.0017157481914317166)"
      ]
     },
     "execution_count": 24,
     "metadata": {},
     "output_type": "execute_result"
    }
   ],
   "source": [
    "min(losses_25, key=lambda e: e[1])"
   ]
  },
  {
   "cell_type": "code",
   "execution_count": 25,
   "metadata": {},
   "outputs": [],
   "source": [
    "best_models = []"
   ]
  },
  {
   "cell_type": "code",
   "execution_count": 26,
   "metadata": {},
   "outputs": [],
   "source": [
    "coeffs = [25, 3, 4, 5, 6, 7, 75]"
   ]
  },
  {
   "cell_type": "code",
   "execution_count": 27,
   "metadata": {},
   "outputs": [],
   "source": [
    "for c in coeffs:\n",
    "    fnames, _ = get_fnames(c)\n",
    "    losses_c = [(p, torch.load(p)['val_loss']) for p in map(lambda f: root_path(f), fnames)]\n",
    "    best_models.append(min(losses_c, key=lambda e: e[1]))"
   ]
  },
  {
   "cell_type": "code",
   "execution_count": 28,
   "metadata": {},
   "outputs": [
    {
     "data": {
      "text/plain": [
       "[('/storage/yw18581/src/leaf_reco/saved_models/trained_6positions/Trained_rUNet_pytorch_6positions_dataset_75epochs_0.25coeff_mask.pkl',\n",
       "  0.0017157481914317166),\n",
       " ('/storage/yw18581/src/leaf_reco/saved_models/trained_6positions/Trained_rUNet_pytorch_6positions_dataset_95epochs_0.3coeff_mask.pkl',\n",
       "  0.0011772671851859842),\n",
       " ('/storage/yw18581/src/leaf_reco/saved_models/trained_6positions/Trained_rUNet_pytorch_6positions_dataset_95epochs_0.4coeff_mask.pkl',\n",
       "  0.0003796403805069901),\n",
       " ('/storage/yw18581/src/leaf_reco/saved_models/trained_6positions/Trained_rUNet_pytorch_6positions_dataset_220epochs_0.5coeff_mask.pkl',\n",
       "  -1.8720721763437957e-05),\n",
       " ('/storage/yw18581/src/leaf_reco/saved_models/trained_6positions/Trained_rUNet_pytorch_6positions_dataset_150epochs_0.6coeff_mask.pkl',\n",
       "  -0.00023187725202189068),\n",
       " ('/storage/yw18581/src/leaf_reco/saved_models/trained_6positions/Trained_rUNet_pytorch_6positions_dataset_240epochs_0.7coeff_mask.pkl',\n",
       "  -0.0003816395695105678),\n",
       " ('/storage/yw18581/src/leaf_reco/saved_models/trained_6positions/Trained_rUNet_pytorch_6positions_dataset_240epochs_0.75coeff_mask.pkl',\n",
       "  -0.00036763141596801924)]"
      ]
     },
     "execution_count": 28,
     "metadata": {},
     "output_type": "execute_result"
    }
   ],
   "source": [
    "best_models"
   ]
  },
  {
   "cell_type": "code",
   "execution_count": 29,
   "metadata": {},
   "outputs": [],
   "source": [
    "best_models_path = [e[0] for e in best_models]"
   ]
  },
  {
   "cell_type": "code",
   "execution_count": 30,
   "metadata": {},
   "outputs": [
    {
     "data": {
      "text/plain": [
       "['/storage/yw18581/src/leaf_reco/saved_models/trained_6positions/Trained_rUNet_pytorch_6positions_dataset_75epochs_0.25coeff_mask.pkl',\n",
       " '/storage/yw18581/src/leaf_reco/saved_models/trained_6positions/Trained_rUNet_pytorch_6positions_dataset_95epochs_0.3coeff_mask.pkl',\n",
       " '/storage/yw18581/src/leaf_reco/saved_models/trained_6positions/Trained_rUNet_pytorch_6positions_dataset_95epochs_0.4coeff_mask.pkl',\n",
       " '/storage/yw18581/src/leaf_reco/saved_models/trained_6positions/Trained_rUNet_pytorch_6positions_dataset_220epochs_0.5coeff_mask.pkl',\n",
       " '/storage/yw18581/src/leaf_reco/saved_models/trained_6positions/Trained_rUNet_pytorch_6positions_dataset_150epochs_0.6coeff_mask.pkl',\n",
       " '/storage/yw18581/src/leaf_reco/saved_models/trained_6positions/Trained_rUNet_pytorch_6positions_dataset_240epochs_0.7coeff_mask.pkl',\n",
       " '/storage/yw18581/src/leaf_reco/saved_models/trained_6positions/Trained_rUNet_pytorch_6positions_dataset_240epochs_0.75coeff_mask.pkl']"
      ]
     },
     "execution_count": 30,
     "metadata": {},
     "output_type": "execute_result"
    }
   ],
   "source": [
    "best_models_path"
   ]
  },
  {
   "cell_type": "code",
   "execution_count": 31,
   "metadata": {},
   "outputs": [],
   "source": [
    "m = best_models_path[0]"
   ]
  },
  {
   "cell_type": "code",
   "execution_count": 59,
   "metadata": {},
   "outputs": [],
   "source": [
    "ep = int(regex.findall(os.path.split(m)[1].split('_')[5])[0])"
   ]
  },
  {
   "cell_type": "code",
   "execution_count": 52,
   "metadata": {},
   "outputs": [],
   "source": [
    "coef = int(regex.findall(os.path.split(m)[1].split('_')[6])[1])"
   ]
  },
  {
   "cell_type": "code",
   "execution_count": 54,
   "metadata": {},
   "outputs": [],
   "source": [
    "fnames_c, epochs_c = get_fnames(coef, 'predicted_unseen')"
   ]
  },
  {
   "cell_type": "code",
   "execution_count": 68,
   "metadata": {},
   "outputs": [],
   "source": [
    "predicted_path = root_path(fnames_c[np.where(epochs_c==ep)[0]][0])"
   ]
  },
  {
   "cell_type": "code",
   "execution_count": 70,
   "metadata": {},
   "outputs": [
    {
     "data": {
      "text/plain": [
       "'/storage/yw18581/src/leaf_reco/saved_models/trained_6positions/predicted_unseen_6positions_75epochs_0.25coeff.npz'"
      ]
     },
     "execution_count": 70,
     "metadata": {},
     "output_type": "execute_result"
    }
   ],
   "source": [
    "predicted_path"
   ]
  },
  {
   "cell_type": "code",
   "execution_count": 75,
   "metadata": {},
   "outputs": [],
   "source": [
    "preds = np.load(predicted_path)"
   ]
  },
  {
   "cell_type": "code",
   "execution_count": 76,
   "metadata": {},
   "outputs": [],
   "source": [
    "y_true, y_pred = preds['true'], preds['pred']"
   ]
  },
  {
   "cell_type": "code",
   "execution_count": 77,
   "metadata": {},
   "outputs": [
    {
     "data": {
      "text/plain": [
       "0.10308463794512311"
      ]
     },
     "execution_count": 77,
     "metadata": {},
     "output_type": "execute_result"
    }
   ],
   "source": [
    "mean_squared_error(y_true, y_pred)"
   ]
  },
  {
   "cell_type": "code",
   "execution_count": 78,
   "metadata": {},
   "outputs": [],
   "source": [
    "def mse(model_path, dataset='predicted_unseen'):\n",
    "    ep = int(regex.findall(os.path.split(model_path)[1].split('_')[5])[0])\n",
    "    coef = int(regex.findall(os.path.split(model_path)[1].split('_')[6])[1])\n",
    "    fnames_c, epochs_c = get_fnames(coef, dataset)\n",
    "    predicted_path = root_path(fnames_c[np.where(epochs_c==ep)[0]][0])\n",
    "    preds = np.load(predicted_path)\n",
    "    y_true, y_pred = preds['true'], preds['pred']\n",
    "    return mean_squared_error(y_true, y_pred) "
   ]
  },
  {
   "cell_type": "code",
   "execution_count": 82,
   "metadata": {},
   "outputs": [],
   "source": [
    "errors = []\n",
    "for m in best_models_path:\n",
    "    err_unseen = mse(m, dataset='predicted_unseen')\n",
    "    err_testdata = mse(m, dataset='predicted_testdata')\n",
    "    errors.append((err_testdata, err_unseen))"
   ]
  },
  {
   "cell_type": "code",
   "execution_count": 83,
   "metadata": {},
   "outputs": [
    {
     "data": {
      "text/plain": [
       "[(0.00244082533539985, 0.10308463794512311),\n",
       " (0.0020107330240017414, 0.1774670814246483),\n",
       " (0.0011753295240058616, 0.21386777147945535),\n",
       " (0.0005651479752778375, 0.17234146013531304),\n",
       " (0.0003357317090362244, 0.19355919241422623),\n",
       " (0.0001914004812364988, 0.232367532129365),\n",
       " (0.0003937070078492603, 0.35063262049305044)]"
      ]
     },
     "execution_count": 83,
     "metadata": {},
     "output_type": "execute_result"
    }
   ],
   "source": [
    "errors"
   ]
  },
  {
   "cell_type": "code",
   "execution_count": 86,
   "metadata": {},
   "outputs": [],
   "source": [
    "delta=[abs(e[1]-e[0]) for e in errors]"
   ]
  },
  {
   "cell_type": "code",
   "execution_count": 87,
   "metadata": {},
   "outputs": [
    {
     "data": {
      "text/plain": [
       "[0.10064381260972326,\n",
       " 0.17545634840064656,\n",
       " 0.21269244195544948,\n",
       " 0.1717763121600352,\n",
       " 0.19322346070519,\n",
       " 0.2321761316481285,\n",
       " 0.3502389134852012]"
      ]
     },
     "execution_count": 87,
     "metadata": {},
     "output_type": "execute_result"
    }
   ],
   "source": [
    "delta"
   ]
  },
  {
   "cell_type": "code",
   "execution_count": 88,
   "metadata": {},
   "outputs": [],
   "source": [
    "def idx_mse(dist, true_arr, preds_arr):\n",
    "    idx = np.where(true_arr==dist)[0]\n",
    "    mse = mean_squared_error(true_arr[idx], preds_arr[idx])\n",
    "    print(dist, mse)\n",
    "    return idx, mse "
   ]
  },
  {
   "cell_type": "code",
   "execution_count": 89,
   "metadata": {},
   "outputs": [],
   "source": [
    "distances_unseen = [1,3,15,30]\n",
    "distances_testdata = [2,4,10,20,25,35]"
   ]
  },
  {
   "cell_type": "code",
   "execution_count": null,
   "metadata": {},
   "outputs": [],
   "source": [
    "idx = idx_mse(dist, preds_arr=preds, true_arr=true)[0]\n",
    "y_true = true[idx]\n",
    "y_pred = preds[idx]"
   ]
  },
  {
   "cell_type": "code",
   "execution_count": 96,
   "metadata": {
    "scrolled": true
   },
   "outputs": [
    {
     "name": "stdout",
     "output_type": "stream",
     "text": [
      "1 0.278899498331263\n",
      "3 0.010327922770007679\n",
      "15 0.0034237725042213342\n",
      "30 0.1126790730284362\n"
     ]
    }
   ],
   "source": [
    "ms = [idx_mse(d, preds_arr=y_pred, true_arr=y_true) for d in distances_unseen]"
   ]
  },
  {
   "cell_type": "code",
   "execution_count": 130,
   "metadata": {},
   "outputs": [],
   "source": [
    "def mse_positions(model_path, dataset='predicted_unseen', dist=distances_unseen):\n",
    "    mse=[]\n",
    "    avg=[]\n",
    "    std=[]\n",
    "    ep = int(regex.findall(os.path.split(model_path)[1].split('_')[5])[0])\n",
    "    coef = int(regex.findall(os.path.split(model_path)[1].split('_')[6])[1])\n",
    "    fnames_c, epochs_c = get_fnames(coef, dataset)\n",
    "    predicted_path = root_path(fnames_c[np.where(epochs_c==ep)[0]][0])\n",
    "    print(predicted_path)\n",
    "    preds = np.load(predicted_path)\n",
    "    y_true, y_pred = preds['true'], preds['pred']\n",
    "    for d in dist:\n",
    "        idx = idx_mse(d, preds_arr=y_pred, true_arr=y_true)[0]\n",
    "        y_true_d = y_true[idx]\n",
    "        y_pred_d = y_pred[idx]\n",
    "        mse_d = mean_squared_error(y_true_d, y_pred_d)\n",
    "        avg_pred = np.mean(y_pred_d)\n",
    "        std_pred = np.std(y_pred_d)\n",
    "        mse.append(mse_d)\n",
    "        avg.append(avg_pred)\n",
    "        std.append(std_pred)\n",
    "    return mse, avg, std"
   ]
  },
  {
   "cell_type": "code",
   "execution_count": 131,
   "metadata": {},
   "outputs": [
    {
     "name": "stdout",
     "output_type": "stream",
     "text": [
      "/storage/yw18581/src/leaf_reco/saved_models/trained_6positions/predicted_unseen_6positions_75epochs_0.25coeff.npz\n",
      "1 0.278899498331263\n",
      "3 0.010327922770007679\n",
      "15 0.0034237725042213342\n",
      "30 0.1126790730284362\n"
     ]
    }
   ],
   "source": [
    "mse_unseen, avg_unseen, std_unseen = mse_positions(best_models_path[0])"
   ]
  },
  {
   "cell_type": "code",
   "execution_count": 132,
   "metadata": {},
   "outputs": [
    {
     "name": "stdout",
     "output_type": "stream",
     "text": [
      "/storage/yw18581/src/leaf_reco/saved_models/trained_6positions/predicted_testdata_6positions_75epochs_0.25coeff.npz\n",
      "2 0.002366969050277881\n",
      "4 0.0025148988993237255\n",
      "10 0.002323545615278514\n",
      "20 0.0026421040368245358\n",
      "25 0.002154523576910319\n",
      "35 0.002639872570517068\n"
     ]
    }
   ],
   "source": [
    "mse_test, avg_test, std_test = mse_positions(best_models_path[0], dataset='predicted_testdata', dist=distances_testdata)"
   ]
  },
  {
   "cell_type": "code",
   "execution_count": 133,
   "metadata": {},
   "outputs": [
    {
     "data": {
      "text/plain": [
       "[0.278899498331263,\n",
       " 0.010327922770007679,\n",
       " 0.0034237725042213342,\n",
       " 0.1126790730284362]"
      ]
     },
     "execution_count": 133,
     "metadata": {},
     "output_type": "execute_result"
    }
   ],
   "source": [
    "mse_unseen"
   ]
  },
  {
   "cell_type": "code",
   "execution_count": 125,
   "metadata": {},
   "outputs": [],
   "source": [
    "distances = distances_unseen+distances_testdata"
   ]
  },
  {
   "cell_type": "code",
   "execution_count": 128,
   "metadata": {},
   "outputs": [],
   "source": [
    "errs = mse_unseen+mse_test"
   ]
  },
  {
   "cell_type": "code",
   "execution_count": 129,
   "metadata": {},
   "outputs": [
    {
     "data": {
      "text/plain": [
       "<matplotlib.collections.PathCollection at 0x7f9d824c7c88>"
      ]
     },
     "execution_count": 129,
     "metadata": {},
     "output_type": "execute_result"
    },
    {
     "data": {
      "image/png": "[encoded data removed]",
      "text/plain": [
       "<Figure size 432x288 with 1 Axes>"
      ]
     },
     "metadata": {
      "needs_background": "light"
     },
     "output_type": "display_data"
    }
   ],
   "source": [
    "plt.scatter(distances, errs)"
   ]
  },
  {
   "cell_type": "code",
   "execution_count": 134,
   "metadata": {},
   "outputs": [
    {
     "data": {
      "text/plain": [
       "[1.5259233, 2.992582, 15.035305, 30.330933]"
      ]
     },
     "execution_count": 134,
     "metadata": {},
     "output_type": "execute_result"
    }
   ],
   "source": [
    "avg_unseen"
   ]
  },
  {
   "cell_type": "code",
   "execution_count": 135,
   "metadata": {},
   "outputs": [
    {
     "data": {
      "text/plain": [
       "[1.9818835, 3.9869297, 9.974406, 19.98534, 24.999182, 35.014633]"
      ]
     },
     "execution_count": 135,
     "metadata": {},
     "output_type": "execute_result"
    }
   ],
   "source": [
    "avg_test"
   ]
  },
  {
   "cell_type": "code",
   "execution_count": 136,
   "metadata": {},
   "outputs": [],
   "source": [
    "avg = avg_unseen+avg_test"
   ]
  },
  {
   "cell_type": "code",
   "execution_count": 272,
   "metadata": {},
   "outputs": [
    {
     "data": {
      "image/png": "[encoded data removed]",
      "text/plain": [
       "<Figure size 864x576 with 1 Axes>"
      ]
     },
     "metadata": {
      "needs_background": "light"
     },
     "output_type": "display_data"
    }
   ],
   "source": [
    "#plt.plot(np.sort(distances), np.array(avg)[np.argsort(distances)])\n",
    "fig, ax = plt.subplots(figsize=(12,8))\n",
    "\n",
    "ax.errorbar(np.sort(distances), np.array(avg)[np.argsort(distances)], \n",
    "                                np.array(std)[np.argsort(distances)], fmt='o',markersize=5, capsize=0, c='b',ecolor='b')\n",
    "ax.plot(np.arange(0,50), np.arange(0,50),c='red')\n",
    "#plt.xticks(np.arange(0,40,5))\n",
    "#plt.yticks(np.arange(0,40,5))\n",
    "ax.xaxis.set_major_locator(MultipleLocator(5))\n",
    "ax.xaxis.set_major_formatter(FormatStrFormatter('%d'))\n",
    "ax.xaxis.set_minor_locator(MultipleLocator(1))\n",
    "\n",
    "ax.yaxis.set_minor_locator(MultipleLocator(1))\n",
    "ax.set_ylabel(\"Reconstructed leaf position (mm)\", size=14)\n",
    "ax.set_xlabel(\"LINAC set leaf position (mm)\", size=14)\n",
    "ax.set_xlim(0,40)\n",
    "ax.set_ylim(0,40)\n",
    "#plt.show()\n",
    "plt.savefig(\"reconstructed_vs_true_linear.png\")"
   ]
  },
  {
   "cell_type": "code",
   "execution_count": 138,
   "metadata": {},
   "outputs": [],
   "source": [
    "std = std_unseen+std_test"
   ]
  },
  {
   "cell_type": "code",
   "execution_count": 181,
   "metadata": {},
   "outputs": [],
   "source": [
    "resolutions = [0.04625, 0.04056, 0.08755, 0.04703, 0.04296, 0.04605,0.049,  0.04191, 0.05296, 0.04766 ]"
   ]
  },
  {
   "cell_type": "code",
   "execution_count": 179,
   "metadata": {},
   "outputs": [],
   "source": [
    "bars = [0.00112, 0.00253, 0.00291, 0.00382, 0.00314, 0.00119,0.003,  0.00299, 0.00150, 0.00329]"
   ]
  },
  {
   "cell_type": "code",
   "execution_count": 168,
   "metadata": {},
   "outputs": [
    {
     "data": {
      "image/png": "[encoded data removed]",
      "text/plain": [
       "<Figure size 432x288 with 1 Axes>"
      ]
     },
     "metadata": {
      "needs_background": "light"
     },
     "output_type": "display_data"
    }
   ],
   "source": [
    "plt.errorbar(np.sort(distances), \n",
    "             np.array(errs)[np.argsort(distances)]*1000, \n",
    "             np.array(std)[np.argsort(distances)]*1000,\n",
    "             fmt='o', capsize=5)\n",
    "#plt.ylim(0,120)\n",
    "plt.show()"
   ]
  },
  {
   "cell_type": "code",
   "execution_count": 183,
   "metadata": {},
   "outputs": [
    {
     "data": {
      "text/plain": [
       "<matplotlib.collections.PathCollection at 0x7f9d68393b70>"
      ]
     },
     "execution_count": 183,
     "metadata": {},
     "output_type": "execute_result"
    },
    {
     "data": {
      "image/png": "[encoded data removed]",
      "text/plain": [
       "<Figure size 432x288 with 1 Axes>"
      ]
     },
     "metadata": {
      "needs_background": "light"
     },
     "output_type": "display_data"
    }
   ],
   "source": [
    "plt.scatter(np.sort(distances), resolutions)"
   ]
  },
  {
   "cell_type": "code",
   "execution_count": 214,
   "metadata": {},
   "outputs": [
    {
     "data": {
      "image/png": "[encoded data removed]",
      "text/plain": [
       "<Figure size 720x432 with 1 Axes>"
      ]
     },
     "metadata": {
      "needs_background": "light"
     },
     "output_type": "display_data"
    }
   ],
   "source": [
    "plt.figure(figsize=(10,6))\n",
    "plt.errorbar(np.sort(distances), \n",
    "             np.array(resolutions)*1000, \n",
    "             np.array(bars)*1000,\n",
    "             fmt='x', capsize=4, c='red',ecolor='k')\n",
    "plt.xticks(np.arange(0,40,5))\n",
    "plt.ylabel(\"Resolution (microns)\", size=14)\n",
    "plt.xlabel(\"Position (mm)\", size=14)\n",
    "plt.ylim(30,120)\n",
    "plt.show()"
   ]
  },
  {
   "cell_type": "code",
   "execution_count": 218,
   "metadata": {},
   "outputs": [],
   "source": [
    "from matplotlib.ticker import (MultipleLocator, FormatStrFormatter,\n",
    "                               AutoMinorLocator)"
   ]
  },
  {
   "cell_type": "code",
   "execution_count": 271,
   "metadata": {},
   "outputs": [
    {
     "data": {
      "image/png": "[encoded data removed]",
      "text/plain": [
       "<Figure size 864x576 with 1 Axes>"
      ]
     },
     "metadata": {
      "needs_background": "light"
     },
     "output_type": "display_data"
    }
   ],
   "source": [
    "#plt.figure(figsize=(10,6))\n",
    "fig, ax = plt.subplots(figsize=(12,8))\n",
    "ax.errorbar(np.sort(distances), \n",
    "             np.array(resolutions)*1000, \n",
    "             np.array(bars)*1000,\n",
    "             fmt='x', capsize=4, c='red',ecolor='k')\n",
    "#ax.xticks(np.arange(0,40,5))\n",
    "ax.set_ylabel(\"Resolution (microns)\", size=14)\n",
    "ax.set_xlabel(\"Position (mm)\", size=14)\n",
    "ax.set_ylim(30,120)\n",
    "\n",
    "ax.xaxis.set_major_locator(MultipleLocator(5))\n",
    "ax.xaxis.set_major_formatter(FormatStrFormatter('%d'))\n",
    "ax.xaxis.set_minor_locator(MultipleLocator(1))\n",
    "ax.yaxis.set_minor_locator(MultipleLocator(5))\n",
    "#plt.show()\n",
    "plt.savefig(\"resolution_vs_position.png\")"
   ]
  },
  {
   "cell_type": "code",
   "execution_count": null,
   "metadata": {},
   "outputs": [],
   "source": []
  }
 ],
 "metadata": {
  "kernelspec": {
   "display_name": "Python 3.7 (ml)",
   "language": "python",
   "name": "mlearning"
  },
  "language_info": {
   "codemirror_mode": {
    "name": "ipython",
    "version": 3
   },
   "file_extension": ".py",
   "mimetype": "text/x-python",
   "name": "python",
   "nbconvert_exporter": "python",
   "pygments_lexer": "ipython3",
   "version": "3.7.3"
  }
 },
 "nbformat": 4,
 "nbformat_minor": 2
}
