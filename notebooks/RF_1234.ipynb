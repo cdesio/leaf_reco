{
 "cells": [
  {
   "cell_type": "code",
   "execution_count": 1,
   "metadata": {},
   "outputs": [],
   "source": [
    "import numpy as np\n",
    "from sklearn.externals import joblib\n",
    "from sklearn.ensemble import RandomForestRegressor\n",
    "import os\n",
    "from sklearn.metrics import mean_squared_error\n",
    "import matplotlib.pyplot as plt"
   ]
  },
  {
   "cell_type": "code",
   "execution_count": 2,
   "metadata": {},
   "outputs": [],
   "source": [
    "data_dir = '/storage/yw18581/data/'\n",
    "data_folder = os.path.join(data_dir, 'train_validation_test')"
   ]
  },
  {
   "cell_type": "code",
   "execution_count": 4,
   "metadata": {},
   "outputs": [],
   "source": [
    "X_1mm = np.load(os.path.join(data_folder, \"Xy_1mm.npz\"))[\"y\"]\n",
    "y_1mm = np.load(os.path.join(data_folder, \"Xy_1mm.npz\"))[\"dist\"]\n",
    "\n",
    "X_2mm = np.load(os.path.join(data_folder, \"Xy_2mm.npz\"))[\"y\"]\n",
    "y_2mm = np.load(os.path.join(data_folder, \"Xy_2mm.npz\"))[\"dist\"]\n",
    "\n",
    "X_3mm = np.load(os.path.join(data_folder, \"Xy_3mm.npz\"))[\"y\"]\n",
    "y_3mm = np.load(os.path.join(data_folder, \"Xy_3mm.npz\"))[\"dist\"]\n",
    "\n",
    "X_4mm = np.load(os.path.join(data_folder, \"Xy_4mm.npz\"))[\"y\"]\n",
    "y_4mm = np.load(os.path.join(data_folder, \"Xy_4mm.npz\"))[\"dist\"]\n",
    "\n"
   ]
  },
  {
   "cell_type": "code",
   "execution_count": 5,
   "metadata": {},
   "outputs": [],
   "source": [
    "def cut_X(arr, reshape = None):\n",
    "    x_cut = arr[:,960:1300,600:]\n",
    "    if reshape:\n",
    "        if len(x_cut.shape)>3:\n",
    "            x_cut = x_cut[...,0]\n",
    "            x_cut_out = x_cut.reshape(x_cut.shape[0],x_cut.shape[1]*x_cut.shape[2])\n",
    "    else:\n",
    "        x_cut_out = x_cut\n",
    "    return x_cut_out\n",
    "\n",
    "def reshape_RF(arr):\n",
    "    arr_RF = arr.reshape((arr.shape[0], arr.shape[1]*arr.shape[2]))\n",
    "    return arr_RF"
   ]
  },
  {
   "cell_type": "code",
   "execution_count": 6,
   "metadata": {},
   "outputs": [],
   "source": [
    "X_1mm_cut = cut_X(X_1mm)\n",
    "X_2mm_cut = cut_X(X_2mm)\n",
    "X_3mm_cut = cut_X(X_3mm)\n",
    "X_4mm_cut = cut_X(X_4mm)\n",
    "\n",
    "X_1mm_RF  = reshape_RF(X_1mm_cut)\n",
    "X_2mm_RF  = reshape_RF(X_2mm_cut)\n",
    "X_3mm_RF  = reshape_RF(X_3mm_cut)\n",
    "X_4mm_RF  = reshape_RF(X_4mm_cut)\n"
   ]
  },
  {
   "cell_type": "code",
   "execution_count": 7,
   "metadata": {},
   "outputs": [],
   "source": [
    "rf = RandomForestRegressor(n_estimators=100, max_depth=10, random_state=42, verbose=10 )"
   ]
  },
  {
   "cell_type": "code",
   "execution_count": 9,
   "metadata": {},
   "outputs": [],
   "source": [
    "X = np.vstack((X_1mm_RF, X_2mm_RF, X_4mm_RF))"
   ]
  },
  {
   "cell_type": "code",
   "execution_count": 10,
   "metadata": {},
   "outputs": [],
   "source": [
    "y = np.hstack((y_1mm, y_2mm, y_4mm))"
   ]
  },
  {
   "cell_type": "code",
   "execution_count": 12,
   "metadata": {},
   "outputs": [
    {
     "name": "stderr",
     "output_type": "stream",
     "text": [
      "[Parallel(n_jobs=1)]: Using backend SequentialBackend with 1 concurrent workers.\n"
     ]
    },
    {
     "name": "stdout",
     "output_type": "stream",
     "text": [
      "building tree 1 of 100\n"
     ]
    },
    {
     "name": "stderr",
     "output_type": "stream",
     "text": [
      "[Parallel(n_jobs=1)]: Done   1 out of   1 | elapsed:    3.9s remaining:    0.0s\n"
     ]
    },
    {
     "name": "stdout",
     "output_type": "stream",
     "text": [
      "building tree 2 of 100\n"
     ]
    },
    {
     "name": "stderr",
     "output_type": "stream",
     "text": [
      "[Parallel(n_jobs=1)]: Done   2 out of   2 | elapsed:    7.9s remaining:    0.0s\n"
     ]
    },
    {
     "name": "stdout",
     "output_type": "stream",
     "text": [
      "building tree 3 of 100\n"
     ]
    },
    {
     "name": "stderr",
     "output_type": "stream",
     "text": [
      "[Parallel(n_jobs=1)]: Done   3 out of   3 | elapsed:   11.7s remaining:    0.0s\n"
     ]
    },
    {
     "name": "stdout",
     "output_type": "stream",
     "text": [
      "building tree 4 of 100\n"
     ]
    },
    {
     "name": "stderr",
     "output_type": "stream",
     "text": [
      "[Parallel(n_jobs=1)]: Done   4 out of   4 | elapsed:   15.8s remaining:    0.0s\n"
     ]
    },
    {
     "name": "stdout",
     "output_type": "stream",
     "text": [
      "building tree 5 of 100\n"
     ]
    },
    {
     "name": "stderr",
     "output_type": "stream",
     "text": [
      "[Parallel(n_jobs=1)]: Done   5 out of   5 | elapsed:   20.0s remaining:    0.0s\n"
     ]
    },
    {
     "name": "stdout",
     "output_type": "stream",
     "text": [
      "building tree 6 of 100\n"
     ]
    },
    {
     "name": "stderr",
     "output_type": "stream",
     "text": [
      "[Parallel(n_jobs=1)]: Done   6 out of   6 | elapsed:   23.9s remaining:    0.0s\n"
     ]
    },
    {
     "name": "stdout",
     "output_type": "stream",
     "text": [
      "building tree 7 of 100\n"
     ]
    },
    {
     "name": "stderr",
     "output_type": "stream",
     "text": [
      "[Parallel(n_jobs=1)]: Done   7 out of   7 | elapsed:   27.7s remaining:    0.0s\n"
     ]
    },
    {
     "name": "stdout",
     "output_type": "stream",
     "text": [
      "building tree 8 of 100\n"
     ]
    },
    {
     "name": "stderr",
     "output_type": "stream",
     "text": [
      "[Parallel(n_jobs=1)]: Done   8 out of   8 | elapsed:   31.3s remaining:    0.0s\n"
     ]
    },
    {
     "name": "stdout",
     "output_type": "stream",
     "text": [
      "building tree 9 of 100\n"
     ]
    },
    {
     "name": "stderr",
     "output_type": "stream",
     "text": [
      "[Parallel(n_jobs=1)]: Done   9 out of   9 | elapsed:   35.1s remaining:    0.0s\n"
     ]
    },
    {
     "name": "stdout",
     "output_type": "stream",
     "text": [
      "building tree 10 of 100\n",
      "building tree 11 of 100\n",
      "building tree 12 of 100\n",
      "building tree 13 of 100\n",
      "building tree 14 of 100\n",
      "building tree 15 of 100\n",
      "building tree 16 of 100\n",
      "building tree 17 of 100\n",
      "building tree 18 of 100\n",
      "building tree 19 of 100\n",
      "building tree 20 of 100\n",
      "building tree 21 of 100\n",
      "building tree 22 of 100\n",
      "building tree 23 of 100\n",
      "building tree 24 of 100\n",
      "building tree 25 of 100\n",
      "building tree 26 of 100\n",
      "building tree 27 of 100\n",
      "building tree 28 of 100\n",
      "building tree 29 of 100\n",
      "building tree 30 of 100\n",
      "building tree 31 of 100\n",
      "building tree 32 of 100\n",
      "building tree 33 of 100\n",
      "building tree 34 of 100\n",
      "building tree 35 of 100\n",
      "building tree 36 of 100\n",
      "building tree 37 of 100\n",
      "building tree 38 of 100\n",
      "building tree 39 of 100\n",
      "building tree 40 of 100\n",
      "building tree 41 of 100\n",
      "building tree 42 of 100\n",
      "building tree 43 of 100\n",
      "building tree 44 of 100\n",
      "building tree 45 of 100\n",
      "building tree 46 of 100\n",
      "building tree 47 of 100\n",
      "building tree 48 of 100\n",
      "building tree 49 of 100\n",
      "building tree 50 of 100\n",
      "building tree 51 of 100\n",
      "building tree 52 of 100\n",
      "building tree 53 of 100\n",
      "building tree 54 of 100\n",
      "building tree 55 of 100\n",
      "building tree 56 of 100\n",
      "building tree 57 of 100\n",
      "building tree 58 of 100\n",
      "building tree 59 of 100\n",
      "building tree 60 of 100\n",
      "building tree 61 of 100\n",
      "building tree 62 of 100\n",
      "building tree 63 of 100\n",
      "building tree 64 of 100\n",
      "building tree 65 of 100\n",
      "building tree 66 of 100\n",
      "building tree 67 of 100\n",
      "building tree 68 of 100\n",
      "building tree 69 of 100\n",
      "building tree 70 of 100\n",
      "building tree 71 of 100\n",
      "building tree 72 of 100\n",
      "building tree 73 of 100\n",
      "building tree 74 of 100\n",
      "building tree 75 of 100\n",
      "building tree 76 of 100\n",
      "building tree 77 of 100\n",
      "building tree 78 of 100\n",
      "building tree 79 of 100\n",
      "building tree 80 of 100\n",
      "building tree 81 of 100\n",
      "building tree 82 of 100\n",
      "building tree 83 of 100\n",
      "building tree 84 of 100\n",
      "building tree 85 of 100\n",
      "building tree 86 of 100\n",
      "building tree 87 of 100\n",
      "building tree 88 of 100\n",
      "building tree 89 of 100\n",
      "building tree 90 of 100\n",
      "building tree 91 of 100\n",
      "building tree 92 of 100\n",
      "building tree 93 of 100\n",
      "building tree 94 of 100\n",
      "building tree 95 of 100\n",
      "building tree 96 of 100\n",
      "building tree 97 of 100\n",
      "building tree 98 of 100\n",
      "building tree 99 of 100\n",
      "building tree 100 of 100\n"
     ]
    },
    {
     "name": "stderr",
     "output_type": "stream",
     "text": [
      "[Parallel(n_jobs=1)]: Done 100 out of 100 | elapsed:  6.5min finished\n"
     ]
    },
    {
     "data": {
      "text/plain": [
       "RandomForestRegressor(bootstrap=True, criterion='mse', max_depth=10,\n",
       "           max_features='auto', max_leaf_nodes=None,\n",
       "           min_impurity_decrease=0.0, min_impurity_split=None,\n",
       "           min_samples_leaf=1, min_samples_split=2,\n",
       "           min_weight_fraction_leaf=0.0, n_estimators=100, n_jobs=None,\n",
       "           oob_score=False, random_state=42, verbose=10, warm_start=False)"
      ]
     },
     "execution_count": 12,
     "metadata": {},
     "output_type": "execute_result"
    }
   ],
   "source": [
    "rf.fit(X,y)"
   ]
  },
  {
   "cell_type": "code",
   "execution_count": 14,
   "metadata": {},
   "outputs": [
    {
     "name": "stderr",
     "output_type": "stream",
     "text": [
      "[Parallel(n_jobs=1)]: Using backend SequentialBackend with 1 concurrent workers.\n",
      "[Parallel(n_jobs=1)]: Done   1 out of   1 | elapsed:    0.0s remaining:    0.0s\n",
      "[Parallel(n_jobs=1)]: Done   2 out of   2 | elapsed:    0.0s remaining:    0.0s\n",
      "[Parallel(n_jobs=1)]: Done   3 out of   3 | elapsed:    0.0s remaining:    0.0s\n",
      "[Parallel(n_jobs=1)]: Done   4 out of   4 | elapsed:    0.0s remaining:    0.0s\n",
      "[Parallel(n_jobs=1)]: Done   5 out of   5 | elapsed:    0.0s remaining:    0.0s\n",
      "[Parallel(n_jobs=1)]: Done   6 out of   6 | elapsed:    0.0s remaining:    0.0s\n",
      "[Parallel(n_jobs=1)]: Done   7 out of   7 | elapsed:    0.0s remaining:    0.0s\n",
      "[Parallel(n_jobs=1)]: Done   8 out of   8 | elapsed:    0.0s remaining:    0.0s\n",
      "[Parallel(n_jobs=1)]: Done   9 out of   9 | elapsed:    0.0s remaining:    0.0s\n",
      "[Parallel(n_jobs=1)]: Done 100 out of 100 | elapsed:    0.0s finished\n"
     ]
    }
   ],
   "source": [
    "preds = rf.predict(X_3mm_RF)"
   ]
  },
  {
   "cell_type": "code",
   "execution_count": 15,
   "metadata": {},
   "outputs": [],
   "source": [
    "from sklearn.metrics import mean_squared_error"
   ]
  },
  {
   "cell_type": "code",
   "execution_count": 16,
   "metadata": {},
   "outputs": [
    {
     "data": {
      "text/plain": [
       "0.45016466666666666"
      ]
     },
     "execution_count": 16,
     "metadata": {},
     "output_type": "execute_result"
    }
   ],
   "source": [
    "mean_squared_error(y_3mm, preds)"
   ]
  },
  {
   "cell_type": "code",
   "execution_count": 17,
   "metadata": {},
   "outputs": [
    {
     "data": {
      "text/plain": [
       "array([2.5 , 3.38, 3.72, 3.56, 2.66, 3.22, 3.92, 3.68, 3.88, 3.16, 2.88,\n",
       "       4.  , 3.88, 3.92, 2.84, 3.26, 3.9 , 3.64, 3.9 , 2.7 , 3.48, 3.96,\n",
       "       3.8 , 3.54, 2.46, 2.96, 2.88, 3.36, 3.9 , 3.22, 3.73, 3.76, 3.36,\n",
       "       3.96, 2.72, 3.54, 3.3 , 3.7 , 4.  , 2.46, 2.72, 4.  , 3.  , 2.26,\n",
       "       2.88, 3.58, 3.98, 3.96, 3.72, 2.86, 2.74, 3.9 , 3.98, 2.64, 2.52,\n",
       "       3.9 , 3.28, 3.24, 3.24, 2.36, 3.5 , 3.08, 3.47, 2.68, 3.22, 3.76,\n",
       "       3.83, 2.44, 3.62, 2.24, 3.5 , 3.98, 3.7 , 2.68, 3.2 , 3.79, 3.96,\n",
       "       3.98, 3.76, 2.8 , 3.36, 3.96, 3.82, 2.62, 3.74, 3.98, 3.7 , 3.73,\n",
       "       3.5 , 2.4 , 3.62, 2.8 , 3.98, 2.48, 3.26, 3.8 , 3.88, 3.8 , 3.66,\n",
       "       2.28, 3.5 , 3.4 , 3.52, 2.7 , 3.3 , 3.9 , 3.88, 3.96, 2.54, 3.6 ,\n",
       "       3.72, 3.98, 3.96, 3.98, 2.81, 3.16, 3.16, 3.41, 3.88, 2.6 , 3.74,\n",
       "       3.98, 4.  , 3.96, 2.74, 2.24, 3.9 , 3.14, 2.9 , 2.78, 3.66, 3.98,\n",
       "       3.42, 3.66, 2.56, 3.16, 3.04, 4.  , 3.96, 2.4 , 3.38, 3.72, 3.66,\n",
       "       3.  , 3.02, 2.9 , 2.96, 3.08, 3.28, 3.15, 3.52, 4.  , 3.36, 2.68,\n",
       "       3.58, 4.  , 3.84, 3.96, 3.86, 2.92, 3.36, 3.14, 3.84, 3.05, 3.2 ,\n",
       "       3.68, 4.  , 3.66, 3.76, 3.28, 3.64, 2.58, 3.74, 2.38, 3.58, 3.84,\n",
       "       3.82, 3.96, 2.7 , 2.3 , 3.64, 3.42, 3.94, 2.7 , 3.14, 3.48, 3.74,\n",
       "       3.98, 4.  , 2.26, 3.26, 3.34, 3.08, 2.74, 3.24, 2.7 , 3.48, 3.75,\n",
       "       2.58, 3.84, 4.  , 3.26, 3.94, 2.42, 3.02, 3.84, 3.98, 3.92, 2.48,\n",
       "       2.42, 3.92, 3.72, 2.84, 2.64, 3.26, 3.85, 3.72, 3.76, 2.42, 3.26,\n",
       "       3.96, 3.98, 4.  , 3.98, 3.62, 3.88, 4.  , 3.78, 3.92, 2.9 , 4.  ,\n",
       "       4.  , 3.92, 3.7 , 3.94, 3.28, 4.  , 3.94, 3.7 , 2.48, 3.96, 4.  ,\n",
       "       4.  , 3.03, 3.27, 3.76, 3.88, 4.  , 3.88, 2.7 , 3.92, 3.86, 3.79,\n",
       "       2.8 , 3.53, 3.68, 3.76, 3.68, 3.88, 3.13, 3.42, 4.  , 3.92, 2.78,\n",
       "       2.92, 4.  , 3.98, 3.84, 3.94, 2.42, 3.48, 3.72, 3.28, 2.82, 3.84,\n",
       "       4.  , 3.9 , 4.  , 3.57, 2.94, 3.6 , 3.94, 3.6 , 2.6 , 3.  , 3.84,\n",
       "       3.98, 2.78, 4.  , 3.06, 3.41, 2.8 , 3.72, 2.56, 3.32, 3.6 , 3.76,\n",
       "       3.78, 2.5 , 3.94])"
      ]
     },
     "execution_count": 17,
     "metadata": {},
     "output_type": "execute_result"
    }
   ],
   "source": [
    "preds"
   ]
  },
  {
   "cell_type": "code",
   "execution_count": 21,
   "metadata": {},
   "outputs": [
    {
     "data": {
      "image/png": "[encoded data removed]",
      "text/plain": [
       "<Figure size 432x288 with 1 Axes>"
      ]
     },
     "metadata": {
      "needs_background": "light"
     },
     "output_type": "display_data"
    }
   ],
   "source": [
    "import numpy as np\n",
    "from scipy.stats import norm\n",
    "import matplotlib.pyplot as plt\n",
    "\n",
    "data = preds-y_3mm\n",
    "mean,std=norm.fit(data)\n",
    "\n",
    "plt.hist(data, bins=8, normed=True, facecolor='white',edgecolor =\"k\",  alpha=1)\n",
    "xmin, xmax = plt.xlim()\n",
    "x = np.linspace(xmin, xmax, 100)\n",
    "y = norm.pdf(x, mean, std)\n",
    "plt.plot(x, y, c='r')\n",
    "plt.xlabel('y_pred-y_true(mm)')\n",
    "plt.ylabel('Frequence')\n",
    "plt.title(r'$\\mathrm{Histogram\\ of\\ IQ:}\\ \\mu=%.3f,\\ \\sigma=%.3f$' %(mean, std))\n",
    "plt.show()"
   ]
  },
  {
   "cell_type": "code",
   "execution_count": null,
   "metadata": {},
   "outputs": [],
   "source": []
  }
 ],
 "metadata": {
  "kernelspec": {
   "display_name": "Python 3",
   "language": "python",
   "name": "python3"
  },
  "language_info": {
   "codemirror_mode": {
    "name": "ipython",
    "version": 3
   },
   "file_extension": ".py",
   "mimetype": "text/x-python",
   "name": "python",
   "nbconvert_exporter": "python",
   "pygments_lexer": "ipython3",
   "version": "3.6.7"
  }
 },
 "nbformat": 4,
 "nbformat_minor": 2
}
