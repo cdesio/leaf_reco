{
 "cells": [
  {
   "cell_type": "code",
   "execution_count": 1,
   "metadata": {},
   "outputs": [],
   "source": [
    "import numpy as np\n",
    "from sklearn.externals import joblib\n",
    "from sklearn.ensemble import RandomForestRegressor\n",
    "import os\n",
    "from sklearn.metrics import mean_squared_error, mean_absolute_error\n",
    "import matplotlib.pyplot as plt\n",
    "from sklearn.model_selection import train_test_split\n",
    "import pickle"
   ]
  },
  {
   "cell_type": "code",
   "execution_count": 2,
   "metadata": {},
   "outputs": [],
   "source": [
    "data_dir = '/storage/yw18581/data/'\n",
    "data_folder = os.path.join(data_dir, 'train_validation_test')\n",
    "clean_dir = os.path.join(data_folder, 'clean_300_june')"
   ]
  },
  {
   "cell_type": "code",
   "execution_count": 3,
   "metadata": {},
   "outputs": [],
   "source": [
    "def cut_X(arr, reshape = None):\n",
    "    x_cut = arr[:,960:1300,600:]\n",
    "    if reshape:\n",
    "        if len(x_cut.shape)>3:\n",
    "            x_cut = x_cut[...,0]\n",
    "            x_cut_out = x_cut.reshape(x_cut.shape[0],x_cut.shape[1]*x_cut.shape[2])\n",
    "    else:\n",
    "        x_cut_out = x_cut\n",
    "    return x_cut_out\n",
    "\n",
    "def reshape_RF(arr):\n",
    "    arr_RF = arr.reshape((arr.shape[0], arr.shape[1]*arr.shape[2]))\n",
    "    return arr_RF"
   ]
  },
  {
   "cell_type": "code",
   "execution_count": 4,
   "metadata": {},
   "outputs": [],
   "source": [
    "def cut_reshape(arr):\n",
    "    arr_cut = cut_X(arr)\n",
    "    arr_RF = reshape_RF(arr_cut)\n",
    "    return arr_RF"
   ]
  },
  {
   "cell_type": "code",
   "execution_count": 5,
   "metadata": {},
   "outputs": [],
   "source": [
    "def import_split(pos, keyword):\n",
    "    Xy = np.load(os.path.join(clean_dir,\"Xy_\"+pos+\"_{}.npz\".format(keyword)))\n",
    "    X = Xy[\"y\"]\n",
    "    y = Xy[\"dist\"]\n",
    "    X_RF = cut_reshape(X)\n",
    "    size = X.shape[0]\n",
    "    train_indices, test_indices = train_test_split(np.arange(size), test_size=0.20, random_state=42)\n",
    "    X_RF_train = X_RF[train_indices]\n",
    "    y_train = y[train_indices]\n",
    "    X_RF_test = X_RF[test_indices]\n",
    "    y_test = y[test_indices]\n",
    "    return X_RF_train, y_train, X_RF_test, y_test"
   ]
  },
  {
   "cell_type": "code",
   "execution_count": 6,
   "metadata": {},
   "outputs": [],
   "source": [
    "X_1mm_1_train, y_1mm_1_train, X_1mm_1_test, y_1mm_1_test = import_split(\"1mm\", \"clean300_june\")\n",
    "X_2mm_1_train, y_2mm_1_train, X_2mm_1_test, y_2mm_1_test = import_split(\"2mm\", \"clean300_june\")\n",
    "X_3mm_1_train, y_3mm_1_train, X_3mm_1_test, y_3mm_1_test = import_split(\"3mm\", \"clean300_june\")\n",
    "X_4mm_1_train, y_4mm_1_train, X_4mm_1_test, y_4mm_1_test = import_split(\"4mm\", \"clean300_june\")\n",
    "X_10mm_1_train, y_10mm_1_train, X_10mm_1_test, y_10mm_1_test = import_split(\"10mm\", \"clean300_june\")\n",
    "X_15mm_1_train, y_15mm_1_train, X_15mm_1_test, y_15mm_1_test = import_split(\"15mm\", \"clean300_june\")\n",
    "X_20mm_1_train, y_20mm_1_train, X_20mm_1_test, y_20mm_1_test = import_split(\"20mm\", \"clean300_june\")\n",
    "X_25mm_1_train, y_25mm_1_train, X_25mm_1_test, y_25mm_1_test = import_split(\"25mm\", \"clean300_june\")\n",
    "X_30mm_1_train, y_30mm_1_train, X_30mm_1_test, y_30mm_1_test = import_split(\"30mm\", \"clean300_june\")\n",
    "X_35mm_1_train, y_35mm_1_train, X_35mm_1_test, y_35mm_1_test = import_split(\"35mm\", \"clean300_june\")"
   ]
  },
  {
   "cell_type": "code",
   "execution_count": 7,
   "metadata": {},
   "outputs": [],
   "source": [
    "X_1mm_2_train, y_1mm_2_train, X_1mm_2_test, y_1mm_2_test = import_split(\"1mm\", \"second_batch_clean300_june\")\n",
    "X_2mm_2_train, y_2mm_2_train, X_2mm_2_test, y_2mm_2_test = import_split(\"2mm\", \"second_batch_clean300_june\")\n",
    "X_3mm_2_train, y_3mm_2_train, X_3mm_2_test, y_3mm_2_test = import_split(\"3mm\", \"second_batch_clean300_june\")\n",
    "X_4mm_2_train, y_4mm_2_train, X_4mm_2_test, y_4mm_2_test = import_split(\"4mm\", \"second_batch_clean300_june\")\n",
    "X_10mm_2_train, y_10mm_2_train, X_10mm_2_test, y_10mm_2_test = import_split(\"10mm\", \"second_batch_clean300_june\")\n",
    "X_15mm_2_train, y_15mm_2_train, X_15mm_2_test, y_15mm_2_test = import_split(\"15mm\", \"second_batch_clean300_june\")\n",
    "X_20mm_2_train, y_20mm_2_train, X_20mm_2_test, y_20mm_2_test = import_split(\"20mm\", \"second_batch_clean300_june\")\n",
    "X_25mm_2_train, y_25mm_2_train, X_25mm_2_test, y_25mm_2_test = import_split(\"25mm\", \"second_batch_clean300_june\")\n",
    "X_30mm_2_train, y_30mm_2_train, X_30mm_2_test, y_30mm_2_test = import_split(\"30mm\", \"second_batch_clean300_june\")\n",
    "X_35mm_2_train, y_35mm_2_train, X_35mm_2_test, y_35mm_2_test = import_split(\"35mm\", \"second_batch_clean300_june\")"
   ]
  },
  {
   "cell_type": "code",
   "execution_count": 8,
   "metadata": {},
   "outputs": [],
   "source": [
    "X_1_train = np.vstack((X_1mm_1_train, X_2mm_1_train, X_3mm_1_train, X_4mm_1_train, X_10mm_1_train,\n",
    "              X_15mm_1_train, X_20mm_1_train, X_25mm_1_train, X_30mm_1_train, X_35mm_1_train))\n",
    "y_1_train =  np.hstack((y_1mm_1_train, y_2mm_1_train, y_3mm_1_train, y_4mm_1_train, y_10mm_1_train, \n",
    "                     y_15mm_1_train, y_20mm_1_train, y_25mm_1_train, y_30mm_1_train, y_35mm_1_train))"
   ]
  },
  {
   "cell_type": "code",
   "execution_count": 9,
   "metadata": {},
   "outputs": [],
   "source": [
    "X_2_train = np.vstack((X_1mm_2_train, X_2mm_2_train, X_3mm_2_train, X_4mm_2_train, X_10mm_2_train,\n",
    "              X_15mm_2_train, X_20mm_2_train, X_25mm_2_train, X_30mm_2_train, X_35mm_2_train))\n",
    "y_2_train =  np.hstack((y_1mm_2_train, y_2mm_2_train, y_3mm_2_train, y_4mm_2_train, y_10mm_2_train, \n",
    "                     y_15mm_2_train, y_20mm_2_train, y_25mm_2_train, y_30mm_2_train, y_35mm_2_train))"
   ]
  },
  {
   "cell_type": "code",
   "execution_count": 10,
   "metadata": {},
   "outputs": [],
   "source": [
    "X_1_test = np.vstack((X_1mm_1_test, X_2mm_1_test, X_3mm_1_test, X_4mm_1_test, X_10mm_1_test,\n",
    "              X_15mm_1_test, X_20mm_1_test, X_25mm_1_test, X_30mm_1_test, X_35mm_1_test))\n",
    "y_1_test =  np.hstack((y_1mm_1_test, y_2mm_1_test, y_3mm_1_test, y_4mm_1_test, y_10mm_1_test, \n",
    "                     y_15mm_1_test, y_20mm_1_test, y_25mm_1_test, y_30mm_1_test, y_35mm_1_test))\n",
    "\n",
    "X_2_test = np.vstack((X_1mm_2_test, X_2mm_2_test, X_3mm_2_test, X_4mm_2_test, X_10mm_2_test,\n",
    "              X_15mm_2_test, X_20mm_2_test, X_25mm_2_test, X_30mm_2_test, X_35mm_2_test))\n",
    "y_2_test =  np.hstack((y_1mm_2_test, y_2mm_2_test, y_3mm_2_test, y_4mm_2_test, y_10mm_2_test, \n",
    "                     y_15mm_2_test, y_20mm_2_test, y_25mm_2_test, y_30mm_2_test, y_35mm_2_test))"
   ]
  },
  {
   "cell_type": "code",
   "execution_count": 11,
   "metadata": {},
   "outputs": [
    {
     "data": {
      "text/plain": [
       "(2400, 272000)"
      ]
     },
     "execution_count": 11,
     "metadata": {},
     "output_type": "execute_result"
    }
   ],
   "source": [
    "X_1_train.shape"
   ]
  },
  {
   "cell_type": "code",
   "execution_count": 12,
   "metadata": {},
   "outputs": [
    {
     "data": {
      "text/plain": [
       "(2400, 272000)"
      ]
     },
     "execution_count": 12,
     "metadata": {},
     "output_type": "execute_result"
    }
   ],
   "source": [
    "X_2_train.shape"
   ]
  },
  {
   "cell_type": "code",
   "execution_count": 13,
   "metadata": {},
   "outputs": [
    {
     "data": {
      "text/plain": [
       "(600, 272000)"
      ]
     },
     "execution_count": 13,
     "metadata": {},
     "output_type": "execute_result"
    }
   ],
   "source": [
    "X_1_test.shape"
   ]
  },
  {
   "cell_type": "code",
   "execution_count": 14,
   "metadata": {},
   "outputs": [
    {
     "data": {
      "text/plain": [
       "(600, 272000)"
      ]
     },
     "execution_count": 14,
     "metadata": {},
     "output_type": "execute_result"
    }
   ],
   "source": [
    "X_2_test.shape"
   ]
  },
  {
   "cell_type": "code",
   "execution_count": 16,
   "metadata": {},
   "outputs": [],
   "source": [
    "X_train = np.vstack((X_1_train, X_2_train))\n",
    "y_train = np.hstack((y_1_train, y_2_train))"
   ]
  },
  {
   "cell_type": "code",
   "execution_count": 15,
   "metadata": {},
   "outputs": [],
   "source": [
    "model = np.load(os.path.join(data_dir,\"RF50_trained_model_clean300_june_data.npz\"))"
   ]
  },
  {
   "cell_type": "markdown",
   "metadata": {},
   "source": [
    "model = RandomForestRegressor(random_state=42, n_estimators=50, n_jobs=2, verbose=2)"
   ]
  },
  {
   "cell_type": "markdown",
   "metadata": {},
   "source": [
    "model.fit(X_train, y_train)"
   ]
  },
  {
   "cell_type": "code",
   "execution_count": 17,
   "metadata": {},
   "outputs": [],
   "source": [
    "X_test = np.vstack((X_1_test, X_2_test))\n",
    "y_test = np.hstack((y_1_test, y_2_test))"
   ]
  },
  {
   "cell_type": "code",
   "execution_count": 18,
   "metadata": {},
   "outputs": [
    {
     "name": "stderr",
     "output_type": "stream",
     "text": [
      "[Parallel(n_jobs=2)]: Using backend ThreadingBackend with 2 concurrent workers.\n",
      "[Parallel(n_jobs=2)]: Done  37 tasks      | elapsed:    0.0s\n",
      "[Parallel(n_jobs=2)]: Done  50 out of  50 | elapsed:    0.0s finished\n"
     ]
    }
   ],
   "source": [
    "preds = model.predict(X_test)"
   ]
  },
  {
   "cell_type": "code",
   "execution_count": 19,
   "metadata": {},
   "outputs": [
    {
     "data": {
      "text/plain": [
       "0.04468966666666666"
      ]
     },
     "execution_count": 19,
     "metadata": {},
     "output_type": "execute_result"
    }
   ],
   "source": [
    "mean_squared_error(preds, y_test)"
   ]
  },
  {
   "cell_type": "code",
   "execution_count": 20,
   "metadata": {},
   "outputs": [
    {
     "name": "stderr",
     "output_type": "stream",
     "text": [
      "[Parallel(n_jobs=2)]: Using backend ThreadingBackend with 2 concurrent workers.\n",
      "[Parallel(n_jobs=2)]: Done  37 tasks      | elapsed:    0.0s\n",
      "[Parallel(n_jobs=2)]: Done  50 out of  50 | elapsed:    0.0s finished\n",
      "[Parallel(n_jobs=2)]: Using backend ThreadingBackend with 2 concurrent workers.\n",
      "[Parallel(n_jobs=2)]: Done  37 tasks      | elapsed:    0.0s\n",
      "[Parallel(n_jobs=2)]: Done  50 out of  50 | elapsed:    0.0s finished\n",
      "[Parallel(n_jobs=2)]: Using backend ThreadingBackend with 2 concurrent workers.\n",
      "[Parallel(n_jobs=2)]: Done  37 tasks      | elapsed:    0.0s\n",
      "[Parallel(n_jobs=2)]: Done  50 out of  50 | elapsed:    0.0s finished\n",
      "[Parallel(n_jobs=2)]: Using backend ThreadingBackend with 2 concurrent workers.\n",
      "[Parallel(n_jobs=2)]: Done  37 tasks      | elapsed:    0.0s\n",
      "[Parallel(n_jobs=2)]: Done  50 out of  50 | elapsed:    0.0s finished\n",
      "[Parallel(n_jobs=2)]: Using backend ThreadingBackend with 2 concurrent workers.\n",
      "[Parallel(n_jobs=2)]: Done  37 tasks      | elapsed:    0.0s\n",
      "[Parallel(n_jobs=2)]: Done  50 out of  50 | elapsed:    0.0s finished\n",
      "[Parallel(n_jobs=2)]: Using backend ThreadingBackend with 2 concurrent workers.\n",
      "[Parallel(n_jobs=2)]: Done  37 tasks      | elapsed:    0.0s\n",
      "[Parallel(n_jobs=2)]: Done  50 out of  50 | elapsed:    0.0s finished\n",
      "[Parallel(n_jobs=2)]: Using backend ThreadingBackend with 2 concurrent workers.\n",
      "[Parallel(n_jobs=2)]: Done  37 tasks      | elapsed:    0.0s\n",
      "[Parallel(n_jobs=2)]: Done  50 out of  50 | elapsed:    0.0s finished\n",
      "[Parallel(n_jobs=2)]: Using backend ThreadingBackend with 2 concurrent workers.\n",
      "[Parallel(n_jobs=2)]: Done  37 tasks      | elapsed:    0.0s\n",
      "[Parallel(n_jobs=2)]: Done  50 out of  50 | elapsed:    0.0s finished\n",
      "[Parallel(n_jobs=2)]: Using backend ThreadingBackend with 2 concurrent workers.\n",
      "[Parallel(n_jobs=2)]: Done  37 tasks      | elapsed:    0.0s\n",
      "[Parallel(n_jobs=2)]: Done  50 out of  50 | elapsed:    0.0s finished\n",
      "[Parallel(n_jobs=2)]: Using backend ThreadingBackend with 2 concurrent workers.\n",
      "[Parallel(n_jobs=2)]: Done  37 tasks      | elapsed:    0.0s\n",
      "[Parallel(n_jobs=2)]: Done  50 out of  50 | elapsed:    0.0s finished\n"
     ]
    }
   ],
   "source": [
    "preds_1mm = model.predict(np.vstack((X_1mm_1_test, X_1mm_2_test)))\n",
    "preds_2mm = model.predict(np.vstack((X_2mm_1_test, X_2mm_2_test)))\n",
    "preds_3mm = model.predict(np.vstack((X_3mm_1_test, X_3mm_2_test)))\n",
    "preds_4mm = model.predict(np.vstack((X_4mm_1_test, X_4mm_2_test)))\n",
    "preds_10mm = model.predict(np.vstack((X_10mm_1_test, X_10mm_2_test)))\n",
    "preds_15mm = model.predict(np.vstack((X_15mm_1_test, X_15mm_2_test)))\n",
    "preds_20mm = model.predict(np.vstack((X_20mm_1_test, X_20mm_2_test)))\n",
    "preds_25mm = model.predict(np.vstack((X_25mm_1_test, X_25mm_2_test)))\n",
    "preds_30mm = model.predict(np.vstack((X_30mm_1_test, X_30mm_2_test)))\n",
    "preds_35mm = model.predict(np.vstack((X_35mm_1_test, X_35mm_2_test)))"
   ]
  },
  {
   "cell_type": "code",
   "execution_count": 21,
   "metadata": {},
   "outputs": [],
   "source": [
    "y_1mm_test = np.hstack((y_1mm_1_test, y_1mm_2_test))\n",
    "y_2mm_test = np.hstack((y_2mm_1_test, y_2mm_2_test))\n",
    "y_3mm_test = np.hstack((y_3mm_1_test, y_3mm_2_test))\n",
    "y_4mm_test = np.hstack((y_4mm_1_test, y_4mm_2_test))\n",
    "y_10mm_test = np.hstack((y_10mm_1_test, y_10mm_2_test))\n",
    "y_15mm_test = np.hstack((y_15mm_1_test, y_15mm_2_test))\n",
    "y_20mm_test = np.hstack((y_20mm_1_test, y_20mm_2_test))\n",
    "y_25mm_test = np.hstack((y_25mm_1_test, y_25mm_2_test))\n",
    "y_30mm_test = np.hstack((y_30mm_1_test, y_30mm_2_test))\n",
    "y_35mm_test = np.hstack((y_35mm_1_test, y_35mm_2_test))"
   ]
  },
  {
   "cell_type": "code",
   "execution_count": 50,
   "metadata": {},
   "outputs": [],
   "source": [
    "np.savez_compressed(\"RF_predictions_clean_300_2batches.npz\",\n",
    "                   preds_1mm=preds_1mm, y_1mm = y_1mm_test,\n",
    "                   preds_2mm=preds_2mm, y_2mm = y_2mm_test,\n",
    "                   preds_3mm=preds_3mm, y_3mm = y_3mm_test,\n",
    "                   preds_4mm=preds_4mm, y_4mm = y_4mm_test,\n",
    "                   preds_10mm=preds_10mm, y_10mm = y_10mm_test,\n",
    "                   preds_15mm=preds_15mm, y_15mm = y_15mm_test,\n",
    "                   preds_20mm=preds_20mm, y_20mm = y_20mm_test,\n",
    "                   preds_25mm=preds_25mm, y_25mm = y_25mm_test,\n",
    "                   preds_30mm=preds_30mm, y_30mm = y_30mm_test,\n",
    "                   preds_35mm=preds_35mm, y_35mm = y_35mm_test)"
   ]
  },
  {
   "cell_type": "code",
   "execution_count": 6,
   "metadata": {},
   "outputs": [],
   "source": [
    "model_paper = joblib.load(os.path.join(data_dir,\"trained_models\",\"Leaf_position_regression\",\"leaf_regression_RF_30est_8depth.pkl\"))"
   ]
  },
  {
   "cell_type": "code",
   "execution_count": 23,
   "metadata": {},
   "outputs": [],
   "source": [
    "preds_2mm_pap = model_paper.predict(np.vstack((X_2mm_1_test, X_2mm_2_test)))\n",
    "preds_4mm_pap = model_paper.predict(np.vstack((X_4mm_1_test, X_4mm_2_test)))\n",
    "preds_10mm_pap = model_paper.predict(np.vstack((X_10mm_1_test, X_10mm_2_test)))\n",
    "preds_15mm_pap = model_paper.predict(np.vstack((X_15mm_1_test, X_15mm_2_test)))\n",
    "preds_25mm_pap = model_paper.predict(np.vstack((X_25mm_1_test, X_25mm_2_test)))"
   ]
  },
  {
   "cell_type": "code",
   "execution_count": 24,
   "metadata": {},
   "outputs": [],
   "source": [
    "X_test_pap = np.vstack((X_2mm_1_test, X_2mm_2_test,\n",
    "                       X_4mm_1_test, X_4mm_2_test,\n",
    "                       X_10mm_1_test,X_10mm_2_test,\n",
    "                       X_25mm_1_test, X_25mm_2_test))\n",
    "y_test_pap = np.vstack((y_2mm_1_test, y_2mm_2_test,\n",
    "                       y_4mm_1_test, y_4mm_2_test,\n",
    "                       y_10mm_1_test,y_10mm_2_test,\n",
    "                       y_25mm_1_test, y_25mm_2_test))\n"
   ]
  },
  {
   "cell_type": "code",
   "execution_count": 25,
   "metadata": {},
   "outputs": [],
   "source": [
    "X_2mm_test = np.vstack((X_2mm_1_test, X_2mm_2_test))\n",
    "X_4mm_test = np.vstack((X_4mm_1_test, X_4mm_2_test))\n",
    "X_10mm_test = np.vstack((X_10mm_1_test, X_10mm_2_test))\n",
    "X_15mm_test = np.vstack((X_15mm_1_test, X_15mm_2_test))\n",
    "X_25mm_test = np.vstack((X_25mm_1_test, X_25mm_2_test))"
   ]
  },
  {
   "cell_type": "code",
   "execution_count": 26,
   "metadata": {},
   "outputs": [],
   "source": [
    "preds_pap = model_paper.predict(X_test_pap)"
   ]
  },
  {
   "cell_type": "code",
   "execution_count": null,
   "metadata": {},
   "outputs": [],
   "source": []
  },
  {
   "cell_type": "code",
   "execution_count": 57,
   "metadata": {},
   "outputs": [],
   "source": [
    "np.savez_compressed(\"RF_predictions_clean_300_2batches_241025.npz\",\n",
    "                   preds_tot = preds_pap, y_tot = y_test_pap,\n",
    "                    preds_2mm = preds_2mm_pap, y_2mm = y_2mm_test,\n",
    "                    preds_4mm = preds_4mm_pap, y_4mm = y_4mm_test,\n",
    "                    preds_10mm = preds_10mm_pap, y_10mm = y_10mm_test,\n",
    "                    preds_15m = preds_15mm_pap, y_15mm = y_15mm_test,\n",
    "                    preds_25mm = preds_25mm_pap, y_25mm = y_25mm_test)\n",
    "                    "
   ]
  },
  {
   "cell_type": "code",
   "execution_count": 7,
   "metadata": {},
   "outputs": [],
   "source": [
    "def import_no_split(pos, keyword):\n",
    "    Xy = np.load(os.path.join(clean_dir,\"Xy_\"+pos+\"_{}.npz\".format(keyword)))\n",
    "    X = Xy[\"y\"]\n",
    "    y = Xy[\"dist\"]\n",
    "    X_RF = cut_reshape(X)\n",
    "    return X_RF, y"
   ]
  },
  {
   "cell_type": "code",
   "execution_count": 8,
   "metadata": {},
   "outputs": [],
   "source": [
    "X_15_1, y_15_1 = import_no_split(\"15mm\", \"clean300_june\")\n",
    "X_15_2, y_15_2 = import_no_split(\"15mm\", \"second_batch_clean300_june\")"
   ]
  },
  {
   "cell_type": "code",
   "execution_count": 9,
   "metadata": {},
   "outputs": [],
   "source": [
    "X_15 = np.vstack((X_15_1, X_15_2))\n",
    "y_15 = np.hstack((y_15_1, y_15_2))"
   ]
  },
  {
   "cell_type": "code",
   "execution_count": 10,
   "metadata": {},
   "outputs": [],
   "source": [
    "preds_15 = model_paper.predict(X_15)"
   ]
  },
  {
   "cell_type": "code",
   "execution_count": 38,
   "metadata": {},
   "outputs": [],
   "source": [
    "np.savez_compressed(\"Xy_15mm_2batch.npz\", \n",
    "                   preds_15 = preds_15, y_15 = y_15)"
   ]
  },
  {
   "cell_type": "markdown",
   "metadata": {},
   "source": [
    "### UNET"
   ]
  },
  {
   "cell_type": "code",
   "execution_count": 11,
   "metadata": {},
   "outputs": [],
   "source": [
    "Xy_15mm_unet = np.load(\"/storage/yw18581/data/trained_models/preds_15mm.npz\")"
   ]
  },
  {
   "cell_type": "code",
   "execution_count": 12,
   "metadata": {},
   "outputs": [],
   "source": [
    "preds_15mm_unet = Xy_15mm_unet[\"preds_15mm\"]"
   ]
  },
  {
   "cell_type": "code",
   "execution_count": 14,
   "metadata": {},
   "outputs": [
    {
     "data": {
      "text/plain": [
       "<matplotlib.image.AxesImage at 0x7f30cc36ae48>"
      ]
     },
     "execution_count": 14,
     "metadata": {},
     "output_type": "execute_result"
    },
    {
     "data": {
      "image/png": "[encoded data removed]",
      "text/plain": [
       "<Figure size 432x288 with 1 Axes>"
      ]
     },
     "metadata": {
      "needs_background": "light"
     },
     "output_type": "display_data"
    }
   ],
   "source": [
    "plt.imshow(preds_15mm_unet[0][...,0].astype(np.uint8))"
   ]
  },
  {
   "cell_type": "code",
   "execution_count": 15,
   "metadata": {},
   "outputs": [],
   "source": [
    "X_RF_15_unet = cut_reshape(preds_15mm_unet)"
   ]
  },
  {
   "cell_type": "code",
   "execution_count": 34,
   "metadata": {},
   "outputs": [],
   "source": [
    "X_RF_15_unet_uint = X_RF_15_unet.astype(np.uint8)*255"
   ]
  },
  {
   "cell_type": "code",
   "execution_count": 47,
   "metadata": {},
   "outputs": [],
   "source": [
    "rf_preds_15mm_unet = model_paper.predict(X_RF_15_unet_uint)"
   ]
  },
  {
   "cell_type": "code",
   "execution_count": 49,
   "metadata": {},
   "outputs": [],
   "source": [
    "y_15mm = np.ones(600)*15"
   ]
  },
  {
   "cell_type": "code",
   "execution_count": 50,
   "metadata": {},
   "outputs": [
    {
     "data": {
      "text/plain": [
       "array([15, 15, 15, 15, 15, 15, 15, 15, 15, 15, 15, 15, 15, 15, 15, 15, 15,\n",
       "       15, 15, 15, 15, 15, 15, 15, 15, 15, 15, 15, 15, 15, 15, 15, 15, 15,\n",
       "       15, 15, 15, 15, 15, 15, 15, 15, 15, 15, 15, 15, 15, 15, 15, 15, 15,\n",
       "       15, 15, 15, 15, 15, 15, 15, 15, 15, 15, 15, 15, 15, 15, 15, 15, 15,\n",
       "       15, 15, 15, 15, 15, 15, 15, 15, 15, 15, 15, 15, 15, 15, 15, 15, 15,\n",
       "       15, 15, 15, 15, 15, 15, 15, 15, 15, 15, 15, 15, 15, 15, 15, 15, 15,\n",
       "       15, 15, 15, 15, 15, 15, 15, 15, 15, 15, 15, 15, 15, 15, 15, 15, 15,\n",
       "       15, 15, 15, 15, 15, 15, 15, 15, 15, 15, 15, 15, 15, 15, 15, 15, 15,\n",
       "       15, 15, 15, 15, 15, 15, 15, 15, 15, 15, 15, 15, 15, 15, 15, 15, 15,\n",
       "       15, 15, 15, 15, 15, 15, 15, 15, 15, 15, 15, 15, 15, 15, 15, 15, 15,\n",
       "       15, 15, 15, 15, 15, 15, 15, 15, 15, 15, 15, 15, 15, 15, 15, 15, 15,\n",
       "       15, 15, 15, 15, 15, 15, 15, 15, 15, 15, 15, 15, 15, 15, 15, 15, 15,\n",
       "       15, 15, 15, 15, 15, 15, 15, 15, 15, 15, 15, 15, 15, 15, 15, 15, 15,\n",
       "       15, 15, 15, 15, 15, 15, 15, 15, 15, 15, 15, 15, 15, 15, 15, 15, 15,\n",
       "       15, 15, 15, 15, 15, 15, 15, 15, 15, 15, 15, 15, 15, 15, 15, 15, 15,\n",
       "       15, 15, 15, 15, 15, 15, 15, 15, 15, 15, 15, 15, 15, 15, 15, 15, 15,\n",
       "       15, 15, 15, 15, 15, 15, 15, 15, 15, 15, 15, 15, 15, 15, 15, 15, 15,\n",
       "       15, 15, 15, 15, 15, 15, 15, 15, 15, 15, 15, 15, 15, 15, 15, 15, 15,\n",
       "       15, 15, 15, 15, 15, 15, 15, 15, 15, 15, 15, 15, 15, 15, 15, 15, 15,\n",
       "       15, 15, 15, 15, 15, 15, 15, 15, 15, 15, 15, 15, 15, 15, 15, 15, 15,\n",
       "       15, 15, 15, 15, 15, 15, 15, 15, 15, 15, 15, 15, 15, 15, 15, 15, 15,\n",
       "       15, 15, 15, 15, 15, 15, 15, 15, 15, 15, 15, 15, 15, 15, 15, 15, 15,\n",
       "       15, 15, 15, 15, 15, 15, 15, 15, 15, 15, 15, 15, 15, 15, 15, 15, 15,\n",
       "       15, 15, 15, 15, 15, 15, 15, 15, 15, 15, 15, 15, 15, 15, 15, 15, 15,\n",
       "       15, 15, 15, 15, 15, 15, 15, 15, 15, 15, 15, 15, 15, 15, 15, 15, 15,\n",
       "       15, 15, 15, 15, 15, 15, 15, 15, 15, 15, 15, 15, 15, 15, 15, 15, 15,\n",
       "       15, 15, 15, 15, 15, 15, 15, 15, 15, 15, 15, 15, 15, 15, 15, 15, 15,\n",
       "       15, 15, 15, 15, 15, 15, 15, 15, 15, 15, 15, 15, 15, 15, 15, 15, 15,\n",
       "       15, 15, 15, 15, 15, 15, 15, 15, 15, 15, 15, 15, 15, 15, 15, 15, 15,\n",
       "       15, 15, 15, 15, 15, 15, 15, 15, 15, 15, 15, 15, 15, 15, 15, 15, 15,\n",
       "       15, 15, 15, 15, 15, 15, 15, 15, 15, 15, 15, 15, 15, 15, 15, 15, 15,\n",
       "       15, 15, 15, 15, 15, 15, 15, 15, 15, 15, 15, 15, 15, 15, 15, 15, 15,\n",
       "       15, 15, 15, 15, 15, 15, 15, 15, 15, 15, 15, 15, 15, 15, 15, 15, 15,\n",
       "       15, 15, 15, 15, 15, 15, 15, 15, 15, 15, 15, 15, 15, 15, 15, 15, 15,\n",
       "       15, 15, 15, 15, 15, 15, 15, 15, 15, 15, 15, 15, 15, 15, 15, 15, 15,\n",
       "       15, 15, 15, 15, 15])"
      ]
     },
     "execution_count": 50,
     "metadata": {},
     "output_type": "execute_result"
    }
   ],
   "source": [
    "y_15"
   ]
  },
  {
   "cell_type": "code",
   "execution_count": 21,
   "metadata": {},
   "outputs": [
    {
     "data": {
      "text/plain": [
       "True"
      ]
     },
     "execution_count": 21,
     "metadata": {},
     "output_type": "execute_result"
    }
   ],
   "source": [
    "np.all(X_RF_15_unet_uint[X_RF_15_unet_uint!=0]==1)"
   ]
  },
  {
   "cell_type": "code",
   "execution_count": 38,
   "metadata": {},
   "outputs": [],
   "source": [
    "Xy_test = np.load(\"/storage/yw18581/data/train_validation_test/Xy_test_clean_300_24_10_25.npz\")"
   ]
  },
  {
   "cell_type": "code",
   "execution_count": 61,
   "metadata": {},
   "outputs": [],
   "source": [
    "gt_test =  Xy_test[\"y\"]"
   ]
  },
  {
   "cell_type": "code",
   "execution_count": 39,
   "metadata": {},
   "outputs": [],
   "source": [
    "y_test = Xy_test[\"dist\"]"
   ]
  },
  {
   "cell_type": "code",
   "execution_count": 22,
   "metadata": {},
   "outputs": [],
   "source": [
    "preds_500 = np.load(\"/storage/yw18581/data/trained_models/preds_500.npz\")"
   ]
  },
  {
   "cell_type": "code",
   "execution_count": 23,
   "metadata": {},
   "outputs": [],
   "source": [
    "preds_500 = preds_500[\"preds_500\"]"
   ]
  },
  {
   "cell_type": "code",
   "execution_count": 36,
   "metadata": {},
   "outputs": [],
   "source": [
    "preds_500_reshape = cut_reshape(preds_500).astype(np.uint8)*255"
   ]
  },
  {
   "cell_type": "code",
   "execution_count": 40,
   "metadata": {},
   "outputs": [],
   "source": [
    "rf_preds_unet = model_paper.predict(preds_500_reshape)"
   ]
  },
  {
   "cell_type": "code",
   "execution_count": 41,
   "metadata": {},
   "outputs": [
    {
     "data": {
      "text/plain": [
       "0.22271759259259255"
      ]
     },
     "execution_count": 41,
     "metadata": {},
     "output_type": "execute_result"
    }
   ],
   "source": [
    "mean_squared_error(rf_preds_unet, y_test)"
   ]
  },
  {
   "cell_type": "code",
   "execution_count": 42,
   "metadata": {},
   "outputs": [],
   "source": [
    "import numpy as np\n",
    "from scipy.stats import norm\n",
    "\n",
    "def plot_histo(preds, true, xmin, xmax, nbins_fit, nbins_hist=8):\n",
    "    data = preds-true\n",
    "    mean,std=norm.fit(data)\n",
    "    plt.hist(data, bins=nbins_hist, density=True, facecolor='white',edgecolor =\"k\",  alpha=1, label=\"data\")\n",
    "    #xmin, xmax = plt.xlim()\n",
    "    x = np.linspace(xmin,xmax, nbins_fit)\n",
    "    y = norm.pdf(x, mean, std)\n",
    "    plt.plot(x, y, c='r', linestyle='-.', label='gaussian fit')\n",
    "    plt.xlabel('prediction error [mm]')\n",
    "    #plt.ylabel('Frequence')\n",
    "    plt.title(r'$\\mathrm{Resolution\\ histogram:}\\ \\mu=%.3f,\\ \\sigma=%.3f$' %(mean, std))\n",
    "    plt.legend(loc='upper right')\n",
    "    return"
   ]
  },
  {
   "cell_type": "code",
   "execution_count": 46,
   "metadata": {},
   "outputs": [
    {
     "data": {
      "image/png": "[encoded data removed]",
      "text/plain": [
       "<Figure size 432x288 with 1 Axes>"
      ]
     },
     "metadata": {
      "needs_background": "light"
     },
     "output_type": "display_data"
    }
   ],
   "source": [
    "plot_histo(rf_preds_unet, y_test, -1.0,1.0, nbins_fit=200, nbins_hist=6)"
   ]
  },
  {
   "cell_type": "code",
   "execution_count": 60,
   "metadata": {},
   "outputs": [
    {
     "data": {
      "image/png": "[encoded data removed]",
      "text/plain": [
       "<Figure size 432x288 with 1 Axes>"
      ]
     },
     "metadata": {
      "needs_background": "light"
     },
     "output_type": "display_data"
    }
   ],
   "source": [
    "plot_histo(rf_preds_15mm_unet-1.0, y_15mm, -2.0,2.0, nbins_fit=100, nbins_hist=6)"
   ]
  },
  {
   "cell_type": "markdown",
   "metadata": {},
   "source": [
    "### train a new RF"
   ]
  },
  {
   "cell_type": "code",
   "execution_count": 5,
   "metadata": {},
   "outputs": [],
   "source": [
    "Xy_train = np.load(\"/storage/yw18581/data/train_validation_test/Xy_train_clean_300_24_10_25.npz\")"
   ]
  },
  {
   "cell_type": "code",
   "execution_count": 6,
   "metadata": {},
   "outputs": [],
   "source": [
    "Xy_val = np.load(\"/storage/yw18581/data/train_validation_test/Xy_val_clean_300_24_10_25.npz\")"
   ]
  },
  {
   "cell_type": "code",
   "execution_count": 9,
   "metadata": {},
   "outputs": [],
   "source": [
    "X_train = cut_reshape(Xy_train[\"y\"])\n",
    "y_train = Xy_train[\"dist\"]\n",
    "X_val = cut_reshape(Xy_val[\"y\"])\n",
    "y_val = Xy_val[\"dist\"]"
   ]
  },
  {
   "cell_type": "code",
   "execution_count": 10,
   "metadata": {},
   "outputs": [],
   "source": [
    "X_train = np.vstack((X_train, X_val))\n",
    "y_train = np.hstack((y_train, y_val))"
   ]
  },
  {
   "cell_type": "code",
   "execution_count": 37,
   "metadata": {},
   "outputs": [],
   "source": [
    "rf_new = RandomForestRegressor(random_state=42, n_estimators=100, max_depth=10,  n_jobs=2, verbose=2)"
   ]
  },
  {
   "cell_type": "code",
   "execution_count": 38,
   "metadata": {},
   "outputs": [
    {
     "name": "stderr",
     "output_type": "stream",
     "text": [
      "[Parallel(n_jobs=2)]: Using backend ThreadingBackend with 2 concurrent workers.\n"
     ]
    },
    {
     "name": "stdout",
     "output_type": "stream",
     "text": [
      "building tree 1 of 100\n",
      "building tree 2 of 100\n",
      "building tree 3 of 100\n",
      "building tree 4 of 100\n",
      "building tree 5 of 100\n",
      "building tree 6 of 100\n",
      "building tree 7 of 100\n",
      "building tree 8 of 100\n",
      "building tree 9 of 100\n",
      "building tree 10 of 100\n",
      "building tree 11 of 100\n",
      "building tree 12 of 100\n",
      "building tree 13 of 100\n",
      "building tree 14 of 100\n",
      "building tree 15 of 100\n",
      "building tree 16 of 100\n",
      "building tree 17 of 100\n",
      "building tree 18 of 100\n",
      "building tree 19 of 100\n",
      "building tree 20 of 100\n",
      "building tree 21 of 100\n",
      "building tree 22 of 100\n",
      "building tree 23 of 100\n",
      "building tree 24 of 100\n",
      "building tree 25 of 100\n",
      "building tree 26 of 100\n",
      "building tree 27 of 100\n",
      "building tree 28 of 100\n",
      "building tree 29 of 100\n",
      "building tree 30 of 100\n",
      "building tree 31 of 100\n",
      "building tree 32 of 100\n",
      "building tree 33 of 100\n",
      "building tree 34 of 100\n",
      "building tree 35 of 100\n",
      "building tree 36 of 100\n",
      "building tree 37 of 100\n",
      "building tree 38 of 100\n"
     ]
    },
    {
     "name": "stderr",
     "output_type": "stream",
     "text": [
      "[Parallel(n_jobs=2)]: Done  37 tasks      | elapsed:  1.4min\n"
     ]
    },
    {
     "name": "stdout",
     "output_type": "stream",
     "text": [
      "building tree 39 of 100\n",
      "building tree 40 of 100\n",
      "building tree 41 of 100\n",
      "building tree 42 of 100\n",
      "building tree 43 of 100\n",
      "building tree 44 of 100\n",
      "building tree 45 of 100\n",
      "building tree 46 of 100\n",
      "building tree 47 of 100\n",
      "building tree 48 of 100\n",
      "building tree 49 of 100\n",
      "building tree 50 of 100\n",
      "building tree 51 of 100\n",
      "building tree 52 of 100\n",
      "building tree 53 of 100\n",
      "building tree 54 of 100\n",
      "building tree 55 of 100\n",
      "building tree 56 of 100\n",
      "building tree 57 of 100\n",
      "building tree 58 of 100\n",
      "building tree 59 of 100\n",
      "building tree 60 of 100\n",
      "building tree 61 of 100\n",
      "building tree 62 of 100\n",
      "building tree 63 of 100\n",
      "building tree 64 of 100\n",
      "building tree 65 of 100\n",
      "building tree 66 of 100\n",
      "building tree 67 of 100\n",
      "building tree 68 of 100\n",
      "building tree 69 of 100\n",
      "building tree 70 of 100\n",
      "building tree 71 of 100\n",
      "building tree 72 of 100\n",
      "building tree 73 of 100\n",
      "building tree 74 of 100\n",
      "building tree 75 of 100\n",
      "building tree 76 of 100\n",
      "building tree 77 of 100\n",
      "building tree 78 of 100\n",
      "building tree 79 of 100\n",
      "building tree 80 of 100\n",
      "building tree 81 of 100\n",
      "building tree 82 of 100\n",
      "building tree 83 of 100\n",
      "building tree 84 of 100\n",
      "building tree 85 of 100\n",
      "building tree 86 of 100\n",
      "building tree 87 of 100\n",
      "building tree 88 of 100\n",
      "building tree 89 of 100\n",
      "building tree 90 of 100\n",
      "building tree 91 of 100\n",
      "building tree 92 of 100\n",
      "building tree 93 of 100\n",
      "building tree 94 of 100\n",
      "building tree 95 of 100\n",
      "building tree 96 of 100\n",
      "building tree 97 of 100\n",
      "building tree 98 of 100\n",
      "building tree 99 of 100\n",
      "building tree 100 of 100\n"
     ]
    },
    {
     "name": "stderr",
     "output_type": "stream",
     "text": [
      "[Parallel(n_jobs=2)]: Done 100 out of 100 | elapsed:  3.7min finished\n"
     ]
    },
    {
     "data": {
      "text/plain": [
       "RandomForestRegressor(bootstrap=True, criterion='mse', max_depth=10,\n",
       "           max_features='auto', max_leaf_nodes=None,\n",
       "           min_impurity_decrease=0.0, min_impurity_split=None,\n",
       "           min_samples_leaf=1, min_samples_split=2,\n",
       "           min_weight_fraction_leaf=0.0, n_estimators=100, n_jobs=2,\n",
       "           oob_score=False, random_state=42, verbose=2, warm_start=False)"
      ]
     },
     "execution_count": 38,
     "metadata": {},
     "output_type": "execute_result"
    }
   ],
   "source": [
    "rf_new.fit(X_train, y_train)"
   ]
  },
  {
   "cell_type": "code",
   "execution_count": 13,
   "metadata": {},
   "outputs": [],
   "source": [
    "Xy_test = np.load(\"/storage/yw18581/data/train_validation_test/Xy_test_clean_300_24_10_25.npz\")"
   ]
  },
  {
   "cell_type": "code",
   "execution_count": 14,
   "metadata": {},
   "outputs": [],
   "source": [
    "X_test = cut_reshape(Xy_test[\"y\"])\n",
    "y_test = Xy_test[\"dist\"]"
   ]
  },
  {
   "cell_type": "code",
   "execution_count": 40,
   "metadata": {},
   "outputs": [
    {
     "data": {
      "text/plain": [
       "array([10.  , 25.  ,  4.  ,  2.  ,  4.  , 10.  ,  2.  ,  2.  , 10.  ,\n",
       "       25.  ,  2.  ,  4.  ,  2.  ,  2.  , 24.7 , 25.  , 25.  , 25.  ,\n",
       "       10.  , 10.  ,  4.  ,  3.64,  4.  , 25.  , 25.  ,  4.  ,  2.  ,\n",
       "       10.  , 10.  , 25.  , 10.  , 10.  , 10.  , 10.  ,  4.  , 10.  ,\n",
       "       10.  , 10.  ,  2.  , 25.  ,  2.  ,  4.  ,  4.  , 25.  ,  3.92,\n",
       "        4.  ,  4.  , 10.  ,  4.  ,  4.  ,  2.  ,  2.  ,  4.  , 10.  ,\n",
       "        2.  , 25.  , 25.  ,  2.  , 10.  , 10.  ,  2.  , 25.  ,  4.  ,\n",
       "        3.96,  4.  ,  4.  ,  4.  , 10.  ,  2.  , 25.  , 10.  ,  2.  ,\n",
       "        4.  ,  4.  ,  2.  , 25.  , 10.  ,  4.  ,  2.  ,  2.  , 25.  ,\n",
       "       25.  ,  2.  ,  2.  ,  4.  , 10.  , 10.  ,  2.  ,  2.  , 10.  ,\n",
       "        4.  ,  4.  ,  2.  , 25.  ,  4.  ,  4.  ,  4.  ,  2.  ,  2.  ,\n",
       "        2.  ,  4.  ,  2.  , 10.  ,  2.  ,  2.  , 25.  ,  2.  ,  4.  ,\n",
       "        2.  ,  2.  , 10.  , 10.  , 10.  ,  4.  , 25.  ,  2.  ,  4.  ,\n",
       "        2.  , 10.  ,  4.  , 10.  ,  2.  , 25.  ,  3.84, 25.  , 25.  ,\n",
       "       25.  , 10.  , 25.  ,  2.  , 10.  ,  2.  ,  4.  ,  4.  , 25.  ,\n",
       "       25.  ,  4.  ,  2.  , 10.  , 10.  , 25.  , 10.  ,  4.  ,  4.  ,\n",
       "       10.  , 10.  , 10.  , 25.  ,  3.96,  4.  , 10.  ,  2.  ,  4.  ,\n",
       "       25.  , 25.  ,  2.  , 25.  ,  2.  , 10.  ,  2.  , 10.  , 25.  ,\n",
       "        2.  ,  4.  ,  4.  , 10.  , 10.  ,  4.  ,  3.96,  4.24, 10.  ,\n",
       "        2.  ,  4.  ,  2.  , 10.  , 10.  ,  2.  , 10.  , 25.  ,  2.  ,\n",
       "        2.  , 25.  , 10.  , 25.  , 25.  , 25.  ,  4.  , 25.  ,  4.  ,\n",
       "       25.  ,  3.96, 25.  ,  2.  ,  4.  , 25.  ,  2.  ,  4.  , 25.  ,\n",
       "       25.  , 25.  ,  2.  , 25.  , 10.  ,  2.  , 10.  ,  4.  , 10.  ,\n",
       "        2.  , 10.  ,  2.  , 25.  , 10.  ,  4.  , 25.  ,  2.  , 25.  ,\n",
       "       25.  , 25.  , 25.  ,  4.  , 10.  , 10.  , 10.  , 10.  , 25.  ,\n",
       "        4.  ,  4.  , 10.  ,  2.  , 25.  ,  2.  , 25.  , 25.  , 10.  ,\n",
       "        2.  , 25.  ,  2.  , 25.  , 25.  , 10.  ])"
      ]
     },
     "execution_count": 40,
     "metadata": {},
     "output_type": "execute_result"
    }
   ],
   "source": [
    "preds_gt"
   ]
  },
  {
   "cell_type": "code",
   "execution_count": 41,
   "metadata": {},
   "outputs": [
    {
     "name": "stderr",
     "output_type": "stream",
     "text": [
      "[Parallel(n_jobs=2)]: Using backend ThreadingBackend with 2 concurrent workers.\n",
      "[Parallel(n_jobs=2)]: Done  37 tasks      | elapsed:    0.0s\n",
      "[Parallel(n_jobs=2)]: Done 100 out of 100 | elapsed:    0.0s finished\n"
     ]
    }
   ],
   "source": [
    "preds_gt_100_10 = rf_new.predict(X_test)"
   ]
  },
  {
   "cell_type": "code",
   "execution_count": 42,
   "metadata": {},
   "outputs": [
    {
     "data": {
      "text/plain": [
       "0.0005287499999999982"
      ]
     },
     "execution_count": 42,
     "metadata": {},
     "output_type": "execute_result"
    }
   ],
   "source": [
    "mean_squared_error(preds_gt_100_10, y_test)"
   ]
  },
  {
   "cell_type": "code",
   "execution_count": 23,
   "metadata": {},
   "outputs": [],
   "source": [
    "def import_no_split(pos, keyword):\n",
    "    Xy = np.load(os.path.join(clean_dir,\"Xy_\"+pos+\"_{}.npz\".format(keyword)))\n",
    "    X = Xy[\"y\"]\n",
    "    y = Xy[\"dist\"]\n",
    "    X_RF = cut_reshape(X)\n",
    "    return X_RF, y"
   ]
  },
  {
   "cell_type": "code",
   "execution_count": 24,
   "metadata": {},
   "outputs": [],
   "source": [
    "X_15_1, y_15_1 = import_no_split(\"15mm\", \"clean300_june\")\n",
    "X_15_2, y_15_2 = import_no_split(\"15mm\", \"second_batch_clean300_june\")\n",
    "\n",
    "X_15 = np.vstack((X_15_1, X_15_2))\n",
    "y_15 = np.hstack((y_15_1, y_15_2))\n"
   ]
  },
  {
   "cell_type": "code",
   "execution_count": 43,
   "metadata": {},
   "outputs": [
    {
     "name": "stderr",
     "output_type": "stream",
     "text": [
      "[Parallel(n_jobs=2)]: Using backend ThreadingBackend with 2 concurrent workers.\n",
      "[Parallel(n_jobs=2)]: Done  37 tasks      | elapsed:    0.0s\n",
      "[Parallel(n_jobs=2)]: Done 100 out of 100 | elapsed:    0.0s finished\n"
     ]
    }
   ],
   "source": [
    "preds_15_gt_100_10 = rf_new.predict(X_15)"
   ]
  },
  {
   "cell_type": "code",
   "execution_count": 44,
   "metadata": {},
   "outputs": [
    {
     "data": {
      "text/plain": [
       "3.29705"
      ]
     },
     "execution_count": 44,
     "metadata": {},
     "output_type": "execute_result"
    }
   ],
   "source": [
    "mean_squared_error(preds_15_gt_100_10, y_15)"
   ]
  },
  {
   "cell_type": "code",
   "execution_count": 48,
   "metadata": {},
   "outputs": [
    {
     "data": {
      "text/plain": [
       "0.3370500000000001"
      ]
     },
     "execution_count": 48,
     "metadata": {},
     "output_type": "execute_result"
    }
   ],
   "source": [
    "mean_squared_error(preds_15_gt_100_10-2, y_15)"
   ]
  },
  {
   "cell_type": "code",
   "execution_count": 18,
   "metadata": {},
   "outputs": [],
   "source": [
    "Xy_15mm_unet = np.load(\"/storage/yw18581/data/trained_models/preds_15mm.npz\")"
   ]
  },
  {
   "cell_type": "code",
   "execution_count": 19,
   "metadata": {},
   "outputs": [],
   "source": [
    "preds_15mm_unet = Xy_15mm_unet[\"preds_15mm\"]"
   ]
  },
  {
   "cell_type": "code",
   "execution_count": 20,
   "metadata": {},
   "outputs": [],
   "source": [
    "X_RF_15_unet = cut_reshape(preds_15mm_unet)\n",
    "X_RF_15_unet_uint = X_RF_15_unet.astype(np.uint8)*255"
   ]
  },
  {
   "cell_type": "code",
   "execution_count": 21,
   "metadata": {},
   "outputs": [],
   "source": [
    "y_15mm = np.ones(600)*15"
   ]
  },
  {
   "cell_type": "code",
   "execution_count": 49,
   "metadata": {},
   "outputs": [
    {
     "name": "stderr",
     "output_type": "stream",
     "text": [
      "[Parallel(n_jobs=2)]: Using backend ThreadingBackend with 2 concurrent workers.\n",
      "[Parallel(n_jobs=2)]: Done  37 tasks      | elapsed:    0.0s\n",
      "[Parallel(n_jobs=2)]: Done 100 out of 100 | elapsed:    0.0s finished\n"
     ]
    },
    {
     "data": {
      "text/plain": [
       "array([18.25, 18.25, 18.25, 18.25, 18.25, 18.55, 18.55, 18.7 , 18.25,\n",
       "       19.3 , 18.7 , 18.4 , 18.25, 18.7 , 18.7 , 18.7 , 18.4 , 18.85,\n",
       "       18.7 , 18.7 , 18.7 , 18.55, 18.7 , 18.4 , 18.7 , 18.4 , 18.7 ,\n",
       "       18.4 , 18.55, 18.7 , 18.7 , 18.55, 18.55, 18.7 , 18.7 , 18.4 ,\n",
       "       18.55, 18.55, 18.25, 18.7 , 18.85, 18.7 , 18.7 , 18.25, 18.7 ,\n",
       "       18.7 , 18.85, 18.7 , 18.7 , 18.7 , 18.55, 18.7 , 18.25, 19.  ,\n",
       "       18.25, 18.55, 17.95, 18.55, 18.1 , 18.55, 18.25, 18.55, 18.55,\n",
       "       18.7 , 18.55, 18.7 , 18.55, 18.7 , 18.7 , 19.  , 18.7 , 18.4 ,\n",
       "       18.25, 18.7 , 18.55, 18.7 , 18.7 , 18.55, 18.4 , 18.55, 19.  ,\n",
       "       18.55, 18.4 , 19.  , 18.7 , 18.7 , 18.55, 18.55, 19.15, 18.85,\n",
       "       18.7 , 18.7 , 18.1 , 19.  , 18.7 , 18.7 , 18.7 , 18.25, 18.7 ,\n",
       "       18.55, 18.55, 18.7 , 18.25, 18.7 , 18.55, 18.7 , 18.7 , 18.1 ,\n",
       "       18.55, 18.7 , 18.25, 18.4 , 18.55, 18.85, 18.7 , 18.85, 18.7 ,\n",
       "       18.4 , 18.1 , 18.4 , 19.  , 18.7 , 18.55, 18.7 , 18.7 , 18.7 ,\n",
       "       18.7 , 18.7 , 18.7 , 18.55, 18.7 , 18.7 , 18.55, 18.7 , 18.55,\n",
       "       18.4 , 18.55, 19.  , 18.25, 18.7 , 18.25, 18.7 , 18.7 , 19.  ,\n",
       "       19.15, 19.  , 18.1 , 18.7 , 18.7 , 18.7 , 18.55, 18.85, 18.7 ,\n",
       "       18.7 , 19.  , 18.4 , 17.8 , 18.55, 18.25, 18.55, 18.4 , 18.7 ,\n",
       "       18.25, 18.55, 19.  , 18.85, 18.7 , 17.95, 18.7 , 18.55, 18.25,\n",
       "       19.  , 18.55, 18.55, 19.15, 19.  , 18.55, 18.55, 18.7 , 18.7 ,\n",
       "       18.55, 18.7 , 18.55, 18.7 , 19.15, 19.15, 18.55, 18.85, 18.7 ,\n",
       "       18.7 , 18.85, 18.55, 18.25, 18.7 , 19.15, 18.25, 17.95, 17.95,\n",
       "       18.7 , 18.55, 19.  , 18.1 , 18.25, 18.7 , 18.25, 18.7 , 18.7 ,\n",
       "       18.55, 18.55, 18.55, 18.85, 18.4 , 18.55, 18.7 , 18.55, 18.7 ,\n",
       "       18.7 , 18.7 , 18.7 , 18.7 , 18.85, 18.7 , 18.7 , 19.  , 18.55,\n",
       "       18.4 , 18.4 , 18.55, 18.7 , 18.7 , 18.55, 18.55, 19.  , 18.4 ,\n",
       "       18.25, 18.55, 18.4 , 18.4 , 18.55, 18.7 , 18.7 , 18.25, 18.7 ,\n",
       "       18.7 , 18.7 , 18.7 , 18.7 , 18.25, 18.7 , 18.4 , 18.7 , 18.7 ,\n",
       "       17.8 , 18.7 , 18.55, 18.25, 17.8 , 18.7 , 18.55, 18.7 , 18.7 ,\n",
       "       18.25, 18.7 , 18.7 , 18.4 , 18.25, 18.1 , 18.7 , 18.7 , 18.55,\n",
       "       19.15, 18.7 , 18.55, 18.7 , 18.4 , 18.4 , 18.25, 19.  , 18.55,\n",
       "       18.55, 18.55, 18.55, 18.55, 18.7 , 18.55, 18.7 , 18.7 , 18.85,\n",
       "       18.7 , 18.7 , 18.55, 17.95, 18.7 , 18.7 , 18.55, 18.25, 18.7 ,\n",
       "       18.55, 18.85, 18.55, 18.55, 18.7 , 18.7 , 18.7 , 18.1 , 18.25,\n",
       "       19.  , 18.7 , 18.7 , 18.25, 18.7 , 18.55, 18.7 , 18.7 , 18.4 ,\n",
       "       18.25, 18.85, 18.7 , 18.55, 18.4 , 19.  , 18.55, 18.25, 18.7 ,\n",
       "       18.4 , 18.7 , 18.7 , 18.55, 18.25, 18.25, 19.  , 18.7 , 18.7 ,\n",
       "       18.55, 17.8 , 19.  , 18.7 , 18.7 , 18.7 , 18.7 , 18.55, 18.55,\n",
       "       18.4 , 18.7 , 18.4 , 19.  , 18.7 , 18.25, 18.85, 18.7 , 18.7 ,\n",
       "       18.25, 19.  , 18.1 , 18.1 , 18.55, 18.55, 18.4 , 18.55, 18.55,\n",
       "       18.7 , 18.55, 18.7 , 18.4 , 17.95, 18.7 , 18.55, 18.85, 18.25,\n",
       "       18.4 , 19.  , 18.25, 18.55, 18.7 , 18.55, 18.7 , 18.55, 18.7 ,\n",
       "       18.55, 19.15, 18.55, 18.7 , 18.4 , 18.7 , 18.7 , 18.7 , 18.7 ,\n",
       "       18.85, 18.25, 19.  , 18.4 , 18.25, 18.4 , 18.7 , 18.4 , 18.7 ,\n",
       "       18.55, 18.55, 18.1 , 18.7 , 18.55, 18.7 , 18.55, 18.25, 18.25,\n",
       "       19.15, 18.7 , 18.55, 18.4 , 18.55, 18.7 , 18.7 , 18.7 , 18.55,\n",
       "       18.7 , 18.7 , 19.  , 18.25, 18.85, 17.8 , 19.  , 18.7 , 18.7 ,\n",
       "       18.25, 18.55, 18.7 , 18.7 , 18.1 , 18.7 , 18.4 , 18.7 , 18.55,\n",
       "       18.7 , 18.55, 18.55, 18.7 , 18.85, 18.55, 18.55, 17.95, 19.  ,\n",
       "       18.7 , 18.55, 18.7 , 18.55, 18.55, 18.55, 18.85, 18.7 , 18.7 ,\n",
       "       18.7 , 18.7 , 18.7 , 19.  , 18.25, 18.7 , 18.7 , 18.85, 18.85,\n",
       "       18.1 , 18.7 , 18.7 , 18.55, 18.55, 18.25, 19.  , 18.7 , 18.4 ,\n",
       "       18.7 , 17.95, 18.7 , 18.55, 18.55, 18.55, 18.55, 18.85, 18.55,\n",
       "       18.7 , 18.25, 18.7 , 19.15, 18.7 , 18.55, 18.7 , 18.1 , 19.  ,\n",
       "       18.7 , 18.55, 18.55, 18.4 , 18.7 , 19.  , 18.55, 18.85, 18.1 ,\n",
       "       18.7 , 19.  , 18.7 , 18.55, 18.7 , 18.7 , 18.7 , 19.  , 18.7 ,\n",
       "       18.55, 19.  , 18.7 , 18.7 , 18.1 , 18.7 , 18.55, 18.7 , 18.1 ,\n",
       "       18.7 , 18.7 , 19.  , 18.55, 18.7 , 17.8 , 19.15, 18.7 , 18.55,\n",
       "       18.7 , 17.95, 18.55, 18.7 , 18.7 , 18.85, 18.7 , 19.15, 18.55,\n",
       "       18.55, 18.7 , 18.1 , 18.55, 18.7 , 18.55, 18.85, 18.55, 19.  ,\n",
       "       18.55, 18.7 , 18.55, 18.7 , 19.  , 18.7 , 18.55, 18.55, 18.7 ,\n",
       "       19.  , 18.7 , 18.7 , 18.7 , 18.7 , 19.  , 18.25, 18.55, 19.  ,\n",
       "       18.4 , 18.7 , 18.25, 18.55, 18.55, 18.1 , 18.7 , 18.55, 18.25,\n",
       "       18.4 , 18.85, 18.25, 18.55, 18.7 , 18.85, 18.25, 18.7 , 18.55,\n",
       "       18.55, 18.7 , 18.55, 18.7 , 18.7 , 18.7 , 18.7 , 17.65, 19.  ,\n",
       "       18.55, 18.7 , 18.1 , 18.7 , 18.55, 19.  , 18.85, 18.85, 19.  ,\n",
       "       18.7 , 18.25, 18.7 , 18.1 , 19.  , 18.55])"
      ]
     },
     "execution_count": 49,
     "metadata": {},
     "output_type": "execute_result"
    }
   ],
   "source": [
    "rf_new.predict(X_RF_15_unet_uint)"
   ]
  },
  {
   "cell_type": "code",
   "execution_count": null,
   "metadata": {},
   "outputs": [],
   "source": []
  },
  {
   "cell_type": "code",
   "execution_count": 50,
   "metadata": {},
   "outputs": [
    {
     "name": "stderr",
     "output_type": "stream",
     "text": [
      "[Parallel(n_jobs=2)]: Using backend ThreadingBackend with 2 concurrent workers.\n"
     ]
    },
    {
     "name": "stdout",
     "output_type": "stream",
     "text": [
      "building tree 1 of 200\n",
      "building tree 2 of 200\n",
      "building tree 3 of 200\n",
      "building tree 4 of 200\n",
      "building tree 5 of 200\n",
      "building tree 6 of 200\n",
      "building tree 7 of 200\n",
      "building tree 8 of 200\n",
      "building tree 9 of 200\n",
      "building tree 10 of 200\n",
      "building tree 11 of 200\n",
      "building tree 12 of 200\n",
      "building tree 13 of 200\n",
      "building tree 14 of 200\n",
      "building tree 15 of 200\n",
      "building tree 16 of 200\n",
      "building tree 17 of 200\n",
      "building tree 18 of 200\n",
      "building tree 19 of 200\n",
      "building tree 20 of 200\n",
      "building tree 21 of 200\n",
      "building tree 22 of 200\n",
      "building tree 23 of 200\n",
      "building tree 24 of 200\n",
      "building tree 25 of 200\n",
      "building tree 26 of 200\n",
      "building tree 27 of 200\n",
      "building tree 28 of 200\n",
      "building tree 29 of 200\n",
      "building tree 30 of 200\n",
      "building tree 31 of 200\n",
      "building tree 32 of 200\n",
      "building tree 33 of 200\n",
      "building tree 34 of 200\n",
      "building tree 35 of 200\n",
      "building tree 36 of 200\n",
      "building tree 37 of 200\n",
      "building tree 38 of 200\n"
     ]
    },
    {
     "name": "stderr",
     "output_type": "stream",
     "text": [
      "[Parallel(n_jobs=2)]: Done  37 tasks      | elapsed:  1.4min\n"
     ]
    },
    {
     "name": "stdout",
     "output_type": "stream",
     "text": [
      "building tree 39 of 200\n",
      "building tree 40 of 200\n",
      "building tree 41 of 200\n",
      "building tree 42 of 200\n",
      "building tree 43 of 200\n",
      "building tree 44 of 200\n",
      "building tree 45 of 200\n",
      "building tree 46 of 200\n",
      "building tree 47 of 200\n",
      "building tree 48 of 200\n",
      "building tree 49 of 200\n",
      "building tree 50 of 200\n",
      "building tree 51 of 200\n",
      "building tree 52 of 200\n",
      "building tree 53 of 200\n",
      "building tree 54 of 200\n",
      "building tree 55 of 200\n",
      "building tree 56 of 200\n",
      "building tree 57 of 200\n",
      "building tree 58 of 200\n",
      "building tree 59 of 200\n",
      "building tree 60 of 200\n",
      "building tree 61 of 200\n",
      "building tree 62 of 200\n",
      "building tree 63 of 200\n",
      "building tree 64 of 200\n",
      "building tree 65 of 200\n",
      "building tree 66 of 200\n",
      "building tree 67 of 200\n",
      "building tree 68 of 200\n",
      "building tree 69 of 200\n",
      "building tree 70 of 200\n",
      "building tree 71 of 200\n",
      "building tree 72 of 200\n",
      "building tree 73 of 200\n",
      "building tree 74 of 200\n",
      "building tree 75 of 200\n",
      "building tree 76 of 200\n",
      "building tree 77 of 200\n",
      "building tree 78 of 200\n",
      "building tree 79 of 200\n",
      "building tree 80 of 200\n",
      "building tree 81 of 200\n",
      "building tree 82 of 200\n",
      "building tree 83 of 200\n",
      "building tree 84 of 200\n",
      "building tree 85 of 200\n",
      "building tree 86 of 200\n",
      "building tree 87 of 200\n",
      "building tree 88 of 200\n",
      "building tree 89 of 200\n",
      "building tree 90 of 200\n",
      "building tree 91 of 200\n",
      "building tree 92 of 200\n",
      "building tree 93 of 200\n",
      "building tree 94 of 200\n",
      "building tree 95 of 200\n",
      "building tree 96 of 200\n",
      "building tree 97 of 200\n",
      "building tree 98 of 200\n",
      "building tree 99 of 200\n",
      "building tree 100 of 200\n",
      "building tree 101 of 200\n",
      "building tree 102 of 200\n",
      "building tree 103 of 200\n",
      "building tree 104 of 200\n",
      "building tree 105 of 200\n",
      "building tree 106 of 200\n",
      "building tree 107 of 200\n",
      "building tree 108 of 200\n",
      "building tree 109 of 200\n",
      "building tree 110 of 200\n",
      "building tree 111 of 200\n",
      "building tree 112 of 200\n",
      "building tree 113 of 200\n",
      "building tree 114 of 200\n",
      "building tree 115 of 200\n",
      "building tree 116 of 200\n",
      "building tree 117 of 200\n",
      "building tree 118 of 200\n",
      "building tree 119 of 200\n",
      "building tree 120 of 200\n",
      "building tree 121 of 200\n",
      "building tree 122 of 200\n",
      "building tree 123 of 200\n",
      "building tree 124 of 200\n",
      "building tree 125 of 200\n",
      "building tree 126 of 200\n",
      "building tree 127 of 200\n",
      "building tree 128 of 200\n",
      "building tree 129 of 200\n",
      "building tree 130 of 200\n",
      "building tree 131 of 200\n",
      "building tree 132 of 200\n",
      "building tree 133 of 200\n",
      "building tree 134 of 200\n",
      "building tree 135 of 200\n",
      "building tree 136 of 200\n",
      "building tree 137 of 200\n",
      "building tree 138 of 200\n",
      "building tree 139 of 200\n",
      "building tree 140 of 200\n",
      "building tree 141 of 200\n",
      "building tree 142 of 200\n",
      "building tree 143 of 200\n",
      "building tree 144 of 200\n",
      "building tree 145 of 200\n",
      "building tree 146 of 200\n",
      "building tree 147 of 200\n",
      "building tree 148 of 200\n",
      "building tree 149 of 200\n",
      "building tree 150 of 200\n",
      "building tree 151 of 200\n",
      "building tree 152 of 200\n",
      "building tree 153 of 200\n",
      "building tree 154 of 200\n",
      "building tree 155 of 200\n",
      "building tree 156 of 200\n",
      "building tree 157 of 200\n",
      "building tree 158 of 200\n",
      "building tree 159 of 200\n",
      "building tree 160 of 200\n"
     ]
    },
    {
     "name": "stderr",
     "output_type": "stream",
     "text": [
      "[Parallel(n_jobs=2)]: Done 158 tasks      | elapsed:  6.1min\n"
     ]
    },
    {
     "name": "stdout",
     "output_type": "stream",
     "text": [
      "building tree 161 of 200\n",
      "building tree 162 of 200\n",
      "building tree 163 of 200\n",
      "building tree 164 of 200\n",
      "building tree 165 of 200\n",
      "building tree 166 of 200\n",
      "building tree 167 of 200\n",
      "building tree 168 of 200\n",
      "building tree 169 of 200\n",
      "building tree 170 of 200\n",
      "building tree 171 of 200\n",
      "building tree 172 of 200\n",
      "building tree 173 of 200\n",
      "building tree 174 of 200\n",
      "building tree 175 of 200\n",
      "building tree 176 of 200\n",
      "building tree 177 of 200\n",
      "building tree 178 of 200\n",
      "building tree 179 of 200\n",
      "building tree 180 of 200\n",
      "building tree 181 of 200\n",
      "building tree 182 of 200\n",
      "building tree 183 of 200\n",
      "building tree 184 of 200\n",
      "building tree 185 of 200\n",
      "building tree 186 of 200\n",
      "building tree 187 of 200\n",
      "building tree 188 of 200\n",
      "building tree 189 of 200\n",
      "building tree 190 of 200\n",
      "building tree 191 of 200\n",
      "building tree 192 of 200\n",
      "building tree 193 of 200\n",
      "building tree 194 of 200\n",
      "building tree 195 of 200\n",
      "building tree 196 of 200\n",
      "building tree 197 of 200\n",
      "building tree 198 of 200\n",
      "building tree 199 of 200\n",
      "building tree 200 of 200\n"
     ]
    },
    {
     "name": "stderr",
     "output_type": "stream",
     "text": [
      "[Parallel(n_jobs=2)]: Done 200 out of 200 | elapsed:  7.7min finished\n"
     ]
    },
    {
     "data": {
      "text/plain": [
       "RandomForestRegressor(bootstrap=True, criterion='mse', max_depth=20,\n",
       "           max_features='auto', max_leaf_nodes=None,\n",
       "           min_impurity_decrease=0.0, min_impurity_split=None,\n",
       "           min_samples_leaf=1, min_samples_split=2,\n",
       "           min_weight_fraction_leaf=0.0, n_estimators=200, n_jobs=2,\n",
       "           oob_score=False, random_state=42, verbose=2, warm_start=False)"
      ]
     },
     "execution_count": 50,
     "metadata": {},
     "output_type": "execute_result"
    }
   ],
   "source": [
    "rf_new_200_20 = RandomForestRegressor(random_state=42, n_estimators=200, max_depth=20,  n_jobs=2, verbose=2)\n",
    "rf_new_200_20.fit(X_train, y_train)\n"
   ]
  },
  {
   "cell_type": "code",
   "execution_count": 51,
   "metadata": {},
   "outputs": [
    {
     "name": "stderr",
     "output_type": "stream",
     "text": [
      "[Parallel(n_jobs=2)]: Using backend ThreadingBackend with 2 concurrent workers.\n",
      "[Parallel(n_jobs=2)]: Done  37 tasks      | elapsed:    0.0s\n",
      "[Parallel(n_jobs=2)]: Done 158 tasks      | elapsed:    0.1s\n",
      "[Parallel(n_jobs=2)]: Done 200 out of 200 | elapsed:    0.1s finished\n"
     ]
    }
   ],
   "source": [
    "preds_gt_200_20 = rf_new_200_20.predict(X_test)"
   ]
  },
  {
   "cell_type": "code",
   "execution_count": 52,
   "metadata": {},
   "outputs": [
    {
     "data": {
      "text/plain": [
       "0.0003605208333333326"
      ]
     },
     "execution_count": 52,
     "metadata": {},
     "output_type": "execute_result"
    }
   ],
   "source": [
    "mean_squared_error(preds_gt_200_20, y_test)"
   ]
  },
  {
   "cell_type": "code",
   "execution_count": 53,
   "metadata": {},
   "outputs": [
    {
     "name": "stderr",
     "output_type": "stream",
     "text": [
      "[Parallel(n_jobs=2)]: Using backend ThreadingBackend with 2 concurrent workers.\n",
      "[Parallel(n_jobs=2)]: Done  37 tasks      | elapsed:    0.0s\n",
      "[Parallel(n_jobs=2)]: Done 158 tasks      | elapsed:    0.1s\n",
      "[Parallel(n_jobs=2)]: Done 200 out of 200 | elapsed:    0.1s finished\n"
     ]
    },
    {
     "data": {
      "text/plain": [
       "2.327403125"
      ]
     },
     "execution_count": 53,
     "metadata": {},
     "output_type": "execute_result"
    }
   ],
   "source": [
    "preds_15_gt_200_20 = rf_new_200_20.predict(X_15)\n",
    "\n",
    "mean_squared_error(preds_15_gt_200_20, y_15)\n",
    "\n"
   ]
  },
  {
   "cell_type": "code",
   "execution_count": 54,
   "metadata": {},
   "outputs": [],
   "source": [
    "preds_500 = np.load(\"/storage/yw18581/data/trained_models/preds_500.npz\")\n",
    "\n",
    "preds_500 = preds_500[\"preds_500\"]\n",
    "\n",
    "preds_500_reshape = cut_reshape(preds_500).astype(np.uint8)*255\n"
   ]
  },
  {
   "cell_type": "code",
   "execution_count": 55,
   "metadata": {},
   "outputs": [
    {
     "name": "stderr",
     "output_type": "stream",
     "text": [
      "[Parallel(n_jobs=2)]: Using backend ThreadingBackend with 2 concurrent workers.\n",
      "[Parallel(n_jobs=2)]: Done  37 tasks      | elapsed:    0.0s\n",
      "[Parallel(n_jobs=2)]: Done 158 tasks      | elapsed:    0.1s\n",
      "[Parallel(n_jobs=2)]: Done 200 out of 200 | elapsed:    0.1s finished\n"
     ]
    }
   ],
   "source": [
    "\n",
    "\n",
    "rf_preds_unet = rf_new_200_20.predict(preds_500_reshape)"
   ]
  },
  {
   "cell_type": "code",
   "execution_count": 56,
   "metadata": {},
   "outputs": [
    {
     "name": "stderr",
     "output_type": "stream",
     "text": [
      "[Parallel(n_jobs=2)]: Using backend ThreadingBackend with 2 concurrent workers.\n",
      "[Parallel(n_jobs=2)]: Done  37 tasks      | elapsed:    0.0s\n",
      "[Parallel(n_jobs=2)]: Done 158 tasks      | elapsed:    0.1s\n",
      "[Parallel(n_jobs=2)]: Done 200 out of 200 | elapsed:    0.1s finished\n"
     ]
    }
   ],
   "source": [
    "preds_15mm_unet_rf200_20 = rf_new_200_20.predict(X_RF_15_unet_uint)"
   ]
  },
  {
   "cell_type": "code",
   "execution_count": 57,
   "metadata": {},
   "outputs": [
    {
     "data": {
      "text/plain": [
       "array([17.725, 17.725, 17.725, 17.725, 18.025, 18.325, 18.175, 18.325,\n",
       "       17.725, 18.85 , 18.475, 17.875, 17.8  , 18.4  , 18.325, 18.475,\n",
       "       17.875, 18.55 , 18.475, 18.4  , 18.25 , 18.1  , 18.475, 18.025,\n",
       "       18.25 , 17.95 , 18.325, 17.8  , 18.25 , 18.325, 18.475, 18.175,\n",
       "       18.1  , 18.325, 18.475, 18.1  , 17.95 , 18.1  , 17.725, 18.475,\n",
       "       18.55 , 18.4  , 18.175, 17.725, 18.325, 18.25 , 18.4  , 18.475,\n",
       "       18.325, 18.475, 18.4  , 18.475, 17.725, 18.625, 17.8  , 18.25 ,\n",
       "       17.5  , 18.025, 17.725, 18.325, 17.725, 18.1  , 18.25 , 18.475,\n",
       "       18.175, 18.4  , 18.1  , 18.55 , 18.475, 18.55 , 18.475, 17.8  ,\n",
       "       17.725, 18.25 , 18.4  , 18.4  , 18.475, 18.175, 17.875, 18.25 ,\n",
       "       18.475, 17.95 , 18.025, 18.625, 18.4  , 18.475, 18.175, 18.025,\n",
       "       18.7  , 18.55 , 18.175, 18.475, 17.575, 18.625, 18.4  , 18.4  ,\n",
       "       18.4  , 17.8  , 18.475, 18.025, 18.1  , 18.325, 17.725, 18.475,\n",
       "       18.175, 18.475, 18.475, 17.725, 18.1  , 18.4  , 17.725, 17.95 ,\n",
       "       18.325, 18.4  , 18.25 , 18.55 , 18.475, 18.025, 17.725, 17.8  ,\n",
       "       18.625, 18.475, 18.1  , 18.25 , 18.475, 18.4  , 18.4  , 18.4  ,\n",
       "       18.325, 17.95 , 18.325, 18.1  , 18.175, 18.25 , 18.325, 18.1  ,\n",
       "       18.25 , 18.625, 17.725, 18.325, 17.8  , 18.475, 18.4  , 18.625,\n",
       "       18.7  , 18.625, 17.65 , 18.475, 18.475, 18.475, 17.95 , 18.55 ,\n",
       "       18.4  , 18.475, 18.625, 17.875, 17.425, 18.25 , 17.725, 18.1  ,\n",
       "       18.1  , 18.4  , 17.725, 18.25 , 18.475, 18.475, 18.475, 17.5  ,\n",
       "       18.4  , 18.1  , 17.725, 18.625, 18.1  , 17.95 , 18.7  , 18.625,\n",
       "       18.1  , 18.325, 18.325, 18.325, 18.175, 18.25 , 18.175, 18.475,\n",
       "       18.7  , 18.55 , 18.325, 18.55 , 18.175, 18.25 , 18.55 , 18.1  ,\n",
       "       17.8  , 18.325, 18.7  , 17.725, 17.5  , 17.5  , 18.475, 17.95 ,\n",
       "       18.625, 17.65 , 17.725, 18.475, 17.95 , 18.475, 18.25 , 18.175,\n",
       "       17.95 , 18.025, 18.4  , 18.025, 18.025, 18.475, 18.25 , 18.325,\n",
       "       18.175, 18.25 , 18.475, 18.475, 18.475, 18.4  , 18.475, 18.625,\n",
       "       18.025, 17.875, 18.025, 18.175, 18.475, 18.325, 17.95 , 18.4  ,\n",
       "       18.625, 18.175, 17.725, 17.95 , 17.95 , 17.875, 18.4  , 18.325,\n",
       "       18.4  , 17.725, 18.475, 18.475, 18.4  , 18.475, 18.4  , 17.725,\n",
       "       18.475, 18.1  , 18.475, 18.4  , 17.5  , 18.325, 18.025, 17.875,\n",
       "       17.425, 18.325, 18.025, 18.475, 18.4  , 17.8  , 18.475, 18.475,\n",
       "       18.025, 18.1  , 17.65 , 18.475, 18.475, 18.25 , 18.7  , 18.4  ,\n",
       "       18.025, 18.475, 18.1  , 18.025, 17.95 , 18.55 , 18.25 , 18.325,\n",
       "       17.95 , 18.175, 18.4  , 18.475, 18.25 , 18.475, 18.475, 18.475,\n",
       "       18.475, 18.25 , 18.25 , 17.5  , 18.325, 18.4  , 17.95 , 17.875,\n",
       "       18.175, 18.4  , 18.475, 18.325, 17.95 , 18.325, 18.4  , 18.1  ,\n",
       "       17.575, 17.95 , 18.55 , 18.475, 18.175, 17.725, 18.475, 18.1  ,\n",
       "       18.475, 18.175, 17.95 , 17.725, 18.55 , 18.4  , 18.025, 17.8  ,\n",
       "       18.625, 17.95 , 17.8  , 18.25 , 17.875, 18.4  , 18.475, 18.325,\n",
       "       17.725, 17.8  , 18.625, 18.475, 18.325, 18.025, 17.425, 18.625,\n",
       "       18.4  , 18.475, 18.175, 18.325, 18.175, 18.4  , 18.025, 18.475,\n",
       "       17.875, 18.625, 18.475, 17.725, 18.55 , 18.475, 18.475, 17.8  ,\n",
       "       18.625, 17.575, 17.725, 18.025, 18.4  , 17.95 , 17.95 , 17.95 ,\n",
       "       18.475, 18.325, 18.1  , 18.025, 17.575, 18.475, 17.95 , 18.475,\n",
       "       17.875, 17.875, 18.625, 17.725, 18.25 , 18.475, 18.175, 18.475,\n",
       "       18.325, 18.4  , 18.25 , 18.55 , 18.1  , 18.475, 17.8  , 18.4  ,\n",
       "       18.475, 18.475, 18.475, 18.55 , 17.8  , 18.55 , 18.025, 17.8  ,\n",
       "       18.025, 18.25 , 18.025, 18.4  , 18.325, 17.95 , 17.65 , 18.4  ,\n",
       "       18.4  , 18.475, 18.025, 17.875, 17.875, 18.7  , 18.475, 18.1  ,\n",
       "       18.1  , 18.4  , 18.475, 18.475, 18.175, 18.025, 18.475, 18.325,\n",
       "       18.625, 17.725, 18.55 , 17.35 , 18.55 , 18.325, 18.475, 17.95 ,\n",
       "       18.25 , 18.325, 18.325, 17.65 , 18.475, 17.875, 18.325, 18.1  ,\n",
       "       18.325, 18.1  , 18.175, 18.325, 18.55 , 18.1  , 18.4  , 17.575,\n",
       "       18.625, 18.475, 18.25 , 18.25 , 18.175, 18.025, 18.4  , 18.4  ,\n",
       "       18.4  , 18.475, 18.475, 18.4  , 18.4  , 18.475, 17.725, 18.4  ,\n",
       "       18.475, 18.55 , 18.475, 17.725, 18.325, 18.475, 18.25 , 18.325,\n",
       "       17.725, 18.625, 18.25 , 18.025, 18.4  , 17.5  , 18.475, 18.25 ,\n",
       "       18.025, 18.25 , 18.25 , 18.55 , 18.4  , 18.175, 17.95 , 18.475,\n",
       "       18.625, 18.4  , 18.325, 18.475, 17.65 , 18.625, 18.475, 18.1  ,\n",
       "       18.25 , 17.875, 18.25 , 18.625, 18.4  , 18.475, 17.8  , 18.4  ,\n",
       "       18.625, 18.325, 18.175, 18.475, 18.475, 18.325, 18.625, 18.4  ,\n",
       "       17.95 , 18.625, 18.475, 18.4  , 17.575, 18.475, 18.1  , 18.475,\n",
       "       17.575, 18.325, 18.325, 18.625, 17.95 , 18.1  , 17.425, 18.7  ,\n",
       "       18.475, 18.175, 18.325, 17.5  , 18.1  , 18.475, 18.475, 18.55 ,\n",
       "       18.325, 18.7  , 18.4  , 18.1  , 18.475, 17.65 , 18.175, 18.25 ,\n",
       "       18.175, 18.55 , 18.25 , 18.625, 18.4  , 18.475, 18.25 , 18.4  ,\n",
       "       18.625, 18.475, 18.1  , 18.4  , 18.4  , 18.625, 18.325, 18.4  ,\n",
       "       18.475, 18.325, 18.625, 17.95 , 18.325, 18.475, 17.95 , 18.325,\n",
       "       17.8  , 18.175, 17.95 , 17.725, 18.475, 18.25 , 17.95 , 17.875,\n",
       "       18.7  , 17.8  , 18.175, 18.475, 18.475, 17.875, 18.475, 18.25 ,\n",
       "       17.95 , 18.4  , 18.25 , 18.475, 18.475, 18.475, 18.475, 17.35 ,\n",
       "       18.625, 18.4  , 18.4  , 17.65 , 18.475, 18.4  , 18.625, 18.55 ,\n",
       "       18.4  , 18.475, 18.475, 17.725, 18.175, 17.65 , 18.625, 18.175])"
      ]
     },
     "execution_count": 57,
     "metadata": {},
     "output_type": "execute_result"
    }
   ],
   "source": [
    "preds_15mm_unet_rf200_20"
   ]
  },
  {
   "cell_type": "code",
   "execution_count": null,
   "metadata": {},
   "outputs": [],
   "source": []
  }
 ],
 "metadata": {
  "kernelspec": {
   "display_name": "Python 3",
   "language": "python",
   "name": "python3"
  },
  "language_info": {
   "codemirror_mode": {
    "name": "ipython",
    "version": 3
   },
   "file_extension": ".py",
   "mimetype": "text/x-python",
   "name": "python",
   "nbconvert_exporter": "python",
   "pygments_lexer": "ipython3",
   "version": "3.6.7"
  }
 },
 "nbformat": 4,
 "nbformat_minor": 2
}
