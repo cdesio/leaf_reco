{
 "cells": [
  {
   "cell_type": "code",
   "execution_count": 1,
   "metadata": {},
   "outputs": [],
   "source": [
    "import numpy as np\n",
    "from sklearn.externals import joblib\n",
    "from sklearn.ensemble import RandomForestRegressor\n",
    "import os\n",
    "from sklearn.metrics import mean_squared_error, mean_absolute_error\n",
    "import matplotlib.pyplot as plt\n",
    "from sklearn.model_selection import train_test_split\n",
    "import pickle"
   ]
  },
  {
   "cell_type": "code",
   "execution_count": 2,
   "metadata": {},
   "outputs": [],
   "source": [
    "data_dir = '/storage/yw18581/data/'\n",
    "data_folder = os.path.join(data_dir, 'train_validation_test')"
   ]
  },
  {
   "cell_type": "code",
   "execution_count": 3,
   "metadata": {},
   "outputs": [],
   "source": [
    "unet_dir = os.path.join(data_dir, \"trained_models\",\n",
    "                        \"UNet_training_generator_1500epochs\")"
   ]
  },
  {
   "cell_type": "code",
   "execution_count": 4,
   "metadata": {},
   "outputs": [],
   "source": [
    "def cut_X(arr, reshape = None):\n",
    "    x_cut = arr[:,960:1300,600:]\n",
    "    if reshape:\n",
    "        if len(x_cut.shape)>3:\n",
    "            x_cut = x_cut[...,0]\n",
    "            x_cut_out = x_cut.reshape(x_cut.shape[0],x_cut.shape[1]*x_cut.shape[2])\n",
    "    else:\n",
    "        x_cut_out = x_cut\n",
    "    return x_cut_out\n",
    "\n",
    "def reshape_RF(arr):\n",
    "    arr_RF = arr.reshape((arr.shape[0], arr.shape[1]*arr.shape[2]))\n",
    "    return arr_RF"
   ]
  },
  {
   "cell_type": "code",
   "execution_count": 5,
   "metadata": {},
   "outputs": [],
   "source": [
    "def cut_reshape(arr):\n",
    "    arr_cut = cut_X(arr)\n",
    "    arr_RF = reshape_RF(arr_cut)\n",
    "    return arr_RF"
   ]
  },
  {
   "cell_type": "code",
   "execution_count": 6,
   "metadata": {},
   "outputs": [],
   "source": [
    "def import_splitted_gt(pos):\n",
    "    Xy = np.load(os.path.join(data_folder,\"Xy_\"+pos+\"_clean.npz\"))\n",
    "    X = Xy[\"y\"]\n",
    "    y = Xy[\"dist\"]\n",
    "    X_RF = cut_reshape(X)\n",
    "    indices = np.load(os.path.join(data_folder,\"RF_train_test_indices_80_20_\"+pos+\"_clean.npz\"))\n",
    "    training_indices = indices[\"train\"]\n",
    "    test_indices = indices[\"test\"]\n",
    "    X_RF_train = X_RF[training_indices]\n",
    "    y_train = y[training_indices]\n",
    "    X_RF_test = X_RF[test_indices]\n",
    "    y_test = y[test_indices]\n",
    "    return X_RF_train, y_train, X_RF_test, y_test"
   ]
  },
  {
   "cell_type": "code",
   "execution_count": 7,
   "metadata": {},
   "outputs": [],
   "source": [
    "X_1mm_cl_RF_train, y_1mm_cl_train, X_1mm_cl_RF_test, y_1mm_cl_test  = import_splitted_gt(\"1mm\")\n",
    "X_2mm_cl_RF_train, y_2mm_cl_train, X_2mm_cl_RF_test, y_2mm_cl_test = import_splitted_gt(\"2mm\")\n",
    "X_3mm_cl_RF_train, y_3mm_cl_train, X_3mm_cl_RF_test, y_3mm_cl_test = import_splitted_gt(\"3mm\")\n",
    "X_4mm_cl_RF_train, y_4mm_cl_train, X_4mm_cl_RF_test, y_4mm_cl_test= import_splitted_gt(\"4mm\")\n",
    "X_10mm_cl_RF_train, y_10mm_cl_train, X_10mm_cl_RF_test, y_10mm_cl_test = import_splitted_gt(\"10mm\")\n",
    "X_15mm_cl_RF_train, y_15mm_cl_train, X_15mm_cl_RF_test, y_15mm_cl_test = import_splitted_gt(\"15mm\")\n",
    "X_20mm_cl_RF_train, y_20mm_cl_train, X_20mm_cl_RF_test, y_20mm_cl_test = import_splitted_gt(\"20mm\")\n",
    "X_25mm_cl_RF_train, y_25mm_cl_train, X_25mm_cl_RF_test, y_25mm_cl_test = import_splitted_gt(\"25mm\")\n",
    "X_30mm_cl_RF_train, y_30mm_cl_train, X_30mm_cl_RF_test, y_30mm_cl_test = import_splitted_gt(\"30mm\")\n",
    "X_35mm_cl_RF_train, y_35mm_cl_train, X_35mm_cl_RF_test, y_35mm_cl_test = import_splitted_gt(\"35mm\")"
   ]
  },
  {
   "cell_type": "code",
   "execution_count": 8,
   "metadata": {},
   "outputs": [],
   "source": [
    "X_train = np.vstack((X_1mm_cl_RF_train, X_2mm_cl_RF_train, X_3mm_cl_RF_train, X_4mm_cl_RF_train, X_10mm_cl_RF_train,\n",
    "              X_15mm_cl_RF_train, X_20mm_cl_RF_train, X_25mm_cl_RF_train, X_30mm_cl_RF_train, X_35mm_cl_RF_train))\n",
    "y_train =  np.hstack((y_1mm_cl_train, y_2mm_cl_train, y_3mm_cl_train, y_4mm_cl_train, y_10mm_cl_train, \n",
    "                     y_15mm_cl_train, y_20mm_cl_train, y_25mm_cl_train, y_30mm_cl_train, y_35mm_cl_train))\n",
    "\n"
   ]
  },
  {
   "cell_type": "code",
   "execution_count": 28,
   "metadata": {},
   "outputs": [],
   "source": [
    "X_test = np.vstack((X_1mm_cl_RF_test, X_2mm_cl_RF_test, X_3mm_cl_RF_test, X_4mm_cl_RF_test, X_10mm_cl_RF_test,\n",
    "              X_15mm_cl_RF_test, X_20mm_cl_RF_test, X_25mm_cl_RF_test, X_35mm_cl_RF_test))\n",
    "\n",
    "y_test =  np.hstack((y_1mm_cl_test, y_2mm_cl_test, y_3mm_cl_test, y_4mm_cl_test, y_10mm_cl_test, \n",
    "                     y_15mm_cl_test, y_20mm_cl_test, y_25mm_cl_test, y_35mm_cl_test))"
   ]
  },
  {
   "cell_type": "code",
   "execution_count": 56,
   "metadata": {},
   "outputs": [],
   "source": [
    "model = RandomForestRegressor(random_state=42, n_estimators=200, n_jobs=2, verbose=2)"
   ]
  },
  {
   "cell_type": "code",
   "execution_count": 57,
   "metadata": {},
   "outputs": [
    {
     "name": "stderr",
     "output_type": "stream",
     "text": [
      "[Parallel(n_jobs=2)]: Using backend ThreadingBackend with 2 concurrent workers.\n"
     ]
    },
    {
     "name": "stdout",
     "output_type": "stream",
     "text": [
      "building tree 1 of 200\n",
      "building tree 2 of 200\n",
      "building tree 3 of 200\n",
      "building tree 4 of 200\n",
      "building tree 5 of 200\n",
      "building tree 6 of 200\n",
      "building tree 7 of 200\n",
      "building tree 8 of 200\n",
      "building tree 9 of 200\n",
      "building tree 10 of 200\n",
      "building tree 11 of 200\n",
      "building tree 12 of 200\n",
      "building tree 13 of 200\n",
      "building tree 14 of 200\n",
      "building tree 15 of 200\n",
      "building tree 16 of 200\n",
      "building tree 17 of 200\n",
      "building tree 18 of 200\n",
      "building tree 19 of 200\n",
      "building tree 20 of 200\n",
      "building tree 21 of 200\n",
      "building tree 22 of 200\n",
      "building tree 23 of 200\n",
      "building tree 24 of 200\n",
      "building tree 25 of 200\n",
      "building tree 26 of 200\n",
      "building tree 27 of 200\n",
      "building tree 28 of 200\n",
      "building tree 29 of 200\n",
      "building tree 30 of 200\n",
      "building tree 31 of 200\n",
      "building tree 32 of 200\n",
      "building tree 33 of 200\n",
      "building tree 34 of 200\n",
      "building tree 35 of 200\n",
      "building tree 36 of 200\n",
      "building tree 37 of 200\n",
      "building tree 38 of 200\n"
     ]
    },
    {
     "name": "stderr",
     "output_type": "stream",
     "text": [
      "[Parallel(n_jobs=2)]: Done  37 tasks      | elapsed:  3.7min\n"
     ]
    },
    {
     "name": "stdout",
     "output_type": "stream",
     "text": [
      "building tree 39 of 200\n",
      "building tree 40 of 200\n",
      "building tree 41 of 200\n",
      "building tree 42 of 200\n",
      "building tree 43 of 200\n",
      "building tree 44 of 200\n",
      "building tree 45 of 200\n",
      "building tree 46 of 200\n",
      "building tree 47 of 200\n",
      "building tree 48 of 200\n",
      "building tree 49 of 200\n",
      "building tree 50 of 200\n",
      "building tree 51 of 200\n",
      "building tree 52 of 200\n",
      "building tree 53 of 200\n",
      "building tree 54 of 200\n",
      "building tree 55 of 200\n",
      "building tree 56 of 200\n",
      "building tree 57 of 200\n",
      "building tree 58 of 200\n",
      "building tree 59 of 200\n",
      "building tree 60 of 200\n",
      "building tree 61 of 200\n",
      "building tree 62 of 200\n",
      "building tree 63 of 200\n",
      "building tree 64 of 200\n",
      "building tree 65 of 200\n",
      "building tree 66 of 200\n",
      "building tree 67 of 200\n",
      "building tree 68 of 200\n",
      "building tree 69 of 200\n",
      "building tree 70 of 200\n",
      "building tree 71 of 200\n",
      "building tree 72 of 200\n",
      "building tree 73 of 200\n",
      "building tree 74 of 200\n",
      "building tree 75 of 200\n",
      "building tree 76 of 200\n",
      "building tree 77 of 200\n",
      "building tree 78 of 200\n",
      "building tree 79 of 200\n",
      "building tree 80 of 200\n",
      "building tree 81 of 200\n",
      "building tree 82 of 200\n",
      "building tree 83 of 200\n",
      "building tree 84 of 200\n",
      "building tree 85 of 200\n",
      "building tree 86 of 200\n",
      "building tree 87 of 200\n",
      "building tree 88 of 200\n",
      "building tree 89 of 200\n",
      "building tree 90 of 200\n",
      "building tree 91 of 200\n",
      "building tree 92 of 200\n",
      "building tree 93 of 200\n",
      "building tree 94 of 200\n",
      "building tree 95 of 200\n",
      "building tree 96 of 200\n",
      "building tree 97 of 200\n",
      "building tree 98 of 200\n",
      "building tree 99 of 200\n",
      "building tree 100 of 200\n",
      "building tree 101 of 200\n",
      "building tree 102 of 200\n",
      "building tree 103 of 200\n",
      "building tree 104 of 200\n",
      "building tree 105 of 200\n",
      "building tree 106 of 200\n",
      "building tree 107 of 200\n",
      "building tree 108 of 200\n",
      "building tree 109 of 200\n",
      "building tree 110 of 200\n",
      "building tree 111 of 200\n",
      "building tree 112 of 200\n",
      "building tree 113 of 200\n",
      "building tree 114 of 200\n",
      "building tree 115 of 200\n",
      "building tree 116 of 200\n",
      "building tree 117 of 200\n",
      "building tree 118 of 200\n",
      "building tree 119 of 200\n",
      "building tree 120 of 200\n",
      "building tree 121 of 200\n",
      "building tree 122 of 200\n",
      "building tree 123 of 200\n",
      "building tree 124 of 200\n",
      "building tree 125 of 200\n",
      "building tree 126 of 200\n",
      "building tree 127 of 200\n",
      "building tree 128 of 200\n",
      "building tree 129 of 200\n",
      "building tree 130 of 200\n",
      "building tree 131 of 200\n",
      "building tree 132 of 200\n",
      "building tree 133 of 200\n",
      "building tree 134 of 200\n",
      "building tree 135 of 200\n",
      "building tree 136 of 200\n",
      "building tree 137 of 200\n",
      "building tree 138 of 200\n",
      "building tree 139 of 200\n",
      "building tree 140 of 200\n",
      "building tree 141 of 200\n",
      "building tree 142 of 200\n",
      "building tree 143 of 200\n",
      "building tree 144 of 200\n",
      "building tree 145 of 200\n",
      "building tree 146 of 200\n",
      "building tree 147 of 200\n",
      "building tree 148 of 200\n",
      "building tree 149 of 200\n",
      "building tree 150 of 200\n",
      "building tree 151 of 200\n",
      "building tree 152 of 200\n",
      "building tree 153 of 200\n",
      "building tree 154 of 200\n",
      "building tree 155 of 200\n",
      "building tree 156 of 200\n",
      "building tree 157 of 200\n",
      "building tree 158 of 200\n",
      "building tree 159 of 200\n",
      "building tree 160 of 200\n"
     ]
    },
    {
     "name": "stderr",
     "output_type": "stream",
     "text": [
      "[Parallel(n_jobs=2)]: Done 158 tasks      | elapsed: 15.7min\n"
     ]
    },
    {
     "name": "stdout",
     "output_type": "stream",
     "text": [
      "building tree 161 of 200\n",
      "building tree 162 of 200\n",
      "building tree 163 of 200\n",
      "building tree 164 of 200\n",
      "building tree 165 of 200\n",
      "building tree 166 of 200\n",
      "building tree 167 of 200\n",
      "building tree 168 of 200\n",
      "building tree 169 of 200\n",
      "building tree 170 of 200\n",
      "building tree 171 of 200\n",
      "building tree 172 of 200\n",
      "building tree 173 of 200\n",
      "building tree 174 of 200\n",
      "building tree 175 of 200\n",
      "building tree 176 of 200\n",
      "building tree 177 of 200\n",
      "building tree 178 of 200\n",
      "building tree 179 of 200\n",
      "building tree 180 of 200\n",
      "building tree 181 of 200\n",
      "building tree 182 of 200\n",
      "building tree 183 of 200\n",
      "building tree 184 of 200\n",
      "building tree 185 of 200\n",
      "building tree 186 of 200\n",
      "building tree 187 of 200\n",
      "building tree 188 of 200\n",
      "building tree 189 of 200\n",
      "building tree 190 of 200\n",
      "building tree 191 of 200\n",
      "building tree 192 of 200\n",
      "building tree 193 of 200\n",
      "building tree 194 of 200\n",
      "building tree 195 of 200\n",
      "building tree 196 of 200\n",
      "building tree 197 of 200\n",
      "building tree 198 of 200\n",
      "building tree 199 of 200\n",
      "building tree 200 of 200\n"
     ]
    },
    {
     "name": "stderr",
     "output_type": "stream",
     "text": [
      "[Parallel(n_jobs=2)]: Done 200 out of 200 | elapsed: 19.5min finished\n"
     ]
    },
    {
     "data": {
      "text/plain": [
       "RandomForestRegressor(bootstrap=True, criterion='mse', max_depth=None,\n",
       "           max_features='auto', max_leaf_nodes=None,\n",
       "           min_impurity_decrease=0.0, min_impurity_split=None,\n",
       "           min_samples_leaf=1, min_samples_split=2,\n",
       "           min_weight_fraction_leaf=0.0, n_estimators=200, n_jobs=2,\n",
       "           oob_score=False, random_state=42, verbose=2, warm_start=False)"
      ]
     },
     "execution_count": 57,
     "metadata": {},
     "output_type": "execute_result"
    }
   ],
   "source": [
    "model.fit(X_train, y_train)"
   ]
  },
  {
   "cell_type": "code",
   "execution_count": 49,
   "metadata": {},
   "outputs": [],
   "source": [
    "pickle.dump(model, open(os.path.join(data_dir,\"RF30_8_trained_model_clean_data.npz\"), 'wb'))"
   ]
  },
  {
   "cell_type": "code",
   "execution_count": 14,
   "metadata": {},
   "outputs": [],
   "source": [
    "loaded_model = pickle.load(open(os.path.join(data_dir,\"RF30x_trained_model_clean_data.npz\"), 'rb'))"
   ]
  },
  {
   "cell_type": "code",
   "execution_count": 50,
   "metadata": {},
   "outputs": [
    {
     "name": "stderr",
     "output_type": "stream",
     "text": [
      "[Parallel(n_jobs=2)]: Using backend ThreadingBackend with 2 concurrent workers.\n",
      "[Parallel(n_jobs=2)]: Done  30 out of  30 | elapsed:    0.0s finished\n"
     ]
    },
    {
     "data": {
      "text/plain": [
       "0.014969474969474972"
      ]
     },
     "execution_count": 50,
     "metadata": {},
     "output_type": "execute_result"
    }
   ],
   "source": [
    "mean_squared_error(model.predict(X_test), y_test)"
   ]
  },
  {
   "cell_type": "code",
   "execution_count": 51,
   "metadata": {},
   "outputs": [
    {
     "name": "stderr",
     "output_type": "stream",
     "text": [
      "[Parallel(n_jobs=2)]: Using backend ThreadingBackend with 2 concurrent workers.\n",
      "[Parallel(n_jobs=2)]: Done  30 out of  30 | elapsed:    0.0s finished\n",
      "[Parallel(n_jobs=2)]: Using backend ThreadingBackend with 2 concurrent workers.\n",
      "[Parallel(n_jobs=2)]: Done  30 out of  30 | elapsed:    0.0s finished\n"
     ]
    },
    {
     "name": "stdout",
     "output_type": "stream",
     "text": [
      "test 0.014969474969474972\n"
     ]
    },
    {
     "name": "stderr",
     "output_type": "stream",
     "text": [
      "[Parallel(n_jobs=2)]: Using backend ThreadingBackend with 2 concurrent workers.\n",
      "[Parallel(n_jobs=2)]: Done  30 out of  30 | elapsed:    0.0s finished\n",
      "[Parallel(n_jobs=2)]: Using backend ThreadingBackend with 2 concurrent workers.\n",
      "[Parallel(n_jobs=2)]: Done  30 out of  30 | elapsed:    0.0s finished\n",
      "[Parallel(n_jobs=2)]: Using backend ThreadingBackend with 2 concurrent workers.\n",
      "[Parallel(n_jobs=2)]: Done  30 out of  30 | elapsed:    0.0s finished\n",
      "[Parallel(n_jobs=2)]: Using backend ThreadingBackend with 2 concurrent workers.\n",
      "[Parallel(n_jobs=2)]: Done  30 out of  30 | elapsed:    0.0s finished\n",
      "[Parallel(n_jobs=2)]: Using backend ThreadingBackend with 2 concurrent workers.\n",
      "[Parallel(n_jobs=2)]: Done  30 out of  30 | elapsed:    0.0s finished\n",
      "[Parallel(n_jobs=2)]: Using backend ThreadingBackend with 2 concurrent workers.\n",
      "[Parallel(n_jobs=2)]: Done  30 out of  30 | elapsed:    0.0s finished\n",
      "[Parallel(n_jobs=2)]: Using backend ThreadingBackend with 2 concurrent workers.\n",
      "[Parallel(n_jobs=2)]: Done  30 out of  30 | elapsed:    0.0s finished\n",
      "[Parallel(n_jobs=2)]: Using backend ThreadingBackend with 2 concurrent workers.\n",
      "[Parallel(n_jobs=2)]: Done  30 out of  30 | elapsed:    0.0s finished\n"
     ]
    }
   ],
   "source": [
    "errors = []\n",
    "print(\"test\",mean_squared_error(model.predict(X_test), y_test))\n",
    "#print(\"1mm\", mean_squared_error(model.predict(X_1mm_cl_RF_test), y_1mm_cl_test))\n",
    "errors.append([1, mean_squared_error(model.predict(X_1mm_cl_RF_test), y_1mm_cl_test)])\n",
    "#print(\"2mm\",mean_squared_error(model.predict(X_2mm_cl_RF_test), y_2mm_cl_test))\n",
    "errors.append([2, mean_squared_error(model.predict(X_2mm_cl_RF_test), y_2mm_cl_test)])\n",
    "#print(\"3mm\",mean_squared_error(model.predict(X_3mm_cl_RF_test), y_3mm_cl_test))\n",
    "errors.append([3, mean_squared_error(model.predict(X_3mm_cl_RF_test), y_3mm_cl_test)])\n",
    "#print(\"4mm\",mean_squared_error(model.predict(X_4mm_cl_RF_test), y_4mm_cl_test))\n",
    "errors.append([4, mean_squared_error(model.predict(X_4mm_cl_RF_test), y_4mm_cl_test)])\n",
    "#print(\"10mm\",mean_squared_error(model.predict(X_10mm_cl_RF_test), y_10mm_cl_test))\n",
    "errors.append([10, mean_squared_error(model.predict(X_10mm_cl_RF_test), y_10mm_cl_test)])\n",
    "#print(\"15mm\",mean_squared_error(model.predict(X_15mm_cl_RF_test), y_15mm_cl_test))\n",
    "errors.append([15, mean_squared_error(model.predict(X_15mm_cl_RF_test), y_15mm_cl_test)])\n",
    "#print(\"20mm\",mean_squared_error(model.predict(X_20mm_cl_RF_test), y_20mm_cl_test))\n",
    "errors.append([20, mean_squared_error(model.predict(X_20mm_cl_RF_test), y_20mm_cl_test)])\n",
    "#print(\"25mm\",mean_squared_error(model.predict(X_25mm_cl_RF_test), y_25mm_cl_test))\n",
    "errors.append([25, mean_squared_error(model.predict(X_25mm_cl_RF_test), y_25mm_cl_test)])\n",
    "#print(\"30mm\",mean_squared_error(model.predict(X_30mm_cl_RF_test), y_30mm_cl_test))\n",
    "#errors.append([30, mean_squared_error(model.predict(X_30mm_cl_RF_test), y_30mm_cl_test)])\n",
    "#print(\"35mm\",mean_squared_error(model.predict(X_35mm_cl_RF_test), y_35mm_cl_test))\n",
    "errors.append([35, mean_squared_error(model.predict(X_35mm_cl_RF_test), y_35mm_cl_test)])"
   ]
  },
  {
   "cell_type": "code",
   "execution_count": 52,
   "metadata": {},
   "outputs": [],
   "source": [
    "errors = np.asarray(errors)"
   ]
  },
  {
   "cell_type": "code",
   "execution_count": 63,
   "metadata": {},
   "outputs": [
    {
     "data": {
      "image/png": "[encoded data removed]",
      "text/plain": [
       "<Figure size 432x288 with 1 Axes>"
      ]
     },
     "metadata": {
      "needs_background": "light"
     },
     "output_type": "display_data"
    }
   ],
   "source": [
    "plt.scatter(errors[:,0], errors[:,1], s=8,c='k')\n",
    "plt.ylim(0,0.1)\n",
    "plt.title(\"mean squared error (predicted-true)\")\n",
    "plt.xlabel(\"leaf position(mm)\")\n",
    "plt.grid()\n",
    "plt.show()"
   ]
  },
  {
   "cell_type": "code",
   "execution_count": 23,
   "metadata": {},
   "outputs": [],
   "source": [
    "def import_splitted_UNet(pos):\n",
    "    Xy = np.load(os.path.join(unet_dir,\"Xy_\"+pos+\"_clean_predicted_UNet.npz\"))\n",
    "    X = Xy[\"y\"]\n",
    "    y = Xy[\"dist\"]\n",
    "    X_RF = cut_reshape(X)\n",
    "    indices = np.load(os.path.join(data_folder,\"RF_train_test_indices_80_20_\"+pos+\"_clean.npz\"))\n",
    "    training_indices = indices[\"train\"]\n",
    "    test_indices = indices[\"test\"]\n",
    "    X_RF_train = X_RF[training_indices]\n",
    "    y_train = y[training_indices]\n",
    "    X_RF_test = X_RF[test_indices]\n",
    "    y_test = y[test_indices]\n",
    "    return X_RF_train, y_train, X_RF_test, y_test"
   ]
  },
  {
   "cell_type": "code",
   "execution_count": 24,
   "metadata": {},
   "outputs": [],
   "source": [
    "X_1mm_cl_UNet_RF_train, y_1mm_cl_UNet_train, X_1mm_cl_UNet_RF_test, y_1mm_cl_UNet_test  = import_splitted_UNet(\"1mm\")\n",
    "X_2mm_cl_UNet_RF_train, y_2mm_cl_UNet_train, X_2mm_cl_UNet_RF_test, y_2mm_cl_UNet_test  = import_splitted_UNet(\"2mm\")\n",
    "X_3mm_cl_UNet_RF_train, y_3mm_cl_UNet_train, X_3mm_cl_UNet_RF_test, y_3mm_cl_UNet_test  = import_splitted_UNet(\"3mm\")\n",
    "X_4mm_cl_UNet_RF_train, y_4mm_cl_UNet_train, X_4mm_cl_UNet_RF_test, y_4mm_cl_UNet_test  = import_splitted_UNet(\"4mm\")\n",
    "X_10mm_cl_UNet_RF_train, y_10mm_cl_UNet_train, X_10mm_cl_UNet_RF_test, y_10mm_cl_UNet_test  = import_splitted_UNet(\"10mm\")\n",
    "X_15mm_cl_UNet_RF_train, y_15mm_cl_UNet_train, X_15mm_cl_UNet_RF_test, y_15mm_cl_UNet_test  = import_splitted_UNet(\"15mm\")\n",
    "X_20mm_cl_UNet_RF_train, y_20mm_cl_UNet_train, X_20mm_cl_UNet_RF_test, y_20mm_cl_UNet_test  = import_splitted_UNet(\"20mm\")\n",
    "X_25mm_cl_UNet_RF_train, y_25mm_cl_UNet_train, X_25mm_cl_UNet_RF_test, y_25mm_cl_UNet_test  = import_splitted_UNet(\"25mm\")\n",
    "X_30mm_cl_UNet_RF_train, y_30mm_cl_UNet_train, X_30mm_cl_UNet_RF_test, y_30mm_cl_UNet_test  = import_splitted_UNet(\"30mm\")\n",
    "X_35mm_cl_UNet_RF_train, y_35mm_cl_UNet_train, X_35mm_cl_UNet_RF_test, y_35mm_cl_UNet_test  = import_splitted_UNet(\"35mm\")"
   ]
  },
  {
   "cell_type": "code",
   "execution_count": 40,
   "metadata": {},
   "outputs": [],
   "source": [
    "X_UNet_test = np.vstack((X_1mm_cl_UNet_RF_test, X_2mm_cl_UNet_RF_test, X_3mm_cl_UNet_RF_test, X_4mm_cl_UNet_RF_test, \n",
    "                         X_10mm_cl_UNet_RF_test, X_15mm_cl_UNet_RF_test, X_20mm_cl_UNet_RF_test, X_25mm_cl_UNet_RF_test, \n",
    "                         X_35mm_cl_UNet_RF_test))\n",
    "\n",
    "y_UNet_test =  np.hstack((y_1mm_cl_UNet_test, y_2mm_cl_UNet_test, y_3mm_cl_UNet_test, y_4mm_cl_UNet_test, \n",
    "                          y_10mm_cl_UNet_test, y_15mm_cl_UNet_test, y_20mm_cl_UNet_test, y_25mm_cl_UNet_test, \n",
    "                          y_35mm_cl_UNet_test))"
   ]
  },
  {
   "cell_type": "code",
   "execution_count": 54,
   "metadata": {},
   "outputs": [
    {
     "name": "stderr",
     "output_type": "stream",
     "text": [
      "[Parallel(n_jobs=2)]: Using backend ThreadingBackend with 2 concurrent workers.\n",
      "[Parallel(n_jobs=2)]: Done  30 out of  30 | elapsed:    0.0s finished\n",
      "[Parallel(n_jobs=2)]: Using backend ThreadingBackend with 2 concurrent workers.\n",
      "[Parallel(n_jobs=2)]: Done  30 out of  30 | elapsed:    0.0s finished\n"
     ]
    },
    {
     "name": "stdout",
     "output_type": "stream",
     "text": [
      "test 0.2230189255189255\n"
     ]
    },
    {
     "name": "stderr",
     "output_type": "stream",
     "text": [
      "[Parallel(n_jobs=2)]: Using backend ThreadingBackend with 2 concurrent workers.\n",
      "[Parallel(n_jobs=2)]: Done  30 out of  30 | elapsed:    0.0s finished\n",
      "[Parallel(n_jobs=2)]: Using backend ThreadingBackend with 2 concurrent workers.\n",
      "[Parallel(n_jobs=2)]: Done  30 out of  30 | elapsed:    0.0s finished\n",
      "[Parallel(n_jobs=2)]: Using backend ThreadingBackend with 2 concurrent workers.\n",
      "[Parallel(n_jobs=2)]: Done  30 out of  30 | elapsed:    0.0s finished\n",
      "[Parallel(n_jobs=2)]: Using backend ThreadingBackend with 2 concurrent workers.\n",
      "[Parallel(n_jobs=2)]: Done  30 out of  30 | elapsed:    0.0s finished\n",
      "[Parallel(n_jobs=2)]: Using backend ThreadingBackend with 2 concurrent workers.\n",
      "[Parallel(n_jobs=2)]: Done  30 out of  30 | elapsed:    0.0s finished\n",
      "[Parallel(n_jobs=2)]: Using backend ThreadingBackend with 2 concurrent workers.\n",
      "[Parallel(n_jobs=2)]: Done  30 out of  30 | elapsed:    0.0s finished\n",
      "[Parallel(n_jobs=2)]: Using backend ThreadingBackend with 2 concurrent workers.\n",
      "[Parallel(n_jobs=2)]: Done  30 out of  30 | elapsed:    0.0s finished\n",
      "[Parallel(n_jobs=2)]: Using backend ThreadingBackend with 2 concurrent workers.\n",
      "[Parallel(n_jobs=2)]: Done  30 out of  30 | elapsed:    0.0s finished\n"
     ]
    }
   ],
   "source": [
    "errors_unet = []\n",
    "print(\"test\",mean_squared_error(model.predict(X_UNet_test), y_UNet_test))\n",
    "#print(\"1mm\", mean_squared_error(model.predict(X_1mm_cl_UNet_RF_test), y_1mm_cl_UNet_test))\n",
    "errors_unet.append([1, mean_squared_error(model.predict(X_1mm_cl_UNet_RF_test), y_1mm_cl_UNet_test)])\n",
    "\n",
    "#print(\"2mm\",mean_squared_error(model.predict(X_2mm_cl_UNet_RF_test), y_2mm_cl_UNet_test))\n",
    "errors_unet.append([2, mean_squared_error(model.predict(X_2mm_cl_UNet_RF_test), y_2mm_cl_UNet_test)])\n",
    "\n",
    "#print(\"3mm\",mean_squared_error(model.predict(X_3mm_cl_UNet_RF_test), y_3mm_cl_UNet_test))\n",
    "errors_unet.append([3, mean_squared_error(model.predict(X_3mm_cl_UNet_RF_test), y_3mm_cl_UNet_test)])\n",
    "\n",
    "#print(\"4mm\",mean_squared_error(model.predict(X_4mm_cl_UNet_RF_test), y_4mm_cl_UNet_test))\n",
    "errors_unet.append([4, mean_squared_error(model.predict(X_4mm_cl_UNet_RF_test), y_4mm_cl_UNet_test)])\n",
    "\n",
    "#print(\"10mm\",mean_squared_error(model.predict(X_10mm_cl_UNet_RF_test), y_10mm_cl_UNet_test))\n",
    "errors_unet.append([10, mean_squared_error(model.predict(X_10mm_cl_UNet_RF_test), y_10mm_cl_UNet_test)])\n",
    "\n",
    "#print(\"15mm\",mean_squared_error(model.predict(X_15mm_cl_UNet_RF_test), y_15mm_cl_UNet_test))\n",
    "errors_unet.append([15, mean_squared_error(model.predict(X_15mm_cl_UNet_RF_test), y_15mm_cl_UNet_test)])\n",
    "\n",
    "#print(\"20mm\",mean_squared_error(model.predict(X_20mm_cl_UNet_RF_test), y_20mm_cl_UNet_test))\n",
    "errors_unet.append([20, mean_squared_error(model.predict(X_20mm_cl_UNet_RF_test), y_20mm_cl_UNet_test)])\n",
    "\n",
    "#print(\"25mm\",mean_squared_error(model.predict(X_25mm_cl_UNet_RF_test), y_25mm_cl_UNet_test))\n",
    "errors_unet.append([25, mean_squared_error(model.predict(X_25mm_cl_UNet_RF_test), y_25mm_cl_UNet_test)])\n",
    "\n",
    "#print(\"30mm\",mean_squared_error(model.predict(X_30mm_cl_UNet_RF_test), y_30mm_cl_UNet_test))\n",
    "#errors_unet.append([30, mean_squared_error(model.predict(X_30mm_cl_UNet_RF_test), y_30mm_cl_UNet_test)])\n",
    "\n",
    "#print(\"35mm\",mean_squared_error(model.predict(X_35mm_cl_UNet_RF_test), y_35mm_cl_UNet_test))\n",
    "errors_unet.append([35, mean_squared_error(model.predict(X_35mm_cl_UNet_RF_test), y_35mm_cl_UNet_test)])"
   ]
  },
  {
   "cell_type": "code",
   "execution_count": 55,
   "metadata": {},
   "outputs": [
    {
     "data": {
      "image/png": "[encoded data removed]",
      "text/plain": [
       "<Figure size 432x288 with 1 Axes>"
      ]
     },
     "metadata": {
      "needs_background": "light"
     },
     "output_type": "display_data"
    }
   ],
   "source": [
    "\n",
    "errors_unet = np.asarray(errors_unet)\n",
    "\n",
    "plt.plot(errors_unet[:,0], errors_unet[:,1])\n",
    "plt.ylim(0,1)\n",
    "plt.title(\"mean squared error (predicted-true)\")\n",
    "plt.xlabel(\"leaf position(mm)\")\n",
    "plt.grid()\n",
    "plt.show()\n"
   ]
  },
  {
   "cell_type": "code",
   "execution_count": 67,
   "metadata": {},
   "outputs": [
    {
     "ename": "TypeError",
     "evalue": "list indices must be integers or slices, not str",
     "output_type": "error",
     "traceback": [
      "\u001b[0;31m---------------------------------------------------------------------------\u001b[0m",
      "\u001b[0;31mTypeError\u001b[0m                                 Traceback (most recent call last)",
      "\u001b[0;32m<ipython-input-67-ef695ddfc848>\u001b[0m in \u001b[0;36m<module>\u001b[0;34m\u001b[0m\n\u001b[0;32m----> 1\u001b[0;31m \u001b[0mnp\u001b[0m\u001b[0;34m.\u001b[0m\u001b[0mload\u001b[0m\u001b[0;34m(\u001b[0m\u001b[0mos\u001b[0m\u001b[0;34m.\u001b[0m\u001b[0mpath\u001b[0m\u001b[0;34m.\u001b[0m\u001b[0mjoin\u001b[0m\u001b[0;34m(\u001b[0m\u001b[0mdata_dir\u001b[0m\u001b[0;34m,\u001b[0m \u001b[0;34m\"RF30_8_trained_model_clean_data.npz\"\u001b[0m\u001b[0;34m)\u001b[0m\u001b[0;34m)\u001b[0m\u001b[0;34m[\u001b[0m\u001b[0;34m\"rf\"\u001b[0m\u001b[0;34m]\u001b[0m\u001b[0;34m\u001b[0m\u001b[0;34m\u001b[0m\u001b[0m\n\u001b[0m",
      "\u001b[0;32m~/.conda/envs/fluffy-bunnies/lib/python3.6/site-packages/sklearn/ensemble/base.py\u001b[0m in \u001b[0;36m__getitem__\u001b[0;34m(self, index)\u001b[0m\n\u001b[1;32m    142\u001b[0m     \u001b[0;32mdef\u001b[0m \u001b[0m__getitem__\u001b[0m\u001b[0;34m(\u001b[0m\u001b[0mself\u001b[0m\u001b[0;34m,\u001b[0m \u001b[0mindex\u001b[0m\u001b[0;34m)\u001b[0m\u001b[0;34m:\u001b[0m\u001b[0;34m\u001b[0m\u001b[0;34m\u001b[0m\u001b[0m\n\u001b[1;32m    143\u001b[0m         \u001b[0;34m\"\"\"Returns the index'th estimator in the ensemble.\"\"\"\u001b[0m\u001b[0;34m\u001b[0m\u001b[0;34m\u001b[0m\u001b[0m\n\u001b[0;32m--> 144\u001b[0;31m         \u001b[0;32mreturn\u001b[0m \u001b[0mself\u001b[0m\u001b[0;34m.\u001b[0m\u001b[0mestimators_\u001b[0m\u001b[0;34m[\u001b[0m\u001b[0mindex\u001b[0m\u001b[0;34m]\u001b[0m\u001b[0;34m\u001b[0m\u001b[0;34m\u001b[0m\u001b[0m\n\u001b[0m\u001b[1;32m    145\u001b[0m \u001b[0;34m\u001b[0m\u001b[0m\n\u001b[1;32m    146\u001b[0m     \u001b[0;32mdef\u001b[0m \u001b[0m__iter__\u001b[0m\u001b[0;34m(\u001b[0m\u001b[0mself\u001b[0m\u001b[0;34m)\u001b[0m\u001b[0;34m:\u001b[0m\u001b[0;34m\u001b[0m\u001b[0;34m\u001b[0m\u001b[0m\n",
      "\u001b[0;31mTypeError\u001b[0m: list indices must be integers or slices, not str"
     ]
    }
   ],
   "source": [
    "np.load(os.path.join(data_dir, \"RF30_8_trained_model_clean_data.npz\"))[\"rf\"]"
   ]
  },
  {
   "cell_type": "code",
   "execution_count": 65,
   "metadata": {},
   "outputs": [
    {
     "name": "stdout",
     "output_type": "stream",
     "text": [
      "\u001b[0m\u001b[01;34m10x10_10mm_clean\u001b[0m/      \u001b[01;34m10x10_4mm_clean\u001b[0m/\n",
      "\u001b[34;42m10x10_10mm_v2_8bit\u001b[0m/    \u001b[34;42m10x10_4mm_v2\u001b[0m/\n",
      "\u001b[01;34m10x10_15mm_clean\u001b[0m/      \u001b[34;42m10x10_4mm_v2_8bit\u001b[0m/\n",
      "\u001b[34;42m10x10_15mm_v2_8bit\u001b[0m/    \u001b[34;42m10x10_4mm_v2_copy\u001b[0m/\n",
      "\u001b[01;34m10x10_1mm_clean\u001b[0m/       RF100_trained_model_clean_data.npz\n",
      "\u001b[34;42m10x10_1mm_v1\u001b[0m/          RF200_trained_model_clean_data.npz\n",
      "\u001b[01;34m10x10_1mm_v1_8bit\u001b[0m/     RF30_10_trained_model_clean_data.npz\n",
      "\u001b[01;34m10x10_20mm_clean\u001b[0m/      RF30_20_trained_model_clean_data.npz\n",
      "\u001b[34;42m10x10_20mm_v1\u001b[0m/         RF30_8_trained_model_clean_data.npz\n",
      "\u001b[34;42m10x10_25mm_8bit\u001b[0m/       RF30_trained_model.npz\n",
      "\u001b[01;34m10x10_25mm_clean\u001b[0m/      RF30_trained_model_clean_data.npz\n",
      "\u001b[34;42m10x10_25mm_v1\u001b[0m/         RF30x_trained_model_clean_data.npz\n",
      "\u001b[34;42m10x10_2mm_8bit\u001b[0m/        RF50_20_trained_model_clean_data.npz\n",
      "\u001b[01;34m10x10_2mm_8bit_clean\u001b[0m/  \u001b[01;32mUNet_1500epochs_Xy_test_pred.npz\u001b[0m*\n",
      "\u001b[01;34m10x10_30mm_clean\u001b[0m/      \u001b[01;32mXy_test.npz\u001b[0m*\n",
      "\u001b[34;42m10x10_30mm_v1\u001b[0m/         \u001b[01;32mXy_train.npz\u001b[0m*\n",
      "\u001b[01;34m10x10_35mm_clean\u001b[0m/      test_rf_1234.npz\n",
      "\u001b[34;42m10x10_35mm_v1\u001b[0m/         \u001b[34;42mtrain_validation_test\u001b[0m/\n",
      "\u001b[01;34m10x10_3mm_clean\u001b[0m/       \u001b[34;42mtrained_models\u001b[0m/\n",
      "\u001b[34;42m10x10_3mm_v1\u001b[0m/\n"
     ]
    }
   ],
   "source": [
    "ls /storage/yw18581/data/"
   ]
  },
  {
   "cell_type": "code",
   "execution_count": null,
   "metadata": {},
   "outputs": [],
   "source": []
  }
 ],
 "metadata": {
  "kernelspec": {
   "display_name": "Python 3",
   "language": "python",
   "name": "python3"
  },
  "language_info": {
   "codemirror_mode": {
    "name": "ipython",
    "version": 3
   },
   "file_extension": ".py",
   "mimetype": "text/x-python",
   "name": "python",
   "nbconvert_exporter": "python",
   "pygments_lexer": "ipython3",
   "version": "3.6.7"
  }
 },
 "nbformat": 4,
 "nbformat_minor": 2
}
