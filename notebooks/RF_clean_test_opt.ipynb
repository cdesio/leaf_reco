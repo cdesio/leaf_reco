{
 "cells": [
  {
   "cell_type": "code",
   "execution_count": 1,
   "metadata": {},
   "outputs": [],
   "source": [
    "import numpy as np\n",
    "from sklearn.externals import joblib\n",
    "from sklearn.ensemble import RandomForestRegressor\n",
    "import os\n",
    "from sklearn.metrics import mean_squared_error, mean_absolute_error\n",
    "import matplotlib.pyplot as plt\n",
    "from sklearn.model_selection import train_test_split\n",
    "import pickle"
   ]
  },
  {
   "cell_type": "code",
   "execution_count": 2,
   "metadata": {},
   "outputs": [],
   "source": [
    "data_dir = '/storage/yw18581/data/'\n",
    "data_folder = os.path.join(data_dir, 'train_validation_test')\n",
    "unet_dir = os.path.join(data_dir, \"trained_models\",\n",
    "                        \"UNet_training_generator_1500epochs\")"
   ]
  },
  {
   "cell_type": "code",
   "execution_count": 3,
   "metadata": {},
   "outputs": [],
   "source": [
    "def cut_X(arr, reshape = None):\n",
    "    x_cut = arr[:,960:1300,600:]\n",
    "    if reshape:\n",
    "        if len(x_cut.shape)>3:\n",
    "            x_cut = x_cut[...,0]\n",
    "            x_cut_out = x_cut.reshape(x_cut.shape[0],x_cut.shape[1]*x_cut.shape[2])\n",
    "    else:\n",
    "        x_cut_out = x_cut\n",
    "    return x_cut_out\n",
    "\n",
    "def reshape_RF(arr):\n",
    "    arr_RF = arr.reshape((arr.shape[0], arr.shape[1]*arr.shape[2]))\n",
    "    return arr_RF"
   ]
  },
  {
   "cell_type": "code",
   "execution_count": 4,
   "metadata": {},
   "outputs": [],
   "source": [
    "def cut_reshape(arr):\n",
    "    arr_cut = cut_X(arr)\n",
    "    arr_RF = reshape_RF(arr_cut)\n",
    "    return arr_RF"
   ]
  },
  {
   "cell_type": "code",
   "execution_count": 5,
   "metadata": {},
   "outputs": [],
   "source": [
    "def import_splitted_gt(pos):\n",
    "    Xy = np.load(os.path.join(data_folder,\"Xy_\"+pos+\"_clean.npz\"))\n",
    "    X = Xy[\"y\"]\n",
    "    y = Xy[\"dist\"]\n",
    "    X_RF = cut_reshape(X)\n",
    "    indices = np.load(os.path.join(data_folder,\"RF_train_test_indices_80_20_\"+pos+\"_clean.npz\"))\n",
    "    training_indices = indices[\"train\"]\n",
    "    test_indices = indices[\"test\"]\n",
    "    X_RF_train = X_RF[training_indices]\n",
    "    y_train = y[training_indices]\n",
    "    X_RF_test = X_RF[test_indices]\n",
    "    y_test = y[test_indices]\n",
    "    return X_RF_train, y_train, X_RF_test, y_test"
   ]
  },
  {
   "cell_type": "code",
   "execution_count": 6,
   "metadata": {},
   "outputs": [],
   "source": [
    "X_1mm_cl_RF_train, y_1mm_cl_train, X_1mm_cl_RF_test, y_1mm_cl_test  = import_splitted_gt(\"1mm\")\n",
    "X_2mm_cl_RF_train, y_2mm_cl_train, X_2mm_cl_RF_test, y_2mm_cl_test = import_splitted_gt(\"2mm\")\n",
    "X_3mm_cl_RF_train, y_3mm_cl_train, X_3mm_cl_RF_test, y_3mm_cl_test = import_splitted_gt(\"3mm\")\n",
    "X_4mm_cl_RF_train, y_4mm_cl_train, X_4mm_cl_RF_test, y_4mm_cl_test= import_splitted_gt(\"4mm\")\n",
    "X_10mm_cl_RF_train, y_10mm_cl_train, X_10mm_cl_RF_test, y_10mm_cl_test = import_splitted_gt(\"10mm\")\n",
    "X_15mm_cl_RF_train, y_15mm_cl_train, X_15mm_cl_RF_test, y_15mm_cl_test = import_splitted_gt(\"15mm\")\n",
    "X_20mm_cl_RF_train, y_20mm_cl_train, X_20mm_cl_RF_test, y_20mm_cl_test = import_splitted_gt(\"20mm\")\n",
    "X_25mm_cl_RF_train, y_25mm_cl_train, X_25mm_cl_RF_test, y_25mm_cl_test = import_splitted_gt(\"25mm\")\n",
    "X_30mm_cl_RF_train, y_30mm_cl_train, X_30mm_cl_RF_test, y_30mm_cl_test = import_splitted_gt(\"30mm\")\n",
    "X_35mm_cl_RF_train, y_35mm_cl_train, X_35mm_cl_RF_test, y_35mm_cl_test = import_splitted_gt(\"35mm\")"
   ]
  },
  {
   "cell_type": "code",
   "execution_count": 7,
   "metadata": {},
   "outputs": [],
   "source": [
    "X_train = np.vstack((X_1mm_cl_RF_train, X_2mm_cl_RF_train, X_3mm_cl_RF_train, X_4mm_cl_RF_train, X_10mm_cl_RF_train,\n",
    "              X_15mm_cl_RF_train, X_20mm_cl_RF_train, X_25mm_cl_RF_train, X_30mm_cl_RF_train, X_35mm_cl_RF_train))\n",
    "y_train =  np.hstack((y_1mm_cl_train, y_2mm_cl_train, y_3mm_cl_train, y_4mm_cl_train, y_10mm_cl_train, \n",
    "                     y_15mm_cl_train, y_20mm_cl_train, y_25mm_cl_train, y_30mm_cl_train, y_35mm_cl_train))\n",
    "\n",
    "\n"
   ]
  },
  {
   "cell_type": "code",
   "execution_count": 8,
   "metadata": {},
   "outputs": [],
   "source": [
    "X_test = np.vstack((X_1mm_cl_RF_test, X_2mm_cl_RF_test, X_3mm_cl_RF_test, X_4mm_cl_RF_test, X_10mm_cl_RF_test,\n",
    "              X_15mm_cl_RF_test, X_20mm_cl_RF_test, X_25mm_cl_RF_test, X_35mm_cl_RF_test))\n",
    "\n",
    "y_test =  np.hstack((y_1mm_cl_test, y_2mm_cl_test, y_3mm_cl_test, y_4mm_cl_test, y_10mm_cl_test, \n",
    "                     y_15mm_cl_test, y_20mm_cl_test, y_25mm_cl_test, y_35mm_cl_test))"
   ]
  },
  {
   "cell_type": "code",
   "execution_count": 23,
   "metadata": {},
   "outputs": [],
   "source": [
    "estimators = np.arange(80,420,80)"
   ]
  },
  {
   "cell_type": "code",
   "execution_count": 24,
   "metadata": {},
   "outputs": [
    {
     "data": {
      "text/plain": [
       "array([ 80, 160, 240, 320, 400])"
      ]
     },
     "execution_count": 24,
     "metadata": {},
     "output_type": "execute_result"
    }
   ],
   "source": [
    "estimators"
   ]
  },
  {
   "cell_type": "code",
   "execution_count": 25,
   "metadata": {},
   "outputs": [],
   "source": [
    "depths = np.arange(10, 200, 50)"
   ]
  },
  {
   "cell_type": "code",
   "execution_count": 26,
   "metadata": {},
   "outputs": [
    {
     "data": {
      "text/plain": [
       "array([ 10,  60, 110, 160])"
      ]
     },
     "execution_count": 26,
     "metadata": {},
     "output_type": "execute_result"
    }
   ],
   "source": [
    "depths"
   ]
  },
  {
   "cell_type": "code",
   "execution_count": 27,
   "metadata": {},
   "outputs": [],
   "source": [
    "!mkdir /storage/yw18581/data/trained_models/RF_clean"
   ]
  },
  {
   "cell_type": "code",
   "execution_count": 27,
   "metadata": {},
   "outputs": [],
   "source": [
    "def import_splitted_UNet(pos):\n",
    "    Xy = np.load(os.path.join(unet_dir,\"Xy_\"+pos+\"_clean_predicted_UNet.npz\"))\n",
    "    X = Xy[\"y\"]\n",
    "    y = Xy[\"dist\"]\n",
    "    X_RF = cut_reshape(X)\n",
    "    indices = np.load(os.path.join(data_folder,\"RF_train_test_indices_80_20_\"+pos+\"_clean.npz\"))\n",
    "    training_indices = indices[\"train\"]\n",
    "    test_indices = indices[\"test\"]\n",
    "    X_RF_train = X_RF[training_indices]\n",
    "    y_train = y[training_indices]\n",
    "    X_RF_test = X_RF[test_indices]\n",
    "    y_test = y[test_indices]\n",
    "    return X_RF_train, y_train, X_RF_test, y_test"
   ]
  },
  {
   "cell_type": "code",
   "execution_count": 28,
   "metadata": {},
   "outputs": [],
   "source": [
    "X_1mm_cl_UNet_RF_train, y_1mm_cl_UNet_train, X_1mm_cl_UNet_RF_test, y_1mm_cl_UNet_test  = import_splitted_UNet(\"1mm\")\n",
    "X_2mm_cl_UNet_RF_train, y_2mm_cl_UNet_train, X_2mm_cl_UNet_RF_test, y_2mm_cl_UNet_test  = import_splitted_UNet(\"2mm\")\n",
    "X_3mm_cl_UNet_RF_train, y_3mm_cl_UNet_train, X_3mm_cl_UNet_RF_test, y_3mm_cl_UNet_test  = import_splitted_UNet(\"3mm\")\n",
    "X_4mm_cl_UNet_RF_train, y_4mm_cl_UNet_train, X_4mm_cl_UNet_RF_test, y_4mm_cl_UNet_test  = import_splitted_UNet(\"4mm\")\n",
    "X_10mm_cl_UNet_RF_train, y_10mm_cl_UNet_train, X_10mm_cl_UNet_RF_test, y_10mm_cl_UNet_test  = import_splitted_UNet(\"10mm\")\n",
    "X_15mm_cl_UNet_RF_train, y_15mm_cl_UNet_train, X_15mm_cl_UNet_RF_test, y_15mm_cl_UNet_test  = import_splitted_UNet(\"15mm\")\n",
    "X_20mm_cl_UNet_RF_train, y_20mm_cl_UNet_train, X_20mm_cl_UNet_RF_test, y_20mm_cl_UNet_test  = import_splitted_UNet(\"20mm\")\n",
    "X_25mm_cl_UNet_RF_train, y_25mm_cl_UNet_train, X_25mm_cl_UNet_RF_test, y_25mm_cl_UNet_test  = import_splitted_UNet(\"25mm\")\n",
    "X_30mm_cl_UNet_RF_train, y_30mm_cl_UNet_train, X_30mm_cl_UNet_RF_test, y_30mm_cl_UNet_test  = import_splitted_UNet(\"30mm\")\n",
    "X_35mm_cl_UNet_RF_train, y_35mm_cl_UNet_train, X_35mm_cl_UNet_RF_test, y_35mm_cl_UNet_test  = import_splitted_UNet(\"35mm\")\\\n"
   ]
  },
  {
   "cell_type": "code",
   "execution_count": null,
   "metadata": {},
   "outputs": [],
   "source": [
    "X_UNet_test = np.vstack((X_1mm_cl_UNet_RF_test, X_2mm_cl_UNet_RF_test, X_3mm_cl_UNet_RF_test, X_4mm_cl_UNet_RF_test, \n",
    "                         X_10mm_cl_UNet_RF_test, X_15mm_cl_UNet_RF_test, X_20mm_cl_UNet_RF_test, X_25mm_cl_UNet_RF_test, \n",
    "                         X_35mm_cl_UNet_RF_test))\n",
    "\n",
    "y_UNet_test =  np.hstack((y_1mm_cl_UNet_test, y_2mm_cl_UNet_test, y_3mm_cl_UNet_test, y_4mm_cl_UNet_test, \n",
    "                          y_10mm_cl_UNet_test, y_15mm_cl_UNet_test, y_20mm_cl_UNet_test, y_25mm_cl_UNet_test, \n",
    "                          y_35mm_cl_UNet_test))"
   ]
  },
  {
   "cell_type": "code",
   "execution_count": null,
   "metadata": {},
   "outputs": [
    {
     "name": "stderr",
     "output_type": "stream",
     "text": [
      "[Parallel(n_jobs=2)]: Using backend ThreadingBackend with 2 concurrent workers.\n"
     ]
    },
    {
     "name": "stdout",
     "output_type": "stream",
     "text": [
      "building tree 1 of 80\n",
      "building tree 2 of 80\n",
      "building tree 3 of 80\n",
      "building tree 4 of 80\n",
      "building tree 5 of 80\n",
      "building tree 6 of 80\n",
      "building tree 7 of 80\n",
      "building tree 8 of 80\n",
      "building tree 9 of 80\n",
      "building tree 10 of 80\n",
      "building tree 11 of 80\n",
      "building tree 12 of 80\n",
      "building tree 13 of 80\n",
      "building tree 14 of 80\n",
      "building tree 15 of 80\n",
      "building tree 16 of 80\n",
      "building tree 17 of 80\n",
      "building tree 18 of 80\n",
      "building tree 19 of 80\n",
      "building tree 20 of 80\n",
      "building tree 21 of 80\n",
      "building tree 22 of 80\n",
      "building tree 23 of 80\n",
      "building tree 24 of 80\n",
      "building tree 25 of 80\n",
      "building tree 26 of 80\n",
      "building tree 27 of 80\n",
      "building tree 28 of 80\n",
      "building tree 29 of 80\n",
      "building tree 30 of 80\n",
      "building tree 31 of 80\n",
      "building tree 32 of 80\n",
      "building tree 33 of 80\n",
      "building tree 34 of 80\n",
      "building tree 35 of 80\n",
      "building tree 36 of 80\n",
      "building tree 37 of 80\n",
      "building tree 38 of 80\n"
     ]
    },
    {
     "name": "stderr",
     "output_type": "stream",
     "text": [
      "[Parallel(n_jobs=2)]: Done  37 tasks      | elapsed:  3.6min\n"
     ]
    },
    {
     "name": "stdout",
     "output_type": "stream",
     "text": [
      "building tree 39 of 80\n",
      "building tree 40 of 80\n",
      "building tree 41 of 80\n",
      "building tree 42 of 80\n",
      "building tree 43 of 80\n",
      "building tree 44 of 80\n",
      "building tree 45 of 80\n",
      "building tree 46 of 80\n",
      "building tree 47 of 80\n",
      "building tree 48 of 80\n",
      "building tree 49 of 80\n",
      "building tree 50 of 80\n",
      "building tree 51 of 80\n",
      "building tree 52 of 80\n",
      "building tree 53 of 80\n",
      "building tree 54 of 80\n",
      "building tree 55 of 80\n",
      "building tree 56 of 80\n",
      "building tree 57 of 80\n",
      "building tree 58 of 80\n",
      "building tree 59 of 80\n",
      "building tree 60 of 80\n",
      "building tree 61 of 80\n",
      "building tree 62 of 80\n",
      "building tree 63 of 80\n",
      "building tree 64 of 80\n",
      "building tree 65 of 80\n",
      "building tree 66 of 80\n",
      "building tree 67 of 80\n",
      "building tree 68 of 80\n",
      "building tree 69 of 80\n",
      "building tree 70 of 80\n",
      "building tree 71 of 80\n",
      "building tree 72 of 80\n",
      "building tree 73 of 80\n",
      "building tree 74 of 80\n",
      "building tree 75 of 80\n",
      "building tree 76 of 80\n",
      "building tree 77 of 80\n",
      "building tree 78 of 80\n",
      "building tree 79 of 80\n",
      "building tree 80 of 80\n"
     ]
    },
    {
     "name": "stderr",
     "output_type": "stream",
     "text": [
      "[Parallel(n_jobs=2)]: Done  80 out of  80 | elapsed:  7.6min finished\n",
      "[Parallel(n_jobs=2)]: Using backend ThreadingBackend with 2 concurrent workers.\n",
      "[Parallel(n_jobs=2)]: Done  37 tasks      | elapsed:    0.0s\n",
      "[Parallel(n_jobs=2)]: Done  80 out of  80 | elapsed:    0.0s finished\n"
     ]
    },
    {
     "name": "stdout",
     "output_type": "stream",
     "text": [
      "gt 0.011772836538461538\n"
     ]
    },
    {
     "name": "stderr",
     "output_type": "stream",
     "text": [
      "[Parallel(n_jobs=2)]: Using backend ThreadingBackend with 2 concurrent workers.\n",
      "[Parallel(n_jobs=2)]: Done  37 tasks      | elapsed:    0.0s\n",
      "[Parallel(n_jobs=2)]: Done  80 out of  80 | elapsed:    0.0s finished\n"
     ]
    },
    {
     "name": "stdout",
     "output_type": "stream",
     "text": [
      "unet 0.17907108516483514\n"
     ]
    },
    {
     "name": "stderr",
     "output_type": "stream",
     "text": [
      "[Parallel(n_jobs=2)]: Using backend ThreadingBackend with 2 concurrent workers.\n"
     ]
    },
    {
     "name": "stdout",
     "output_type": "stream",
     "text": [
      "building tree 1 of 80\n",
      "building tree 2 of 80\n",
      "building tree 3 of 80\n",
      "building tree 4 of 80\n",
      "building tree 5 of 80\n",
      "building tree 6 of 80\n",
      "building tree 7 of 80\n",
      "building tree 8 of 80\n",
      "building tree 9 of 80\n",
      "building tree 10 of 80\n",
      "building tree 11 of 80\n",
      "building tree 12 of 80\n",
      "building tree 13 of 80\n",
      "building tree 14 of 80\n",
      "building tree 15 of 80\n",
      "building tree 16 of 80\n",
      "building tree 17 of 80\n",
      "building tree 18 of 80\n",
      "building tree 19 of 80\n",
      "building tree 20 of 80\n",
      "building tree 21 of 80\n",
      "building tree 22 of 80\n",
      "building tree 23 of 80\n",
      "building tree 24 of 80\n",
      "building tree 25 of 80\n",
      "building tree 26 of 80\n",
      "building tree 27 of 80\n",
      "building tree 28 of 80\n",
      "building tree 29 of 80\n",
      "building tree 30 of 80\n",
      "building tree 31 of 80\n",
      "building tree 32 of 80\n",
      "building tree 33 of 80\n",
      "building tree 34 of 80\n",
      "building tree 35 of 80\n",
      "building tree 36 of 80\n",
      "building tree 37 of 80\n",
      "building tree 38 of 80\n"
     ]
    },
    {
     "name": "stderr",
     "output_type": "stream",
     "text": [
      "[Parallel(n_jobs=2)]: Done  37 tasks      | elapsed:  4.0min\n"
     ]
    },
    {
     "name": "stdout",
     "output_type": "stream",
     "text": [
      "building tree 39 of 80\n",
      "building tree 40 of 80\n",
      "building tree 41 of 80\n",
      "building tree 42 of 80\n",
      "building tree 43 of 80\n",
      "building tree 44 of 80\n",
      "building tree 45 of 80\n",
      "building tree 46 of 80\n",
      "building tree 47 of 80\n",
      "building tree 48 of 80\n",
      "building tree 49 of 80\n",
      "building tree 50 of 80\n",
      "building tree 51 of 80\n",
      "building tree 52 of 80\n",
      "building tree 53 of 80\n",
      "building tree 54 of 80\n",
      "building tree 55 of 80\n",
      "building tree 56 of 80\n",
      "building tree 57 of 80\n",
      "building tree 58 of 80\n",
      "building tree 59 of 80\n",
      "building tree 60 of 80\n",
      "building tree 61 of 80\n",
      "building tree 62 of 80\n",
      "building tree 63 of 80\n",
      "building tree 64 of 80\n",
      "building tree 65 of 80\n",
      "building tree 66 of 80\n",
      "building tree 67 of 80\n",
      "building tree 68 of 80\n",
      "building tree 69 of 80\n",
      "building tree 70 of 80\n",
      "building tree 71 of 80\n",
      "building tree 72 of 80\n",
      "building tree 73 of 80\n",
      "building tree 74 of 80\n",
      "building tree 75 of 80\n",
      "building tree 76 of 80\n",
      "building tree 77 of 80\n",
      "building tree 78 of 80\n",
      "building tree 79 of 80\n",
      "building tree 80 of 80\n"
     ]
    },
    {
     "name": "stderr",
     "output_type": "stream",
     "text": [
      "[Parallel(n_jobs=2)]: Done  80 out of  80 | elapsed:  8.2min finished\n",
      "[Parallel(n_jobs=2)]: Using backend ThreadingBackend with 2 concurrent workers.\n",
      "[Parallel(n_jobs=2)]: Done  37 tasks      | elapsed:    0.0s\n",
      "[Parallel(n_jobs=2)]: Done  80 out of  80 | elapsed:    0.0s finished\n"
     ]
    },
    {
     "name": "stdout",
     "output_type": "stream",
     "text": [
      "gt 0.011772836538461538\n"
     ]
    },
    {
     "name": "stderr",
     "output_type": "stream",
     "text": [
      "[Parallel(n_jobs=2)]: Using backend ThreadingBackend with 2 concurrent workers.\n",
      "[Parallel(n_jobs=2)]: Done  37 tasks      | elapsed:    0.0s\n",
      "[Parallel(n_jobs=2)]: Done  80 out of  80 | elapsed:    0.0s finished\n"
     ]
    },
    {
     "name": "stdout",
     "output_type": "stream",
     "text": [
      "unet 0.17907108516483514\n"
     ]
    },
    {
     "name": "stderr",
     "output_type": "stream",
     "text": [
      "[Parallel(n_jobs=2)]: Using backend ThreadingBackend with 2 concurrent workers.\n"
     ]
    },
    {
     "name": "stdout",
     "output_type": "stream",
     "text": [
      "building tree 1 of 80\n",
      "building tree 2 of 80\n",
      "building tree 3 of 80\n",
      "building tree 4 of 80\n",
      "building tree 5 of 80\n",
      "building tree 6 of 80\n",
      "building tree 7 of 80\n",
      "building tree 8 of 80\n",
      "building tree 9 of 80\n",
      "building tree 10 of 80\n",
      "building tree 11 of 80\n",
      "building tree 12 of 80\n",
      "building tree 13 of 80\n",
      "building tree 14 of 80\n",
      "building tree 15 of 80\n",
      "building tree 16 of 80\n",
      "building tree 17 of 80\n",
      "building tree 18 of 80\n",
      "building tree 19 of 80\n",
      "building tree 20 of 80\n",
      "building tree 21 of 80\n",
      "building tree 22 of 80\n",
      "building tree 23 of 80\n",
      "building tree 24 of 80\n",
      "building tree 25 of 80\n",
      "building tree 26 of 80\n",
      "building tree 27 of 80\n",
      "building tree 28 of 80\n",
      "building tree 29 of 80\n",
      "building tree 30 of 80\n",
      "building tree 31 of 80\n",
      "building tree 32 of 80\n",
      "building tree 33 of 80\n",
      "building tree 34 of 80\n",
      "building tree 35 of 80\n",
      "building tree 36 of 80\n",
      "building tree 37 of 80\n",
      "building tree 38 of 80\n"
     ]
    },
    {
     "name": "stderr",
     "output_type": "stream",
     "text": [
      "[Parallel(n_jobs=2)]: Done  37 tasks      | elapsed:  3.7min\n"
     ]
    },
    {
     "name": "stdout",
     "output_type": "stream",
     "text": [
      "building tree 39 of 80\n",
      "building tree 40 of 80\n",
      "building tree 41 of 80\n",
      "building tree 42 of 80\n",
      "building tree 43 of 80\n",
      "building tree 44 of 80\n",
      "building tree 45 of 80\n",
      "building tree 46 of 80\n",
      "building tree 47 of 80\n",
      "building tree 48 of 80\n",
      "building tree 49 of 80\n",
      "building tree 50 of 80\n",
      "building tree 51 of 80\n",
      "building tree 52 of 80\n",
      "building tree 53 of 80\n",
      "building tree 54 of 80\n",
      "building tree 55 of 80\n",
      "building tree 56 of 80\n",
      "building tree 57 of 80\n",
      "building tree 58 of 80\n",
      "building tree 59 of 80\n",
      "building tree 60 of 80\n",
      "building tree 61 of 80\n",
      "building tree 62 of 80\n",
      "building tree 63 of 80\n",
      "building tree 64 of 80\n",
      "building tree 65 of 80\n",
      "building tree 66 of 80\n",
      "building tree 67 of 80\n",
      "building tree 68 of 80\n",
      "building tree 69 of 80\n",
      "building tree 70 of 80\n",
      "building tree 71 of 80\n",
      "building tree 72 of 80\n",
      "building tree 73 of 80\n",
      "building tree 74 of 80\n",
      "building tree 75 of 80\n",
      "building tree 76 of 80\n",
      "building tree 77 of 80\n",
      "building tree 78 of 80\n",
      "building tree 79 of 80\n",
      "building tree 80 of 80\n"
     ]
    },
    {
     "name": "stderr",
     "output_type": "stream",
     "text": [
      "[Parallel(n_jobs=2)]: Done  80 out of  80 | elapsed:  7.5min finished\n",
      "[Parallel(n_jobs=2)]: Using backend ThreadingBackend with 2 concurrent workers.\n",
      "[Parallel(n_jobs=2)]: Done  37 tasks      | elapsed:    0.0s\n",
      "[Parallel(n_jobs=2)]: Done  80 out of  80 | elapsed:    0.0s finished\n"
     ]
    },
    {
     "name": "stdout",
     "output_type": "stream",
     "text": [
      "gt 0.011772836538461538\n"
     ]
    },
    {
     "name": "stderr",
     "output_type": "stream",
     "text": [
      "[Parallel(n_jobs=2)]: Using backend ThreadingBackend with 2 concurrent workers.\n",
      "[Parallel(n_jobs=2)]: Done  37 tasks      | elapsed:    0.0s\n",
      "[Parallel(n_jobs=2)]: Done  80 out of  80 | elapsed:    0.0s finished\n"
     ]
    },
    {
     "name": "stdout",
     "output_type": "stream",
     "text": [
      "unet 0.17907108516483514\n"
     ]
    },
    {
     "name": "stderr",
     "output_type": "stream",
     "text": [
      "[Parallel(n_jobs=2)]: Using backend ThreadingBackend with 2 concurrent workers.\n"
     ]
    },
    {
     "name": "stdout",
     "output_type": "stream",
     "text": [
      "building tree 1 of 80\n",
      "building tree 2 of 80\n",
      "building tree 3 of 80\n",
      "building tree 4 of 80\n",
      "building tree 5 of 80\n",
      "building tree 6 of 80\n",
      "building tree 7 of 80\n",
      "building tree 8 of 80\n",
      "building tree 9 of 80\n",
      "building tree 10 of 80\n",
      "building tree 11 of 80\n",
      "building tree 12 of 80\n",
      "building tree 13 of 80\n",
      "building tree 14 of 80\n",
      "building tree 15 of 80\n",
      "building tree 16 of 80\n",
      "building tree 17 of 80\n",
      "building tree 18 of 80\n",
      "building tree 19 of 80\n",
      "building tree 20 of 80\n",
      "building tree 21 of 80\n",
      "building tree 22 of 80\n",
      "building tree 23 of 80\n",
      "building tree 24 of 80\n",
      "building tree 25 of 80\n",
      "building tree 26 of 80\n",
      "building tree 27 of 80\n",
      "building tree 28 of 80\n",
      "building tree 29 of 80\n",
      "building tree 30 of 80\n",
      "building tree 31 of 80\n",
      "building tree 32 of 80\n",
      "building tree 33 of 80\n",
      "building tree 34 of 80\n",
      "building tree 35 of 80\n",
      "building tree 36 of 80\n",
      "building tree 37 of 80\n",
      "building tree 38 of 80\n"
     ]
    },
    {
     "name": "stderr",
     "output_type": "stream",
     "text": [
      "[Parallel(n_jobs=2)]: Done  37 tasks      | elapsed:  3.5min\n"
     ]
    },
    {
     "name": "stdout",
     "output_type": "stream",
     "text": [
      "building tree 39 of 80\n",
      "building tree 40 of 80\n",
      "building tree 41 of 80\n",
      "building tree 42 of 80\n",
      "building tree 43 of 80\n",
      "building tree 44 of 80\n",
      "building tree 45 of 80\n",
      "building tree 46 of 80\n",
      "building tree 47 of 80\n",
      "building tree 48 of 80\n",
      "building tree 49 of 80\n",
      "building tree 50 of 80\n",
      "building tree 51 of 80\n",
      "building tree 52 of 80\n",
      "building tree 53 of 80\n",
      "building tree 54 of 80\n",
      "building tree 55 of 80\n",
      "building tree 56 of 80\n",
      "building tree 57 of 80\n",
      "building tree 58 of 80\n",
      "building tree 59 of 80\n",
      "building tree 60 of 80\n",
      "building tree 61 of 80\n",
      "building tree 62 of 80\n",
      "building tree 63 of 80\n",
      "building tree 64 of 80\n",
      "building tree 65 of 80\n",
      "building tree 66 of 80\n",
      "building tree 67 of 80\n",
      "building tree 68 of 80\n",
      "building tree 69 of 80\n",
      "building tree 70 of 80\n",
      "building tree 71 of 80\n",
      "building tree 72 of 80\n",
      "building tree 73 of 80\n",
      "building tree 74 of 80\n",
      "building tree 75 of 80\n",
      "building tree 76 of 80\n",
      "building tree 77 of 80\n",
      "building tree 78 of 80\n",
      "building tree 79 of 80\n",
      "building tree 80 of 80\n"
     ]
    },
    {
     "name": "stderr",
     "output_type": "stream",
     "text": [
      "[Parallel(n_jobs=2)]: Done  80 out of  80 | elapsed:  7.7min finished\n",
      "[Parallel(n_jobs=2)]: Using backend ThreadingBackend with 2 concurrent workers.\n",
      "[Parallel(n_jobs=2)]: Done  37 tasks      | elapsed:    0.0s\n",
      "[Parallel(n_jobs=2)]: Done  80 out of  80 | elapsed:    0.0s finished\n"
     ]
    },
    {
     "name": "stdout",
     "output_type": "stream",
     "text": [
      "gt 0.011772836538461538\n"
     ]
    },
    {
     "name": "stderr",
     "output_type": "stream",
     "text": [
      "[Parallel(n_jobs=2)]: Using backend ThreadingBackend with 2 concurrent workers.\n",
      "[Parallel(n_jobs=2)]: Done  37 tasks      | elapsed:    0.0s\n",
      "[Parallel(n_jobs=2)]: Done  80 out of  80 | elapsed:    0.0s finished\n"
     ]
    },
    {
     "name": "stdout",
     "output_type": "stream",
     "text": [
      "unet 0.17907108516483514\n"
     ]
    },
    {
     "name": "stderr",
     "output_type": "stream",
     "text": [
      "[Parallel(n_jobs=2)]: Using backend ThreadingBackend with 2 concurrent workers.\n"
     ]
    },
    {
     "name": "stdout",
     "output_type": "stream",
     "text": [
      "building tree 1 of 160\n",
      "building tree 2 of 160\n",
      "building tree 3 of 160\n",
      "building tree 4 of 160\n",
      "building tree 5 of 160\n",
      "building tree 6 of 160\n",
      "building tree 7 of 160\n",
      "building tree 8 of 160\n",
      "building tree 9 of 160\n",
      "building tree 10 of 160\n",
      "building tree 11 of 160\n",
      "building tree 12 of 160\n",
      "building tree 13 of 160\n",
      "building tree 14 of 160\n",
      "building tree 15 of 160\n",
      "building tree 16 of 160\n",
      "building tree 17 of 160\n",
      "building tree 18 of 160\n",
      "building tree 19 of 160\n",
      "building tree 20 of 160\n",
      "building tree 21 of 160\n",
      "building tree 22 of 160\n",
      "building tree 23 of 160\n",
      "building tree 24 of 160\n",
      "building tree 25 of 160\n",
      "building tree 26 of 160\n",
      "building tree 27 of 160\n",
      "building tree 28 of 160\n",
      "building tree 29 of 160\n",
      "building tree 30 of 160\n",
      "building tree 31 of 160\n",
      "building tree 32 of 160\n",
      "building tree 33 of 160\n",
      "building tree 34 of 160\n",
      "building tree 35 of 160\n",
      "building tree 36 of 160\n",
      "building tree 37 of 160\n",
      "building tree 38 of 160\n"
     ]
    },
    {
     "name": "stderr",
     "output_type": "stream",
     "text": [
      "[Parallel(n_jobs=2)]: Done  37 tasks      | elapsed:  3.7min\n"
     ]
    },
    {
     "name": "stdout",
     "output_type": "stream",
     "text": [
      "building tree 39 of 160\n",
      "building tree 40 of 160\n",
      "building tree 41 of 160\n",
      "building tree 42 of 160\n",
      "building tree 43 of 160\n",
      "building tree 44 of 160\n",
      "building tree 45 of 160\n",
      "building tree 46 of 160\n",
      "building tree 47 of 160\n",
      "building tree 48 of 160\n",
      "building tree 49 of 160\n",
      "building tree 50 of 160\n",
      "building tree 51 of 160\n",
      "building tree 52 of 160\n",
      "building tree 53 of 160\n",
      "building tree 54 of 160\n",
      "building tree 55 of 160\n",
      "building tree 56 of 160\n",
      "building tree 57 of 160\n",
      "building tree 58 of 160\n",
      "building tree 59 of 160\n",
      "building tree 60 of 160\n",
      "building tree 61 of 160\n",
      "building tree 62 of 160\n",
      "building tree 63 of 160\n",
      "building tree 64 of 160\n",
      "building tree 65 of 160\n",
      "building tree 66 of 160\n",
      "building tree 67 of 160\n",
      "building tree 68 of 160\n",
      "building tree 69 of 160\n",
      "building tree 70 of 160\n",
      "building tree 71 of 160\n",
      "building tree 72 of 160\n",
      "building tree 73 of 160\n",
      "building tree 74 of 160\n",
      "building tree 75 of 160\n",
      "building tree 76 of 160\n",
      "building tree 77 of 160\n",
      "building tree 78 of 160\n",
      "building tree 79 of 160\n",
      "building tree 80 of 160\n",
      "building tree 81 of 160\n",
      "building tree 82 of 160\n",
      "building tree 83 of 160\n",
      "building tree 84 of 160\n",
      "building tree 85 of 160\n",
      "building tree 86 of 160\n",
      "building tree 87 of 160\n",
      "building tree 88 of 160\n",
      "building tree 89 of 160\n",
      "building tree 90 of 160\n",
      "building tree 91 of 160\n",
      "building tree 92 of 160\n",
      "building tree 93 of 160\n",
      "building tree 94 of 160\n",
      "building tree 95 of 160\n",
      "building tree 96 of 160\n",
      "building tree 97 of 160\n",
      "building tree 98 of 160\n",
      "building tree 99 of 160\n",
      "building tree 100 of 160\n",
      "building tree 101 of 160\n",
      "building tree 102 of 160\n",
      "building tree 103 of 160\n",
      "building tree 104 of 160\n",
      "building tree 105 of 160\n",
      "building tree 106 of 160\n",
      "building tree 107 of 160\n",
      "building tree 108 of 160\n",
      "building tree 109 of 160\n",
      "building tree 110 of 160\n",
      "building tree 111 of 160\n",
      "building tree 112 of 160\n",
      "building tree 113 of 160\n",
      "building tree 114 of 160\n",
      "building tree 115 of 160\n",
      "building tree 116 of 160\n",
      "building tree 117 of 160\n",
      "building tree 118 of 160\n",
      "building tree 119 of 160\n",
      "building tree 120 of 160\n",
      "building tree 121 of 160\n",
      "building tree 122 of 160\n",
      "building tree 123 of 160\n",
      "building tree 124 of 160\n",
      "building tree 125 of 160\n",
      "building tree 126 of 160\n",
      "building tree 127 of 160\n",
      "building tree 128 of 160\n",
      "building tree 129 of 160\n",
      "building tree 130 of 160\n",
      "building tree 131 of 160\n",
      "building tree 132 of 160\n",
      "building tree 133 of 160\n",
      "building tree 134 of 160\n",
      "building tree 135 of 160\n",
      "building tree 136 of 160\n",
      "building tree 137 of 160\n",
      "building tree 138 of 160\n",
      "building tree 139 of 160\n",
      "building tree 140 of 160\n",
      "building tree 141 of 160\n",
      "building tree 142 of 160\n",
      "building tree 143 of 160\n",
      "building tree 144 of 160\n",
      "building tree 145 of 160\n",
      "building tree 146 of 160\n",
      "building tree 147 of 160\n",
      "building tree 148 of 160\n",
      "building tree 149 of 160\n",
      "building tree 150 of 160\n",
      "building tree 151 of 160\n",
      "building tree 152 of 160\n",
      "building tree 153 of 160\n",
      "building tree 154 of 160\n",
      "building tree 155 of 160\n",
      "building tree 156 of 160\n",
      "building tree 157 of 160\n",
      "building tree 158 of 160\n",
      "building tree 159 of 160\n",
      "building tree 160 of 160\n"
     ]
    },
    {
     "name": "stderr",
     "output_type": "stream",
     "text": [
      "[Parallel(n_jobs=2)]: Done 160 out of 160 | elapsed: 16.3min finished\n",
      "[Parallel(n_jobs=2)]: Using backend ThreadingBackend with 2 concurrent workers.\n",
      "[Parallel(n_jobs=2)]: Done  37 tasks      | elapsed:    0.0s\n",
      "[Parallel(n_jobs=2)]: Done 160 out of 160 | elapsed:    0.1s finished\n"
     ]
    },
    {
     "name": "stdout",
     "output_type": "stream",
     "text": [
      "gt 0.011686019059065935\n"
     ]
    },
    {
     "name": "stderr",
     "output_type": "stream",
     "text": [
      "[Parallel(n_jobs=2)]: Using backend ThreadingBackend with 2 concurrent workers.\n",
      "[Parallel(n_jobs=2)]: Done  37 tasks      | elapsed:    0.0s\n",
      "[Parallel(n_jobs=2)]: Done 160 out of 160 | elapsed:    0.0s finished\n"
     ]
    },
    {
     "name": "stdout",
     "output_type": "stream",
     "text": [
      "unet 0.1807926253434066\n"
     ]
    },
    {
     "name": "stderr",
     "output_type": "stream",
     "text": [
      "[Parallel(n_jobs=2)]: Using backend ThreadingBackend with 2 concurrent workers.\n"
     ]
    },
    {
     "name": "stdout",
     "output_type": "stream",
     "text": [
      "building tree 1 of 160building tree 2 of 160\n",
      "\n",
      "building tree 3 of 160\n",
      "building tree 4 of 160\n",
      "building tree 5 of 160\n",
      "building tree 6 of 160\n",
      "building tree 7 of 160\n",
      "building tree 8 of 160\n",
      "building tree 9 of 160\n",
      "building tree 10 of 160\n",
      "building tree 11 of 160\n",
      "building tree 12 of 160\n",
      "building tree 13 of 160\n",
      "building tree 14 of 160\n",
      "building tree 15 of 160\n",
      "building tree 16 of 160\n",
      "building tree 17 of 160\n",
      "building tree 18 of 160\n",
      "building tree 19 of 160\n",
      "building tree 20 of 160\n",
      "building tree 21 of 160\n",
      "building tree 22 of 160\n",
      "building tree 23 of 160\n",
      "building tree 24 of 160\n",
      "building tree 25 of 160\n",
      "building tree 26 of 160\n",
      "building tree 27 of 160\n",
      "building tree 28 of 160\n",
      "building tree 29 of 160\n",
      "building tree 30 of 160\n",
      "building tree 31 of 160\n",
      "building tree 32 of 160\n",
      "building tree 33 of 160\n",
      "building tree 34 of 160\n",
      "building tree 35 of 160\n",
      "building tree 36 of 160\n",
      "building tree 37 of 160\n",
      "building tree 38 of 160\n"
     ]
    },
    {
     "name": "stderr",
     "output_type": "stream",
     "text": [
      "[Parallel(n_jobs=2)]: Done  37 tasks      | elapsed:  4.1min\n"
     ]
    },
    {
     "name": "stdout",
     "output_type": "stream",
     "text": [
      "building tree 39 of 160\n",
      "building tree 40 of 160\n",
      "building tree 41 of 160\n",
      "building tree 42 of 160\n",
      "building tree 43 of 160\n",
      "building tree 44 of 160\n",
      "building tree 45 of 160\n",
      "building tree 46 of 160\n",
      "building tree 47 of 160\n",
      "building tree 48 of 160\n",
      "building tree 49 of 160\n",
      "building tree 50 of 160\n",
      "building tree 51 of 160\n",
      "building tree 52 of 160\n",
      "building tree 53 of 160\n",
      "building tree 54 of 160\n",
      "building tree 55 of 160\n",
      "building tree 56 of 160\n",
      "building tree 57 of 160\n",
      "building tree 58 of 160\n",
      "building tree 59 of 160\n",
      "building tree 60 of 160\n",
      "building tree 61 of 160\n",
      "building tree 62 of 160\n",
      "building tree 63 of 160\n",
      "building tree 64 of 160\n",
      "building tree 65 of 160\n",
      "building tree 66 of 160\n",
      "building tree 67 of 160\n",
      "building tree 68 of 160\n",
      "building tree 69 of 160\n",
      "building tree 70 of 160\n",
      "building tree 71 of 160\n",
      "building tree 72 of 160\n",
      "building tree 73 of 160\n",
      "building tree 74 of 160\n",
      "building tree 75 of 160\n",
      "building tree 76 of 160\n",
      "building tree 77 of 160\n",
      "building tree 78 of 160\n",
      "building tree 79 of 160\n",
      "building tree 80 of 160\n",
      "building tree 81 of 160\n",
      "building tree 82 of 160\n",
      "building tree 83 of 160\n",
      "building tree 84 of 160\n",
      "building tree 85 of 160\n",
      "building tree 86 of 160\n",
      "building tree 87 of 160\n",
      "building tree 88 of 160\n",
      "building tree 89 of 160\n",
      "building tree 90 of 160\n",
      "building tree 91 of 160\n",
      "building tree 92 of 160\n",
      "building tree 93 of 160\n",
      "building tree 94 of 160\n",
      "building tree 95 of 160\n",
      "building tree 96 of 160\n",
      "building tree 97 of 160\n",
      "building tree 98 of 160\n",
      "building tree 99 of 160\n",
      "building tree 100 of 160\n",
      "building tree 101 of 160\n",
      "building tree 102 of 160\n",
      "building tree 103 of 160\n",
      "building tree 104 of 160\n",
      "building tree 105 of 160\n",
      "building tree 106 of 160\n",
      "building tree 107 of 160\n",
      "building tree 108 of 160\n",
      "building tree 109 of 160\n",
      "building tree 110 of 160\n",
      "building tree 111 of 160\n",
      "building tree 112 of 160\n",
      "building tree 113 of 160\n",
      "building tree 114 of 160\n",
      "building tree 115 of 160\n",
      "building tree 116 of 160\n",
      "building tree 117 of 160\n",
      "building tree 118 of 160\n",
      "building tree 119 of 160\n",
      "building tree 120 of 160\n",
      "building tree 121 of 160\n",
      "building tree 122 of 160\n",
      "building tree 123 of 160\n",
      "building tree 124 of 160\n",
      "building tree 125 of 160\n",
      "building tree 126 of 160\n",
      "building tree 127 of 160\n",
      "building tree 128 of 160\n",
      "building tree 129 of 160\n",
      "building tree 130 of 160\n",
      "building tree 131 of 160\n",
      "building tree 132 of 160\n",
      "building tree 133 of 160\n",
      "building tree 134 of 160\n",
      "building tree 135 of 160\n",
      "building tree 136 of 160\n",
      "building tree 137 of 160\n",
      "building tree 138 of 160\n",
      "building tree 139 of 160\n",
      "building tree 140 of 160\n",
      "building tree 141 of 160\n",
      "building tree 142 of 160\n",
      "building tree 143 of 160\n",
      "building tree 144 of 160\n",
      "building tree 145 of 160\n",
      "building tree 146 of 160\n",
      "building tree 147 of 160\n",
      "building tree 148 of 160\n",
      "building tree 149 of 160\n",
      "building tree 150 of 160\n",
      "building tree 151 of 160\n",
      "building tree 152 of 160\n",
      "building tree 153 of 160\n",
      "building tree 154 of 160\n",
      "building tree 155 of 160\n",
      "building tree 156 of 160\n",
      "building tree 157 of 160\n",
      "building tree 158 of 160\n",
      "building tree 159 of 160\n",
      "building tree 160 of 160\n"
     ]
    },
    {
     "name": "stderr",
     "output_type": "stream",
     "text": [
      "[Parallel(n_jobs=2)]: Done 160 out of 160 | elapsed: 16.4min finished\n",
      "[Parallel(n_jobs=2)]: Using backend ThreadingBackend with 2 concurrent workers.\n",
      "[Parallel(n_jobs=2)]: Done  37 tasks      | elapsed:    0.0s\n",
      "[Parallel(n_jobs=2)]: Done 160 out of 160 | elapsed:    0.1s finished\n"
     ]
    },
    {
     "name": "stdout",
     "output_type": "stream",
     "text": [
      "gt 0.011686019059065935\n"
     ]
    },
    {
     "name": "stderr",
     "output_type": "stream",
     "text": [
      "[Parallel(n_jobs=2)]: Using backend ThreadingBackend with 2 concurrent workers.\n",
      "[Parallel(n_jobs=2)]: Done  37 tasks      | elapsed:    0.0s\n",
      "[Parallel(n_jobs=2)]: Done 160 out of 160 | elapsed:    0.1s finished\n"
     ]
    },
    {
     "name": "stdout",
     "output_type": "stream",
     "text": [
      "unet 0.1807926253434066\n"
     ]
    },
    {
     "name": "stderr",
     "output_type": "stream",
     "text": [
      "[Parallel(n_jobs=2)]: Using backend ThreadingBackend with 2 concurrent workers.\n"
     ]
    },
    {
     "name": "stdout",
     "output_type": "stream",
     "text": [
      "building tree 1 of 160\n",
      "building tree 2 of 160\n",
      "building tree 3 of 160\n",
      "building tree 4 of 160\n",
      "building tree 5 of 160\n",
      "building tree 6 of 160\n",
      "building tree 7 of 160\n",
      "building tree 8 of 160\n",
      "building tree 9 of 160\n",
      "building tree 10 of 160\n",
      "building tree 11 of 160\n",
      "building tree 12 of 160\n",
      "building tree 13 of 160\n",
      "building tree 14 of 160\n",
      "building tree 15 of 160\n",
      "building tree 16 of 160\n",
      "building tree 17 of 160\n",
      "building tree 18 of 160\n",
      "building tree 19 of 160\n",
      "building tree 20 of 160\n",
      "building tree 21 of 160\n",
      "building tree 22 of 160\n",
      "building tree 23 of 160\n",
      "building tree 24 of 160\n",
      "building tree 25 of 160\n",
      "building tree 26 of 160\n",
      "building tree 27 of 160\n",
      "building tree 28 of 160\n",
      "building tree 29 of 160\n",
      "building tree 30 of 160\n",
      "building tree 31 of 160\n",
      "building tree 32 of 160\n",
      "building tree 33 of 160\n",
      "building tree 34 of 160\n",
      "building tree 35 of 160\n",
      "building tree 36 of 160\n",
      "building tree 37 of 160\n",
      "building tree 38 of 160\n"
     ]
    },
    {
     "name": "stderr",
     "output_type": "stream",
     "text": [
      "[Parallel(n_jobs=2)]: Done  37 tasks      | elapsed:  3.4min\n"
     ]
    },
    {
     "name": "stdout",
     "output_type": "stream",
     "text": [
      "building tree 39 of 160\n",
      "building tree 40 of 160\n",
      "building tree 41 of 160\n",
      "building tree 42 of 160\n",
      "building tree 43 of 160\n",
      "building tree 44 of 160\n",
      "building tree 45 of 160\n",
      "building tree 46 of 160\n",
      "building tree 47 of 160\n",
      "building tree 48 of 160\n",
      "building tree 49 of 160\n",
      "building tree 50 of 160\n",
      "building tree 51 of 160\n",
      "building tree 52 of 160\n",
      "building tree 53 of 160\n",
      "building tree 54 of 160\n",
      "building tree 55 of 160\n",
      "building tree 56 of 160\n",
      "building tree 57 of 160\n",
      "building tree 58 of 160\n",
      "building tree 59 of 160\n",
      "building tree 60 of 160\n",
      "building tree 61 of 160\n",
      "building tree 62 of 160\n",
      "building tree 63 of 160\n",
      "building tree 64 of 160\n",
      "building tree 65 of 160\n",
      "building tree 66 of 160\n",
      "building tree 67 of 160\n",
      "building tree 68 of 160\n",
      "building tree 69 of 160\n",
      "building tree 70 of 160\n",
      "building tree 71 of 160\n",
      "building tree 72 of 160\n",
      "building tree 73 of 160\n",
      "building tree 74 of 160\n",
      "building tree 75 of 160\n",
      "building tree 76 of 160\n",
      "building tree 77 of 160\n",
      "building tree 78 of 160\n",
      "building tree 79 of 160\n",
      "building tree 80 of 160\n",
      "building tree 81 of 160\n",
      "building tree 82 of 160\n",
      "building tree 83 of 160\n",
      "building tree 84 of 160\n",
      "building tree 85 of 160\n",
      "building tree 86 of 160\n",
      "building tree 87 of 160\n",
      "building tree 88 of 160\n",
      "building tree 89 of 160\n",
      "building tree 90 of 160\n",
      "building tree 91 of 160\n",
      "building tree 92 of 160\n",
      "building tree 93 of 160\n",
      "building tree 94 of 160\n",
      "building tree 95 of 160\n",
      "building tree 96 of 160\n",
      "building tree 97 of 160\n",
      "building tree 98 of 160\n",
      "building tree 99 of 160\n",
      "building tree 100 of 160\n",
      "building tree 101 of 160\n",
      "building tree 102 of 160\n",
      "building tree 103 of 160\n",
      "building tree 104 of 160\n",
      "building tree 105 of 160\n",
      "building tree 106 of 160\n",
      "building tree 107 of 160\n",
      "building tree 108 of 160\n",
      "building tree 109 of 160\n",
      "building tree 110 of 160\n",
      "building tree 111 of 160\n",
      "building tree 112 of 160\n",
      "building tree 113 of 160\n",
      "building tree 114 of 160\n",
      "building tree 115 of 160\n",
      "building tree 116 of 160\n",
      "building tree 117 of 160\n",
      "building tree 118 of 160\n",
      "building tree 119 of 160\n",
      "building tree 120 of 160\n",
      "building tree 121 of 160\n",
      "building tree 122 of 160\n",
      "building tree 123 of 160\n",
      "building tree 124 of 160\n",
      "building tree 125 of 160\n",
      "building tree 126 of 160\n",
      "building tree 127 of 160\n",
      "building tree 128 of 160\n",
      "building tree 129 of 160\n",
      "building tree 130 of 160\n",
      "building tree 131 of 160\n",
      "building tree 132 of 160\n",
      "building tree 133 of 160\n",
      "building tree 134 of 160\n",
      "building tree 135 of 160\n",
      "building tree 136 of 160\n",
      "building tree 137 of 160\n",
      "building tree 138 of 160\n",
      "building tree 139 of 160\n",
      "building tree 140 of 160\n",
      "building tree 141 of 160\n",
      "building tree 142 of 160\n",
      "building tree 143 of 160\n",
      "building tree 144 of 160\n",
      "building tree 145 of 160\n",
      "building tree 146 of 160\n",
      "building tree 147 of 160\n",
      "building tree 148 of 160\n",
      "building tree 149 of 160\n",
      "building tree 150 of 160\n",
      "building tree 151 of 160\n",
      "building tree 152 of 160\n",
      "building tree 153 of 160\n",
      "building tree 154 of 160\n",
      "building tree 155 of 160\n",
      "building tree 156 of 160\n",
      "building tree 157 of 160\n",
      "building tree 158 of 160\n",
      "building tree 159 of 160\n",
      "building tree 160 of 160\n"
     ]
    },
    {
     "name": "stderr",
     "output_type": "stream",
     "text": [
      "[Parallel(n_jobs=2)]: Done 160 out of 160 | elapsed: 15.3min finished\n",
      "[Parallel(n_jobs=2)]: Using backend ThreadingBackend with 2 concurrent workers.\n",
      "[Parallel(n_jobs=2)]: Done  37 tasks      | elapsed:    0.0s\n",
      "[Parallel(n_jobs=2)]: Done 160 out of 160 | elapsed:    0.1s finished\n"
     ]
    },
    {
     "name": "stdout",
     "output_type": "stream",
     "text": [
      "gt 0.011686019059065935\n"
     ]
    },
    {
     "name": "stderr",
     "output_type": "stream",
     "text": [
      "[Parallel(n_jobs=2)]: Using backend ThreadingBackend with 2 concurrent workers.\n",
      "[Parallel(n_jobs=2)]: Done  37 tasks      | elapsed:    0.0s\n",
      "[Parallel(n_jobs=2)]: Done 160 out of 160 | elapsed:    0.1s finished\n"
     ]
    },
    {
     "name": "stdout",
     "output_type": "stream",
     "text": [
      "unet 0.1807926253434066\n"
     ]
    },
    {
     "name": "stderr",
     "output_type": "stream",
     "text": [
      "[Parallel(n_jobs=2)]: Using backend ThreadingBackend with 2 concurrent workers.\n"
     ]
    },
    {
     "name": "stdout",
     "output_type": "stream",
     "text": [
      "building tree 1 of 160\n",
      "building tree 2 of 160\n",
      "building tree 3 of 160\n",
      "building tree 4 of 160\n",
      "building tree 5 of 160\n",
      "building tree 6 of 160\n",
      "building tree 7 of 160\n",
      "building tree 8 of 160\n",
      "building tree 9 of 160\n",
      "building tree 10 of 160\n",
      "building tree 11 of 160\n",
      "building tree 12 of 160\n",
      "building tree 13 of 160\n",
      "building tree 14 of 160\n",
      "building tree 15 of 160\n",
      "building tree 16 of 160\n",
      "building tree 17 of 160\n",
      "building tree 18 of 160\n",
      "building tree 19 of 160\n",
      "building tree 20 of 160\n",
      "building tree 21 of 160\n",
      "building tree 22 of 160\n",
      "building tree 23 of 160\n",
      "building tree 24 of 160\n",
      "building tree 25 of 160\n",
      "building tree 26 of 160\n",
      "building tree 27 of 160\n",
      "building tree 28 of 160\n",
      "building tree 29 of 160\n",
      "building tree 30 of 160\n",
      "building tree 31 of 160\n",
      "building tree 32 of 160\n",
      "building tree 33 of 160\n",
      "building tree 34 of 160\n",
      "building tree 35 of 160\n",
      "building tree 36 of 160\n",
      "building tree 37 of 160\n",
      "building tree 38 of 160\n"
     ]
    },
    {
     "name": "stderr",
     "output_type": "stream",
     "text": [
      "[Parallel(n_jobs=2)]: Done  37 tasks      | elapsed:  3.3min\n"
     ]
    },
    {
     "name": "stdout",
     "output_type": "stream",
     "text": [
      "building tree 39 of 160\n",
      "building tree 40 of 160\n",
      "building tree 41 of 160\n",
      "building tree 42 of 160\n",
      "building tree 43 of 160\n",
      "building tree 44 of 160\n",
      "building tree 45 of 160\n",
      "building tree 46 of 160\n",
      "building tree 47 of 160\n",
      "building tree 48 of 160\n",
      "building tree 49 of 160\n",
      "building tree 50 of 160\n",
      "building tree 51 of 160\n",
      "building tree 52 of 160\n",
      "building tree 53 of 160\n",
      "building tree 54 of 160\n",
      "building tree 55 of 160\n",
      "building tree 56 of 160\n",
      "building tree 57 of 160\n",
      "building tree 58 of 160\n",
      "building tree 59 of 160\n",
      "building tree 60 of 160\n",
      "building tree 61 of 160\n",
      "building tree 62 of 160\n",
      "building tree 63 of 160\n",
      "building tree 64 of 160\n",
      "building tree 65 of 160\n",
      "building tree 66 of 160\n",
      "building tree 67 of 160\n",
      "building tree 68 of 160\n",
      "building tree 69 of 160\n",
      "building tree 70 of 160\n",
      "building tree 71 of 160\n",
      "building tree 72 of 160\n",
      "building tree 73 of 160\n",
      "building tree 74 of 160\n",
      "building tree 75 of 160\n",
      "building tree 76 of 160\n",
      "building tree 77 of 160\n",
      "building tree 78 of 160\n",
      "building tree 79 of 160\n",
      "building tree 80 of 160\n",
      "building tree 81 of 160\n",
      "building tree 82 of 160\n",
      "building tree 83 of 160\n",
      "building tree 84 of 160\n",
      "building tree 85 of 160\n",
      "building tree 86 of 160\n",
      "building tree 87 of 160\n",
      "building tree 88 of 160\n",
      "building tree 89 of 160\n",
      "building tree 90 of 160\n",
      "building tree 91 of 160\n",
      "building tree 92 of 160\n",
      "building tree 93 of 160\n",
      "building tree 94 of 160\n",
      "building tree 95 of 160\n",
      "building tree 96 of 160\n",
      "building tree 97 of 160\n",
      "building tree 98 of 160\n",
      "building tree 99 of 160\n",
      "building tree 100 of 160\n",
      "building tree 101 of 160\n",
      "building tree 102 of 160\n",
      "building tree 103 of 160\n",
      "building tree 104 of 160\n",
      "building tree 105 of 160\n",
      "building tree 106 of 160\n",
      "building tree 107 of 160\n",
      "building tree 108 of 160\n",
      "building tree 109 of 160\n",
      "building tree 110 of 160\n",
      "building tree 111 of 160\n",
      "building tree 112 of 160\n",
      "building tree 113 of 160\n",
      "building tree 114 of 160\n",
      "building tree 115 of 160\n",
      "building tree 116 of 160\n",
      "building tree 117 of 160\n",
      "building tree 118 of 160\n",
      "building tree 119 of 160\n",
      "building tree 120 of 160\n",
      "building tree 121 of 160\n",
      "building tree 122 of 160\n",
      "building tree 123 of 160\n",
      "building tree 124 of 160\n",
      "building tree 125 of 160\n",
      "building tree 126 of 160\n",
      "building tree 127 of 160\n",
      "building tree 128 of 160\n",
      "building tree 129 of 160\n",
      "building tree 130 of 160\n",
      "building tree 131 of 160\n",
      "building tree 132 of 160\n",
      "building tree 133 of 160\n",
      "building tree 134 of 160\n",
      "building tree 135 of 160\n",
      "building tree 136 of 160\n",
      "building tree 137 of 160\n",
      "building tree 138 of 160\n",
      "building tree 139 of 160\n",
      "building tree 140 of 160\n",
      "building tree 141 of 160\n",
      "building tree 142 of 160\n",
      "building tree 143 of 160\n",
      "building tree 144 of 160\n",
      "building tree 145 of 160\n",
      "building tree 146 of 160\n",
      "building tree 147 of 160\n",
      "building tree 148 of 160\n",
      "building tree 149 of 160\n",
      "building tree 150 of 160\n",
      "building tree 151 of 160\n",
      "building tree 152 of 160\n",
      "building tree 153 of 160\n",
      "building tree 154 of 160\n",
      "building tree 155 of 160\n",
      "building tree 156 of 160\n",
      "building tree 157 of 160\n",
      "building tree 158 of 160\n",
      "building tree 159 of 160\n",
      "building tree 160 of 160\n"
     ]
    },
    {
     "name": "stderr",
     "output_type": "stream",
     "text": [
      "[Parallel(n_jobs=2)]: Done 160 out of 160 | elapsed: 15.3min finished\n",
      "[Parallel(n_jobs=2)]: Using backend ThreadingBackend with 2 concurrent workers.\n",
      "[Parallel(n_jobs=2)]: Done  37 tasks      | elapsed:    0.0s\n",
      "[Parallel(n_jobs=2)]: Done 160 out of 160 | elapsed:    0.0s finished\n"
     ]
    },
    {
     "name": "stdout",
     "output_type": "stream",
     "text": [
      "gt 0.011686019059065935\n"
     ]
    },
    {
     "name": "stderr",
     "output_type": "stream",
     "text": [
      "[Parallel(n_jobs=2)]: Using backend ThreadingBackend with 2 concurrent workers.\n",
      "[Parallel(n_jobs=2)]: Done  37 tasks      | elapsed:    0.0s\n",
      "[Parallel(n_jobs=2)]: Done 160 out of 160 | elapsed:    0.1s finished\n"
     ]
    },
    {
     "name": "stdout",
     "output_type": "stream",
     "text": [
      "unet 0.1807926253434066\n"
     ]
    },
    {
     "name": "stderr",
     "output_type": "stream",
     "text": [
      "[Parallel(n_jobs=2)]: Using backend ThreadingBackend with 2 concurrent workers.\n"
     ]
    },
    {
     "name": "stdout",
     "output_type": "stream",
     "text": [
      "building tree 1 of 240building tree 2 of 240\n",
      "\n",
      "building tree 3 of 240\n",
      "building tree 4 of 240\n",
      "building tree 5 of 240\n",
      "building tree 6 of 240\n",
      "building tree 7 of 240\n",
      "building tree 8 of 240\n",
      "building tree 9 of 240\n",
      "building tree 10 of 240\n",
      "building tree 11 of 240\n",
      "building tree 12 of 240\n",
      "building tree 13 of 240\n",
      "building tree 14 of 240\n",
      "building tree 15 of 240\n",
      "building tree 16 of 240\n",
      "building tree 17 of 240\n",
      "building tree 18 of 240\n",
      "building tree 19 of 240\n",
      "building tree 20 of 240\n",
      "building tree 21 of 240\n",
      "building tree 22 of 240\n",
      "building tree 23 of 240\n",
      "building tree 24 of 240\n",
      "building tree 25 of 240\n",
      "building tree 26 of 240\n",
      "building tree 27 of 240\n",
      "building tree 28 of 240\n",
      "building tree 29 of 240\n",
      "building tree 30 of 240\n",
      "building tree 31 of 240\n",
      "building tree 32 of 240\n",
      "building tree 33 of 240\n",
      "building tree 34 of 240\n",
      "building tree 35 of 240\n",
      "building tree 36 of 240\n",
      "building tree 37 of 240\n",
      "building tree 38 of 240\n"
     ]
    },
    {
     "name": "stderr",
     "output_type": "stream",
     "text": [
      "[Parallel(n_jobs=2)]: Done  37 tasks      | elapsed:  3.6min\n"
     ]
    },
    {
     "name": "stdout",
     "output_type": "stream",
     "text": [
      "building tree 39 of 240\n",
      "building tree 40 of 240\n",
      "building tree 41 of 240\n",
      "building tree 42 of 240\n",
      "building tree 43 of 240\n",
      "building tree 44 of 240\n",
      "building tree 45 of 240\n",
      "building tree 46 of 240\n",
      "building tree 47 of 240\n",
      "building tree 48 of 240\n",
      "building tree 49 of 240\n",
      "building tree 50 of 240\n",
      "building tree 51 of 240\n",
      "building tree 52 of 240\n",
      "building tree 53 of 240\n",
      "building tree 54 of 240\n",
      "building tree 55 of 240\n",
      "building tree 56 of 240\n",
      "building tree 57 of 240\n",
      "building tree 58 of 240\n",
      "building tree 59 of 240\n",
      "building tree 60 of 240\n",
      "building tree 61 of 240\n",
      "building tree 62 of 240\n",
      "building tree 63 of 240\n",
      "building tree 64 of 240\n",
      "building tree 65 of 240\n",
      "building tree 66 of 240\n",
      "building tree 67 of 240\n",
      "building tree 68 of 240\n",
      "building tree 69 of 240\n",
      "building tree 70 of 240\n",
      "building tree 71 of 240\n",
      "building tree 72 of 240\n",
      "building tree 73 of 240\n",
      "building tree 74 of 240\n",
      "building tree 75 of 240\n",
      "building tree 76 of 240\n",
      "building tree 77 of 240\n",
      "building tree 78 of 240\n",
      "building tree 79 of 240\n",
      "building tree 80 of 240\n",
      "building tree 81 of 240\n",
      "building tree 82 of 240\n",
      "building tree 83 of 240\n",
      "building tree 84 of 240\n",
      "building tree 85 of 240\n",
      "building tree 86 of 240\n",
      "building tree 87 of 240\n",
      "building tree 88 of 240\n",
      "building tree 89 of 240\n",
      "building tree 90 of 240\n",
      "building tree 91 of 240\n",
      "building tree 92 of 240\n",
      "building tree 93 of 240\n",
      "building tree 94 of 240\n",
      "building tree 95 of 240\n",
      "building tree 96 of 240\n"
     ]
    }
   ],
   "source": [
    "for est in estimators:\n",
    "    for dep in depths:\n",
    "        model = None\n",
    "        model = RandomForestRegressor(random_state=42, n_estimators=est, max_depth=dep,\n",
    "                                     n_jobs=2, verbose=2)\n",
    "        model.fit(X_train, y_train)\n",
    "        pickle.dump(model, open(os.path.join(data_dir, \"trained_models\", \"RF_clean\",\n",
    "                                             \"RF\"+str(est)+\"_\"+str(dep)+\"_trained_model_clean_data.npz\"), 'wb'))\n",
    "        print(\"gt\",mean_squared_error(model.predict(X_test), y_test))\n",
    "        print(\"unet\",mean_squared_error(model.predict(X_UNet_test), y_UNet_test))\n"
   ]
  },
  {
   "cell_type": "code",
   "execution_count": null,
   "metadata": {},
   "outputs": [],
   "source": []
  }
 ],
 "metadata": {
  "kernelspec": {
   "display_name": "Python 3",
   "language": "python",
   "name": "python3"
  },
  "language_info": {
   "codemirror_mode": {
    "name": "ipython",
    "version": 3
   },
   "file_extension": ".py",
   "mimetype": "text/x-python",
   "name": "python",
   "nbconvert_exporter": "python",
   "pygments_lexer": "ipython3",
   "version": "3.6.7"
  }
 },
 "nbformat": 4,
 "nbformat_minor": 2
}
