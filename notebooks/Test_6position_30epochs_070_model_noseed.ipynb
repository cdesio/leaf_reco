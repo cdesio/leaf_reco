{
 "cells": [
  {
   "cell_type": "code",
   "execution_count": 1,
   "metadata": {},
   "outputs": [],
   "source": [
    "import os\n",
    "import numpy as np\n",
    "import matplotlib.pyplot as plt"
   ]
  },
  {
   "cell_type": "code",
   "execution_count": 2,
   "metadata": {},
   "outputs": [],
   "source": [
    "import pickle"
   ]
  },
  {
   "cell_type": "code",
   "execution_count": 22,
   "metadata": {},
   "outputs": [],
   "source": [
    "data_folder = \"/storage/yw18581/data/\"\n",
    "dataset_folder = os.path.join(data_folder, \"dataset\")"
   ]
  },
  {
   "cell_type": "code",
   "execution_count": 4,
   "metadata": {},
   "outputs": [],
   "source": [
    "src_folder = \"/storage/yw18581/src/leaf_reco/\""
   ]
  },
  {
   "cell_type": "code",
   "execution_count": 5,
   "metadata": {},
   "outputs": [],
   "source": [
    "saved_models = os.path.join(src_folder, \"saved_models\")"
   ]
  },
  {
   "cell_type": "code",
   "execution_count": 6,
   "metadata": {},
   "outputs": [
    {
     "data": {
      "text/plain": [
       "['Trained_rUNet_pytorch_6positions_dataset_5epochs_0.75coeff_mask.pkl',\n",
       " 'Trained_rUNet_pytorch_6positions_dataset_10epochs_0.75coeff_mask.pkl',\n",
       " 'Trained_rUNet_pytorch_6positions_dataset_15epochs_0.75coeff_mask.pkl',\n",
       " 'Trained_rUNet_pytorch_6positions_dataset_20epochs_0.75coeff_mask.pkl',\n",
       " 'Trained_rUNet_pytorch_6positions_dataset_25epochs_0.75coeff_mask.pkl',\n",
       " 'Trained_rUNet_pytorch_6positions_dataset_30epochs_0.75coeff_mask.pkl',\n",
       " 'history_Trained_rUNet_pytorch_30epochs_0.75coef.pkl',\n",
       " 'Trained_rUNet_pytorch_6positions_dataset_5epochs_0.7coeff_mask.pkl',\n",
       " 'Trained_rUNet_pytorch_6positions_dataset_10epochs_0.7coeff_mask.pkl',\n",
       " 'Trained_rUNet_pytorch_6positions_dataset_15epochs_0.7coeff_mask.pkl',\n",
       " 'Trained_rUNet_pytorch_6positions_dataset_20epochs_0.7coeff_mask.pkl',\n",
       " 'Trained_rUNet_pytorch_6positions_dataset_25epochs_0.7coeff_mask.pkl',\n",
       " 'Trained_rUNet_pytorch_6positions_dataset_30epochs_0.7coeff_mask.pkl',\n",
       " 'history_Trained_rUNet_pytorch_30epochs_0.7coef.pkl',\n",
       " 'Trained_rUNet_pytorch_6positions_dataset_5epochs_0.6coeff_mask.pkl',\n",
       " 'Trained_rUNet_pytorch_6positions_dataset_10epochs_0.6coeff_mask.pkl',\n",
       " 'Trained_rUNet_pytorch_6positions_dataset_15epochs_0.6coeff_mask.pkl',\n",
       " 'Trained_rUNet_pytorch_6positions_dataset_20epochs_0.6coeff_mask.pkl',\n",
       " 'Trained_rUNet_pytorch_6positions_dataset_25epochs_0.6coeff_mask.pkl',\n",
       " 'Trained_rUNet_pytorch_6positions_dataset_30epochs_0.6coeff_mask.pkl',\n",
       " 'history_Trained_rUNet_pytorch_30epochs_0.6coef.pkl',\n",
       " 'Trained_rUNet_pytorch_6positions_dataset_5epochs_0.5coeff_mask.pkl',\n",
       " 'Trained_rUNet_pytorch_6positions_dataset_10epochs_0.5coeff_mask.pkl',\n",
       " 'Trained_rUNet_pytorch_6positions_dataset_15epochs_0.5coeff_mask.pkl',\n",
       " 'Trained_rUNet_pytorch_6positions_dataset_20epochs_0.5coeff_mask.pkl',\n",
       " 'Trained_rUNet_pytorch_6positions_dataset_25epochs_0.5coeff_mask.pkl',\n",
       " 'Trained_rUNet_pytorch_6positions_dataset_30epochs_0.5coeff_mask.pkl',\n",
       " 'history_Trained_rUNet_pytorch_30epochs_0.5coef.pkl']"
      ]
     },
     "execution_count": 6,
     "metadata": {},
     "output_type": "execute_result"
    }
   ],
   "source": [
    "os.listdir(os.path.join(saved_models, \"trained_6positions\"))"
   ]
  },
  {
   "cell_type": "code",
   "execution_count": 7,
   "metadata": {},
   "outputs": [],
   "source": [
    "file = open(os.path.join(saved_models, \n",
    "                                   \"trained_6positions\",\n",
    "                                   \"history_Trained_rUNet_pytorch_30epochs_0.7coef.pkl\"),'rb')\n",
    "history = pickle.load(file)"
   ]
  },
  {
   "cell_type": "code",
   "execution_count": 8,
   "metadata": {
    "scrolled": true
   },
   "outputs": [
    {
     "data": {
      "text/plain": [
       "{'train': [46.49763241520635,\n",
       "  42.267683064496076,\n",
       "  14.848708301023752,\n",
       "  -0.5868206754050873,\n",
       "  -0.6313052436819783,\n",
       "  -0.6464647741781341,\n",
       "  -0.5958290625777509,\n",
       "  -0.64476170749576,\n",
       "  -0.645672352777587,\n",
       "  -0.6460486454544244,\n",
       "  -0.6477504471937815,\n",
       "  -0.6529093936637596,\n",
       "  -0.6468570193758717,\n",
       "  -0.6532307198202169,\n",
       "  -0.6542135372206017,\n",
       "  -0.6586453086800046,\n",
       "  -0.6565647161117306,\n",
       "  -0.658144299906713,\n",
       "  -0.6602084026844414,\n",
       "  -0.6387956752269356,\n",
       "  -0.6603403138341727,\n",
       "  -0.6610945777760612,\n",
       "  -0.6594284510722866,\n",
       "  -0.6551810067009043,\n",
       "  -0.660640614176238,\n",
       "  -0.6412220943581175,\n",
       "  -0.6602733952027781,\n",
       "  -0.6650665441045055,\n",
       "  -0.6610838014770437,\n",
       "  -0.6633563295558647],\n",
       " 'val': [41.184076379846644,\n",
       "  42.55977722450539,\n",
       "  -0.5081799019266058,\n",
       "  -0.5951115113717539,\n",
       "  -0.648827498709714,\n",
       "  -0.6226313710212708,\n",
       "  -0.629451522120723,\n",
       "  -0.6544459307635272,\n",
       "  -0.6531281018698657,\n",
       "  -0.6488880459909085,\n",
       "  -0.6587589581807455,\n",
       "  -0.6590307785405053,\n",
       "  -0.6618037190702226,\n",
       "  -0.6593857087470867,\n",
       "  -0.6616434697751645,\n",
       "  -0.6625254937896022,\n",
       "  -0.6635834607813094,\n",
       "  -0.6580568938343613,\n",
       "  -0.6609965485555155,\n",
       "  -0.6618175583857077,\n",
       "  -0.66349255155634,\n",
       "  -0.6623642279042138,\n",
       "  -0.666369084958677,\n",
       "  -0.6568151855910266,\n",
       "  -0.6650636427932315,\n",
       "  -0.6649678084585402,\n",
       "  -0.6670485933621725,\n",
       "  -0.66562334034178,\n",
       "  -0.6670428183343675,\n",
       "  -0.6642381019062467],\n",
       " 'epochs': [0,\n",
       "  1,\n",
       "  2,\n",
       "  3,\n",
       "  4,\n",
       "  5,\n",
       "  6,\n",
       "  7,\n",
       "  8,\n",
       "  9,\n",
       "  10,\n",
       "  11,\n",
       "  12,\n",
       "  13,\n",
       "  14,\n",
       "  15,\n",
       "  16,\n",
       "  17,\n",
       "  18,\n",
       "  19,\n",
       "  20,\n",
       "  21,\n",
       "  22,\n",
       "  23,\n",
       "  24,\n",
       "  25,\n",
       "  26,\n",
       "  27,\n",
       "  28,\n",
       "  29]}"
      ]
     },
     "execution_count": 8,
     "metadata": {},
     "output_type": "execute_result"
    }
   ],
   "source": [
    "history"
   ]
  },
  {
   "cell_type": "code",
   "execution_count": 11,
   "metadata": {
    "collapsed": true
   },
   "outputs": [
    {
     "data": {
      "text/plain": [
       "<matplotlib.legend.Legend at 0x7f3ff27da208>"
      ]
     },
     "execution_count": 11,
     "metadata": {},
     "output_type": "execute_result"
    },
    {
     "data": {
      "image/png": "[encoded data removed]",
      "text/plain": [
       "<Figure size 720x432 with 1 Axes>"
      ]
     },
     "metadata": {
      "needs_background": "light"
     },
     "output_type": "display_data"
    }
   ],
   "source": [
    "plt.figure(figsize=(10,6))\n",
    "plt.title(\"Training history\")\n",
    "plt.plot(history['epochs'], history['train'], c='steelblue', label='Training', )\n",
    "plt.plot(history['epochs'], history['val'], c='darkorange', label='Validation')\n",
    "plt.ylim=(0,50)\n",
    "plt.ylim = (0,30)\n",
    "plt.legend(loc='upper right')"
   ]
  },
  {
   "cell_type": "code",
   "execution_count": 13,
   "metadata": {},
   "outputs": [],
   "source": [
    "import sys\n",
    "sys.path.append('../')\n",
    "from sklearn.metrics import mean_squared_error"
   ]
  },
  {
   "cell_type": "code",
   "execution_count": 14,
   "metadata": {},
   "outputs": [],
   "source": [
    "distances =[2,4,10,20,25,35]\n"
   ]
  },
  {
   "cell_type": "code",
   "execution_count": 15,
   "metadata": {},
   "outputs": [],
   "source": [
    "from setenv import add_folders"
   ]
  },
  {
   "cell_type": "code",
   "execution_count": 16,
   "metadata": {},
   "outputs": [],
   "source": [
    "add_folders(key=\"deepthought\")"
   ]
  },
  {
   "cell_type": "code",
   "execution_count": 17,
   "metadata": {},
   "outputs": [],
   "source": [
    "from utility_functions import define_dataset, training_phase_rUNet, inference_phase_rUNet, exclude_dist, inference_phase_rUNet_plot_notebook"
   ]
  },
  {
   "cell_type": "code",
   "execution_count": 18,
   "metadata": {},
   "outputs": [],
   "source": [
    "from cUNet_pytorch_pooling import cUNet"
   ]
  },
  {
   "cell_type": "code",
   "execution_count": 19,
   "metadata": {},
   "outputs": [],
   "source": [
    "import torch"
   ]
  },
  {
   "cell_type": "code",
   "execution_count": 23,
   "metadata": {},
   "outputs": [],
   "source": [
    "excluded = exclude_dist(dist_list=distances, root_folder=dataset_folder)"
   ]
  },
  {
   "cell_type": "code",
   "execution_count": 24,
   "metadata": {
    "scrolled": true
   },
   "outputs": [
    {
     "data": {
      "text/plain": [
       "['10x10_2mm_second_clean',\n",
       " '10x10_2mm_third_clean',\n",
       " '10x10_2mm_first_clean',\n",
       " '10x10_2mm_first',\n",
       " '10x10_2mm_second',\n",
       " '10x10_2mm_third',\n",
       " '10x10_4mm_second_clean',\n",
       " '10x10_4mm_third_clean',\n",
       " '10x10_4mm_first_clean',\n",
       " '10x10_4mm_first',\n",
       " '10x10_4mm_second',\n",
       " '10x10_4mm_third',\n",
       " '10x10_10mm_second_clean',\n",
       " '10x10_10mm_third_clean',\n",
       " '10x10_10mm_first_clean',\n",
       " '10x10_10mm_first',\n",
       " '10x10_10mm_second',\n",
       " '10x10_10mm_third',\n",
       " '10x10_20mm_second_clean',\n",
       " '10x10_20mm_third_clean',\n",
       " '10x10_20mm_first_clean',\n",
       " '10x10_20mm_first',\n",
       " '10x10_20mm_second',\n",
       " '10x10_20mm_third',\n",
       " '10x10_25mm_second_clean',\n",
       " '10x10_25mm_third_clean',\n",
       " '10x10_25mm_first_clean',\n",
       " '10x10_25mm_first',\n",
       " '10x10_25mm_second',\n",
       " '10x10_25mm_third',\n",
       " '10x10_35mm_second_clean',\n",
       " '10x10_35mm_third_clean',\n",
       " '10x10_35mm_first_clean',\n",
       " '10x10_35mm_first',\n",
       " '10x10_35mm_second',\n",
       " '10x10_35mm_third']"
      ]
     },
     "execution_count": 24,
     "metadata": {},
     "output_type": "execute_result"
    }
   ],
   "source": [
    "excluded"
   ]
  },
  {
   "cell_type": "code",
   "execution_count": 25,
   "metadata": {},
   "outputs": [],
   "source": [
    "data_loaders, data_lengths= define_dataset(dataset_folder, batch_size=16, excluded_list=excluded, alldata=True)"
   ]
  },
  {
   "cell_type": "code",
   "execution_count": 26,
   "metadata": {},
   "outputs": [
    {
     "data": {
      "text/plain": [
       "3532"
      ]
     },
     "execution_count": 26,
     "metadata": {},
     "output_type": "execute_result"
    }
   ],
   "source": [
    "data_lengths"
   ]
  },
  {
   "cell_type": "code",
   "execution_count": 27,
   "metadata": {},
   "outputs": [],
   "source": [
    "fname = 'Trained_rUNet_pytorch_6positions_dataset_30epochs_0.7coeff_mask.pkl'"
   ]
  },
  {
   "cell_type": "code",
   "execution_count": 29,
   "metadata": {},
   "outputs": [
    {
     "data": {
      "application/vnd.jupyter.widget-view+json": {
       "model_id": "480e5683eec64a63ba99b4b6161b7dbf",
       "version_major": 2,
       "version_minor": 0
      },
      "text/plain": [
       "HBox(children=(IntProgress(value=0, description='Batch', max=220, style=ProgressStyle(description_width='initi…"
      ]
     },
     "metadata": {},
     "output_type": "display_data"
    },
    {
     "name": "stdout",
     "output_type": "stream",
     "text": [
      "\n"
     ]
    }
   ],
   "source": [
    "model= cUNet(out_size=1)\n",
    "model_pred = torch.load(os.path.join(saved_models, \"trained_6positions\",fname))['model_state_dict'];\n",
    "model.load_state_dict(model_pred)\n",
    "y_true, y_pred = inference_phase_rUNet(model, data_loaders, data_lengths, batch_size=16,\n",
    "                                               notebook=True, test=False)"
   ]
  },
  {
   "cell_type": "code",
   "execution_count": 30,
   "metadata": {},
   "outputs": [
    {
     "data": {
      "text/plain": [
       "array([15, 15, 15, ...,  3,  3,  3])"
      ]
     },
     "execution_count": 30,
     "metadata": {},
     "output_type": "execute_result"
    }
   ],
   "source": [
    "y_true"
   ]
  },
  {
   "cell_type": "code",
   "execution_count": 31,
   "metadata": {},
   "outputs": [
    {
     "data": {
      "text/plain": [
       "array([14.972178 , 15.12045  , 15.001039 , ...,  2.847253 ,  3.076104 ,\n",
       "        3.0780458], dtype=float32)"
      ]
     },
     "execution_count": 31,
     "metadata": {},
     "output_type": "execute_result"
    }
   ],
   "source": [
    "y_pred"
   ]
  },
  {
   "cell_type": "code",
   "execution_count": 32,
   "metadata": {},
   "outputs": [],
   "source": [
    "np.savez_compressed(\"predictions_30epochs_6positions_training_test_on_4_070.npz\",\n",
    "                   true=y_true, pred=y_pred)"
   ]
  },
  {
   "cell_type": "code",
   "execution_count": 33,
   "metadata": {},
   "outputs": [
    {
     "data": {
      "text/plain": [
       "0.07183433940545213"
      ]
     },
     "execution_count": 33,
     "metadata": {},
     "output_type": "execute_result"
    }
   ],
   "source": [
    "mean_squared_error(y_true, y_pred)"
   ]
  },
  {
   "cell_type": "code",
   "execution_count": 42,
   "metadata": {},
   "outputs": [
    {
     "data": {
      "image/png": "[encoded data removed]",
      "text/plain": [
       "<Figure size 432x288 with 1 Axes>"
      ]
     },
     "metadata": {
      "needs_background": "light"
     },
     "output_type": "display_data"
    }
   ],
   "source": [
    "plt.hist(y_true-y_pred, bins=20, edgecolor='k',color='white')\n",
    "plt.xlim=(-1,1)\n",
    "plt.show()"
   ]
  },
  {
   "cell_type": "code",
   "execution_count": 43,
   "metadata": {},
   "outputs": [],
   "source": [
    "def idx_mse(dist, true_arr = y_true, preds_arr = y_pred):\n",
    "    idx = np.where(true_arr==dist)[0]\n",
    "    mse = mean_squared_error(true_arr[idx], preds_arr[idx])\n",
    "    print(dist, mse)\n",
    "    return idx, mse "
   ]
  },
  {
   "cell_type": "code",
   "execution_count": 44,
   "metadata": {},
   "outputs": [],
   "source": [
    "dists = [1, 3, 15, 30]"
   ]
  },
  {
   "cell_type": "code",
   "execution_count": 46,
   "metadata": {},
   "outputs": [
    {
     "name": "stdout",
     "output_type": "stream",
     "text": [
      "1 0.1957058861561568\n",
      "3 0.013541681794265036\n",
      "15 0.004110707832196568\n",
      "30 0.06957474770856707\n"
     ]
    }
   ],
   "source": [
    "errors = [idx_mse(i)[1] for i in dists]"
   ]
  },
  {
   "cell_type": "code",
   "execution_count": 47,
   "metadata": {},
   "outputs": [
    {
     "name": "stdout",
     "output_type": "stream",
     "text": [
      "1 0.1957058861561568\n",
      "3 0.013541681794265036\n",
      "15 0.004110707832196568\n",
      "30 0.06957474770856707\n"
     ]
    }
   ],
   "source": [
    "idxs = [idx_mse(i)[0] for i in dists]"
   ]
  },
  {
   "cell_type": "code",
   "execution_count": 48,
   "metadata": {},
   "outputs": [],
   "source": [
    "y_1mm_true = y_true[idxs[0]]\n",
    "y_1mm_pred = y_pred[idxs[0]]"
   ]
  },
  {
   "cell_type": "code",
   "execution_count": 49,
   "metadata": {},
   "outputs": [
    {
     "data": {
      "image/png": "[encoded data removed]",
      "text/plain": [
       "<Figure size 432x288 with 1 Axes>"
      ]
     },
     "metadata": {
      "needs_background": "light"
     },
     "output_type": "display_data"
    }
   ],
   "source": [
    "plt.hist(y_1mm_true-y_1mm_pred, bins=20, edgecolor='k',color='white')\n",
    "plt.xlim=(-1,1)\n",
    "plt.show()"
   ]
  },
  {
   "cell_type": "code",
   "execution_count": 52,
   "metadata": {},
   "outputs": [],
   "source": [
    "y_3mm_true = y_true[idxs[1]]\n",
    "y_3mm_pred = y_pred[idxs[1]]"
   ]
  },
  {
   "cell_type": "code",
   "execution_count": 53,
   "metadata": {},
   "outputs": [
    {
     "data": {
      "image/png": "[encoded data removed]",
      "text/plain": [
       "<Figure size 432x288 with 1 Axes>"
      ]
     },
     "metadata": {
      "needs_background": "light"
     },
     "output_type": "display_data"
    }
   ],
   "source": [
    "plt.hist(y_3mm_true-y_3mm_pred, bins=20, edgecolor='k',color='white')\n",
    "plt.xlim=(-1,1)\n",
    "plt.show()"
   ]
  },
  {
   "cell_type": "code",
   "execution_count": 54,
   "metadata": {},
   "outputs": [
    {
     "data": {
      "image/png": "[encoded data removed]",
      "text/plain": [
       "<Figure size 432x288 with 1 Axes>"
      ]
     },
     "metadata": {
      "needs_background": "light"
     },
     "output_type": "display_data"
    }
   ],
   "source": [
    "y_15mm_true = y_true[idxs[2]]\n",
    "y_15mm_pred = y_pred[idxs[2]]\n",
    "\n",
    "plt.hist(y_15mm_true-y_15mm_pred, bins=20, edgecolor='k',color='white')\n",
    "plt.xlim=(-1,1)\n",
    "plt.show()\n"
   ]
  },
  {
   "cell_type": "code",
   "execution_count": 55,
   "metadata": {},
   "outputs": [
    {
     "data": {
      "image/png": "[encoded data removed]",
      "text/plain": [
       "<Figure size 432x288 with 1 Axes>"
      ]
     },
     "metadata": {
      "needs_background": "light"
     },
     "output_type": "display_data"
    }
   ],
   "source": [
    "y_30mm_true = y_true[idxs[3]]\n",
    "y_30mm_pred = y_pred[idxs[3]]\n",
    "\n",
    "plt.hist(y_30mm_true-y_30mm_pred, bins=20, edgecolor='k',color='white')\n",
    "plt.xlim=(-1,1)\n",
    "plt.show()"
   ]
  },
  {
   "cell_type": "code",
   "execution_count": 56,
   "metadata": {},
   "outputs": [
    {
     "data": {
      "text/plain": [
       "0.1898685414970935"
      ]
     },
     "execution_count": 56,
     "metadata": {},
     "output_type": "execute_result"
    }
   ],
   "source": [
    "np.std(y_true-y_pred)"
   ]
  },
  {
   "cell_type": "code",
   "execution_count": 58,
   "metadata": {},
   "outputs": [
    {
     "data": {
      "text/plain": [
       "0.053173726438600494"
      ]
     },
     "execution_count": 58,
     "metadata": {},
     "output_type": "execute_result"
    }
   ],
   "source": [
    "np.std(y_1mm_true-y_1mm_pred)"
   ]
  },
  {
   "cell_type": "code",
   "execution_count": 59,
   "metadata": {},
   "outputs": [
    {
     "data": {
      "text/plain": [
       "0.11310954967293244"
      ]
     },
     "execution_count": 59,
     "metadata": {},
     "output_type": "execute_result"
    }
   ],
   "source": [
    "np.std(y_3mm_true-y_3mm_pred)"
   ]
  },
  {
   "cell_type": "code",
   "execution_count": 60,
   "metadata": {},
   "outputs": [
    {
     "data": {
      "text/plain": [
       "0.05657765656015848"
      ]
     },
     "execution_count": 60,
     "metadata": {},
     "output_type": "execute_result"
    }
   ],
   "source": [
    "np.std(y_15mm_true-y_15mm_pred)"
   ]
  },
  {
   "cell_type": "code",
   "execution_count": 57,
   "metadata": {},
   "outputs": [
    {
     "data": {
      "text/plain": [
       "0.09051123932033583"
      ]
     },
     "execution_count": 57,
     "metadata": {},
     "output_type": "execute_result"
    }
   ],
   "source": [
    "np.std(y_30mm_true-y_30mm_pred)"
   ]
  },
  {
   "cell_type": "code",
   "execution_count": null,
   "metadata": {},
   "outputs": [],
   "source": []
  }
 ],
 "metadata": {
  "kernelspec": {
   "display_name": "Python 3.7 (fluffy)",
   "language": "python",
   "name": "fluffy-bunnies"
  },
  "language_info": {
   "codemirror_mode": {
    "name": "ipython",
    "version": 3
   },
   "file_extension": ".py",
   "mimetype": "text/x-python",
   "name": "python",
   "nbconvert_exporter": "python",
   "pygments_lexer": "ipython3",
   "version": "3.6.7"
  }
 },
 "nbformat": 4,
 "nbformat_minor": 2
}
