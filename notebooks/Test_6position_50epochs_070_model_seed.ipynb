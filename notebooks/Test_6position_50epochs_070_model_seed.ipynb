{
 "cells": [
  {
   "cell_type": "code",
   "execution_count": 1,
   "metadata": {},
   "outputs": [],
   "source": [
    "import os\n",
    "import numpy as np\n",
    "import matplotlib.pyplot as plt"
   ]
  },
  {
   "cell_type": "code",
   "execution_count": 2,
   "metadata": {},
   "outputs": [],
   "source": [
    "import pickle"
   ]
  },
  {
   "cell_type": "code",
   "execution_count": 3,
   "metadata": {},
   "outputs": [],
   "source": [
    "data_folder = \"/storage/yw18581/data/\"\n",
    "dataset_folder = os.path.join(data_folder, \"dataset\")"
   ]
  },
  {
   "cell_type": "code",
   "execution_count": 4,
   "metadata": {},
   "outputs": [],
   "source": [
    "src_folder = \"/storage/yw18581/src/leaf_reco/\""
   ]
  },
  {
   "cell_type": "code",
   "execution_count": 5,
   "metadata": {},
   "outputs": [],
   "source": [
    "saved_models = os.path.join(src_folder, \"saved_models\")"
   ]
  },
  {
   "cell_type": "code",
   "execution_count": 6,
   "metadata": {},
   "outputs": [
    {
     "data": {
      "text/plain": [
       "['Trained_rUNet_pytorch_6positions_dataset_5epochs_0.75coeff_mask.pkl',\n",
       " 'Trained_rUNet_pytorch_6positions_dataset_10epochs_0.75coeff_mask.pkl',\n",
       " 'Trained_rUNet_pytorch_6positions_dataset_15epochs_0.75coeff_mask.pkl',\n",
       " 'Trained_rUNet_pytorch_6positions_dataset_20epochs_0.75coeff_mask.pkl',\n",
       " 'Trained_rUNet_pytorch_6positions_dataset_25epochs_0.75coeff_mask.pkl',\n",
       " 'Trained_rUNet_pytorch_6positions_dataset_30epochs_0.75coeff_mask.pkl',\n",
       " 'Trained_rUNet_pytorch_6positions_dataset_35epochs_0.75coeff_mask.pkl',\n",
       " 'Trained_rUNet_pytorch_6positions_dataset_40epochs_0.75coeff_mask.pkl',\n",
       " 'Trained_rUNet_pytorch_6positions_dataset_45epochs_0.75coeff_mask.pkl',\n",
       " 'Trained_rUNet_pytorch_6positions_dataset_50epochs_0.75coeff_mask.pkl',\n",
       " 'history_Trained_rUNet_pytorch_50epochs_0.75coef.pkl',\n",
       " 'Trained_rUNet_pytorch_6positions_dataset_5epochs_0.7coeff_mask.pkl',\n",
       " 'Trained_rUNet_pytorch_6positions_dataset_10epochs_0.7coeff_mask.pkl',\n",
       " 'Trained_rUNet_pytorch_6positions_dataset_15epochs_0.7coeff_mask.pkl',\n",
       " 'Trained_rUNet_pytorch_6positions_dataset_20epochs_0.7coeff_mask.pkl',\n",
       " 'Trained_rUNet_pytorch_6positions_dataset_25epochs_0.7coeff_mask.pkl',\n",
       " 'Trained_rUNet_pytorch_6positions_dataset_30epochs_0.7coeff_mask.pkl',\n",
       " 'Trained_rUNet_pytorch_6positions_dataset_35epochs_0.7coeff_mask.pkl',\n",
       " 'Trained_rUNet_pytorch_6positions_dataset_40epochs_0.7coeff_mask.pkl',\n",
       " 'Trained_rUNet_pytorch_6positions_dataset_45epochs_0.7coeff_mask.pkl',\n",
       " 'Trained_rUNet_pytorch_6positions_dataset_50epochs_0.7coeff_mask.pkl',\n",
       " 'history_Trained_rUNet_pytorch_50epochs_0.7coef.pkl',\n",
       " 'Trained_rUNet_pytorch_6positions_dataset_5epochs_0.6coeff_mask.pkl',\n",
       " 'Trained_rUNet_pytorch_6positions_dataset_10epochs_0.6coeff_mask.pkl',\n",
       " 'Trained_rUNet_pytorch_6positions_dataset_15epochs_0.6coeff_mask.pkl',\n",
       " 'Trained_rUNet_pytorch_6positions_dataset_20epochs_0.6coeff_mask.pkl',\n",
       " 'Trained_rUNet_pytorch_6positions_dataset_25epochs_0.6coeff_mask.pkl',\n",
       " 'Trained_rUNet_pytorch_6positions_dataset_30epochs_0.6coeff_mask.pkl',\n",
       " 'Trained_rUNet_pytorch_6positions_dataset_35epochs_0.6coeff_mask.pkl',\n",
       " 'Trained_rUNet_pytorch_6positions_dataset_40epochs_0.6coeff_mask.pkl',\n",
       " 'Trained_rUNet_pytorch_6positions_dataset_45epochs_0.6coeff_mask.pkl',\n",
       " 'Trained_rUNet_pytorch_6positions_dataset_50epochs_0.6coeff_mask.pkl',\n",
       " 'history_Trained_rUNet_pytorch_50epochs_0.6coef.pkl',\n",
       " 'Trained_rUNet_pytorch_6positions_dataset_5epochs_0.5coeff_mask.pkl',\n",
       " 'Trained_rUNet_pytorch_6positions_dataset_10epochs_0.5coeff_mask.pkl',\n",
       " 'Trained_rUNet_pytorch_6positions_dataset_15epochs_0.5coeff_mask.pkl',\n",
       " 'Trained_rUNet_pytorch_6positions_dataset_20epochs_0.5coeff_mask.pkl',\n",
       " 'Trained_rUNet_pytorch_6positions_dataset_25epochs_0.5coeff_mask.pkl',\n",
       " 'Trained_rUNet_pytorch_6positions_dataset_30epochs_0.5coeff_mask.pkl',\n",
       " 'Trained_rUNet_pytorch_6positions_dataset_35epochs_0.5coeff_mask.pkl',\n",
       " 'Trained_rUNet_pytorch_6positions_dataset_40epochs_0.5coeff_mask.pkl',\n",
       " 'Trained_rUNet_pytorch_6positions_dataset_45epochs_0.5coeff_mask.pkl',\n",
       " 'Trained_rUNet_pytorch_6positions_dataset_50epochs_0.5coeff_mask.pkl',\n",
       " 'history_Trained_rUNet_pytorch_50epochs_0.5coef.pkl']"
      ]
     },
     "execution_count": 6,
     "metadata": {},
     "output_type": "execute_result"
    }
   ],
   "source": [
    "os.listdir(os.path.join(saved_models, \"trained_6positions\"))"
   ]
  },
  {
   "cell_type": "code",
   "execution_count": 7,
   "metadata": {},
   "outputs": [],
   "source": [
    "file = open(os.path.join(saved_models, \n",
    "                                   \"trained_6positions\",\n",
    "                                   \"history_Trained_rUNet_pytorch_50epochs_0.7coef.pkl\"),'rb')\n",
    "history = pickle.load(file)"
   ]
  },
  {
   "cell_type": "code",
   "execution_count": 8,
   "metadata": {
    "scrolled": true
   },
   "outputs": [
    {
     "data": {
      "text/plain": [
       "{'train': [47.78302051402904,\n",
       "  42.747497708709155,\n",
       "  28.63773091337471,\n",
       "  0.12814312999102254,\n",
       "  0.07009140267123089,\n",
       "  0.04783462913258484,\n",
       "  0.0328714317055764,\n",
       "  0.024989144617898598,\n",
       "  0.02201197348013348,\n",
       "  0.020263249912575162,\n",
       "  0.024359650331057817,\n",
       "  0.020751557254698128,\n",
       "  0.019031122098331927,\n",
       "  0.0268172347137739,\n",
       "  0.024324065905400656,\n",
       "  0.030401761305121774,\n",
       "  0.018275728277836203,\n",
       "  0.015369855238262701,\n",
       "  0.016165656818042475,\n",
       "  0.02309318668428912,\n",
       "  0.013374098960344714,\n",
       "  0.017926991437518695,\n",
       "  0.013433000333693431,\n",
       "  0.026285305895187235,\n",
       "  0.02216495144427797,\n",
       "  0.009605692146578804,\n",
       "  0.011766008937869358,\n",
       "  0.019081983315926563,\n",
       "  0.012758024756395672,\n",
       "  0.012831703697749483,\n",
       "  0.007894844330385913,\n",
       "  0.01811700991836713,\n",
       "  0.005720706326192831,\n",
       "  0.007878555089485383,\n",
       "  0.008055178404363149,\n",
       "  0.022216551947403112,\n",
       "  0.008247099081792705,\n",
       "  0.0066391647373233425,\n",
       "  0.007190393428269696,\n",
       "  0.02204970965774717,\n",
       "  0.0032084796058134764,\n",
       "  0.0025474762989216725,\n",
       "  0.010020187918632507,\n",
       "  0.006472338599350123,\n",
       "  0.007862836672251837,\n",
       "  0.0039830743965770425,\n",
       "  0.01270298995842933,\n",
       "  0.0030029872218114585,\n",
       "  0.010931838881434588,\n",
       "  0.009989678458320364],\n",
       " 'val': [40.20551409544768,\n",
       "  39.89762959656892,\n",
       "  0.18811659928825167,\n",
       "  0.0834244622124566,\n",
       "  0.04695319801706959,\n",
       "  0.028316161509051366,\n",
       "  0.021225739632629685,\n",
       "  0.016961627760557114,\n",
       "  0.016019738503490335,\n",
       "  0.01402130533285715,\n",
       "  0.021861600827563693,\n",
       "  0.012084645909015779,\n",
       "  0.013292505000545471,\n",
       "  0.012519358864261044,\n",
       "  0.021569678628886188,\n",
       "  0.05478338041791209,\n",
       "  0.021650527086522844,\n",
       "  0.0067192889681016955,\n",
       "  0.026682329433107818,\n",
       "  0.007575945730355603,\n",
       "  0.011436734667599754,\n",
       "  0.03775436420821481,\n",
       "  0.015161649617194026,\n",
       "  0.014421934313658211,\n",
       "  0.003872119020713769,\n",
       "  0.014031389374630871,\n",
       "  0.003256178630248609,\n",
       "  0.006735539296641946,\n",
       "  0.02924957626533729,\n",
       "  0.006053236093268626,\n",
       "  0.008385163550782535,\n",
       "  0.012004446255526057,\n",
       "  0.005878624665826835,\n",
       "  0.006291383450540404,\n",
       "  0.005880357512203908,\n",
       "  0.018452769438563672,\n",
       "  0.0017049762574498782,\n",
       "  0.002277728880505526,\n",
       "  0.0023848998728984347,\n",
       "  0.0021711785413100625,\n",
       "  0.003829335513593698,\n",
       "  0.0027001112283431684,\n",
       "  0.00281146944056403,\n",
       "  0.002875689421435473,\n",
       "  0.01185075227274663,\n",
       "  0.001168729211915181,\n",
       "  0.0012974203337863502,\n",
       "  0.0091427616102414,\n",
       "  0.0011662885846345926,\n",
       "  0.0008709622806809084],\n",
       " 'epochs': [0,\n",
       "  1,\n",
       "  2,\n",
       "  3,\n",
       "  4,\n",
       "  5,\n",
       "  6,\n",
       "  7,\n",
       "  8,\n",
       "  9,\n",
       "  10,\n",
       "  11,\n",
       "  12,\n",
       "  13,\n",
       "  14,\n",
       "  15,\n",
       "  16,\n",
       "  17,\n",
       "  18,\n",
       "  19,\n",
       "  20,\n",
       "  21,\n",
       "  22,\n",
       "  23,\n",
       "  24,\n",
       "  25,\n",
       "  26,\n",
       "  27,\n",
       "  28,\n",
       "  29,\n",
       "  30,\n",
       "  31,\n",
       "  32,\n",
       "  33,\n",
       "  34,\n",
       "  35,\n",
       "  36,\n",
       "  37,\n",
       "  38,\n",
       "  39,\n",
       "  40,\n",
       "  41,\n",
       "  42,\n",
       "  43,\n",
       "  44,\n",
       "  45,\n",
       "  46,\n",
       "  47,\n",
       "  48,\n",
       "  49]}"
      ]
     },
     "execution_count": 8,
     "metadata": {},
     "output_type": "execute_result"
    }
   ],
   "source": [
    "history"
   ]
  },
  {
   "cell_type": "code",
   "execution_count": 9,
   "metadata": {},
   "outputs": [
    {
     "data": {
      "text/plain": [
       "<matplotlib.legend.Legend at 0x7f462182cc50>"
      ]
     },
     "execution_count": 9,
     "metadata": {},
     "output_type": "execute_result"
    },
    {
     "data": {
      "image/png": "[encoded data removed]",
      "text/plain": [
       "<Figure size 720x432 with 1 Axes>"
      ]
     },
     "metadata": {
      "needs_background": "light"
     },
     "output_type": "display_data"
    }
   ],
   "source": [
    "plt.figure(figsize=(10,6))\n",
    "plt.title(\"Training history\")\n",
    "plt.plot(history['epochs'], history['train'], c='steelblue', label='Training', )\n",
    "plt.plot(history['epochs'], history['val'], c='darkorange', label='Validation')\n",
    "plt.ylim=(0,50)\n",
    "plt.ylim = (0,30)\n",
    "plt.legend(loc='upper right')"
   ]
  },
  {
   "cell_type": "code",
   "execution_count": 10,
   "metadata": {},
   "outputs": [],
   "source": [
    "import sys\n",
    "sys.path.append('../')\n",
    "from sklearn.metrics import mean_squared_error"
   ]
  },
  {
   "cell_type": "code",
   "execution_count": 11,
   "metadata": {},
   "outputs": [],
   "source": [
    "distances =[2,4,10,20,25,35]\n"
   ]
  },
  {
   "cell_type": "code",
   "execution_count": 12,
   "metadata": {},
   "outputs": [],
   "source": [
    "from setenv import add_folders"
   ]
  },
  {
   "cell_type": "code",
   "execution_count": 13,
   "metadata": {},
   "outputs": [],
   "source": [
    "add_folders(key=\"deepthought\")"
   ]
  },
  {
   "cell_type": "code",
   "execution_count": 14,
   "metadata": {},
   "outputs": [],
   "source": [
    "from utility_functions import define_dataset, training_phase_rUNet, inference_phase_rUNet, exclude_dist, inference_phase_rUNet_plot_notebook"
   ]
  },
  {
   "cell_type": "code",
   "execution_count": 15,
   "metadata": {},
   "outputs": [],
   "source": [
    "from cUNet_pytorch_pooling import cUNet"
   ]
  },
  {
   "cell_type": "code",
   "execution_count": 16,
   "metadata": {},
   "outputs": [],
   "source": [
    "import torch"
   ]
  },
  {
   "cell_type": "code",
   "execution_count": 17,
   "metadata": {},
   "outputs": [],
   "source": [
    "excluded = exclude_dist(dist_list=distances, root_folder=dataset_folder)"
   ]
  },
  {
   "cell_type": "code",
   "execution_count": 18,
   "metadata": {
    "scrolled": true
   },
   "outputs": [
    {
     "data": {
      "text/plain": [
       "['10x10_2mm_second_clean',\n",
       " '10x10_2mm_third_clean',\n",
       " '10x10_2mm_first_clean',\n",
       " '10x10_2mm_first',\n",
       " '10x10_2mm_second',\n",
       " '10x10_2mm_third',\n",
       " '10x10_4mm_second_clean',\n",
       " '10x10_4mm_third_clean',\n",
       " '10x10_4mm_first_clean',\n",
       " '10x10_4mm_first',\n",
       " '10x10_4mm_second',\n",
       " '10x10_4mm_third',\n",
       " '10x10_10mm_second_clean',\n",
       " '10x10_10mm_third_clean',\n",
       " '10x10_10mm_first_clean',\n",
       " '10x10_10mm_first',\n",
       " '10x10_10mm_second',\n",
       " '10x10_10mm_third',\n",
       " '10x10_20mm_second_clean',\n",
       " '10x10_20mm_third_clean',\n",
       " '10x10_20mm_first_clean',\n",
       " '10x10_20mm_first',\n",
       " '10x10_20mm_second',\n",
       " '10x10_20mm_third',\n",
       " '10x10_25mm_second_clean',\n",
       " '10x10_25mm_third_clean',\n",
       " '10x10_25mm_first_clean',\n",
       " '10x10_25mm_first',\n",
       " '10x10_25mm_second',\n",
       " '10x10_25mm_third',\n",
       " '10x10_35mm_second_clean',\n",
       " '10x10_35mm_third_clean',\n",
       " '10x10_35mm_first_clean',\n",
       " '10x10_35mm_first',\n",
       " '10x10_35mm_second',\n",
       " '10x10_35mm_third']"
      ]
     },
     "execution_count": 18,
     "metadata": {},
     "output_type": "execute_result"
    }
   ],
   "source": [
    "excluded"
   ]
  },
  {
   "cell_type": "code",
   "execution_count": 19,
   "metadata": {},
   "outputs": [],
   "source": [
    "data_loaders, data_lengths= define_dataset(dataset_folder, batch_size=16, excluded_list=excluded, alldata=True)"
   ]
  },
  {
   "cell_type": "code",
   "execution_count": 20,
   "metadata": {},
   "outputs": [
    {
     "data": {
      "text/plain": [
       "3532"
      ]
     },
     "execution_count": 20,
     "metadata": {},
     "output_type": "execute_result"
    }
   ],
   "source": [
    "data_lengths"
   ]
  },
  {
   "cell_type": "code",
   "execution_count": 21,
   "metadata": {},
   "outputs": [],
   "source": [
    "fname = 'Trained_rUNet_pytorch_6positions_dataset_50epochs_0.7coeff_mask.pkl'"
   ]
  },
  {
   "cell_type": "code",
   "execution_count": 22,
   "metadata": {},
   "outputs": [
    {
     "data": {
      "application/vnd.jupyter.widget-view+json": {
       "model_id": "4ed2555462d5498a932d0b20f1d7dda8",
       "version_major": 2,
       "version_minor": 0
      },
      "text/plain": [
       "HBox(children=(IntProgress(value=0, description='Batch', max=220, style=ProgressStyle(description_width='initi…"
      ]
     },
     "metadata": {},
     "output_type": "display_data"
    },
    {
     "name": "stdout",
     "output_type": "stream",
     "text": [
      "\n"
     ]
    }
   ],
   "source": [
    "model= cUNet(out_size=1)\n",
    "model_pred = torch.load(os.path.join(saved_models, \"trained_6positions\",fname))['model_state_dict'];\n",
    "model.load_state_dict(model_pred)\n",
    "y_true, y_pred = inference_phase_rUNet(model, data_loaders, data_lengths, batch_size=16,\n",
    "                                               notebook=True, test=False)"
   ]
  },
  {
   "cell_type": "code",
   "execution_count": 23,
   "metadata": {},
   "outputs": [
    {
     "data": {
      "text/plain": [
       "array([15, 15, 15, ...,  3,  3,  3])"
      ]
     },
     "execution_count": 23,
     "metadata": {},
     "output_type": "execute_result"
    }
   ],
   "source": [
    "y_true"
   ]
  },
  {
   "cell_type": "code",
   "execution_count": 24,
   "metadata": {},
   "outputs": [
    {
     "data": {
      "text/plain": [
       "array([15.206171 , 15.34209  , 15.248807 , ...,  2.8465466,  3.0842988,\n",
       "        3.0697794], dtype=float32)"
      ]
     },
     "execution_count": 24,
     "metadata": {},
     "output_type": "execute_result"
    }
   ],
   "source": [
    "y_pred"
   ]
  },
  {
   "cell_type": "code",
   "execution_count": 25,
   "metadata": {},
   "outputs": [],
   "source": [
    "np.savez_compressed(\"predictions_50epochs_6positions_training_test_on_4_070.npz\",\n",
    "                   true=y_true, pred=y_pred)"
   ]
  },
  {
   "cell_type": "code",
   "execution_count": 26,
   "metadata": {},
   "outputs": [
    {
     "data": {
      "text/plain": [
       "0.10345094621680212"
      ]
     },
     "execution_count": 26,
     "metadata": {},
     "output_type": "execute_result"
    }
   ],
   "source": [
    "mean_squared_error(y_true, y_pred)"
   ]
  },
  {
   "cell_type": "code",
   "execution_count": 47,
   "metadata": {},
   "outputs": [
    {
     "data": {
      "image/png": "[encoded data removed]",
      "text/plain": [
       "<Figure size 432x288 with 1 Axes>"
      ]
     },
     "metadata": {
      "needs_background": "light"
     },
     "output_type": "display_data"
    }
   ],
   "source": [
    "plt.hist(y_true-y_pred, bins=20, range=[-1,1], edgecolor='k',color='white')\n",
    "plt.show()"
   ]
  },
  {
   "cell_type": "code",
   "execution_count": 28,
   "metadata": {},
   "outputs": [],
   "source": [
    "def idx_mse(dist, true_arr = y_true, preds_arr = y_pred):\n",
    "    idx = np.where(true_arr==dist)[0]\n",
    "    mse = mean_squared_error(true_arr[idx], preds_arr[idx])\n",
    "    print(dist, mse)\n",
    "    return idx, mse "
   ]
  },
  {
   "cell_type": "code",
   "execution_count": 29,
   "metadata": {},
   "outputs": [],
   "source": [
    "dists = [1, 3, 15, 30]"
   ]
  },
  {
   "cell_type": "code",
   "execution_count": 30,
   "metadata": {},
   "outputs": [
    {
     "name": "stdout",
     "output_type": "stream",
     "text": [
      "1 0.2286817363045653\n",
      "3 0.014231624406264064\n",
      "15 0.0475158641323469\n",
      "30 0.11663354459834711\n"
     ]
    }
   ],
   "source": [
    "errors = [idx_mse(i)[1] for i in dists]"
   ]
  },
  {
   "cell_type": "code",
   "execution_count": 31,
   "metadata": {},
   "outputs": [
    {
     "name": "stdout",
     "output_type": "stream",
     "text": [
      "1 0.2286817363045653\n",
      "3 0.014231624406264064\n",
      "15 0.0475158641323469\n",
      "30 0.11663354459834711\n"
     ]
    }
   ],
   "source": [
    "idxs = [idx_mse(i)[0] for i in dists]"
   ]
  },
  {
   "cell_type": "code",
   "execution_count": 32,
   "metadata": {},
   "outputs": [],
   "source": [
    "y_1mm_true = y_true[idxs[0]]\n",
    "y_1mm_pred = y_pred[idxs[0]]"
   ]
  },
  {
   "cell_type": "code",
   "execution_count": 59,
   "metadata": {},
   "outputs": [],
   "source": [
    "import numpy as np\n",
    "from scipy.stats import norm\n",
    "\n",
    "def plot_histo(preds, true, xmin, xmax, nbins_fit, nbins_hist=8):\n",
    "    data = preds-true\n",
    "    mean,std=norm.fit(data)\n",
    "\n",
    "    plt.hist(data, bins=nbins_hist, density=True, facecolor='white',edgecolor =\"k\",  alpha=1, label=\"data\")\n",
    "    #xmin, xmax = plt.xlim()\n",
    "    x = np.linspace(xmin,xmax, nbins_fit)\n",
    "    y = norm.pdf(x, mean, std)\n",
    "    plt.plot(x, y, c='r', linestyle='-.', label='gaussian fit')\n",
    "    plt.xlabel('(predicted-true) leaf position [mm]')\n",
    "    plt.ylabel('Frequence')\n",
    "    plt.title(r'$\\mathrm{Resolution\\ histogram:}\\ \\mu=%.3f,\\ \\sigma=%.3f$' %(mean, std))\n",
    "    plt.legend(loc='upper right')\n",
    "    return\n",
    "\n"
   ]
  },
  {
   "cell_type": "code",
   "execution_count": 68,
   "metadata": {},
   "outputs": [
    {
     "data": {
      "image/png": "[encoded data removed]",
      "text/plain": [
       "<Figure size 432x288 with 1 Axes>"
      ]
     },
     "metadata": {
      "needs_background": "light"
     },
     "output_type": "display_data"
    }
   ],
   "source": [
    "plot_histo(y_1mm_true, y_1mm_pred, xmin=-0.75, xmax=0.3, nbins_fit=50, nbins_hist=20)"
   ]
  },
  {
   "cell_type": "code",
   "execution_count": 52,
   "metadata": {},
   "outputs": [
    {
     "data": {
      "image/png": "[encoded data removed]",
      "text/plain": [
       "<Figure size 432x288 with 1 Axes>"
      ]
     },
     "metadata": {
      "needs_background": "light"
     },
     "output_type": "display_data"
    }
   ],
   "source": [
    "plt.hist(y_1mm_true-y_1mm_pred, bins=50, range=[-1,1], edgecolor='k',color='white')\n",
    "\n",
    "plt.show()"
   ]
  },
  {
   "cell_type": "code",
   "execution_count": 34,
   "metadata": {},
   "outputs": [],
   "source": [
    "y_3mm_true = y_true[idxs[1]]\n",
    "y_3mm_pred = y_pred[idxs[1]]"
   ]
  },
  {
   "cell_type": "code",
   "execution_count": 53,
   "metadata": {},
   "outputs": [
    {
     "data": {
      "image/png": "[encoded data removed]",
      "text/plain": [
       "<Figure size 432x288 with 1 Axes>"
      ]
     },
     "metadata": {
      "needs_background": "light"
     },
     "output_type": "display_data"
    }
   ],
   "source": [
    "plt.hist(y_3mm_true-y_3mm_pred, bins=50, range=[-1,1], edgecolor='k',color='white')\n",
    "\n",
    "plt.show()"
   ]
  },
  {
   "cell_type": "code",
   "execution_count": 71,
   "metadata": {},
   "outputs": [
    {
     "data": {
      "image/png": "[encoded data removed]",
      "text/plain": [
       "<Figure size 432x288 with 1 Axes>"
      ]
     },
     "metadata": {
      "needs_background": "light"
     },
     "output_type": "display_data"
    }
   ],
   "source": [
    "plot_histo(y_3mm_true, y_3mm_pred, xmin=-0.6, xmax=0.6, nbins_fit=50, nbins_hist=30)"
   ]
  },
  {
   "cell_type": "code",
   "execution_count": 58,
   "metadata": {},
   "outputs": [
    {
     "data": {
      "image/png": "[encoded data removed]",
      "text/plain": [
       "<Figure size 432x288 with 1 Axes>"
      ]
     },
     "metadata": {
      "needs_background": "light"
     },
     "output_type": "display_data"
    }
   ],
   "source": [
    "y_15mm_true = y_true[idxs[2]]\n",
    "y_15mm_pred = y_pred[idxs[2]]\n",
    "\n",
    "plt.figure()\n",
    "plt.hist(y_15mm_true-y_15mm_pred, bins=50, range=[-1,1],facecolor='red')\n",
    "\n",
    "plt.show()\n"
   ]
  },
  {
   "cell_type": "code",
   "execution_count": 73,
   "metadata": {},
   "outputs": [
    {
     "data": {
      "image/png": "[encoded data removed]",
      "text/plain": [
       "<Figure size 432x288 with 1 Axes>"
      ]
     },
     "metadata": {
      "needs_background": "light"
     },
     "output_type": "display_data"
    }
   ],
   "source": [
    "plot_histo(y_15mm_true, y_15mm_pred, xmin=-0.6, xmax=0.6, nbins_fit=50, nbins_hist=20)"
   ]
  },
  {
   "cell_type": "code",
   "execution_count": 55,
   "metadata": {},
   "outputs": [
    {
     "data": {
      "image/png": "[encoded data removed]",
      "text/plain": [
       "<Figure size 432x288 with 1 Axes>"
      ]
     },
     "metadata": {
      "needs_background": "light"
     },
     "output_type": "display_data"
    }
   ],
   "source": [
    "y_30mm_true = y_true[idxs[3]]\n",
    "y_30mm_pred = y_pred[idxs[3]]\n",
    "\n",
    "plt.hist(y_30mm_true-y_30mm_pred, bins=50, range=[-1,1], edgecolor='k',color='white')\n",
    "plt.show()"
   ]
  },
  {
   "cell_type": "code",
   "execution_count": 76,
   "metadata": {},
   "outputs": [
    {
     "data": {
      "image/png": "[encoded data removed]",
      "text/plain": [
       "<Figure size 432x288 with 1 Axes>"
      ]
     },
     "metadata": {
      "needs_background": "light"
     },
     "output_type": "display_data"
    }
   ],
   "source": [
    "plot_histo(y_30mm_true, y_30mm_pred, xmin=-0.75, xmax=0.75, nbins_fit=50, nbins_hist=20)"
   ]
  },
  {
   "cell_type": "code",
   "execution_count": 38,
   "metadata": {},
   "outputs": [
    {
     "data": {
      "text/plain": [
       "0.18194982243220073"
      ]
     },
     "execution_count": 38,
     "metadata": {},
     "output_type": "execute_result"
    }
   ],
   "source": [
    "np.std(y_true-y_pred)"
   ]
  },
  {
   "cell_type": "code",
   "execution_count": 39,
   "metadata": {},
   "outputs": [
    {
     "data": {
      "text/plain": [
       "0.047504894768066144"
      ]
     },
     "execution_count": 39,
     "metadata": {},
     "output_type": "execute_result"
    }
   ],
   "source": [
    "np.std(y_1mm_true-y_1mm_pred)"
   ]
  },
  {
   "cell_type": "code",
   "execution_count": 40,
   "metadata": {},
   "outputs": [
    {
     "data": {
      "text/plain": [
       "0.11668455088446954"
      ]
     },
     "execution_count": 40,
     "metadata": {},
     "output_type": "execute_result"
    }
   ],
   "source": [
    "np.std(y_3mm_true-y_3mm_pred)"
   ]
  },
  {
   "cell_type": "code",
   "execution_count": 41,
   "metadata": {},
   "outputs": [
    {
     "data": {
      "text/plain": [
       "0.057008772835271254"
      ]
     },
     "execution_count": 41,
     "metadata": {},
     "output_type": "execute_result"
    }
   ],
   "source": [
    "np.std(y_15mm_true-y_15mm_pred)"
   ]
  },
  {
   "cell_type": "code",
   "execution_count": 42,
   "metadata": {},
   "outputs": [
    {
     "data": {
      "text/plain": [
       "0.08137059372873023"
      ]
     },
     "execution_count": 42,
     "metadata": {},
     "output_type": "execute_result"
    }
   ],
   "source": [
    "np.std(y_30mm_true-y_30mm_pred)"
   ]
  },
  {
   "cell_type": "code",
   "execution_count": null,
   "metadata": {},
   "outputs": [],
   "source": []
  }
 ],
 "metadata": {
  "kernelspec": {
   "display_name": "Python 3.7 (fluffy)",
   "language": "python",
   "name": "fluffy-bunnies"
  },
  "language_info": {
   "codemirror_mode": {
    "name": "ipython",
    "version": 3
   },
   "file_extension": ".py",
   "mimetype": "text/x-python",
   "name": "python",
   "nbconvert_exporter": "python",
   "pygments_lexer": "ipython3",
   "version": "3.6.7"
  }
 },
 "nbformat": 4,
 "nbformat_minor": 2
}
