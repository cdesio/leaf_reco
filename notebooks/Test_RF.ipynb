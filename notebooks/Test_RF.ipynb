{
 "cells": [
  {
   "cell_type": "code",
   "execution_count": 27,
   "metadata": {},
   "outputs": [],
   "source": [
    "import numpy as np\n",
    "from sklearn.externals import joblib\n",
    "from sklearn.ensemble import RandomForestRegressor\n",
    "import os\n",
    "from sklearn.metrics import mean_squared_error"
   ]
  },
  {
   "cell_type": "markdown",
   "metadata": {},
   "source": [
    "#### define directories and load data "
   ]
  },
  {
   "cell_type": "code",
   "execution_count": 28,
   "metadata": {},
   "outputs": [],
   "source": [
    "data_dir = '/storage/yw18581/data/'\n",
    "data_folder = os.path.join(data_dir, 'train_validation_test')"
   ]
  },
  {
   "cell_type": "code",
   "execution_count": 29,
   "metadata": {},
   "outputs": [],
   "source": [
    "X_train = np.load(os.path.join(data_folder, 'Xy_train_dist.npz'))[\"y\"]\n",
    "y_train = np.load(os.path.join(data_folder, 'Xy_train_dist.npz'))[\"dist\"]\n"
   ]
  },
  {
   "cell_type": "code",
   "execution_count": 30,
   "metadata": {},
   "outputs": [],
   "source": [
    "X_val = np.load(os.path.join(data_folder,'Xy_val_dist.npz'))[\"y\"]\n",
    "y_val = np.load(os.path.join(data_folder, 'Xy_val_dist.npz'))[\"dist\"]"
   ]
  },
  {
   "cell_type": "code",
   "execution_count": 31,
   "metadata": {},
   "outputs": [],
   "source": [
    "X_test = np.load(os.path.join(data_folder, 'Xy_test_dist.npz'))[\"y\"]\n",
    "y_test = np.load(os.path.join(data_folder, 'Xy_test_dist.npz'))[\"dist\"]"
   ]
  },
  {
   "cell_type": "code",
   "execution_count": 32,
   "metadata": {},
   "outputs": [],
   "source": [
    "X_test_5classes = np.load(os.path.join(data_folder, \"Xy_test_strat_dist_5classes.npz\"))[\"y\"]\n",
    "y_test_5classes = np.load(os.path.join(data_folder, \"Xy_test_strat_dist_5classes.npz\"))[\"dist\"]"
   ]
  },
  {
   "cell_type": "code",
   "execution_count": 33,
   "metadata": {},
   "outputs": [],
   "source": [
    "X_15mm = np.load(os.path.join(data_folder, \"Xy_15mm.npz\"))[\"y\"]\n",
    "y_15mm = np.load(os.path.join(data_folder, \"Xy_15mm.npz\"))[\"dist\"]"
   ]
  },
  {
   "cell_type": "markdown",
   "metadata": {},
   "source": [
    "#### reshape data for Random Forest"
   ]
  },
  {
   "cell_type": "code",
   "execution_count": 34,
   "metadata": {},
   "outputs": [],
   "source": [
    "def cut_X(arr, reshape = None):\n",
    "    x_cut = arr[:,960:1300,600:]\n",
    "    if reshape:\n",
    "        if len(x_cut.shape)>3:\n",
    "            x_cut = x_cut[...,0]\n",
    "            x_cut_out = x_cut.reshape(x_cut.shape[0],x_cut.shape[1]*x_cut.shape[2])\n",
    "    else:\n",
    "        x_cut_out = x_cut\n",
    "    return x_cut_out\n",
    "\n",
    "def reshape_RF(arr):\n",
    "    arr_RF = arr.reshape((arr.shape[0], arr.shape[1]*arr.shape[2]))\n",
    "    return arr_RF"
   ]
  },
  {
   "cell_type": "code",
   "execution_count": 35,
   "metadata": {},
   "outputs": [],
   "source": [
    "X_train_cut = cut_X(X_train)\n",
    "X_val_cut = cut_X(X_val)\n",
    "X_test_cut = cut_X(X_test)\n",
    "X_15mm_cut = cut_X(X_15mm)\n",
    "X_train_RF = reshape_RF(X_train_cut)\n",
    "X_val_RF = reshape_RF(X_val_cut)\n",
    "X_test_RF = reshape_RF(X_test_cut)\n",
    "X_15mm_RF  = reshape_RF(X_15mm_cut)"
   ]
  },
  {
   "cell_type": "markdown",
   "metadata": {},
   "source": [
    "### get all the trained models"
   ]
  },
  {
   "cell_type": "code",
   "execution_count": 36,
   "metadata": {},
   "outputs": [],
   "source": [
    "w = os.walk(os.path.join(data_dir, \"trained_models\", \"Leaf_position_regression\")) "
   ]
  },
  {
   "cell_type": "code",
   "execution_count": 37,
   "metadata": {},
   "outputs": [],
   "source": [
    "folder, _, files = next(w)"
   ]
  },
  {
   "cell_type": "code",
   "execution_count": 38,
   "metadata": {},
   "outputs": [
    {
     "data": {
      "text/plain": [
       "'/storage/yw18581/data/trained_models/Leaf_position_regression'"
      ]
     },
     "execution_count": 38,
     "metadata": {},
     "output_type": "execute_result"
    }
   ],
   "source": [
    "folder"
   ]
  },
  {
   "cell_type": "code",
   "execution_count": 39,
   "metadata": {},
   "outputs": [],
   "source": [
    "files = [f for f in files if f.endswith(\"pkl\")]"
   ]
  },
  {
   "cell_type": "code",
   "execution_count": 40,
   "metadata": {},
   "outputs": [],
   "source": [
    "import re\n",
    "regex = re.compile(r'\\d+')"
   ]
  },
  {
   "cell_type": "markdown",
   "metadata": {},
   "source": [
    "#### test trained models and save errors on \"known\" dataset and \"larger\" dataset (with unseen positions)"
   ]
  },
  {
   "cell_type": "code",
   "execution_count": 41,
   "metadata": {},
   "outputs": [],
   "source": [
    "def test_models(filepath, X_test, y_test, X_test5cl, y_test5cl):\n",
    "    model = None\n",
    "    model = joblib.load(filepath)\n",
    "    preds1 = model.predict(X_test)\n",
    "    mse_test = mean_squared_error(y_test, preds1)\n",
    "    preds2 = model.predict(X_test5cl)\n",
    "    mse_gener = mean_squared_error(y_test5cl, preds2)\n",
    "    return mse_test, mse_gener"
   ]
  },
  {
   "cell_type": "code",
   "execution_count": 41,
   "metadata": {},
   "outputs": [
    {
     "name": "stdout",
     "output_type": "stream",
     "text": [
      "leaf_regression_RF1.pkl mse_test:0.02508041666666664, mse_gener:1.4996690000000001\n",
      "leaf_regression_RF_10est_10depth.pkl mse_test:0.048333333333333325, mse_gener:0.3218333333333333\n",
      "leaf_regression_RF_100est_10depth.pkl mse_test:0.034307083333333356, mse_gener:0.20514233333333323\n",
      "leaf_regression_RF_2est_1depth.pkl mse_test:9.567999834353172, mse_gener:7.264516029924289\n",
      "leaf_regression_RF_4est_1depth.pkl mse_test:8.875402049696868, mse_gener:7.746837274953902\n",
      "leaf_regression_RF_6est_1depth.pkl mse_test:8.804845209371004, mse_gener:8.879942449975731\n",
      "leaf_regression_RF_8est_1depth.pkl mse_test:8.784048139338596, mse_gener:7.763011693048217\n",
      "leaf_regression_RF_10est_1depth.pkl mse_test:8.849209023844006, mse_gener:19.317708840871333\n",
      "leaf_regression_RF_12est_1depth.pkl mse_test:8.859799350454784, mse_gener:12.788793598167004\n",
      "leaf_regression_RF_14est_1depth.pkl mse_test:8.820101813352535, mse_gener:7.968204366907518\n",
      "leaf_regression_RF_16est_1depth.pkl mse_test:8.796274449919023, mse_gener:9.109050349829694\n",
      "leaf_regression_RF_18est_1depth.pkl mse_test:8.803269072468593, mse_gener:7.3854721289281136\n",
      "leaf_regression_RF_20est_1depth.pkl mse_test:8.778559731880568, mse_gener:8.628758127482302\n",
      "leaf_regression_RF_22est_1depth.pkl mse_test:8.828596055290188, mse_gener:7.547783284517919\n",
      "leaf_regression_RF_24est_1depth.pkl mse_test:8.797550664127979, mse_gener:7.261706040692834\n",
      "leaf_regression_RF_26est_1depth.pkl mse_test:8.775292219622425, mse_gener:7.589587126239444\n",
      "leaf_regression_RF_28est_1depth.pkl mse_test:8.80583714698134, mse_gener:7.48996337135094\n",
      "leaf_regression_RF_30est_1depth.pkl mse_test:8.791426416884551, mse_gener:8.292075634566173\n",
      "leaf_regression_RF_32est_1depth.pkl mse_test:8.79503892685061, mse_gener:7.559046190861306\n",
      "leaf_regression_RF_34est_1depth.pkl mse_test:8.776178303440002, mse_gener:7.288591879994022\n",
      "leaf_regression_RF_36est_1depth.pkl mse_test:8.844938481169923, mse_gener:7.456619989083205\n",
      "leaf_regression_RF_38est_1depth.pkl mse_test:8.789896968999445, mse_gener:7.521671123153549\n",
      "leaf_regression_RF_40est_1depth.pkl mse_test:8.792722390790077, mse_gener:7.2943192843056535\n",
      "leaf_regression_RF_42est_1depth.pkl mse_test:8.776477271034615, mse_gener:7.373507385309058\n",
      "leaf_regression_RF_44est_1depth.pkl mse_test:8.776023105786775, mse_gener:7.548641875379743\n",
      "leaf_regression_RF_46est_1depth.pkl mse_test:8.79785921164989, mse_gener:7.064429889494468\n",
      "leaf_regression_RF_48est_1depth.pkl mse_test:8.788045447367358, mse_gener:7.123962572004712\n",
      "leaf_regression_RF_50est_1depth.pkl mse_test:8.807396804956973, mse_gener:7.4868553513234275\n",
      "leaf_regression_RF_52est_1depth.pkl mse_test:8.802683104095225, mse_gener:7.17757331103105\n",
      "leaf_regression_RF_54est_1depth.pkl mse_test:8.785363068326374, mse_gener:7.530096738815476\n",
      "leaf_regression_RF_56est_1depth.pkl mse_test:8.801252330247719, mse_gener:7.284640222200471\n",
      "leaf_regression_RF_58est_1depth.pkl mse_test:8.799997235166883, mse_gener:7.6732929275771316\n",
      "leaf_regression_RF_60est_1depth.pkl mse_test:8.775709277355862, mse_gener:7.366705785266175\n",
      "leaf_regression_RF_62est_1depth.pkl mse_test:8.768007986883932, mse_gener:8.408438196178182\n",
      "leaf_regression_RF_64est_1depth.pkl mse_test:8.797511289613483, mse_gener:7.23043219173373\n",
      "leaf_regression_RF_66est_1depth.pkl mse_test:8.78315825174099, mse_gener:7.362499385784353\n",
      "leaf_regression_RF_68est_1depth.pkl mse_test:8.785404199350394, mse_gener:7.609739193365267\n",
      "leaf_regression_RF_70est_1depth.pkl mse_test:8.770095504783184, mse_gener:7.217072576606117\n",
      "leaf_regression_RF_72est_1depth.pkl mse_test:8.780664711916788, mse_gener:7.507437724279249\n",
      "leaf_regression_RF_2est_2depth.pkl mse_test:0.896588090543134, mse_gener:1.9825091929241185\n",
      "leaf_regression_RF_4est_2depth.pkl mse_test:0.6639885020352722, mse_gener:1.4207243240837113\n",
      "leaf_regression_RF_6est_2depth.pkl mse_test:0.5780058523275933, mse_gener:0.50161071751471\n",
      "leaf_regression_RF_8est_2depth.pkl mse_test:0.6614117174102839, mse_gener:5.992964298148813\n",
      "leaf_regression_RF_10est_2depth.pkl mse_test:0.5501284359691933, mse_gener:8.279519005961532\n",
      "leaf_regression_RF_12est_2depth.pkl mse_test:0.5524869315900183, mse_gener:2.380114352675425\n",
      "leaf_regression_RF_14est_2depth.pkl mse_test:0.5804091502862985, mse_gener:4.7607979933725355\n",
      "leaf_regression_RF_16est_2depth.pkl mse_test:0.598207946285959, mse_gener:0.7264791121998619\n",
      "leaf_regression_RF_18est_2depth.pkl mse_test:0.526290790643757, mse_gener:0.7415566133301495\n",
      "leaf_regression_RF_20est_2depth.pkl mse_test:0.5361490387257634, mse_gener:1.5060975808742656\n",
      "leaf_regression_RF_22est_2depth.pkl mse_test:0.5799151103160177, mse_gener:0.7499423935510848\n",
      "leaf_regression_RF_24est_2depth.pkl mse_test:0.5353224084930495, mse_gener:2.528615879314659\n",
      "leaf_regression_RF_26est_2depth.pkl mse_test:0.5522219802559748, mse_gener:0.9752196680440259\n",
      "leaf_regression_RF_28est_2depth.pkl mse_test:0.5393650068848191, mse_gener:3.793061507532786\n",
      "leaf_regression_RF_30est_2depth.pkl mse_test:0.5548704786576971, mse_gener:1.5314449914141646\n",
      "leaf_regression_RF_32est_2depth.pkl mse_test:0.5398926881410373, mse_gener:1.0311027298586435\n",
      "leaf_regression_RF_34est_2depth.pkl mse_test:0.5374103100410856, mse_gener:0.6528490487651241\n",
      "leaf_regression_RF_36est_2depth.pkl mse_test:0.5360179849024026, mse_gener:0.6377329057848089\n",
      "leaf_regression_RF_38est_2depth.pkl mse_test:0.5293553357810388, mse_gener:2.461788488259102\n",
      "leaf_regression_RF_40est_2depth.pkl mse_test:0.5324329053898896, mse_gener:2.1698593108833113\n",
      "leaf_regression_RF_42est_2depth.pkl mse_test:0.5519294058456251, mse_gener:1.0487314884434737\n",
      "leaf_regression_RF_44est_2depth.pkl mse_test:0.5402650923183823, mse_gener:2.001753982136111\n",
      "leaf_regression_RF_46est_2depth.pkl mse_test:0.534515954103838, mse_gener:1.223415610688573\n",
      "leaf_regression_RF_48est_2depth.pkl mse_test:0.5281525122595001, mse_gener:1.5162400070836126\n",
      "leaf_regression_RF_50est_2depth.pkl mse_test:0.5333515456292031, mse_gener:3.689305070109082\n",
      "leaf_regression_RF_52est_2depth.pkl mse_test:0.5358554936696062, mse_gener:0.825945026699462\n",
      "leaf_regression_RF_54est_2depth.pkl mse_test:0.5268389732627332, mse_gener:1.0413349235816711\n",
      "leaf_regression_RF_56est_2depth.pkl mse_test:0.526433768193081, mse_gener:1.2731322212374039\n",
      "leaf_regression_RF_58est_2depth.pkl mse_test:0.5233867479583629, mse_gener:0.5393290349988527\n",
      "leaf_regression_RF_60est_2depth.pkl mse_test:0.5397973599894397, mse_gener:1.8891625867313768\n",
      "leaf_regression_RF_62est_2depth.pkl mse_test:0.5356944456992867, mse_gener:0.7846484842606045\n",
      "leaf_regression_RF_64est_2depth.pkl mse_test:0.5403302537247964, mse_gener:0.8057658368695041\n",
      "leaf_regression_RF_66est_2depth.pkl mse_test:0.5400678336278096, mse_gener:0.6015268237708296\n",
      "leaf_regression_RF_68est_2depth.pkl mse_test:0.5421279309060246, mse_gener:0.5169426091638268\n",
      "leaf_regression_RF_70est_2depth.pkl mse_test:0.5375724796922909, mse_gener:1.3892594952959743\n",
      "leaf_regression_RF_72est_2depth.pkl mse_test:0.5282045656391552, mse_gener:1.2468105305742487\n",
      "leaf_regression_RF_74est_2depth.pkl mse_test:0.5522789576993868, mse_gener:0.6492304980909118\n",
      "leaf_regression_RF_76est_2depth.pkl mse_test:0.5411634530624524, mse_gener:0.9085234657208755\n",
      "leaf_regression_RF_78est_2depth.pkl mse_test:0.5538206979040761, mse_gener:1.7382722211168788\n",
      "leaf_regression_RF_80est_2depth.pkl mse_test:0.5408555519674267, mse_gener:1.1748198019916003\n",
      "leaf_regression_RF_82est_2depth.pkl mse_test:0.529482510436332, mse_gener:0.9681786592521668\n",
      "leaf_regression_RF_84est_2depth.pkl mse_test:0.5353474025712709, mse_gener:1.109787752421979\n",
      "leaf_regression_RF_86est_2depth.pkl mse_test:0.5321578893573231, mse_gener:0.5006850451420132\n",
      "leaf_regression_RF_88est_2depth.pkl mse_test:0.5359409292965819, mse_gener:0.6502462509292276\n",
      "leaf_regression_RF_90est_2depth.pkl mse_test:0.534856939302546, mse_gener:0.7998564316589549\n",
      "leaf_regression_RF_92est_2depth.pkl mse_test:0.5291760036939809, mse_gener:1.7668428650401915\n",
      "leaf_regression_RF_94est_2depth.pkl mse_test:0.5361265200785095, mse_gener:0.9242312715238938\n",
      "leaf_regression_RF_96est_2depth.pkl mse_test:0.5335401802854556, mse_gener:1.411240814040133\n",
      "leaf_regression_RF_98est_2depth.pkl mse_test:0.5329289856552774, mse_gener:1.1850329331171323\n",
      "leaf_regression_RF_100est_2depth.pkl mse_test:0.5271162158552657, mse_gener:1.0308882532395758\n",
      "leaf_regression_RF_2est_3depth.pkl mse_test:0.05, mse_gener:1.6316666666666666\n",
      "leaf_regression_RF_4est_3depth.pkl mse_test:0.08151041666666667, mse_gener:4.420208333333333\n",
      "leaf_regression_RF_6est_3depth.pkl mse_test:0.05428240740740742, mse_gener:3.824722222222222\n",
      "leaf_regression_RF_8est_3depth.pkl mse_test:0.04778645833333333, mse_gener:1.6594791666666666\n",
      "leaf_regression_RF_10est_3depth.pkl mse_test:0.06333333333333332, mse_gener:1.9160333333333335\n",
      "leaf_regression_RF_12est_3depth.pkl mse_test:0.08967013888888889, mse_gener:0.11458333333333333\n",
      "leaf_regression_RF_14est_3depth.pkl mse_test:0.04032738095238095, mse_gener:0.31858843537414927\n",
      "leaf_regression_RF_16est_3depth.pkl mse_test:0.05782877604166667, mse_gener:0.23154947916666666\n",
      "leaf_regression_RF_18est_3depth.pkl mse_test:0.040136316872427955, mse_gener:0.20292181069958853\n",
      "leaf_regression_RF_20est_3depth.pkl mse_test:0.04344791666666667, mse_gener:1.133675\n",
      "leaf_regression_RF_22est_3depth.pkl mse_test:0.03636363636363642, mse_gener:1.2846349862258954\n",
      "leaf_regression_RF_24est_3depth.pkl mse_test:0.020052083333333335, mse_gener:0.5100289351851851\n",
      "leaf_regression_RF_26est_3depth.pkl mse_test:0.031632149901380635, mse_gener:6.49233234714004\n",
      "leaf_regression_RF_28est_3depth.pkl mse_test:0.05338010204081635, mse_gener:0.5134226190476189\n",
      "leaf_regression_RF_30est_3depth.pkl mse_test:0.037037037037037056, mse_gener:1.0057925925925926\n",
      "leaf_regression_RF_32est_3depth.pkl mse_test:0.041829427083333336, mse_gener:6.063727213541667\n",
      "leaf_regression_RF_34est_3depth.pkl mse_test:0.030846309111880067, mse_gener:5.61666089965398\n",
      "leaf_regression_RF_36est_3depth.pkl mse_test:0.05600565843621398, mse_gener:0.33387860082304516\n",
      "leaf_regression_RF_38est_3depth.pkl mse_test:0.037950138504155156, mse_gener:0.12780932594644498\n",
      "leaf_regression_RF_40est_3depth.pkl mse_test:0.03318229166666667, mse_gener:0.6773125000000001\n",
      "leaf_regression_RF_42est_3depth.pkl mse_test:0.036774848828420276, mse_gener:1.0080763416477703\n",
      "leaf_regression_RF_44est_3depth.pkl mse_test:0.025574638429752074, mse_gener:0.3279235537190082\n",
      "leaf_regression_RF_46est_3depth.pkl mse_test:0.01786389413988655, mse_gener:0.5888106490233148\n",
      "leaf_regression_RF_48est_3depth.pkl mse_test:0.03300962094907408, mse_gener:3.6700405092592594\n",
      "leaf_regression_RF_50est_3depth.pkl mse_test:0.020308333333333352, mse_gener:1.1446080000000003\n",
      "leaf_regression_RF_52est_3depth.pkl mse_test:0.02577662721893493, mse_gener:0.8832914201183429\n",
      "leaf_regression_RF_54est_3depth.pkl mse_test:0.01845136031092822, mse_gener:0.43085162322816645\n",
      "leaf_regression_RF_56est_3depth.pkl mse_test:0.028247236394557795, mse_gener:0.4115295493197279\n",
      "leaf_regression_RF_58est_3depth.pkl mse_test:0.02344555093143082, mse_gener:3.1274246928260006\n",
      "leaf_regression_RF_60est_3depth.pkl mse_test:0.022032407407407407, mse_gener:0.869625\n",
      "leaf_regression_RF_62est_3depth.pkl mse_test:0.028353711411723916, mse_gener:1.8951612903225812\n",
      "leaf_regression_RF_64est_3depth.pkl mse_test:0.0268768310546875, mse_gener:0.5311083984375\n",
      "leaf_regression_RF_66est_3depth.pkl mse_test:0.025070783593510847, mse_gener:0.368800122436486\n",
      "leaf_regression_RF_68est_3depth.pkl mse_test:0.03120945069204151, mse_gener:0.6592380334486737\n",
      "leaf_regression_RF_70est_3depth.pkl mse_test:0.029418367346938777, mse_gener:2.143769387755102\n",
      "leaf_regression_RF_72est_3depth.pkl mse_test:0.027592914094650187, mse_gener:0.0796823559670782\n",
      "leaf_regression_RF_74est_3depth.pkl mse_test:0.02295318967616266, mse_gener:1.1428682736790847\n",
      "leaf_regression_RF_76est_3depth.pkl mse_test:0.03523199445983382, mse_gener:0.2613186749769158\n",
      "leaf_regression_RF_78est_3depth.pkl mse_test:0.024569225290379134, mse_gener:0.9150860179706333\n",
      "leaf_regression_RF_80est_3depth.pkl mse_test:0.032048177083333323, mse_gener:1.1707958333333333\n",
      "leaf_regression_RF_82est_3depth.pkl mse_test:0.031194849296053945, mse_gener:0.5086922466785645\n",
      "leaf_regression_RF_84est_3depth.pkl mse_test:0.02834171863189718, mse_gener:0.3908427815570671\n",
      "leaf_regression_RF_86est_3depth.pkl mse_test:0.023141450333513593, mse_gener:0.20154993690283043\n",
      "leaf_regression_RF_88est_3depth.pkl mse_test:0.024524900998622583, mse_gener:1.6123041494490356\n",
      "leaf_regression_RF_90est_3depth.pkl mse_test:0.01858847736625514, mse_gener:1.7797711934156377\n",
      "leaf_regression_RF_92est_3depth.pkl mse_test:0.03375620274102077, mse_gener:1.7905694706994324\n",
      "leaf_regression_RF_94est_3depth.pkl mse_test:0.025441376188320493, mse_gener:0.47286743624566174\n",
      "leaf_regression_RF_96est_3depth.pkl mse_test:0.03510923032407408, mse_gener:0.4123513454861111\n",
      "leaf_regression_RF_98est_3depth.pkl mse_test:0.02367503123698463, mse_gener:0.42391468832430934\n",
      "leaf_regression_RF_100est_3depth.pkl mse_test:0.024188750000000002, mse_gener:0.598641\n",
      "leaf_regression_RF_2est_4depth.pkl mse_test:0.3177083333333333, mse_gener:17.503333333333334\n",
      "leaf_regression_RF_4est_4depth.pkl mse_test:0.21640625, mse_gener:1.6133333333333333\n",
      "leaf_regression_RF_6est_4depth.pkl mse_test:0.08171296296296296, mse_gener:0.749537037037037\n",
      "leaf_regression_RF_8est_4depth.pkl mse_test:0.057942708333333336, mse_gener:5.898229166666667\n",
      "leaf_regression_RF_10est_4depth.pkl mse_test:0.02875, mse_gener:1.9720666666666664\n",
      "leaf_regression_RF_12est_4depth.pkl mse_test:0.0681712962962963, mse_gener:0.11432870370370371\n",
      "leaf_regression_RF_14est_4depth.pkl mse_test:0.03382227891156469, mse_gener:0.1913435374149658\n",
      "leaf_regression_RF_16est_4depth.pkl mse_test:0.04015299479166667, mse_gener:2.2039973958333334\n",
      "leaf_regression_RF_18est_4depth.pkl mse_test:0.04567901234567902, mse_gener:0.7949897119341566\n",
      "leaf_regression_RF_20est_4depth.pkl mse_test:0.05073958333333338, mse_gener:2.636808333333333\n",
      "leaf_regression_RF_22est_4depth.pkl mse_test:0.07702307162534444, mse_gener:2.29849173553719\n",
      "leaf_regression_RF_24est_4depth.pkl mse_test:0.02887008101851852, mse_gener:1.8048900462962965\n",
      "leaf_regression_RF_26est_4depth.pkl mse_test:0.04934664694280075, mse_gener:3.790202169625245\n",
      "leaf_regression_RF_28est_4depth.pkl mse_test:0.023336522108843516, mse_gener:3.900952380952381\n",
      "leaf_regression_RF_30est_4depth.pkl mse_test:0.044129629629629616, mse_gener:1.4706296296296297\n",
      "leaf_regression_RF_32est_4depth.pkl mse_test:0.044535319010416664, mse_gener:0.31274088541666667\n",
      "leaf_regression_RF_34est_4depth.pkl mse_test:0.046694780853517893, mse_gener:1.4187687427912343\n",
      "leaf_regression_RF_36est_4depth.pkl mse_test:0.033892746913580275, mse_gener:0.4837885802469138\n",
      "leaf_regression_RF_38est_4depth.pkl mse_test:0.028410664819944646, mse_gener:1.5309879963065562\n",
      "leaf_regression_RF_40est_4depth.pkl mse_test:0.025908854166666665, mse_gener:0.5236187500000001\n",
      "leaf_regression_RF_42est_4depth.pkl mse_test:0.03777636054421769, mse_gener:1.4199508692365839\n",
      "leaf_regression_RF_44est_4depth.pkl mse_test:0.025049500688705272, mse_gener:0.0822382920110193\n",
      "leaf_regression_RF_46est_4depth.pkl mse_test:0.03072424385633267, mse_gener:1.0024086326402015\n",
      "leaf_regression_RF_48est_4depth.pkl mse_test:0.029976851851851852, mse_gener:1.3010445601851852\n",
      "leaf_regression_RF_50est_4depth.pkl mse_test:0.03504833333333332, mse_gener:1.041336\n",
      "leaf_regression_RF_52est_4depth.pkl mse_test:0.0184741740631164, mse_gener:0.894513067061144\n",
      "leaf_regression_RF_54est_4depth.pkl mse_test:0.017854080932784653, mse_gener:1.0231332876085961\n",
      "leaf_regression_RF_56est_4depth.pkl mse_test:0.038845928996598646, mse_gener:1.2441815476190474\n",
      "leaf_regression_RF_58est_4depth.pkl mse_test:0.03267687277051126, mse_gener:1.1556688466111769\n",
      "leaf_regression_RF_60est_4depth.pkl mse_test:0.02474884259259259, mse_gener:1.1671287037037037\n",
      "leaf_regression_RF_62est_4depth.pkl mse_test:0.03435332119320154, mse_gener:1.2314221297259798\n",
      "leaf_regression_RF_64est_4depth.pkl mse_test:0.027471923828125, mse_gener:1.036708984375\n",
      "leaf_regression_RF_66est_4depth.pkl mse_test:0.033131504438322676, mse_gener:0.42244413835322925\n",
      "leaf_regression_RF_68est_4depth.pkl mse_test:0.020312499999999997, mse_gener:0.9669348327566322\n",
      "leaf_regression_RF_70est_4depth.pkl mse_test:0.023299319727891152, mse_gener:1.2118149659863948\n",
      "leaf_regression_RF_72est_4depth.pkl mse_test:0.04503359696502054, mse_gener:0.5589904835390946\n",
      "leaf_regression_RF_74est_4depth.pkl mse_test:0.024960433406379316, mse_gener:1.0719387630874118\n",
      "leaf_regression_RF_76est_4depth.pkl mse_test:0.023018380655586312, mse_gener:0.7185001154201295\n",
      "leaf_regression_RF_78est_4depth.pkl mse_test:0.016749534297611224, mse_gener:0.7665017532325226\n",
      "leaf_regression_RF_80est_4depth.pkl mse_test:0.04104687499999999, mse_gener:1.7963703125\n",
      "leaf_regression_RF_82est_4depth.pkl mse_test:0.0188361342454888, mse_gener:0.3453698195518541\n",
      "leaf_regression_RF_84est_4depth.pkl mse_test:0.021736229213907787, mse_gener:0.49484599395313683\n",
      "leaf_regression_RF_86est_4depth.pkl mse_test:0.024963944474490688, mse_gener:1.6546876690102754\n",
      "leaf_regression_RF_88est_4depth.pkl mse_test:0.023681775137741057, mse_gener:0.946593061294766\n",
      "leaf_regression_RF_90est_4depth.pkl mse_test:0.027654320987654295, mse_gener:1.5975226337448567\n",
      "leaf_regression_RF_92est_4depth.pkl mse_test:0.03213364445494643, mse_gener:0.10790485192186518\n",
      "leaf_regression_RF_94est_4depth.pkl mse_test:0.0364229666515769, mse_gener:0.6410989135355364\n",
      "leaf_regression_RF_96est_4depth.pkl mse_test:0.02575909649884259, mse_gener:0.26120515046296294\n",
      "leaf_regression_RF_98est_4depth.pkl mse_test:0.028736724281549393, mse_gener:0.9879685547688464\n",
      "leaf_regression_RF_100est_4depth.pkl mse_test:0.02615500000000004, mse_gener:0.8824836666666666\n",
      "leaf_regression_RF_2est_5depth.pkl mse_test:0.284375, mse_gener:4.849166666666667\n",
      "leaf_regression_RF_4est_5depth.pkl mse_test:0.10963541666666667, mse_gener:0.9297916666666667\n",
      "leaf_regression_RF_6est_5depth.pkl mse_test:0.09745370370370371, mse_gener:1.7537037037037035\n",
      "leaf_regression_RF_8est_5depth.pkl mse_test:0.049088541666666666, mse_gener:0.6128645833333334\n",
      "leaf_regression_RF_10est_5depth.pkl mse_test:0.04479166666666665, mse_gener:1.008533333333333\n",
      "leaf_regression_RF_12est_5depth.pkl mse_test:0.029947916666666664, mse_gener:0.4871296296296297\n",
      "leaf_regression_RF_14est_5depth.pkl mse_test:0.031207482993197342, mse_gener:2.998027210884355\n",
      "leaf_regression_RF_16est_5depth.pkl mse_test:0.024479166666666666, mse_gener:4.097955729166666\n",
      "leaf_regression_RF_18est_5depth.pkl mse_test:0.06728395061728394, mse_gener:0.2097119341563787\n",
      "leaf_regression_RF_20est_5depth.pkl mse_test:0.03662500000000002, mse_gener:0.37484166666666663\n",
      "leaf_regression_RF_22est_5depth.pkl mse_test:0.05996039944903585, mse_gener:0.8603443526170796\n",
      "leaf_regression_RF_24est_5depth.pkl mse_test:0.0419921875, mse_gener:0.5509895833333334\n",
      "leaf_regression_RF_26est_5depth.pkl mse_test:0.04235083826429979, mse_gener:0.6465039447731756\n",
      "leaf_regression_RF_28est_5depth.pkl mse_test:0.03630420918367348, mse_gener:1.0332397959183672\n",
      "leaf_regression_RF_30est_5depth.pkl mse_test:0.023828703703703692, mse_gener:2.3449814814814816\n",
      "leaf_regression_RF_32est_5depth.pkl mse_test:0.022847493489583332, mse_gener:4.620081380208333\n",
      "leaf_regression_RF_34est_5depth.pkl mse_test:0.0315383506343714, mse_gener:0.20588235294117646\n",
      "leaf_regression_RF_36est_5depth.pkl mse_test:0.026970807613168724, mse_gener:0.5301054526748972\n",
      "leaf_regression_RF_38est_5depth.pkl mse_test:0.025917590027700818, mse_gener:2.2702354570637135\n",
      "leaf_regression_RF_40est_5depth.pkl mse_test:0.02763281250000001, mse_gener:0.31909166666666666\n",
      "leaf_regression_RF_42est_5depth.pkl mse_test:0.0573672524565382, mse_gener:0.8731065759637185\n",
      "leaf_regression_RF_44est_5depth.pkl mse_test:0.02154356060606059, mse_gener:0.9366976584022036\n",
      "leaf_regression_RF_46est_5depth.pkl mse_test:0.025088610586011317, mse_gener:2.32572463768116\n",
      "leaf_regression_RF_48est_5depth.pkl mse_test:0.02495478877314815, mse_gener:0.9626417824074074\n",
      "leaf_regression_RF_50est_5depth.pkl mse_test:0.053246666666666664, mse_gener:0.563436\n",
      "leaf_regression_RF_52est_5depth.pkl mse_test:0.026123335798816583, mse_gener:0.09736439842209069\n",
      "leaf_regression_RF_54est_5depth.pkl mse_test:0.04560470964791955, mse_gener:0.75966849565615\n",
      "leaf_regression_RF_56est_5depth.pkl mse_test:0.03591491284013602, mse_gener:0.9826753826530611\n",
      "leaf_regression_RF_58est_5depth.pkl mse_test:0.028672463337296842, mse_gener:0.5847750693618708\n",
      "leaf_regression_RF_60est_5depth.pkl mse_test:0.02841435185185185, mse_gener:0.9298129629629629\n",
      "leaf_regression_RF_62est_5depth.pkl mse_test:0.027297953520638255, mse_gener:1.6844502254595912\n",
      "leaf_regression_RF_64est_5depth.pkl mse_test:0.0302154541015625, mse_gener:0.5199747721354167\n",
      "leaf_regression_RF_66est_5depth.pkl mse_test:0.024339034282216142, mse_gener:0.49570400979491885\n",
      "leaf_regression_RF_68est_5depth.pkl mse_test:0.020937860438292953, mse_gener:0.32495891003460214\n",
      "leaf_regression_RF_70est_5depth.pkl mse_test:0.034478741496598624, mse_gener:0.929190476190476\n",
      "leaf_regression_RF_72est_5depth.pkl mse_test:0.037023373199588455, mse_gener:2.357869727366255\n",
      "leaf_regression_RF_74est_5depth.pkl mse_test:0.030855094959824702, mse_gener:0.21961285609934256\n",
      "leaf_regression_RF_76est_5depth.pkl mse_test:0.03244892659279778, mse_gener:0.48950196214219754\n",
      "leaf_regression_RF_78est_5depth.pkl mse_test:0.023524819197896143, mse_gener:0.8421011396011397\n",
      "leaf_regression_RF_80est_5depth.pkl mse_test:0.019272786458333333, mse_gener:0.5273880208333335\n",
      "leaf_regression_RF_82est_5depth.pkl mse_test:0.0282520325203252, mse_gener:0.6068976799524094\n",
      "leaf_regression_RF_84est_5depth.pkl mse_test:0.016646589191232034, mse_gener:0.7108952191987906\n",
      "leaf_regression_RF_86est_5depth.pkl mse_test:0.021534162610420033, mse_gener:0.8444722372453577\n",
      "leaf_regression_RF_88est_5depth.pkl mse_test:0.03320204889807167, mse_gener:0.4727772038567494\n",
      "leaf_regression_RF_90est_5depth.pkl mse_test:0.026364197530864223, mse_gener:1.2710781893004115\n",
      "leaf_regression_RF_92est_5depth.pkl mse_test:0.028353418399495886, mse_gener:0.20862082545683683\n",
      "leaf_regression_RF_94est_5depth.pkl mse_test:0.026121359589557875, mse_gener:1.2038693979176098\n",
      "leaf_regression_RF_96est_5depth.pkl mse_test:0.026681857638888886, mse_gener:0.35055302372685193\n",
      "leaf_regression_RF_98est_5depth.pkl mse_test:0.02376353602665558, mse_gener:0.9769398167430238\n",
      "leaf_regression_RF_100est_5depth.pkl mse_test:0.02224916666666663, mse_gener:1.8090083333333338\n",
      "leaf_regression_RF_2est_6depth.pkl mse_test:0.28020833333333334, mse_gener:10.658333333333333\n",
      "leaf_regression_RF_4est_6depth.pkl mse_test:0.01875, mse_gener:5.20875\n",
      "leaf_regression_RF_6est_6depth.pkl mse_test:0.2059027777777778, mse_gener:1.3440740740740742\n",
      "leaf_regression_RF_8est_6depth.pkl mse_test:0.0720703125, mse_gener:1.14578125\n",
      "leaf_regression_RF_10est_6depth.pkl mse_test:0.080375, mse_gener:0.45643333333333336\n",
      "leaf_regression_RF_12est_6depth.pkl mse_test:0.027951388888888883, mse_gener:1.9981712962962963\n",
      "leaf_regression_RF_14est_6depth.pkl mse_test:0.07465986394557834, mse_gener:0.7212925170068029\n",
      "leaf_regression_RF_16est_6depth.pkl mse_test:0.03868815104166667, mse_gener:2.0171744791666666\n",
      "leaf_regression_RF_18est_6depth.pkl mse_test:0.02928240740740742, mse_gener:0.137314814814815\n",
      "leaf_regression_RF_20est_6depth.pkl mse_test:0.035989583333333346, mse_gener:1.5015166666666666\n",
      "leaf_regression_RF_22est_6depth.pkl mse_test:0.05843663911845735, mse_gener:0.352038567493113\n",
      "leaf_regression_RF_24est_6depth.pkl mse_test:0.034172453703703705, mse_gener:1.9726446759259262\n",
      "leaf_regression_RF_26est_6depth.pkl mse_test:0.028796844181459537, mse_gener:1.670557199211045\n",
      "leaf_regression_RF_28est_6depth.pkl mse_test:0.03180272108843537, mse_gener:0.328767006802721\n",
      "leaf_regression_RF_30est_6depth.pkl mse_test:0.039282407407407405, mse_gener:0.4421333333333334\n",
      "leaf_regression_RF_32est_6depth.pkl mse_test:0.05850423177083333, mse_gener:2.715501302083333\n",
      "leaf_regression_RF_34est_6depth.pkl mse_test:0.046319925028835085, mse_gener:1.8347347174163784\n",
      "leaf_regression_RF_36est_6depth.pkl mse_test:0.029256687242798386, mse_gener:0.7664223251028808\n",
      "leaf_regression_RF_38est_6depth.pkl mse_test:0.02793744228993534, mse_gener:0.37042012927054446\n",
      "leaf_regression_RF_40est_6depth.pkl mse_test:0.029601562500000015, mse_gener:0.26531875\n",
      "leaf_regression_RF_42est_6depth.pkl mse_test:0.03205546107331827, mse_gener:2.416007180650037\n",
      "leaf_regression_RF_44est_6depth.pkl mse_test:0.025217372589531703, mse_gener:1.6961914600550965\n",
      "leaf_regression_RF_46est_6depth.pkl mse_test:0.02711877756773786, mse_gener:1.3704788909892878\n",
      "leaf_regression_RF_48est_6depth.pkl mse_test:0.03552698206018519, mse_gener:0.8286168981481481\n",
      "leaf_regression_RF_50est_6depth.pkl mse_test:0.0267716666666667, mse_gener:1.2367613333333336\n",
      "leaf_regression_RF_52est_6depth.pkl mse_test:0.03599913708086785, mse_gener:0.5518700690335302\n",
      "leaf_regression_RF_54est_6depth.pkl mse_test:0.027626314586191168, mse_gener:1.0232384545038866\n",
      "leaf_regression_RF_56est_6depth.pkl mse_test:0.02586229804421769, mse_gener:0.2623915816326529\n",
      "leaf_regression_RF_58est_6depth.pkl mse_test:0.038338535473642514, mse_gener:0.42130598493856536\n",
      "leaf_regression_RF_60est_6depth.pkl mse_test:0.02325694444444444, mse_gener:0.40611203703703697\n",
      "leaf_regression_RF_62est_6depth.pkl mse_test:0.03121531390912248, mse_gener:0.622293617759278\n",
      "leaf_regression_RF_64est_6depth.pkl mse_test:0.0336517333984375, mse_gener:0.2552107747395833\n",
      "leaf_regression_RF_66est_6depth.pkl mse_test:0.02371728650137741, mse_gener:1.3980616773798593\n",
      "leaf_regression_RF_68est_6depth.pkl mse_test:0.04016003460207608, mse_gener:1.4673630334486736\n",
      "leaf_regression_RF_70est_6depth.pkl mse_test:0.029267857142857165, mse_gener:0.8685496598639456\n",
      "leaf_regression_RF_72est_6depth.pkl mse_test:0.017021926440329217, mse_gener:0.6711304012345681\n",
      "leaf_regression_RF_74est_6depth.pkl mse_test:0.025524257365473584, mse_gener:0.8090181397613829\n",
      "leaf_regression_RF_76est_6depth.pkl mse_test:0.016501471606648187, mse_gener:1.3492740073868883\n",
      "leaf_regression_RF_78est_6depth.pkl mse_test:0.0351482029366645, mse_gener:1.5870852509314046\n",
      "leaf_regression_RF_80est_6depth.pkl mse_test:0.031628906249999984, mse_gener:0.8848442708333334\n",
      "leaf_regression_RF_82est_6depth.pkl mse_test:0.031802126710291465, mse_gener:1.4652880230021808\n",
      "leaf_regression_RF_84est_6depth.pkl mse_test:0.032968395691609954, mse_gener:1.1116898148148149\n",
      "leaf_regression_RF_86est_6depth.pkl mse_test:0.026505881557598705, mse_gener:0.9947570758968811\n",
      "leaf_regression_RF_88est_6depth.pkl mse_test:0.025902311466942173, mse_gener:0.8080746384297522\n",
      "leaf_regression_RF_90est_6depth.pkl mse_test:0.030738683127572015, mse_gener:1.3411921810699587\n",
      "leaf_regression_RF_92est_6depth.pkl mse_test:0.02840412334593577, mse_gener:1.5879993698802772\n",
      "leaf_regression_RF_94est_6depth.pkl mse_test:0.03244067828580055, mse_gener:1.5209129319450734\n",
      "leaf_regression_RF_96est_6depth.pkl mse_test:0.018967918113425925, mse_gener:0.7456958912037036\n",
      "leaf_regression_RF_98est_6depth.pkl mse_test:0.02145763917812023, mse_gener:0.5357021379980564\n",
      "leaf_regression_RF_100est_6depth.pkl mse_test:0.03758708333333336, mse_gener:0.5887413333333332\n",
      "leaf_regression_RF_2est_7depth.pkl mse_test:0.13333333333333333, mse_gener:1.6583333333333334\n",
      "leaf_regression_RF_4est_7depth.pkl mse_test:0.023958333333333335, mse_gener:3.297083333333333\n",
      "leaf_regression_RF_6est_7depth.pkl mse_test:0.09571759259259259, mse_gener:0.7653703703703704\n",
      "leaf_regression_RF_8est_7depth.pkl mse_test:0.041276041666666666, mse_gener:0.8428125\n",
      "leaf_regression_RF_10est_7depth.pkl mse_test:0.05999999999999998, mse_gener:2.1658333333333335\n",
      "leaf_regression_RF_12est_7depth.pkl mse_test:0.0933449074074074, mse_gener:2.1597222222222223\n",
      "leaf_regression_RF_14est_7depth.pkl mse_test:0.049213435374149704, mse_gener:0.2149489795918366\n",
      "leaf_regression_RF_16est_7depth.pkl mse_test:0.0244140625, mse_gener:1.713125\n",
      "leaf_regression_RF_18est_7depth.pkl mse_test:0.033989197530864185, mse_gener:0.13284979423868318\n",
      "leaf_regression_RF_20est_7depth.pkl mse_test:0.03185416666666667, mse_gener:0.220075\n",
      "leaf_regression_RF_22est_7depth.pkl mse_test:0.0352100550964188, mse_gener:0.3488911845730025\n",
      "leaf_regression_RF_24est_7depth.pkl mse_test:0.016659432870370368, mse_gener:0.36523148148148155\n",
      "leaf_regression_RF_26est_7depth.pkl mse_test:0.02680596646942799, mse_gener:1.9706656804733722\n",
      "leaf_regression_RF_28est_7depth.pkl mse_test:0.020014880952380958, mse_gener:6.372908163265305\n",
      "leaf_regression_RF_30est_7depth.pkl mse_test:0.023435185185185184, mse_gener:0.9855962962962963\n",
      "leaf_regression_RF_32est_7depth.pkl mse_test:0.036332194010416666, mse_gener:0.7229817708333334\n",
      "leaf_regression_RF_34est_7depth.pkl mse_test:0.0182994521337947, mse_gener:1.1662226066897348\n",
      "leaf_regression_RF_36est_7depth.pkl mse_test:0.046765689300411535, mse_gener:0.09708076131687236\n",
      "leaf_regression_RF_38est_7depth.pkl mse_test:0.027190096952908617, mse_gener:0.20984764542936266\n",
      "leaf_regression_RF_40est_7depth.pkl mse_test:0.05619791666666663, mse_gener:0.2318458333333333\n",
      "leaf_regression_RF_42est_7depth.pkl mse_test:0.034148242630385496, mse_gener:0.8883408919123205\n",
      "leaf_regression_RF_44est_7depth.pkl mse_test:0.03099819214876035, mse_gener:1.028073347107438\n",
      "leaf_regression_RF_46est_7depth.pkl mse_test:0.01564666036546942, mse_gener:1.8949039067422815\n",
      "leaf_regression_RF_48est_7depth.pkl mse_test:0.04618236400462963, mse_gener:0.3086820023148148\n",
      "leaf_regression_RF_50est_7depth.pkl mse_test:0.025339999999999998, mse_gener:2.310288\n",
      "leaf_regression_RF_52est_7depth.pkl mse_test:0.03234714003944773, mse_gener:1.1692159763313612\n",
      "leaf_regression_RF_54est_7depth.pkl mse_test:0.04133087562871514, mse_gener:0.3009476451760402\n",
      "leaf_regression_RF_56est_7depth.pkl mse_test:0.04083625637755103, mse_gener:0.4945695153061225\n",
      "leaf_regression_RF_58est_7depth.pkl mse_test:0.020533590963139097, mse_gener:1.3594084423305588\n",
      "leaf_regression_RF_60est_7depth.pkl mse_test:0.028039351851851867, mse_gener:0.49889074074074075\n",
      "leaf_regression_RF_62est_7depth.pkl mse_test:0.033562044745057217, mse_gener:0.653759972251127\n",
      "leaf_regression_RF_64est_7depth.pkl mse_test:0.026739501953125, mse_gener:2.03448486328125\n",
      "leaf_regression_RF_66est_7depth.pkl mse_test:0.031015648913376163, mse_gener:2.2658409856137127\n",
      "leaf_regression_RF_68est_7depth.pkl mse_test:0.04247675173010374, mse_gener:0.07218065167243361\n",
      "leaf_regression_RF_70est_7depth.pkl mse_test:0.018373299319727875, mse_gener:0.9681965986394558\n",
      "leaf_regression_RF_72est_7depth.pkl mse_test:0.02082770704732511, mse_gener:0.6430529835390947\n",
      "leaf_regression_RF_74est_7depth.pkl mse_test:0.03548058193328467, mse_gener:0.8294381543705868\n",
      "leaf_regression_RF_76est_7depth.pkl mse_test:0.03870974722991691, mse_gener:0.6224295937211447\n",
      "leaf_regression_RF_78est_7depth.pkl mse_test:0.034008601797063345, mse_gener:1.7862152092921322\n",
      "leaf_regression_RF_80est_7depth.pkl mse_test:0.021598958333333328, mse_gener:1.8125046874999997\n",
      "leaf_regression_RF_82est_7depth.pkl mse_test:0.028124999999999987, mse_gener:0.747130180448146\n",
      "leaf_regression_RF_84est_7depth.pkl mse_test:0.031976332199546494, mse_gener:0.724597505668934\n",
      "leaf_regression_RF_86est_7depth.pkl mse_test:0.02132853344149992, mse_gener:0.8693415359653868\n",
      "leaf_regression_RF_88est_7depth.pkl mse_test:0.0319456998966942, mse_gener:0.6712702307162537\n",
      "leaf_regression_RF_90est_7depth.pkl mse_test:0.03434104938271606, mse_gener:1.4756847736625518\n",
      "leaf_regression_RF_92est_7depth.pkl mse_test:0.022181691083805934, mse_gener:0.26137563011972287\n",
      "leaf_regression_RF_94est_7depth.pkl mse_test:0.020902652029576, mse_gener:2.42772559227403\n",
      "leaf_regression_RF_96est_7depth.pkl mse_test:0.036172146267361115, mse_gener:0.31497395833333336\n",
      "leaf_regression_RF_98est_7depth.pkl mse_test:0.024521900596973498, mse_gener:0.9417187283076498\n",
      "leaf_regression_RF_100est_7depth.pkl mse_test:0.024518333333333305, mse_gener:1.3180016666666665\n",
      "leaf_regression_RF_2est_8depth.pkl mse_test:0.05, mse_gener:5.006666666666667\n",
      "leaf_regression_RF_4est_8depth.pkl mse_test:0.14114583333333333, mse_gener:0.4189583333333333\n",
      "leaf_regression_RF_6est_8depth.pkl mse_test:0.04780092592592592, mse_gener:4.124444444444444\n",
      "leaf_regression_RF_8est_8depth.pkl mse_test:0.05475260416666667, mse_gener:5.04421875\n",
      "leaf_regression_RF_10est_8depth.pkl mse_test:0.1284583333333333, mse_gener:0.25076666666666664\n",
      "leaf_regression_RF_12est_8depth.pkl mse_test:0.06085069444444444, mse_gener:1.413472222222222\n",
      "leaf_regression_RF_14est_8depth.pkl mse_test:0.03008078231292522, mse_gener:2.267738095238097\n",
      "leaf_regression_RF_16est_8depth.pkl mse_test:0.06204427083333333, mse_gener:1.8782942708333332\n",
      "leaf_regression_RF_18est_8depth.pkl mse_test:0.024832818930041137, mse_gener:0.3348148148148151\n",
      "leaf_regression_RF_20est_8depth.pkl mse_test:0.07293750000000002, mse_gener:1.0990333333333335\n",
      "leaf_regression_RF_22est_8depth.pkl mse_test:0.037568870523416, mse_gener:2.193526170798899\n",
      "leaf_regression_RF_24est_8depth.pkl mse_test:0.04372829861111112, mse_gener:0.28596064814814814\n",
      "leaf_regression_RF_26est_8depth.pkl mse_test:0.0424987672583826, mse_gener:0.37617850098619354\n",
      "leaf_regression_RF_28est_8depth.pkl mse_test:0.05375744047619048, mse_gener:1.1190731292517007\n",
      "leaf_regression_RF_30est_8depth.pkl mse_test:0.05616203703703703, mse_gener:0.06557777777777778\n",
      "leaf_regression_RF_32est_8depth.pkl mse_test:0.019453938802083334, mse_gener:0.4758528645833333\n",
      "leaf_regression_RF_34est_8depth.pkl mse_test:0.02630478662053058, mse_gener:0.1981805074971163\n",
      "leaf_regression_RF_36est_8depth.pkl mse_test:0.04040637860082307, mse_gener:1.3230735596707819\n",
      "leaf_regression_RF_38est_8depth.pkl mse_test:0.029893813481071136, mse_gener:1.8907179132040635\n",
      "leaf_regression_RF_40est_8depth.pkl mse_test:0.027007812500000013, mse_gener:2.1539\n",
      "leaf_regression_RF_42est_8depth.pkl mse_test:0.048785903250188986, mse_gener:0.5846900982615263\n",
      "leaf_regression_RF_44est_8depth.pkl mse_test:0.034282455234159785, mse_gener:0.7813343663911848\n",
      "leaf_regression_RF_46est_8depth.pkl mse_test:0.04437027410207937, mse_gener:2.385310333963453\n",
      "leaf_regression_RF_48est_8depth.pkl mse_test:0.01820023148148148, mse_gener:1.0447439236111113\n",
      "leaf_regression_RF_50est_8depth.pkl mse_test:0.03678500000000004, mse_gener:0.9297026666666668\n",
      "leaf_regression_RF_52est_8depth.pkl mse_test:0.029795364891518725, mse_gener:0.7501565581854042\n",
      "leaf_regression_RF_54est_8depth.pkl mse_test:0.03010259487882945, mse_gener:1.396495198902606\n",
      "leaf_regression_RF_56est_8depth.pkl mse_test:0.03258264243197278, mse_gener:0.5617261904761908\n",
      "leaf_regression_RF_58est_8depth.pkl mse_test:0.02482287950852157, mse_gener:1.5700544986127625\n",
      "leaf_regression_RF_60est_8depth.pkl mse_test:0.026940972222222238, mse_gener:0.20168425925925926\n",
      "leaf_regression_RF_62est_8depth.pkl mse_test:0.028121748178980274, mse_gener:1.251265175164759\n",
      "leaf_regression_RF_64est_8depth.pkl mse_test:0.024842325846354166, mse_gener:0.5040291341145834\n",
      "leaf_regression_RF_66est_8depth.pkl mse_test:0.027222987450260184, mse_gener:1.053030303030303\n",
      "leaf_regression_RF_68est_8depth.pkl mse_test:0.024031322087658555, mse_gener:1.1354671280276816\n",
      "leaf_regression_RF_70est_8depth.pkl mse_test:0.0450110544217687, mse_gener:0.7400265306122449\n",
      "leaf_regression_RF_72est_8depth.pkl mse_test:0.02344393004115226, mse_gener:0.853564814814815\n",
      "leaf_regression_RF_74est_8depth.pkl mse_test:0.02122215120525933, mse_gener:1.6386486486486487\n",
      "leaf_regression_RF_76est_8depth.pkl mse_test:0.02667864150507846, mse_gener:1.9328560710987994\n",
      "leaf_regression_RF_78est_8depth.pkl mse_test:0.0369993699320622, mse_gener:0.25965373657681357\n",
      "leaf_regression_RF_80est_8depth.pkl mse_test:0.032796223958333336, mse_gener:0.33288750000000006\n",
      "leaf_regression_RF_82est_8depth.pkl mse_test:0.030568362086059907, mse_gener:0.663553440412453\n",
      "leaf_regression_RF_84est_8depth.pkl mse_test:0.027846867913832188, mse_gener:0.5501318027210884\n",
      "leaf_regression_RF_86est_8depth.pkl mse_test:0.026237718586623392, mse_gener:1.066083468541554\n",
      "leaf_regression_RF_88est_8depth.pkl mse_test:0.023016206095041323, mse_gener:0.6272047176308541\n",
      "leaf_regression_RF_90est_8depth.pkl mse_test:0.021712448559670798, mse_gener:0.9202563786008231\n",
      "leaf_regression_RF_92est_8depth.pkl mse_test:0.03003209672337744, mse_gener:0.2588779930686831\n",
      "leaf_regression_RF_94est_8depth.pkl mse_test:0.024759506564056163, mse_gener:0.7445159951712691\n",
      "leaf_regression_RF_96est_8depth.pkl mse_test:0.026753291377314813, mse_gener:0.8449544270833333\n",
      "leaf_regression_RF_98est_8depth.pkl mse_test:0.021206441760377608, mse_gener:2.017741913091767\n",
      "leaf_regression_RF_100est_8depth.pkl mse_test:0.02994125000000001, mse_gener:0.5099083333333334\n",
      "leaf_regression_RF_2est_9depth.pkl mse_test:0.008333333333333333, mse_gener:1.9441666666666666\n",
      "leaf_regression_RF_4est_9depth.pkl mse_test:0.284375, mse_gener:5.180625\n",
      "leaf_regression_RF_6est_9depth.pkl mse_test:0.043634259259259255, mse_gener:3.1212037037037037\n",
      "leaf_regression_RF_8est_9depth.pkl mse_test:0.0404296875, mse_gener:2.72671875\n",
      "leaf_regression_RF_10est_9depth.pkl mse_test:0.0673333333333333, mse_gener:1.0327666666666668\n",
      "leaf_regression_RF_12est_9depth.pkl mse_test:0.06568287037037038, mse_gener:0.72375\n",
      "leaf_regression_RF_14est_9depth.pkl mse_test:0.052189625850340184, mse_gener:1.1130612244897962\n",
      "leaf_regression_RF_16est_9depth.pkl mse_test:0.037548828125, mse_gener:0.3109765625\n",
      "leaf_regression_RF_18est_9depth.pkl mse_test:0.04885545267489712, mse_gener:0.6357510288065846\n",
      "leaf_regression_RF_20est_9depth.pkl mse_test:0.03326041666666669, mse_gener:0.12930833333333333\n",
      "leaf_regression_RF_22est_9depth.pkl mse_test:0.09706439393939402, mse_gener:0.6438567493112943\n",
      "leaf_regression_RF_24est_9depth.pkl mse_test:0.03235677083333333, mse_gener:0.5450173611111111\n",
      "leaf_regression_RF_26est_9depth.pkl mse_test:0.044045857988165654, mse_gener:0.8333037475345169\n",
      "leaf_regression_RF_28est_9depth.pkl mse_test:0.05235969387755101, mse_gener:0.1134056122448979\n",
      "leaf_regression_RF_30est_9depth.pkl mse_test:0.023925925925925927, mse_gener:0.3616962962962963\n",
      "leaf_regression_RF_32est_9depth.pkl mse_test:0.03651123046875, mse_gener:1.06494140625\n",
      "leaf_regression_RF_34est_9depth.pkl mse_test:0.02768166089965398, mse_gener:0.38524509803921547\n",
      "leaf_regression_RF_36est_9depth.pkl mse_test:0.026562499999999996, mse_gener:0.9903497942386831\n",
      "leaf_regression_RF_38est_9depth.pkl mse_test:0.025672322253000913, mse_gener:3.504397506925207\n",
      "leaf_regression_RF_40est_9depth.pkl mse_test:0.04441666666666668, mse_gener:0.6221708333333333\n",
      "leaf_regression_RF_42est_9depth.pkl mse_test:0.026932161753590356, mse_gener:1.4807879818594105\n",
      "leaf_regression_RF_44est_9depth.pkl mse_test:0.02507747933884302, mse_gener:0.5290306473829199\n",
      "leaf_regression_RF_46est_9depth.pkl mse_test:0.0354501417769376, mse_gener:0.24809546313799624\n",
      "leaf_regression_RF_48est_9depth.pkl mse_test:0.038190827546296297, mse_gener:0.9453081597222223\n",
      "leaf_regression_RF_50est_9depth.pkl mse_test:0.031606666666666644, mse_gener:0.5736333333333334\n",
      "leaf_regression_RF_52est_9depth.pkl mse_test:0.02828525641025643, mse_gener:0.42184171597633113\n",
      "leaf_regression_RF_54est_9depth.pkl mse_test:0.013564529035208066, mse_gener:1.3078692272519434\n",
      "leaf_regression_RF_56est_9depth.pkl mse_test:0.024161617772108825, mse_gener:1.4982674319727896\n",
      "leaf_regression_RF_58est_9depth.pkl mse_test:0.02745739199365835, mse_gener:1.9074415378517642\n",
      "leaf_regression_RF_60est_9depth.pkl mse_test:0.031248842592592585, mse_gener:0.7727962962962963\n",
      "leaf_regression_RF_62est_9depth.pkl mse_test:0.02676140305237602, mse_gener:0.1063007284079084\n",
      "leaf_regression_RF_64est_9depth.pkl mse_test:0.020403035481770835, mse_gener:1.7544449869791667\n",
      "leaf_regression_RF_66est_9depth.pkl mse_test:0.029037534435261716, mse_gener:1.4047000306091215\n",
      "leaf_regression_RF_68est_9depth.pkl mse_test:0.04025374855824679, mse_gener:0.3000836216839678\n",
      "leaf_regression_RF_70est_9depth.pkl mse_test:0.029176020408163267, mse_gener:0.884452380952381\n",
      "leaf_regression_RF_72est_9depth.pkl mse_test:0.0335865162037037, mse_gener:0.6370621141975309\n",
      "leaf_regression_RF_74est_9depth.pkl mse_test:0.028884374239103974, mse_gener:0.484616508400292\n",
      "leaf_regression_RF_76est_9depth.pkl mse_test:0.029567030240073826, mse_gener:0.6301587026777467\n",
      "leaf_regression_RF_78est_9depth.pkl mse_test:0.025582127985974108, mse_gener:1.7336275476660088\n",
      "leaf_regression_RF_80est_9depth.pkl mse_test:0.042729817708333305, mse_gener:0.25221145833333336\n",
      "leaf_regression_RF_82est_9depth.pkl mse_test:0.024483814197898062, mse_gener:1.0241101526868928\n",
      "leaf_regression_RF_84est_9depth.pkl mse_test:0.019891463529856365, mse_gener:3.04233560090703\n",
      "leaf_regression_RF_86est_9depth.pkl mse_test:0.014634036416080723, mse_gener:1.3860559762033533\n",
      "leaf_regression_RF_88est_9depth.pkl mse_test:0.02013440513085401, mse_gener:0.4519296659779614\n",
      "leaf_regression_RF_90est_9depth.pkl mse_test:0.02616255144032922, mse_gener:1.7802263374485596\n",
      "leaf_regression_RF_92est_9depth.pkl mse_test:0.03752461405166982, mse_gener:0.4253942186515438\n",
      "leaf_regression_RF_94est_9depth.pkl mse_test:0.016895842764448474, mse_gener:1.2837698053417839\n",
      "leaf_regression_RF_96est_9depth.pkl mse_test:0.022403971354166666, mse_gener:0.20466435185185186\n",
      "leaf_regression_RF_98est_9depth.pkl mse_test:0.02002377481604889, mse_gener:1.7478817853672084\n",
      "leaf_regression_RF_100est_9depth.pkl mse_test:0.02250458333333332, mse_gener:1.023439666666667\n",
      "leaf_regression_RF_2est_10depth.pkl mse_test:0.1625, mse_gener:1.6266666666666667\n",
      "leaf_regression_RF_4est_10depth.pkl mse_test:0.20885416666666667, mse_gener:0.6533333333333333\n",
      "leaf_regression_RF_6est_10depth.pkl mse_test:0.0994212962962963, mse_gener:5.0938888888888885\n",
      "leaf_regression_RF_8est_10depth.pkl mse_test:0.06399739583333333, mse_gener:1.2113020833333332\n",
      "leaf_regression_RF_12est_10depth.pkl mse_test:0.04898726851851851, mse_gener:0.773888888888889\n",
      "leaf_regression_RF_14est_10depth.pkl mse_test:0.10159438775510203, mse_gener:1.1004931972789114\n",
      "leaf_regression_RF_16est_10depth.pkl mse_test:0.059342447916666666, mse_gener:2.2228125\n",
      "leaf_regression_RF_18est_10depth.pkl mse_test:0.035763888888888866, mse_gener:0.1090432098765433\n",
      "leaf_regression_RF_20est_10depth.pkl mse_test:0.04992708333333336, mse_gener:1.7639166666666666\n",
      "leaf_regression_RF_22est_10depth.pkl mse_test:0.036845730027548276, mse_gener:0.6213360881542698\n",
      "leaf_regression_RF_24est_10depth.pkl mse_test:0.09058159722222223, mse_gener:1.028923611111111\n",
      "leaf_regression_RF_26est_10depth.pkl mse_test:0.03500986193293883, mse_gener:1.6652071005917157\n",
      "leaf_regression_RF_28est_10depth.pkl mse_test:0.030224277210884352, mse_gener:1.0342517006802718\n",
      "leaf_regression_RF_30est_10depth.pkl mse_test:0.03985648148148148, mse_gener:0.21805185185185186\n",
      "leaf_regression_RF_32est_10depth.pkl mse_test:0.024267578125, mse_gener:0.38734049479166666\n",
      "leaf_regression_RF_34est_10depth.pkl mse_test:0.038685841983852366, mse_gener:2.307442329873126\n",
      "leaf_regression_RF_36est_10depth.pkl mse_test:0.023820087448559672, mse_gener:0.58195987654321\n",
      "leaf_regression_RF_38est_10depth.pkl mse_test:0.016124192059095124, mse_gener:3.1767820867959364\n",
      "leaf_regression_RF_40est_10depth.pkl mse_test:0.019195312499999995, mse_gener:2.0719625\n",
      "leaf_regression_RF_42est_10depth.pkl mse_test:0.04510109599395313, mse_gener:0.9639115646258504\n",
      "leaf_regression_RF_44est_10depth.pkl mse_test:0.028893336776859516, mse_gener:1.1571470385674931\n",
      "leaf_regression_RF_46est_10depth.pkl mse_test:0.019082781978575925, mse_gener:2.6408727158160046\n",
      "leaf_regression_RF_48est_10depth.pkl mse_test:0.017019314236111107, mse_gener:0.19055121527777777\n",
      "leaf_regression_RF_50est_10depth.pkl mse_test:0.020509999999999976, mse_gener:0.27171599999999985\n",
      "leaf_regression_RF_52est_10depth.pkl mse_test:0.031196067554240623, mse_gener:0.7870179980276132\n",
      "leaf_regression_RF_54est_10depth.pkl mse_test:0.02240797896662092, mse_gener:0.5116712391403749\n",
      "leaf_regression_RF_56est_10depth.pkl mse_test:0.02100473001700676, mse_gener:0.09720769557823125\n",
      "leaf_regression_RF_58est_10depth.pkl mse_test:0.04411043400713439, mse_gener:0.8115001981767741\n",
      "leaf_regression_RF_60est_10depth.pkl mse_test:0.025685185185185182, mse_gener:0.6180898148148147\n",
      "leaf_regression_RF_62est_10depth.pkl mse_test:0.03733524106833165, mse_gener:0.4798916059660074\n",
      "leaf_regression_RF_64est_10depth.pkl mse_test:0.025663248697916665, mse_gener:0.15451904296875\n",
      "leaf_regression_RF_66est_10depth.pkl mse_test:0.03660659626568723, mse_gener:0.32553259871441675\n",
      "leaf_regression_RF_68est_10depth.pkl mse_test:0.024805363321799265, mse_gener:0.44395256632064595\n",
      "leaf_regression_RF_70est_10depth.pkl mse_test:0.033852040816326506, mse_gener:1.3107353741496597\n",
      "leaf_regression_RF_72est_10depth.pkl mse_test:0.03689637988683127, mse_gener:0.25489454732510286\n",
      "leaf_regression_RF_74est_10depth.pkl mse_test:0.03556884587289993, mse_gener:1.2663696128560993\n",
      "leaf_regression_RF_76est_10depth.pkl mse_test:0.02578125000000001, mse_gener:2.3373880424746076\n",
      "leaf_regression_RF_78est_10depth.pkl mse_test:0.03046036050843744, mse_gener:0.3454311856234934\n",
      "leaf_regression_RF_80est_10depth.pkl mse_test:0.037514322916666655, mse_gener:0.9321395833333335\n",
      "leaf_regression_RF_82est_10depth.pkl mse_test:0.031859756097560976, mse_gener:0.7273854848304583\n",
      "leaf_regression_RF_84est_10depth.pkl mse_test:0.050599371693121634, mse_gener:1.666105442176871\n",
      "leaf_regression_RF_86est_10depth.pkl mse_test:0.02846076708130519, mse_gener:1.6392072291328645\n",
      "leaf_regression_RF_88est_10depth.pkl mse_test:0.021685606060606075, mse_gener:0.874901859504132\n",
      "leaf_regression_RF_90est_10depth.pkl mse_test:0.017653806584362164, mse_gener:0.44300987654320995\n",
      "leaf_regression_RF_92est_10depth.pkl mse_test:0.03833293950850659, mse_gener:1.6618856332703213\n",
      "leaf_regression_RF_94est_10depth.pkl mse_test:0.023727742568281304, mse_gener:0.7523192998340122\n",
      "leaf_regression_RF_96est_10depth.pkl mse_test:0.020380768952546292, mse_gener:1.8158141637731482\n",
      "leaf_regression_RF_98est_10depth.pkl mse_test:0.021973917117867555, mse_gener:0.9738716507010967\n"
     ]
    }
   ],
   "source": [
    "errors = []\n",
    "for f in files: \n",
    "    mse_test, mse_gener = test_models(os.path.join(folder, f), X_test_RF, y_test, reshape_RF(cut_X(X_test_5classes)), y_test_5classes)\n",
    "    print(f, \"mse_test:{}, mse_gener:{}\".format(mse_test, mse_gener))\n",
    "    errors.append([mse_test, mse_gener])\n",
    "err = np.asarray(errors)"
   ]
  },
  {
   "cell_type": "code",
   "execution_count": 42,
   "metadata": {},
   "outputs": [
    {
     "name": "stdout",
     "output_type": "stream",
     "text": [
      "leaf_regression_RF1.pkl mse_test:0.02508041666666664, mse_gener:7.736752\n",
      "leaf_regression_RF_10est_10depth.pkl mse_test:0.048333333333333325, mse_gener:1.7081000000000002\n",
      "leaf_regression_RF_100est_10depth.pkl mse_test:0.034307083333333356, mse_gener:0.8845659999999996\n",
      "leaf_regression_RF_2est_1depth.pkl mse_test:9.567999834353172, mse_gener:0.6538561875807144\n",
      "leaf_regression_RF_4est_1depth.pkl mse_test:8.875402049696868, mse_gener:3.7879514622196893\n",
      "leaf_regression_RF_6est_1depth.pkl mse_test:8.804845209371004, mse_gener:9.865279329419618\n",
      "leaf_regression_RF_8est_1depth.pkl mse_test:8.784048139338593, mse_gener:3.7743504535161945\n",
      "leaf_regression_RF_10est_1depth.pkl mse_test:8.849209023844006, mse_gener:61.43429479721399\n",
      "leaf_regression_RF_12est_1depth.pkl mse_test:8.859799350454784, mse_gener:28.198780864729972\n",
      "leaf_regression_RF_14est_1depth.pkl mse_test:8.820101813352535, mse_gener:5.023868317049178\n",
      "leaf_regression_RF_16est_1depth.pkl mse_test:8.796274449919022, mse_gener:11.01679970557279\n",
      "leaf_regression_RF_18est_1depth.pkl mse_test:8.80326907246859, mse_gener:2.128955566615527\n",
      "leaf_regression_RF_20est_1depth.pkl mse_test:8.778559731880568, mse_gener:8.502207168074872\n",
      "leaf_regression_RF_22est_1depth.pkl mse_test:8.828596055290188, mse_gener:2.9392980948154066\n",
      "leaf_regression_RF_24est_1depth.pkl mse_test:8.797550664127979, mse_gener:1.6107100533886527\n",
      "leaf_regression_RF_26est_1depth.pkl mse_test:8.775292219622425, mse_gener:3.1334257490322623\n",
      "leaf_regression_RF_28est_1depth.pkl mse_test:8.80583714698134, mse_gener:3.0343286313651623\n",
      "leaf_regression_RF_30est_1depth.pkl mse_test:8.791426416884551, mse_gener:6.581952195114172\n",
      "leaf_regression_RF_32est_1depth.pkl mse_test:8.795038926850607, mse_gener:3.0901991019376482\n",
      "leaf_regression_RF_34est_1depth.pkl mse_test:8.776178303440002, mse_gener:1.6723438538170945\n",
      "leaf_regression_RF_36est_1depth.pkl mse_test:8.844938481169923, mse_gener:2.355618971827274\n",
      "leaf_regression_RF_38est_1depth.pkl mse_test:8.789896968999445, mse_gener:3.3602985840956867\n",
      "leaf_regression_RF_40est_1depth.pkl mse_test:8.792722390790077, mse_gener:1.608276390686445\n",
      "leaf_regression_RF_42est_1depth.pkl mse_test:8.776477271034615, mse_gener:1.91520770933857\n",
      "leaf_regression_RF_44est_1depth.pkl mse_test:8.776023105786775, mse_gener:3.079114930595651\n",
      "leaf_regression_RF_46est_1depth.pkl mse_test:8.79785921164989, mse_gener:0.4559056852584636\n",
      "leaf_regression_RF_48est_1depth.pkl mse_test:8.788045447367358, mse_gener:1.0113837039819429\n",
      "leaf_regression_RF_50est_1depth.pkl mse_test:8.807396804956973, mse_gener:2.4911266133525425\n",
      "leaf_regression_RF_52est_1depth.pkl mse_test:8.802683104095225, mse_gener:1.317445083502187\n",
      "leaf_regression_RF_54est_1depth.pkl mse_test:8.785363068326376, mse_gener:2.7730928545940254\n",
      "leaf_regression_RF_56est_1depth.pkl mse_test:8.801252330247719, mse_gener:1.565238598014678\n",
      "leaf_regression_RF_58est_1depth.pkl mse_test:8.799997235166883, mse_gener:3.68656259321351\n",
      "leaf_regression_RF_60est_1depth.pkl mse_test:8.775709277355864, mse_gener:2.1438793730996424\n",
      "leaf_regression_RF_62est_1depth.pkl mse_test:8.768007986883932, mse_gener:6.874774954884374\n",
      "leaf_regression_RF_64est_1depth.pkl mse_test:8.797511289613485, mse_gener:1.4266477468481993\n",
      "leaf_regression_RF_66est_1depth.pkl mse_test:8.783158251740986, mse_gener:2.2329945962732585\n",
      "leaf_regression_RF_68est_1depth.pkl mse_test:8.785404199350394, mse_gener:3.125793649651765\n",
      "leaf_regression_RF_70est_1depth.pkl mse_test:8.770095504783184, mse_gener:1.3142328622117398\n",
      "leaf_regression_RF_72est_1depth.pkl mse_test:8.780664711916788, mse_gener:2.714286226457136\n",
      "leaf_regression_RF_2est_2depth.pkl mse_test:0.896588090543134, mse_gener:6.402302480136631\n",
      "leaf_regression_RF_4est_2depth.pkl mse_test:0.6639885020352722, mse_gener:4.565210437437976\n",
      "leaf_regression_RF_6est_2depth.pkl mse_test:0.5780058523275933, mse_gener:0.30489063912789\n",
      "leaf_regression_RF_8est_2depth.pkl mse_test:0.6614117174102839, mse_gener:28.238739094700353\n",
      "leaf_regression_RF_10est_2depth.pkl mse_test:0.5501284359691933, mse_gener:38.64119704321058\n",
      "leaf_regression_RF_12est_2depth.pkl mse_test:0.5524869315900183, mse_gener:9.220835295405925\n",
      "leaf_regression_RF_14est_2depth.pkl mse_test:0.5804091502862986, mse_gener:21.07044554520823\n",
      "leaf_regression_RF_16est_2depth.pkl mse_test:0.5982079462859589, mse_gener:1.2413267344024315\n",
      "leaf_regression_RF_18est_2depth.pkl mse_test:0.526290790643757, mse_gener:1.4737759518283033\n",
      "leaf_regression_RF_20est_2depth.pkl mse_test:0.5361490387257632, mse_gener:5.016393697751767\n",
      "leaf_regression_RF_22est_2depth.pkl mse_test:0.5799151103160177, mse_gener:1.5259910591640733\n",
      "leaf_regression_RF_24est_2depth.pkl mse_test:0.5353224084930496, mse_gener:10.629633331968611\n",
      "leaf_regression_RF_26est_2depth.pkl mse_test:0.5522219802559748, mse_gener:2.4591034369079345\n",
      "leaf_regression_RF_28est_2depth.pkl mse_test:0.5393650068848188, mse_gener:16.921167431081727\n",
      "leaf_regression_RF_30est_2depth.pkl mse_test:0.5548704786576971, mse_gener:5.386726741611108\n",
      "leaf_regression_RF_32est_2depth.pkl mse_test:0.5398926881410373, mse_gener:2.9578573604293665\n",
      "leaf_regression_RF_34est_2depth.pkl mse_test:0.5374103100410857, mse_gener:0.967456160103031\n",
      "leaf_regression_RF_36est_2depth.pkl mse_test:0.5360179849024026, mse_gener:1.1394956905465436\n",
      "leaf_regression_RF_38est_2depth.pkl mse_test:0.5293553357810388, mse_gener:10.508417344493825\n",
      "leaf_regression_RF_40est_2depth.pkl mse_test:0.5324329053898899, mse_gener:8.821073690958023\n",
      "leaf_regression_RF_42est_2depth.pkl mse_test:0.5519294058456251, mse_gener:2.849808426164274\n",
      "leaf_regression_RF_44est_2depth.pkl mse_test:0.5402650923183823, mse_gener:8.137782601998115\n",
      "leaf_regression_RF_46est_2depth.pkl mse_test:0.534515954103838, mse_gener:3.862708898590892\n",
      "leaf_regression_RF_48est_2depth.pkl mse_test:0.5281525122595002, mse_gener:4.900826447944394\n",
      "leaf_regression_RF_50est_2depth.pkl mse_test:0.5333515456292031, mse_gener:16.021824289465712\n",
      "leaf_regression_RF_52est_2depth.pkl mse_test:0.5358554936696064, mse_gener:1.8875516035929032\n",
      "leaf_regression_RF_54est_2depth.pkl mse_test:0.5268389732627332, mse_gener:2.84660736628649\n",
      "leaf_regression_RF_56est_2depth.pkl mse_test:0.526433768193081, mse_gener:4.363177653599616\n",
      "leaf_regression_RF_58est_2depth.pkl mse_test:0.5233867479583629, mse_gener:0.5453294194137596\n",
      "leaf_regression_RF_60est_2depth.pkl mse_test:0.5397973599894397, mse_gener:7.464764378203109\n",
      "leaf_regression_RF_62est_2depth.pkl mse_test:0.5356944456992867, mse_gener:1.8654718389074523\n",
      "leaf_regression_RF_64est_2depth.pkl mse_test:0.5403302537247964, mse_gener:1.8830312627138603\n",
      "leaf_regression_RF_66est_2depth.pkl mse_test:0.5400678336278097, mse_gener:0.8869322541780558\n",
      "leaf_regression_RF_68est_2depth.pkl mse_test:0.5421279309060245, mse_gener:0.5113430215689798\n",
      "leaf_regression_RF_70est_2depth.pkl mse_test:0.537572479692291, mse_gener:4.7200079903268835\n",
      "leaf_regression_RF_72est_2depth.pkl mse_test:0.5282045656391552, mse_gener:4.0936952521601215\n",
      "leaf_regression_RF_74est_2depth.pkl mse_test:0.5522789576993868, mse_gener:1.0025482311693217\n",
      "leaf_regression_RF_76est_2depth.pkl mse_test:0.5411634530624524, mse_gener:2.383767376353457\n",
      "leaf_regression_RF_78est_2depth.pkl mse_test:0.5538206979040761, mse_gener:6.291490761651686\n",
      "leaf_regression_RF_80est_2depth.pkl mse_test:0.5408555519674267, mse_gener:3.7042829706186264\n",
      "leaf_regression_RF_82est_2depth.pkl mse_test:0.529482510436332, mse_gener:2.646584632212265\n",
      "leaf_regression_RF_84est_2depth.pkl mse_test:0.5353474025712708, mse_gener:3.4213711288311335\n",
      "leaf_regression_RF_86est_2depth.pkl mse_test:0.5321578893573232, mse_gener:0.4364658824555225\n",
      "leaf_regression_RF_88est_2depth.pkl mse_test:0.5359409292965819, mse_gener:1.165451810937709\n",
      "leaf_regression_RF_90est_2depth.pkl mse_test:0.5348569393025457, mse_gener:1.8133611469984423\n",
      "leaf_regression_RF_92est_2depth.pkl mse_test:0.5291760036939809, mse_gener:6.455523988130765\n",
      "leaf_regression_RF_94est_2depth.pkl mse_test:0.5361265200785095, mse_gener:2.5108611544319865\n",
      "leaf_regression_RF_96est_2depth.pkl mse_test:0.5335401802854558, mse_gener:4.785087276593049\n",
      "leaf_regression_RF_98est_2depth.pkl mse_test:0.5329289856552774, mse_gener:3.8307612780442613\n",
      "leaf_regression_RF_100est_2depth.pkl mse_test:0.5271162158552657, mse_gener:2.94610954668885\n",
      "leaf_regression_RF_2est_3depth.pkl mse_test:0.05, mse_gener:6.5\n",
      "leaf_regression_RF_4est_3depth.pkl mse_test:0.08151041666666667, mse_gener:24.310625\n",
      "leaf_regression_RF_6est_3depth.pkl mse_test:0.05428240740740742, mse_gener:19.710833333333333\n",
      "leaf_regression_RF_8est_3depth.pkl mse_test:0.04778645833333333, mse_gener:8.643072916666666\n",
      "leaf_regression_RF_10est_3depth.pkl mse_test:0.06333333333333332, mse_gener:9.6409\n",
      "leaf_regression_RF_12est_3depth.pkl mse_test:0.08967013888888889, mse_gener:0.32395833333333335\n",
      "leaf_regression_RF_14est_3depth.pkl mse_test:0.04032738095238095, mse_gener:1.3877551020408152\n",
      "leaf_regression_RF_16est_3depth.pkl mse_test:0.05782877604166667, mse_gener:0.9205859375\n",
      "leaf_regression_RF_18est_3depth.pkl mse_test:0.040136316872427955, mse_gener:1.0550925925925925\n",
      "leaf_regression_RF_20est_3depth.pkl mse_test:0.04344791666666667, mse_gener:5.4484\n",
      "leaf_regression_RF_22est_3depth.pkl mse_test:0.03636363636363642, mse_gener:5.9723347107438\n",
      "leaf_regression_RF_24est_3depth.pkl mse_test:0.020052083333333335, mse_gener:2.5984780092592596\n",
      "leaf_regression_RF_26est_3depth.pkl mse_test:0.031632149901380635, mse_gener:31.503431952662723\n",
      "leaf_regression_RF_28est_3depth.pkl mse_test:0.05338010204081635, mse_gener:2.39063775510204\n",
      "leaf_regression_RF_30est_3depth.pkl mse_test:0.037037037037037056, mse_gener:5.0992999999999995\n",
      "leaf_regression_RF_32est_3depth.pkl mse_test:0.041829427083333336, mse_gener:29.793336588541667\n",
      "leaf_regression_RF_34est_3depth.pkl mse_test:0.030846309111880067, mse_gener:28.38346020761247\n",
      "leaf_regression_RF_36est_3depth.pkl mse_test:0.05600565843621398, mse_gener:1.232037037037037\n",
      "leaf_regression_RF_38est_3depth.pkl mse_test:0.037950138504155156, mse_gener:0.4944090489381345\n",
      "leaf_regression_RF_40est_3depth.pkl mse_test:0.03318229166666667, mse_gener:3.1282687500000006\n",
      "leaf_regression_RF_42est_3depth.pkl mse_test:0.036774848828420276, mse_gener:4.885442176870749\n",
      "leaf_regression_RF_44est_3depth.pkl mse_test:0.025574638429752074, mse_gener:1.526985192837465\n",
      "leaf_regression_RF_46est_3depth.pkl mse_test:0.01786389413988655, mse_gener:2.9596361058601155\n",
      "leaf_regression_RF_48est_3depth.pkl mse_test:0.03300962094907408, mse_gener:18.328673321759258\n",
      "leaf_regression_RF_50est_3depth.pkl mse_test:0.020308333333333352, mse_gener:5.243588000000001\n",
      "leaf_regression_RF_52est_3depth.pkl mse_test:0.02577662721893493, mse_gener:4.102048816568046\n",
      "leaf_regression_RF_54est_3depth.pkl mse_test:0.01845136031092822, mse_gener:1.9014346136259717\n",
      "leaf_regression_RF_56est_3depth.pkl mse_test:0.028247236394557795, mse_gener:2.0641390306122456\n",
      "leaf_regression_RF_58est_3depth.pkl mse_test:0.02344555093143082, mse_gener:15.421156361474434\n",
      "leaf_regression_RF_60est_3depth.pkl mse_test:0.022032407407407407, mse_gener:4.266325\n",
      "leaf_regression_RF_62est_3depth.pkl mse_test:0.028353711411723916, mse_gener:9.155861082206037\n",
      "leaf_regression_RF_64est_3depth.pkl mse_test:0.0268768310546875, mse_gener:2.5696875\n",
      "leaf_regression_RF_66est_3depth.pkl mse_test:0.025070783593510847, mse_gener:1.7007506887052337\n",
      "leaf_regression_RF_68est_3depth.pkl mse_test:0.03120945069204151, mse_gener:3.3353856689734727\n",
      "leaf_regression_RF_70est_3depth.pkl mse_test:0.029418367346938777, mse_gener:10.52541224489796\n",
      "leaf_regression_RF_72est_3depth.pkl mse_test:0.027592914094650187, mse_gener:0.29557291666666674\n",
      "leaf_regression_RF_74est_3depth.pkl mse_test:0.02295318967616266, mse_gener:5.425798027757488\n",
      "leaf_regression_RF_76est_3depth.pkl mse_test:0.03523199445983382, mse_gener:1.0737015235457057\n",
      "leaf_regression_RF_78est_3depth.pkl mse_test:0.024569225290379134, mse_gener:4.4224611001534075\n",
      "leaf_regression_RF_80est_3depth.pkl mse_test:0.032048177083333323, mse_gener:5.6210812500000005\n",
      "leaf_regression_RF_82est_3depth.pkl mse_test:0.031194849296053945, mse_gener:2.3403970850684113\n",
      "leaf_regression_RF_84est_3depth.pkl mse_test:0.02834171863189718, mse_gener:1.798695200302343\n",
      "leaf_regression_RF_86est_3depth.pkl mse_test:0.023141450333513593, mse_gener:0.8799364521362899\n",
      "leaf_regression_RF_88est_3depth.pkl mse_test:0.024524900998622583, mse_gener:8.026754907024793\n",
      "leaf_regression_RF_90est_3depth.pkl mse_test:0.01858847736625514, mse_gener:8.606412757201646\n",
      "leaf_regression_RF_92est_3depth.pkl mse_test:0.03375620274102077, mse_gener:8.73544029615627\n",
      "leaf_regression_RF_94est_3depth.pkl mse_test:0.025441376188320493, mse_gener:2.2761041949600123\n",
      "leaf_regression_RF_96est_3depth.pkl mse_test:0.03510923032407408, mse_gener:1.8716048177083333\n",
      "leaf_regression_RF_98est_3depth.pkl mse_test:0.02367503123698463, mse_gener:1.896385186727752\n",
      "leaf_regression_RF_100est_3depth.pkl mse_test:0.024188750000000002, mse_gener:2.669911\n",
      "leaf_regression_RF_2est_4depth.pkl mse_test:0.3177083333333333, mse_gener:83.75\n",
      "leaf_regression_RF_4est_4depth.pkl mse_test:0.21640625, mse_gener:6.5675\n",
      "leaf_regression_RF_6est_4depth.pkl mse_test:0.08171296296296296, mse_gener:2.9616666666666664\n",
      "leaf_regression_RF_8est_4depth.pkl mse_test:0.057942708333333336, mse_gener:28.8540625\n",
      "leaf_regression_RF_10est_4depth.pkl mse_test:0.02875, mse_gener:9.424399999999999\n",
      "leaf_regression_RF_12est_4depth.pkl mse_test:0.0681712962962963, mse_gener:0.24958333333333332\n",
      "leaf_regression_RF_14est_4depth.pkl mse_test:0.03382227891156469, mse_gener:0.6674999999999991\n",
      "leaf_regression_RF_16est_4depth.pkl mse_test:0.04015299479166667, mse_gener:10.76953125\n",
      "leaf_regression_RF_18est_4depth.pkl mse_test:0.04567901234567902, mse_gener:3.8407407407407415\n",
      "leaf_regression_RF_20est_4depth.pkl mse_test:0.05073958333333338, mse_gener:12.528374999999999\n",
      "leaf_regression_RF_22est_4depth.pkl mse_test:0.07702307162534444, mse_gener:11.234070247933882\n",
      "leaf_regression_RF_24est_4depth.pkl mse_test:0.02887008101851852, mse_gener:8.684583333333334\n",
      "leaf_regression_RF_26est_4depth.pkl mse_test:0.04934664694280075, mse_gener:18.726568047337267\n",
      "leaf_regression_RF_28est_4depth.pkl mse_test:0.023336522108843516, mse_gener:20.055765306122446\n",
      "leaf_regression_RF_30est_4depth.pkl mse_test:0.044129629629629616, mse_gener:6.914825925925927\n",
      "leaf_regression_RF_32est_4depth.pkl mse_test:0.044535319010416664, mse_gener:1.176259765625\n",
      "leaf_regression_RF_34est_4depth.pkl mse_test:0.046694780853517893, mse_gener:6.903546712802769\n",
      "leaf_regression_RF_36est_4depth.pkl mse_test:0.033892746913580275, mse_gener:2.3541615226337447\n",
      "leaf_regression_RF_38est_4depth.pkl mse_test:0.028410664819944646, mse_gener:7.438245614035089\n",
      "leaf_regression_RF_40est_4depth.pkl mse_test:0.025908854166666665, mse_gener:2.4629937500000003\n",
      "leaf_regression_RF_42est_4depth.pkl mse_test:0.03777636054421769, mse_gener:6.8993442932728675\n",
      "leaf_regression_RF_44est_4depth.pkl mse_test:0.025049500688705272, mse_gener:0.2681146694214875\n",
      "leaf_regression_RF_46est_4depth.pkl mse_test:0.03072424385633267, mse_gener:4.800982986767487\n",
      "leaf_regression_RF_48est_4depth.pkl mse_test:0.029976851851851852, mse_gener:6.199473379629629\n",
      "leaf_regression_RF_50est_4depth.pkl mse_test:0.03504833333333332, mse_gener:5.029962666666667\n",
      "leaf_regression_RF_52est_4depth.pkl mse_test:0.0184741740631164, mse_gener:4.290987426035502\n",
      "leaf_regression_RF_54est_4depth.pkl mse_test:0.017854080932784653, mse_gener:4.758526520347508\n",
      "leaf_regression_RF_56est_4depth.pkl mse_test:0.038845928996598646, mse_gener:5.943010204081632\n",
      "leaf_regression_RF_58est_4depth.pkl mse_test:0.03267687277051126, mse_gener:5.7049940546967886\n",
      "leaf_regression_RF_60est_4depth.pkl mse_test:0.02474884259259259, mse_gener:5.659658333333334\n",
      "leaf_regression_RF_62est_4depth.pkl mse_test:0.03435332119320154, mse_gener:5.997539889004509\n",
      "leaf_regression_RF_64est_4depth.pkl mse_test:0.027471923828125, mse_gener:4.8795947265625\n",
      "leaf_regression_RF_66est_4depth.pkl mse_test:0.033131504438322676, mse_gener:2.0140388735843273\n",
      "leaf_regression_RF_68est_4depth.pkl mse_test:0.020312499999999997, mse_gener:4.777290224913495\n",
      "leaf_regression_RF_70est_4depth.pkl mse_test:0.023299319727891152, mse_gener:5.985356462585034\n",
      "leaf_regression_RF_72est_4depth.pkl mse_test:0.04503359696502054, mse_gener:2.577789351851852\n",
      "leaf_regression_RF_74est_4depth.pkl mse_test:0.024960433406379316, mse_gener:5.263511078646214\n",
      "leaf_regression_RF_76est_4depth.pkl mse_test:0.023018380655586312, mse_gener:3.3593351800554023\n",
      "leaf_regression_RF_78est_4depth.pkl mse_test:0.016749534297611224, mse_gener:3.4678879026955958\n",
      "leaf_regression_RF_80est_4depth.pkl mse_test:0.04104687499999999, mse_gener:8.954121875\n",
      "leaf_regression_RF_82est_4depth.pkl mse_test:0.0188361342454888, mse_gener:1.6566983938132067\n",
      "leaf_regression_RF_84est_4depth.pkl mse_test:0.021736229213907787, mse_gener:2.3653963529856386\n",
      "leaf_regression_RF_86est_4depth.pkl mse_test:0.024963944474490688, mse_gener:7.939999999999999\n",
      "leaf_regression_RF_88est_4depth.pkl mse_test:0.023681775137741057, mse_gener:4.543991046831955\n",
      "leaf_regression_RF_90est_4depth.pkl mse_test:0.027654320987654295, mse_gener:7.962298353909466\n",
      "leaf_regression_RF_92est_4depth.pkl mse_test:0.03213364445494643, mse_gener:0.4051839161940772\n",
      "leaf_regression_RF_94est_4depth.pkl mse_test:0.0364229666515769, mse_gener:2.9787811226799454\n",
      "leaf_regression_RF_96est_4depth.pkl mse_test:0.02575909649884259, mse_gener:1.2020793547453703\n",
      "leaf_regression_RF_98est_4depth.pkl mse_test:0.028736724281549393, mse_gener:4.63351381368874\n",
      "leaf_regression_RF_100est_4depth.pkl mse_test:0.02615500000000004, mse_gener:4.314613\n",
      "leaf_regression_RF_2est_5depth.pkl mse_test:0.284375, mse_gener:23.715\n",
      "leaf_regression_RF_4est_5depth.pkl mse_test:0.10963541666666667, mse_gener:4.67125\n",
      "leaf_regression_RF_6est_5depth.pkl mse_test:0.09745370370370371, mse_gener:8.4125\n",
      "leaf_regression_RF_8est_5depth.pkl mse_test:0.049088541666666666, mse_gener:2.83125\n",
      "leaf_regression_RF_10est_5depth.pkl mse_test:0.04479166666666665, mse_gener:4.3613\n",
      "leaf_regression_RF_12est_5depth.pkl mse_test:0.029947916666666664, mse_gener:1.7514583333333333\n",
      "leaf_regression_RF_14est_5depth.pkl mse_test:0.031207482993197342, mse_gener:14.596071428571436\n",
      "leaf_regression_RF_16est_5depth.pkl mse_test:0.024479166666666666, mse_gener:19.79328125\n",
      "leaf_regression_RF_18est_5depth.pkl mse_test:0.06728395061728394, mse_gener:0.7499074074074078\n",
      "leaf_regression_RF_20est_5depth.pkl mse_test:0.03662500000000002, mse_gener:1.64895\n",
      "leaf_regression_RF_22est_5depth.pkl mse_test:0.05996039944903585, mse_gener:4.030371900826445\n",
      "leaf_regression_RF_24est_5depth.pkl mse_test:0.0419921875, mse_gener:2.6456828703703703\n",
      "leaf_regression_RF_26est_5depth.pkl mse_test:0.04235083826429979, mse_gener:3.121814595660751\n",
      "leaf_regression_RF_28est_5depth.pkl mse_test:0.03630420918367348, mse_gener:4.810599489795918\n",
      "leaf_regression_RF_30est_5depth.pkl mse_test:0.023828703703703692, mse_gener:11.364866666666666\n",
      "leaf_regression_RF_32est_5depth.pkl mse_test:0.022847493489583332, mse_gener:22.198349609375\n",
      "leaf_regression_RF_34est_5depth.pkl mse_test:0.0315383506343714, mse_gener:0.9656487889273357\n",
      "leaf_regression_RF_36est_5depth.pkl mse_test:0.026970807613168724, mse_gener:2.6293930041152263\n",
      "leaf_regression_RF_38est_5depth.pkl mse_test:0.025917590027700818, mse_gener:11.163594182825493\n",
      "leaf_regression_RF_40est_5depth.pkl mse_test:0.02763281250000001, mse_gener:1.4155250000000001\n",
      "leaf_regression_RF_42est_5depth.pkl mse_test:0.0573672524565382, mse_gener:4.368992819349962\n",
      "leaf_regression_RF_44est_5depth.pkl mse_test:0.02154356060606059, mse_gener:4.629932851239669\n",
      "leaf_regression_RF_46est_5depth.pkl mse_test:0.025088610586011317, mse_gener:11.511184625078767\n",
      "leaf_regression_RF_48est_5depth.pkl mse_test:0.02495478877314815, mse_gener:4.6904296875\n",
      "leaf_regression_RF_50est_5depth.pkl mse_test:0.053246666666666664, mse_gener:2.483774666666667\n",
      "leaf_regression_RF_52est_5depth.pkl mse_test:0.026123335798816583, mse_gener:0.3948705621301774\n",
      "leaf_regression_RF_54est_5depth.pkl mse_test:0.04560470964791955, mse_gener:3.5139803383630532\n",
      "leaf_regression_RF_56est_5depth.pkl mse_test:0.03591491284013602, mse_gener:4.706169217687075\n",
      "leaf_regression_RF_58est_5depth.pkl mse_test:0.028672463337296842, mse_gener:2.8322889417360293\n",
      "leaf_regression_RF_60est_5depth.pkl mse_test:0.02841435185185185, mse_gener:4.6402\n",
      "leaf_regression_RF_62est_5depth.pkl mse_test:0.027297953520638255, mse_gener:8.60650624349636\n",
      "leaf_regression_RF_64est_5depth.pkl mse_test:0.0302154541015625, mse_gener:2.3910302734375\n",
      "leaf_regression_RF_66est_5depth.pkl mse_test:0.024339034282216142, mse_gener:2.168997551270278\n",
      "leaf_regression_RF_68est_5depth.pkl mse_test:0.020937860438292953, mse_gener:1.459273356401384\n",
      "leaf_regression_RF_70est_5depth.pkl mse_test:0.034478741496598624, mse_gener:4.324834693877551\n",
      "leaf_regression_RF_72est_5depth.pkl mse_test:0.037023373199588455, mse_gener:11.813243312757201\n",
      "leaf_regression_RF_74est_5depth.pkl mse_test:0.030855094959824702, mse_gener:0.9262776966155343\n",
      "leaf_regression_RF_76est_5depth.pkl mse_test:0.03244892659279778, mse_gener:2.2414819944598334\n",
      "leaf_regression_RF_78est_5depth.pkl mse_test:0.023524819197896143, mse_gener:4.12356070567609\n",
      "leaf_regression_RF_80est_5depth.pkl mse_test:0.019272786458333333, mse_gener:2.497226041666667\n",
      "leaf_regression_RF_82est_5depth.pkl mse_test:0.0282520325203252, mse_gener:3.073154372397383\n",
      "leaf_regression_RF_84est_5depth.pkl mse_test:0.016646589191232034, mse_gener:3.444050925925926\n",
      "leaf_regression_RF_86est_5depth.pkl mse_test:0.021534162610420033, mse_gener:3.8178001622498647\n",
      "leaf_regression_RF_88est_5depth.pkl mse_test:0.03320204889807167, mse_gener:2.153644111570248\n",
      "leaf_regression_RF_90est_5depth.pkl mse_test:0.026364197530864223, mse_gener:6.066664609053498\n",
      "leaf_regression_RF_92est_5depth.pkl mse_test:0.028353418399495886, mse_gener:0.8832431474480158\n",
      "leaf_regression_RF_94est_5depth.pkl mse_test:0.026121359589557875, mse_gener:5.821935264825712\n",
      "leaf_regression_RF_96est_5depth.pkl mse_test:0.026681857638888886, mse_gener:1.5448658130787036\n",
      "leaf_regression_RF_98est_5depth.pkl mse_test:0.02376353602665558, mse_gener:4.677942523948355\n",
      "leaf_regression_RF_100est_5depth.pkl mse_test:0.02224916666666663, mse_gener:9.074111\n",
      "leaf_regression_RF_2est_6depth.pkl mse_test:0.28020833333333334, mse_gener:52.0425\n",
      "leaf_regression_RF_4est_6depth.pkl mse_test:0.01875, mse_gener:25.425\n",
      "leaf_regression_RF_6est_6depth.pkl mse_test:0.2059027777777778, mse_gener:7.324166666666667\n",
      "leaf_regression_RF_8est_6depth.pkl mse_test:0.0720703125, mse_gener:5.655625\n",
      "leaf_regression_RF_10est_6depth.pkl mse_test:0.080375, mse_gener:1.7659\n",
      "leaf_regression_RF_12est_6depth.pkl mse_test:0.027951388888888883, mse_gener:10.143541666666666\n",
      "leaf_regression_RF_14est_6depth.pkl mse_test:0.07465986394557834, mse_gener:2.92734693877551\n",
      "leaf_regression_RF_16est_6depth.pkl mse_test:0.03868815104166667, mse_gener:9.931328125\n",
      "leaf_regression_RF_18est_6depth.pkl mse_test:0.02928240740740742, mse_gener:0.5801851851851858\n",
      "leaf_regression_RF_20est_6depth.pkl mse_test:0.035989583333333346, mse_gener:6.780725\n",
      "leaf_regression_RF_22est_6depth.pkl mse_test:0.05843663911845735, mse_gener:1.843264462809918\n",
      "leaf_regression_RF_24est_6depth.pkl mse_test:0.034172453703703705, mse_gener:10.405677083333334\n",
      "leaf_regression_RF_26est_6depth.pkl mse_test:0.028796844181459537, mse_gener:8.175483234714001\n",
      "leaf_regression_RF_28est_6depth.pkl mse_test:0.03180272108843537, mse_gener:1.514808673469387\n",
      "leaf_regression_RF_30est_6depth.pkl mse_test:0.039282407407407405, mse_gener:1.8770259259259259\n",
      "leaf_regression_RF_32est_6depth.pkl mse_test:0.05850423177083333, mse_gener:13.1398828125\n",
      "leaf_regression_RF_34est_6depth.pkl mse_test:0.046319925028835085, mse_gener:8.897110726643602\n",
      "leaf_regression_RF_36est_6depth.pkl mse_test:0.029256687242798386, mse_gener:3.5934027777777784\n",
      "leaf_regression_RF_38est_6depth.pkl mse_test:0.02793744228993534, mse_gener:1.7193975069252057\n",
      "leaf_regression_RF_40est_6depth.pkl mse_test:0.029601562500000015, mse_gener:1.0506875\n",
      "leaf_regression_RF_42est_6depth.pkl mse_test:0.03205546107331827, mse_gener:11.79644557823129\n",
      "leaf_regression_RF_44est_6depth.pkl mse_test:0.025217372589531703, mse_gener:8.115614669421488\n",
      "leaf_regression_RF_46est_6depth.pkl mse_test:0.02711877756773786, mse_gener:6.600723062381851\n",
      "leaf_regression_RF_48est_6depth.pkl mse_test:0.03552698206018519, mse_gener:3.986015625\n",
      "leaf_regression_RF_50est_6depth.pkl mse_test:0.0267716666666667, mse_gener:6.0891453333333345\n",
      "leaf_regression_RF_52est_6depth.pkl mse_test:0.03599913708086785, mse_gener:2.737732988165679\n",
      "leaf_regression_RF_54est_6depth.pkl mse_test:0.027626314586191168, mse_gener:4.7184007773205305\n",
      "leaf_regression_RF_56est_6depth.pkl mse_test:0.02586229804421769, mse_gener:1.1980197704081623\n",
      "leaf_regression_RF_58est_6depth.pkl mse_test:0.038338535473642514, mse_gener:2.150130796670631\n",
      "leaf_regression_RF_60est_6depth.pkl mse_test:0.02325694444444444, mse_gener:1.918412962962963\n",
      "leaf_regression_RF_62est_6depth.pkl mse_test:0.03121531390912248, mse_gener:2.910974679153657\n",
      "leaf_regression_RF_64est_6depth.pkl mse_test:0.0336517333984375, mse_gener:1.125810546875\n",
      "leaf_regression_RF_66est_6depth.pkl mse_test:0.02371728650137741, mse_gener:6.7971632996633\n",
      "leaf_regression_RF_68est_6depth.pkl mse_test:0.04016003460207608, mse_gener:6.900565888119954\n",
      "leaf_regression_RF_70est_6depth.pkl mse_test:0.029267857142857165, mse_gener:4.194567346938776\n",
      "leaf_regression_RF_72est_6depth.pkl mse_test:0.017021926440329217, mse_gener:3.1201150977366257\n",
      "leaf_regression_RF_74est_6depth.pkl mse_test:0.025524257365473584, mse_gener:3.7391027514000483\n",
      "leaf_regression_RF_76est_6depth.pkl mse_test:0.016501471606648187, mse_gener:6.632439404432133\n",
      "leaf_regression_RF_78est_6depth.pkl mse_test:0.0351482029366645, mse_gener:7.948985316677623\n",
      "leaf_regression_RF_80est_6depth.pkl mse_test:0.031628906249999984, mse_gener:3.9409625000000004\n",
      "leaf_regression_RF_82est_6depth.pkl mse_test:0.031802126710291465, mse_gener:7.2083744794765\n",
      "leaf_regression_RF_84est_6depth.pkl mse_test:0.032968395691609954, mse_gener:5.495806878306879\n",
      "leaf_regression_RF_86est_6depth.pkl mse_test:0.026505881557598705, mse_gener:4.6043397331891125\n",
      "leaf_regression_RF_88est_6depth.pkl mse_test:0.025902311466942173, mse_gener:3.9739837293388427\n",
      "leaf_regression_RF_90est_6depth.pkl mse_test:0.030738683127572015, mse_gener:6.401231275720164\n",
      "leaf_regression_RF_92est_6depth.pkl mse_test:0.02840412334593577, mse_gener:7.884848771266539\n",
      "leaf_regression_RF_94est_6depth.pkl mse_test:0.03244067828580055, mse_gener:7.313766410140335\n",
      "leaf_regression_RF_96est_6depth.pkl mse_test:0.018967918113425925, mse_gener:3.353310185185185\n",
      "leaf_regression_RF_98est_6depth.pkl mse_test:0.02145763917812023, mse_gener:2.4289198944884074\n",
      "leaf_regression_RF_100est_6depth.pkl mse_test:0.03758708333333336, mse_gener:2.885489\n",
      "leaf_regression_RF_2est_7depth.pkl mse_test:0.13333333333333333, mse_gener:7.3975\n",
      "leaf_regression_RF_4est_7depth.pkl mse_test:0.023958333333333335, mse_gener:14.05125\n",
      "leaf_regression_RF_6est_7depth.pkl mse_test:0.09571759259259259, mse_gener:3.5033333333333334\n",
      "leaf_regression_RF_8est_7depth.pkl mse_test:0.041276041666666666, mse_gener:3.8740625\n",
      "leaf_regression_RF_10est_7depth.pkl mse_test:0.05999999999999998, mse_gener:11.2928\n",
      "leaf_regression_RF_12est_7depth.pkl mse_test:0.0933449074074074, mse_gener:10.580416666666666\n",
      "leaf_regression_RF_14est_7depth.pkl mse_test:0.049213435374149704, mse_gener:0.8049489795918358\n",
      "leaf_regression_RF_16est_7depth.pkl mse_test:0.0244140625, mse_gener:8.8771875\n",
      "leaf_regression_RF_18est_7depth.pkl mse_test:0.033989197530864185, mse_gener:0.7812962962962966\n",
      "leaf_regression_RF_20est_7depth.pkl mse_test:0.03185416666666667, mse_gener:0.9750166666666666\n",
      "leaf_regression_RF_22est_7depth.pkl mse_test:0.0352100550964188, mse_gener:1.580165289256197\n",
      "leaf_regression_RF_24est_7depth.pkl mse_test:0.016659432870370368, mse_gener:1.6682349537037036\n",
      "leaf_regression_RF_26est_7depth.pkl mse_test:0.02680596646942799, mse_gener:9.116977317554237\n",
      "leaf_regression_RF_28est_7depth.pkl mse_test:0.020014880952380958, mse_gener:30.37757653061225\n",
      "leaf_regression_RF_30est_7depth.pkl mse_test:0.023435185185185184, mse_gener:4.893370370370372\n",
      "leaf_regression_RF_32est_7depth.pkl mse_test:0.036332194010416666, mse_gener:3.00013671875\n",
      "leaf_regression_RF_34est_7depth.pkl mse_test:0.0182994521337947, mse_gener:5.981955017301038\n",
      "leaf_regression_RF_36est_7depth.pkl mse_test:0.046765689300411535, mse_gener:0.31118312757201627\n",
      "leaf_regression_RF_38est_7depth.pkl mse_test:0.027190096952908617, mse_gener:0.9650969529085861\n",
      "leaf_regression_RF_40est_7depth.pkl mse_test:0.05619791666666663, mse_gener:0.8361875000000001\n",
      "leaf_regression_RF_42est_7depth.pkl mse_test:0.034148242630385496, mse_gener:4.132944066515494\n",
      "leaf_regression_RF_44est_7depth.pkl mse_test:0.03099819214876035, mse_gener:5.083736225895316\n",
      "leaf_regression_RF_46est_7depth.pkl mse_test:0.01564666036546942, mse_gener:9.444943289224952\n",
      "leaf_regression_RF_48est_7depth.pkl mse_test:0.04618236400462963, mse_gener:1.4551302083333333\n",
      "leaf_regression_RF_50est_7depth.pkl mse_test:0.025339999999999998, mse_gener:11.541896\n",
      "leaf_regression_RF_52est_7depth.pkl mse_test:0.03234714003944773, mse_gener:5.71375\n",
      "leaf_regression_RF_54est_7depth.pkl mse_test:0.04133087562871514, mse_gener:1.3496707818930043\n",
      "leaf_regression_RF_56est_7depth.pkl mse_test:0.04083625637755103, mse_gener:2.1693792517006805\n",
      "leaf_regression_RF_58est_7depth.pkl mse_test:0.020533590963139097, mse_gener:6.4479994054696785\n",
      "leaf_regression_RF_60est_7depth.pkl mse_test:0.028039351851851867, mse_gener:2.380633333333333\n",
      "leaf_regression_RF_62est_7depth.pkl mse_test:0.033562044745057217, mse_gener:3.1197545959070396\n",
      "leaf_regression_RF_64est_7depth.pkl mse_test:0.026739501953125, mse_gener:10.13908203125\n",
      "leaf_regression_RF_66est_7depth.pkl mse_test:0.031015648913376163, mse_gener:10.97\n",
      "leaf_regression_RF_68est_7depth.pkl mse_test:0.04247675173010374, mse_gener:0.33396770472895027\n",
      "leaf_regression_RF_70est_7depth.pkl mse_test:0.018373299319727875, mse_gener:4.706346938775511\n",
      "leaf_regression_RF_72est_7depth.pkl mse_test:0.02082770704732511, mse_gener:2.9064178240740746\n",
      "leaf_regression_RF_74est_7depth.pkl mse_test:0.03548058193328467, mse_gener:3.776573532992452\n",
      "leaf_regression_RF_76est_7depth.pkl mse_test:0.03870974722991691, mse_gener:3.0362326869806098\n",
      "leaf_regression_RF_78est_7depth.pkl mse_test:0.034008601797063345, mse_gener:8.877051282051282\n",
      "leaf_regression_RF_80est_7depth.pkl mse_test:0.021598958333333328, mse_gener:8.552009895833335\n",
      "leaf_regression_RF_82est_7depth.pkl mse_test:0.028124999999999987, mse_gener:3.5519824509220705\n",
      "leaf_regression_RF_84est_7depth.pkl mse_test:0.031976332199546494, mse_gener:3.4217153250188965\n",
      "leaf_regression_RF_86est_7depth.pkl mse_test:0.02132853344149992, mse_gener:4.105717955651705\n",
      "leaf_regression_RF_88est_7depth.pkl mse_test:0.0319456998966942, mse_gener:3.1078099173553726\n",
      "leaf_regression_RF_90est_7depth.pkl mse_test:0.03434104938271606, mse_gener:7.150225925925928\n",
      "leaf_regression_RF_92est_7depth.pkl mse_test:0.022181691083805934, mse_gener:1.143992989918085\n",
      "leaf_regression_RF_94est_7depth.pkl mse_test:0.020902652029576, mse_gener:11.885239927569035\n",
      "leaf_regression_RF_96est_7depth.pkl mse_test:0.036172146267361115, mse_gener:1.407890625\n",
      "leaf_regression_RF_98est_7depth.pkl mse_test:0.024521900596973498, mse_gener:4.418815771206442\n",
      "leaf_regression_RF_100est_7depth.pkl mse_test:0.024518333333333305, mse_gener:6.343278\n",
      "leaf_regression_RF_2est_8depth.pkl mse_test:0.05, mse_gener:25.13\n",
      "leaf_regression_RF_4est_8depth.pkl mse_test:0.14114583333333333, mse_gener:2.2675\n",
      "leaf_regression_RF_6est_8depth.pkl mse_test:0.04780092592592592, mse_gener:20.796666666666667\n",
      "leaf_regression_RF_8est_8depth.pkl mse_test:0.05475260416666667, mse_gener:24.9565625\n",
      "leaf_regression_RF_10est_8depth.pkl mse_test:0.1284583333333333, mse_gener:0.8220999999999999\n",
      "leaf_regression_RF_12est_8depth.pkl mse_test:0.06085069444444444, mse_gener:6.560625\n",
      "leaf_regression_RF_14est_8depth.pkl mse_test:0.03008078231292522, mse_gener:11.396632653061234\n",
      "leaf_regression_RF_16est_8depth.pkl mse_test:0.06204427083333333, mse_gener:8.8130078125\n",
      "leaf_regression_RF_18est_8depth.pkl mse_test:0.024832818930041137, mse_gener:1.5675925925925938\n",
      "leaf_regression_RF_20est_8depth.pkl mse_test:0.07293750000000002, mse_gener:5.142675\n",
      "leaf_regression_RF_22est_8depth.pkl mse_test:0.037568870523416, mse_gener:10.405929752066118\n",
      "leaf_regression_RF_24est_8depth.pkl mse_test:0.04372829861111112, mse_gener:1.3395196759259258\n",
      "leaf_regression_RF_26est_8depth.pkl mse_test:0.0424987672583826, mse_gener:1.897864891518739\n",
      "leaf_regression_RF_28est_8depth.pkl mse_test:0.05375744047619048, mse_gener:5.518022959183674\n",
      "leaf_regression_RF_30est_8depth.pkl mse_test:0.05616203703703703, mse_gener:0.14568148148148144\n",
      "leaf_regression_RF_32est_8depth.pkl mse_test:0.019453938802083334, mse_gener:2.386572265625\n",
      "leaf_regression_RF_34est_8depth.pkl mse_test:0.02630478662053058, mse_gener:0.8489532871972308\n",
      "leaf_regression_RF_36est_8depth.pkl mse_test:0.04040637860082307, mse_gener:6.162708333333334\n",
      "leaf_regression_RF_38est_8depth.pkl mse_test:0.029893813481071136, mse_gener:8.948349492151435\n",
      "leaf_regression_RF_40est_8depth.pkl mse_test:0.027007812500000013, mse_gener:10.2779875\n",
      "leaf_regression_RF_42est_8depth.pkl mse_test:0.048785903250188986, mse_gener:2.752847694633406\n",
      "leaf_regression_RF_44est_8depth.pkl mse_test:0.034282455234159785, mse_gener:3.716885330578513\n",
      "leaf_regression_RF_46est_8depth.pkl mse_test:0.04437027410207937, mse_gener:12.040028355387523\n",
      "leaf_regression_RF_48est_8depth.pkl mse_test:0.01820023148148148, mse_gener:5.289518229166666\n",
      "leaf_regression_RF_50est_8depth.pkl mse_test:0.03678500000000004, mse_gener:4.292764\n",
      "leaf_regression_RF_52est_8depth.pkl mse_test:0.029795364891518725, mse_gener:3.505151627218934\n",
      "leaf_regression_RF_54est_8depth.pkl mse_test:0.03010259487882945, mse_gener:6.945676726108824\n",
      "leaf_regression_RF_56est_8depth.pkl mse_test:0.03258264243197278, mse_gener:2.787502125850341\n",
      "leaf_regression_RF_58est_8depth.pkl mse_test:0.02482287950852157, mse_gener:7.610047562425683\n",
      "leaf_regression_RF_60est_8depth.pkl mse_test:0.026940972222222238, mse_gener:0.8345620370370369\n",
      "leaf_regression_RF_62est_8depth.pkl mse_test:0.028121748178980274, mse_gener:6.047816510579258\n",
      "leaf_regression_RF_64est_8depth.pkl mse_test:0.024842325846354166, mse_gener:2.2279728190104167\n",
      "leaf_regression_RF_66est_8depth.pkl mse_test:0.027222987450260184, mse_gener:4.920571625344352\n",
      "leaf_regression_RF_68est_8depth.pkl mse_test:0.024031322087658555, mse_gener:5.236961505190311\n",
      "leaf_regression_RF_70est_8depth.pkl mse_test:0.0450110544217687, mse_gener:3.5450061224489793\n",
      "leaf_regression_RF_72est_8depth.pkl mse_test:0.02344393004115226, mse_gener:4.076822916666667\n",
      "leaf_regression_RF_74est_8depth.pkl mse_test:0.02122215120525933, mse_gener:8.028120282444606\n",
      "leaf_regression_RF_76est_8depth.pkl mse_test:0.02667864150507846, mse_gener:9.492236842105264\n",
      "leaf_regression_RF_78est_8depth.pkl mse_test:0.0369993699320622, mse_gener:1.1474298706991022\n",
      "leaf_regression_RF_80est_8depth.pkl mse_test:0.032796223958333336, mse_gener:1.5275505208333333\n",
      "leaf_regression_RF_82est_8depth.pkl mse_test:0.030568362086059907, mse_gener:3.082972437041444\n",
      "leaf_regression_RF_84est_8depth.pkl mse_test:0.027846867913832188, mse_gener:2.628418367346939\n",
      "leaf_regression_RF_86est_8depth.pkl mse_test:0.026237718586623392, mse_gener:4.9061042004687225\n",
      "leaf_regression_RF_88est_8depth.pkl mse_test:0.023016206095041323, mse_gener:3.1285989152892566\n",
      "leaf_regression_RF_90est_8depth.pkl mse_test:0.021712448559670798, mse_gener:4.41690534979424\n",
      "leaf_regression_RF_92est_8depth.pkl mse_test:0.03003209672337744, mse_gener:1.1137110113421556\n",
      "leaf_regression_RF_94est_8depth.pkl mse_test:0.024759506564056163, mse_gener:3.7157220461747396\n",
      "leaf_regression_RF_96est_8depth.pkl mse_test:0.026753291377314813, mse_gener:4.081979166666667\n",
      "leaf_regression_RF_98est_8depth.pkl mse_test:0.021206441760377608, mse_gener:9.85291475773983\n",
      "leaf_regression_RF_100est_8depth.pkl mse_test:0.02994125000000001, mse_gener:2.430383\n",
      "leaf_regression_RF_2est_9depth.pkl mse_test:0.008333333333333333, mse_gener:10.0225\n",
      "leaf_regression_RF_4est_9depth.pkl mse_test:0.284375, mse_gener:25.115\n",
      "leaf_regression_RF_6est_9depth.pkl mse_test:0.043634259259259255, mse_gener:15.214166666666667\n",
      "leaf_regression_RF_8est_9depth.pkl mse_test:0.0404296875, mse_gener:13.5328125\n",
      "leaf_regression_RF_10est_9depth.pkl mse_test:0.0673333333333333, mse_gener:5.17\n",
      "leaf_regression_RF_12est_9depth.pkl mse_test:0.06568287037037038, mse_gener:3.4672916666666667\n",
      "leaf_regression_RF_14est_9depth.pkl mse_test:0.052189625850340184, mse_gener:5.051581632653061\n",
      "leaf_regression_RF_16est_9depth.pkl mse_test:0.037548828125, mse_gener:1.3544921875\n",
      "leaf_regression_RF_18est_9depth.pkl mse_test:0.04885545267489712, mse_gener:2.8049074074074087\n",
      "leaf_regression_RF_20est_9depth.pkl mse_test:0.03326041666666669, mse_gener:0.5255749999999999\n",
      "leaf_regression_RF_22est_9depth.pkl mse_test:0.09706439393939402, mse_gener:2.851301652892559\n",
      "leaf_regression_RF_24est_9depth.pkl mse_test:0.03235677083333333, mse_gener:2.6163541666666665\n",
      "leaf_regression_RF_26est_9depth.pkl mse_test:0.044045857988165654, mse_gener:3.596962524654833\n",
      "leaf_regression_RF_28est_9depth.pkl mse_test:0.05235969387755101, mse_gener:0.4128188775510201\n",
      "leaf_regression_RF_30est_9depth.pkl mse_test:0.023925925925925927, mse_gener:1.6780333333333335\n",
      "leaf_regression_RF_32est_9depth.pkl mse_test:0.03651123046875, mse_gener:4.8331640625\n",
      "leaf_regression_RF_34est_9depth.pkl mse_test:0.02768166089965398, mse_gener:1.796038062283736\n",
      "leaf_regression_RF_36est_9depth.pkl mse_test:0.026562499999999996, mse_gener:4.531180555555556\n",
      "leaf_regression_RF_38est_9depth.pkl mse_test:0.025672322253000913, mse_gener:17.876087257617723\n",
      "leaf_regression_RF_40est_9depth.pkl mse_test:0.04441666666666668, mse_gener:2.9535125\n",
      "leaf_regression_RF_42est_9depth.pkl mse_test:0.026932161753590356, mse_gener:6.993233182161754\n",
      "leaf_regression_RF_44est_9depth.pkl mse_test:0.02507747933884302, mse_gener:2.3322348484848474\n",
      "leaf_regression_RF_46est_9depth.pkl mse_test:0.0354501417769376, mse_gener:1.1230103969754253\n",
      "leaf_regression_RF_48est_9depth.pkl mse_test:0.038190827546296297, mse_gener:4.47703125\n",
      "leaf_regression_RF_50est_9depth.pkl mse_test:0.031606666666666644, mse_gener:2.8051519999999996\n",
      "leaf_regression_RF_52est_9depth.pkl mse_test:0.02828525641025643, mse_gener:1.9838646449704136\n",
      "leaf_regression_RF_54est_9depth.pkl mse_test:0.013564529035208066, mse_gener:6.342489711934156\n",
      "leaf_regression_RF_56est_9depth.pkl mse_test:0.024161617772108825, mse_gener:7.22157206632653\n",
      "leaf_regression_RF_58est_9depth.pkl mse_test:0.02745739199365835, mse_gener:9.083079667063021\n",
      "leaf_regression_RF_60est_9depth.pkl mse_test:0.031248842592592585, mse_gener:3.764333333333333\n",
      "leaf_regression_RF_62est_9depth.pkl mse_test:0.02676140305237602, mse_gener:0.44954734651404765\n",
      "leaf_regression_RF_64est_9depth.pkl mse_test:0.020403035481770835, mse_gener:8.57169677734375\n",
      "leaf_regression_RF_66est_9depth.pkl mse_test:0.029037534435261716, mse_gener:6.964481175390267\n",
      "leaf_regression_RF_68est_9depth.pkl mse_test:0.04025374855824679, mse_gener:1.2914035467128027\n",
      "leaf_regression_RF_70est_9depth.pkl mse_test:0.029176020408163267, mse_gener:4.312257142857143\n",
      "leaf_regression_RF_72est_9depth.pkl mse_test:0.0335865162037037, mse_gener:3.1253125\n",
      "leaf_regression_RF_74est_9depth.pkl mse_test:0.028884374239103974, mse_gener:2.3178987095203305\n",
      "leaf_regression_RF_76est_9depth.pkl mse_test:0.029567030240073826, mse_gener:2.6162863573407193\n",
      "leaf_regression_RF_78est_9depth.pkl mse_test:0.025582127985974108, mse_gener:8.421474906859522\n",
      "leaf_regression_RF_80est_9depth.pkl mse_test:0.042729817708333305, mse_gener:0.9956083333333335\n",
      "leaf_regression_RF_82est_9depth.pkl mse_test:0.024483814197898062, mse_gener:4.999002082093992\n",
      "leaf_regression_RF_84est_9depth.pkl mse_test:0.019891463529856365, mse_gener:15.048843537414966\n",
      "leaf_regression_RF_86est_9depth.pkl mse_test:0.014634036416080723, mse_gener:6.826443122408509\n",
      "leaf_regression_RF_88est_9depth.pkl mse_test:0.02013440513085401, mse_gener:2.2528731921487597\n",
      "leaf_regression_RF_90est_9depth.pkl mse_test:0.02616255144032922, mse_gener:8.608692592592593\n",
      "leaf_regression_RF_92est_9depth.pkl mse_test:0.03752461405166982, mse_gener:1.9000874291115315\n",
      "leaf_regression_RF_94est_9depth.pkl mse_test:0.016895842764448474, mse_gener:6.042727478497057\n",
      "leaf_regression_RF_96est_9depth.pkl mse_test:0.022403971354166666, mse_gener:0.9081412760416666\n",
      "leaf_regression_RF_98est_9depth.pkl mse_test:0.02002377481604889, mse_gener:8.4145602526725\n",
      "leaf_regression_RF_100est_9depth.pkl mse_test:0.02250458333333332, mse_gener:4.9298910000000005\n",
      "leaf_regression_RF_2est_10depth.pkl mse_test:0.1625, mse_gener:6.3975\n",
      "leaf_regression_RF_4est_10depth.pkl mse_test:0.20885416666666667, mse_gener:2.450625\n",
      "leaf_regression_RF_6est_10depth.pkl mse_test:0.0994212962962963, mse_gener:25.38\n",
      "leaf_regression_RF_8est_10depth.pkl mse_test:0.06399739583333333, mse_gener:5.760572916666667\n",
      "leaf_regression_RF_12est_10depth.pkl mse_test:0.04898726851851851, mse_gener:3.834375\n",
      "leaf_regression_RF_14est_10depth.pkl mse_test:0.10159438775510203, mse_gener:5.232023809523809\n",
      "leaf_regression_RF_16est_10depth.pkl mse_test:0.059342447916666666, mse_gener:10.6282421875\n",
      "leaf_regression_RF_18est_10depth.pkl mse_test:0.035763888888888866, mse_gener:0.4742592592592598\n",
      "leaf_regression_RF_20est_10depth.pkl mse_test:0.04992708333333336, mse_gener:8.591700000000001\n",
      "leaf_regression_RF_22est_10depth.pkl mse_test:0.036845730027548276, mse_gener:3.0351446280991725\n",
      "leaf_regression_RF_24est_10depth.pkl mse_test:0.09058159722222223, mse_gener:4.978541666666667\n",
      "leaf_regression_RF_26est_10depth.pkl mse_test:0.03500986193293883, mse_gener:7.861405325443785\n",
      "leaf_regression_RF_28est_10depth.pkl mse_test:0.030224277210884352, mse_gener:4.849196428571427\n",
      "leaf_regression_RF_30est_10depth.pkl mse_test:0.03985648148148148, mse_gener:1.0349666666666666\n",
      "leaf_regression_RF_32est_10depth.pkl mse_test:0.024267578125, mse_gener:1.8658203125\n",
      "leaf_regression_RF_34est_10depth.pkl mse_test:0.038685841983852366, mse_gener:10.81307958477509\n",
      "leaf_regression_RF_36est_10depth.pkl mse_test:0.023820087448559672, mse_gener:2.813058127572017\n",
      "leaf_regression_RF_38est_10depth.pkl mse_test:0.016124192059095124, mse_gener:15.76408587257618\n",
      "leaf_regression_RF_40est_10depth.pkl mse_test:0.019195312499999995, mse_gener:10.159718749999998\n",
      "leaf_regression_RF_42est_10depth.pkl mse_test:0.04510109599395313, mse_gener:4.336572184429327\n",
      "leaf_regression_RF_44est_10depth.pkl mse_test:0.028893336776859516, mse_gener:5.588004476584023\n",
      "leaf_regression_RF_46est_10depth.pkl mse_test:0.019082781978575925, mse_gener:13.229792060491492\n",
      "leaf_regression_RF_48est_10depth.pkl mse_test:0.017019314236111107, mse_gener:0.7444458912037037\n",
      "leaf_regression_RF_50est_10depth.pkl mse_test:0.020509999999999976, mse_gener:1.2664079999999998\n",
      "leaf_regression_RF_52est_10depth.pkl mse_test:0.031196067554240623, mse_gener:3.7024038461538447\n",
      "leaf_regression_RF_54est_10depth.pkl mse_test:0.02240797896662092, mse_gener:2.307948102423411\n",
      "leaf_regression_RF_56est_10depth.pkl mse_test:0.02100473001700676, mse_gener:0.3904368622448976\n",
      "leaf_regression_RF_58est_10depth.pkl mse_test:0.04411043400713439, mse_gener:3.7740338882283013\n",
      "leaf_regression_RF_60est_10depth.pkl mse_test:0.025685185185185182, mse_gener:2.8671749999999996\n",
      "leaf_regression_RF_62est_10depth.pkl mse_test:0.03733524106833165, mse_gener:2.1220438779049586\n",
      "leaf_regression_RF_64est_10depth.pkl mse_test:0.025663248697916665, mse_gener:0.700205078125\n",
      "leaf_regression_RF_66est_10depth.pkl mse_test:0.03660659626568723, mse_gener:1.2983096112641563\n",
      "leaf_regression_RF_68est_10depth.pkl mse_test:0.024805363321799265, mse_gener:2.045532006920416\n",
      "leaf_regression_RF_70est_10depth.pkl mse_test:0.033852040816326506, mse_gener:6.077463265306122\n",
      "leaf_regression_RF_72est_10depth.pkl mse_test:0.03689637988683127, mse_gener:0.9869328703703707\n",
      "leaf_regression_RF_74est_10depth.pkl mse_test:0.03556884587289993, mse_gener:6.276617969320672\n",
      "leaf_regression_RF_76est_10depth.pkl mse_test:0.02578125000000001, mse_gener:11.286480263157895\n",
      "leaf_regression_RF_78est_10depth.pkl mse_test:0.03046036050843744, mse_gener:1.6247140039447736\n",
      "leaf_regression_RF_80est_10depth.pkl mse_test:0.037514322916666655, mse_gener:4.641876562500001\n",
      "leaf_regression_RF_82est_10depth.pkl mse_test:0.031859756097560976, mse_gener:3.2772873289708513\n",
      "leaf_regression_RF_84est_10depth.pkl mse_test:0.050599371693121634, mse_gener:7.944702853363568\n",
      "leaf_regression_RF_86est_10depth.pkl mse_test:0.02846076708130519, mse_gener:8.08314719668289\n",
      "leaf_regression_RF_88est_10depth.pkl mse_test:0.021685606060606075, mse_gener:4.345493285123966\n",
      "leaf_regression_RF_90est_10depth.pkl mse_test:0.017653806584362164, mse_gener:2.037085185185185\n",
      "leaf_regression_RF_92est_10depth.pkl mse_test:0.03833293950850659, mse_gener:7.971031033396345\n",
      "leaf_regression_RF_94est_10depth.pkl mse_test:0.023727742568281304, mse_gener:3.4890018107741056\n",
      "leaf_regression_RF_96est_10depth.pkl mse_test:0.020380768952546292, mse_gener:8.515180483217593\n",
      "leaf_regression_RF_98est_10depth.pkl mse_test:0.021973917117867555, mse_gener:4.635104470359572\n"
     ]
    }
   ],
   "source": [
    "errors2 = []\n",
    "for f in files: \n",
    "    mse_test, mse_gener = test_models(os.path.join(folder, f), X_test_RF, y_test, X_15mm_RF, y_15mm)\n",
    "    print(f, \"mse_test:{}, mse_gener:{}\".format(mse_test, mse_gener))\n",
    "    errors2.append([mse_test, mse_gener])\n",
    "err = np.asarray(errors2)"
   ]
  },
  {
   "cell_type": "code",
   "execution_count": 43,
   "metadata": {},
   "outputs": [],
   "source": [
    "import pandas as pd"
   ]
  },
  {
   "cell_type": "code",
   "execution_count": 44,
   "metadata": {},
   "outputs": [],
   "source": [
    "df = []\n",
    "for f, x in zip(files[1:], errors2[1:]):\n",
    "    df.append([int(regex.findall(f)[0]),int(regex.findall(f)[1]),\n",
    "          x[0], x[1]])"
   ]
  },
  {
   "cell_type": "code",
   "execution_count": 45,
   "metadata": {},
   "outputs": [],
   "source": [
    "df = pd.DataFrame(df, columns=[\"estimators\", \"max_depth\", \"mse_train\", \"mse_gener\"])"
   ]
  },
  {
   "cell_type": "code",
   "execution_count": 66,
   "metadata": {},
   "outputs": [
    {
     "data": {
      "text/plain": [
       "0       10\n",
       "1      100\n",
       "2        2\n",
       "3        4\n",
       "4        6\n",
       "5        8\n",
       "6       10\n",
       "7       12\n",
       "8       14\n",
       "9       16\n",
       "10      18\n",
       "11      20\n",
       "12      22\n",
       "13      24\n",
       "14      26\n",
       "15      28\n",
       "16      30\n",
       "17      32\n",
       "18      34\n",
       "19      36\n",
       "20      38\n",
       "21      40\n",
       "22      42\n",
       "23      44\n",
       "24      46\n",
       "25      48\n",
       "26      50\n",
       "27      52\n",
       "28      54\n",
       "29      56\n",
       "      ... \n",
       "456     40\n",
       "457     42\n",
       "458     44\n",
       "459     46\n",
       "460     48\n",
       "461     50\n",
       "462     52\n",
       "463     54\n",
       "464     56\n",
       "465     58\n",
       "466     60\n",
       "467     62\n",
       "468     64\n",
       "469     66\n",
       "470     68\n",
       "471     70\n",
       "472     72\n",
       "473     74\n",
       "474     76\n",
       "475     78\n",
       "476     80\n",
       "477     82\n",
       "478     84\n",
       "479     86\n",
       "480     88\n",
       "481     90\n",
       "482     92\n",
       "483     94\n",
       "484     96\n",
       "485     98\n",
       "Name: estimators, Length: 486, dtype: int64"
      ]
     },
     "execution_count": 66,
     "metadata": {},
     "output_type": "execute_result"
    }
   ],
   "source": [
    "df[\"estimators\"]"
   ]
  },
  {
   "cell_type": "code",
   "execution_count": 87,
   "metadata": {},
   "outputs": [],
   "source": [
    "import matplotlib.pyplot as plt"
   ]
  },
  {
   "cell_type": "code",
   "execution_count": 88,
   "metadata": {},
   "outputs": [
    {
     "data": {
      "text/plain": [
       "<Figure size 432x288 with 0 Axes>"
      ]
     },
     "metadata": {},
     "output_type": "display_data"
    },
    {
     "data": {
      "image/png": "[encoded data removed]",
      "text/plain": [
       "<Figure size 432x288 with 1 Axes>"
      ]
     },
     "metadata": {
      "needs_background": "light"
     },
     "output_type": "display_data"
    },
    {
     "data": {
      "image/png": "[encoded data removed]",
      "text/plain": [
       "<Figure size 432x288 with 1 Axes>"
      ]
     },
     "metadata": {
      "needs_background": "light"
     },
     "output_type": "display_data"
    }
   ],
   "source": [
    "plt.figure()\n",
    "df.plot.scatter(x=\"estimators\", y =\"mse_train\")\n",
    "df.plot.scatter(x=\"estimators\", y = \"mse_gener\",c='orange')\n",
    "plt.show()"
   ]
  },
  {
   "cell_type": "code",
   "execution_count": 79,
   "metadata": {},
   "outputs": [
    {
     "data": {
      "text/plain": [
       "<matplotlib.axes._subplots.AxesSubplot at 0x7fde12195518>"
      ]
     },
     "execution_count": 79,
     "metadata": {},
     "output_type": "execute_result"
    },
    {
     "data": {
      "image/png": "[encoded data removed]",
      "text/plain": [
       "<Figure size 432x288 with 1 Axes>"
      ]
     },
     "metadata": {
      "needs_background": "light"
     },
     "output_type": "display_data"
    },
    {
     "data": {
      "image/png": "[encoded data removed]",
      "text/plain": [
       "<Figure size 432x288 with 1 Axes>"
      ]
     },
     "metadata": {
      "needs_background": "light"
     },
     "output_type": "display_data"
    }
   ],
   "source": [
    "df.plot.scatter(x=\"max_depth\", y = \"mse_train\")\n",
    "df.plot.scatter(x=\"max_depth\", y = \"mse_gener\",c='orange')"
   ]
  },
  {
   "cell_type": "code",
   "execution_count": 46,
   "metadata": {},
   "outputs": [
    {
     "data": {
      "text/html": [
       "<div>\n",
       "<style scoped>\n",
       "    .dataframe tbody tr th:only-of-type {\n",
       "        vertical-align: middle;\n",
       "    }\n",
       "\n",
       "    .dataframe tbody tr th {\n",
       "        vertical-align: top;\n",
       "    }\n",
       "\n",
       "    .dataframe thead th {\n",
       "        text-align: right;\n",
       "    }\n",
       "</style>\n",
       "<table border=\"1\" class=\"dataframe\">\n",
       "  <thead>\n",
       "    <tr style=\"text-align: right;\">\n",
       "      <th></th>\n",
       "      <th>estimators</th>\n",
       "      <th>max_depth</th>\n",
       "      <th>mse_train</th>\n",
       "      <th>mse_gener</th>\n",
       "    </tr>\n",
       "  </thead>\n",
       "  <tbody>\n",
       "    <tr>\n",
       "      <th>count</th>\n",
       "      <td>486.000000</td>\n",
       "      <td>486.000000</td>\n",
       "      <td>486.000000</td>\n",
       "      <td>486.000000</td>\n",
       "    </tr>\n",
       "    <tr>\n",
       "      <th>mean</th>\n",
       "      <td>49.962963</td>\n",
       "      <td>5.629630</td>\n",
       "      <td>0.742770</td>\n",
       "      <td>5.950890</td>\n",
       "    </tr>\n",
       "    <tr>\n",
       "      <th>std</th>\n",
       "      <td>28.607667</td>\n",
       "      <td>2.811366</td>\n",
       "      <td>2.292880</td>\n",
       "      <td>7.384096</td>\n",
       "    </tr>\n",
       "    <tr>\n",
       "      <th>min</th>\n",
       "      <td>2.000000</td>\n",
       "      <td>1.000000</td>\n",
       "      <td>0.008333</td>\n",
       "      <td>0.145681</td>\n",
       "    </tr>\n",
       "    <tr>\n",
       "      <th>25%</th>\n",
       "      <td>26.000000</td>\n",
       "      <td>3.000000</td>\n",
       "      <td>0.025969</td>\n",
       "      <td>2.132687</td>\n",
       "    </tr>\n",
       "    <tr>\n",
       "      <th>50%</th>\n",
       "      <td>50.000000</td>\n",
       "      <td>6.000000</td>\n",
       "      <td>0.033999</td>\n",
       "      <td>3.980000</td>\n",
       "    </tr>\n",
       "    <tr>\n",
       "      <th>75%</th>\n",
       "      <td>74.000000</td>\n",
       "      <td>8.000000</td>\n",
       "      <td>0.059990</td>\n",
       "      <td>7.110978</td>\n",
       "    </tr>\n",
       "    <tr>\n",
       "      <th>max</th>\n",
       "      <td>100.000000</td>\n",
       "      <td>10.000000</td>\n",
       "      <td>9.568000</td>\n",
       "      <td>83.750000</td>\n",
       "    </tr>\n",
       "  </tbody>\n",
       "</table>\n",
       "</div>"
      ],
      "text/plain": [
       "       estimators   max_depth   mse_train   mse_gener\n",
       "count  486.000000  486.000000  486.000000  486.000000\n",
       "mean    49.962963    5.629630    0.742770    5.950890\n",
       "std     28.607667    2.811366    2.292880    7.384096\n",
       "min      2.000000    1.000000    0.008333    0.145681\n",
       "25%     26.000000    3.000000    0.025969    2.132687\n",
       "50%     50.000000    6.000000    0.033999    3.980000\n",
       "75%     74.000000    8.000000    0.059990    7.110978\n",
       "max    100.000000   10.000000    9.568000   83.750000"
      ]
     },
     "execution_count": 46,
     "metadata": {},
     "output_type": "execute_result"
    }
   ],
   "source": [
    "df.describe()"
   ]
  },
  {
   "cell_type": "markdown",
   "metadata": {},
   "source": [
    "#### get the best model"
   ]
  },
  {
   "cell_type": "code",
   "execution_count": 47,
   "metadata": {},
   "outputs": [
    {
     "data": {
      "text/html": [
       "<div>\n",
       "<style scoped>\n",
       "    .dataframe tbody tr th:only-of-type {\n",
       "        vertical-align: middle;\n",
       "    }\n",
       "\n",
       "    .dataframe tbody tr th {\n",
       "        vertical-align: top;\n",
       "    }\n",
       "\n",
       "    .dataframe thead th {\n",
       "        text-align: right;\n",
       "    }\n",
       "</style>\n",
       "<table border=\"1\" class=\"dataframe\">\n",
       "  <thead>\n",
       "    <tr style=\"text-align: right;\">\n",
       "      <th></th>\n",
       "      <th>estimators</th>\n",
       "      <th>max_depth</th>\n",
       "      <th>mse_train</th>\n",
       "      <th>mse_gener</th>\n",
       "    </tr>\n",
       "  </thead>\n",
       "  <tbody>\n",
       "    <tr>\n",
       "      <th>352</th>\n",
       "      <td>30</td>\n",
       "      <td>8</td>\n",
       "      <td>0.056162</td>\n",
       "      <td>0.145681</td>\n",
       "    </tr>\n",
       "    <tr>\n",
       "      <th>143</th>\n",
       "      <td>12</td>\n",
       "      <td>4</td>\n",
       "      <td>0.068171</td>\n",
       "      <td>0.249583</td>\n",
       "    </tr>\n",
       "    <tr>\n",
       "      <th>159</th>\n",
       "      <td>44</td>\n",
       "      <td>4</td>\n",
       "      <td>0.025050</td>\n",
       "      <td>0.268115</td>\n",
       "    </tr>\n",
       "    <tr>\n",
       "      <th>123</th>\n",
       "      <td>72</td>\n",
       "      <td>3</td>\n",
       "      <td>0.027593</td>\n",
       "      <td>0.295573</td>\n",
       "    </tr>\n",
       "    <tr>\n",
       "      <th>40</th>\n",
       "      <td>6</td>\n",
       "      <td>2</td>\n",
       "      <td>0.578006</td>\n",
       "      <td>0.304891</td>\n",
       "    </tr>\n",
       "  </tbody>\n",
       "</table>\n",
       "</div>"
      ],
      "text/plain": [
       "     estimators  max_depth  mse_train  mse_gener\n",
       "352          30          8   0.056162   0.145681\n",
       "143          12          4   0.068171   0.249583\n",
       "159          44          4   0.025050   0.268115\n",
       "123          72          3   0.027593   0.295573\n",
       "40            6          2   0.578006   0.304891"
      ]
     },
     "execution_count": 47,
     "metadata": {},
     "output_type": "execute_result"
    }
   ],
   "source": [
    "df.sort_values(by=[\"mse_gener\"]).head()"
   ]
  },
  {
   "cell_type": "code",
   "execution_count": 204,
   "metadata": {},
   "outputs": [],
   "source": [
    "model = joblib.load(\"/storage/yw18581/data/trained_models/Leaf_position_regression/leaf_regression_RF_30est_8depth.pkl\")"
   ]
  },
  {
   "cell_type": "code",
   "execution_count": 206,
   "metadata": {},
   "outputs": [],
   "source": [
    "preds_5cl = model.predict(reshape_RF(cut_X(X_test_5classes)))"
   ]
  },
  {
   "cell_type": "code",
   "execution_count": 207,
   "metadata": {},
   "outputs": [
    {
     "data": {
      "text/plain": [
       "0.06557777777777778"
      ]
     },
     "execution_count": 207,
     "metadata": {},
     "output_type": "execute_result"
    }
   ],
   "source": [
    "mean_squared_error(y_test_5classes, preds_5cl)"
   ]
  },
  {
   "cell_type": "code",
   "execution_count": 208,
   "metadata": {},
   "outputs": [],
   "source": [
    "preds_15mm = model.predict(X_15mm_RF)"
   ]
  },
  {
   "cell_type": "code",
   "execution_count": 209,
   "metadata": {},
   "outputs": [
    {
     "data": {
      "text/plain": [
       "0.14568148148148144"
      ]
     },
     "execution_count": 209,
     "metadata": {},
     "output_type": "execute_result"
    }
   ],
   "source": [
    "mean_squared_error(y_15mm, preds_15mm)"
   ]
  },
  {
   "cell_type": "code",
   "execution_count": 220,
   "metadata": {},
   "outputs": [
    {
     "data": {
      "image/png": "[encoded data removed]",
      "text/plain": [
       "<Figure size 432x288 with 1 Axes>"
      ]
     },
     "metadata": {
      "needs_background": "light"
     },
     "output_type": "display_data"
    }
   ],
   "source": [
    "plt.hist(preds_15mm, bins=20)\n",
    "plt.show()"
   ]
  },
  {
   "cell_type": "code",
   "execution_count": 257,
   "metadata": {},
   "outputs": [
    {
     "data": {
      "image/png": "[encoded data removed]",
      "text/plain": [
       "<Figure size 432x288 with 1 Axes>"
      ]
     },
     "metadata": {
      "needs_background": "light"
     },
     "output_type": "display_data"
    }
   ],
   "source": [
    "import numpy as np\n",
    "from scipy.stats import norm\n",
    "import matplotlib.pyplot as plt\n",
    "\n",
    "data = preds_15mm-y_15mm\n",
    "mean,std=norm.fit(data)\n",
    "\n",
    "plt.hist(data, bins=6, normed=True, facecolor='white',edgecolor =\"k\",  alpha=1)\n",
    "xmin, xmax = plt.xlim()\n",
    "x = np.linspace(xmin, xmax, 100)\n",
    "y = norm.pdf(x, mean, std)\n",
    "plt.plot(x, y, c='r')\n",
    "plt.xlabel('y_pred-y_true(mm)')\n",
    "plt.ylabel('Frequence')\n",
    "plt.title(r'$\\mathrm{Histogram\\ of\\ IQ:}\\ \\mu=%.3f,\\ \\sigma=%.3f$' %(mean, std))\n",
    "plt.show()"
   ]
  },
  {
   "cell_type": "code",
   "execution_count": 48,
   "metadata": {},
   "outputs": [],
   "source": [
    "rf_grid = joblib.load(\"rf_rand_grd_search_best_estimator.pkl\")"
   ]
  },
  {
   "cell_type": "code",
   "execution_count": 49,
   "metadata": {},
   "outputs": [],
   "source": [
    "preds_test= rf_grid.predict(X_test_RF)"
   ]
  },
  {
   "cell_type": "code",
   "execution_count": 50,
   "metadata": {},
   "outputs": [
    {
     "data": {
      "text/plain": [
       "0.025301666666666636"
      ]
     },
     "execution_count": 50,
     "metadata": {},
     "output_type": "execute_result"
    }
   ],
   "source": [
    "mean_squared_error(y_test, preds_test)"
   ]
  },
  {
   "cell_type": "code",
   "execution_count": 51,
   "metadata": {},
   "outputs": [],
   "source": [
    "preds_15mm = rf_grid.predict(X_15mm_RF)"
   ]
  },
  {
   "cell_type": "code",
   "execution_count": 52,
   "metadata": {},
   "outputs": [
    {
     "data": {
      "text/plain": [
       "3.782362666666667"
      ]
     },
     "execution_count": 52,
     "metadata": {},
     "output_type": "execute_result"
    }
   ],
   "source": [
    "mean_squared_error(y_15mm, preds_15mm)"
   ]
  },
  {
   "cell_type": "code",
   "execution_count": 53,
   "metadata": {},
   "outputs": [
    {
     "name": "stderr",
     "output_type": "stream",
     "text": [
      "/users/yw18581/.conda/envs/fluffy-bunnies/lib/python3.6/site-packages/matplotlib/axes/_axes.py:6521: MatplotlibDeprecationWarning: \n",
      "The 'normed' kwarg was deprecated in Matplotlib 2.1 and will be removed in 3.1. Use 'density' instead.\n",
      "  alternative=\"'density'\", removal=\"3.1\")\n"
     ]
    },
    {
     "data": {
      "image/png": "[encoded data removed]",
      "text/plain": [
       "<Figure size 432x288 with 1 Axes>"
      ]
     },
     "metadata": {
      "needs_background": "light"
     },
     "output_type": "display_data"
    }
   ],
   "source": [
    "import numpy as np\n",
    "from scipy.stats import norm\n",
    "import matplotlib.pyplot as plt\n",
    "\n",
    "data = preds_15mm-y_15mm\n",
    "mean,std=norm.fit(data)\n",
    "\n",
    "plt.hist(data, bins=6, normed=True, facecolor='white',edgecolor =\"k\",  alpha=1)\n",
    "xmin, xmax = plt.xlim()\n",
    "x = np.linspace(xmin, xmax, 100)\n",
    "y = norm.pdf(x, mean, std)\n",
    "plt.plot(x, y, c='r')\n",
    "plt.xlabel('y_pred-y_true(mm)')\n",
    "plt.ylabel('Frequence')\n",
    "plt.title(r'$\\mathrm{Histogram\\ of\\ IQ:}\\ \\mu=%.3f,\\ \\sigma=%.3f$' %(mean, std))\n",
    "plt.show()"
   ]
  },
  {
   "cell_type": "code",
   "execution_count": 55,
   "metadata": {},
   "outputs": [
    {
     "data": {
      "text/plain": [
       "{'bootstrap': True,\n",
       " 'criterion': 'mse',\n",
       " 'max_depth': 30,\n",
       " 'max_features': 'auto',\n",
       " 'max_leaf_nodes': None,\n",
       " 'min_impurity_decrease': 0.0,\n",
       " 'min_impurity_split': None,\n",
       " 'min_samples_leaf': 1,\n",
       " 'min_samples_split': 5,\n",
       " 'min_weight_fraction_leaf': 0.0,\n",
       " 'n_estimators': 50,\n",
       " 'n_jobs': None,\n",
       " 'oob_score': False,\n",
       " 'random_state': None,\n",
       " 'verbose': 0,\n",
       " 'warm_start': False}"
      ]
     },
     "execution_count": 55,
     "metadata": {},
     "output_type": "execute_result"
    }
   ],
   "source": [
    "rf_grid.get_params()"
   ]
  },
  {
   "cell_type": "code",
   "execution_count": 23,
   "metadata": {},
   "outputs": [],
   "source": [
    "# %load Leaf_regression_RF_gridsearchCV.py\n",
    "#!/usr/bin/env python\n",
    "\n",
    "import numpy as np\n",
    "from sklearn.externals import joblib\n",
    "from sklearn.ensemble import RandomForestRegressor\n",
    "import os\n",
    "import os.path as p\n",
    "from sklearn.metrics import mean_squared_error\n",
    "import matplotlib.pyplot as plt\n",
    "%matplotlib inline\n",
    "from tqdm import tqdm\n",
    "from sklearn.model_selection import GridSearchCV"
   ]
  },
  {
   "cell_type": "code",
   "execution_count": 24,
   "metadata": {},
   "outputs": [
    {
     "name": "stdout",
     "output_type": "stream",
     "text": [
      "(960, 272000)\n",
      "(960, 272000) (960,)\n"
     ]
    },
    {
     "data": {
      "text/plain": [
       "5"
      ]
     },
     "execution_count": 24,
     "metadata": {},
     "output_type": "execute_result"
    }
   ],
   "source": [
    "\n",
    "estimators = (2, 4, 8, 10, 20, 30, 50, 70, 100, 200, 300)\n",
    "tuned_parameteres = {\"n_estimators\": estimators}#, 'max_depth': depths}#,\n",
    "                    #'min_samples_split': [1, 2, 3]}\n",
    "X_train_RF = np.vstack((X_train_RF, X_val_RF))\n",
    "print(X_train_RF.shape)\n",
    "\n",
    "y_train = np.hstack((y_train,y_val))\n",
    "y_train.shape\n",
    "\n",
    "print(X_train_RF.shape, y_train.shape)\n",
    "\n",
    "from sklearn.model_selection import StratifiedKFold\n",
    "X = X_train_RF\n",
    "y = y_train\n",
    "skf = StratifiedKFold(n_splits=5)\n",
    "skf.get_n_splits(X, y)\n"
   ]
  },
  {
   "cell_type": "code",
   "execution_count": 26,
   "metadata": {},
   "outputs": [
    {
     "name": "stdout",
     "output_type": "stream",
     "text": [
      "Fitting 5 folds for each of 11 candidates, totalling 55 fits\n"
     ]
    },
    {
     "name": "stderr",
     "output_type": "stream",
     "text": [
      "[Parallel(n_jobs=4)]: Using backend LokyBackend with 4 concurrent workers.\n",
      "[Parallel(n_jobs=4)]: Done   5 tasks      | elapsed:   30.3s\n",
      "[Parallel(n_jobs=4)]: Done  10 tasks      | elapsed:  1.2min\n",
      "[Parallel(n_jobs=4)]: Done  17 tasks      | elapsed:  3.0min\n",
      "[Parallel(n_jobs=4)]: Done  24 tasks      | elapsed:  6.5min\n",
      "[Parallel(n_jobs=4)]: Done  33 tasks      | elapsed: 16.1min\n",
      "[Parallel(n_jobs=4)]: Done  42 tasks      | elapsed: 35.5min\n"
     ]
    },
    {
     "ename": "TerminatedWorkerError",
     "evalue": "A worker process managed by the executor was unexpectedly terminated. This could be caused by a segmentation fault while calling the function or by an excessive memory usage causing the Operating System to kill the worker. The exit codes of the workers are {SIGKILL(-9)}",
     "output_type": "error",
     "traceback": [
      "\u001b[0;31m---------------------------------------------------------------------------\u001b[0m",
      "\u001b[0;31mTerminatedWorkerError\u001b[0m                     Traceback (most recent call last)",
      "\u001b[0;32m<ipython-input-26-23f9d9836de9>\u001b[0m in \u001b[0;36m<module>\u001b[0;34m\u001b[0m\n\u001b[1;32m      3\u001b[0m                      tuned_parameteres, cv=skf, verbose=10, n_jobs=4)\n\u001b[1;32m      4\u001b[0m \u001b[0;34m\u001b[0m\u001b[0m\n\u001b[0;32m----> 5\u001b[0;31m \u001b[0mmodel\u001b[0m\u001b[0;34m.\u001b[0m\u001b[0mfit\u001b[0m\u001b[0;34m(\u001b[0m\u001b[0mX_train_RF\u001b[0m\u001b[0;34m,\u001b[0m \u001b[0my_train\u001b[0m\u001b[0;34m)\u001b[0m\u001b[0;34m\u001b[0m\u001b[0;34m\u001b[0m\u001b[0m\n\u001b[0m\u001b[1;32m      6\u001b[0m \u001b[0;34m\u001b[0m\u001b[0m\n\u001b[1;32m      7\u001b[0m \u001b[0mprint\u001b[0m\u001b[0;34m(\u001b[0m\u001b[0mmodel\u001b[0m\u001b[0;34m.\u001b[0m\u001b[0mbest_params_\u001b[0m\u001b[0;34m)\u001b[0m\u001b[0;34m\u001b[0m\u001b[0;34m\u001b[0m\u001b[0m\n",
      "\u001b[0;32m~/.conda/envs/fluffy-bunnies/lib/python3.6/site-packages/sklearn/model_selection/_search.py\u001b[0m in \u001b[0;36mfit\u001b[0;34m(self, X, y, groups, **fit_params)\u001b[0m\n\u001b[1;32m    720\u001b[0m                 \u001b[0;32mreturn\u001b[0m \u001b[0mresults_container\u001b[0m\u001b[0;34m[\u001b[0m\u001b[0;36m0\u001b[0m\u001b[0;34m]\u001b[0m\u001b[0;34m\u001b[0m\u001b[0;34m\u001b[0m\u001b[0m\n\u001b[1;32m    721\u001b[0m \u001b[0;34m\u001b[0m\u001b[0m\n\u001b[0;32m--> 722\u001b[0;31m             \u001b[0mself\u001b[0m\u001b[0;34m.\u001b[0m\u001b[0m_run_search\u001b[0m\u001b[0;34m(\u001b[0m\u001b[0mevaluate_candidates\u001b[0m\u001b[0;34m)\u001b[0m\u001b[0;34m\u001b[0m\u001b[0;34m\u001b[0m\u001b[0m\n\u001b[0m\u001b[1;32m    723\u001b[0m \u001b[0;34m\u001b[0m\u001b[0m\n\u001b[1;32m    724\u001b[0m         \u001b[0mresults\u001b[0m \u001b[0;34m=\u001b[0m \u001b[0mresults_container\u001b[0m\u001b[0;34m[\u001b[0m\u001b[0;36m0\u001b[0m\u001b[0;34m]\u001b[0m\u001b[0;34m\u001b[0m\u001b[0;34m\u001b[0m\u001b[0m\n",
      "\u001b[0;32m~/.conda/envs/fluffy-bunnies/lib/python3.6/site-packages/sklearn/model_selection/_search.py\u001b[0m in \u001b[0;36m_run_search\u001b[0;34m(self, evaluate_candidates)\u001b[0m\n\u001b[1;32m   1189\u001b[0m     \u001b[0;32mdef\u001b[0m \u001b[0m_run_search\u001b[0m\u001b[0;34m(\u001b[0m\u001b[0mself\u001b[0m\u001b[0;34m,\u001b[0m \u001b[0mevaluate_candidates\u001b[0m\u001b[0;34m)\u001b[0m\u001b[0;34m:\u001b[0m\u001b[0;34m\u001b[0m\u001b[0;34m\u001b[0m\u001b[0m\n\u001b[1;32m   1190\u001b[0m         \u001b[0;34m\"\"\"Search all candidates in param_grid\"\"\"\u001b[0m\u001b[0;34m\u001b[0m\u001b[0;34m\u001b[0m\u001b[0m\n\u001b[0;32m-> 1191\u001b[0;31m         \u001b[0mevaluate_candidates\u001b[0m\u001b[0;34m(\u001b[0m\u001b[0mParameterGrid\u001b[0m\u001b[0;34m(\u001b[0m\u001b[0mself\u001b[0m\u001b[0;34m.\u001b[0m\u001b[0mparam_grid\u001b[0m\u001b[0;34m)\u001b[0m\u001b[0;34m)\u001b[0m\u001b[0;34m\u001b[0m\u001b[0;34m\u001b[0m\u001b[0m\n\u001b[0m\u001b[1;32m   1192\u001b[0m \u001b[0;34m\u001b[0m\u001b[0m\n\u001b[1;32m   1193\u001b[0m \u001b[0;34m\u001b[0m\u001b[0m\n",
      "\u001b[0;32m~/.conda/envs/fluffy-bunnies/lib/python3.6/site-packages/sklearn/model_selection/_search.py\u001b[0m in \u001b[0;36mevaluate_candidates\u001b[0;34m(candidate_params)\u001b[0m\n\u001b[1;32m    709\u001b[0m                                \u001b[0;32mfor\u001b[0m \u001b[0mparameters\u001b[0m\u001b[0;34m,\u001b[0m \u001b[0;34m(\u001b[0m\u001b[0mtrain\u001b[0m\u001b[0;34m,\u001b[0m \u001b[0mtest\u001b[0m\u001b[0;34m)\u001b[0m\u001b[0;34m\u001b[0m\u001b[0;34m\u001b[0m\u001b[0m\n\u001b[1;32m    710\u001b[0m                                in product(candidate_params,\n\u001b[0;32m--> 711\u001b[0;31m                                           cv.split(X, y, groups)))\n\u001b[0m\u001b[1;32m    712\u001b[0m \u001b[0;34m\u001b[0m\u001b[0m\n\u001b[1;32m    713\u001b[0m                 \u001b[0mall_candidate_params\u001b[0m\u001b[0;34m.\u001b[0m\u001b[0mextend\u001b[0m\u001b[0;34m(\u001b[0m\u001b[0mcandidate_params\u001b[0m\u001b[0;34m)\u001b[0m\u001b[0;34m\u001b[0m\u001b[0;34m\u001b[0m\u001b[0m\n",
      "\u001b[0;32m~/.conda/envs/fluffy-bunnies/lib/python3.6/site-packages/sklearn/externals/joblib/parallel.py\u001b[0m in \u001b[0;36m__call__\u001b[0;34m(self, iterable)\u001b[0m\n\u001b[1;32m    928\u001b[0m \u001b[0;34m\u001b[0m\u001b[0m\n\u001b[1;32m    929\u001b[0m             \u001b[0;32mwith\u001b[0m \u001b[0mself\u001b[0m\u001b[0;34m.\u001b[0m\u001b[0m_backend\u001b[0m\u001b[0;34m.\u001b[0m\u001b[0mretrieval_context\u001b[0m\u001b[0;34m(\u001b[0m\u001b[0;34m)\u001b[0m\u001b[0;34m:\u001b[0m\u001b[0;34m\u001b[0m\u001b[0;34m\u001b[0m\u001b[0m\n\u001b[0;32m--> 930\u001b[0;31m                 \u001b[0mself\u001b[0m\u001b[0;34m.\u001b[0m\u001b[0mretrieve\u001b[0m\u001b[0;34m(\u001b[0m\u001b[0;34m)\u001b[0m\u001b[0;34m\u001b[0m\u001b[0;34m\u001b[0m\u001b[0m\n\u001b[0m\u001b[1;32m    931\u001b[0m             \u001b[0;31m# Make sure that we get a last message telling us we are done\u001b[0m\u001b[0;34m\u001b[0m\u001b[0;34m\u001b[0m\u001b[0;34m\u001b[0m\u001b[0m\n\u001b[1;32m    932\u001b[0m             \u001b[0melapsed_time\u001b[0m \u001b[0;34m=\u001b[0m \u001b[0mtime\u001b[0m\u001b[0;34m.\u001b[0m\u001b[0mtime\u001b[0m\u001b[0;34m(\u001b[0m\u001b[0;34m)\u001b[0m \u001b[0;34m-\u001b[0m \u001b[0mself\u001b[0m\u001b[0;34m.\u001b[0m\u001b[0m_start_time\u001b[0m\u001b[0;34m\u001b[0m\u001b[0;34m\u001b[0m\u001b[0m\n",
      "\u001b[0;32m~/.conda/envs/fluffy-bunnies/lib/python3.6/site-packages/sklearn/externals/joblib/parallel.py\u001b[0m in \u001b[0;36mretrieve\u001b[0;34m(self)\u001b[0m\n\u001b[1;32m    831\u001b[0m             \u001b[0;32mtry\u001b[0m\u001b[0;34m:\u001b[0m\u001b[0;34m\u001b[0m\u001b[0;34m\u001b[0m\u001b[0m\n\u001b[1;32m    832\u001b[0m                 \u001b[0;32mif\u001b[0m \u001b[0mgetattr\u001b[0m\u001b[0;34m(\u001b[0m\u001b[0mself\u001b[0m\u001b[0;34m.\u001b[0m\u001b[0m_backend\u001b[0m\u001b[0;34m,\u001b[0m \u001b[0;34m'supports_timeout'\u001b[0m\u001b[0;34m,\u001b[0m \u001b[0;32mFalse\u001b[0m\u001b[0;34m)\u001b[0m\u001b[0;34m:\u001b[0m\u001b[0;34m\u001b[0m\u001b[0;34m\u001b[0m\u001b[0m\n\u001b[0;32m--> 833\u001b[0;31m                     \u001b[0mself\u001b[0m\u001b[0;34m.\u001b[0m\u001b[0m_output\u001b[0m\u001b[0;34m.\u001b[0m\u001b[0mextend\u001b[0m\u001b[0;34m(\u001b[0m\u001b[0mjob\u001b[0m\u001b[0;34m.\u001b[0m\u001b[0mget\u001b[0m\u001b[0;34m(\u001b[0m\u001b[0mtimeout\u001b[0m\u001b[0;34m=\u001b[0m\u001b[0mself\u001b[0m\u001b[0;34m.\u001b[0m\u001b[0mtimeout\u001b[0m\u001b[0;34m)\u001b[0m\u001b[0;34m)\u001b[0m\u001b[0;34m\u001b[0m\u001b[0;34m\u001b[0m\u001b[0m\n\u001b[0m\u001b[1;32m    834\u001b[0m                 \u001b[0;32melse\u001b[0m\u001b[0;34m:\u001b[0m\u001b[0;34m\u001b[0m\u001b[0;34m\u001b[0m\u001b[0m\n\u001b[1;32m    835\u001b[0m                     \u001b[0mself\u001b[0m\u001b[0;34m.\u001b[0m\u001b[0m_output\u001b[0m\u001b[0;34m.\u001b[0m\u001b[0mextend\u001b[0m\u001b[0;34m(\u001b[0m\u001b[0mjob\u001b[0m\u001b[0;34m.\u001b[0m\u001b[0mget\u001b[0m\u001b[0;34m(\u001b[0m\u001b[0;34m)\u001b[0m\u001b[0;34m)\u001b[0m\u001b[0;34m\u001b[0m\u001b[0;34m\u001b[0m\u001b[0m\n",
      "\u001b[0;32m~/.conda/envs/fluffy-bunnies/lib/python3.6/site-packages/sklearn/externals/joblib/_parallel_backends.py\u001b[0m in \u001b[0;36mwrap_future_result\u001b[0;34m(future, timeout)\u001b[0m\n\u001b[1;32m    519\u001b[0m         AsyncResults.get from multiprocessing.\"\"\"\n\u001b[1;32m    520\u001b[0m         \u001b[0;32mtry\u001b[0m\u001b[0;34m:\u001b[0m\u001b[0;34m\u001b[0m\u001b[0;34m\u001b[0m\u001b[0m\n\u001b[0;32m--> 521\u001b[0;31m             \u001b[0;32mreturn\u001b[0m \u001b[0mfuture\u001b[0m\u001b[0;34m.\u001b[0m\u001b[0mresult\u001b[0m\u001b[0;34m(\u001b[0m\u001b[0mtimeout\u001b[0m\u001b[0;34m=\u001b[0m\u001b[0mtimeout\u001b[0m\u001b[0;34m)\u001b[0m\u001b[0;34m\u001b[0m\u001b[0;34m\u001b[0m\u001b[0m\n\u001b[0m\u001b[1;32m    522\u001b[0m         \u001b[0;32mexcept\u001b[0m \u001b[0mLokyTimeoutError\u001b[0m\u001b[0;34m:\u001b[0m\u001b[0;34m\u001b[0m\u001b[0;34m\u001b[0m\u001b[0m\n\u001b[1;32m    523\u001b[0m             \u001b[0;32mraise\u001b[0m \u001b[0mTimeoutError\u001b[0m\u001b[0;34m(\u001b[0m\u001b[0;34m)\u001b[0m\u001b[0;34m\u001b[0m\u001b[0;34m\u001b[0m\u001b[0m\n",
      "\u001b[0;32m~/.conda/envs/fluffy-bunnies/lib/python3.6/concurrent/futures/_base.py\u001b[0m in \u001b[0;36mresult\u001b[0;34m(self, timeout)\u001b[0m\n\u001b[1;32m    430\u001b[0m                 \u001b[0;32mraise\u001b[0m \u001b[0mCancelledError\u001b[0m\u001b[0;34m(\u001b[0m\u001b[0;34m)\u001b[0m\u001b[0;34m\u001b[0m\u001b[0;34m\u001b[0m\u001b[0m\n\u001b[1;32m    431\u001b[0m             \u001b[0;32melif\u001b[0m \u001b[0mself\u001b[0m\u001b[0;34m.\u001b[0m\u001b[0m_state\u001b[0m \u001b[0;34m==\u001b[0m \u001b[0mFINISHED\u001b[0m\u001b[0;34m:\u001b[0m\u001b[0;34m\u001b[0m\u001b[0;34m\u001b[0m\u001b[0m\n\u001b[0;32m--> 432\u001b[0;31m                 \u001b[0;32mreturn\u001b[0m \u001b[0mself\u001b[0m\u001b[0;34m.\u001b[0m\u001b[0m__get_result\u001b[0m\u001b[0;34m(\u001b[0m\u001b[0;34m)\u001b[0m\u001b[0;34m\u001b[0m\u001b[0;34m\u001b[0m\u001b[0m\n\u001b[0m\u001b[1;32m    433\u001b[0m             \u001b[0;32melse\u001b[0m\u001b[0;34m:\u001b[0m\u001b[0;34m\u001b[0m\u001b[0;34m\u001b[0m\u001b[0m\n\u001b[1;32m    434\u001b[0m                 \u001b[0;32mraise\u001b[0m \u001b[0mTimeoutError\u001b[0m\u001b[0;34m(\u001b[0m\u001b[0;34m)\u001b[0m\u001b[0;34m\u001b[0m\u001b[0;34m\u001b[0m\u001b[0m\n",
      "\u001b[0;32m~/.conda/envs/fluffy-bunnies/lib/python3.6/concurrent/futures/_base.py\u001b[0m in \u001b[0;36m__get_result\u001b[0;34m(self)\u001b[0m\n\u001b[1;32m    382\u001b[0m     \u001b[0;32mdef\u001b[0m \u001b[0m__get_result\u001b[0m\u001b[0;34m(\u001b[0m\u001b[0mself\u001b[0m\u001b[0;34m)\u001b[0m\u001b[0;34m:\u001b[0m\u001b[0;34m\u001b[0m\u001b[0;34m\u001b[0m\u001b[0m\n\u001b[1;32m    383\u001b[0m         \u001b[0;32mif\u001b[0m \u001b[0mself\u001b[0m\u001b[0;34m.\u001b[0m\u001b[0m_exception\u001b[0m\u001b[0;34m:\u001b[0m\u001b[0;34m\u001b[0m\u001b[0;34m\u001b[0m\u001b[0m\n\u001b[0;32m--> 384\u001b[0;31m             \u001b[0;32mraise\u001b[0m \u001b[0mself\u001b[0m\u001b[0;34m.\u001b[0m\u001b[0m_exception\u001b[0m\u001b[0;34m\u001b[0m\u001b[0;34m\u001b[0m\u001b[0m\n\u001b[0m\u001b[1;32m    385\u001b[0m         \u001b[0;32melse\u001b[0m\u001b[0;34m:\u001b[0m\u001b[0;34m\u001b[0m\u001b[0;34m\u001b[0m\u001b[0m\n\u001b[1;32m    386\u001b[0m             \u001b[0;32mreturn\u001b[0m \u001b[0mself\u001b[0m\u001b[0;34m.\u001b[0m\u001b[0m_result\u001b[0m\u001b[0;34m\u001b[0m\u001b[0;34m\u001b[0m\u001b[0m\n",
      "\u001b[0;31mTerminatedWorkerError\u001b[0m: A worker process managed by the executor was unexpectedly terminated. This could be caused by a segmentation fault while calling the function or by an excessive memory usage causing the Operating System to kill the worker. The exit codes of the workers are {SIGKILL(-9)}"
     ]
    }
   ],
   "source": [
    "\n",
    "model = GridSearchCV(RandomForestRegressor(criterion='mse',verbose=1), \n",
    "                     tuned_parameteres, cv=skf, verbose=10, n_jobs=4)\n",
    "\n",
    "model.fit(X_train_RF, y_train)\n",
    "\n",
    "print(model.best_params_)\n",
    "\n",
    "\n"
   ]
  },
  {
   "cell_type": "code",
   "execution_count": null,
   "metadata": {},
   "outputs": [],
   "source": [
    "rf_best = model.best_estimator_\n",
    "#joblib.dump(model.best_estimator_, 'rf_best_estimator.pkl', compress=1)\n",
    "\n",
    "\n"
   ]
  },
  {
   "cell_type": "code",
   "execution_count": null,
   "metadata": {},
   "outputs": [],
   "source": []
  },
  {
   "cell_type": "code",
   "execution_count": null,
   "metadata": {},
   "outputs": [],
   "source": []
  },
  {
   "cell_type": "markdown",
   "metadata": {},
   "source": [
    "#### feature importance"
   ]
  },
  {
   "cell_type": "code",
   "execution_count": null,
   "metadata": {},
   "outputs": [],
   "source": []
  },
  {
   "cell_type": "code",
   "execution_count": 99,
   "metadata": {},
   "outputs": [
    {
     "data": {
      "text/plain": [
       "(272000,)"
      ]
     },
     "execution_count": 99,
     "metadata": {},
     "output_type": "execute_result"
    }
   ],
   "source": [
    "np.shape(model.feature_importances_)"
   ]
  },
  {
   "cell_type": "code",
   "execution_count": 101,
   "metadata": {},
   "outputs": [
    {
     "data": {
      "text/plain": [
       "(300, 340, 800, 1)"
      ]
     },
     "execution_count": 101,
     "metadata": {},
     "output_type": "execute_result"
    }
   ],
   "source": [
    "cut_X(X_test_5classes).shape"
   ]
  },
  {
   "cell_type": "code",
   "execution_count": 102,
   "metadata": {},
   "outputs": [
    {
     "data": {
      "text/plain": [
       "<matplotlib.image.AxesImage at 0x7fde3921d3c8>"
      ]
     },
     "execution_count": 102,
     "metadata": {},
     "output_type": "execute_result"
    },
    {
     "data": {
      "image/png": "[encoded data removed]",
      "text/plain": [
       "<Figure size 432x288 with 1 Axes>"
      ]
     },
     "metadata": {
      "needs_background": "light"
     },
     "output_type": "display_data"
    }
   ],
   "source": [
    "plt.imshow(model.feature_importances_.reshape(340, 800))"
   ]
  },
  {
   "cell_type": "code",
   "execution_count": 106,
   "metadata": {},
   "outputs": [
    {
     "name": "stdout",
     "output_type": "stream",
     "text": [
      "[[0. 0. 0. ... 0. 0. 0.]\n",
      " [0. 0. 0. ... 0. 0. 0.]\n",
      " [0. 0. 0. ... 0. 0. 0.]\n",
      " ...\n",
      " [0. 0. 0. ... 0. 0. 0.]\n",
      " [0. 0. 0. ... 0. 0. 0.]\n",
      " [0. 0. 0. ... 0. 0. 0.]]\n"
     ]
    }
   ],
   "source": [
    "print(model.feature_importances_.reshape(340,800))"
   ]
  },
  {
   "cell_type": "code",
   "execution_count": 107,
   "metadata": {},
   "outputs": [],
   "source": [
    "importances = model.feature_importances_"
   ]
  },
  {
   "cell_type": "code",
   "execution_count": 108,
   "metadata": {},
   "outputs": [],
   "source": [
    "std = np.std([model.feature_importances_ for tree in model.estimators_], axis=0)"
   ]
  },
  {
   "cell_type": "code",
   "execution_count": 109,
   "metadata": {},
   "outputs": [],
   "source": [
    "indices = np.argsort(importances)[::-1]"
   ]
  },
  {
   "cell_type": "code",
   "execution_count": 115,
   "metadata": {},
   "outputs": [
    {
     "data": {
      "text/plain": [
       "272000"
      ]
     },
     "execution_count": 115,
     "metadata": {},
     "output_type": "execute_result"
    }
   ],
   "source": [
    "340*800"
   ]
  },
  {
   "cell_type": "code",
   "execution_count": 127,
   "metadata": {},
   "outputs": [],
   "source": [
    "index_map = []\n",
    "for i in range(341):\n",
    "    for j in range(801):\n",
    "        index_map.append([i*j, i, j])\n",
    "index_map = np.asarray(index_map)"
   ]
  },
  {
   "cell_type": "code",
   "execution_count": 150,
   "metadata": {},
   "outputs": [
    {
     "data": {
      "text/plain": [
       "(array([226]), array([379]))"
      ]
     },
     "execution_count": 150,
     "metadata": {},
     "output_type": "execute_result"
    }
   ],
   "source": [
    "np.where(np.asarray([i+1 for i in range(272000)]).reshape(340,800)==181180)"
   ]
  },
  {
   "cell_type": "code",
   "execution_count": 118,
   "metadata": {},
   "outputs": [
    {
     "data": {
      "text/plain": [
       "[0,\n",
       " 1,\n",
       " 4,\n",
       " 9,\n",
       " 16,\n",
       " 25,\n",
       " 36,\n",
       " 49,\n",
       " 64,\n",
       " 81,\n",
       " 100,\n",
       " 121,\n",
       " 144,\n",
       " 169,\n",
       " 196,\n",
       " 225,\n",
       " 256,\n",
       " 289,\n",
       " 324,\n",
       " 361,\n",
       " 400,\n",
       " 441,\n",
       " 484,\n",
       " 529,\n",
       " 576,\n",
       " 625,\n",
       " 676,\n",
       " 729,\n",
       " 784,\n",
       " 841,\n",
       " 900,\n",
       " 961,\n",
       " 1024,\n",
       " 1089,\n",
       " 1156,\n",
       " 1225,\n",
       " 1296,\n",
       " 1369,\n",
       " 1444,\n",
       " 1521,\n",
       " 1600,\n",
       " 1681,\n",
       " 1764,\n",
       " 1849,\n",
       " 1936,\n",
       " 2025,\n",
       " 2116,\n",
       " 2209,\n",
       " 2304,\n",
       " 2401,\n",
       " 2500,\n",
       " 2601,\n",
       " 2704,\n",
       " 2809,\n",
       " 2916,\n",
       " 3025,\n",
       " 3136,\n",
       " 3249,\n",
       " 3364,\n",
       " 3481,\n",
       " 3600,\n",
       " 3721,\n",
       " 3844,\n",
       " 3969,\n",
       " 4096,\n",
       " 4225,\n",
       " 4356,\n",
       " 4489,\n",
       " 4624,\n",
       " 4761,\n",
       " 4900,\n",
       " 5041,\n",
       " 5184,\n",
       " 5329,\n",
       " 5476,\n",
       " 5625,\n",
       " 5776,\n",
       " 5929,\n",
       " 6084,\n",
       " 6241,\n",
       " 6400,\n",
       " 6561,\n",
       " 6724,\n",
       " 6889,\n",
       " 7056,\n",
       " 7225,\n",
       " 7396,\n",
       " 7569,\n",
       " 7744,\n",
       " 7921,\n",
       " 8100,\n",
       " 8281,\n",
       " 8464,\n",
       " 8649,\n",
       " 8836,\n",
       " 9025,\n",
       " 9216,\n",
       " 9409,\n",
       " 9604,\n",
       " 9801,\n",
       " 10000,\n",
       " 10201,\n",
       " 10404,\n",
       " 10609,\n",
       " 10816,\n",
       " 11025,\n",
       " 11236,\n",
       " 11449,\n",
       " 11664,\n",
       " 11881,\n",
       " 12100,\n",
       " 12321,\n",
       " 12544,\n",
       " 12769,\n",
       " 12996,\n",
       " 13225,\n",
       " 13456,\n",
       " 13689,\n",
       " 13924,\n",
       " 14161,\n",
       " 14400,\n",
       " 14641,\n",
       " 14884,\n",
       " 15129,\n",
       " 15376,\n",
       " 15625,\n",
       " 15876,\n",
       " 16129,\n",
       " 16384,\n",
       " 16641,\n",
       " 16900,\n",
       " 17161,\n",
       " 17424,\n",
       " 17689,\n",
       " 17956,\n",
       " 18225,\n",
       " 18496,\n",
       " 18769,\n",
       " 19044,\n",
       " 19321,\n",
       " 19600,\n",
       " 19881,\n",
       " 20164,\n",
       " 20449,\n",
       " 20736,\n",
       " 21025,\n",
       " 21316,\n",
       " 21609,\n",
       " 21904,\n",
       " 22201,\n",
       " 22500,\n",
       " 22801,\n",
       " 23104,\n",
       " 23409,\n",
       " 23716,\n",
       " 24025,\n",
       " 24336,\n",
       " 24649,\n",
       " 24964,\n",
       " 25281,\n",
       " 25600,\n",
       " 25921,\n",
       " 26244,\n",
       " 26569,\n",
       " 26896,\n",
       " 27225,\n",
       " 27556,\n",
       " 27889,\n",
       " 28224,\n",
       " 28561,\n",
       " 28900,\n",
       " 29241,\n",
       " 29584,\n",
       " 29929,\n",
       " 30276,\n",
       " 30625,\n",
       " 30976,\n",
       " 31329,\n",
       " 31684,\n",
       " 32041,\n",
       " 32400,\n",
       " 32761,\n",
       " 33124,\n",
       " 33489,\n",
       " 33856,\n",
       " 34225,\n",
       " 34596,\n",
       " 34969,\n",
       " 35344,\n",
       " 35721,\n",
       " 36100,\n",
       " 36481,\n",
       " 36864,\n",
       " 37249,\n",
       " 37636,\n",
       " 38025,\n",
       " 38416,\n",
       " 38809,\n",
       " 39204,\n",
       " 39601,\n",
       " 40000,\n",
       " 40401,\n",
       " 40804,\n",
       " 41209,\n",
       " 41616,\n",
       " 42025,\n",
       " 42436,\n",
       " 42849,\n",
       " 43264,\n",
       " 43681,\n",
       " 44100,\n",
       " 44521,\n",
       " 44944,\n",
       " 45369,\n",
       " 45796,\n",
       " 46225,\n",
       " 46656,\n",
       " 47089,\n",
       " 47524,\n",
       " 47961,\n",
       " 48400,\n",
       " 48841,\n",
       " 49284,\n",
       " 49729,\n",
       " 50176,\n",
       " 50625,\n",
       " 51076,\n",
       " 51529,\n",
       " 51984,\n",
       " 52441,\n",
       " 52900,\n",
       " 53361,\n",
       " 53824,\n",
       " 54289,\n",
       " 54756,\n",
       " 55225,\n",
       " 55696,\n",
       " 56169,\n",
       " 56644,\n",
       " 57121,\n",
       " 57600,\n",
       " 58081,\n",
       " 58564,\n",
       " 59049,\n",
       " 59536,\n",
       " 60025,\n",
       " 60516,\n",
       " 61009,\n",
       " 61504,\n",
       " 62001,\n",
       " 62500,\n",
       " 63001,\n",
       " 63504,\n",
       " 64009,\n",
       " 64516,\n",
       " 65025,\n",
       " 65536,\n",
       " 66049,\n",
       " 66564,\n",
       " 67081,\n",
       " 67600,\n",
       " 68121,\n",
       " 68644,\n",
       " 69169,\n",
       " 69696,\n",
       " 70225,\n",
       " 70756,\n",
       " 71289,\n",
       " 71824,\n",
       " 72361,\n",
       " 72900,\n",
       " 73441,\n",
       " 73984,\n",
       " 74529,\n",
       " 75076,\n",
       " 75625,\n",
       " 76176,\n",
       " 76729,\n",
       " 77284,\n",
       " 77841,\n",
       " 78400,\n",
       " 78961,\n",
       " 79524,\n",
       " 80089,\n",
       " 80656,\n",
       " 81225,\n",
       " 81796,\n",
       " 82369,\n",
       " 82944,\n",
       " 83521,\n",
       " 84100,\n",
       " 84681,\n",
       " 85264,\n",
       " 85849,\n",
       " 86436,\n",
       " 87025,\n",
       " 87616,\n",
       " 88209,\n",
       " 88804,\n",
       " 89401,\n",
       " 90000,\n",
       " 90601,\n",
       " 91204,\n",
       " 91809,\n",
       " 92416,\n",
       " 93025,\n",
       " 93636,\n",
       " 94249,\n",
       " 94864,\n",
       " 95481,\n",
       " 96100,\n",
       " 96721,\n",
       " 97344,\n",
       " 97969,\n",
       " 98596,\n",
       " 99225,\n",
       " 99856,\n",
       " 100489,\n",
       " 101124,\n",
       " 101761,\n",
       " 102400,\n",
       " 103041,\n",
       " 103684,\n",
       " 104329,\n",
       " 104976,\n",
       " 105625,\n",
       " 106276,\n",
       " 106929,\n",
       " 107584,\n",
       " 108241,\n",
       " 108900,\n",
       " 109561,\n",
       " 110224,\n",
       " 110889,\n",
       " 111556,\n",
       " 112225,\n",
       " 112896,\n",
       " 113569,\n",
       " 114244,\n",
       " 114921]"
      ]
     },
     "execution_count": 118,
     "metadata": {},
     "output_type": "execute_result"
    }
   ],
   "source": [
    "[i*j for i, j in zip(range(340), range(800))]"
   ]
  },
  {
   "cell_type": "code",
   "execution_count": 163,
   "metadata": {},
   "outputs": [
    {
     "name": "stdout",
     "output_type": "stream",
     "text": [
      "%1. feature [226,379] (0.030311828499006134)\n",
      "%2. feature [201,197] (0.03022787734231869)\n",
      "%3. feature [222,355] (0.030175310452713638)\n",
      "%4. feature [214,285] (0.030116713540131533)\n",
      "%5. feature [197,204] (0.030075710831934947)\n",
      "%6. feature [170,193] (0.030060958365009112)\n",
      "%7. feature [153,333] (0.030054821527111166)\n",
      "%8. feature [204,285] (0.029997617509098913)\n",
      "%9. feature [204,375] (0.02995775559427898)\n",
      "%10. feature [176,196] (0.02992454868411568)\n",
      "%11. feature [149,382] (0.029915066262632354)\n",
      "%12. feature [181,340] (0.02989327050415875)\n",
      "%13. feature [169,328] (0.029882635119232993)\n",
      "%14. feature [153,192] (0.029855349377178764)\n",
      "%15. feature [157,143] (0.029806866275758903)\n",
      "%16. feature [199,185] (0.02980345743181955)\n",
      "%17. feature [159,202] (0.029771994662708738)\n",
      "%18. feature [154,221] (0.029767113471507196)\n",
      "%19. feature [209,183] (0.029744370722858248)\n",
      "%20. feature [170,210] (0.02972949857393021)\n",
      "%21. feature [190,322] (0.02972701918784872)\n",
      "%22. feature [149,290] (0.029693639668848925)\n",
      "%23. feature [212,179] (0.029630562431760654)\n",
      "%24. feature [197,250] (0.02959959197542429)\n",
      "%25. feature [165,324] (0.029586357235966344)\n",
      "%26. feature [230,372] (0.02954801428111197)\n",
      "%27. feature [149,289] (0.029540583596810454)\n",
      "%28. feature [167,176] (0.02948752798840099)\n",
      "%29. feature [213,212] (0.029394759157470626)\n",
      "%30. feature [222,243] (0.02918396059460293)\n",
      "%31. feature [198,483] (0.00392515187166698)\n",
      "%32. feature [226,464] (0.0037018461667519286)\n",
      "%33. feature [223,452] (0.0036277089117699914)\n",
      "%34. feature [163,453] (0.0035859887448915283)\n",
      "%35. feature [209,454] (0.003575038019342269)\n",
      "%36. feature [152,455] (0.003533810905417626)\n",
      "%37. feature [220,472] (0.0035117671899546443)\n",
      "%38. feature [209,449] (0.003479894464934455)\n",
      "%39. feature [226,473] (0.0034385996489901182)\n",
      "%40. feature [207,433] (0.0034120485741009334)\n",
      "%41. feature [146,485] (0.0033838513775586287)\n",
      "%42. feature [177,428] (0.0033643610989446218)\n",
      "%43. feature [208,457] (0.0033607196688414764)\n",
      "%44. feature [209,491] (0.003350887556866249)\n",
      "%45. feature [206,443] (0.003327408701401789)\n",
      "%46. feature [152,447] (0.003306122024362938)\n",
      "%47. feature [212,489] (0.003266723629835362)\n",
      "%48. feature [162,464] (0.0032628380284717767)\n",
      "%49. feature [152,468] (0.003229959816753322)\n",
      "%50. feature [226,497] (0.0032271764896367656)\n",
      "%51. feature [218,448] (0.003203464295796214)\n",
      "%52. feature [211,430] (0.003170611023201304)\n",
      "%53. feature [229,499] (0.003129671111007597)\n",
      "%54. feature [198,469] (0.003085564445262429)\n",
      "%55. feature [220,475] (0.0030628993847007283)\n",
      "%56. feature [220,456] (0.0030519631826315687)\n",
      "%57. feature [145,480] (0.003001257637667954)\n",
      "%58. feature [144,481] (0.0029696873123901384)\n",
      "%59. feature [162,417] (0.0028983723548309196)\n",
      "%60. feature [165,440] (0.0028137463756735858)\n",
      "%61. feature [200,526] (0.0006141958108445841)\n",
      "%62. feature [202,517] (0.00042259316973751573)\n",
      "%63. feature [200,518] (0.0002367280091107791)\n",
      "%64. feature [160,525] (0.00022460151153046352)\n",
      "%65. feature [209,526] (0.00022422086706342447)\n",
      "%66. feature [206,525] (0.00022287643663822498)\n",
      "%67. feature [157,527] (0.00022034503321149485)\n",
      "%68. feature [202,524] (0.0002180964331623565)\n",
      "%69. feature [207,517] (0.00021536215553384918)\n",
      "%70. feature [188,516] (0.0002153323049598822)\n",
      "%71. feature [200,525] (0.00021514592768278853)\n",
      "%72. feature [150,532] (0.000213165191949364)\n",
      "%73. feature [184,522] (0.0002102810328790914)\n",
      "%74. feature [209,525] (0.00021010301242126077)\n",
      "%75. feature [201,525] (0.00020947558362349142)\n",
      "%76. feature [200,524] (0.0002070836361837249)\n",
      "%77. feature [166,524] (0.00020676099163135226)\n",
      "%78. feature [201,518] (0.00020604471322682277)\n",
      "%79. feature [202,520] (0.00020565931876681795)\n",
      "%80. feature [200,523] (0.0002053203534214406)\n",
      "%81. feature [181,517] (0.00020496671585305292)\n",
      "%82. feature [221,530] (0.0002024672001119944)\n",
      "%83. feature [200,522] (0.0002010940154942902)\n",
      "%84. feature [197,522] (0.00019294736095974057)\n",
      "%85. feature [206,519] (0.00019178618530219332)\n",
      "%86. feature [166,526] (0.0001910905810642127)\n",
      "%87. feature [206,522] (0.00018833556822955933)\n",
      "%88. feature [113,284] (0.0)\n",
      "%89. feature [113,285] (0.0)\n",
      "%90. feature [113,262] (0.0)\n",
      "%91. feature [113,263] (0.0)\n",
      "%92. feature [113,287] (0.0)\n",
      "%93. feature [113,267] (0.0)\n",
      "%94. feature [113,264] (0.0)\n",
      "%95. feature [113,266] (0.0)\n",
      "%96. feature [113,265] (0.0)\n",
      "%97. feature [113,283] (0.0)\n",
      "%98. feature [113,295] (0.0)\n",
      "%99. feature [113,294] (0.0)\n",
      "%100. feature [113,276] (0.0)\n"
     ]
    }
   ],
   "source": [
    "ind = []\n",
    "for f in range(X_test_5classes.shape[1])[:100]:\n",
    "    print(\"%{}. feature [{},{}] ({})\".format(f + 1, np.int(np.where(np.asarray([i+1 for i in range(272000)]).reshape(340,800)==indices[f])[0]),\n",
    "                                             np.int(np.where(np.asarray([i+1 for i in range(272000)]).reshape(340,800)==indices[f])[1]) , importances[indices[f]]))\n",
    "    ind.append([np.int(np.where(np.asarray([i+1 for i in range(272000)]).reshape(340,800)==indices[f])[0]), \n",
    "                np.int(np.where(np.asarray([i+1 for i in range(272000)]).reshape(340,800)==indices[f])[1])])"
   ]
  },
  {
   "cell_type": "code",
   "execution_count": 170,
   "metadata": {},
   "outputs": [],
   "source": [
    "ind = np.asarray(ind)"
   ]
  },
  {
   "cell_type": "code",
   "execution_count": 181,
   "metadata": {},
   "outputs": [],
   "source": [
    "maps = np.zeros(shape=(340,800))"
   ]
  },
  {
   "cell_type": "code",
   "execution_count": 196,
   "metadata": {},
   "outputs": [
    {
     "data": {
      "text/plain": [
       "<matplotlib.image.AxesImage at 0x7fde057eb780>"
      ]
     },
     "execution_count": 196,
     "metadata": {},
     "output_type": "execute_result"
    },
    {
     "data": {
      "image/png": "[encoded data removed]",
      "text/plain": [
       "<Figure size 432x288 with 1 Axes>"
      ]
     },
     "metadata": {
      "needs_background": "light"
     },
     "output_type": "display_data"
    }
   ],
   "source": [
    "plt.figure()\n",
    "maps = np.zeros(shape=(340,800))\n",
    "for idx in ind:\n",
    "    maps[idx[0], idx[1]]=1\n",
    "plt.imshow(maps)"
   ]
  },
  {
   "cell_type": "code",
   "execution_count": 194,
   "metadata": {},
   "outputs": [
    {
     "data": {
      "text/plain": [
       "(array([113]), array([276]))"
      ]
     },
     "execution_count": 194,
     "metadata": {},
     "output_type": "execute_result"
    }
   ],
   "source": [
    "np.where(maps!=0)"
   ]
  },
  {
   "cell_type": "code",
   "execution_count": 180,
   "metadata": {},
   "outputs": [],
   "source": [
    "maps[ind[0][0], ind[0][1]]=1"
   ]
  },
  {
   "cell_type": "code",
   "execution_count": 112,
   "metadata": {},
   "outputs": [
    {
     "ename": "ValueError",
     "evalue": "shape mismatch: objects cannot be broadcast to a single shape",
     "output_type": "error",
     "traceback": [
      "\u001b[0;31m---------------------------------------------------------------------------\u001b[0m",
      "\u001b[0;31mValueError\u001b[0m                                Traceback (most recent call last)",
      "\u001b[0;32m<ipython-input-112-ba3d068870d9>\u001b[0m in \u001b[0;36m<module>\u001b[0;34m\u001b[0m\n\u001b[1;32m      1\u001b[0m \u001b[0mplt\u001b[0m\u001b[0;34m.\u001b[0m\u001b[0mfigure\u001b[0m\u001b[0;34m(\u001b[0m\u001b[0;34m)\u001b[0m\u001b[0;34m\u001b[0m\u001b[0;34m\u001b[0m\u001b[0m\n\u001b[1;32m      2\u001b[0m \u001b[0mplt\u001b[0m\u001b[0;34m.\u001b[0m\u001b[0mtitle\u001b[0m\u001b[0;34m(\u001b[0m\u001b[0;34m\"Feature importances\"\u001b[0m\u001b[0;34m)\u001b[0m\u001b[0;34m\u001b[0m\u001b[0;34m\u001b[0m\u001b[0m\n\u001b[0;32m----> 3\u001b[0;31m \u001b[0mplt\u001b[0m\u001b[0;34m.\u001b[0m\u001b[0mbar\u001b[0m\u001b[0;34m(\u001b[0m\u001b[0mrange\u001b[0m\u001b[0;34m(\u001b[0m\u001b[0mX_test_5classes\u001b[0m\u001b[0;34m.\u001b[0m\u001b[0mshape\u001b[0m\u001b[0;34m[\u001b[0m\u001b[0;36m1\u001b[0m\u001b[0;34m]\u001b[0m\u001b[0;34m)\u001b[0m\u001b[0;34m,\u001b[0m \u001b[0mimportances\u001b[0m\u001b[0;34m[\u001b[0m\u001b[0mindices\u001b[0m\u001b[0;34m]\u001b[0m\u001b[0;34m,\u001b[0m\u001b[0mcolor\u001b[0m\u001b[0;34m=\u001b[0m\u001b[0;34m\"r\"\u001b[0m\u001b[0;34m,\u001b[0m \u001b[0myerr\u001b[0m\u001b[0;34m=\u001b[0m\u001b[0mstd\u001b[0m\u001b[0;34m[\u001b[0m\u001b[0mindices\u001b[0m\u001b[0;34m]\u001b[0m\u001b[0;34m,\u001b[0m \u001b[0malign\u001b[0m\u001b[0;34m=\u001b[0m\u001b[0;34m\"center\"\u001b[0m\u001b[0;34m)\u001b[0m\u001b[0;34m\u001b[0m\u001b[0;34m\u001b[0m\u001b[0m\n\u001b[0m\u001b[1;32m      4\u001b[0m \u001b[0mplt\u001b[0m\u001b[0;34m.\u001b[0m\u001b[0mxticks\u001b[0m\u001b[0;34m(\u001b[0m\u001b[0mrange\u001b[0m\u001b[0;34m(\u001b[0m\u001b[0mX_test_5classes\u001b[0m\u001b[0;34m.\u001b[0m\u001b[0mshape\u001b[0m\u001b[0;34m[\u001b[0m\u001b[0;36m1\u001b[0m\u001b[0;34m]\u001b[0m\u001b[0;34m)\u001b[0m\u001b[0;34m,\u001b[0m \u001b[0mindices\u001b[0m\u001b[0;34m)\u001b[0m\u001b[0;34m\u001b[0m\u001b[0;34m\u001b[0m\u001b[0m\n\u001b[1;32m      5\u001b[0m \u001b[0mplt\u001b[0m\u001b[0;34m.\u001b[0m\u001b[0mxlim\u001b[0m\u001b[0;34m(\u001b[0m\u001b[0;34m[\u001b[0m\u001b[0;34m-\u001b[0m\u001b[0;36m1\u001b[0m\u001b[0;34m,\u001b[0m \u001b[0mX_test_5classes\u001b[0m\u001b[0;34m.\u001b[0m\u001b[0mshape\u001b[0m\u001b[0;34m[\u001b[0m\u001b[0;36m1\u001b[0m\u001b[0;34m]\u001b[0m\u001b[0;34m]\u001b[0m\u001b[0;34m)\u001b[0m\u001b[0;34m\u001b[0m\u001b[0;34m\u001b[0m\u001b[0m\n",
      "\u001b[0;32m~/.conda/envs/fluffy-bunnies/lib/python3.6/site-packages/matplotlib/pyplot.py\u001b[0m in \u001b[0;36mbar\u001b[0;34m(x, height, width, bottom, align, data, **kwargs)\u001b[0m\n\u001b[1;32m   2457\u001b[0m     return gca().bar(\n\u001b[1;32m   2458\u001b[0m         \u001b[0mx\u001b[0m\u001b[0;34m,\u001b[0m \u001b[0mheight\u001b[0m\u001b[0;34m,\u001b[0m \u001b[0mwidth\u001b[0m\u001b[0;34m=\u001b[0m\u001b[0mwidth\u001b[0m\u001b[0;34m,\u001b[0m \u001b[0mbottom\u001b[0m\u001b[0;34m=\u001b[0m\u001b[0mbottom\u001b[0m\u001b[0;34m,\u001b[0m \u001b[0malign\u001b[0m\u001b[0;34m=\u001b[0m\u001b[0malign\u001b[0m\u001b[0;34m,\u001b[0m\u001b[0;34m\u001b[0m\u001b[0;34m\u001b[0m\u001b[0m\n\u001b[0;32m-> 2459\u001b[0;31m         **({\"data\": data} if data is not None else {}), **kwargs)\n\u001b[0m\u001b[1;32m   2460\u001b[0m \u001b[0;34m\u001b[0m\u001b[0m\n\u001b[1;32m   2461\u001b[0m \u001b[0;34m\u001b[0m\u001b[0m\n",
      "\u001b[0;32m~/.conda/envs/fluffy-bunnies/lib/python3.6/site-packages/matplotlib/__init__.py\u001b[0m in \u001b[0;36minner\u001b[0;34m(ax, data, *args, **kwargs)\u001b[0m\n\u001b[1;32m   1808\u001b[0m                         \u001b[0;34m\"the Matplotlib list!)\"\u001b[0m \u001b[0;34m%\u001b[0m \u001b[0;34m(\u001b[0m\u001b[0mlabel_namer\u001b[0m\u001b[0;34m,\u001b[0m \u001b[0mfunc\u001b[0m\u001b[0;34m.\u001b[0m\u001b[0m__name__\u001b[0m\u001b[0;34m)\u001b[0m\u001b[0;34m,\u001b[0m\u001b[0;34m\u001b[0m\u001b[0;34m\u001b[0m\u001b[0m\n\u001b[1;32m   1809\u001b[0m                         RuntimeWarning, stacklevel=2)\n\u001b[0;32m-> 1810\u001b[0;31m             \u001b[0;32mreturn\u001b[0m \u001b[0mfunc\u001b[0m\u001b[0;34m(\u001b[0m\u001b[0max\u001b[0m\u001b[0;34m,\u001b[0m \u001b[0;34m*\u001b[0m\u001b[0margs\u001b[0m\u001b[0;34m,\u001b[0m \u001b[0;34m**\u001b[0m\u001b[0mkwargs\u001b[0m\u001b[0;34m)\u001b[0m\u001b[0;34m\u001b[0m\u001b[0;34m\u001b[0m\u001b[0m\n\u001b[0m\u001b[1;32m   1811\u001b[0m \u001b[0;34m\u001b[0m\u001b[0m\n\u001b[1;32m   1812\u001b[0m         inner.__doc__ = _add_data_doc(inner.__doc__,\n",
      "\u001b[0;32m~/.conda/envs/fluffy-bunnies/lib/python3.6/site-packages/matplotlib/axes/_axes.py\u001b[0m in \u001b[0;36mbar\u001b[0;34m(self, x, height, width, bottom, align, **kwargs)\u001b[0m\n\u001b[1;32m   2249\u001b[0m         x, height, width, y, linewidth = np.broadcast_arrays(\n\u001b[1;32m   2250\u001b[0m             \u001b[0;31m# Make args iterable too.\u001b[0m\u001b[0;34m\u001b[0m\u001b[0;34m\u001b[0m\u001b[0;34m\u001b[0m\u001b[0m\n\u001b[0;32m-> 2251\u001b[0;31m             np.atleast_1d(x), height, width, y, linewidth)\n\u001b[0m\u001b[1;32m   2252\u001b[0m \u001b[0;34m\u001b[0m\u001b[0m\n\u001b[1;32m   2253\u001b[0m         \u001b[0;31m# Now that units have been converted, set the tick locations.\u001b[0m\u001b[0;34m\u001b[0m\u001b[0;34m\u001b[0m\u001b[0;34m\u001b[0m\u001b[0m\n",
      "\u001b[0;32m~/.conda/envs/fluffy-bunnies/lib/python3.6/site-packages/numpy/lib/stride_tricks.py\u001b[0m in \u001b[0;36mbroadcast_arrays\u001b[0;34m(*args, **kwargs)\u001b[0m\n\u001b[1;32m    250\u001b[0m     \u001b[0margs\u001b[0m \u001b[0;34m=\u001b[0m \u001b[0;34m[\u001b[0m\u001b[0mnp\u001b[0m\u001b[0;34m.\u001b[0m\u001b[0marray\u001b[0m\u001b[0;34m(\u001b[0m\u001b[0m_m\u001b[0m\u001b[0;34m,\u001b[0m \u001b[0mcopy\u001b[0m\u001b[0;34m=\u001b[0m\u001b[0;32mFalse\u001b[0m\u001b[0;34m,\u001b[0m \u001b[0msubok\u001b[0m\u001b[0;34m=\u001b[0m\u001b[0msubok\u001b[0m\u001b[0;34m)\u001b[0m \u001b[0;32mfor\u001b[0m \u001b[0m_m\u001b[0m \u001b[0;32min\u001b[0m \u001b[0margs\u001b[0m\u001b[0;34m]\u001b[0m\u001b[0;34m\u001b[0m\u001b[0;34m\u001b[0m\u001b[0m\n\u001b[1;32m    251\u001b[0m \u001b[0;34m\u001b[0m\u001b[0m\n\u001b[0;32m--> 252\u001b[0;31m     \u001b[0mshape\u001b[0m \u001b[0;34m=\u001b[0m \u001b[0m_broadcast_shape\u001b[0m\u001b[0;34m(\u001b[0m\u001b[0;34m*\u001b[0m\u001b[0margs\u001b[0m\u001b[0;34m)\u001b[0m\u001b[0;34m\u001b[0m\u001b[0;34m\u001b[0m\u001b[0m\n\u001b[0m\u001b[1;32m    253\u001b[0m \u001b[0;34m\u001b[0m\u001b[0m\n\u001b[1;32m    254\u001b[0m     \u001b[0;32mif\u001b[0m \u001b[0mall\u001b[0m\u001b[0;34m(\u001b[0m\u001b[0marray\u001b[0m\u001b[0;34m.\u001b[0m\u001b[0mshape\u001b[0m \u001b[0;34m==\u001b[0m \u001b[0mshape\u001b[0m \u001b[0;32mfor\u001b[0m \u001b[0marray\u001b[0m \u001b[0;32min\u001b[0m \u001b[0margs\u001b[0m\u001b[0;34m)\u001b[0m\u001b[0;34m:\u001b[0m\u001b[0;34m\u001b[0m\u001b[0;34m\u001b[0m\u001b[0m\n",
      "\u001b[0;32m~/.conda/envs/fluffy-bunnies/lib/python3.6/site-packages/numpy/lib/stride_tricks.py\u001b[0m in \u001b[0;36m_broadcast_shape\u001b[0;34m(*args)\u001b[0m\n\u001b[1;32m    185\u001b[0m     \u001b[0;31m# use the old-iterator because np.nditer does not handle size 0 arrays\u001b[0m\u001b[0;34m\u001b[0m\u001b[0;34m\u001b[0m\u001b[0;34m\u001b[0m\u001b[0m\n\u001b[1;32m    186\u001b[0m     \u001b[0;31m# consistently\u001b[0m\u001b[0;34m\u001b[0m\u001b[0;34m\u001b[0m\u001b[0;34m\u001b[0m\u001b[0m\n\u001b[0;32m--> 187\u001b[0;31m     \u001b[0mb\u001b[0m \u001b[0;34m=\u001b[0m \u001b[0mnp\u001b[0m\u001b[0;34m.\u001b[0m\u001b[0mbroadcast\u001b[0m\u001b[0;34m(\u001b[0m\u001b[0;34m*\u001b[0m\u001b[0margs\u001b[0m\u001b[0;34m[\u001b[0m\u001b[0;34m:\u001b[0m\u001b[0;36m32\u001b[0m\u001b[0;34m]\u001b[0m\u001b[0;34m)\u001b[0m\u001b[0;34m\u001b[0m\u001b[0;34m\u001b[0m\u001b[0m\n\u001b[0m\u001b[1;32m    188\u001b[0m     \u001b[0;31m# unfortunately, it cannot handle 32 or more arguments directly\u001b[0m\u001b[0;34m\u001b[0m\u001b[0;34m\u001b[0m\u001b[0;34m\u001b[0m\u001b[0m\n\u001b[1;32m    189\u001b[0m     \u001b[0;32mfor\u001b[0m \u001b[0mpos\u001b[0m \u001b[0;32min\u001b[0m \u001b[0mrange\u001b[0m\u001b[0;34m(\u001b[0m\u001b[0;36m32\u001b[0m\u001b[0;34m,\u001b[0m \u001b[0mlen\u001b[0m\u001b[0;34m(\u001b[0m\u001b[0margs\u001b[0m\u001b[0;34m)\u001b[0m\u001b[0;34m,\u001b[0m \u001b[0;36m31\u001b[0m\u001b[0;34m)\u001b[0m\u001b[0;34m:\u001b[0m\u001b[0;34m\u001b[0m\u001b[0;34m\u001b[0m\u001b[0m\n",
      "\u001b[0;31mValueError\u001b[0m: shape mismatch: objects cannot be broadcast to a single shape"
     ]
    },
    {
     "data": {
      "image/png": "[encoded data removed]",
      "text/plain": [
       "<Figure size 432x288 with 1 Axes>"
      ]
     },
     "metadata": {
      "needs_background": "light"
     },
     "output_type": "display_data"
    }
   ],
   "source": [
    "plt.figure()\n",
    "plt.title(\"Feature importances\")\n",
    "plt.bar(range(X_test_5classes.shape[1]), importances[indices],\n",
    "        color=\"r\", yerr=std[indices], align=\"center\")\n",
    "plt.xticks(range(X_test_5classes.shape[1]), indices)\n",
    "plt.xlim([-1, X_test_5classes.shape[1]])\n",
    "plt.show()"
   ]
  },
  {
   "cell_type": "code",
   "execution_count": null,
   "metadata": {},
   "outputs": [],
   "source": []
  }
 ],
 "metadata": {
  "kernelspec": {
   "display_name": "Python 3",
   "language": "python",
   "name": "python3"
  },
  "language_info": {
   "codemirror_mode": {
    "name": "ipython",
    "version": 3
   },
   "file_extension": ".py",
   "mimetype": "text/x-python",
   "name": "python",
   "nbconvert_exporter": "python",
   "pygments_lexer": "ipython3",
   "version": "3.6.7"
  }
 },
 "nbformat": 4,
 "nbformat_minor": 2
}
