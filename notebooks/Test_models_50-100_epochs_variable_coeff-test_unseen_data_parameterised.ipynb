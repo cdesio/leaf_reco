{
 "cells": [
  {
   "cell_type": "code",
   "execution_count": 1,
   "metadata": {},
   "outputs": [],
   "source": [
    "import sys, os\n",
    "import matplotlib.pyplot as plt\n",
    "sys.path.append(\"../\")\n",
    "from sklearn.metrics import mean_squared_error\n",
    "import re"
   ]
  },
  {
   "cell_type": "code",
   "execution_count": 2,
   "metadata": {
    "tags": [
     "parameters"
    ]
   },
   "outputs": [],
   "source": [
    "distances_unseen=[2,4,10,20,25,35]\n",
    "distances_testdata = [1,3,15,30]\n",
    "saved_models = '/storage/yw18581/src/leaf_reco/saved_models/trained_6positions/'"
   ]
  },
  {
   "cell_type": "code",
   "execution_count": 3,
   "metadata": {},
   "outputs": [],
   "source": [
    "import numpy as np"
   ]
  },
  {
   "cell_type": "code",
   "execution_count": 4,
   "metadata": {},
   "outputs": [],
   "source": [
    "regex = re.compile(r'\\d+')"
   ]
  },
  {
   "cell_type": "code",
   "execution_count": 5,
   "metadata": {},
   "outputs": [],
   "source": [
    "%matplotlib inline"
   ]
  },
  {
   "cell_type": "code",
   "execution_count": 6,
   "metadata": {},
   "outputs": [],
   "source": [
    "from core.utils.data import define_dataset, select_dist"
   ]
  },
  {
   "cell_type": "code",
   "execution_count": 7,
   "metadata": {},
   "outputs": [],
   "source": [
    "from core.utils.inference import inference_phase_rUNet, inference_phase_rUNet_plot_notebook"
   ]
  },
  {
   "cell_type": "code",
   "execution_count": 8,
   "metadata": {},
   "outputs": [],
   "source": [
    "from core.models import rUNet"
   ]
  },
  {
   "cell_type": "code",
   "execution_count": 9,
   "metadata": {},
   "outputs": [],
   "source": [
    "import torch"
   ]
  },
  {
   "cell_type": "code",
   "execution_count": 10,
   "metadata": {},
   "outputs": [],
   "source": [
    "DATA_DIR_DEEPTHOUGHT = \"/storage/yw18581/data\""
   ]
  },
  {
   "cell_type": "code",
   "execution_count": 11,
   "metadata": {},
   "outputs": [],
   "source": [
    "data_dir = DATA_DIR_DEEPTHOUGHT"
   ]
  },
  {
   "cell_type": "code",
   "execution_count": 12,
   "metadata": {},
   "outputs": [],
   "source": [
    "root_folder = os.path.join(data_dir, \"dataset\")"
   ]
  },
  {
   "cell_type": "code",
   "execution_count": 13,
   "metadata": {},
   "outputs": [],
   "source": [
    "excluded_testdata = select_dist(dist_list=distances_testdata, root_folder=root_folder)"
   ]
  },
  {
   "cell_type": "code",
   "execution_count": 14,
   "metadata": {},
   "outputs": [
    {
     "data": {
      "text/plain": [
       "['10x10_1mm_second_clean',\n",
       " '10x10_1mm_third_clean',\n",
       " '10x10_1mm_first_clean',\n",
       " '10x10_3mm_second_clean',\n",
       " '10x10_3mm_third_clean',\n",
       " '10x10_3mm_first_clean',\n",
       " '10x10_15mm_second_clean',\n",
       " '10x10_15mm_third_clean',\n",
       " '10x10_15mm_first_clean',\n",
       " '10x10_30mm_second_clean',\n",
       " '10x10_30mm_third_clean',\n",
       " '10x10_30mm_first_clean']"
      ]
     },
     "execution_count": 14,
     "metadata": {},
     "output_type": "execute_result"
    }
   ],
   "source": [
    "excluded_testdata"
   ]
  },
  {
   "cell_type": "code",
   "execution_count": 15,
   "metadata": {},
   "outputs": [],
   "source": [
    "excluded_unseen = select_dist(dist_list=distances_unseen, root_folder=root_folder)"
   ]
  },
  {
   "cell_type": "code",
   "execution_count": 16,
   "metadata": {},
   "outputs": [
    {
     "data": {
      "text/plain": [
       "['10x10_2mm_second_clean',\n",
       " '10x10_2mm_third_clean',\n",
       " '10x10_2mm_first_clean',\n",
       " '10x10_4mm_second_clean',\n",
       " '10x10_4mm_third_clean',\n",
       " '10x10_4mm_first_clean',\n",
       " '10x10_10mm_second_clean',\n",
       " '10x10_10mm_third_clean',\n",
       " '10x10_10mm_first_clean',\n",
       " '10x10_20mm_second_clean',\n",
       " '10x10_20mm_third_clean',\n",
       " '10x10_20mm_first_clean',\n",
       " '10x10_25mm_second_clean',\n",
       " '10x10_25mm_third_clean',\n",
       " '10x10_25mm_first_clean',\n",
       " '10x10_35mm_second_clean',\n",
       " '10x10_35mm_third_clean',\n",
       " '10x10_35mm_first_clean']"
      ]
     },
     "execution_count": 16,
     "metadata": {},
     "output_type": "execute_result"
    }
   ],
   "source": [
    "excluded_unseen"
   ]
  },
  {
   "cell_type": "code",
   "execution_count": 17,
   "metadata": {},
   "outputs": [],
   "source": [
    "data_loaders_test, data_lengths_test = define_dataset(root_folder, batch_size=16, excluded_list=excluded_testdata, alldata=False)"
   ]
  },
  {
   "cell_type": "code",
   "execution_count": 18,
   "metadata": {},
   "outputs": [
    {
     "data": {
      "text/plain": [
       "{'train': 3456, 'val': 864, 'test': 1080}"
      ]
     },
     "execution_count": 18,
     "metadata": {},
     "output_type": "execute_result"
    }
   ],
   "source": [
    "data_lengths_test"
   ]
  },
  {
   "cell_type": "code",
   "execution_count": 19,
   "metadata": {},
   "outputs": [],
   "source": [
    "data_loaders_unseen, data_lengths_unseen = define_dataset(root_folder, batch_size=16, excluded_list=excluded_unseen, alldata=True)"
   ]
  },
  {
   "cell_type": "code",
   "execution_count": 20,
   "metadata": {},
   "outputs": [
    {
     "data": {
      "text/plain": [
       "3532"
      ]
     },
     "execution_count": 20,
     "metadata": {},
     "output_type": "execute_result"
    }
   ],
   "source": [
    "data_lengths_unseen"
   ]
  },
  {
   "cell_type": "code",
   "execution_count": 21,
   "metadata": {},
   "outputs": [],
   "source": [
    "model_names = os.listdir(saved_models)"
   ]
  },
  {
   "cell_type": "code",
   "execution_count": 22,
   "metadata": {},
   "outputs": [
    {
     "data": {
      "text/plain": [
       "['Trained_rUNet_pytorch_6positions_dataset_5epochs_0.75coeff_mask.pkl',\n",
       " 'Trained_rUNet_pytorch_6positions_dataset_10epochs_0.75coeff_mask.pkl',\n",
       " 'Trained_rUNet_pytorch_6positions_dataset_15epochs_0.75coeff_mask.pkl',\n",
       " 'Trained_rUNet_pytorch_6positions_dataset_20epochs_0.75coeff_mask.pkl',\n",
       " 'Trained_rUNet_pytorch_6positions_dataset_25epochs_0.75coeff_mask.pkl',\n",
       " 'Trained_rUNet_pytorch_6positions_dataset_30epochs_0.75coeff_mask.pkl',\n",
       " 'Trained_rUNet_pytorch_6positions_dataset_35epochs_0.75coeff_mask.pkl',\n",
       " 'Trained_rUNet_pytorch_6positions_dataset_40epochs_0.75coeff_mask.pkl',\n",
       " 'Trained_rUNet_pytorch_6positions_dataset_45epochs_0.75coeff_mask.pkl',\n",
       " 'Trained_rUNet_pytorch_6positions_dataset_50epochs_0.75coeff_mask.pkl',\n",
       " 'history_Trained_rUNet_pytorch_50epochs_0.75coef.pkl',\n",
       " 'Trained_rUNet_pytorch_6positions_dataset_5epochs_0.7coeff_mask.pkl',\n",
       " 'Trained_rUNet_pytorch_6positions_dataset_10epochs_0.7coeff_mask.pkl',\n",
       " 'Trained_rUNet_pytorch_6positions_dataset_15epochs_0.7coeff_mask.pkl',\n",
       " 'Trained_rUNet_pytorch_6positions_dataset_20epochs_0.7coeff_mask.pkl',\n",
       " 'Trained_rUNet_pytorch_6positions_dataset_25epochs_0.7coeff_mask.pkl',\n",
       " 'Trained_rUNet_pytorch_6positions_dataset_30epochs_0.7coeff_mask.pkl',\n",
       " 'Trained_rUNet_pytorch_6positions_dataset_35epochs_0.7coeff_mask.pkl',\n",
       " 'Trained_rUNet_pytorch_6positions_dataset_40epochs_0.7coeff_mask.pkl',\n",
       " 'Trained_rUNet_pytorch_6positions_dataset_45epochs_0.7coeff_mask.pkl',\n",
       " 'Trained_rUNet_pytorch_6positions_dataset_50epochs_0.7coeff_mask.pkl',\n",
       " 'history_Trained_rUNet_pytorch_50epochs_0.7coef.pkl',\n",
       " 'Trained_rUNet_pytorch_6positions_dataset_5epochs_0.6coeff_mask.pkl',\n",
       " 'Trained_rUNet_pytorch_6positions_dataset_10epochs_0.6coeff_mask.pkl',\n",
       " 'Trained_rUNet_pytorch_6positions_dataset_15epochs_0.6coeff_mask.pkl',\n",
       " 'Trained_rUNet_pytorch_6positions_dataset_20epochs_0.6coeff_mask.pkl',\n",
       " 'Trained_rUNet_pytorch_6positions_dataset_25epochs_0.6coeff_mask.pkl',\n",
       " 'Trained_rUNet_pytorch_6positions_dataset_30epochs_0.6coeff_mask.pkl',\n",
       " 'Trained_rUNet_pytorch_6positions_dataset_35epochs_0.6coeff_mask.pkl',\n",
       " 'Trained_rUNet_pytorch_6positions_dataset_40epochs_0.6coeff_mask.pkl',\n",
       " 'Trained_rUNet_pytorch_6positions_dataset_45epochs_0.6coeff_mask.pkl',\n",
       " 'Trained_rUNet_pytorch_6positions_dataset_50epochs_0.6coeff_mask.pkl',\n",
       " 'history_Trained_rUNet_pytorch_50epochs_0.6coef.pkl',\n",
       " 'Trained_rUNet_pytorch_6positions_dataset_5epochs_0.5coeff_mask.pkl',\n",
       " 'Trained_rUNet_pytorch_6positions_dataset_10epochs_0.5coeff_mask.pkl',\n",
       " 'Trained_rUNet_pytorch_6positions_dataset_15epochs_0.5coeff_mask.pkl',\n",
       " 'Trained_rUNet_pytorch_6positions_dataset_20epochs_0.5coeff_mask.pkl',\n",
       " 'Trained_rUNet_pytorch_6positions_dataset_25epochs_0.5coeff_mask.pkl',\n",
       " 'Trained_rUNet_pytorch_6positions_dataset_30epochs_0.5coeff_mask.pkl',\n",
       " 'Trained_rUNet_pytorch_6positions_dataset_35epochs_0.5coeff_mask.pkl',\n",
       " 'Trained_rUNet_pytorch_6positions_dataset_40epochs_0.5coeff_mask.pkl',\n",
       " 'Trained_rUNet_pytorch_6positions_dataset_45epochs_0.5coeff_mask.pkl',\n",
       " 'Trained_rUNet_pytorch_6positions_dataset_50epochs_0.5coeff_mask.pkl',\n",
       " 'history_Trained_rUNet_pytorch_50epochs_0.5coef.pkl',\n",
       " 'predicted_unseen_6positions_5epochs_0.75coeff.npz',\n",
       " 'predicted_unseen_6positions_10epochs_0.75coeff.npz',\n",
       " 'predicted_unseen_6positions_15epochs_0.75coeff.npz',\n",
       " 'predicted_unseen_6positions_20epochs_0.75coeff.npz',\n",
       " 'predicted_unseen_6positions_25epochs_0.75coeff.npz',\n",
       " 'predicted_unseen_6positions_30epochs_0.75coeff.npz',\n",
       " 'predicted_unseen_6positions_35epochs_0.75coeff.npz',\n",
       " 'predicted_unseen_6positions_40epochs_0.75coeff.npz',\n",
       " 'error_distributions',\n",
       " 'predicted_unseen_6positions_45epochs_0.75coeff.npz',\n",
       " 'predicted_unseen_6positions_50epochs_0.75coeff.npz',\n",
       " 'predicted_unseen_6positions_5epochs_0.7coeff.npz',\n",
       " 'predicted_unseen_6positions_10epochs_0.7coeff.npz',\n",
       " 'predicted_unseen_6positions_15epochs_0.7coeff.npz',\n",
       " 'predicted_unseen_6positions_20epochs_0.7coeff.npz',\n",
       " 'predicted_unseen_6positions_25epochs_0.7coeff.npz',\n",
       " 'predicted_unseen_6positions_30epochs_0.7coeff.npz',\n",
       " 'predicted_unseen_6positions_35epochs_0.7coeff.npz',\n",
       " 'predicted_unseen_6positions_40epochs_0.7coeff.npz',\n",
       " 'predicted_unseen_6positions_45epochs_0.7coeff.npz',\n",
       " 'predicted_unseen_6positions_50epochs_0.7coeff.npz',\n",
       " 'predicted_unseen_6positions_5epochs_0.6coeff.npz',\n",
       " 'predicted_unseen_6positions_10epochs_0.6coeff.npz',\n",
       " 'predicted_unseen_6positions_15epochs_0.6coeff.npz',\n",
       " 'predicted_unseen_6positions_20epochs_0.6coeff.npz',\n",
       " 'predicted_unseen_6positions_25epochs_0.6coeff.npz',\n",
       " 'predicted_unseen_6positions_30epochs_0.6coeff.npz',\n",
       " 'predicted_unseen_6positions_35epochs_0.6coeff.npz',\n",
       " 'predicted_unseen_6positions_40epochs_0.6coeff.npz',\n",
       " 'predicted_unseen_6positions_45epochs_0.6coeff.npz',\n",
       " 'predicted_unseen_6positions_50epochs_0.6coeff.npz',\n",
       " 'predicted_unseen_6positions_5epochs_0.5coeff.npz',\n",
       " 'predicted_unseen_6positions_10epochs_0.5coeff.npz',\n",
       " 'predicted_unseen_6positions_15epochs_0.5coeff.npz',\n",
       " 'predicted_unseen_6positions_20epochs_0.5coeff.npz',\n",
       " 'predicted_unseen_6positions_25epochs_0.5coeff.npz',\n",
       " 'predicted_unseen_6positions_30epochs_0.5coeff.npz',\n",
       " 'predicted_unseen_6positions_35epochs_0.5coeff.npz',\n",
       " 'predicted_unseen_6positions_40epochs_0.5coeff.npz',\n",
       " 'predicted_unseen_6positions_45epochs_0.5coeff.npz',\n",
       " 'predicted_unseen_6positions_50epochs_0.5coeff.npz',\n",
       " 'predicted_testdata_6positions_35epochs_0.75coeff.npz',\n",
       " 'predicted_testdata_6positions_40epochs_0.75coeff.npz',\n",
       " 'predicted_testdata_6positions_45epochs_0.75coeff.npz',\n",
       " 'predicted_testdata_6positions_50epochs_0.75coeff.npz',\n",
       " 'Trained_rUNet_pytorch_6positions_dataset_55epochs_0.75coeff_mask.pkl',\n",
       " 'predicted_testdata_6positions_15epochs_0.6coeff.npz',\n",
       " 'predicted_testdata_6positions_20epochs_0.6coeff.npz',\n",
       " 'predicted_testdata_6positions_30epochs_0.6coeff.npz',\n",
       " 'predicted_testdata_6positions_40epochs_0.6coeff.npz',\n",
       " 'predicted_testdata_6positions_50epochs_0.6coeff.npz',\n",
       " 'predicted_testdata_6positions_15epochs_0.7coeff.npz',\n",
       " 'predicted_testdata_6positions_20epochs_0.7coeff.npz',\n",
       " 'predicted_testdata_6positions_25epochs_0.7coeff.npz',\n",
       " 'predicted_testdata_6positions_30epochs_0.7coeff.npz',\n",
       " 'predicted_testdata_6positions_35epochs_0.7coeff.npz',\n",
       " 'predicted_testdata_6positions_40epochs_0.7coeff.npz',\n",
       " 'predicted_testdata_6positions_45epochs_0.7coeff.npz',\n",
       " 'predicted_testdata_6positions_50epochs_0.7coeff.npz',\n",
       " 'predicted_testdata_6positions_50epochs_0.5coeff.npz',\n",
       " 'predicted_testdata_6positions_10epochs_0.6coeff.npz',\n",
       " 'predicted_testdata_6positions_10epochs_0.75coeff.npz',\n",
       " 'predicted_testdata_6positions_15epochs_0.75coeff.npz',\n",
       " 'predicted_testdata_6positions_20epochs_0.75coeff.npz',\n",
       " 'predicted_testdata_6positions_25epochs_0.75coeff.npz',\n",
       " 'predicted_testdata_6positions_30epochs_0.75coeff.npz',\n",
       " 'predicted_testdata_6positions_5epochs_0.5coeff.npz',\n",
       " 'predicted_testdata_6positions_25epochs_0.6coeff.npz',\n",
       " 'predicted_testdata_6positions_35epochs_0.6coeff.npz',\n",
       " 'predicted_testdata_6positions_45epochs_0.6coeff.npz',\n",
       " 'predicted_testdata_6positions_5epochs_0.75coeff.npz',\n",
       " 'Trained_rUNet_pytorch_6positions_dataset_80epochs_0.6coeff_mask.pkl',\n",
       " 'Trained_rUNet_pytorch_6positions_dataset_90epochs_0.6coeff_mask.pkl',\n",
       " 'Trained_rUNet_pytorch_6positions_dataset_100epochs_0.6coeff_mask.pkl',\n",
       " 'Trained_rUNet_pytorch_6positions_dataset_60epochs_0.5coeff_mask.pkl',\n",
       " 'Trained_rUNet_pytorch_6positions_dataset_70epochs_0.5coeff_mask.pkl',\n",
       " 'Trained_rUNet_pytorch_6positions_dataset_80epochs_0.5coeff_mask.pkl',\n",
       " 'Trained_rUNet_pytorch_6positions_dataset_90epochs_0.5coeff_mask.pkl',\n",
       " 'Trained_rUNet_pytorch_6positions_dataset_100epochs_0.5coeff_mask.pkl',\n",
       " 'predicted_testdata_6positions_5epochs_0.7coeff.npz',\n",
       " 'predicted_testdata_6positions_10epochs_0.7coeff.npz',\n",
       " 'predicted_testdata_6positions_5epochs_0.6coeff.npz',\n",
       " 'predicted_testdata_6positions_10epochs_0.5coeff.npz',\n",
       " 'predicted_testdata_6positions_15epochs_0.5coeff.npz',\n",
       " 'predicted_testdata_6positions_20epochs_0.5coeff.npz',\n",
       " 'predicted_testdata_6positions_25epochs_0.5coeff.npz',\n",
       " 'predicted_testdata_6positions_30epochs_0.5coeff.npz',\n",
       " 'predicted_testdata_6positions_35epochs_0.5coeff.npz',\n",
       " 'predicted_testdata_6positions_40epochs_0.5coeff.npz',\n",
       " 'predicted_testdata_6positions_45epochs_0.5coeff.npz',\n",
       " 'Trained_rUNet_pytorch_6positions_dataset_60epochs_0.75coeff_mask.pkl',\n",
       " 'Trained_rUNet_pytorch_6positions_dataset_65epochs_0.75coeff_mask.pkl',\n",
       " 'Trained_rUNet_pytorch_6positions_dataset_70epochs_0.75coeff_mask.pkl',\n",
       " 'Trained_rUNet_pytorch_6positions_dataset_75epochs_0.75coeff_mask.pkl',\n",
       " 'Trained_rUNet_pytorch_6positions_dataset_80epochs_0.75coeff_mask.pkl',\n",
       " 'Trained_rUNet_pytorch_6positions_dataset_85epochs_0.75coeff_mask.pkl',\n",
       " 'Trained_rUNet_pytorch_6positions_dataset_90epochs_0.75coeff_mask.pkl',\n",
       " 'Trained_rUNet_pytorch_6positions_dataset_95epochs_0.75coeff_mask.pkl',\n",
       " 'Trained_rUNet_pytorch_6positions_dataset_100epochs_0.75coeff_mask.pkl',\n",
       " 'history_Trained_rUNet_pytorch_100epochs_0.75coef.pkl',\n",
       " 'Trained_rUNet_pytorch_6positions_dataset_55epochs_0.7coeff_mask.pkl',\n",
       " 'Trained_rUNet_pytorch_6positions_dataset_60epochs_0.7coeff_mask.pkl',\n",
       " 'Trained_rUNet_pytorch_6positions_dataset_65epochs_0.7coeff_mask.pkl',\n",
       " 'Trained_rUNet_pytorch_6positions_dataset_70epochs_0.7coeff_mask.pkl',\n",
       " 'Trained_rUNet_pytorch_6positions_dataset_75epochs_0.7coeff_mask.pkl',\n",
       " 'Trained_rUNet_pytorch_6positions_dataset_80epochs_0.7coeff_mask.pkl',\n",
       " 'Trained_rUNet_pytorch_6positions_dataset_85epochs_0.7coeff_mask.pkl',\n",
       " 'Trained_rUNet_pytorch_6positions_dataset_90epochs_0.7coeff_mask.pkl',\n",
       " 'Trained_rUNet_pytorch_6positions_dataset_95epochs_0.7coeff_mask.pkl',\n",
       " 'Trained_rUNet_pytorch_6positions_dataset_100epochs_0.7coeff_mask.pkl',\n",
       " 'history_Trained_rUNet_pytorch_100epochs_0.7coef.pkl',\n",
       " 'Trained_rUNet_pytorch_6positions_dataset_55epochs_0.6coeff_mask.pkl',\n",
       " 'Trained_rUNet_pytorch_6positions_dataset_60epochs_0.6coeff_mask.pkl',\n",
       " 'Trained_rUNet_pytorch_6positions_dataset_65epochs_0.6coeff_mask.pkl',\n",
       " 'Trained_rUNet_pytorch_6positions_dataset_70epochs_0.6coeff_mask.pkl',\n",
       " 'Trained_rUNet_pytorch_6positions_dataset_75epochs_0.6coeff_mask.pkl',\n",
       " 'Trained_rUNet_pytorch_6positions_dataset_85epochs_0.6coeff_mask.pkl',\n",
       " 'Trained_rUNet_pytorch_6positions_dataset_95epochs_0.6coeff_mask.pkl',\n",
       " 'history_Trained_rUNet_pytorch_100epochs_0.6coef.pkl',\n",
       " 'Trained_rUNet_pytorch_6positions_dataset_55epochs_0.5coeff_mask.pkl',\n",
       " 'Trained_rUNet_pytorch_6positions_dataset_65epochs_0.5coeff_mask.pkl',\n",
       " 'Trained_rUNet_pytorch_6positions_dataset_75epochs_0.5coeff_mask.pkl',\n",
       " 'Trained_rUNet_pytorch_6positions_dataset_85epochs_0.5coeff_mask.pkl',\n",
       " 'Trained_rUNet_pytorch_6positions_dataset_95epochs_0.5coeff_mask.pkl',\n",
       " 'history_Trained_rUNet_pytorch_100epochs_0.5coef.pkl',\n",
       " 'Trained_rUNet_pytorch_6positions_dataset_5epochs_0.25coeff_mask.pkl',\n",
       " 'Trained_rUNet_pytorch_6positions_dataset_45epochs_0.25coeff_mask.pkl',\n",
       " 'predicted_testdata_6positions_85epochs_0.5coeff.npz',\n",
       " 'Trained_rUNet_pytorch_6positions_dataset_50epochs_0.25coeff_mask.pkl',\n",
       " 'Trained_rUNet_pytorch_6positions_dataset_60epochs_0.25coeff_mask.pkl',\n",
       " 'Trained_rUNet_pytorch_6positions_dataset_70epochs_0.25coeff_mask.pkl',\n",
       " 'Trained_rUNet_pytorch_6positions_dataset_80epochs_0.25coeff_mask.pkl',\n",
       " 'Trained_rUNet_pytorch_6positions_dataset_10epochs_0.25coeff_mask.pkl',\n",
       " 'Trained_rUNet_pytorch_6positions_dataset_15epochs_0.25coeff_mask.pkl',\n",
       " 'predicted_testdata_6positions_55epochs_0.75coeff.npz',\n",
       " 'predicted_testdata_6positions_60epochs_0.75coeff.npz',\n",
       " 'predicted_testdata_6positions_65epochs_0.75coeff.npz',\n",
       " 'predicted_testdata_6positions_70epochs_0.75coeff.npz',\n",
       " 'predicted_testdata_6positions_75epochs_0.75coeff.npz',\n",
       " 'predicted_testdata_6positions_80epochs_0.75coeff.npz',\n",
       " 'Trained_rUNet_pytorch_6positions_dataset_20epochs_0.25coeff_mask.pkl',\n",
       " 'predicted_testdata_6positions_85epochs_0.75coeff.npz',\n",
       " 'predicted_testdata_6positions_90epochs_0.75coeff.npz',\n",
       " 'predicted_testdata_6positions_95epochs_0.75coeff.npz',\n",
       " 'predicted_testdata_6positions_100epochs_0.75coeff.npz',\n",
       " 'predicted_testdata_6positions_55epochs_0.7coeff.npz',\n",
       " 'predicted_testdata_6positions_60epochs_0.7coeff.npz',\n",
       " 'predicted_testdata_6positions_65epochs_0.7coeff.npz',\n",
       " 'Trained_rUNet_pytorch_6positions_dataset_25epochs_0.25coeff_mask.pkl',\n",
       " 'predicted_testdata_6positions_70epochs_0.7coeff.npz',\n",
       " 'predicted_testdata_6positions_75epochs_0.7coeff.npz',\n",
       " 'predicted_testdata_6positions_80epochs_0.7coeff.npz',\n",
       " 'predicted_testdata_6positions_85epochs_0.7coeff.npz',\n",
       " 'predicted_testdata_6positions_90epochs_0.7coeff.npz',\n",
       " 'predicted_testdata_6positions_95epochs_0.7coeff.npz',\n",
       " 'Trained_rUNet_pytorch_6positions_dataset_30epochs_0.25coeff_mask.pkl',\n",
       " 'predicted_testdata_6positions_100epochs_0.7coeff.npz',\n",
       " 'predicted_testdata_6positions_80epochs_0.6coeff.npz',\n",
       " 'predicted_testdata_6positions_90epochs_0.6coeff.npz',\n",
       " 'predicted_testdata_6positions_100epochs_0.6coeff.npz',\n",
       " 'predicted_testdata_6positions_55epochs_0.6coeff.npz',\n",
       " 'predicted_testdata_6positions_60epochs_0.6coeff.npz',\n",
       " 'Trained_rUNet_pytorch_6positions_dataset_35epochs_0.25coeff_mask.pkl',\n",
       " 'predicted_testdata_6positions_65epochs_0.6coeff.npz',\n",
       " 'predicted_testdata_6positions_70epochs_0.6coeff.npz',\n",
       " 'predicted_testdata_6positions_75epochs_0.6coeff.npz',\n",
       " 'predicted_testdata_6positions_85epochs_0.6coeff.npz',\n",
       " 'predicted_testdata_6positions_95epochs_0.6coeff.npz',\n",
       " 'predicted_testdata_6positions_60epochs_0.5coeff.npz',\n",
       " 'Trained_rUNet_pytorch_6positions_dataset_40epochs_0.25coeff_mask.pkl',\n",
       " 'predicted_testdata_6positions_70epochs_0.5coeff.npz',\n",
       " 'predicted_testdata_6positions_80epochs_0.5coeff.npz',\n",
       " 'predicted_testdata_6positions_90epochs_0.5coeff.npz',\n",
       " 'predicted_testdata_6positions_100epochs_0.5coeff.npz',\n",
       " 'predicted_testdata_6positions_55epochs_0.5coeff.npz',\n",
       " 'predicted_testdata_6positions_65epochs_0.5coeff.npz',\n",
       " 'predicted_testdata_6positions_75epochs_0.5coeff.npz',\n",
       " 'predicted_testdata_6positions_95epochs_0.5coeff.npz',\n",
       " 'Trained_rUNet_pytorch_6positions_dataset_55epochs_0.25coeff_mask.pkl',\n",
       " 'Trained_rUNet_pytorch_6positions_dataset_65epochs_0.25coeff_mask.pkl',\n",
       " 'Trained_rUNet_pytorch_6positions_dataset_75epochs_0.25coeff_mask.pkl',\n",
       " 'Trained_rUNet_pytorch_6positions_dataset_85epochs_0.25coeff_mask.pkl',\n",
       " 'Trained_rUNet_pytorch_6positions_dataset_90epochs_0.25coeff_mask.pkl',\n",
       " 'Trained_rUNet_pytorch_6positions_dataset_95epochs_0.25coeff_mask.pkl',\n",
       " 'Trained_rUNet_pytorch_6positions_dataset_100epochs_0.25coeff_mask.pkl',\n",
       " 'history_Trained_rUNet_pytorch_100epochs_0.25coef.pkl',\n",
       " 'Trained_rUNet_pytorch_6positions_dataset_5epochs_0.3coeff_mask.pkl',\n",
       " 'Trained_rUNet_pytorch_6positions_dataset_10epochs_0.3coeff_mask.pkl',\n",
       " 'Trained_rUNet_pytorch_6positions_dataset_15epochs_0.3coeff_mask.pkl',\n",
       " 'Trained_rUNet_pytorch_6positions_dataset_20epochs_0.3coeff_mask.pkl',\n",
       " 'Trained_rUNet_pytorch_6positions_dataset_25epochs_0.3coeff_mask.pkl',\n",
       " 'Trained_rUNet_pytorch_6positions_dataset_30epochs_0.3coeff_mask.pkl',\n",
       " 'Trained_rUNet_pytorch_6positions_dataset_35epochs_0.3coeff_mask.pkl',\n",
       " 'Trained_rUNet_pytorch_6positions_dataset_40epochs_0.3coeff_mask.pkl',\n",
       " 'Trained_rUNet_pytorch_6positions_dataset_45epochs_0.3coeff_mask.pkl',\n",
       " 'Trained_rUNet_pytorch_6positions_dataset_50epochs_0.3coeff_mask.pkl',\n",
       " 'Trained_rUNet_pytorch_6positions_dataset_55epochs_0.3coeff_mask.pkl',\n",
       " 'Trained_rUNet_pytorch_6positions_dataset_60epochs_0.3coeff_mask.pkl',\n",
       " 'Trained_rUNet_pytorch_6positions_dataset_65epochs_0.3coeff_mask.pkl',\n",
       " 'Trained_rUNet_pytorch_6positions_dataset_70epochs_0.3coeff_mask.pkl',\n",
       " 'Trained_rUNet_pytorch_6positions_dataset_75epochs_0.3coeff_mask.pkl',\n",
       " 'Trained_rUNet_pytorch_6positions_dataset_80epochs_0.3coeff_mask.pkl',\n",
       " 'Trained_rUNet_pytorch_6positions_dataset_85epochs_0.3coeff_mask.pkl',\n",
       " 'Trained_rUNet_pytorch_6positions_dataset_90epochs_0.3coeff_mask.pkl',\n",
       " 'Trained_rUNet_pytorch_6positions_dataset_95epochs_0.3coeff_mask.pkl',\n",
       " 'Trained_rUNet_pytorch_6positions_dataset_100epochs_0.3coeff_mask.pkl',\n",
       " 'history_Trained_rUNet_pytorch_100epochs_0.3coef.pkl',\n",
       " 'Trained_rUNet_pytorch_6positions_dataset_5epochs_0.4coeff_mask.pkl',\n",
       " 'Trained_rUNet_pytorch_6positions_dataset_10epochs_0.4coeff_mask.pkl',\n",
       " 'Trained_rUNet_pytorch_6positions_dataset_15epochs_0.4coeff_mask.pkl',\n",
       " 'Trained_rUNet_pytorch_6positions_dataset_20epochs_0.4coeff_mask.pkl',\n",
       " 'predicted_unseen_6positions_55epochs_0.75coeff.npz',\n",
       " 'predicted_unseen_6positions_60epochs_0.75coeff.npz',\n",
       " 'Trained_rUNet_pytorch_6positions_dataset_25epochs_0.4coeff_mask.pkl',\n",
       " 'predicted_unseen_6positions_65epochs_0.75coeff.npz',\n",
       " 'predicted_unseen_6positions_70epochs_0.75coeff.npz',\n",
       " 'predicted_unseen_6positions_75epochs_0.75coeff.npz',\n",
       " 'predicted_unseen_6positions_80epochs_0.75coeff.npz',\n",
       " 'predicted_unseen_6positions_85epochs_0.75coeff.npz',\n",
       " 'predicted_unseen_6positions_90epochs_0.75coeff.npz',\n",
       " 'Trained_rUNet_pytorch_6positions_dataset_30epochs_0.4coeff_mask.pkl',\n",
       " 'predicted_unseen_6positions_95epochs_0.75coeff.npz',\n",
       " 'predicted_unseen_6positions_100epochs_0.75coeff.npz',\n",
       " 'predicted_unseen_6positions_55epochs_0.7coeff.npz',\n",
       " 'predicted_unseen_6positions_60epochs_0.7coeff.npz',\n",
       " 'predicted_unseen_6positions_65epochs_0.7coeff.npz',\n",
       " 'predicted_unseen_6positions_70epochs_0.7coeff.npz',\n",
       " 'Trained_rUNet_pytorch_6positions_dataset_35epochs_0.4coeff_mask.pkl',\n",
       " 'predicted_unseen_6positions_75epochs_0.7coeff.npz',\n",
       " 'predicted_unseen_6positions_80epochs_0.7coeff.npz',\n",
       " 'predicted_unseen_6positions_85epochs_0.7coeff.npz',\n",
       " 'predicted_unseen_6positions_90epochs_0.7coeff.npz',\n",
       " 'predicted_unseen_6positions_95epochs_0.7coeff.npz',\n",
       " 'predicted_unseen_6positions_100epochs_0.7coeff.npz',\n",
       " 'Trained_rUNet_pytorch_6positions_dataset_40epochs_0.4coeff_mask.pkl',\n",
       " 'predicted_unseen_6positions_80epochs_0.6coeff.npz',\n",
       " 'predicted_unseen_6positions_90epochs_0.6coeff.npz',\n",
       " 'predicted_unseen_6positions_100epochs_0.6coeff.npz',\n",
       " 'predicted_unseen_6positions_55epochs_0.6coeff.npz',\n",
       " 'predicted_unseen_6positions_60epochs_0.6coeff.npz',\n",
       " 'predicted_unseen_6positions_65epochs_0.6coeff.npz',\n",
       " 'Trained_rUNet_pytorch_6positions_dataset_45epochs_0.4coeff_mask.pkl',\n",
       " 'predicted_unseen_6positions_70epochs_0.6coeff.npz',\n",
       " 'predicted_unseen_6positions_75epochs_0.6coeff.npz',\n",
       " 'Trained_rUNet_pytorch_6positions_dataset_50epochs_0.4coeff_mask.pkl',\n",
       " 'predicted_unseen_6positions_85epochs_0.6coeff.npz',\n",
       " 'predicted_unseen_6positions_95epochs_0.6coeff.npz',\n",
       " 'predicted_unseen_6positions_60epochs_0.5coeff.npz',\n",
       " 'predicted_unseen_6positions_70epochs_0.5coeff.npz',\n",
       " 'Trained_rUNet_pytorch_6positions_dataset_55epochs_0.4coeff_mask.pkl',\n",
       " 'predicted_unseen_6positions_80epochs_0.5coeff.npz',\n",
       " 'predicted_unseen_6positions_90epochs_0.5coeff.npz',\n",
       " 'predicted_unseen_6positions_100epochs_0.5coeff.npz',\n",
       " 'predicted_unseen_6positions_55epochs_0.5coeff.npz',\n",
       " 'predicted_unseen_6positions_65epochs_0.5coeff.npz',\n",
       " 'predicted_unseen_6positions_75epochs_0.5coeff.npz',\n",
       " 'predicted_unseen_6positions_85epochs_0.5coeff.npz',\n",
       " 'predicted_unseen_6positions_95epochs_0.5coeff.npz',\n",
       " 'Trained_rUNet_pytorch_6positions_dataset_60epochs_0.4coeff_mask.pkl',\n",
       " 'Trained_rUNet_pytorch_6positions_dataset_65epochs_0.4coeff_mask.pkl',\n",
       " 'Trained_rUNet_pytorch_6positions_dataset_70epochs_0.4coeff_mask.pkl',\n",
       " 'Trained_rUNet_pytorch_6positions_dataset_75epochs_0.4coeff_mask.pkl',\n",
       " 'Trained_rUNet_pytorch_6positions_dataset_80epochs_0.4coeff_mask.pkl',\n",
       " 'Trained_rUNet_pytorch_6positions_dataset_85epochs_0.4coeff_mask.pkl',\n",
       " 'Trained_rUNet_pytorch_6positions_dataset_90epochs_0.4coeff_mask.pkl',\n",
       " 'Trained_rUNet_pytorch_6positions_dataset_95epochs_0.4coeff_mask.pkl',\n",
       " 'Trained_rUNet_pytorch_6positions_dataset_100epochs_0.4coeff_mask.pkl',\n",
       " 'history_Trained_rUNet_pytorch_100epochs_0.4coef.pkl',\n",
       " 'predicted_testdata_6positions_5epochs_0.25coeff.npz',\n",
       " 'predicted_testdata_6positions_45epochs_0.25coeff.npz',\n",
       " 'predicted_testdata_6positions_50epochs_0.25coeff.npz',\n",
       " 'predicted_testdata_6positions_60epochs_0.25coeff.npz',\n",
       " 'predicted_testdata_6positions_70epochs_0.25coeff.npz',\n",
       " 'predicted_testdata_6positions_80epochs_0.25coeff.npz',\n",
       " 'predicted_testdata_6positions_10epochs_0.25coeff.npz',\n",
       " 'predicted_testdata_6positions_15epochs_0.25coeff.npz',\n",
       " 'predicted_testdata_6positions_20epochs_0.25coeff.npz',\n",
       " 'predicted_testdata_6positions_25epochs_0.25coeff.npz',\n",
       " 'predicted_testdata_6positions_30epochs_0.25coeff.npz',\n",
       " 'predicted_testdata_6positions_35epochs_0.25coeff.npz',\n",
       " 'predicted_testdata_6positions_40epochs_0.25coeff.npz',\n",
       " 'predicted_testdata_6positions_55epochs_0.25coeff.npz',\n",
       " 'predicted_testdata_6positions_65epochs_0.25coeff.npz',\n",
       " 'predicted_testdata_6positions_75epochs_0.25coeff.npz',\n",
       " 'predicted_testdata_6positions_85epochs_0.25coeff.npz',\n",
       " 'predicted_testdata_6positions_90epochs_0.25coeff.npz',\n",
       " 'predicted_testdata_6positions_95epochs_0.25coeff.npz',\n",
       " 'predicted_testdata_6positions_100epochs_0.25coeff.npz',\n",
       " 'predicted_unseen_6positions_5epochs_0.25coeff.npz',\n",
       " 'predicted_unseen_6positions_45epochs_0.25coeff.npz',\n",
       " 'predicted_unseen_6positions_50epochs_0.25coeff.npz',\n",
       " 'predicted_unseen_6positions_60epochs_0.25coeff.npz',\n",
       " 'predicted_unseen_6positions_70epochs_0.25coeff.npz',\n",
       " 'predicted_unseen_6positions_80epochs_0.25coeff.npz',\n",
       " 'predicted_unseen_6positions_10epochs_0.25coeff.npz',\n",
       " 'predicted_unseen_6positions_15epochs_0.25coeff.npz',\n",
       " 'predicted_unseen_6positions_20epochs_0.25coeff.npz',\n",
       " 'predicted_unseen_6positions_25epochs_0.25coeff.npz',\n",
       " 'predicted_unseen_6positions_30epochs_0.25coeff.npz',\n",
       " 'predicted_unseen_6positions_35epochs_0.25coeff.npz',\n",
       " 'predicted_unseen_6positions_40epochs_0.25coeff.npz',\n",
       " 'predicted_unseen_6positions_55epochs_0.25coeff.npz',\n",
       " 'predicted_unseen_6positions_65epochs_0.25coeff.npz',\n",
       " 'predicted_unseen_6positions_75epochs_0.25coeff.npz',\n",
       " 'predicted_unseen_6positions_85epochs_0.25coeff.npz',\n",
       " 'predicted_unseen_6positions_90epochs_0.25coeff.npz',\n",
       " 'predicted_unseen_6positions_95epochs_0.25coeff.npz',\n",
       " 'predicted_unseen_6positions_100epochs_0.25coeff.npz',\n",
       " 'predicted_testdata_6positions_5epochs_0.3coeff.npz',\n",
       " 'predicted_testdata_6positions_10epochs_0.3coeff.npz',\n",
       " 'predicted_testdata_6positions_15epochs_0.3coeff.npz',\n",
       " 'predicted_testdata_6positions_20epochs_0.3coeff.npz',\n",
       " 'predicted_testdata_6positions_25epochs_0.3coeff.npz',\n",
       " 'predicted_testdata_6positions_30epochs_0.3coeff.npz',\n",
       " 'predicted_testdata_6positions_35epochs_0.3coeff.npz',\n",
       " 'predicted_testdata_6positions_40epochs_0.3coeff.npz',\n",
       " 'predicted_testdata_6positions_45epochs_0.3coeff.npz',\n",
       " 'predicted_testdata_6positions_50epochs_0.3coeff.npz',\n",
       " 'predicted_testdata_6positions_55epochs_0.3coeff.npz',\n",
       " 'predicted_testdata_6positions_60epochs_0.3coeff.npz',\n",
       " 'predicted_testdata_6positions_65epochs_0.3coeff.npz',\n",
       " 'predicted_testdata_6positions_70epochs_0.3coeff.npz',\n",
       " 'predicted_testdata_6positions_75epochs_0.3coeff.npz',\n",
       " 'predicted_testdata_6positions_80epochs_0.3coeff.npz',\n",
       " 'predicted_testdata_6positions_85epochs_0.3coeff.npz',\n",
       " 'predicted_testdata_6positions_90epochs_0.3coeff.npz',\n",
       " 'predicted_testdata_6positions_95epochs_0.3coeff.npz',\n",
       " 'predicted_testdata_6positions_100epochs_0.3coeff.npz',\n",
       " 'predicted_unseen_6positions_5epochs_0.3coeff.npz',\n",
       " 'predicted_unseen_6positions_10epochs_0.3coeff.npz',\n",
       " 'predicted_unseen_6positions_15epochs_0.3coeff.npz',\n",
       " 'predicted_unseen_6positions_20epochs_0.3coeff.npz',\n",
       " 'predicted_unseen_6positions_25epochs_0.3coeff.npz',\n",
       " 'predicted_unseen_6positions_30epochs_0.3coeff.npz',\n",
       " 'predicted_unseen_6positions_35epochs_0.3coeff.npz',\n",
       " 'predicted_unseen_6positions_40epochs_0.3coeff.npz',\n",
       " 'predicted_unseen_6positions_45epochs_0.3coeff.npz',\n",
       " 'predicted_unseen_6positions_50epochs_0.3coeff.npz',\n",
       " 'predicted_unseen_6positions_55epochs_0.3coeff.npz',\n",
       " 'predicted_unseen_6positions_60epochs_0.3coeff.npz',\n",
       " 'predicted_unseen_6positions_65epochs_0.3coeff.npz',\n",
       " 'predicted_unseen_6positions_70epochs_0.3coeff.npz',\n",
       " 'predicted_unseen_6positions_75epochs_0.3coeff.npz',\n",
       " 'predicted_unseen_6positions_80epochs_0.3coeff.npz',\n",
       " 'predicted_unseen_6positions_85epochs_0.3coeff.npz',\n",
       " 'predicted_unseen_6positions_90epochs_0.3coeff.npz',\n",
       " 'predicted_unseen_6positions_95epochs_0.3coeff.npz',\n",
       " 'predicted_unseen_6positions_100epochs_0.3coeff.npz',\n",
       " 'predicted_testdata_6positions_5epochs_0.4coeff.npz',\n",
       " 'predicted_testdata_6positions_10epochs_0.4coeff.npz',\n",
       " 'predicted_testdata_6positions_15epochs_0.4coeff.npz',\n",
       " 'predicted_testdata_6positions_20epochs_0.4coeff.npz',\n",
       " 'predicted_testdata_6positions_25epochs_0.4coeff.npz',\n",
       " 'predicted_testdata_6positions_30epochs_0.4coeff.npz',\n",
       " 'predicted_testdata_6positions_35epochs_0.4coeff.npz',\n",
       " 'predicted_testdata_6positions_40epochs_0.4coeff.npz',\n",
       " 'predicted_testdata_6positions_45epochs_0.4coeff.npz',\n",
       " 'predicted_testdata_6positions_50epochs_0.4coeff.npz',\n",
       " 'predicted_testdata_6positions_55epochs_0.4coeff.npz',\n",
       " 'predicted_testdata_6positions_60epochs_0.4coeff.npz',\n",
       " 'predicted_testdata_6positions_65epochs_0.4coeff.npz',\n",
       " 'predicted_testdata_6positions_70epochs_0.4coeff.npz',\n",
       " 'predicted_testdata_6positions_75epochs_0.4coeff.npz',\n",
       " 'predicted_testdata_6positions_80epochs_0.4coeff.npz',\n",
       " 'predicted_testdata_6positions_85epochs_0.4coeff.npz',\n",
       " 'predicted_testdata_6positions_90epochs_0.4coeff.npz',\n",
       " 'predicted_testdata_6positions_95epochs_0.4coeff.npz',\n",
       " 'predicted_testdata_6positions_100epochs_0.4coeff.npz',\n",
       " 'predicted_unseen_6positions_5epochs_0.4coeff.npz',\n",
       " 'predicted_unseen_6positions_10epochs_0.4coeff.npz',\n",
       " 'predicted_unseen_6positions_15epochs_0.4coeff.npz',\n",
       " 'predicted_unseen_6positions_20epochs_0.4coeff.npz',\n",
       " 'predicted_unseen_6positions_25epochs_0.4coeff.npz',\n",
       " 'predicted_unseen_6positions_30epochs_0.4coeff.npz',\n",
       " 'predicted_unseen_6positions_35epochs_0.4coeff.npz',\n",
       " 'predicted_unseen_6positions_40epochs_0.4coeff.npz',\n",
       " 'predicted_unseen_6positions_45epochs_0.4coeff.npz',\n",
       " 'predicted_unseen_6positions_50epochs_0.4coeff.npz',\n",
       " 'predicted_unseen_6positions_55epochs_0.4coeff.npz',\n",
       " 'predicted_unseen_6positions_60epochs_0.4coeff.npz',\n",
       " 'predicted_unseen_6positions_65epochs_0.4coeff.npz',\n",
       " 'predicted_unseen_6positions_70epochs_0.4coeff.npz',\n",
       " 'predicted_unseen_6positions_75epochs_0.4coeff.npz',\n",
       " 'predicted_unseen_6positions_80epochs_0.4coeff.npz',\n",
       " 'predicted_unseen_6positions_85epochs_0.4coeff.npz',\n",
       " 'predicted_unseen_6positions_90epochs_0.4coeff.npz',\n",
       " 'predicted_unseen_6positions_95epochs_0.4coeff.npz',\n",
       " 'predicted_unseen_6positions_100epochs_0.4coeff.npz',\n",
       " 'Trained_rUNet_pytorch_6positions_dataset_110epochs_0.75coeff_mask.pkl']"
      ]
     },
     "execution_count": 22,
     "metadata": {},
     "output_type": "execute_result"
    }
   ],
   "source": [
    "model_names"
   ]
  },
  {
   "cell_type": "code",
   "execution_count": 23,
   "metadata": {},
   "outputs": [],
   "source": [
    "def get_fnames(key):\n",
    "    f_list = []\n",
    "    epochs = []\n",
    "    for fname in model_names:\n",
    "        if fname.startswith(\"Trained\"):\n",
    "            if regex.findall(fname.split(\"_\")[6])[1]==str(key):\n",
    "                f_list.append(fname)\n",
    "                epochs.append(int(regex.findall(fname.split(\"_\")[5])[0]))\n",
    "    return f_list, epochs"
   ]
  },
  {
   "cell_type": "code",
   "execution_count": 24,
   "metadata": {},
   "outputs": [
    {
     "data": {
      "text/plain": [
       "['Trained_rUNet_pytorch_6positions_dataset_5epochs_0.25coeff_mask.pkl',\n",
       " 'Trained_rUNet_pytorch_6positions_dataset_45epochs_0.25coeff_mask.pkl',\n",
       " 'Trained_rUNet_pytorch_6positions_dataset_50epochs_0.25coeff_mask.pkl',\n",
       " 'Trained_rUNet_pytorch_6positions_dataset_60epochs_0.25coeff_mask.pkl',\n",
       " 'Trained_rUNet_pytorch_6positions_dataset_70epochs_0.25coeff_mask.pkl',\n",
       " 'Trained_rUNet_pytorch_6positions_dataset_80epochs_0.25coeff_mask.pkl',\n",
       " 'Trained_rUNet_pytorch_6positions_dataset_10epochs_0.25coeff_mask.pkl',\n",
       " 'Trained_rUNet_pytorch_6positions_dataset_15epochs_0.25coeff_mask.pkl',\n",
       " 'Trained_rUNet_pytorch_6positions_dataset_20epochs_0.25coeff_mask.pkl',\n",
       " 'Trained_rUNet_pytorch_6positions_dataset_25epochs_0.25coeff_mask.pkl',\n",
       " 'Trained_rUNet_pytorch_6positions_dataset_30epochs_0.25coeff_mask.pkl',\n",
       " 'Trained_rUNet_pytorch_6positions_dataset_35epochs_0.25coeff_mask.pkl',\n",
       " 'Trained_rUNet_pytorch_6positions_dataset_40epochs_0.25coeff_mask.pkl',\n",
       " 'Trained_rUNet_pytorch_6positions_dataset_55epochs_0.25coeff_mask.pkl',\n",
       " 'Trained_rUNet_pytorch_6positions_dataset_65epochs_0.25coeff_mask.pkl',\n",
       " 'Trained_rUNet_pytorch_6positions_dataset_75epochs_0.25coeff_mask.pkl',\n",
       " 'Trained_rUNet_pytorch_6positions_dataset_85epochs_0.25coeff_mask.pkl',\n",
       " 'Trained_rUNet_pytorch_6positions_dataset_90epochs_0.25coeff_mask.pkl',\n",
       " 'Trained_rUNet_pytorch_6positions_dataset_95epochs_0.25coeff_mask.pkl',\n",
       " 'Trained_rUNet_pytorch_6positions_dataset_100epochs_0.25coeff_mask.pkl']"
      ]
     },
     "execution_count": 24,
     "metadata": {},
     "output_type": "execute_result"
    }
   ],
   "source": [
    "get_fnames(25)[0]"
   ]
  },
  {
   "cell_type": "code",
   "execution_count": 25,
   "metadata": {},
   "outputs": [],
   "source": [
    "def mse_vs_epochs(coeff, key, data_loaders, data_lengths, only_test=True):\n",
    "    mse = []\n",
    "    f_list, epochs = get_fnames(coeff)\n",
    "    for fname, e in zip(f_list, epochs):\n",
    "        print(fname, e)\n",
    "    \n",
    "        torch.cuda.empty_cache()\n",
    "        model= rUNet(out_size=1)\n",
    "        checkpoint = torch.load(os.path.join(saved_models, fname))['model_state_dict'];\n",
    "        model.load_state_dict(checkpoint)\n",
    "        y_true, y_pred = inference_phase_rUNet(model, data_loaders, data_lengths, batch_size=16,\n",
    "                                               notebook=True, test=only_test)\n",
    "        np.savez_compressed(os.path.join(saved_models, '_'.join(['predicted',\n",
    "                                                                 key,\n",
    "                                                                 fname.split('_')[3],\n",
    "                                                                 fname.split('_')[5],\n",
    "                                                                 fname.split('_')[6]])\n",
    "                                         +'.npz'), true=y_true, pred=y_pred)\n",
    "        mse.append(mean_squared_error(y_true, y_pred))\n",
    "        \n",
    "    plt.plot(epochs, mse)\n",
    "    return mse, epochs"
   ]
  },
  {
   "cell_type": "code",
   "execution_count": 27,
   "metadata": {
    "collapsed": true
   },
   "outputs": [
    {
     "name": "stdout",
     "output_type": "stream",
     "text": [
      "Trained_rUNet_pytorch_6positions_dataset_5epochs_0.25coeff_mask.pkl 5\n",
      "Trained_rUNet_pytorch_6positions_dataset_45epochs_0.25coeff_mask.pkl 45\n",
      "Trained_rUNet_pytorch_6positions_dataset_50epochs_0.25coeff_mask.pkl 50\n",
      "Trained_rUNet_pytorch_6positions_dataset_60epochs_0.25coeff_mask.pkl 60\n",
      "Trained_rUNet_pytorch_6positions_dataset_70epochs_0.25coeff_mask.pkl 70\n",
      "Trained_rUNet_pytorch_6positions_dataset_80epochs_0.25coeff_mask.pkl 80\n",
      "Trained_rUNet_pytorch_6positions_dataset_10epochs_0.25coeff_mask.pkl 10\n",
      "Trained_rUNet_pytorch_6positions_dataset_15epochs_0.25coeff_mask.pkl 15\n",
      "Trained_rUNet_pytorch_6positions_dataset_20epochs_0.25coeff_mask.pkl 20\n",
      "Trained_rUNet_pytorch_6positions_dataset_25epochs_0.25coeff_mask.pkl 25\n",
      "Trained_rUNet_pytorch_6positions_dataset_30epochs_0.25coeff_mask.pkl 30\n",
      "Trained_rUNet_pytorch_6positions_dataset_35epochs_0.25coeff_mask.pkl 35\n",
      "Trained_rUNet_pytorch_6positions_dataset_40epochs_0.25coeff_mask.pkl 40\n",
      "Trained_rUNet_pytorch_6positions_dataset_55epochs_0.25coeff_mask.pkl 55\n",
      "Trained_rUNet_pytorch_6positions_dataset_65epochs_0.25coeff_mask.pkl 65\n",
      "Trained_rUNet_pytorch_6positions_dataset_75epochs_0.25coeff_mask.pkl 75\n",
      "Trained_rUNet_pytorch_6positions_dataset_85epochs_0.25coeff_mask.pkl 85\n",
      "Trained_rUNet_pytorch_6positions_dataset_90epochs_0.25coeff_mask.pkl 90\n",
      "Trained_rUNet_pytorch_6positions_dataset_95epochs_0.25coeff_mask.pkl 95\n",
      "Trained_rUNet_pytorch_6positions_dataset_100epochs_0.25coeff_mask.pkl 100\n"
     ]
    }
   ],
   "source": [
    "mse025_test, epochs = mse_vs_epochs(25, 'testdata', data_loaders_test, data_lengths_test)"
   ]
  },
  {
   "cell_type": "code",
   "execution_count": 66,
   "metadata": {
    "collapsed": true
   },
   "outputs": [
    {
     "name": "stdout",
     "output_type": "stream",
     "text": [
      "Trained_rUNet_pytorch_6positions_dataset_5epochs_0.7coeff_mask.pkl 5\n"
     ]
    },
    {
     "data": {
      "application/vnd.jupyter.widget-view+json": {
       "model_id": "a044aacf471344f2b05cb287418275cf",
       "version_major": 2,
       "version_minor": 0
      },
      "text/plain": [
       "HBox(children=(IntProgress(value=0, description='Batch', max=67, style=ProgressStyle(description_width='initia…"
      ]
     },
     "metadata": {},
     "output_type": "display_data"
    },
    {
     "name": "stdout",
     "output_type": "stream",
     "text": [
      "\n",
      "Trained_rUNet_pytorch_6positions_dataset_10epochs_0.7coeff_mask.pkl 10\n"
     ]
    },
    {
     "data": {
      "application/vnd.jupyter.widget-view+json": {
       "model_id": "d25ba0396ec64baf91f5e7e7a32f8e8e",
       "version_major": 2,
       "version_minor": 0
      },
      "text/plain": [
       "HBox(children=(IntProgress(value=0, description='Batch', max=67, style=ProgressStyle(description_width='initia…"
      ]
     },
     "metadata": {},
     "output_type": "display_data"
    },
    {
     "name": "stdout",
     "output_type": "stream",
     "text": [
      "\n",
      "Trained_rUNet_pytorch_6positions_dataset_15epochs_0.7coeff_mask.pkl 15\n"
     ]
    },
    {
     "data": {
      "application/vnd.jupyter.widget-view+json": {
       "model_id": "b46199e02af246bf9ee9ff00f28b7ad9",
       "version_major": 2,
       "version_minor": 0
      },
      "text/plain": [
       "HBox(children=(IntProgress(value=0, description='Batch', max=67, style=ProgressStyle(description_width='initia…"
      ]
     },
     "metadata": {},
     "output_type": "display_data"
    },
    {
     "name": "stdout",
     "output_type": "stream",
     "text": [
      "\n",
      "Trained_rUNet_pytorch_6positions_dataset_20epochs_0.7coeff_mask.pkl 20\n"
     ]
    },
    {
     "data": {
      "application/vnd.jupyter.widget-view+json": {
       "model_id": "d5ed6f139a4b44d9871908ec2db9341e",
       "version_major": 2,
       "version_minor": 0
      },
      "text/plain": [
       "HBox(children=(IntProgress(value=0, description='Batch', max=67, style=ProgressStyle(description_width='initia…"
      ]
     },
     "metadata": {},
     "output_type": "display_data"
    },
    {
     "name": "stdout",
     "output_type": "stream",
     "text": [
      "\n",
      "Trained_rUNet_pytorch_6positions_dataset_25epochs_0.7coeff_mask.pkl 25\n"
     ]
    },
    {
     "data": {
      "application/vnd.jupyter.widget-view+json": {
       "model_id": "4df5e90aaabe456c8c00a7bdbc2581b4",
       "version_major": 2,
       "version_minor": 0
      },
      "text/plain": [
       "HBox(children=(IntProgress(value=0, description='Batch', max=67, style=ProgressStyle(description_width='initia…"
      ]
     },
     "metadata": {},
     "output_type": "display_data"
    },
    {
     "name": "stdout",
     "output_type": "stream",
     "text": [
      "\n",
      "Trained_rUNet_pytorch_6positions_dataset_30epochs_0.7coeff_mask.pkl 30\n"
     ]
    },
    {
     "data": {
      "application/vnd.jupyter.widget-view+json": {
       "model_id": "e193a706fa294188bbecceefac22b8c7",
       "version_major": 2,
       "version_minor": 0
      },
      "text/plain": [
       "HBox(children=(IntProgress(value=0, description='Batch', max=67, style=ProgressStyle(description_width='initia…"
      ]
     },
     "metadata": {},
     "output_type": "display_data"
    },
    {
     "name": "stdout",
     "output_type": "stream",
     "text": [
      "\n"
     ]
    },
    {
     "data": {
      "image/png": "[encoded data removed]",
      "text/plain": [
       "<Figure size 432x288 with 1 Axes>"
      ]
     },
     "metadata": {
      "needs_background": "light"
     },
     "output_type": "display_data"
    }
   ],
   "source": [
    "mse030_test, epochs = mse_vs_epochs(3,'testdata',  data_loaders_test, data_lengths_test)"
   ]
  },
  {
   "cell_type": "code",
   "execution_count": null,
   "metadata": {},
   "outputs": [],
   "source": [
    "mse040_test, epochs = mse_vs_epochs(4,'testdata',  data_loaders_test, data_lengths_test)"
   ]
  },
  {
   "cell_type": "code",
   "execution_count": 58,
   "metadata": {
    "collapsed": true
   },
   "outputs": [
    {
     "name": "stdout",
     "output_type": "stream",
     "text": [
      "Trained_rUNet_pytorch_6positions_dataset_5epochs_0.5coeff_mask.pkl 5\n"
     ]
    },
    {
     "data": {
      "application/vnd.jupyter.widget-view+json": {
       "model_id": "1a3089274b6f4a1b83ae1159d8c3581d",
       "version_major": 2,
       "version_minor": 0
      },
      "text/plain": [
       "HBox(children=(IntProgress(value=0, description='Batch', max=67, style=ProgressStyle(description_width='initia…"
      ]
     },
     "metadata": {},
     "output_type": "display_data"
    },
    {
     "name": "stdout",
     "output_type": "stream",
     "text": [
      "\n",
      "Trained_rUNet_pytorch_6positions_dataset_10epochs_0.5coeff_mask.pkl 10\n"
     ]
    },
    {
     "data": {
      "application/vnd.jupyter.widget-view+json": {
       "model_id": "ce447bccf61f4eda873049d947f3c25d",
       "version_major": 2,
       "version_minor": 0
      },
      "text/plain": [
       "HBox(children=(IntProgress(value=0, description='Batch', max=67, style=ProgressStyle(description_width='initia…"
      ]
     },
     "metadata": {},
     "output_type": "display_data"
    },
    {
     "name": "stdout",
     "output_type": "stream",
     "text": [
      "\n",
      "Trained_rUNet_pytorch_6positions_dataset_15epochs_0.5coeff_mask.pkl 15\n"
     ]
    },
    {
     "data": {
      "application/vnd.jupyter.widget-view+json": {
       "model_id": "0dbabf04cea34ce18fc093597a6baeb6",
       "version_major": 2,
       "version_minor": 0
      },
      "text/plain": [
       "HBox(children=(IntProgress(value=0, description='Batch', max=67, style=ProgressStyle(description_width='initia…"
      ]
     },
     "metadata": {},
     "output_type": "display_data"
    },
    {
     "name": "stdout",
     "output_type": "stream",
     "text": [
      "\n",
      "Trained_rUNet_pytorch_6positions_dataset_20epochs_0.5coeff_mask.pkl 20\n"
     ]
    },
    {
     "data": {
      "application/vnd.jupyter.widget-view+json": {
       "model_id": "0f616954cfea45e6b40c65b8dfab6704",
       "version_major": 2,
       "version_minor": 0
      },
      "text/plain": [
       "HBox(children=(IntProgress(value=0, description='Batch', max=67, style=ProgressStyle(description_width='initia…"
      ]
     },
     "metadata": {},
     "output_type": "display_data"
    },
    {
     "name": "stdout",
     "output_type": "stream",
     "text": [
      "\n",
      "Trained_rUNet_pytorch_6positions_dataset_25epochs_0.5coeff_mask.pkl 25\n"
     ]
    },
    {
     "data": {
      "application/vnd.jupyter.widget-view+json": {
       "model_id": "8492d3db0ce04b91a854d0ad378bf7b8",
       "version_major": 2,
       "version_minor": 0
      },
      "text/plain": [
       "HBox(children=(IntProgress(value=0, description='Batch', max=67, style=ProgressStyle(description_width='initia…"
      ]
     },
     "metadata": {},
     "output_type": "display_data"
    },
    {
     "name": "stdout",
     "output_type": "stream",
     "text": [
      "\n",
      "Trained_rUNet_pytorch_6positions_dataset_30epochs_0.5coeff_mask.pkl 30\n"
     ]
    },
    {
     "data": {
      "application/vnd.jupyter.widget-view+json": {
       "model_id": "f618f45dea454d079ad5534a4fe1f834",
       "version_major": 2,
       "version_minor": 0
      },
      "text/plain": [
       "HBox(children=(IntProgress(value=0, description='Batch', max=67, style=ProgressStyle(description_width='initia…"
      ]
     },
     "metadata": {},
     "output_type": "display_data"
    },
    {
     "name": "stdout",
     "output_type": "stream",
     "text": [
      "\n",
      "Trained_rUNet_pytorch_6positions_dataset_35epochs_0.5coeff_mask.pkl 35\n"
     ]
    },
    {
     "data": {
      "application/vnd.jupyter.widget-view+json": {
       "model_id": "6e1d3af6a6f84122bc9e2f76351bdb03",
       "version_major": 2,
       "version_minor": 0
      },
      "text/plain": [
       "HBox(children=(IntProgress(value=0, description='Batch', max=67, style=ProgressStyle(description_width='initia…"
      ]
     },
     "metadata": {},
     "output_type": "display_data"
    },
    {
     "name": "stdout",
     "output_type": "stream",
     "text": [
      "\n",
      "Trained_rUNet_pytorch_6positions_dataset_40epochs_0.5coeff_mask.pkl 40\n"
     ]
    },
    {
     "data": {
      "application/vnd.jupyter.widget-view+json": {
       "model_id": "73aa085f50f040d3b73ae6bad876a129",
       "version_major": 2,
       "version_minor": 0
      },
      "text/plain": [
       "HBox(children=(IntProgress(value=0, description='Batch', max=67, style=ProgressStyle(description_width='initia…"
      ]
     },
     "metadata": {},
     "output_type": "display_data"
    },
    {
     "name": "stdout",
     "output_type": "stream",
     "text": [
      "\n",
      "Trained_rUNet_pytorch_6positions_dataset_45epochs_0.5coeff_mask.pkl 45\n"
     ]
    },
    {
     "data": {
      "application/vnd.jupyter.widget-view+json": {
       "model_id": "379e4b20a1e14daea560115c325d2e20",
       "version_major": 2,
       "version_minor": 0
      },
      "text/plain": [
       "HBox(children=(IntProgress(value=0, description='Batch', max=67, style=ProgressStyle(description_width='initia…"
      ]
     },
     "metadata": {},
     "output_type": "display_data"
    },
    {
     "name": "stdout",
     "output_type": "stream",
     "text": [
      "\n",
      "Trained_rUNet_pytorch_6positions_dataset_50epochs_0.5coeff_mask.pkl 50\n"
     ]
    },
    {
     "data": {
      "application/vnd.jupyter.widget-view+json": {
       "model_id": "a266758b6d8a40899df2d467dba1bfba",
       "version_major": 2,
       "version_minor": 0
      },
      "text/plain": [
       "HBox(children=(IntProgress(value=0, description='Batch', max=67, style=ProgressStyle(description_width='initia…"
      ]
     },
     "metadata": {},
     "output_type": "display_data"
    },
    {
     "name": "stdout",
     "output_type": "stream",
     "text": [
      "\n",
      "Trained_rUNet_pytorch_6positions_dataset_60epochs_0.5coeff_mask.pkl 60\n"
     ]
    },
    {
     "data": {
      "application/vnd.jupyter.widget-view+json": {
       "model_id": "6ec849633e804cb19004a651bc4bd01f",
       "version_major": 2,
       "version_minor": 0
      },
      "text/plain": [
       "HBox(children=(IntProgress(value=0, description='Batch', max=67, style=ProgressStyle(description_width='initia…"
      ]
     },
     "metadata": {},
     "output_type": "display_data"
    },
    {
     "name": "stdout",
     "output_type": "stream",
     "text": [
      "\n",
      "Trained_rUNet_pytorch_6positions_dataset_70epochs_0.5coeff_mask.pkl 70\n"
     ]
    },
    {
     "data": {
      "application/vnd.jupyter.widget-view+json": {
       "model_id": "3a1a28a3a9d942f889b567feebd027ed",
       "version_major": 2,
       "version_minor": 0
      },
      "text/plain": [
       "HBox(children=(IntProgress(value=0, description='Batch', max=67, style=ProgressStyle(description_width='initia…"
      ]
     },
     "metadata": {},
     "output_type": "display_data"
    },
    {
     "name": "stdout",
     "output_type": "stream",
     "text": [
      "\n",
      "Trained_rUNet_pytorch_6positions_dataset_80epochs_0.5coeff_mask.pkl 80\n"
     ]
    },
    {
     "data": {
      "application/vnd.jupyter.widget-view+json": {
       "model_id": "d8280b8b1f064507ab9bbf75d435c845",
       "version_major": 2,
       "version_minor": 0
      },
      "text/plain": [
       "HBox(children=(IntProgress(value=0, description='Batch', max=67, style=ProgressStyle(description_width='initia…"
      ]
     },
     "metadata": {},
     "output_type": "display_data"
    },
    {
     "name": "stdout",
     "output_type": "stream",
     "text": [
      "\n",
      "Trained_rUNet_pytorch_6positions_dataset_90epochs_0.5coeff_mask.pkl 90\n"
     ]
    },
    {
     "data": {
      "application/vnd.jupyter.widget-view+json": {
       "model_id": "8898669ee10347e38a8bfa8be215621a",
       "version_major": 2,
       "version_minor": 0
      },
      "text/plain": [
       "HBox(children=(IntProgress(value=0, description='Batch', max=67, style=ProgressStyle(description_width='initia…"
      ]
     },
     "metadata": {},
     "output_type": "display_data"
    },
    {
     "name": "stdout",
     "output_type": "stream",
     "text": [
      "\n",
      "Trained_rUNet_pytorch_6positions_dataset_100epochs_0.5coeff_mask.pkl 100\n"
     ]
    },
    {
     "data": {
      "application/vnd.jupyter.widget-view+json": {
       "model_id": "5b9ae9b222e44ddaba2d4eada514db9a",
       "version_major": 2,
       "version_minor": 0
      },
      "text/plain": [
       "HBox(children=(IntProgress(value=0, description='Batch', max=67, style=ProgressStyle(description_width='initia…"
      ]
     },
     "metadata": {},
     "output_type": "display_data"
    },
    {
     "name": "stdout",
     "output_type": "stream",
     "text": [
      "\n",
      "Trained_rUNet_pytorch_6positions_dataset_55epochs_0.5coeff_mask.pkl 55\n"
     ]
    },
    {
     "data": {
      "application/vnd.jupyter.widget-view+json": {
       "model_id": "589b611167f34258acc67393eb001324",
       "version_major": 2,
       "version_minor": 0
      },
      "text/plain": [
       "HBox(children=(IntProgress(value=0, description='Batch', max=67, style=ProgressStyle(description_width='initia…"
      ]
     },
     "metadata": {},
     "output_type": "display_data"
    },
    {
     "name": "stdout",
     "output_type": "stream",
     "text": [
      "\n",
      "Trained_rUNet_pytorch_6positions_dataset_65epochs_0.5coeff_mask.pkl 65\n"
     ]
    },
    {
     "data": {
      "application/vnd.jupyter.widget-view+json": {
       "model_id": "ee0db295ae3e49739ece435e5ea6b2f1",
       "version_major": 2,
       "version_minor": 0
      },
      "text/plain": [
       "HBox(children=(IntProgress(value=0, description='Batch', max=67, style=ProgressStyle(description_width='initia…"
      ]
     },
     "metadata": {},
     "output_type": "display_data"
    },
    {
     "name": "stdout",
     "output_type": "stream",
     "text": [
      "\n",
      "Trained_rUNet_pytorch_6positions_dataset_75epochs_0.5coeff_mask.pkl 75\n"
     ]
    },
    {
     "data": {
      "application/vnd.jupyter.widget-view+json": {
       "model_id": "08e8ff42e7054d84803ce1cd5ca4def3",
       "version_major": 2,
       "version_minor": 0
      },
      "text/plain": [
       "HBox(children=(IntProgress(value=0, description='Batch', max=67, style=ProgressStyle(description_width='initia…"
      ]
     },
     "metadata": {},
     "output_type": "display_data"
    },
    {
     "name": "stdout",
     "output_type": "stream",
     "text": [
      "\n",
      "Trained_rUNet_pytorch_6positions_dataset_85epochs_0.5coeff_mask.pkl 85\n"
     ]
    },
    {
     "data": {
      "application/vnd.jupyter.widget-view+json": {
       "model_id": "ed574cd334c9473883ac94aadf9e38b9",
       "version_major": 2,
       "version_minor": 0
      },
      "text/plain": [
       "HBox(children=(IntProgress(value=0, description='Batch', max=67, style=ProgressStyle(description_width='initia…"
      ]
     },
     "metadata": {},
     "output_type": "display_data"
    },
    {
     "name": "stdout",
     "output_type": "stream",
     "text": [
      "\n",
      "Trained_rUNet_pytorch_6positions_dataset_95epochs_0.5coeff_mask.pkl 95\n"
     ]
    },
    {
     "data": {
      "application/vnd.jupyter.widget-view+json": {
       "model_id": "612e36ecfbf5472199818a850759352d",
       "version_major": 2,
       "version_minor": 0
      },
      "text/plain": [
       "HBox(children=(IntProgress(value=0, description='Batch', max=67, style=ProgressStyle(description_width='initia…"
      ]
     },
     "metadata": {},
     "output_type": "display_data"
    },
    {
     "name": "stdout",
     "output_type": "stream",
     "text": [
      "\n"
     ]
    },
    {
     "data": {
      "image/png": "[encoded data removed]",
      "text/plain": [
       "<Figure size 432x288 with 1 Axes>"
      ]
     },
     "metadata": {
      "needs_background": "light"
     },
     "output_type": "display_data"
    }
   ],
   "source": [
    "mse050_test, epochs = mse_vs_epochs(5, 'testdata', data_loaders_test, data_lengths_test)"
   ]
  },
  {
   "cell_type": "code",
   "execution_count": 60,
   "metadata": {
    "collapsed": true
   },
   "outputs": [
    {
     "name": "stdout",
     "output_type": "stream",
     "text": [
      "Trained_rUNet_pytorch_6positions_dataset_5epochs_0.6coeff_mask.pkl 5\n"
     ]
    },
    {
     "data": {
      "application/vnd.jupyter.widget-view+json": {
       "model_id": "bb3b0f20b4514cf98f2a9bad64059542",
       "version_major": 2,
       "version_minor": 0
      },
      "text/plain": [
       "HBox(children=(IntProgress(value=0, description='Batch', max=67, style=ProgressStyle(description_width='initia…"
      ]
     },
     "metadata": {},
     "output_type": "display_data"
    },
    {
     "name": "stdout",
     "output_type": "stream",
     "text": [
      "\n",
      "Trained_rUNet_pytorch_6positions_dataset_10epochs_0.6coeff_mask.pkl 10\n"
     ]
    },
    {
     "data": {
      "application/vnd.jupyter.widget-view+json": {
       "model_id": "90e099b21a7b4657977db3546d30e856",
       "version_major": 2,
       "version_minor": 0
      },
      "text/plain": [
       "HBox(children=(IntProgress(value=0, description='Batch', max=67, style=ProgressStyle(description_width='initia…"
      ]
     },
     "metadata": {},
     "output_type": "display_data"
    },
    {
     "name": "stdout",
     "output_type": "stream",
     "text": [
      "\n",
      "Trained_rUNet_pytorch_6positions_dataset_15epochs_0.6coeff_mask.pkl 15\n"
     ]
    },
    {
     "data": {
      "application/vnd.jupyter.widget-view+json": {
       "model_id": "f86b185851c5432096938e0270dd4ace",
       "version_major": 2,
       "version_minor": 0
      },
      "text/plain": [
       "HBox(children=(IntProgress(value=0, description='Batch', max=67, style=ProgressStyle(description_width='initia…"
      ]
     },
     "metadata": {},
     "output_type": "display_data"
    },
    {
     "name": "stdout",
     "output_type": "stream",
     "text": [
      "\n",
      "Trained_rUNet_pytorch_6positions_dataset_20epochs_0.6coeff_mask.pkl 20\n"
     ]
    },
    {
     "data": {
      "application/vnd.jupyter.widget-view+json": {
       "model_id": "5275acf1dab64369b99039686f48ad76",
       "version_major": 2,
       "version_minor": 0
      },
      "text/plain": [
       "HBox(children=(IntProgress(value=0, description='Batch', max=67, style=ProgressStyle(description_width='initia…"
      ]
     },
     "metadata": {},
     "output_type": "display_data"
    },
    {
     "name": "stdout",
     "output_type": "stream",
     "text": [
      "\n",
      "Trained_rUNet_pytorch_6positions_dataset_25epochs_0.6coeff_mask.pkl 25\n"
     ]
    },
    {
     "data": {
      "application/vnd.jupyter.widget-view+json": {
       "model_id": "ede9bcc2db924c89aba8b2d047781149",
       "version_major": 2,
       "version_minor": 0
      },
      "text/plain": [
       "HBox(children=(IntProgress(value=0, description='Batch', max=67, style=ProgressStyle(description_width='initia…"
      ]
     },
     "metadata": {},
     "output_type": "display_data"
    },
    {
     "name": "stdout",
     "output_type": "stream",
     "text": [
      "\n",
      "Trained_rUNet_pytorch_6positions_dataset_30epochs_0.6coeff_mask.pkl 30\n"
     ]
    },
    {
     "data": {
      "application/vnd.jupyter.widget-view+json": {
       "model_id": "2f6919a4d71e47bb89ed9f69a7e51a71",
       "version_major": 2,
       "version_minor": 0
      },
      "text/plain": [
       "HBox(children=(IntProgress(value=0, description='Batch', max=67, style=ProgressStyle(description_width='initia…"
      ]
     },
     "metadata": {},
     "output_type": "display_data"
    },
    {
     "name": "stdout",
     "output_type": "stream",
     "text": [
      "\n",
      "Trained_rUNet_pytorch_6positions_dataset_35epochs_0.6coeff_mask.pkl 35\n"
     ]
    },
    {
     "data": {
      "application/vnd.jupyter.widget-view+json": {
       "model_id": "c240e6b76c874ea4afa81d9f03120bb8",
       "version_major": 2,
       "version_minor": 0
      },
      "text/plain": [
       "HBox(children=(IntProgress(value=0, description='Batch', max=67, style=ProgressStyle(description_width='initia…"
      ]
     },
     "metadata": {},
     "output_type": "display_data"
    },
    {
     "name": "stdout",
     "output_type": "stream",
     "text": [
      "\n",
      "Trained_rUNet_pytorch_6positions_dataset_40epochs_0.6coeff_mask.pkl 40\n"
     ]
    },
    {
     "data": {
      "application/vnd.jupyter.widget-view+json": {
       "model_id": "8b5203d7a47246918f2660f4df757545",
       "version_major": 2,
       "version_minor": 0
      },
      "text/plain": [
       "HBox(children=(IntProgress(value=0, description='Batch', max=67, style=ProgressStyle(description_width='initia…"
      ]
     },
     "metadata": {},
     "output_type": "display_data"
    },
    {
     "name": "stdout",
     "output_type": "stream",
     "text": [
      "\n",
      "Trained_rUNet_pytorch_6positions_dataset_45epochs_0.6coeff_mask.pkl 45\n"
     ]
    },
    {
     "data": {
      "application/vnd.jupyter.widget-view+json": {
       "model_id": "a0f43f9af7dd4837b12bf86cd3038b7c",
       "version_major": 2,
       "version_minor": 0
      },
      "text/plain": [
       "HBox(children=(IntProgress(value=0, description='Batch', max=67, style=ProgressStyle(description_width='initia…"
      ]
     },
     "metadata": {},
     "output_type": "display_data"
    },
    {
     "name": "stdout",
     "output_type": "stream",
     "text": [
      "\n",
      "Trained_rUNet_pytorch_6positions_dataset_50epochs_0.6coeff_mask.pkl 50\n"
     ]
    },
    {
     "data": {
      "application/vnd.jupyter.widget-view+json": {
       "model_id": "20741f5258d749af99c2a2e923bc4b47",
       "version_major": 2,
       "version_minor": 0
      },
      "text/plain": [
       "HBox(children=(IntProgress(value=0, description='Batch', max=67, style=ProgressStyle(description_width='initia…"
      ]
     },
     "metadata": {},
     "output_type": "display_data"
    },
    {
     "name": "stdout",
     "output_type": "stream",
     "text": [
      "\n",
      "Trained_rUNet_pytorch_6positions_dataset_80epochs_0.6coeff_mask.pkl 80\n"
     ]
    },
    {
     "data": {
      "application/vnd.jupyter.widget-view+json": {
       "model_id": "2393100785104761b83673bd2090137d",
       "version_major": 2,
       "version_minor": 0
      },
      "text/plain": [
       "HBox(children=(IntProgress(value=0, description='Batch', max=67, style=ProgressStyle(description_width='initia…"
      ]
     },
     "metadata": {},
     "output_type": "display_data"
    },
    {
     "name": "stdout",
     "output_type": "stream",
     "text": [
      "\n",
      "Trained_rUNet_pytorch_6positions_dataset_90epochs_0.6coeff_mask.pkl 90\n"
     ]
    },
    {
     "data": {
      "application/vnd.jupyter.widget-view+json": {
       "model_id": "34a12b74e2874244ba603503e1daf5aa",
       "version_major": 2,
       "version_minor": 0
      },
      "text/plain": [
       "HBox(children=(IntProgress(value=0, description='Batch', max=67, style=ProgressStyle(description_width='initia…"
      ]
     },
     "metadata": {},
     "output_type": "display_data"
    },
    {
     "name": "stdout",
     "output_type": "stream",
     "text": [
      "\n",
      "Trained_rUNet_pytorch_6positions_dataset_100epochs_0.6coeff_mask.pkl 100\n"
     ]
    },
    {
     "data": {
      "application/vnd.jupyter.widget-view+json": {
       "model_id": "55b40312552947c28fce83a03cab9631",
       "version_major": 2,
       "version_minor": 0
      },
      "text/plain": [
       "HBox(children=(IntProgress(value=0, description='Batch', max=67, style=ProgressStyle(description_width='initia…"
      ]
     },
     "metadata": {},
     "output_type": "display_data"
    },
    {
     "name": "stdout",
     "output_type": "stream",
     "text": [
      "\n",
      "Trained_rUNet_pytorch_6positions_dataset_55epochs_0.6coeff_mask.pkl 55\n"
     ]
    },
    {
     "data": {
      "application/vnd.jupyter.widget-view+json": {
       "model_id": "78f33d79f4fd4c519fadd742082ed4bf",
       "version_major": 2,
       "version_minor": 0
      },
      "text/plain": [
       "HBox(children=(IntProgress(value=0, description='Batch', max=67, style=ProgressStyle(description_width='initia…"
      ]
     },
     "metadata": {},
     "output_type": "display_data"
    },
    {
     "name": "stdout",
     "output_type": "stream",
     "text": [
      "\n",
      "Trained_rUNet_pytorch_6positions_dataset_60epochs_0.6coeff_mask.pkl 60\n"
     ]
    },
    {
     "data": {
      "application/vnd.jupyter.widget-view+json": {
       "model_id": "d3030f4e89eb40d186161c7075a3755e",
       "version_major": 2,
       "version_minor": 0
      },
      "text/plain": [
       "HBox(children=(IntProgress(value=0, description='Batch', max=67, style=ProgressStyle(description_width='initia…"
      ]
     },
     "metadata": {},
     "output_type": "display_data"
    },
    {
     "name": "stdout",
     "output_type": "stream",
     "text": [
      "\n",
      "Trained_rUNet_pytorch_6positions_dataset_65epochs_0.6coeff_mask.pkl 65\n"
     ]
    },
    {
     "data": {
      "application/vnd.jupyter.widget-view+json": {
       "model_id": "8bddcfeac84c4c7c88eb14228e5af78a",
       "version_major": 2,
       "version_minor": 0
      },
      "text/plain": [
       "HBox(children=(IntProgress(value=0, description='Batch', max=67, style=ProgressStyle(description_width='initia…"
      ]
     },
     "metadata": {},
     "output_type": "display_data"
    },
    {
     "name": "stdout",
     "output_type": "stream",
     "text": [
      "\n",
      "Trained_rUNet_pytorch_6positions_dataset_70epochs_0.6coeff_mask.pkl 70\n"
     ]
    },
    {
     "data": {
      "application/vnd.jupyter.widget-view+json": {
       "model_id": "abbdf217cfbd4d3ba8be7798ea33773a",
       "version_major": 2,
       "version_minor": 0
      },
      "text/plain": [
       "HBox(children=(IntProgress(value=0, description='Batch', max=67, style=ProgressStyle(description_width='initia…"
      ]
     },
     "metadata": {},
     "output_type": "display_data"
    },
    {
     "name": "stdout",
     "output_type": "stream",
     "text": [
      "\n",
      "Trained_rUNet_pytorch_6positions_dataset_75epochs_0.6coeff_mask.pkl 75\n"
     ]
    },
    {
     "data": {
      "application/vnd.jupyter.widget-view+json": {
       "model_id": "06af450c7fd648619aa6727760af7098",
       "version_major": 2,
       "version_minor": 0
      },
      "text/plain": [
       "HBox(children=(IntProgress(value=0, description='Batch', max=67, style=ProgressStyle(description_width='initia…"
      ]
     },
     "metadata": {},
     "output_type": "display_data"
    },
    {
     "name": "stdout",
     "output_type": "stream",
     "text": [
      "\n",
      "Trained_rUNet_pytorch_6positions_dataset_85epochs_0.6coeff_mask.pkl 85\n"
     ]
    },
    {
     "data": {
      "application/vnd.jupyter.widget-view+json": {
       "model_id": "129447f6170d46689eadd6a91afafd01",
       "version_major": 2,
       "version_minor": 0
      },
      "text/plain": [
       "HBox(children=(IntProgress(value=0, description='Batch', max=67, style=ProgressStyle(description_width='initia…"
      ]
     },
     "metadata": {},
     "output_type": "display_data"
    },
    {
     "name": "stdout",
     "output_type": "stream",
     "text": [
      "\n",
      "Trained_rUNet_pytorch_6positions_dataset_95epochs_0.6coeff_mask.pkl 95\n"
     ]
    },
    {
     "data": {
      "application/vnd.jupyter.widget-view+json": {
       "model_id": "b618fdacebc1422f97724cfed6ca403c",
       "version_major": 2,
       "version_minor": 0
      },
      "text/plain": [
       "HBox(children=(IntProgress(value=0, description='Batch', max=67, style=ProgressStyle(description_width='initia…"
      ]
     },
     "metadata": {},
     "output_type": "display_data"
    },
    {
     "name": "stdout",
     "output_type": "stream",
     "text": [
      "\n"
     ]
    },
    {
     "data": {
      "image/png": "[encoded data removed]",
      "text/plain": [
       "<Figure size 432x288 with 1 Axes>"
      ]
     },
     "metadata": {
      "needs_background": "light"
     },
     "output_type": "display_data"
    }
   ],
   "source": [
    "mse060_test, epochs = mse_vs_epochs(6, 'testdata', data_loaders_test, data_lengths_test)"
   ]
  },
  {
   "cell_type": "code",
   "execution_count": 62,
   "metadata": {
    "collapsed": true
   },
   "outputs": [
    {
     "name": "stdout",
     "output_type": "stream",
     "text": [
      "Trained_rUNet_pytorch_6positions_dataset_5epochs_0.7coeff_mask.pkl 5\n"
     ]
    },
    {
     "data": {
      "application/vnd.jupyter.widget-view+json": {
       "model_id": "68505a3bf65647ce93b33b76fd7fd8c9",
       "version_major": 2,
       "version_minor": 0
      },
      "text/plain": [
       "HBox(children=(IntProgress(value=0, description='Batch', max=67, style=ProgressStyle(description_width='initia…"
      ]
     },
     "metadata": {},
     "output_type": "display_data"
    },
    {
     "name": "stdout",
     "output_type": "stream",
     "text": [
      "\n",
      "Trained_rUNet_pytorch_6positions_dataset_10epochs_0.7coeff_mask.pkl 10\n"
     ]
    },
    {
     "data": {
      "application/vnd.jupyter.widget-view+json": {
       "model_id": "f404b3a5cdf1481497e71074fde8e72d",
       "version_major": 2,
       "version_minor": 0
      },
      "text/plain": [
       "HBox(children=(IntProgress(value=0, description='Batch', max=67, style=ProgressStyle(description_width='initia…"
      ]
     },
     "metadata": {},
     "output_type": "display_data"
    },
    {
     "name": "stdout",
     "output_type": "stream",
     "text": [
      "\n",
      "Trained_rUNet_pytorch_6positions_dataset_15epochs_0.7coeff_mask.pkl 15\n"
     ]
    },
    {
     "data": {
      "application/vnd.jupyter.widget-view+json": {
       "model_id": "bd8fe02a3b8b4e589f70c88b03d7ac71",
       "version_major": 2,
       "version_minor": 0
      },
      "text/plain": [
       "HBox(children=(IntProgress(value=0, description='Batch', max=67, style=ProgressStyle(description_width='initia…"
      ]
     },
     "metadata": {},
     "output_type": "display_data"
    },
    {
     "name": "stdout",
     "output_type": "stream",
     "text": [
      "\n",
      "Trained_rUNet_pytorch_6positions_dataset_20epochs_0.7coeff_mask.pkl 20\n"
     ]
    },
    {
     "data": {
      "application/vnd.jupyter.widget-view+json": {
       "model_id": "763a4811f7e04bc19ffe783db18134df",
       "version_major": 2,
       "version_minor": 0
      },
      "text/plain": [
       "HBox(children=(IntProgress(value=0, description='Batch', max=67, style=ProgressStyle(description_width='initia…"
      ]
     },
     "metadata": {},
     "output_type": "display_data"
    },
    {
     "name": "stdout",
     "output_type": "stream",
     "text": [
      "\n",
      "Trained_rUNet_pytorch_6positions_dataset_25epochs_0.7coeff_mask.pkl 25\n"
     ]
    },
    {
     "data": {
      "application/vnd.jupyter.widget-view+json": {
       "model_id": "8eb6e123ba5543e0b5d785d3cd96e315",
       "version_major": 2,
       "version_minor": 0
      },
      "text/plain": [
       "HBox(children=(IntProgress(value=0, description='Batch', max=67, style=ProgressStyle(description_width='initia…"
      ]
     },
     "metadata": {},
     "output_type": "display_data"
    },
    {
     "name": "stdout",
     "output_type": "stream",
     "text": [
      "\n",
      "Trained_rUNet_pytorch_6positions_dataset_30epochs_0.7coeff_mask.pkl 30\n"
     ]
    },
    {
     "data": {
      "application/vnd.jupyter.widget-view+json": {
       "model_id": "5351bbdb28fe4af5add46444330f31bd",
       "version_major": 2,
       "version_minor": 0
      },
      "text/plain": [
       "HBox(children=(IntProgress(value=0, description='Batch', max=67, style=ProgressStyle(description_width='initia…"
      ]
     },
     "metadata": {},
     "output_type": "display_data"
    },
    {
     "name": "stdout",
     "output_type": "stream",
     "text": [
      "\n",
      "Trained_rUNet_pytorch_6positions_dataset_35epochs_0.7coeff_mask.pkl 35\n"
     ]
    },
    {
     "data": {
      "application/vnd.jupyter.widget-view+json": {
       "model_id": "346ac951ddb1470997de50ccd1bf1536",
       "version_major": 2,
       "version_minor": 0
      },
      "text/plain": [
       "HBox(children=(IntProgress(value=0, description='Batch', max=67, style=ProgressStyle(description_width='initia…"
      ]
     },
     "metadata": {},
     "output_type": "display_data"
    },
    {
     "name": "stdout",
     "output_type": "stream",
     "text": [
      "\n",
      "Trained_rUNet_pytorch_6positions_dataset_40epochs_0.7coeff_mask.pkl 40\n"
     ]
    },
    {
     "data": {
      "application/vnd.jupyter.widget-view+json": {
       "model_id": "d9e2938899e140cab9babd8e84a83dac",
       "version_major": 2,
       "version_minor": 0
      },
      "text/plain": [
       "HBox(children=(IntProgress(value=0, description='Batch', max=67, style=ProgressStyle(description_width='initia…"
      ]
     },
     "metadata": {},
     "output_type": "display_data"
    },
    {
     "name": "stdout",
     "output_type": "stream",
     "text": [
      "\n",
      "Trained_rUNet_pytorch_6positions_dataset_45epochs_0.7coeff_mask.pkl 45\n"
     ]
    },
    {
     "data": {
      "application/vnd.jupyter.widget-view+json": {
       "model_id": "d7e3d9f68bfe4be4a3e827e4696bdde3",
       "version_major": 2,
       "version_minor": 0
      },
      "text/plain": [
       "HBox(children=(IntProgress(value=0, description='Batch', max=67, style=ProgressStyle(description_width='initia…"
      ]
     },
     "metadata": {},
     "output_type": "display_data"
    },
    {
     "name": "stdout",
     "output_type": "stream",
     "text": [
      "\n",
      "Trained_rUNet_pytorch_6positions_dataset_50epochs_0.7coeff_mask.pkl 50\n"
     ]
    },
    {
     "data": {
      "application/vnd.jupyter.widget-view+json": {
       "model_id": "864a0abca06b47e6be4545b056be3011",
       "version_major": 2,
       "version_minor": 0
      },
      "text/plain": [
       "HBox(children=(IntProgress(value=0, description='Batch', max=67, style=ProgressStyle(description_width='initia…"
      ]
     },
     "metadata": {},
     "output_type": "display_data"
    },
    {
     "name": "stdout",
     "output_type": "stream",
     "text": [
      "\n",
      "Trained_rUNet_pytorch_6positions_dataset_55epochs_0.7coeff_mask.pkl 55\n"
     ]
    },
    {
     "data": {
      "application/vnd.jupyter.widget-view+json": {
       "model_id": "f076d555df0c4c5f8f99301609e81b1d",
       "version_major": 2,
       "version_minor": 0
      },
      "text/plain": [
       "HBox(children=(IntProgress(value=0, description='Batch', max=67, style=ProgressStyle(description_width='initia…"
      ]
     },
     "metadata": {},
     "output_type": "display_data"
    },
    {
     "name": "stdout",
     "output_type": "stream",
     "text": [
      "\n",
      "Trained_rUNet_pytorch_6positions_dataset_60epochs_0.7coeff_mask.pkl 60\n"
     ]
    },
    {
     "data": {
      "application/vnd.jupyter.widget-view+json": {
       "model_id": "8cfff64a853b4c69bf8df32c13729141",
       "version_major": 2,
       "version_minor": 0
      },
      "text/plain": [
       "HBox(children=(IntProgress(value=0, description='Batch', max=67, style=ProgressStyle(description_width='initia…"
      ]
     },
     "metadata": {},
     "output_type": "display_data"
    },
    {
     "name": "stdout",
     "output_type": "stream",
     "text": [
      "\n",
      "Trained_rUNet_pytorch_6positions_dataset_65epochs_0.7coeff_mask.pkl 65\n"
     ]
    },
    {
     "data": {
      "application/vnd.jupyter.widget-view+json": {
       "model_id": "6038dbcead7e4709a5acf159b65b46e8",
       "version_major": 2,
       "version_minor": 0
      },
      "text/plain": [
       "HBox(children=(IntProgress(value=0, description='Batch', max=67, style=ProgressStyle(description_width='initia…"
      ]
     },
     "metadata": {},
     "output_type": "display_data"
    },
    {
     "name": "stdout",
     "output_type": "stream",
     "text": [
      "\n",
      "Trained_rUNet_pytorch_6positions_dataset_70epochs_0.7coeff_mask.pkl 70\n"
     ]
    },
    {
     "data": {
      "application/vnd.jupyter.widget-view+json": {
       "model_id": "4ebdc775da904c1ba96e7a9fad087564",
       "version_major": 2,
       "version_minor": 0
      },
      "text/plain": [
       "HBox(children=(IntProgress(value=0, description='Batch', max=67, style=ProgressStyle(description_width='initia…"
      ]
     },
     "metadata": {},
     "output_type": "display_data"
    },
    {
     "name": "stdout",
     "output_type": "stream",
     "text": [
      "\n",
      "Trained_rUNet_pytorch_6positions_dataset_75epochs_0.7coeff_mask.pkl 75\n"
     ]
    },
    {
     "data": {
      "application/vnd.jupyter.widget-view+json": {
       "model_id": "66d1b4581d7443e6a88efc99d5223762",
       "version_major": 2,
       "version_minor": 0
      },
      "text/plain": [
       "HBox(children=(IntProgress(value=0, description='Batch', max=67, style=ProgressStyle(description_width='initia…"
      ]
     },
     "metadata": {},
     "output_type": "display_data"
    },
    {
     "name": "stdout",
     "output_type": "stream",
     "text": [
      "\n",
      "Trained_rUNet_pytorch_6positions_dataset_80epochs_0.7coeff_mask.pkl 80\n"
     ]
    },
    {
     "data": {
      "application/vnd.jupyter.widget-view+json": {
       "model_id": "1ea565852e954e739ebd95c86bcf052b",
       "version_major": 2,
       "version_minor": 0
      },
      "text/plain": [
       "HBox(children=(IntProgress(value=0, description='Batch', max=67, style=ProgressStyle(description_width='initia…"
      ]
     },
     "metadata": {},
     "output_type": "display_data"
    },
    {
     "name": "stdout",
     "output_type": "stream",
     "text": [
      "\n",
      "Trained_rUNet_pytorch_6positions_dataset_85epochs_0.7coeff_mask.pkl 85\n"
     ]
    },
    {
     "data": {
      "application/vnd.jupyter.widget-view+json": {
       "model_id": "ff983c332fca4fdaa88878781fef9a97",
       "version_major": 2,
       "version_minor": 0
      },
      "text/plain": [
       "HBox(children=(IntProgress(value=0, description='Batch', max=67, style=ProgressStyle(description_width='initia…"
      ]
     },
     "metadata": {},
     "output_type": "display_data"
    },
    {
     "name": "stdout",
     "output_type": "stream",
     "text": [
      "\n",
      "Trained_rUNet_pytorch_6positions_dataset_90epochs_0.7coeff_mask.pkl 90\n"
     ]
    },
    {
     "data": {
      "application/vnd.jupyter.widget-view+json": {
       "model_id": "0e56f97d2b264470889a83989b9e030a",
       "version_major": 2,
       "version_minor": 0
      },
      "text/plain": [
       "HBox(children=(IntProgress(value=0, description='Batch', max=67, style=ProgressStyle(description_width='initia…"
      ]
     },
     "metadata": {},
     "output_type": "display_data"
    },
    {
     "name": "stdout",
     "output_type": "stream",
     "text": [
      "\n",
      "Trained_rUNet_pytorch_6positions_dataset_95epochs_0.7coeff_mask.pkl 95\n"
     ]
    },
    {
     "data": {
      "application/vnd.jupyter.widget-view+json": {
       "model_id": "717d0ed8d3c7440db65a9e96dbc58013",
       "version_major": 2,
       "version_minor": 0
      },
      "text/plain": [
       "HBox(children=(IntProgress(value=0, description='Batch', max=67, style=ProgressStyle(description_width='initia…"
      ]
     },
     "metadata": {},
     "output_type": "display_data"
    },
    {
     "name": "stdout",
     "output_type": "stream",
     "text": [
      "\n",
      "Trained_rUNet_pytorch_6positions_dataset_100epochs_0.7coeff_mask.pkl 100\n"
     ]
    },
    {
     "data": {
      "application/vnd.jupyter.widget-view+json": {
       "model_id": "76b82991017c4f92bdcbf0338ac8ae82",
       "version_major": 2,
       "version_minor": 0
      },
      "text/plain": [
       "HBox(children=(IntProgress(value=0, description='Batch', max=67, style=ProgressStyle(description_width='initia…"
      ]
     },
     "metadata": {},
     "output_type": "display_data"
    },
    {
     "name": "stdout",
     "output_type": "stream",
     "text": [
      "\n"
     ]
    },
    {
     "data": {
      "image/png": "[encoded data removed]",
      "text/plain": [
       "<Figure size 432x288 with 1 Axes>"
      ]
     },
     "metadata": {
      "needs_background": "light"
     },
     "output_type": "display_data"
    }
   ],
   "source": [
    "mse070_test, epochs = mse_vs_epochs(7, 'testdata', data_loaders_test, data_lengths_test)"
   ]
  },
  {
   "cell_type": "code",
   "execution_count": 64,
   "metadata": {
    "collapsed": true
   },
   "outputs": [
    {
     "name": "stdout",
     "output_type": "stream",
     "text": [
      "Trained_rUNet_pytorch_6positions_dataset_5epochs_0.75coeff_mask.pkl 5\n"
     ]
    },
    {
     "data": {
      "application/vnd.jupyter.widget-view+json": {
       "model_id": "3f76c9f0adee47178f74b81dd44c3d63",
       "version_major": 2,
       "version_minor": 0
      },
      "text/plain": [
       "HBox(children=(IntProgress(value=0, description='Batch', max=67, style=ProgressStyle(description_width='initia…"
      ]
     },
     "metadata": {},
     "output_type": "display_data"
    },
    {
     "name": "stdout",
     "output_type": "stream",
     "text": [
      "\n",
      "Trained_rUNet_pytorch_6positions_dataset_10epochs_0.75coeff_mask.pkl 10\n"
     ]
    },
    {
     "data": {
      "application/vnd.jupyter.widget-view+json": {
       "model_id": "90a3f7656aca4b47b2855ff4d774a468",
       "version_major": 2,
       "version_minor": 0
      },
      "text/plain": [
       "HBox(children=(IntProgress(value=0, description='Batch', max=67, style=ProgressStyle(description_width='initia…"
      ]
     },
     "metadata": {},
     "output_type": "display_data"
    },
    {
     "name": "stdout",
     "output_type": "stream",
     "text": [
      "\n",
      "Trained_rUNet_pytorch_6positions_dataset_15epochs_0.75coeff_mask.pkl 15\n"
     ]
    },
    {
     "data": {
      "application/vnd.jupyter.widget-view+json": {
       "model_id": "cd58418eb6de40fc9c06edc0554a2e85",
       "version_major": 2,
       "version_minor": 0
      },
      "text/plain": [
       "HBox(children=(IntProgress(value=0, description='Batch', max=67, style=ProgressStyle(description_width='initia…"
      ]
     },
     "metadata": {},
     "output_type": "display_data"
    },
    {
     "name": "stdout",
     "output_type": "stream",
     "text": [
      "\n",
      "Trained_rUNet_pytorch_6positions_dataset_20epochs_0.75coeff_mask.pkl 20\n"
     ]
    },
    {
     "data": {
      "application/vnd.jupyter.widget-view+json": {
       "model_id": "22b77dee28fb45198d307f4ef0357a63",
       "version_major": 2,
       "version_minor": 0
      },
      "text/plain": [
       "HBox(children=(IntProgress(value=0, description='Batch', max=67, style=ProgressStyle(description_width='initia…"
      ]
     },
     "metadata": {},
     "output_type": "display_data"
    },
    {
     "name": "stdout",
     "output_type": "stream",
     "text": [
      "\n",
      "Trained_rUNet_pytorch_6positions_dataset_25epochs_0.75coeff_mask.pkl 25\n"
     ]
    },
    {
     "data": {
      "application/vnd.jupyter.widget-view+json": {
       "model_id": "9f694de2c1094b12912a59707d8ff12d",
       "version_major": 2,
       "version_minor": 0
      },
      "text/plain": [
       "HBox(children=(IntProgress(value=0, description='Batch', max=67, style=ProgressStyle(description_width='initia…"
      ]
     },
     "metadata": {},
     "output_type": "display_data"
    },
    {
     "name": "stdout",
     "output_type": "stream",
     "text": [
      "\n",
      "Trained_rUNet_pytorch_6positions_dataset_30epochs_0.75coeff_mask.pkl 30\n"
     ]
    },
    {
     "data": {
      "application/vnd.jupyter.widget-view+json": {
       "model_id": "4db9ac0cf2754b14a0b997eb5541f1b4",
       "version_major": 2,
       "version_minor": 0
      },
      "text/plain": [
       "HBox(children=(IntProgress(value=0, description='Batch', max=67, style=ProgressStyle(description_width='initia…"
      ]
     },
     "metadata": {},
     "output_type": "display_data"
    },
    {
     "name": "stdout",
     "output_type": "stream",
     "text": [
      "\n",
      "Trained_rUNet_pytorch_6positions_dataset_35epochs_0.75coeff_mask.pkl 35\n"
     ]
    },
    {
     "data": {
      "application/vnd.jupyter.widget-view+json": {
       "model_id": "d1292b032a25496c9b23ca8ed1a8d69b",
       "version_major": 2,
       "version_minor": 0
      },
      "text/plain": [
       "HBox(children=(IntProgress(value=0, description='Batch', max=67, style=ProgressStyle(description_width='initia…"
      ]
     },
     "metadata": {},
     "output_type": "display_data"
    },
    {
     "name": "stdout",
     "output_type": "stream",
     "text": [
      "\n",
      "Trained_rUNet_pytorch_6positions_dataset_40epochs_0.75coeff_mask.pkl 40\n"
     ]
    },
    {
     "data": {
      "application/vnd.jupyter.widget-view+json": {
       "model_id": "59836c5d74864778896366b60be88ccc",
       "version_major": 2,
       "version_minor": 0
      },
      "text/plain": [
       "HBox(children=(IntProgress(value=0, description='Batch', max=67, style=ProgressStyle(description_width='initia…"
      ]
     },
     "metadata": {},
     "output_type": "display_data"
    },
    {
     "name": "stdout",
     "output_type": "stream",
     "text": [
      "\n",
      "Trained_rUNet_pytorch_6positions_dataset_45epochs_0.75coeff_mask.pkl 45\n"
     ]
    },
    {
     "data": {
      "application/vnd.jupyter.widget-view+json": {
       "model_id": "4e2c0e2242b84d0da5d19c5aee1044df",
       "version_major": 2,
       "version_minor": 0
      },
      "text/plain": [
       "HBox(children=(IntProgress(value=0, description='Batch', max=67, style=ProgressStyle(description_width='initia…"
      ]
     },
     "metadata": {},
     "output_type": "display_data"
    },
    {
     "name": "stdout",
     "output_type": "stream",
     "text": [
      "\n",
      "Trained_rUNet_pytorch_6positions_dataset_50epochs_0.75coeff_mask.pkl 50\n"
     ]
    },
    {
     "data": {
      "application/vnd.jupyter.widget-view+json": {
       "model_id": "27e6b7944fdb48358e1172cfedde7fd6",
       "version_major": 2,
       "version_minor": 0
      },
      "text/plain": [
       "HBox(children=(IntProgress(value=0, description='Batch', max=67, style=ProgressStyle(description_width='initia…"
      ]
     },
     "metadata": {},
     "output_type": "display_data"
    },
    {
     "name": "stdout",
     "output_type": "stream",
     "text": [
      "\n",
      "Trained_rUNet_pytorch_6positions_dataset_55epochs_0.75coeff_mask.pkl 55\n"
     ]
    },
    {
     "data": {
      "application/vnd.jupyter.widget-view+json": {
       "model_id": "374556e5e62e435f833875c2087aca13",
       "version_major": 2,
       "version_minor": 0
      },
      "text/plain": [
       "HBox(children=(IntProgress(value=0, description='Batch', max=67, style=ProgressStyle(description_width='initia…"
      ]
     },
     "metadata": {},
     "output_type": "display_data"
    },
    {
     "name": "stdout",
     "output_type": "stream",
     "text": [
      "\n",
      "Trained_rUNet_pytorch_6positions_dataset_60epochs_0.75coeff_mask.pkl 60\n"
     ]
    },
    {
     "data": {
      "application/vnd.jupyter.widget-view+json": {
       "model_id": "b7240d7442874017bf81c42747a0d12d",
       "version_major": 2,
       "version_minor": 0
      },
      "text/plain": [
       "HBox(children=(IntProgress(value=0, description='Batch', max=67, style=ProgressStyle(description_width='initia…"
      ]
     },
     "metadata": {},
     "output_type": "display_data"
    },
    {
     "name": "stdout",
     "output_type": "stream",
     "text": [
      "\n",
      "Trained_rUNet_pytorch_6positions_dataset_65epochs_0.75coeff_mask.pkl 65\n"
     ]
    },
    {
     "data": {
      "application/vnd.jupyter.widget-view+json": {
       "model_id": "49c8bff61d7740df80682f1e1d618d26",
       "version_major": 2,
       "version_minor": 0
      },
      "text/plain": [
       "HBox(children=(IntProgress(value=0, description='Batch', max=67, style=ProgressStyle(description_width='initia…"
      ]
     },
     "metadata": {},
     "output_type": "display_data"
    },
    {
     "name": "stdout",
     "output_type": "stream",
     "text": [
      "\n",
      "Trained_rUNet_pytorch_6positions_dataset_70epochs_0.75coeff_mask.pkl 70\n"
     ]
    },
    {
     "data": {
      "application/vnd.jupyter.widget-view+json": {
       "model_id": "04824ec195ea4a3e9e57771db4359e0e",
       "version_major": 2,
       "version_minor": 0
      },
      "text/plain": [
       "HBox(children=(IntProgress(value=0, description='Batch', max=67, style=ProgressStyle(description_width='initia…"
      ]
     },
     "metadata": {},
     "output_type": "display_data"
    },
    {
     "name": "stdout",
     "output_type": "stream",
     "text": [
      "\n",
      "Trained_rUNet_pytorch_6positions_dataset_75epochs_0.75coeff_mask.pkl 75\n"
     ]
    },
    {
     "data": {
      "application/vnd.jupyter.widget-view+json": {
       "model_id": "977fcd0b698c42fba54b51a21d93b3aa",
       "version_major": 2,
       "version_minor": 0
      },
      "text/plain": [
       "HBox(children=(IntProgress(value=0, description='Batch', max=67, style=ProgressStyle(description_width='initia…"
      ]
     },
     "metadata": {},
     "output_type": "display_data"
    },
    {
     "name": "stdout",
     "output_type": "stream",
     "text": [
      "\n",
      "Trained_rUNet_pytorch_6positions_dataset_80epochs_0.75coeff_mask.pkl 80\n"
     ]
    },
    {
     "data": {
      "application/vnd.jupyter.widget-view+json": {
       "model_id": "aee0f4f7e9ee488caf72ec07a1dcefd1",
       "version_major": 2,
       "version_minor": 0
      },
      "text/plain": [
       "HBox(children=(IntProgress(value=0, description='Batch', max=67, style=ProgressStyle(description_width='initia…"
      ]
     },
     "metadata": {},
     "output_type": "display_data"
    },
    {
     "name": "stdout",
     "output_type": "stream",
     "text": [
      "\n",
      "Trained_rUNet_pytorch_6positions_dataset_85epochs_0.75coeff_mask.pkl 85\n"
     ]
    },
    {
     "data": {
      "application/vnd.jupyter.widget-view+json": {
       "model_id": "24c8f933bf4c4d84b870368b7d107a85",
       "version_major": 2,
       "version_minor": 0
      },
      "text/plain": [
       "HBox(children=(IntProgress(value=0, description='Batch', max=67, style=ProgressStyle(description_width='initia…"
      ]
     },
     "metadata": {},
     "output_type": "display_data"
    },
    {
     "name": "stdout",
     "output_type": "stream",
     "text": [
      "\n",
      "Trained_rUNet_pytorch_6positions_dataset_90epochs_0.75coeff_mask.pkl 90\n"
     ]
    },
    {
     "data": {
      "application/vnd.jupyter.widget-view+json": {
       "model_id": "2fd27e5ab2cd4e069c0a0769282b9226",
       "version_major": 2,
       "version_minor": 0
      },
      "text/plain": [
       "HBox(children=(IntProgress(value=0, description='Batch', max=67, style=ProgressStyle(description_width='initia…"
      ]
     },
     "metadata": {},
     "output_type": "display_data"
    },
    {
     "name": "stdout",
     "output_type": "stream",
     "text": [
      "\n",
      "Trained_rUNet_pytorch_6positions_dataset_95epochs_0.75coeff_mask.pkl 95\n"
     ]
    },
    {
     "data": {
      "application/vnd.jupyter.widget-view+json": {
       "model_id": "6eaa9ddea16e47d5a75ffeca049b0494",
       "version_major": 2,
       "version_minor": 0
      },
      "text/plain": [
       "HBox(children=(IntProgress(value=0, description='Batch', max=67, style=ProgressStyle(description_width='initia…"
      ]
     },
     "metadata": {},
     "output_type": "display_data"
    },
    {
     "name": "stdout",
     "output_type": "stream",
     "text": [
      "\n",
      "Trained_rUNet_pytorch_6positions_dataset_100epochs_0.75coeff_mask.pkl 100\n"
     ]
    },
    {
     "data": {
      "application/vnd.jupyter.widget-view+json": {
       "model_id": "199efd7ca28443b2b4acef1071e17798",
       "version_major": 2,
       "version_minor": 0
      },
      "text/plain": [
       "HBox(children=(IntProgress(value=0, description='Batch', max=67, style=ProgressStyle(description_width='initia…"
      ]
     },
     "metadata": {},
     "output_type": "display_data"
    },
    {
     "name": "stdout",
     "output_type": "stream",
     "text": [
      "\n"
     ]
    },
    {
     "data": {
      "image/png": "[encoded data removed]",
      "text/plain": [
       "<Figure size 432x288 with 1 Axes>"
      ]
     },
     "metadata": {
      "needs_background": "light"
     },
     "output_type": "display_data"
    }
   ],
   "source": [
    "mse075_test, epochs = mse_vs_epochs(75, 'testdata', data_loaders_test, data_lengths_test)"
   ]
  },
  {
   "cell_type": "code",
   "execution_count": null,
   "metadata": {},
   "outputs": [],
   "source": [
    "mse025_unseen, epochs = mse_vs_epochs(25, 'unseen', data_loaders_unseen, data_lengths_unseen, only_test=False)"
   ]
  },
  {
   "cell_type": "code",
   "execution_count": null,
   "metadata": {},
   "outputs": [],
   "source": [
    "mse030_unseen, epochs = mse_vs_epochs(3,'unseen', data_loaders_unseen, data_lengths_unseen, only_test=False)"
   ]
  },
  {
   "cell_type": "code",
   "execution_count": null,
   "metadata": {},
   "outputs": [],
   "source": [
    "mse040_unseen, epochs = mse_vs_epochs(4,'unseen', data_loaders_unseen, data_lengths_unseen, only_test=False)"
   ]
  },
  {
   "cell_type": "code",
   "execution_count": null,
   "metadata": {},
   "outputs": [],
   "source": [
    "mse050_unseen, epochs = mse_vs_epochs(5, 'unseen', data_loaders_unseen, data_lengths_unseen, only_test=False)"
   ]
  },
  {
   "cell_type": "code",
   "execution_count": null,
   "metadata": {},
   "outputs": [
    {
     "name": "stdout",
     "output_type": "stream",
     "text": [
      "Trained_rUNet_pytorch_6positions_dataset_5epochs_0.6coeff_mask.pkl 5\n"
     ]
    },
    {
     "data": {
      "application/vnd.jupyter.widget-view+json": {
       "model_id": "c1c09fed08cd45f09384e23b3d804d1c",
       "version_major": 2,
       "version_minor": 0
      },
      "text/plain": [
       "HBox(children=(IntProgress(value=0, description='Batch', max=220, style=ProgressStyle(description_width='initi…"
      ]
     },
     "metadata": {},
     "output_type": "display_data"
    },
    {
     "name": "stdout",
     "output_type": "stream",
     "text": [
      "\n",
      "Trained_rUNet_pytorch_6positions_dataset_10epochs_0.6coeff_mask.pkl 10\n"
     ]
    },
    {
     "data": {
      "application/vnd.jupyter.widget-view+json": {
       "model_id": "99839f303d094e4dbba97020767498fc",
       "version_major": 2,
       "version_minor": 0
      },
      "text/plain": [
       "HBox(children=(IntProgress(value=0, description='Batch', max=220, style=ProgressStyle(description_width='initi…"
      ]
     },
     "metadata": {},
     "output_type": "display_data"
    },
    {
     "name": "stdout",
     "output_type": "stream",
     "text": [
      "\n",
      "Trained_rUNet_pytorch_6positions_dataset_15epochs_0.6coeff_mask.pkl 15\n"
     ]
    },
    {
     "data": {
      "application/vnd.jupyter.widget-view+json": {
       "model_id": "7e1d16112ff149bc842dc36ea56a8fcd",
       "version_major": 2,
       "version_minor": 0
      },
      "text/plain": [
       "HBox(children=(IntProgress(value=0, description='Batch', max=220, style=ProgressStyle(description_width='initi…"
      ]
     },
     "metadata": {},
     "output_type": "display_data"
    },
    {
     "name": "stdout",
     "output_type": "stream",
     "text": [
      "\n",
      "Trained_rUNet_pytorch_6positions_dataset_20epochs_0.6coeff_mask.pkl 20\n"
     ]
    },
    {
     "data": {
      "application/vnd.jupyter.widget-view+json": {
       "model_id": "49978a01b2ec444b892215e3a0cfd089",
       "version_major": 2,
       "version_minor": 0
      },
      "text/plain": [
       "HBox(children=(IntProgress(value=0, description='Batch', max=220, style=ProgressStyle(description_width='initi…"
      ]
     },
     "metadata": {},
     "output_type": "display_data"
    },
    {
     "name": "stdout",
     "output_type": "stream",
     "text": [
      "\n",
      "Trained_rUNet_pytorch_6positions_dataset_25epochs_0.6coeff_mask.pkl 25\n"
     ]
    },
    {
     "data": {
      "application/vnd.jupyter.widget-view+json": {
       "model_id": "8b53f955a32f42b78d3719f70e5de35a",
       "version_major": 2,
       "version_minor": 0
      },
      "text/plain": [
       "HBox(children=(IntProgress(value=0, description='Batch', max=220, style=ProgressStyle(description_width='initi…"
      ]
     },
     "metadata": {},
     "output_type": "display_data"
    },
    {
     "name": "stdout",
     "output_type": "stream",
     "text": [
      "\n",
      "Trained_rUNet_pytorch_6positions_dataset_30epochs_0.6coeff_mask.pkl 30\n"
     ]
    },
    {
     "data": {
      "application/vnd.jupyter.widget-view+json": {
       "model_id": "4ab0bd2e8ac647649edf610eda9264cc",
       "version_major": 2,
       "version_minor": 0
      },
      "text/plain": [
       "HBox(children=(IntProgress(value=0, description='Batch', max=220, style=ProgressStyle(description_width='initi…"
      ]
     },
     "metadata": {},
     "output_type": "display_data"
    },
    {
     "name": "stdout",
     "output_type": "stream",
     "text": [
      "\n",
      "Trained_rUNet_pytorch_6positions_dataset_35epochs_0.6coeff_mask.pkl 35\n"
     ]
    },
    {
     "data": {
      "application/vnd.jupyter.widget-view+json": {
       "model_id": "1b03429495da40fd8732c8cd2bdec881",
       "version_major": 2,
       "version_minor": 0
      },
      "text/plain": [
       "HBox(children=(IntProgress(value=0, description='Batch', max=220, style=ProgressStyle(description_width='initi…"
      ]
     },
     "metadata": {},
     "output_type": "display_data"
    },
    {
     "name": "stdout",
     "output_type": "stream",
     "text": [
      "\n",
      "Trained_rUNet_pytorch_6positions_dataset_40epochs_0.6coeff_mask.pkl 40\n"
     ]
    },
    {
     "data": {
      "application/vnd.jupyter.widget-view+json": {
       "model_id": "efc981d3c1a54169aa90a271ae5fbc38",
       "version_major": 2,
       "version_minor": 0
      },
      "text/plain": [
       "HBox(children=(IntProgress(value=0, description='Batch', max=220, style=ProgressStyle(description_width='initi…"
      ]
     },
     "metadata": {},
     "output_type": "display_data"
    },
    {
     "name": "stdout",
     "output_type": "stream",
     "text": [
      "\n",
      "Trained_rUNet_pytorch_6positions_dataset_45epochs_0.6coeff_mask.pkl 45\n"
     ]
    },
    {
     "data": {
      "application/vnd.jupyter.widget-view+json": {
       "model_id": "5b1508e46c94485096737f60d9d8fdaa",
       "version_major": 2,
       "version_minor": 0
      },
      "text/plain": [
       "HBox(children=(IntProgress(value=0, description='Batch', max=220, style=ProgressStyle(description_width='initi…"
      ]
     },
     "metadata": {},
     "output_type": "display_data"
    },
    {
     "name": "stdout",
     "output_type": "stream",
     "text": [
      "\n",
      "Trained_rUNet_pytorch_6positions_dataset_50epochs_0.6coeff_mask.pkl 50\n"
     ]
    },
    {
     "data": {
      "application/vnd.jupyter.widget-view+json": {
       "model_id": "a190861fc33f44de876fdca3d4dc5e92",
       "version_major": 2,
       "version_minor": 0
      },
      "text/plain": [
       "HBox(children=(IntProgress(value=0, description='Batch', max=220, style=ProgressStyle(description_width='initi…"
      ]
     },
     "metadata": {},
     "output_type": "display_data"
    },
    {
     "name": "stdout",
     "output_type": "stream",
     "text": [
      "\n",
      "Trained_rUNet_pytorch_6positions_dataset_80epochs_0.6coeff_mask.pkl 80\n"
     ]
    },
    {
     "data": {
      "application/vnd.jupyter.widget-view+json": {
       "model_id": "ce550da3ff984fbcafe547929cc9863e",
       "version_major": 2,
       "version_minor": 0
      },
      "text/plain": [
       "HBox(children=(IntProgress(value=0, description='Batch', max=220, style=ProgressStyle(description_width='initi…"
      ]
     },
     "metadata": {},
     "output_type": "display_data"
    },
    {
     "name": "stdout",
     "output_type": "stream",
     "text": [
      "\n",
      "Trained_rUNet_pytorch_6positions_dataset_90epochs_0.6coeff_mask.pkl 90\n"
     ]
    },
    {
     "data": {
      "application/vnd.jupyter.widget-view+json": {
       "model_id": "801e8ae2e88e41c995192733e1592aa3",
       "version_major": 2,
       "version_minor": 0
      },
      "text/plain": [
       "HBox(children=(IntProgress(value=0, description='Batch', max=220, style=ProgressStyle(description_width='initi…"
      ]
     },
     "metadata": {},
     "output_type": "display_data"
    },
    {
     "name": "stdout",
     "output_type": "stream",
     "text": [
      "\n",
      "Trained_rUNet_pytorch_6positions_dataset_100epochs_0.6coeff_mask.pkl 100\n"
     ]
    },
    {
     "data": {
      "application/vnd.jupyter.widget-view+json": {
       "model_id": "dab32d9b364f48cb984cc7f2df687ca2",
       "version_major": 2,
       "version_minor": 0
      },
      "text/plain": [
       "HBox(children=(IntProgress(value=0, description='Batch', max=220, style=ProgressStyle(description_width='initi…"
      ]
     },
     "metadata": {},
     "output_type": "display_data"
    },
    {
     "name": "stdout",
     "output_type": "stream",
     "text": [
      "\n",
      "Trained_rUNet_pytorch_6positions_dataset_55epochs_0.6coeff_mask.pkl 55\n"
     ]
    },
    {
     "data": {
      "application/vnd.jupyter.widget-view+json": {
       "model_id": "3f5bcb4c1aa84dcdadba7565d2495999",
       "version_major": 2,
       "version_minor": 0
      },
      "text/plain": [
       "HBox(children=(IntProgress(value=0, description='Batch', max=220, style=ProgressStyle(description_width='initi…"
      ]
     },
     "metadata": {},
     "output_type": "display_data"
    },
    {
     "name": "stdout",
     "output_type": "stream",
     "text": [
      "\n",
      "Trained_rUNet_pytorch_6positions_dataset_60epochs_0.6coeff_mask.pkl 60\n"
     ]
    },
    {
     "data": {
      "application/vnd.jupyter.widget-view+json": {
       "model_id": "9b545c811fd541de954622461dd572fb",
       "version_major": 2,
       "version_minor": 0
      },
      "text/plain": [
       "HBox(children=(IntProgress(value=0, description='Batch', max=220, style=ProgressStyle(description_width='initi…"
      ]
     },
     "metadata": {},
     "output_type": "display_data"
    },
    {
     "name": "stdout",
     "output_type": "stream",
     "text": [
      "\n",
      "Trained_rUNet_pytorch_6positions_dataset_65epochs_0.6coeff_mask.pkl 65\n"
     ]
    },
    {
     "data": {
      "application/vnd.jupyter.widget-view+json": {
       "model_id": "81b98387b9584c2593da1dce89750248",
       "version_major": 2,
       "version_minor": 0
      },
      "text/plain": [
       "HBox(children=(IntProgress(value=0, description='Batch', max=220, style=ProgressStyle(description_width='initi…"
      ]
     },
     "metadata": {},
     "output_type": "display_data"
    },
    {
     "name": "stdout",
     "output_type": "stream",
     "text": [
      "\n",
      "Trained_rUNet_pytorch_6positions_dataset_70epochs_0.6coeff_mask.pkl 70\n"
     ]
    },
    {
     "data": {
      "application/vnd.jupyter.widget-view+json": {
       "model_id": "ad470cbfbfc24f688c6f343747af7924",
       "version_major": 2,
       "version_minor": 0
      },
      "text/plain": [
       "HBox(children=(IntProgress(value=0, description='Batch', max=220, style=ProgressStyle(description_width='initi…"
      ]
     },
     "metadata": {},
     "output_type": "display_data"
    },
    {
     "name": "stdout",
     "output_type": "stream",
     "text": [
      "\n",
      "Trained_rUNet_pytorch_6positions_dataset_75epochs_0.6coeff_mask.pkl 75\n"
     ]
    },
    {
     "data": {
      "application/vnd.jupyter.widget-view+json": {
       "model_id": "5eeaf635f7d14de5b1213e69e7f721a8",
       "version_major": 2,
       "version_minor": 0
      },
      "text/plain": [
       "HBox(children=(IntProgress(value=0, description='Batch', max=220, style=ProgressStyle(description_width='initi…"
      ]
     },
     "metadata": {},
     "output_type": "display_data"
    },
    {
     "name": "stdout",
     "output_type": "stream",
     "text": [
      "\n",
      "Trained_rUNet_pytorch_6positions_dataset_85epochs_0.6coeff_mask.pkl 85\n"
     ]
    },
    {
     "data": {
      "application/vnd.jupyter.widget-view+json": {
       "model_id": "11a256b50e5d410a84fedd96cd35cf07",
       "version_major": 2,
       "version_minor": 0
      },
      "text/plain": [
       "HBox(children=(IntProgress(value=0, description='Batch', max=220, style=ProgressStyle(description_width='initi…"
      ]
     },
     "metadata": {},
     "output_type": "display_data"
    },
    {
     "name": "stdout",
     "output_type": "stream",
     "text": [
      "\n",
      "Trained_rUNet_pytorch_6positions_dataset_95epochs_0.6coeff_mask.pkl 95\n"
     ]
    },
    {
     "data": {
      "application/vnd.jupyter.widget-view+json": {
       "model_id": "267e14fc809a42e2863633e30a33d445",
       "version_major": 2,
       "version_minor": 0
      },
      "text/plain": [
       "HBox(children=(IntProgress(value=0, description='Batch', max=220, style=ProgressStyle(description_width='initi…"
      ]
     },
     "metadata": {},
     "output_type": "display_data"
    }
   ],
   "source": [
    "mse060_unseen, epochs = mse_vs_epochs(6, 'unseen', data_loaders_unseen, data_lengths_unseen, only_test=False)"
   ]
  },
  {
   "cell_type": "code",
   "execution_count": null,
   "metadata": {},
   "outputs": [],
   "source": [
    "mse070_unseen, epochs = mse_vs_epochs(7, 'unseen', data_loaders_unseen, data_lengths_unseen, only_test=False)"
   ]
  },
  {
   "cell_type": "code",
   "execution_count": null,
   "metadata": {},
   "outputs": [],
   "source": [
    "mse075_unseen, epochs = mse_vs_epochs(75, 'unseen', data_loaders_unseen, data_lengths_unseen, only_test=False)"
   ]
  },
  {
   "cell_type": "code",
   "execution_count": null,
   "metadata": {},
   "outputs": [],
   "source": []
  }
 ],
 "metadata": {
  "celltoolbar": "Tags",
  "kernelspec": {
   "display_name": "Python 3.7 (ml)",
   "language": "python",
   "name": "mlearning"
  },
  "language_info": {
   "codemirror_mode": {
    "name": "ipython",
    "version": 3
   },
   "file_extension": ".py",
   "mimetype": "text/x-python",
   "name": "python",
   "nbconvert_exporter": "python",
   "pygments_lexer": "ipython3",
   "version": "3.7.3"
  }
 },
 "nbformat": 4,
 "nbformat_minor": 2
}
