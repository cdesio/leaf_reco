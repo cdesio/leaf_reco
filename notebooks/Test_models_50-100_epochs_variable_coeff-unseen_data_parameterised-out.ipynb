{
 "cells": [
  {
   "cell_type": "code",
   "execution_count": 1,
   "metadata": {
    "papermill": {
     "duration": 3.162184,
     "end_time": "2019-11-08T09:46:06.889659",
     "exception": false,
     "start_time": "2019-11-08T09:46:03.727475",
     "status": "completed"
    },
    "tags": []
   },
   "outputs": [],
   "source": [
    "import sys, os\n",
    "import matplotlib.pyplot as plt\n",
    "sys.path.append(\"../\")\n",
    "from sklearn.metrics import mean_squared_error\n",
    "import re"
   ]
  },
  {
   "cell_type": "code",
   "execution_count": 2,
   "metadata": {
    "papermill": {
     "duration": 0.056984,
     "end_time": "2019-11-08T09:46:06.984487",
     "exception": false,
     "start_time": "2019-11-08T09:46:06.927503",
     "status": "completed"
    },
    "tags": [
     "parameters"
    ]
   },
   "outputs": [],
   "source": [
    "#distances=[2,4,10,20,25,35]\n",
    "distances = [1,3,15,30]\n",
    "saved_models = '/storage/yw18581/src/leaf_reco/saved_models/trained_6positions/'"
   ]
  },
  {
   "cell_type": "code",
   "execution_count": 2,
   "metadata": {
    "papermill": {
     "duration": 0.045621,
     "end_time": "2019-11-08T09:46:07.067161",
     "exception": false,
     "start_time": "2019-11-08T09:46:07.021540",
     "status": "completed"
    },
    "tags": [
     "injected-parameters"
    ]
   },
   "outputs": [],
   "source": [
    "# Parameters\n",
    "distances = [2, 4, 10, 20, 25, 35]\n",
    "saved_models = \"/storage/yw18581/src/leaf_reco/saved_models/trained_6positions/\"\n"
   ]
  },
  {
   "cell_type": "code",
   "execution_count": 3,
   "metadata": {
    "papermill": {
     "duration": 0.04448,
     "end_time": "2019-11-08T09:46:07.157866",
     "exception": false,
     "start_time": "2019-11-08T09:46:07.113386",
     "status": "completed"
    },
    "tags": []
   },
   "outputs": [],
   "source": [
    "import numpy as np"
   ]
  },
  {
   "cell_type": "code",
   "execution_count": 4,
   "metadata": {
    "papermill": {
     "duration": 0.064769,
     "end_time": "2019-11-08T09:46:07.258613",
     "exception": false,
     "start_time": "2019-11-08T09:46:07.193844",
     "status": "completed"
    },
    "tags": []
   },
   "outputs": [],
   "source": [
    "regex = re.compile(r'\\d+')"
   ]
  },
  {
   "cell_type": "code",
   "execution_count": 5,
   "metadata": {
    "papermill": {
     "duration": 0.085513,
     "end_time": "2019-11-08T09:46:07.386334",
     "exception": false,
     "start_time": "2019-11-08T09:46:07.300821",
     "status": "completed"
    },
    "tags": []
   },
   "outputs": [],
   "source": [
    "%matplotlib inline"
   ]
  },
  {
   "cell_type": "code",
   "execution_count": 6,
   "metadata": {
    "papermill": {
     "duration": 3.709996,
     "end_time": "2019-11-08T09:46:11.160258",
     "exception": false,
     "start_time": "2019-11-08T09:46:07.450262",
     "status": "completed"
    },
    "tags": []
   },
   "outputs": [],
   "source": [
    "from core.utils.data import define_dataset, select_dist"
   ]
  },
  {
   "cell_type": "code",
   "execution_count": 7,
   "metadata": {
    "papermill": {
     "duration": 0.08215,
     "end_time": "2019-11-08T09:46:11.316048",
     "exception": false,
     "start_time": "2019-11-08T09:46:11.233898",
     "status": "completed"
    },
    "tags": []
   },
   "outputs": [],
   "source": [
    "from core.utils.inference import inference_phase_rUNet, inference_phase_rUNet_plot_notebook"
   ]
  },
  {
   "cell_type": "code",
   "execution_count": 8,
   "metadata": {
    "papermill": {
     "duration": 0.081028,
     "end_time": "2019-11-08T09:46:11.457649",
     "exception": false,
     "start_time": "2019-11-08T09:46:11.376621",
     "status": "completed"
    },
    "tags": []
   },
   "outputs": [],
   "source": [
    "from core.models import rUNet"
   ]
  },
  {
   "cell_type": "code",
   "execution_count": 9,
   "metadata": {
    "papermill": {
     "duration": 0.093422,
     "end_time": "2019-11-08T09:46:11.665705",
     "exception": false,
     "start_time": "2019-11-08T09:46:11.572283",
     "status": "completed"
    },
    "tags": []
   },
   "outputs": [],
   "source": [
    "import torch"
   ]
  },
  {
   "cell_type": "code",
   "execution_count": 10,
   "metadata": {
    "papermill": {
     "duration": 0.047401,
     "end_time": "2019-11-08T09:46:11.759542",
     "exception": false,
     "start_time": "2019-11-08T09:46:11.712141",
     "status": "completed"
    },
    "tags": []
   },
   "outputs": [],
   "source": [
    "DATA_DIR_DEEPTHOUGHT = \"/storage/yw18581/data\""
   ]
  },
  {
   "cell_type": "code",
   "execution_count": 11,
   "metadata": {
    "papermill": {
     "duration": 0.047903,
     "end_time": "2019-11-08T09:46:11.841424",
     "exception": false,
     "start_time": "2019-11-08T09:46:11.793521",
     "status": "completed"
    },
    "tags": []
   },
   "outputs": [],
   "source": [
    "data_dir = DATA_DIR_DEEPTHOUGHT"
   ]
  },
  {
   "cell_type": "code",
   "execution_count": 12,
   "metadata": {
    "papermill": {
     "duration": 0.068047,
     "end_time": "2019-11-08T09:46:11.991903",
     "exception": false,
     "start_time": "2019-11-08T09:46:11.923856",
     "status": "completed"
    },
    "tags": []
   },
   "outputs": [],
   "source": [
    "root_folder = os.path.join(data_dir, \"dataset\")"
   ]
  },
  {
   "cell_type": "code",
   "execution_count": 13,
   "metadata": {
    "papermill": {
     "duration": 0.221875,
     "end_time": "2019-11-08T09:46:12.251614",
     "exception": false,
     "start_time": "2019-11-08T09:46:12.029739",
     "status": "completed"
    },
    "tags": []
   },
   "outputs": [],
   "source": [
    "excluded = select_dist(dist_list=distances, root_folder=root_folder)"
   ]
  },
  {
   "cell_type": "code",
   "execution_count": 14,
   "metadata": {
    "papermill": {
     "duration": 0.051585,
     "end_time": "2019-11-08T09:46:12.363078",
     "exception": false,
     "start_time": "2019-11-08T09:46:12.311493",
     "status": "completed"
    },
    "tags": []
   },
   "outputs": [
    {
     "data": {
      "text/plain": [
       "['10x10_2mm_second_clean',\n",
       " '10x10_2mm_third_clean',\n",
       " '10x10_2mm_first_clean',\n",
       " '10x10_4mm_second_clean',\n",
       " '10x10_4mm_third_clean',\n",
       " '10x10_4mm_first_clean',\n",
       " '10x10_10mm_second_clean',\n",
       " '10x10_10mm_third_clean',\n",
       " '10x10_10mm_first_clean',\n",
       " '10x10_20mm_second_clean',\n",
       " '10x10_20mm_third_clean',\n",
       " '10x10_20mm_first_clean',\n",
       " '10x10_25mm_second_clean',\n",
       " '10x10_25mm_third_clean',\n",
       " '10x10_25mm_first_clean',\n",
       " '10x10_35mm_second_clean',\n",
       " '10x10_35mm_third_clean',\n",
       " '10x10_35mm_first_clean']"
      ]
     },
     "execution_count": 14,
     "metadata": {},
     "output_type": "execute_result"
    }
   ],
   "source": [
    "excluded"
   ]
  },
  {
   "cell_type": "code",
   "execution_count": 15,
   "metadata": {
    "papermill": {
     "duration": 0.215432,
     "end_time": "2019-11-08T09:46:12.635057",
     "exception": false,
     "start_time": "2019-11-08T09:46:12.419625",
     "status": "completed"
    },
    "tags": []
   },
   "outputs": [],
   "source": [
    "data_loaders, data_lengths= define_dataset(root_folder, batch_size=16, excluded_list=excluded, alldata=False)"
   ]
  },
  {
   "cell_type": "code",
   "execution_count": 16,
   "metadata": {
    "papermill": {
     "duration": 0.046939,
     "end_time": "2019-11-08T09:46:12.718771",
     "exception": false,
     "start_time": "2019-11-08T09:46:12.671832",
     "status": "completed"
    },
    "tags": []
   },
   "outputs": [
    {
     "data": {
      "text/plain": [
       "{'train': 2261, 'val': 565, 'test': 706}"
      ]
     },
     "execution_count": 16,
     "metadata": {},
     "output_type": "execute_result"
    }
   ],
   "source": [
    "data_lengths"
   ]
  },
  {
   "cell_type": "code",
   "execution_count": 17,
   "metadata": {
    "papermill": {
     "duration": 0.049822,
     "end_time": "2019-11-08T09:46:12.823954",
     "exception": false,
     "start_time": "2019-11-08T09:46:12.774132",
     "status": "completed"
    },
    "tags": []
   },
   "outputs": [],
   "source": [
    "model_names = os.listdir(saved_models)"
   ]
  },
  {
   "cell_type": "code",
   "execution_count": 18,
   "metadata": {
    "papermill": {
     "duration": 0.0896,
     "end_time": "2019-11-08T09:46:12.960501",
     "exception": false,
     "start_time": "2019-11-08T09:46:12.870901",
     "status": "completed"
    },
    "tags": []
   },
   "outputs": [
    {
     "data": {
      "text/plain": [
       "['Trained_rUNet_pytorch_6positions_dataset_5epochs_0.75coeff_mask.pkl',\n",
       " 'Trained_rUNet_pytorch_6positions_dataset_10epochs_0.75coeff_mask.pkl',\n",
       " 'Trained_rUNet_pytorch_6positions_dataset_15epochs_0.75coeff_mask.pkl',\n",
       " 'Trained_rUNet_pytorch_6positions_dataset_20epochs_0.75coeff_mask.pkl',\n",
       " 'Trained_rUNet_pytorch_6positions_dataset_25epochs_0.75coeff_mask.pkl',\n",
       " 'Trained_rUNet_pytorch_6positions_dataset_30epochs_0.75coeff_mask.pkl',\n",
       " 'Trained_rUNet_pytorch_6positions_dataset_35epochs_0.75coeff_mask.pkl',\n",
       " 'Trained_rUNet_pytorch_6positions_dataset_40epochs_0.75coeff_mask.pkl',\n",
       " 'Trained_rUNet_pytorch_6positions_dataset_45epochs_0.75coeff_mask.pkl',\n",
       " 'Trained_rUNet_pytorch_6positions_dataset_50epochs_0.75coeff_mask.pkl',\n",
       " 'history_Trained_rUNet_pytorch_50epochs_0.75coef.pkl',\n",
       " 'Trained_rUNet_pytorch_6positions_dataset_5epochs_0.7coeff_mask.pkl',\n",
       " 'Trained_rUNet_pytorch_6positions_dataset_10epochs_0.7coeff_mask.pkl',\n",
       " 'Trained_rUNet_pytorch_6positions_dataset_15epochs_0.7coeff_mask.pkl',\n",
       " 'Trained_rUNet_pytorch_6positions_dataset_20epochs_0.7coeff_mask.pkl',\n",
       " 'Trained_rUNet_pytorch_6positions_dataset_25epochs_0.7coeff_mask.pkl',\n",
       " 'Trained_rUNet_pytorch_6positions_dataset_30epochs_0.7coeff_mask.pkl',\n",
       " 'Trained_rUNet_pytorch_6positions_dataset_35epochs_0.7coeff_mask.pkl',\n",
       " 'Trained_rUNet_pytorch_6positions_dataset_40epochs_0.7coeff_mask.pkl',\n",
       " 'Trained_rUNet_pytorch_6positions_dataset_45epochs_0.7coeff_mask.pkl',\n",
       " 'Trained_rUNet_pytorch_6positions_dataset_50epochs_0.7coeff_mask.pkl',\n",
       " 'history_Trained_rUNet_pytorch_50epochs_0.7coef.pkl',\n",
       " 'Trained_rUNet_pytorch_6positions_dataset_5epochs_0.6coeff_mask.pkl',\n",
       " 'Trained_rUNet_pytorch_6positions_dataset_10epochs_0.6coeff_mask.pkl',\n",
       " 'Trained_rUNet_pytorch_6positions_dataset_15epochs_0.6coeff_mask.pkl',\n",
       " 'Trained_rUNet_pytorch_6positions_dataset_20epochs_0.6coeff_mask.pkl',\n",
       " 'Trained_rUNet_pytorch_6positions_dataset_25epochs_0.6coeff_mask.pkl',\n",
       " 'Trained_rUNet_pytorch_6positions_dataset_30epochs_0.6coeff_mask.pkl',\n",
       " 'Trained_rUNet_pytorch_6positions_dataset_35epochs_0.6coeff_mask.pkl',\n",
       " 'Trained_rUNet_pytorch_6positions_dataset_40epochs_0.6coeff_mask.pkl',\n",
       " 'Trained_rUNet_pytorch_6positions_dataset_45epochs_0.6coeff_mask.pkl',\n",
       " 'Trained_rUNet_pytorch_6positions_dataset_50epochs_0.6coeff_mask.pkl',\n",
       " 'history_Trained_rUNet_pytorch_50epochs_0.6coef.pkl',\n",
       " 'Trained_rUNet_pytorch_6positions_dataset_5epochs_0.5coeff_mask.pkl',\n",
       " 'Trained_rUNet_pytorch_6positions_dataset_10epochs_0.5coeff_mask.pkl',\n",
       " 'Trained_rUNet_pytorch_6positions_dataset_15epochs_0.5coeff_mask.pkl',\n",
       " 'Trained_rUNet_pytorch_6positions_dataset_20epochs_0.5coeff_mask.pkl',\n",
       " 'Trained_rUNet_pytorch_6positions_dataset_25epochs_0.5coeff_mask.pkl',\n",
       " 'Trained_rUNet_pytorch_6positions_dataset_30epochs_0.5coeff_mask.pkl',\n",
       " 'Trained_rUNet_pytorch_6positions_dataset_35epochs_0.5coeff_mask.pkl',\n",
       " 'Trained_rUNet_pytorch_6positions_dataset_40epochs_0.5coeff_mask.pkl',\n",
       " 'Trained_rUNet_pytorch_6positions_dataset_45epochs_0.5coeff_mask.pkl',\n",
       " 'Trained_rUNet_pytorch_6positions_dataset_50epochs_0.5coeff_mask.pkl',\n",
       " 'history_Trained_rUNet_pytorch_50epochs_0.5coef.pkl',\n",
       " 'predicted_unseen_6positions_5epochs_0.75coeff.npz',\n",
       " 'predicted_unseen_6positions_10epochs_0.75coeff.npz',\n",
       " 'predicted_unseen_6positions_15epochs_0.75coeff.npz',\n",
       " 'predicted_unseen_6positions_20epochs_0.75coeff.npz',\n",
       " 'predicted_unseen_6positions_25epochs_0.75coeff.npz',\n",
       " 'predicted_unseen_6positions_30epochs_0.75coeff.npz',\n",
       " 'predicted_unseen_6positions_35epochs_0.75coeff.npz',\n",
       " 'predicted_unseen_6positions_40epochs_0.75coeff.npz',\n",
       " 'error_distributions',\n",
       " 'predicted_unseen_6positions_45epochs_0.75coeff.npz',\n",
       " 'predicted_unseen_6positions_50epochs_0.75coeff.npz',\n",
       " 'predicted_unseen_6positions_5epochs_0.7coeff.npz',\n",
       " 'predicted_unseen_6positions_10epochs_0.7coeff.npz',\n",
       " 'predicted_unseen_6positions_15epochs_0.7coeff.npz',\n",
       " 'predicted_unseen_6positions_20epochs_0.7coeff.npz',\n",
       " 'predicted_unseen_6positions_25epochs_0.7coeff.npz',\n",
       " 'predicted_unseen_6positions_30epochs_0.7coeff.npz',\n",
       " 'predicted_unseen_6positions_35epochs_0.7coeff.npz',\n",
       " 'predicted_unseen_6positions_40epochs_0.7coeff.npz',\n",
       " 'predicted_unseen_6positions_45epochs_0.7coeff.npz',\n",
       " 'predicted_unseen_6positions_50epochs_0.7coeff.npz',\n",
       " 'predicted_unseen_6positions_5epochs_0.6coeff.npz',\n",
       " 'predicted_unseen_6positions_10epochs_0.6coeff.npz',\n",
       " 'predicted_unseen_6positions_15epochs_0.6coeff.npz',\n",
       " 'predicted_unseen_6positions_20epochs_0.6coeff.npz',\n",
       " 'predicted_unseen_6positions_25epochs_0.6coeff.npz',\n",
       " 'predicted_unseen_6positions_30epochs_0.6coeff.npz',\n",
       " 'predicted_unseen_6positions_35epochs_0.6coeff.npz',\n",
       " 'predicted_unseen_6positions_40epochs_0.6coeff.npz',\n",
       " 'predicted_unseen_6positions_45epochs_0.6coeff.npz',\n",
       " 'predicted_unseen_6positions_50epochs_0.6coeff.npz',\n",
       " 'predicted_unseen_6positions_5epochs_0.5coeff.npz',\n",
       " 'predicted_unseen_6positions_10epochs_0.5coeff.npz',\n",
       " 'predicted_unseen_6positions_15epochs_0.5coeff.npz',\n",
       " 'predicted_unseen_6positions_20epochs_0.5coeff.npz',\n",
       " 'predicted_unseen_6positions_25epochs_0.5coeff.npz',\n",
       " 'predicted_unseen_6positions_30epochs_0.5coeff.npz',\n",
       " 'predicted_unseen_6positions_35epochs_0.5coeff.npz',\n",
       " 'predicted_unseen_6positions_40epochs_0.5coeff.npz',\n",
       " 'predicted_unseen_6positions_45epochs_0.5coeff.npz',\n",
       " 'predicted_unseen_6positions_50epochs_0.5coeff.npz',\n",
       " 'predicted_testdata_6positions_35epochs_0.75coeff.npz',\n",
       " 'predicted_testdata_6positions_40epochs_0.75coeff.npz',\n",
       " 'predicted_testdata_6positions_45epochs_0.75coeff.npz',\n",
       " 'predicted_testdata_6positions_50epochs_0.75coeff.npz',\n",
       " 'Trained_rUNet_pytorch_6positions_dataset_55epochs_0.75coeff_mask.pkl',\n",
       " 'predicted_testdata_6positions_15epochs_0.6coeff.npz',\n",
       " 'predicted_testdata_6positions_20epochs_0.6coeff.npz',\n",
       " 'predicted_testdata_6positions_30epochs_0.6coeff.npz',\n",
       " 'predicted_testdata_6positions_40epochs_0.6coeff.npz',\n",
       " 'predicted_testdata_6positions_50epochs_0.6coeff.npz',\n",
       " 'predicted_testdata_6positions_15epochs_0.7coeff.npz',\n",
       " 'predicted_testdata_6positions_20epochs_0.7coeff.npz',\n",
       " 'predicted_testdata_6positions_25epochs_0.7coeff.npz',\n",
       " 'predicted_testdata_6positions_30epochs_0.7coeff.npz',\n",
       " 'predicted_testdata_6positions_35epochs_0.7coeff.npz',\n",
       " 'predicted_testdata_6positions_40epochs_0.7coeff.npz',\n",
       " 'predicted_testdata_6positions_45epochs_0.7coeff.npz',\n",
       " 'predicted_testdata_6positions_50epochs_0.7coeff.npz',\n",
       " 'predicted_testdata_6positions_50epochs_0.5coeff.npz',\n",
       " 'predicted_testdata_6positions_10epochs_0.6coeff.npz',\n",
       " 'predicted_testdata_6positions_10epochs_0.75coeff.npz',\n",
       " 'predicted_testdata_6positions_15epochs_0.75coeff.npz',\n",
       " 'predicted_testdata_6positions_20epochs_0.75coeff.npz',\n",
       " 'predicted_testdata_6positions_25epochs_0.75coeff.npz',\n",
       " 'predicted_testdata_6positions_30epochs_0.75coeff.npz',\n",
       " 'predicted_testdata_6positions_5epochs_0.5coeff.npz',\n",
       " 'predicted_testdata_6positions_25epochs_0.6coeff.npz',\n",
       " 'predicted_testdata_6positions_35epochs_0.6coeff.npz',\n",
       " 'predicted_testdata_6positions_45epochs_0.6coeff.npz',\n",
       " 'predicted_testdata_6positions_5epochs_0.75coeff.npz',\n",
       " 'Trained_rUNet_pytorch_6positions_dataset_80epochs_0.6coeff_mask.pkl',\n",
       " 'Trained_rUNet_pytorch_6positions_dataset_90epochs_0.6coeff_mask.pkl',\n",
       " 'Trained_rUNet_pytorch_6positions_dataset_100epochs_0.6coeff_mask.pkl',\n",
       " 'Trained_rUNet_pytorch_6positions_dataset_60epochs_0.5coeff_mask.pkl',\n",
       " 'Trained_rUNet_pytorch_6positions_dataset_70epochs_0.5coeff_mask.pkl',\n",
       " 'Trained_rUNet_pytorch_6positions_dataset_80epochs_0.5coeff_mask.pkl',\n",
       " 'Trained_rUNet_pytorch_6positions_dataset_90epochs_0.5coeff_mask.pkl',\n",
       " 'Trained_rUNet_pytorch_6positions_dataset_100epochs_0.5coeff_mask.pkl',\n",
       " 'predicted_testdata_6positions_5epochs_0.7coeff.npz',\n",
       " 'predicted_testdata_6positions_10epochs_0.7coeff.npz',\n",
       " 'predicted_testdata_6positions_5epochs_0.6coeff.npz',\n",
       " 'predicted_testdata_6positions_10epochs_0.5coeff.npz',\n",
       " 'predicted_testdata_6positions_15epochs_0.5coeff.npz',\n",
       " 'predicted_testdata_6positions_20epochs_0.5coeff.npz',\n",
       " 'predicted_testdata_6positions_25epochs_0.5coeff.npz',\n",
       " 'predicted_testdata_6positions_30epochs_0.5coeff.npz',\n",
       " 'predicted_testdata_6positions_35epochs_0.5coeff.npz',\n",
       " 'predicted_testdata_6positions_40epochs_0.5coeff.npz',\n",
       " 'predicted_testdata_6positions_45epochs_0.5coeff.npz',\n",
       " 'Trained_rUNet_pytorch_6positions_dataset_60epochs_0.75coeff_mask.pkl',\n",
       " 'Trained_rUNet_pytorch_6positions_dataset_65epochs_0.75coeff_mask.pkl',\n",
       " 'Trained_rUNet_pytorch_6positions_dataset_70epochs_0.75coeff_mask.pkl',\n",
       " 'Trained_rUNet_pytorch_6positions_dataset_75epochs_0.75coeff_mask.pkl',\n",
       " 'Trained_rUNet_pytorch_6positions_dataset_80epochs_0.75coeff_mask.pkl',\n",
       " 'Trained_rUNet_pytorch_6positions_dataset_85epochs_0.75coeff_mask.pkl',\n",
       " 'Trained_rUNet_pytorch_6positions_dataset_90epochs_0.75coeff_mask.pkl',\n",
       " 'Trained_rUNet_pytorch_6positions_dataset_95epochs_0.75coeff_mask.pkl',\n",
       " 'Trained_rUNet_pytorch_6positions_dataset_100epochs_0.75coeff_mask.pkl',\n",
       " 'history_Trained_rUNet_pytorch_100epochs_0.75coef.pkl',\n",
       " 'Trained_rUNet_pytorch_6positions_dataset_55epochs_0.7coeff_mask.pkl',\n",
       " 'Trained_rUNet_pytorch_6positions_dataset_60epochs_0.7coeff_mask.pkl',\n",
       " 'Trained_rUNet_pytorch_6positions_dataset_65epochs_0.7coeff_mask.pkl',\n",
       " 'Trained_rUNet_pytorch_6positions_dataset_70epochs_0.7coeff_mask.pkl',\n",
       " 'Trained_rUNet_pytorch_6positions_dataset_75epochs_0.7coeff_mask.pkl',\n",
       " 'Trained_rUNet_pytorch_6positions_dataset_80epochs_0.7coeff_mask.pkl',\n",
       " 'Trained_rUNet_pytorch_6positions_dataset_85epochs_0.7coeff_mask.pkl',\n",
       " 'Trained_rUNet_pytorch_6positions_dataset_90epochs_0.7coeff_mask.pkl',\n",
       " 'Trained_rUNet_pytorch_6positions_dataset_95epochs_0.7coeff_mask.pkl',\n",
       " 'Trained_rUNet_pytorch_6positions_dataset_100epochs_0.7coeff_mask.pkl',\n",
       " 'history_Trained_rUNet_pytorch_100epochs_0.7coef.pkl',\n",
       " 'Trained_rUNet_pytorch_6positions_dataset_55epochs_0.6coeff_mask.pkl',\n",
       " 'Trained_rUNet_pytorch_6positions_dataset_60epochs_0.6coeff_mask.pkl',\n",
       " 'Trained_rUNet_pytorch_6positions_dataset_65epochs_0.6coeff_mask.pkl',\n",
       " 'Trained_rUNet_pytorch_6positions_dataset_70epochs_0.6coeff_mask.pkl',\n",
       " 'Trained_rUNet_pytorch_6positions_dataset_75epochs_0.6coeff_mask.pkl',\n",
       " 'Trained_rUNet_pytorch_6positions_dataset_85epochs_0.6coeff_mask.pkl',\n",
       " 'Trained_rUNet_pytorch_6positions_dataset_95epochs_0.6coeff_mask.pkl',\n",
       " 'history_Trained_rUNet_pytorch_100epochs_0.6coef.pkl',\n",
       " 'Trained_rUNet_pytorch_6positions_dataset_55epochs_0.5coeff_mask.pkl',\n",
       " 'Trained_rUNet_pytorch_6positions_dataset_65epochs_0.5coeff_mask.pkl',\n",
       " 'Trained_rUNet_pytorch_6positions_dataset_75epochs_0.5coeff_mask.pkl',\n",
       " 'Trained_rUNet_pytorch_6positions_dataset_85epochs_0.5coeff_mask.pkl',\n",
       " 'Trained_rUNet_pytorch_6positions_dataset_95epochs_0.5coeff_mask.pkl',\n",
       " 'history_Trained_rUNet_pytorch_100epochs_0.5coef.pkl',\n",
       " 'Trained_rUNet_pytorch_6positions_dataset_5epochs_0.25coeff_mask.pkl',\n",
       " 'Trained_rUNet_pytorch_6positions_dataset_45epochs_0.25coeff_mask.pkl',\n",
       " 'predicted_testdata_6positions_85epochs_0.5coeff.npz',\n",
       " 'Trained_rUNet_pytorch_6positions_dataset_50epochs_0.25coeff_mask.pkl',\n",
       " 'Trained_rUNet_pytorch_6positions_dataset_60epochs_0.25coeff_mask.pkl',\n",
       " 'Trained_rUNet_pytorch_6positions_dataset_70epochs_0.25coeff_mask.pkl',\n",
       " 'Trained_rUNet_pytorch_6positions_dataset_80epochs_0.25coeff_mask.pkl',\n",
       " 'Trained_rUNet_pytorch_6positions_dataset_10epochs_0.25coeff_mask.pkl',\n",
       " 'Trained_rUNet_pytorch_6positions_dataset_15epochs_0.25coeff_mask.pkl',\n",
       " 'predicted_testdata_6positions_55epochs_0.75coeff.npz',\n",
       " 'predicted_testdata_6positions_60epochs_0.75coeff.npz',\n",
       " 'predicted_testdata_6positions_65epochs_0.75coeff.npz',\n",
       " 'predicted_testdata_6positions_70epochs_0.75coeff.npz',\n",
       " 'predicted_testdata_6positions_75epochs_0.75coeff.npz',\n",
       " 'predicted_testdata_6positions_80epochs_0.75coeff.npz',\n",
       " 'Trained_rUNet_pytorch_6positions_dataset_20epochs_0.25coeff_mask.pkl',\n",
       " 'predicted_testdata_6positions_85epochs_0.75coeff.npz',\n",
       " 'predicted_testdata_6positions_90epochs_0.75coeff.npz',\n",
       " 'predicted_testdata_6positions_95epochs_0.75coeff.npz',\n",
       " 'predicted_testdata_6positions_100epochs_0.75coeff.npz',\n",
       " 'predicted_testdata_6positions_55epochs_0.7coeff.npz',\n",
       " 'predicted_testdata_6positions_60epochs_0.7coeff.npz',\n",
       " 'predicted_testdata_6positions_65epochs_0.7coeff.npz',\n",
       " 'Trained_rUNet_pytorch_6positions_dataset_25epochs_0.25coeff_mask.pkl',\n",
       " 'predicted_testdata_6positions_70epochs_0.7coeff.npz',\n",
       " 'predicted_testdata_6positions_75epochs_0.7coeff.npz',\n",
       " 'predicted_testdata_6positions_80epochs_0.7coeff.npz',\n",
       " 'predicted_testdata_6positions_85epochs_0.7coeff.npz',\n",
       " 'predicted_testdata_6positions_90epochs_0.7coeff.npz',\n",
       " 'predicted_testdata_6positions_95epochs_0.7coeff.npz',\n",
       " 'Trained_rUNet_pytorch_6positions_dataset_30epochs_0.25coeff_mask.pkl',\n",
       " 'predicted_testdata_6positions_100epochs_0.7coeff.npz',\n",
       " 'predicted_testdata_6positions_80epochs_0.6coeff.npz',\n",
       " 'predicted_testdata_6positions_90epochs_0.6coeff.npz',\n",
       " 'predicted_testdata_6positions_100epochs_0.6coeff.npz',\n",
       " 'predicted_testdata_6positions_55epochs_0.6coeff.npz',\n",
       " 'predicted_testdata_6positions_60epochs_0.6coeff.npz',\n",
       " 'Trained_rUNet_pytorch_6positions_dataset_35epochs_0.25coeff_mask.pkl',\n",
       " 'predicted_testdata_6positions_65epochs_0.6coeff.npz',\n",
       " 'predicted_testdata_6positions_70epochs_0.6coeff.npz',\n",
       " 'predicted_testdata_6positions_75epochs_0.6coeff.npz',\n",
       " 'predicted_testdata_6positions_85epochs_0.6coeff.npz',\n",
       " 'predicted_testdata_6positions_95epochs_0.6coeff.npz',\n",
       " 'predicted_testdata_6positions_60epochs_0.5coeff.npz',\n",
       " 'Trained_rUNet_pytorch_6positions_dataset_40epochs_0.25coeff_mask.pkl',\n",
       " 'predicted_testdata_6positions_70epochs_0.5coeff.npz',\n",
       " 'predicted_testdata_6positions_80epochs_0.5coeff.npz',\n",
       " 'predicted_testdata_6positions_90epochs_0.5coeff.npz',\n",
       " 'predicted_testdata_6positions_100epochs_0.5coeff.npz',\n",
       " 'predicted_testdata_6positions_55epochs_0.5coeff.npz',\n",
       " 'predicted_testdata_6positions_65epochs_0.5coeff.npz',\n",
       " 'predicted_testdata_6positions_75epochs_0.5coeff.npz',\n",
       " 'predicted_testdata_6positions_95epochs_0.5coeff.npz',\n",
       " 'Trained_rUNet_pytorch_6positions_dataset_55epochs_0.25coeff_mask.pkl',\n",
       " 'Trained_rUNet_pytorch_6positions_dataset_65epochs_0.25coeff_mask.pkl',\n",
       " 'Trained_rUNet_pytorch_6positions_dataset_75epochs_0.25coeff_mask.pkl',\n",
       " 'Trained_rUNet_pytorch_6positions_dataset_85epochs_0.25coeff_mask.pkl',\n",
       " 'Trained_rUNet_pytorch_6positions_dataset_90epochs_0.25coeff_mask.pkl',\n",
       " 'Trained_rUNet_pytorch_6positions_dataset_95epochs_0.25coeff_mask.pkl',\n",
       " 'Trained_rUNet_pytorch_6positions_dataset_100epochs_0.25coeff_mask.pkl',\n",
       " 'history_Trained_rUNet_pytorch_100epochs_0.25coef.pkl',\n",
       " 'Trained_rUNet_pytorch_6positions_dataset_5epochs_0.3coeff_mask.pkl',\n",
       " 'Trained_rUNet_pytorch_6positions_dataset_10epochs_0.3coeff_mask.pkl',\n",
       " 'Trained_rUNet_pytorch_6positions_dataset_15epochs_0.3coeff_mask.pkl',\n",
       " 'Trained_rUNet_pytorch_6positions_dataset_20epochs_0.3coeff_mask.pkl',\n",
       " 'Trained_rUNet_pytorch_6positions_dataset_25epochs_0.3coeff_mask.pkl',\n",
       " 'Trained_rUNet_pytorch_6positions_dataset_30epochs_0.3coeff_mask.pkl',\n",
       " 'Trained_rUNet_pytorch_6positions_dataset_35epochs_0.3coeff_mask.pkl',\n",
       " 'Trained_rUNet_pytorch_6positions_dataset_40epochs_0.3coeff_mask.pkl',\n",
       " 'Trained_rUNet_pytorch_6positions_dataset_45epochs_0.3coeff_mask.pkl',\n",
       " 'Trained_rUNet_pytorch_6positions_dataset_50epochs_0.3coeff_mask.pkl',\n",
       " 'Trained_rUNet_pytorch_6positions_dataset_55epochs_0.3coeff_mask.pkl',\n",
       " 'Trained_rUNet_pytorch_6positions_dataset_60epochs_0.3coeff_mask.pkl',\n",
       " 'Trained_rUNet_pytorch_6positions_dataset_65epochs_0.3coeff_mask.pkl',\n",
       " 'Trained_rUNet_pytorch_6positions_dataset_70epochs_0.3coeff_mask.pkl',\n",
       " 'Trained_rUNet_pytorch_6positions_dataset_75epochs_0.3coeff_mask.pkl',\n",
       " 'Trained_rUNet_pytorch_6positions_dataset_80epochs_0.3coeff_mask.pkl',\n",
       " 'Trained_rUNet_pytorch_6positions_dataset_85epochs_0.3coeff_mask.pkl',\n",
       " 'Trained_rUNet_pytorch_6positions_dataset_90epochs_0.3coeff_mask.pkl',\n",
       " 'Trained_rUNet_pytorch_6positions_dataset_95epochs_0.3coeff_mask.pkl',\n",
       " 'Trained_rUNet_pytorch_6positions_dataset_100epochs_0.3coeff_mask.pkl',\n",
       " 'history_Trained_rUNet_pytorch_100epochs_0.3coef.pkl',\n",
       " 'Trained_rUNet_pytorch_6positions_dataset_5epochs_0.4coeff_mask.pkl',\n",
       " 'Trained_rUNet_pytorch_6positions_dataset_10epochs_0.4coeff_mask.pkl',\n",
       " 'Trained_rUNet_pytorch_6positions_dataset_15epochs_0.4coeff_mask.pkl',\n",
       " 'Trained_rUNet_pytorch_6positions_dataset_20epochs_0.4coeff_mask.pkl',\n",
       " 'predicted_unseen_6positions_55epochs_0.75coeff.npz',\n",
       " 'predicted_unseen_6positions_60epochs_0.75coeff.npz',\n",
       " 'Trained_rUNet_pytorch_6positions_dataset_25epochs_0.4coeff_mask.pkl',\n",
       " 'predicted_unseen_6positions_65epochs_0.75coeff.npz',\n",
       " 'predicted_unseen_6positions_70epochs_0.75coeff.npz',\n",
       " 'predicted_unseen_6positions_75epochs_0.75coeff.npz',\n",
       " 'predicted_unseen_6positions_80epochs_0.75coeff.npz',\n",
       " 'predicted_unseen_6positions_85epochs_0.75coeff.npz',\n",
       " 'predicted_unseen_6positions_90epochs_0.75coeff.npz',\n",
       " 'Trained_rUNet_pytorch_6positions_dataset_30epochs_0.4coeff_mask.pkl',\n",
       " 'predicted_unseen_6positions_95epochs_0.75coeff.npz',\n",
       " 'predicted_unseen_6positions_100epochs_0.75coeff.npz',\n",
       " 'predicted_unseen_6positions_55epochs_0.7coeff.npz',\n",
       " 'predicted_unseen_6positions_60epochs_0.7coeff.npz',\n",
       " 'predicted_unseen_6positions_65epochs_0.7coeff.npz',\n",
       " 'predicted_unseen_6positions_70epochs_0.7coeff.npz',\n",
       " 'Trained_rUNet_pytorch_6positions_dataset_35epochs_0.4coeff_mask.pkl',\n",
       " 'predicted_unseen_6positions_75epochs_0.7coeff.npz',\n",
       " 'predicted_unseen_6positions_80epochs_0.7coeff.npz',\n",
       " 'predicted_unseen_6positions_85epochs_0.7coeff.npz',\n",
       " 'predicted_unseen_6positions_90epochs_0.7coeff.npz',\n",
       " 'predicted_unseen_6positions_95epochs_0.7coeff.npz',\n",
       " 'predicted_unseen_6positions_100epochs_0.7coeff.npz',\n",
       " 'Trained_rUNet_pytorch_6positions_dataset_40epochs_0.4coeff_mask.pkl',\n",
       " 'predicted_unseen_6positions_80epochs_0.6coeff.npz',\n",
       " 'predicted_unseen_6positions_90epochs_0.6coeff.npz',\n",
       " 'predicted_unseen_6positions_100epochs_0.6coeff.npz',\n",
       " 'predicted_unseen_6positions_55epochs_0.6coeff.npz',\n",
       " 'predicted_unseen_6positions_60epochs_0.6coeff.npz',\n",
       " 'predicted_unseen_6positions_65epochs_0.6coeff.npz',\n",
       " 'Trained_rUNet_pytorch_6positions_dataset_45epochs_0.4coeff_mask.pkl',\n",
       " 'predicted_unseen_6positions_70epochs_0.6coeff.npz',\n",
       " 'predicted_unseen_6positions_75epochs_0.6coeff.npz']"
      ]
     },
     "execution_count": 18,
     "metadata": {},
     "output_type": "execute_result"
    }
   ],
   "source": [
    "model_names"
   ]
  },
  {
   "cell_type": "code",
   "execution_count": 19,
   "metadata": {
    "papermill": {
     "duration": 0.053229,
     "end_time": "2019-11-08T09:46:13.054068",
     "exception": false,
     "start_time": "2019-11-08T09:46:13.000839",
     "status": "completed"
    },
    "tags": []
   },
   "outputs": [],
   "source": [
    "def get_fnames(key):\n",
    "    f_list = []\n",
    "    epochs = []\n",
    "    for fname in model_names:\n",
    "        if fname.startswith(\"Trained\"):\n",
    "            if regex.findall(fname.split(\"_\")[6])[1]==str(key):\n",
    "                f_list.append(fname)\n",
    "                epochs.append(int(regex.findall(fname.split(\"_\")[5])[0]))\n",
    "    return f_list, epochs"
   ]
  },
  {
   "cell_type": "code",
   "execution_count": 20,
   "metadata": {
    "papermill": {
     "duration": 0.052179,
     "end_time": "2019-11-08T09:46:13.148039",
     "exception": false,
     "start_time": "2019-11-08T09:46:13.095860",
     "status": "completed"
    },
    "tags": []
   },
   "outputs": [
    {
     "data": {
      "text/plain": [
       "['Trained_rUNet_pytorch_6positions_dataset_55epochs_0.75coeff_mask.pkl',\n",
       " 'Trained_rUNet_pytorch_6positions_dataset_60epochs_0.75coeff_mask.pkl',\n",
       " 'Trained_rUNet_pytorch_6positions_dataset_65epochs_0.75coeff_mask.pkl',\n",
       " 'Trained_rUNet_pytorch_6positions_dataset_70epochs_0.75coeff_mask.pkl',\n",
       " 'Trained_rUNet_pytorch_6positions_dataset_75epochs_0.75coeff_mask.pkl',\n",
       " 'Trained_rUNet_pytorch_6positions_dataset_80epochs_0.75coeff_mask.pkl',\n",
       " 'Trained_rUNet_pytorch_6positions_dataset_85epochs_0.75coeff_mask.pkl',\n",
       " 'Trained_rUNet_pytorch_6positions_dataset_90epochs_0.75coeff_mask.pkl',\n",
       " 'Trained_rUNet_pytorch_6positions_dataset_95epochs_0.75coeff_mask.pkl',\n",
       " 'Trained_rUNet_pytorch_6positions_dataset_100epochs_0.75coeff_mask.pkl']"
      ]
     },
     "execution_count": 20,
     "metadata": {},
     "output_type": "execute_result"
    }
   ],
   "source": [
    "get_fnames(75)[0][10:]"
   ]
  },
  {
   "cell_type": "code",
   "execution_count": 21,
   "metadata": {},
   "outputs": [
    {
     "data": {
      "text/plain": [
       "['Trained_rUNet_pytorch_6positions_dataset_80epochs_0.6coeff_mask.pkl',\n",
       " 'Trained_rUNet_pytorch_6positions_dataset_90epochs_0.6coeff_mask.pkl',\n",
       " 'Trained_rUNet_pytorch_6positions_dataset_100epochs_0.6coeff_mask.pkl',\n",
       " 'Trained_rUNet_pytorch_6positions_dataset_55epochs_0.6coeff_mask.pkl',\n",
       " 'Trained_rUNet_pytorch_6positions_dataset_60epochs_0.6coeff_mask.pkl',\n",
       " 'Trained_rUNet_pytorch_6positions_dataset_65epochs_0.6coeff_mask.pkl',\n",
       " 'Trained_rUNet_pytorch_6positions_dataset_70epochs_0.6coeff_mask.pkl',\n",
       " 'Trained_rUNet_pytorch_6positions_dataset_75epochs_0.6coeff_mask.pkl',\n",
       " 'Trained_rUNet_pytorch_6positions_dataset_85epochs_0.6coeff_mask.pkl',\n",
       " 'Trained_rUNet_pytorch_6positions_dataset_95epochs_0.6coeff_mask.pkl']"
      ]
     },
     "execution_count": 21,
     "metadata": {},
     "output_type": "execute_result"
    }
   ],
   "source": [
    "get_fnames(6)[0][10:]"
   ]
  },
  {
   "cell_type": "code",
   "execution_count": 22,
   "metadata": {},
   "outputs": [
    {
     "data": {
      "text/plain": [
       "['Trained_rUNet_pytorch_6positions_dataset_55epochs_0.7coeff_mask.pkl',\n",
       " 'Trained_rUNet_pytorch_6positions_dataset_60epochs_0.7coeff_mask.pkl',\n",
       " 'Trained_rUNet_pytorch_6positions_dataset_65epochs_0.7coeff_mask.pkl',\n",
       " 'Trained_rUNet_pytorch_6positions_dataset_70epochs_0.7coeff_mask.pkl',\n",
       " 'Trained_rUNet_pytorch_6positions_dataset_75epochs_0.7coeff_mask.pkl',\n",
       " 'Trained_rUNet_pytorch_6positions_dataset_80epochs_0.7coeff_mask.pkl',\n",
       " 'Trained_rUNet_pytorch_6positions_dataset_85epochs_0.7coeff_mask.pkl',\n",
       " 'Trained_rUNet_pytorch_6positions_dataset_90epochs_0.7coeff_mask.pkl',\n",
       " 'Trained_rUNet_pytorch_6positions_dataset_95epochs_0.7coeff_mask.pkl',\n",
       " 'Trained_rUNet_pytorch_6positions_dataset_100epochs_0.7coeff_mask.pkl']"
      ]
     },
     "execution_count": 22,
     "metadata": {},
     "output_type": "execute_result"
    }
   ],
   "source": [
    "get_fnames(7)[0][10:]"
   ]
  },
  {
   "cell_type": "code",
   "execution_count": 23,
   "metadata": {},
   "outputs": [
    {
     "data": {
      "text/plain": [
       "['Trained_rUNet_pytorch_6positions_dataset_60epochs_0.5coeff_mask.pkl',\n",
       " 'Trained_rUNet_pytorch_6positions_dataset_70epochs_0.5coeff_mask.pkl',\n",
       " 'Trained_rUNet_pytorch_6positions_dataset_80epochs_0.5coeff_mask.pkl',\n",
       " 'Trained_rUNet_pytorch_6positions_dataset_90epochs_0.5coeff_mask.pkl',\n",
       " 'Trained_rUNet_pytorch_6positions_dataset_100epochs_0.5coeff_mask.pkl',\n",
       " 'Trained_rUNet_pytorch_6positions_dataset_55epochs_0.5coeff_mask.pkl',\n",
       " 'Trained_rUNet_pytorch_6positions_dataset_65epochs_0.5coeff_mask.pkl',\n",
       " 'Trained_rUNet_pytorch_6positions_dataset_75epochs_0.5coeff_mask.pkl',\n",
       " 'Trained_rUNet_pytorch_6positions_dataset_85epochs_0.5coeff_mask.pkl',\n",
       " 'Trained_rUNet_pytorch_6positions_dataset_95epochs_0.5coeff_mask.pkl']"
      ]
     },
     "execution_count": 23,
     "metadata": {},
     "output_type": "execute_result"
    }
   ],
   "source": [
    "get_fnames(5)[0][10:]"
   ]
  },
  {
   "cell_type": "code",
   "execution_count": 24,
   "metadata": {
    "papermill": {
     "duration": 0.071648,
     "end_time": "2019-11-08T09:46:13.267989",
     "exception": false,
     "start_time": "2019-11-08T09:46:13.196341",
     "status": "completed"
    },
    "tags": []
   },
   "outputs": [],
   "source": [
    "def mse_vs_epochs(coeff):\n",
    "    mse = []\n",
    "    f_list, epochs = get_fnames(coeff)\n",
    "    for fname, e in zip(f_list[10:], epochs[10:]):\n",
    "        print(fname, e)\n",
    "        torch.cuda.empty_cache()\n",
    "        model= rUNet(out_size=1)\n",
    "        checkpoint = torch.load(os.path.join(saved_models, fname))['model_state_dict'];\n",
    "        model.load_state_dict(checkpoint)\n",
    "        y_true, y_pred = inference_phase_rUNet(model, data_loaders, data_lengths, batch_size=16,\n",
    "                                               notebook=True, test=True)\n",
    "        np.savez_compressed(os.path.join(saved_models, '_'.join(['predicted',\n",
    "                                                                 'unseen',\n",
    "                                                                 fname.split('_')[3],\n",
    "                                                                 fname.split('_')[5],\n",
    "                                                                 fname.split('_')[6]])\n",
    "                                         +'.npz'), true=y_true, pred=y_pred)\n",
    "        mse.append(mean_squared_error(y_true, y_pred))\n",
    "        \n",
    "    plt.plot(epochs[10:], mse)\n",
    "    return mse, epochs"
   ]
  },
  {
   "cell_type": "code",
   "execution_count": 23,
   "metadata": {
    "papermill": {
     "duration": 3074.513139,
     "end_time": "2019-11-08T10:37:27.834954",
     "exception": false,
     "start_time": "2019-11-08T09:46:13.321815",
     "status": "completed"
    },
    "scrolled": true,
    "tags": []
   },
   "outputs": [
    {
     "name": "stdout",
     "output_type": "stream",
     "text": [
      "Trained_rUNet_pytorch_6positions_dataset_55epochs_0.75coeff_mask.pkl 55\n"
     ]
    },
    {
     "data": {
      "application/vnd.jupyter.widget-view+json": {
       "model_id": "91f1f17fef32408a8ef6d027a7c64613",
       "version_major": 2,
       "version_minor": 0
      },
      "text/plain": [
       "HBox(children=(IntProgress(value=0, description='Batch', max=67, style=ProgressStyle(description_width='initia…"
      ]
     },
     "metadata": {},
     "output_type": "display_data"
    },
    {
     "name": "stdout",
     "output_type": "stream",
     "text": [
      "\n",
      "Trained_rUNet_pytorch_6positions_dataset_60epochs_0.75coeff_mask.pkl 60\n"
     ]
    },
    {
     "data": {
      "application/vnd.jupyter.widget-view+json": {
       "model_id": "873fa06037184117a423f43cd792a952",
       "version_major": 2,
       "version_minor": 0
      },
      "text/plain": [
       "HBox(children=(IntProgress(value=0, description='Batch', max=67, style=ProgressStyle(description_width='initia…"
      ]
     },
     "metadata": {},
     "output_type": "display_data"
    },
    {
     "name": "stdout",
     "output_type": "stream",
     "text": [
      "\n",
      "Trained_rUNet_pytorch_6positions_dataset_65epochs_0.75coeff_mask.pkl 65\n"
     ]
    },
    {
     "data": {
      "application/vnd.jupyter.widget-view+json": {
       "model_id": "71294e7af91043aea94b61e895850d75",
       "version_major": 2,
       "version_minor": 0
      },
      "text/plain": [
       "HBox(children=(IntProgress(value=0, description='Batch', max=67, style=ProgressStyle(description_width='initia…"
      ]
     },
     "metadata": {},
     "output_type": "display_data"
    },
    {
     "name": "stdout",
     "output_type": "stream",
     "text": [
      "\n",
      "Trained_rUNet_pytorch_6positions_dataset_70epochs_0.75coeff_mask.pkl 70\n"
     ]
    },
    {
     "data": {
      "application/vnd.jupyter.widget-view+json": {
       "model_id": "46d94b110c22436ab664231f274f5772",
       "version_major": 2,
       "version_minor": 0
      },
      "text/plain": [
       "HBox(children=(IntProgress(value=0, description='Batch', max=67, style=ProgressStyle(description_width='initia…"
      ]
     },
     "metadata": {},
     "output_type": "display_data"
    },
    {
     "name": "stdout",
     "output_type": "stream",
     "text": [
      "\n",
      "Trained_rUNet_pytorch_6positions_dataset_75epochs_0.75coeff_mask.pkl 75\n"
     ]
    },
    {
     "data": {
      "application/vnd.jupyter.widget-view+json": {
       "model_id": "2c6a282a591c4791842b00eb36f428c1",
       "version_major": 2,
       "version_minor": 0
      },
      "text/plain": [
       "HBox(children=(IntProgress(value=0, description='Batch', max=67, style=ProgressStyle(description_width='initia…"
      ]
     },
     "metadata": {},
     "output_type": "display_data"
    },
    {
     "name": "stdout",
     "output_type": "stream",
     "text": [
      "\n",
      "Trained_rUNet_pytorch_6positions_dataset_80epochs_0.75coeff_mask.pkl 80\n"
     ]
    },
    {
     "data": {
      "application/vnd.jupyter.widget-view+json": {
       "model_id": "4a55f747963449609a81ce3dd03fb74e",
       "version_major": 2,
       "version_minor": 0
      },
      "text/plain": [
       "HBox(children=(IntProgress(value=0, description='Batch', max=67, style=ProgressStyle(description_width='initia…"
      ]
     },
     "metadata": {},
     "output_type": "display_data"
    },
    {
     "name": "stdout",
     "output_type": "stream",
     "text": [
      "\n",
      "Trained_rUNet_pytorch_6positions_dataset_85epochs_0.75coeff_mask.pkl 85\n"
     ]
    },
    {
     "data": {
      "application/vnd.jupyter.widget-view+json": {
       "model_id": "73ab8dc6eaa04b318cc843728b5900d8",
       "version_major": 2,
       "version_minor": 0
      },
      "text/plain": [
       "HBox(children=(IntProgress(value=0, description='Batch', max=67, style=ProgressStyle(description_width='initia…"
      ]
     },
     "metadata": {},
     "output_type": "display_data"
    },
    {
     "name": "stdout",
     "output_type": "stream",
     "text": [
      "\n",
      "Trained_rUNet_pytorch_6positions_dataset_90epochs_0.75coeff_mask.pkl 90\n"
     ]
    },
    {
     "data": {
      "application/vnd.jupyter.widget-view+json": {
       "model_id": "2783b86d365b4daa8b5e02bda73d64d4",
       "version_major": 2,
       "version_minor": 0
      },
      "text/plain": [
       "HBox(children=(IntProgress(value=0, description='Batch', max=67, style=ProgressStyle(description_width='initia…"
      ]
     },
     "metadata": {},
     "output_type": "display_data"
    },
    {
     "name": "stdout",
     "output_type": "stream",
     "text": [
      "\n",
      "Trained_rUNet_pytorch_6positions_dataset_95epochs_0.75coeff_mask.pkl 95\n"
     ]
    },
    {
     "data": {
      "application/vnd.jupyter.widget-view+json": {
       "model_id": "9b416f5a42894330ae6e8039526b7e4c",
       "version_major": 2,
       "version_minor": 0
      },
      "text/plain": [
       "HBox(children=(IntProgress(value=0, description='Batch', max=67, style=ProgressStyle(description_width='initia…"
      ]
     },
     "metadata": {},
     "output_type": "display_data"
    },
    {
     "name": "stdout",
     "output_type": "stream",
     "text": [
      "\n",
      "Trained_rUNet_pytorch_6positions_dataset_100epochs_0.75coeff_mask.pkl 100\n"
     ]
    },
    {
     "data": {
      "application/vnd.jupyter.widget-view+json": {
       "model_id": "146d62c127e14799ac11b16baf6808cd",
       "version_major": 2,
       "version_minor": 0
      },
      "text/plain": [
       "HBox(children=(IntProgress(value=0, description='Batch', max=67, style=ProgressStyle(description_width='initia…"
      ]
     },
     "metadata": {},
     "output_type": "display_data"
    },
    {
     "name": "stdout",
     "output_type": "stream",
     "text": [
      "\n"
     ]
    },
    {
     "data": {
      "image/png": "[encoded data removed]",
      "text/plain": [
       "<Figure size 432x288 with 1 Axes>"
      ]
     },
     "metadata": {
      "needs_background": "light"
     },
     "output_type": "display_data"
    }
   ],
   "source": [
    "mse075, epochs = mse_vs_epochs(75)"
   ]
  },
  {
   "cell_type": "code",
   "execution_count": 24,
   "metadata": {
    "collapsed": true,
    "papermill": {
     "duration": 3154.428305,
     "end_time": "2019-11-08T11:30:02.430845",
     "exception": false,
     "start_time": "2019-11-08T10:37:28.002540",
     "status": "completed"
    },
    "tags": []
   },
   "outputs": [
    {
     "name": "stdout",
     "output_type": "stream",
     "text": [
      "Trained_rUNet_pytorch_6positions_dataset_55epochs_0.7coeff_mask.pkl 55\n"
     ]
    },
    {
     "data": {
      "application/vnd.jupyter.widget-view+json": {
       "model_id": "e2363474ccde4dfaad91463b2ccc1212",
       "version_major": 2,
       "version_minor": 0
      },
      "text/plain": [
       "HBox(children=(IntProgress(value=0, description='Batch', max=67, style=ProgressStyle(description_width='initia…"
      ]
     },
     "metadata": {},
     "output_type": "display_data"
    },
    {
     "name": "stdout",
     "output_type": "stream",
     "text": [
      "\n",
      "Trained_rUNet_pytorch_6positions_dataset_60epochs_0.7coeff_mask.pkl 60\n"
     ]
    },
    {
     "data": {
      "application/vnd.jupyter.widget-view+json": {
       "model_id": "6d42d642a6ad4505b397805b4c4e518e",
       "version_major": 2,
       "version_minor": 0
      },
      "text/plain": [
       "HBox(children=(IntProgress(value=0, description='Batch', max=67, style=ProgressStyle(description_width='initia…"
      ]
     },
     "metadata": {},
     "output_type": "display_data"
    },
    {
     "name": "stdout",
     "output_type": "stream",
     "text": [
      "\n",
      "Trained_rUNet_pytorch_6positions_dataset_65epochs_0.7coeff_mask.pkl 65\n"
     ]
    },
    {
     "data": {
      "application/vnd.jupyter.widget-view+json": {
       "model_id": "6150c643dcb04346a4a09b3287cddfe0",
       "version_major": 2,
       "version_minor": 0
      },
      "text/plain": [
       "HBox(children=(IntProgress(value=0, description='Batch', max=67, style=ProgressStyle(description_width='initia…"
      ]
     },
     "metadata": {},
     "output_type": "display_data"
    },
    {
     "name": "stdout",
     "output_type": "stream",
     "text": [
      "\n",
      "Trained_rUNet_pytorch_6positions_dataset_70epochs_0.7coeff_mask.pkl 70\n"
     ]
    },
    {
     "data": {
      "application/vnd.jupyter.widget-view+json": {
       "model_id": "788f14264e134b2cbaebd1399f32ccb2",
       "version_major": 2,
       "version_minor": 0
      },
      "text/plain": [
       "HBox(children=(IntProgress(value=0, description='Batch', max=67, style=ProgressStyle(description_width='initia…"
      ]
     },
     "metadata": {},
     "output_type": "display_data"
    },
    {
     "name": "stdout",
     "output_type": "stream",
     "text": [
      "\n",
      "Trained_rUNet_pytorch_6positions_dataset_75epochs_0.7coeff_mask.pkl 75\n"
     ]
    },
    {
     "data": {
      "application/vnd.jupyter.widget-view+json": {
       "model_id": "5612a4339ab549d6a334482ae2a09214",
       "version_major": 2,
       "version_minor": 0
      },
      "text/plain": [
       "HBox(children=(IntProgress(value=0, description='Batch', max=67, style=ProgressStyle(description_width='initia…"
      ]
     },
     "metadata": {},
     "output_type": "display_data"
    },
    {
     "name": "stdout",
     "output_type": "stream",
     "text": [
      "\n",
      "Trained_rUNet_pytorch_6positions_dataset_80epochs_0.7coeff_mask.pkl 80\n"
     ]
    },
    {
     "data": {
      "application/vnd.jupyter.widget-view+json": {
       "model_id": "a3889ef894914d868c7d54612c7ff18e",
       "version_major": 2,
       "version_minor": 0
      },
      "text/plain": [
       "HBox(children=(IntProgress(value=0, description='Batch', max=67, style=ProgressStyle(description_width='initia…"
      ]
     },
     "metadata": {},
     "output_type": "display_data"
    },
    {
     "name": "stdout",
     "output_type": "stream",
     "text": [
      "\n",
      "Trained_rUNet_pytorch_6positions_dataset_85epochs_0.7coeff_mask.pkl 85\n"
     ]
    },
    {
     "data": {
      "application/vnd.jupyter.widget-view+json": {
       "model_id": "eaf193a40b5b4cbf9a23e7aff008bbe0",
       "version_major": 2,
       "version_minor": 0
      },
      "text/plain": [
       "HBox(children=(IntProgress(value=0, description='Batch', max=67, style=ProgressStyle(description_width='initia…"
      ]
     },
     "metadata": {},
     "output_type": "display_data"
    },
    {
     "name": "stdout",
     "output_type": "stream",
     "text": [
      "\n",
      "Trained_rUNet_pytorch_6positions_dataset_90epochs_0.7coeff_mask.pkl 90\n"
     ]
    },
    {
     "data": {
      "application/vnd.jupyter.widget-view+json": {
       "model_id": "4a22e8a1cdf646568113a75c9f89cf51",
       "version_major": 2,
       "version_minor": 0
      },
      "text/plain": [
       "HBox(children=(IntProgress(value=0, description='Batch', max=67, style=ProgressStyle(description_width='initia…"
      ]
     },
     "metadata": {},
     "output_type": "display_data"
    },
    {
     "name": "stdout",
     "output_type": "stream",
     "text": [
      "\n",
      "Trained_rUNet_pytorch_6positions_dataset_95epochs_0.7coeff_mask.pkl 95\n"
     ]
    },
    {
     "data": {
      "application/vnd.jupyter.widget-view+json": {
       "model_id": "8415be45f26d418ca46c2a238b9fb42b",
       "version_major": 2,
       "version_minor": 0
      },
      "text/plain": [
       "HBox(children=(IntProgress(value=0, description='Batch', max=67, style=ProgressStyle(description_width='initia…"
      ]
     },
     "metadata": {},
     "output_type": "display_data"
    },
    {
     "name": "stdout",
     "output_type": "stream",
     "text": [
      "\n",
      "Trained_rUNet_pytorch_6positions_dataset_100epochs_0.7coeff_mask.pkl 100\n"
     ]
    },
    {
     "data": {
      "application/vnd.jupyter.widget-view+json": {
       "model_id": "0c1e4aa02b684d27b6fbc0fa40af2c8d",
       "version_major": 2,
       "version_minor": 0
      },
      "text/plain": [
       "HBox(children=(IntProgress(value=0, description='Batch', max=67, style=ProgressStyle(description_width='initia…"
      ]
     },
     "metadata": {},
     "output_type": "display_data"
    },
    {
     "name": "stdout",
     "output_type": "stream",
     "text": [
      "\n"
     ]
    },
    {
     "data": {
      "image/png": "[encoded data removed]",
      "text/plain": [
       "<Figure size 432x288 with 1 Axes>"
      ]
     },
     "metadata": {
      "needs_background": "light"
     },
     "output_type": "display_data"
    }
   ],
   "source": [
    "mse070, epochs = mse_vs_epochs(7)"
   ]
  },
  {
   "cell_type": "code",
   "execution_count": 27,
   "metadata": {
    "papermill": {
     "duration": null,
     "end_time": null,
     "exception": false,
     "start_time": "2019-11-08T11:30:02.506101",
     "status": "running"
    },
    "tags": []
   },
   "outputs": [
    {
     "name": "stdout",
     "output_type": "stream",
     "text": [
      "Trained_rUNet_pytorch_6positions_dataset_80epochs_0.6coeff_mask.pkl 80\n"
     ]
    },
    {
     "data": {
      "application/vnd.jupyter.widget-view+json": {
       "model_id": "6a73997c76f7488fb6f95fa6f0c94a91",
       "version_major": 2,
       "version_minor": 0
      },
      "text/plain": [
       "HBox(children=(IntProgress(value=0, description='Batch', max=44, style=ProgressStyle(description_width='initia…"
      ]
     },
     "metadata": {},
     "output_type": "display_data"
    },
    {
     "name": "stdout",
     "output_type": "stream",
     "text": [
      "\n",
      "Trained_rUNet_pytorch_6positions_dataset_90epochs_0.6coeff_mask.pkl 90\n"
     ]
    },
    {
     "data": {
      "application/vnd.jupyter.widget-view+json": {
       "model_id": "56fd5d8b268a438abb472b18fbd59bf7",
       "version_major": 2,
       "version_minor": 0
      },
      "text/plain": [
       "HBox(children=(IntProgress(value=0, description='Batch', max=44, style=ProgressStyle(description_width='initia…"
      ]
     },
     "metadata": {},
     "output_type": "display_data"
    },
    {
     "name": "stdout",
     "output_type": "stream",
     "text": [
      "\n",
      "Trained_rUNet_pytorch_6positions_dataset_100epochs_0.6coeff_mask.pkl 100\n"
     ]
    },
    {
     "data": {
      "application/vnd.jupyter.widget-view+json": {
       "model_id": "4122d7d8758242ec9a3e443c7eb82349",
       "version_major": 2,
       "version_minor": 0
      },
      "text/plain": [
       "HBox(children=(IntProgress(value=0, description='Batch', max=44, style=ProgressStyle(description_width='initia…"
      ]
     },
     "metadata": {},
     "output_type": "display_data"
    },
    {
     "name": "stdout",
     "output_type": "stream",
     "text": [
      "\n",
      "Trained_rUNet_pytorch_6positions_dataset_55epochs_0.6coeff_mask.pkl 55\n"
     ]
    },
    {
     "data": {
      "application/vnd.jupyter.widget-view+json": {
       "model_id": "6099553d150f4c5e923811dc28a795d2",
       "version_major": 2,
       "version_minor": 0
      },
      "text/plain": [
       "HBox(children=(IntProgress(value=0, description='Batch', max=44, style=ProgressStyle(description_width='initia…"
      ]
     },
     "metadata": {},
     "output_type": "display_data"
    },
    {
     "name": "stdout",
     "output_type": "stream",
     "text": [
      "\n",
      "Trained_rUNet_pytorch_6positions_dataset_60epochs_0.6coeff_mask.pkl 60\n"
     ]
    },
    {
     "data": {
      "application/vnd.jupyter.widget-view+json": {
       "model_id": "9697037a3b0b458c8c3f4747d882b5e3",
       "version_major": 2,
       "version_minor": 0
      },
      "text/plain": [
       "HBox(children=(IntProgress(value=0, description='Batch', max=44, style=ProgressStyle(description_width='initia…"
      ]
     },
     "metadata": {},
     "output_type": "display_data"
    },
    {
     "name": "stdout",
     "output_type": "stream",
     "text": [
      "\n",
      "Trained_rUNet_pytorch_6positions_dataset_65epochs_0.6coeff_mask.pkl 65\n"
     ]
    },
    {
     "data": {
      "application/vnd.jupyter.widget-view+json": {
       "model_id": "424d4bbb96e34c7c99cb860e3b17c163",
       "version_major": 2,
       "version_minor": 0
      },
      "text/plain": [
       "HBox(children=(IntProgress(value=0, description='Batch', max=44, style=ProgressStyle(description_width='initia…"
      ]
     },
     "metadata": {},
     "output_type": "display_data"
    },
    {
     "name": "stdout",
     "output_type": "stream",
     "text": [
      "\n",
      "Trained_rUNet_pytorch_6positions_dataset_70epochs_0.6coeff_mask.pkl 70\n"
     ]
    },
    {
     "data": {
      "application/vnd.jupyter.widget-view+json": {
       "model_id": "5ebcc04d6cca42b0996d7cc3f894b49e",
       "version_major": 2,
       "version_minor": 0
      },
      "text/plain": [
       "HBox(children=(IntProgress(value=0, description='Batch', max=44, style=ProgressStyle(description_width='initia…"
      ]
     },
     "metadata": {},
     "output_type": "display_data"
    },
    {
     "name": "stdout",
     "output_type": "stream",
     "text": [
      "\n",
      "Trained_rUNet_pytorch_6positions_dataset_75epochs_0.6coeff_mask.pkl 75\n"
     ]
    },
    {
     "data": {
      "application/vnd.jupyter.widget-view+json": {
       "model_id": "e6eb3664cc9a4855b5d16a15a1fb8040",
       "version_major": 2,
       "version_minor": 0
      },
      "text/plain": [
       "HBox(children=(IntProgress(value=0, description='Batch', max=44, style=ProgressStyle(description_width='initia…"
      ]
     },
     "metadata": {},
     "output_type": "display_data"
    },
    {
     "name": "stdout",
     "output_type": "stream",
     "text": [
      "\n",
      "Trained_rUNet_pytorch_6positions_dataset_85epochs_0.6coeff_mask.pkl 85\n"
     ]
    },
    {
     "data": {
      "application/vnd.jupyter.widget-view+json": {
       "model_id": "e31e7f5ec82e40c5888699c17da4d9b1",
       "version_major": 2,
       "version_minor": 0
      },
      "text/plain": [
       "HBox(children=(IntProgress(value=0, description='Batch', max=44, style=ProgressStyle(description_width='initia…"
      ]
     },
     "metadata": {},
     "output_type": "display_data"
    },
    {
     "name": "stdout",
     "output_type": "stream",
     "text": [
      "\n",
      "Trained_rUNet_pytorch_6positions_dataset_95epochs_0.6coeff_mask.pkl 95\n"
     ]
    },
    {
     "data": {
      "application/vnd.jupyter.widget-view+json": {
       "model_id": "7a7b26673fd64d2ebbac798b3d3dfe4a",
       "version_major": 2,
       "version_minor": 0
      },
      "text/plain": [
       "HBox(children=(IntProgress(value=0, description='Batch', max=44, style=ProgressStyle(description_width='initia…"
      ]
     },
     "metadata": {},
     "output_type": "display_data"
    },
    {
     "name": "stdout",
     "output_type": "stream",
     "text": [
      "\n"
     ]
    },
    {
     "data": {
      "image/png": "[encoded data removed]",
      "text/plain": [
       "<Figure size 432x288 with 1 Axes>"
      ]
     },
     "metadata": {
      "needs_background": "light"
     },
     "output_type": "display_data"
    }
   ],
   "source": [
    "mse060, epochs = mse_vs_epochs(6)"
   ]
  },
  {
   "cell_type": "code",
   "execution_count": 28,
   "metadata": {
    "papermill": {
     "duration": null,
     "end_time": null,
     "exception": null,
     "start_time": null,
     "status": "pending"
    },
    "tags": []
   },
   "outputs": [
    {
     "name": "stdout",
     "output_type": "stream",
     "text": [
      "Trained_rUNet_pytorch_6positions_dataset_60epochs_0.5coeff_mask.pkl 60\n"
     ]
    },
    {
     "data": {
      "application/vnd.jupyter.widget-view+json": {
       "model_id": "e9a60c49541247fa9050e6b690dedb6e",
       "version_major": 2,
       "version_minor": 0
      },
      "text/plain": [
       "HBox(children=(IntProgress(value=0, description='Batch', max=44, style=ProgressStyle(description_width='initia…"
      ]
     },
     "metadata": {},
     "output_type": "display_data"
    },
    {
     "name": "stdout",
     "output_type": "stream",
     "text": [
      "\n",
      "Trained_rUNet_pytorch_6positions_dataset_70epochs_0.5coeff_mask.pkl 70\n"
     ]
    },
    {
     "data": {
      "application/vnd.jupyter.widget-view+json": {
       "model_id": "713b1b6549d44c4f973ffd273c81dbca",
       "version_major": 2,
       "version_minor": 0
      },
      "text/plain": [
       "HBox(children=(IntProgress(value=0, description='Batch', max=44, style=ProgressStyle(description_width='initia…"
      ]
     },
     "metadata": {},
     "output_type": "display_data"
    },
    {
     "name": "stdout",
     "output_type": "stream",
     "text": [
      "\n",
      "Trained_rUNet_pytorch_6positions_dataset_80epochs_0.5coeff_mask.pkl 80\n"
     ]
    },
    {
     "data": {
      "application/vnd.jupyter.widget-view+json": {
       "model_id": "c1049f4ef01e431fba3340c01e27b0db",
       "version_major": 2,
       "version_minor": 0
      },
      "text/plain": [
       "HBox(children=(IntProgress(value=0, description='Batch', max=44, style=ProgressStyle(description_width='initia…"
      ]
     },
     "metadata": {},
     "output_type": "display_data"
    },
    {
     "name": "stdout",
     "output_type": "stream",
     "text": [
      "\n",
      "Trained_rUNet_pytorch_6positions_dataset_90epochs_0.5coeff_mask.pkl 90\n"
     ]
    },
    {
     "data": {
      "application/vnd.jupyter.widget-view+json": {
       "model_id": "feac7668f57b4d1c88ebec082acb2cf9",
       "version_major": 2,
       "version_minor": 0
      },
      "text/plain": [
       "HBox(children=(IntProgress(value=0, description='Batch', max=44, style=ProgressStyle(description_width='initia…"
      ]
     },
     "metadata": {},
     "output_type": "display_data"
    },
    {
     "name": "stdout",
     "output_type": "stream",
     "text": [
      "\n",
      "Trained_rUNet_pytorch_6positions_dataset_100epochs_0.5coeff_mask.pkl 100\n"
     ]
    },
    {
     "data": {
      "application/vnd.jupyter.widget-view+json": {
       "model_id": "15ceafeef088425db9248ffb1c5b1536",
       "version_major": 2,
       "version_minor": 0
      },
      "text/plain": [
       "HBox(children=(IntProgress(value=0, description='Batch', max=44, style=ProgressStyle(description_width='initia…"
      ]
     },
     "metadata": {},
     "output_type": "display_data"
    },
    {
     "name": "stdout",
     "output_type": "stream",
     "text": [
      "\n",
      "Trained_rUNet_pytorch_6positions_dataset_55epochs_0.5coeff_mask.pkl 55\n"
     ]
    },
    {
     "data": {
      "application/vnd.jupyter.widget-view+json": {
       "model_id": "79f962776f994831a1c657dd26228225",
       "version_major": 2,
       "version_minor": 0
      },
      "text/plain": [
       "HBox(children=(IntProgress(value=0, description='Batch', max=44, style=ProgressStyle(description_width='initia…"
      ]
     },
     "metadata": {},
     "output_type": "display_data"
    },
    {
     "name": "stdout",
     "output_type": "stream",
     "text": [
      "\n",
      "Trained_rUNet_pytorch_6positions_dataset_65epochs_0.5coeff_mask.pkl 65\n"
     ]
    },
    {
     "data": {
      "application/vnd.jupyter.widget-view+json": {
       "model_id": "48f64047688b4afe8f140869eae0e6fd",
       "version_major": 2,
       "version_minor": 0
      },
      "text/plain": [
       "HBox(children=(IntProgress(value=0, description='Batch', max=44, style=ProgressStyle(description_width='initia…"
      ]
     },
     "metadata": {},
     "output_type": "display_data"
    },
    {
     "name": "stdout",
     "output_type": "stream",
     "text": [
      "\n",
      "Trained_rUNet_pytorch_6positions_dataset_75epochs_0.5coeff_mask.pkl 75\n"
     ]
    },
    {
     "data": {
      "application/vnd.jupyter.widget-view+json": {
       "model_id": "65afa9db12214a7fb00f1d65f2f446b7",
       "version_major": 2,
       "version_minor": 0
      },
      "text/plain": [
       "HBox(children=(IntProgress(value=0, description='Batch', max=44, style=ProgressStyle(description_width='initia…"
      ]
     },
     "metadata": {},
     "output_type": "display_data"
    },
    {
     "name": "stdout",
     "output_type": "stream",
     "text": [
      "\n",
      "Trained_rUNet_pytorch_6positions_dataset_85epochs_0.5coeff_mask.pkl 85\n"
     ]
    },
    {
     "data": {
      "application/vnd.jupyter.widget-view+json": {
       "model_id": "0e4d8578c7fe4467aa318e19ec76f0ba",
       "version_major": 2,
       "version_minor": 0
      },
      "text/plain": [
       "HBox(children=(IntProgress(value=0, description='Batch', max=44, style=ProgressStyle(description_width='initia…"
      ]
     },
     "metadata": {},
     "output_type": "display_data"
    },
    {
     "name": "stdout",
     "output_type": "stream",
     "text": [
      "\n",
      "Trained_rUNet_pytorch_6positions_dataset_95epochs_0.5coeff_mask.pkl 95\n"
     ]
    },
    {
     "data": {
      "application/vnd.jupyter.widget-view+json": {
       "model_id": "ade59ffe43484bb69e454883bc150602",
       "version_major": 2,
       "version_minor": 0
      },
      "text/plain": [
       "HBox(children=(IntProgress(value=0, description='Batch', max=44, style=ProgressStyle(description_width='initia…"
      ]
     },
     "metadata": {},
     "output_type": "display_data"
    },
    {
     "name": "stdout",
     "output_type": "stream",
     "text": [
      "\n"
     ]
    },
    {
     "data": {
      "image/png": "[encoded data removed]",
      "text/plain": [
       "<Figure size 432x288 with 1 Axes>"
      ]
     },
     "metadata": {
      "needs_background": "light"
     },
     "output_type": "display_data"
    }
   ],
   "source": [
    "mse050, epochs = mse_vs_epochs(5)"
   ]
  },
  {
   "cell_type": "markdown",
   "metadata": {
    "papermill": {
     "duration": null,
     "end_time": null,
     "exception": null,
     "start_time": null,
     "status": "pending"
    },
    "tags": []
   },
   "source": [
    "fig1, ax1 = plt.subplots(figsize=(16,8))\n",
    "plt.title(\"Errors vs number of epochs - training on 6 positions\",size=16)\n",
    "ax1.plot(epochs, mse075, 's--', linewidth=1.5, c='blue',label='0.75 mask + 0.25 mse')\n",
    "ax1.plot(epochs, mse070,'s--', linewidth=1.5, c='k', label='0.70 mask + 0.30 mse')\n",
    "ax1.plot(epochs, mse060, 's--', linewidth=1.5, c='red', label='0.60 mask + 0.40 mse')\n",
    "ax1.plot(epochs, mse050, 's--', linewidth=1.5, c='green', label='0.50 mask + 0.50 mse')\n",
    "#ax1.plot(epochs, errors_250_4, 's--', linewidth=1.5, c='magenta', label='250 epochs_unseen')\n",
    "#ax1.plot(epochs, errors_300_4, 's--', linewidth=1.5, c='orange', label='300 epochs_unseen')\n",
    "\n",
    "ax1.set_ylabel(\"Mean Squared Error (MSE))\", size=15)\n",
    "#ax1.set_xticks(np.arange(1,36,1))#[1,2,3,4,10,15,20,25,30,35])\n",
    "ax1.set_xlabel(\"# epochs\", size=15)\n",
    "ax1.set_yscale('log')\n",
    "ax1.legend(loc='upper right')\n",
    "plt.show()"
   ]
  },
  {
   "cell_type": "code",
   "execution_count": null,
   "metadata": {
    "papermill": {
     "duration": null,
     "end_time": null,
     "exception": null,
     "start_time": null,
     "status": "pending"
    },
    "tags": []
   },
   "outputs": [],
   "source": [
    "data_loaders_mask, data_lengths_mask = define_dataset(root_folder, batch_size=2, excluded_list=excluded)"
   ]
  },
  {
   "cell_type": "code",
   "execution_count": null,
   "metadata": {
    "papermill": {
     "duration": null,
     "end_time": null,
     "exception": null,
     "start_time": null,
     "status": "pending"
    },
    "tags": []
   },
   "outputs": [],
   "source": [
    "def masks_vs_epochs(coeff):\n",
    "    f_list, epochs = get_fnames(coeff)\n",
    "    for fname, e in zip(f_list, epochs):\n",
    "        print(fname, e)\n",
    "        torch.cuda.empty_cache()\n",
    "        model= cUNet(out_size=1)\n",
    "        checkpoint = torch.load(os.path.join(saved_models, \n",
    "                                                      fname))['model_state_dict'];\n",
    "        model.load_state_dict(checkpoint)\n",
    "        inference_phase_rUNet_plot_notebook(model, data_loaders_mask, data_lengths_mask, batch_size=2,\n",
    "                                               stop=1, test=False)\n",
    "    return "
   ]
  },
  {
   "cell_type": "code",
   "execution_count": null,
   "metadata": {
    "papermill": {
     "duration": null,
     "end_time": null,
     "exception": null,
     "start_time": null,
     "status": "pending"
    },
    "tags": []
   },
   "outputs": [],
   "source": [
    "masks_vs_epochs(75)"
   ]
  },
  {
   "cell_type": "code",
   "execution_count": null,
   "metadata": {
    "papermill": {
     "duration": null,
     "end_time": null,
     "exception": null,
     "start_time": null,
     "status": "pending"
    },
    "tags": []
   },
   "outputs": [],
   "source": [
    "masks_vs_epochs(7)"
   ]
  },
  {
   "cell_type": "code",
   "execution_count": null,
   "metadata": {
    "papermill": {
     "duration": null,
     "end_time": null,
     "exception": null,
     "start_time": null,
     "status": "pending"
    },
    "tags": []
   },
   "outputs": [],
   "source": [
    "masks_vs_epochs(6)"
   ]
  },
  {
   "cell_type": "code",
   "execution_count": null,
   "metadata": {
    "papermill": {
     "duration": null,
     "end_time": null,
     "exception": null,
     "start_time": null,
     "status": "pending"
    },
    "tags": []
   },
   "outputs": [],
   "source": [
    "masks_vs_epochs(5)"
   ]
  },
  {
   "cell_type": "code",
   "execution_count": null,
   "metadata": {
    "papermill": {
     "duration": null,
     "end_time": null,
     "exception": null,
     "start_time": null,
     "status": "pending"
    },
    "tags": []
   },
   "outputs": [],
   "source": []
  }
 ],
 "metadata": {
  "celltoolbar": "Tags",
  "kernelspec": {
   "display_name": "Python 3.7 (ml)",
   "language": "python",
   "name": "mlearning"
  },
  "language_info": {
   "codemirror_mode": {
    "name": "ipython",
    "version": 3
   },
   "file_extension": ".py",
   "mimetype": "text/x-python",
   "name": "python",
   "nbconvert_exporter": "python",
   "pygments_lexer": "ipython3",
   "version": "3.7.3"
  },
  "papermill": {
   "duration": null,
   "end_time": null,
   "environment_variables": {},
   "exception": null,
   "input_path": "notebooks/Test_models_50-100_epochs_variable_coeff-test_unseen_data_parameterised.ipynb",
   "output_path": "notebooks/Test_models_50-100_epochs_variable_coeff-unseen_data_parameterised-out.ipynb",
   "parameters": {
    "distance": [
     2,
     4,
     10,
     20,
     25,
     35
    ],
    "saved_models": "/storage/yw18581/src/leaf_reco/saved_models/trained_6positions/"
   },
   "start_time": "2019-11-08T09:46:01.386004",
   "version": "1.2.1"
  }
 },
 "nbformat": 4,
 "nbformat_minor": 2
}
