{
 "cells": [
  {
   "cell_type": "code",
   "execution_count": 1,
   "metadata": {},
   "outputs": [],
   "source": [
    "IMG_WIDTH = 1400\n",
    "IMG_HEIGHT = 1400\n",
    "ROW_SLICE = slice(0, 1400)\n",
    "COL_SLICE = slice(1000, None)"
   ]
  },
  {
   "cell_type": "code",
   "execution_count": 2,
   "metadata": {},
   "outputs": [
    {
     "name": "stderr",
     "output_type": "stream",
     "text": [
      "Using TensorFlow backend.\n"
     ]
    }
   ],
   "source": [
    "import os\n",
    "import sys\n",
    "import numpy as np\n",
    "sys.path.append(\"../\")\n",
    "from matplotlib.image import imread\n",
    "import matplotlib.pyplot as plt\n",
    "import tensorflow as tf\n",
    "from UNet import get_unet"
   ]
  },
  {
   "cell_type": "code",
   "execution_count": 3,
   "metadata": {},
   "outputs": [],
   "source": [
    "data_dir = \"/storage/yw18581/data/\"\n",
    "data_folder = os.path.join(data_dir, 'train_validation_test')\n",
    "clean_dir = os.path.join(data_folder, 'clean_300')"
   ]
  },
  {
   "cell_type": "code",
   "execution_count": 4,
   "metadata": {},
   "outputs": [],
   "source": [
    "def inference_step(network_model, test_data_generator, predict_steps):\n",
    "\n",
    "    y_pred = list()\n",
    "\n",
    "    for _ in tqdm(range(predict_steps)):\n",
    "        X_batch, _ = next(test_data_generator)\n",
    "        Y_batch_pred = network_model.predict_on_batch(X_batch)\n",
    "        #print(Y_batch_pred.shape)\n",
    "        y_pred.append(Y_batch_pred)\n",
    "    y_pred = np.concatenate(y_pred, axis=0)\n",
    "\n",
    "    return y_pred"
   ]
  },
  {
   "cell_type": "code",
   "execution_count": 5,
   "metadata": {},
   "outputs": [],
   "source": [
    "CHECKPOINT_FOLDER_PATH = os.path.join(data_dir, 'trained_models')\n",
    "TASK_NAME = 'UNet_retrain_new_data_clean_300'\n",
    "TASK_FOLDER_PATH = os.path.join(CHECKPOINT_FOLDER_PATH, TASK_NAME)"
   ]
  },
  {
   "cell_type": "code",
   "execution_count": 6,
   "metadata": {},
   "outputs": [],
   "source": [
    "TRAINING_WEIGHTS_FILEPATH=os.path.join(TASK_FOLDER_PATH, 'retrained_UNet_2000_epochs_clean_300.hdf5')"
   ]
  },
  {
   "cell_type": "code",
   "execution_count": 7,
   "metadata": {},
   "outputs": [],
   "source": [
    "TRAINING_WEIGHTS_FILEPATH=os.path.join(TASK_FOLDER_PATH, 'retrained_UNet_1500_epochs_clean_300.hdf5')"
   ]
  },
  {
   "cell_type": "code",
   "execution_count": 7,
   "metadata": {},
   "outputs": [],
   "source": [
    "model1500 = get_unet()\n",
    "model1500.load_weights(TRAINING_WEIGHTS_FILEPATH)"
   ]
  },
  {
   "cell_type": "code",
   "execution_count": 8,
   "metadata": {},
   "outputs": [],
   "source": [
    "def import_test_data(d):\n",
    "    indices = np.load(os.path.join(TASK_FOLDER_PATH, \"train_val_test_indices_{}mm.npz\".format(d)))\n",
    "    Xy = np.load(os.path.join(clean_dir, \"Xy_{}mm_clean_300.npz\".format(d)))\n",
    "    test_indices = indices[\"test\"]\n",
    "    X = Xy[\"x\"]\n",
    "    y = Xy[\"y\"]\n",
    "    return X[test_indices],y[test_indices]"
   ]
  },
  {
   "cell_type": "code",
   "execution_count": 9,
   "metadata": {},
   "outputs": [],
   "source": [
    "X_10mm_test, y_10mm_test = import_test_data(10)"
   ]
  },
  {
   "cell_type": "code",
   "execution_count": 11,
   "metadata": {},
   "outputs": [
    {
     "data": {
      "text/plain": [
       "<matplotlib.image.AxesImage at 0x7f236833b5f8>"
      ]
     },
     "execution_count": 11,
     "metadata": {},
     "output_type": "execute_result"
    },
    {
     "data": {
      "image/png": "[encoded data removed]",
      "text/plain": [
       "<Figure size 432x288 with 1 Axes>"
      ]
     },
     "metadata": {
      "needs_background": "light"
     },
     "output_type": "display_data"
    }
   ],
   "source": [
    "plt.imshow(y_10mm_test[0][...,0])"
   ]
  },
  {
   "cell_type": "code",
   "execution_count": 12,
   "metadata": {},
   "outputs": [],
   "source": [
    "preds_10 = model1500.predict(X_10mm_test, batch_size=2)"
   ]
  },
  {
   "cell_type": "code",
   "execution_count": 15,
   "metadata": {},
   "outputs": [
    {
     "data": {
      "text/plain": [
       "<matplotlib.image.AxesImage at 0x7fd01dace240>"
      ]
     },
     "execution_count": 15,
     "metadata": {},
     "output_type": "execute_result"
    },
    {
     "data": {
      "image/png": "[encoded data removed]",
      "text/plain": [
       "<Figure size 432x288 with 1 Axes>"
      ]
     },
     "metadata": {
      "needs_background": "light"
     },
     "output_type": "display_data"
    }
   ],
   "source": [
    "plt.imshow(preds_10[10][...,0])"
   ]
  },
  {
   "cell_type": "code",
   "execution_count": 13,
   "metadata": {},
   "outputs": [
    {
     "data": {
      "text/plain": [
       "<matplotlib.image.AxesImage at 0x7f23682a82e8>"
      ]
     },
     "execution_count": 13,
     "metadata": {},
     "output_type": "execute_result"
    },
    {
     "data": {
      "image/png": "[encoded data removed]",
      "text/plain": [
       "<Figure size 432x288 with 1 Axes>"
      ]
     },
     "metadata": {
      "needs_background": "light"
     },
     "output_type": "display_data"
    }
   ],
   "source": [
    "plt.imshow(preds_10[10][...,0])"
   ]
  },
  {
   "cell_type": "code",
   "execution_count": 16,
   "metadata": {},
   "outputs": [],
   "source": [
    "import pickle"
   ]
  },
  {
   "cell_type": "code",
   "execution_count": 17,
   "metadata": {},
   "outputs": [
    {
     "data": {
      "text/plain": [
       "\u001b[0;31mSignature:\u001b[0m \u001b[0mpickle\u001b[0m\u001b[0;34m.\u001b[0m\u001b[0mdump\u001b[0m\u001b[0;34m(\u001b[0m\u001b[0mobj\u001b[0m\u001b[0;34m,\u001b[0m \u001b[0mfile\u001b[0m\u001b[0;34m,\u001b[0m \u001b[0mprotocol\u001b[0m\u001b[0;34m=\u001b[0m\u001b[0;32mNone\u001b[0m\u001b[0;34m,\u001b[0m \u001b[0;34m*\u001b[0m\u001b[0;34m,\u001b[0m \u001b[0mfix_imports\u001b[0m\u001b[0;34m=\u001b[0m\u001b[0;32mTrue\u001b[0m\u001b[0;34m)\u001b[0m\u001b[0;34m\u001b[0m\u001b[0;34m\u001b[0m\u001b[0m\n",
       "\u001b[0;31mDocstring:\u001b[0m\n",
       "Write a pickled representation of obj to the open file object file.\n",
       "\n",
       "This is equivalent to ``Pickler(file, protocol).dump(obj)``, but may\n",
       "be more efficient.\n",
       "\n",
       "The optional *protocol* argument tells the pickler to use the given\n",
       "protocol supported protocols are 0, 1, 2, 3 and 4.  The default\n",
       "protocol is 3; a backward-incompatible protocol designed for Python 3.\n",
       "\n",
       "Specifying a negative protocol version selects the highest protocol\n",
       "version supported.  The higher the protocol used, the more recent the\n",
       "version of Python needed to read the pickle produced.\n",
       "\n",
       "The *file* argument must have a write() method that accepts a single\n",
       "bytes argument.  It can thus be a file object opened for binary\n",
       "writing, an io.BytesIO instance, or any other custom object that meets\n",
       "this interface.\n",
       "\n",
       "If *fix_imports* is True and protocol is less than 3, pickle will try\n",
       "to map the new Python 3 names to the old module names used in Python\n",
       "2, so that the pickle data stream is readable with Python 2.\n",
       "\u001b[0;31mType:\u001b[0m      builtin_function_or_method\n"
      ]
     },
     "metadata": {},
     "output_type": "display_data"
    }
   ],
   "source": [
    "pickle.dump?"
   ]
  },
  {
   "cell_type": "code",
   "execution_count": null,
   "metadata": {},
   "outputs": [],
   "source": [
    "picklei"
   ]
  }
 ],
 "metadata": {
  "kernelspec": {
   "display_name": "Python 3",
   "language": "python",
   "name": "python3"
  },
  "language_info": {
   "codemirror_mode": {
    "name": "ipython",
    "version": 3
   },
   "file_extension": ".py",
   "mimetype": "text/x-python",
   "name": "python",
   "nbconvert_exporter": "python",
   "pygments_lexer": "ipython3",
   "version": "3.6.7"
  }
 },
 "nbformat": 4,
 "nbformat_minor": 2
}
