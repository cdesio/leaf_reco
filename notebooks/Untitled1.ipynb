{
 "cells": [
  {
   "cell_type": "code",
   "execution_count": 1,
   "metadata": {},
   "outputs": [],
   "source": [
    "import sys"
   ]
  },
  {
   "cell_type": "code",
   "execution_count": 2,
   "metadata": {},
   "outputs": [],
   "source": [
    "sys.path.append('../')"
   ]
  },
  {
   "cell_type": "code",
   "execution_count": 3,
   "metadata": {},
   "outputs": [],
   "source": [
    "from core.models import rUNet"
   ]
  },
  {
   "cell_type": "code",
   "execution_count": 4,
   "metadata": {},
   "outputs": [],
   "source": [
    "import torch"
   ]
  },
  {
   "cell_type": "code",
   "execution_count": 17,
   "metadata": {},
   "outputs": [],
   "source": [
    "model = rUNet(out_size=1)"
   ]
  },
  {
   "cell_type": "code",
   "execution_count": 7,
   "metadata": {},
   "outputs": [],
   "source": [
    "device = torch.device(\"cuda:{}\".format(0) if torch.cuda.is_available() else \"cpu\")"
   ]
  },
  {
   "cell_type": "code",
   "execution_count": 18,
   "metadata": {},
   "outputs": [
    {
     "data": {
      "text/plain": [
       "rUNet(\n",
       "  (conv_block_down1): Sequential(\n",
       "    (0): Conv2d(1, 16, kernel_size=(3, 3), stride=(1, 1), padding=(1, 1))\n",
       "    (1): ReLU(inplace=True)\n",
       "    (2): Conv2d(16, 16, kernel_size=(3, 3), stride=(1, 1), padding=(1, 1))\n",
       "    (3): ReLU(inplace=True)\n",
       "  )\n",
       "  (conv_block_down2): Sequential(\n",
       "    (0): Conv2d(16, 32, kernel_size=(3, 3), stride=(1, 1), padding=(1, 1))\n",
       "    (1): ReLU(inplace=True)\n",
       "    (2): Conv2d(32, 32, kernel_size=(3, 3), stride=(1, 1), padding=(1, 1))\n",
       "    (3): ReLU(inplace=True)\n",
       "  )\n",
       "  (conv_block_down3): Sequential(\n",
       "    (0): Conv2d(32, 64, kernel_size=(3, 3), stride=(1, 1), padding=(1, 1))\n",
       "    (1): ReLU(inplace=True)\n",
       "    (2): Conv2d(64, 64, kernel_size=(3, 3), stride=(1, 1), padding=(1, 1))\n",
       "    (3): ReLU(inplace=True)\n",
       "  )\n",
       "  (conv_block_down4): Sequential(\n",
       "    (0): Conv2d(64, 128, kernel_size=(3, 3), stride=(1, 1), padding=(1, 1))\n",
       "    (1): ReLU(inplace=True)\n",
       "    (2): Conv2d(128, 128, kernel_size=(3, 3), stride=(1, 1), padding=(1, 1))\n",
       "    (3): ReLU(inplace=True)\n",
       "  )\n",
       "  (conv_block_down5): Sequential(\n",
       "    (0): Conv2d(128, 256, kernel_size=(3, 3), stride=(1, 1), padding=(1, 1))\n",
       "    (1): ReLU(inplace=True)\n",
       "    (2): Conv2d(256, 256, kernel_size=(3, 3), stride=(1, 1), padding=(1, 1))\n",
       "    (3): ReLU(inplace=True)\n",
       "  )\n",
       "  (maxpool): MaxPool2d(kernel_size=2, stride=2, padding=0, dilation=1, ceil_mode=True)\n",
       "  (conv_transpose6): ConvTranspose2d(256, 128, kernel_size=(3, 3), stride=(2, 2), padding=(1, 1), output_padding=(1, 1))\n",
       "  (conv_block_up6): Sequential(\n",
       "    (0): Conv2d(256, 128, kernel_size=(3, 3), stride=(1, 1), padding=(1, 1))\n",
       "    (1): ReLU(inplace=True)\n",
       "    (2): Conv2d(128, 128, kernel_size=(3, 3), stride=(1, 1), padding=(1, 1))\n",
       "    (3): ReLU(inplace=True)\n",
       "  )\n",
       "  (conv_transpose7): ConvTranspose2d(128, 64, kernel_size=(3, 3), stride=(2, 2), padding=(1, 1), output_padding=(1, 1))\n",
       "  (conv_block_up7): Sequential(\n",
       "    (0): Conv2d(128, 64, kernel_size=(3, 3), stride=(1, 1), padding=(1, 1))\n",
       "    (1): ReLU(inplace=True)\n",
       "    (2): Conv2d(64, 64, kernel_size=(3, 3), stride=(1, 1), padding=(1, 1))\n",
       "    (3): ReLU(inplace=True)\n",
       "  )\n",
       "  (conv_transpose8): ConvTranspose2d(64, 32, kernel_size=(3, 3), stride=(2, 2), padding=(1, 1))\n",
       "  (conv_block_up8): Sequential(\n",
       "    (0): Conv2d(64, 32, kernel_size=(3, 3), stride=(1, 1), padding=(1, 1))\n",
       "    (1): ReLU(inplace=True)\n",
       "    (2): Conv2d(32, 32, kernel_size=(3, 3), stride=(1, 1), padding=(1, 1))\n",
       "    (3): ReLU(inplace=True)\n",
       "  )\n",
       "  (conv_transpose9): ConvTranspose2d(32, 16, kernel_size=(3, 3), stride=(2, 2), padding=(1, 1), output_padding=(1, 1))\n",
       "  (conv_block_up9): Sequential(\n",
       "    (0): Conv2d(32, 16, kernel_size=(3, 3), stride=(1, 1), padding=(1, 1))\n",
       "    (1): ReLU(inplace=True)\n",
       "    (2): Conv2d(16, 16, kernel_size=(3, 3), stride=(1, 1), padding=(1, 1))\n",
       "    (3): ReLU(inplace=True)\n",
       "  )\n",
       "  (fc_linear): Linear(in_features=123904, out_features=1, bias=True)\n",
       "  (conv_last): Sequential(\n",
       "    (0): Conv2d(16, 1, kernel_size=(1, 1), stride=(1, 1))\n",
       "    (1): Sigmoid()\n",
       "  )\n",
       ")"
      ]
     },
     "execution_count": 18,
     "metadata": {},
     "output_type": "execute_result"
    }
   ],
   "source": [
    "model.to(device)"
   ]
  },
  {
   "cell_type": "code",
   "execution_count": 13,
   "metadata": {},
   "outputs": [
    {
     "data": {
      "text/plain": [
       "<generator object Module.parameters at 0x7f1a72a81048>"
      ]
     },
     "execution_count": 13,
     "metadata": {},
     "output_type": "execute_result"
    }
   ],
   "source": [
    "model.parameters()"
   ]
  },
  {
   "cell_type": "code",
   "execution_count": null,
   "metadata": {},
   "outputs": [],
   "source": [
    "model.parameters"
   ]
  },
  {
   "cell_type": "code",
   "execution_count": 14,
   "metadata": {},
   "outputs": [
    {
     "name": "stdout",
     "output_type": "stream",
     "text": [
      "Collecting torchsummary\n",
      "  Downloading https://files.pythonhosted.org/packages/7d/18/1474d06f721b86e6a9b9d7392ad68bed711a02f3b61ac43f13c719db50a6/torchsummary-1.5.1-py3-none-any.whl\n",
      "Installing collected packages: torchsummary\n",
      "Successfully installed torchsummary-1.5.1\n"
     ]
    }
   ],
   "source": [
    "!pip install torchsummary"
   ]
  },
  {
   "cell_type": "code",
   "execution_count": 15,
   "metadata": {},
   "outputs": [],
   "source": [
    "from torchsummary import summary"
   ]
  },
  {
   "cell_type": "code",
   "execution_count": 20,
   "metadata": {},
   "outputs": [
    {
     "name": "stdout",
     "output_type": "stream",
     "text": [
      "----------------------------------------------------------------\n",
      "        Layer (type)               Output Shape         Param #\n",
      "================================================================\n",
      "            Conv2d-1         [-1, 16, 350, 350]             160\n",
      "              ReLU-2         [-1, 16, 350, 350]               0\n",
      "            Conv2d-3         [-1, 16, 350, 350]           2,320\n",
      "              ReLU-4         [-1, 16, 350, 350]               0\n",
      "         MaxPool2d-5         [-1, 16, 175, 175]               0\n",
      "            Conv2d-6         [-1, 32, 175, 175]           4,640\n",
      "              ReLU-7         [-1, 32, 175, 175]               0\n",
      "            Conv2d-8         [-1, 32, 175, 175]           9,248\n",
      "              ReLU-9         [-1, 32, 175, 175]               0\n",
      "        MaxPool2d-10           [-1, 32, 88, 88]               0\n",
      "           Conv2d-11           [-1, 64, 88, 88]          18,496\n",
      "             ReLU-12           [-1, 64, 88, 88]               0\n",
      "           Conv2d-13           [-1, 64, 88, 88]          36,928\n",
      "             ReLU-14           [-1, 64, 88, 88]               0\n",
      "        MaxPool2d-15           [-1, 64, 44, 44]               0\n",
      "           Conv2d-16          [-1, 128, 44, 44]          73,856\n",
      "             ReLU-17          [-1, 128, 44, 44]               0\n",
      "           Conv2d-18          [-1, 128, 44, 44]         147,584\n",
      "             ReLU-19          [-1, 128, 44, 44]               0\n",
      "        MaxPool2d-20          [-1, 128, 22, 22]               0\n",
      "           Conv2d-21          [-1, 256, 22, 22]         295,168\n",
      "             ReLU-22          [-1, 256, 22, 22]               0\n",
      "           Conv2d-23          [-1, 256, 22, 22]         590,080\n",
      "             ReLU-24          [-1, 256, 22, 22]               0\n",
      "           Linear-25                    [-1, 1]         123,905\n",
      "  ConvTranspose2d-26          [-1, 128, 44, 44]         295,040\n",
      "           Conv2d-27          [-1, 128, 44, 44]         295,040\n",
      "             ReLU-28          [-1, 128, 44, 44]               0\n",
      "           Conv2d-29          [-1, 128, 44, 44]         147,584\n",
      "             ReLU-30          [-1, 128, 44, 44]               0\n",
      "  ConvTranspose2d-31           [-1, 64, 88, 88]          73,792\n",
      "           Conv2d-32           [-1, 64, 88, 88]          73,792\n",
      "             ReLU-33           [-1, 64, 88, 88]               0\n",
      "           Conv2d-34           [-1, 64, 88, 88]          36,928\n",
      "             ReLU-35           [-1, 64, 88, 88]               0\n",
      "  ConvTranspose2d-36         [-1, 32, 175, 175]          18,464\n",
      "           Conv2d-37         [-1, 32, 175, 175]          18,464\n",
      "             ReLU-38         [-1, 32, 175, 175]               0\n",
      "           Conv2d-39         [-1, 32, 175, 175]           9,248\n",
      "             ReLU-40         [-1, 32, 175, 175]               0\n",
      "  ConvTranspose2d-41         [-1, 16, 350, 350]           4,624\n",
      "           Conv2d-42         [-1, 16, 350, 350]           4,624\n",
      "             ReLU-43         [-1, 16, 350, 350]               0\n",
      "           Conv2d-44         [-1, 16, 350, 350]           2,320\n",
      "             ReLU-45         [-1, 16, 350, 350]               0\n",
      "           Conv2d-46          [-1, 1, 350, 350]              17\n",
      "          Sigmoid-47          [-1, 1, 350, 350]               0\n",
      "================================================================\n",
      "Total params: 2,282,322\n",
      "Trainable params: 2,282,322\n",
      "Non-trainable params: 0\n",
      "----------------------------------------------------------------\n",
      "Input size (MB): 0.47\n",
      "Forward/backward pass size (MB): 265.62\n",
      "Params size (MB): 8.71\n",
      "Estimated Total Size (MB): 274.79\n",
      "----------------------------------------------------------------\n"
     ]
    }
   ],
   "source": [
    "summary(model, input_size=(1, 350, 350))"
   ]
  },
  {
   "cell_type": "code",
   "execution_count": null,
   "metadata": {},
   "outputs": [],
   "source": []
  }
 ],
 "metadata": {
  "kernelspec": {
   "display_name": "Python 3.7 (ml)",
   "language": "python",
   "name": "mlearning"
  },
  "language_info": {
   "codemirror_mode": {
    "name": "ipython",
    "version": 3
   },
   "file_extension": ".py",
   "mimetype": "text/x-python",
   "name": "python",
   "nbconvert_exporter": "python",
   "pygments_lexer": "ipython3",
   "version": "3.7.3"
  }
 },
 "nbformat": 4,
 "nbformat_minor": 2
}
