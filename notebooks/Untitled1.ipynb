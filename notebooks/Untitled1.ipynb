{
 "cells": [
  {
   "cell_type": "code",
   "execution_count": 1,
   "metadata": {},
   "outputs": [],
   "source": [
    "import numpy as np\n",
    "import pandas as pd"
   ]
  },
  {
   "cell_type": "code",
   "execution_count": 5,
   "metadata": {},
   "outputs": [],
   "source": [
    "data = np.load(\"/data/uob/rf_results_dataframe.npz\")[\"DF\"]"
   ]
  },
  {
   "cell_type": "code",
   "execution_count": 8,
   "metadata": {},
   "outputs": [
    {
     "data": {
      "text/plain": [
       "(400, 9)"
      ]
     },
     "execution_count": 8,
     "metadata": {},
     "output_type": "execute_result"
    }
   ],
   "source": [
    "data.shape"
   ]
  },
  {
   "cell_type": "code",
   "execution_count": 12,
   "metadata": {},
   "outputs": [],
   "source": [
    "df = pd.DataFrame.from_records(data)"
   ]
  },
  {
   "cell_type": "code",
   "execution_count": 13,
   "metadata": {},
   "outputs": [
    {
     "data": {
      "text/html": [
       "<div>\n",
       "<style scoped>\n",
       "    .dataframe tbody tr th:only-of-type {\n",
       "        vertical-align: middle;\n",
       "    }\n",
       "\n",
       "    .dataframe tbody tr th {\n",
       "        vertical-align: top;\n",
       "    }\n",
       "\n",
       "    .dataframe thead th {\n",
       "        text-align: right;\n",
       "    }\n",
       "</style>\n",
       "<table border=\"1\" class=\"dataframe\">\n",
       "  <thead>\n",
       "    <tr style=\"text-align: right;\">\n",
       "      <th></th>\n",
       "      <th>0</th>\n",
       "      <th>1</th>\n",
       "      <th>2</th>\n",
       "      <th>3</th>\n",
       "      <th>4</th>\n",
       "      <th>5</th>\n",
       "      <th>6</th>\n",
       "      <th>7</th>\n",
       "      <th>8</th>\n",
       "    </tr>\n",
       "  </thead>\n",
       "  <tbody>\n",
       "    <tr>\n",
       "      <th>count</th>\n",
       "      <td>400.000000</td>\n",
       "      <td>400.000000</td>\n",
       "      <td>400.000000</td>\n",
       "      <td>400.0</td>\n",
       "      <td>400.000000</td>\n",
       "      <td>400.000000</td>\n",
       "      <td>400.000000</td>\n",
       "      <td>400.000000</td>\n",
       "      <td>400.000000</td>\n",
       "    </tr>\n",
       "    <tr>\n",
       "      <th>mean</th>\n",
       "      <td>21.000000</td>\n",
       "      <td>105.000000</td>\n",
       "      <td>0.107306</td>\n",
       "      <td>1.0</td>\n",
       "      <td>0.544633</td>\n",
       "      <td>12.635107</td>\n",
       "      <td>8.971863</td>\n",
       "      <td>26.077353</td>\n",
       "      <td>101.514220</td>\n",
       "    </tr>\n",
       "    <tr>\n",
       "      <th>std</th>\n",
       "      <td>11.547005</td>\n",
       "      <td>57.735027</td>\n",
       "      <td>0.056830</td>\n",
       "      <td>0.0</td>\n",
       "      <td>0.082216</td>\n",
       "      <td>18.154453</td>\n",
       "      <td>5.582123</td>\n",
       "      <td>0.353943</td>\n",
       "      <td>0.281610</td>\n",
       "    </tr>\n",
       "    <tr>\n",
       "      <th>min</th>\n",
       "      <td>2.000000</td>\n",
       "      <td>10.000000</td>\n",
       "      <td>0.043904</td>\n",
       "      <td>1.0</td>\n",
       "      <td>0.490000</td>\n",
       "      <td>1.219375</td>\n",
       "      <td>4.892707</td>\n",
       "      <td>25.758102</td>\n",
       "      <td>100.687500</td>\n",
       "    </tr>\n",
       "    <tr>\n",
       "      <th>25%</th>\n",
       "      <td>11.500000</td>\n",
       "      <td>57.500000</td>\n",
       "      <td>0.062596</td>\n",
       "      <td>1.0</td>\n",
       "      <td>0.514832</td>\n",
       "      <td>4.882721</td>\n",
       "      <td>6.183061</td>\n",
       "      <td>25.808542</td>\n",
       "      <td>101.488607</td>\n",
       "    </tr>\n",
       "    <tr>\n",
       "      <th>50%</th>\n",
       "      <td>21.000000</td>\n",
       "      <td>105.000000</td>\n",
       "      <td>0.095195</td>\n",
       "      <td>1.0</td>\n",
       "      <td>0.522017</td>\n",
       "      <td>7.523412</td>\n",
       "      <td>6.943738</td>\n",
       "      <td>25.942053</td>\n",
       "      <td>101.520289</td>\n",
       "    </tr>\n",
       "    <tr>\n",
       "      <th>75%</th>\n",
       "      <td>30.500000</td>\n",
       "      <td>152.500000</td>\n",
       "      <td>0.140604</td>\n",
       "      <td>1.0</td>\n",
       "      <td>0.529507</td>\n",
       "      <td>11.230249</td>\n",
       "      <td>8.118957</td>\n",
       "      <td>26.182969</td>\n",
       "      <td>101.639847</td>\n",
       "    </tr>\n",
       "    <tr>\n",
       "      <th>max</th>\n",
       "      <td>40.000000</td>\n",
       "      <td>200.000000</td>\n",
       "      <td>0.276042</td>\n",
       "      <td>1.0</td>\n",
       "      <td>0.880000</td>\n",
       "      <td>83.500000</td>\n",
       "      <td>24.687500</td>\n",
       "      <td>27.187500</td>\n",
       "      <td>101.984375</td>\n",
       "    </tr>\n",
       "  </tbody>\n",
       "</table>\n",
       "</div>"
      ],
      "text/plain": [
       "                0           1           2      3           4           5  \\\n",
       "count  400.000000  400.000000  400.000000  400.0  400.000000  400.000000   \n",
       "mean    21.000000  105.000000    0.107306    1.0    0.544633   12.635107   \n",
       "std     11.547005   57.735027    0.056830    0.0    0.082216   18.154453   \n",
       "min      2.000000   10.000000    0.043904    1.0    0.490000    1.219375   \n",
       "25%     11.500000   57.500000    0.062596    1.0    0.514832    4.882721   \n",
       "50%     21.000000  105.000000    0.095195    1.0    0.522017    7.523412   \n",
       "75%     30.500000  152.500000    0.140604    1.0    0.529507   11.230249   \n",
       "max     40.000000  200.000000    0.276042    1.0    0.880000   83.500000   \n",
       "\n",
       "                6           7           8  \n",
       "count  400.000000  400.000000  400.000000  \n",
       "mean     8.971863   26.077353  101.514220  \n",
       "std      5.582123    0.353943    0.281610  \n",
       "min      4.892707   25.758102  100.687500  \n",
       "25%      6.183061   25.808542  101.488607  \n",
       "50%      6.943738   25.942053  101.520289  \n",
       "75%      8.118957   26.182969  101.639847  \n",
       "max     24.687500   27.187500  101.984375  "
      ]
     },
     "execution_count": 13,
     "metadata": {},
     "output_type": "execute_result"
    }
   ],
   "source": [
    "df.describe()"
   ]
  },
  {
   "cell_type": "code",
   "execution_count": null,
   "metadata": {},
   "outputs": [],
   "source": []
  }
 ],
 "metadata": {
  "kernelspec": {
   "display_name": "Python 3",
   "language": "python",
   "name": "python3"
  },
  "language_info": {
   "codemirror_mode": {
    "name": "ipython",
    "version": 3
   },
   "file_extension": ".py",
   "mimetype": "text/x-python",
   "name": "python",
   "nbconvert_exporter": "python",
   "pygments_lexer": "ipython3",
   "version": "3.6.8"
  }
 },
 "nbformat": 4,
 "nbformat_minor": 2
}
