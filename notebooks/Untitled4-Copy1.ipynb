{
 "cells": [
  {
   "cell_type": "code",
   "execution_count": 279,
   "metadata": {},
   "outputs": [],
   "source": [
    "import numpy as np\n",
    "from sklearn.externals import joblib\n",
    "from sklearn.ensemble import RandomForestRegressor\n",
    "import os\n",
    "from sklearn.metrics import mean_squared_error, mean_absolute_error, r2_score\n",
    "import matplotlib.pyplot as plt"
   ]
  },
  {
   "cell_type": "code",
   "execution_count": 2,
   "metadata": {},
   "outputs": [],
   "source": [
    "data_dir = '/storage/yw18581/data/'\n",
    "data_folder = os.path.join(data_dir, 'train_validation_test')"
   ]
  },
  {
   "cell_type": "code",
   "execution_count": 3,
   "metadata": {},
   "outputs": [],
   "source": [
    "X_train = np.load(os.path.join(data_folder, 'Xy_train_strat_dist.npz'))[\"y\"]\n",
    "y_train = np.load(os.path.join(data_folder, 'Xy_train_strat_dist.npz'))[\"dist\"]"
   ]
  },
  {
   "cell_type": "code",
   "execution_count": 4,
   "metadata": {},
   "outputs": [],
   "source": [
    "X_test = np.load(os.path.join(data_folder, 'Xy_test_strat_dist.npz'))[\"y\"]\n",
    "y_test = np.load(os.path.join(data_folder, 'Xy_test_strat_dist.npz'))[\"dist\"]"
   ]
  },
  {
   "cell_type": "code",
   "execution_count": 5,
   "metadata": {},
   "outputs": [
    {
     "data": {
      "text/plain": [
       "array([ 4, 25,  4,  2, 25,  2, 10, 10,  2, 25,  2,  4,  2, 25, 25,  2, 25,\n",
       "        2, 25,  2,  4,  2, 10,  4,  2,  2, 25,  2,  4,  4, 10,  2, 10, 25,\n",
       "        2,  2, 25, 10, 10,  2,  4,  2,  4,  4,  2,  4, 10,  2,  4, 10, 10,\n",
       "       25,  2,  4, 25, 25, 25, 25,  4,  4, 25,  4, 10,  4,  4, 10, 25,  4,\n",
       "        4, 10,  2,  4, 10, 25,  2, 25,  2,  4,  4, 10, 25,  2,  4,  4, 10,\n",
       "        4, 25, 25,  4,  2, 10, 10, 10, 10,  2, 25,  4, 25,  4, 25, 10, 10,\n",
       "       10, 10, 10, 25, 25, 25,  4,  4,  2,  2, 10,  2, 25,  2,  2,  2, 10,\n",
       "        2,  4,  4,  2, 25, 25, 25, 25,  4,  2, 25,  4, 10, 10,  4, 25,  2,\n",
       "       10,  2, 25,  2,  2, 10, 25,  2,  4, 10,  2, 25,  2, 10, 10,  4, 25,\n",
       "        4, 10, 25, 25,  2,  2, 10,  2, 25, 25, 10, 10,  2,  2,  4,  4,  2,\n",
       "       10,  2,  4,  2,  4, 25, 25, 25, 25, 25, 25,  2,  2, 10,  2, 10,  2,\n",
       "        2, 25,  2, 10,  2,  2, 10,  2,  4, 10, 25,  4, 25,  2, 25, 10, 10,\n",
       "        2,  4, 25, 10, 25,  2,  2,  4,  2,  4, 10,  4,  4, 10,  4, 25, 10,\n",
       "       10, 10,  4, 25,  2, 10,  2, 10,  4,  2, 10,  2,  4, 25, 10, 10, 25,\n",
       "        2, 25,  4, 10,  2, 25, 10, 25,  2,  4, 10,  2,  4,  4, 25, 10, 25,\n",
       "        4, 25, 25, 25, 25, 25, 10, 10,  4, 10,  2,  2,  4, 10,  4,  2, 25,\n",
       "        2,  4, 25,  2, 25,  2,  2,  2, 25, 10,  2,  4,  2, 25,  4, 25,  4,\n",
       "        2, 10, 10,  4,  4, 25, 25,  4,  2,  4, 25,  2, 10, 25, 25, 25, 10,\n",
       "        4, 25,  4,  4, 25, 10, 25,  2, 10,  2, 25,  4,  4, 25,  4, 25,  4,\n",
       "        2,  2,  4, 25, 25, 25, 25,  4, 10, 25,  2, 25, 25, 10, 25,  2, 25,\n",
       "       10, 10,  2, 10, 10,  4, 10, 25, 10,  4,  4,  4, 25,  4, 10,  2, 10,\n",
       "       25, 25, 25, 10,  4, 25,  2,  4, 25, 25,  4, 25,  2,  4,  2,  4, 25,\n",
       "       10, 10, 25,  4, 25,  2,  2,  4, 10, 25, 10, 25,  4,  2, 10, 25,  2,\n",
       "       25,  4, 10,  2,  2,  4,  2,  4, 10, 10, 10, 10, 25,  4, 25,  4, 25,\n",
       "        2, 25,  4,  2,  4,  2, 25, 10, 25,  2,  4,  4, 10,  4, 10,  4, 10,\n",
       "       10, 25, 10,  4,  4,  2,  4, 10,  4,  4, 25,  4, 10, 10,  4, 10, 10,\n",
       "        2,  2,  2,  2,  2,  2,  2, 25, 10, 10, 10, 25, 10,  2,  2,  2, 10,\n",
       "       25, 10,  4, 10,  4, 10,  2,  2, 25,  2, 25, 10,  2, 25, 25,  2,  4,\n",
       "        2,  4, 10,  4, 10, 25,  2,  4,  2,  4, 25,  2,  2, 25, 10, 10, 10,\n",
       "       25, 10, 25,  2, 10, 10, 10, 10,  4,  2,  2, 10, 25, 25,  2,  2, 25,\n",
       "        4,  4,  4,  4, 25, 25, 10,  2,  4, 10, 10,  4, 25,  4,  4,  2, 10,\n",
       "        2, 25,  4, 10,  4,  4, 10, 25, 25, 10,  2, 10, 25, 10,  2,  2, 10,\n",
       "        4, 25,  2, 10,  4, 10, 10, 25, 10,  2, 25, 25,  2,  4, 10,  4,  4,\n",
       "        2,  4,  2, 25,  2, 25, 25,  2, 10,  2, 10, 10, 25, 10, 10,  2, 10,\n",
       "       10, 25, 10, 10,  4,  4, 25,  2, 25, 25,  4, 25, 10, 25,  2,  4, 10,\n",
       "        2, 25,  2,  4,  2, 25,  2, 25,  4, 10,  4,  4, 25, 25,  2,  4, 25,\n",
       "       10, 10,  2,  4, 10, 10, 10,  4,  2, 25,  4,  4,  2,  4, 10,  2, 25,\n",
       "        2,  2,  2,  4, 10,  4,  4, 10, 10,  2,  2,  4,  4,  4, 10,  2, 10,\n",
       "        4,  4,  4,  4,  4,  2,  2, 10,  4,  4, 25, 25,  4,  2,  2,  4, 25,\n",
       "       10, 25,  4, 10, 25,  2, 25,  2,  4,  4, 10, 25, 25, 25, 10, 25,  4,\n",
       "        4,  2, 10, 10,  4, 25,  4, 10,  4, 10, 25, 10, 25,  4,  4, 25,  4,\n",
       "        2,  4, 25, 10, 10,  4, 10, 25,  4, 10,  2, 10, 10,  2,  2,  2,  2,\n",
       "       25,  4,  2, 25, 25,  4, 10, 25,  2,  2,  2,  2,  4, 10,  4, 25,  4,\n",
       "        2,  4,  2,  2,  4,  4, 10, 10, 10,  4,  2, 10,  4,  4,  2, 25, 10,\n",
       "       25,  2,  4, 10, 10, 25, 10, 10, 25,  2,  4, 10, 25,  2,  4,  2, 10,\n",
       "       25, 10, 25])"
      ]
     },
     "execution_count": 5,
     "metadata": {},
     "output_type": "execute_result"
    }
   ],
   "source": [
    "y_train"
   ]
  },
  {
   "cell_type": "code",
   "execution_count": 6,
   "metadata": {},
   "outputs": [],
   "source": [
    "def cut_X(arr, reshape = None):\n",
    "    x_cut = arr[:,960:1300,600:]\n",
    "    if reshape:\n",
    "        if len(x_cut.shape)>3:\n",
    "            x_cut = x_cut[...,0]\n",
    "            x_cut_out = x_cut.reshape(x_cut.shape[0],x_cut.shape[1]*x_cut.shape[2])\n",
    "    else:\n",
    "        x_cut_out = x_cut\n",
    "    return x_cut_out\n",
    "\n",
    "def reshape_RF(arr):\n",
    "    arr_RF = arr.reshape((arr.shape[0], arr.shape[1]*arr.shape[2]))\n",
    "    return arr_RF"
   ]
  },
  {
   "cell_type": "code",
   "execution_count": 7,
   "metadata": {},
   "outputs": [],
   "source": [
    "X_1mm = np.load(os.path.join(data_folder, \"Xy_1mm.npz\"))[\"y\"]\n",
    "y_1mm = np.load(os.path.join(data_folder, \"Xy_1mm.npz\"))[\"dist\"]\n",
    "\n",
    "X_3mm = np.load(os.path.join(data_folder, \"Xy_3mm.npz\"))[\"y\"]\n",
    "y_3mm = np.load(os.path.join(data_folder, \"Xy_3mm.npz\"))[\"dist\"]"
   ]
  },
  {
   "cell_type": "code",
   "execution_count": 8,
   "metadata": {},
   "outputs": [],
   "source": [
    "X_15mm = np.load(os.path.join(data_folder, \"Xy_15mm.npz\"))[\"y\"]\n",
    "y_15mm = np.load(os.path.join(data_folder, \"Xy_15mm.npz\"))[\"dist\"]\n",
    "\n",
    "X_20mm = np.load(os.path.join(data_folder, \"Xy_20mm.npz\"))[\"y\"]\n",
    "y_20mm = np.load(os.path.join(data_folder, \"Xy_20mm.npz\"))[\"dist\"]\n",
    "\n"
   ]
  },
  {
   "cell_type": "code",
   "execution_count": 9,
   "metadata": {},
   "outputs": [],
   "source": [
    "X_train_cut = cut_X(X_train)\n",
    "X_train_RF = reshape_RF(X_train_cut)\n",
    "\n",
    "X_test_cut = cut_X(X_test)\n",
    "X_test_RF = reshape_RF(X_test_cut)\n",
    "\n"
   ]
  },
  {
   "cell_type": "code",
   "execution_count": 10,
   "metadata": {},
   "outputs": [],
   "source": [
    "\n",
    "X_1mm_cut = cut_X(X_1mm)\n",
    "X_1mm_RF = reshape_RF(X_1mm_cut)\n",
    "\n",
    "X_3mm_cut = cut_X(X_3mm)\n",
    "X_3mm_RF = reshape_RF(X_3mm_cut)\n",
    "\n",
    "X_15mm_cut = cut_X(X_15mm)\n",
    "X_15mm_RF = reshape_RF(X_15mm_cut)\n",
    "\n",
    "X_20mm_cut = cut_X(X_20mm)\n",
    "X_20mm_RF = reshape_RF(X_20mm_cut)\n"
   ]
  },
  {
   "cell_type": "code",
   "execution_count": 11,
   "metadata": {},
   "outputs": [],
   "source": [
    "rf = joblib.load(os.path.join(data_dir,\"trained_models\",\"Leaf_position_regression\",\"leaf_regression_RF_30est_8depth.pkl\"))"
   ]
  },
  {
   "cell_type": "code",
   "execution_count": 12,
   "metadata": {},
   "outputs": [],
   "source": [
    "preds_15mm = rf.predict(X_15mm_RF)"
   ]
  },
  {
   "cell_type": "code",
   "execution_count": 13,
   "metadata": {},
   "outputs": [
    {
     "data": {
      "text/plain": [
       "0.14568148148148144"
      ]
     },
     "execution_count": 13,
     "metadata": {},
     "output_type": "execute_result"
    }
   ],
   "source": [
    "mean_squared_error(y_15mm, preds_15mm)"
   ]
  },
  {
   "cell_type": "code",
   "execution_count": 14,
   "metadata": {},
   "outputs": [],
   "source": [
    "preds_1mm = rf.predict(X_1mm_RF)"
   ]
  },
  {
   "cell_type": "code",
   "execution_count": 15,
   "metadata": {},
   "outputs": [
    {
     "data": {
      "text/plain": [
       "1.0"
      ]
     },
     "execution_count": 15,
     "metadata": {},
     "output_type": "execute_result"
    }
   ],
   "source": [
    "mean_squared_error(y_1mm, preds_1mm)"
   ]
  },
  {
   "cell_type": "code",
   "execution_count": 16,
   "metadata": {},
   "outputs": [],
   "source": [
    "preds_3mm = rf.predict(X_3mm_RF)"
   ]
  },
  {
   "cell_type": "code",
   "execution_count": 17,
   "metadata": {},
   "outputs": [
    {
     "data": {
      "text/plain": [
       "0.49333333333333335"
      ]
     },
     "execution_count": 17,
     "metadata": {},
     "output_type": "execute_result"
    }
   ],
   "source": [
    "mean_squared_error(y_3mm, preds_3mm)"
   ]
  },
  {
   "cell_type": "code",
   "execution_count": 18,
   "metadata": {},
   "outputs": [],
   "source": [
    "preds_20mm = rf.predict(X_20mm_RF)"
   ]
  },
  {
   "cell_type": "code",
   "execution_count": 19,
   "metadata": {},
   "outputs": [
    {
     "data": {
      "text/plain": [
       "1.1747333333333332"
      ]
     },
     "execution_count": 19,
     "metadata": {},
     "output_type": "execute_result"
    }
   ],
   "source": [
    "mean_squared_error(y_20mm, preds_20mm)"
   ]
  },
  {
   "cell_type": "code",
   "execution_count": 20,
   "metadata": {},
   "outputs": [
    {
     "data": {
      "text/plain": [
       "array([18.5, 18.5, 19. , 21. , 20.5, 20. , 19. , 19.5, 18. , 18.5, 20. ,\n",
       "       21. , 20. , 21. , 19. , 19. , 20.5, 20. , 19. , 18.3, 20.5, 21.5,\n",
       "       21.5, 19. , 18. , 18. , 19.5, 20.5, 21. , 18.5, 19. , 19.5, 21.5,\n",
       "       19. , 20. , 19.5, 22. , 21. , 19.8, 18.5, 21. , 19. , 19.5, 20. ,\n",
       "       19. , 18.5, 21.5, 20.5, 19.1, 18.5, 22. , 19. , 20. , 19.5, 18.5,\n",
       "       19.5, 20. , 19.5, 19. , 18.5, 19.5, 20.5, 20.5, 19. , 18.5, 20. ,\n",
       "       21. , 19. , 21. , 18.5, 19.5, 21. , 21.5, 18.5, 19. , 21.5, 19.5,\n",
       "       20. , 21. , 18.5, 19.5, 21. , 19. , 18.5, 19. , 20.5, 19. , 18.5,\n",
       "       21. , 19. , 18.5, 20.6, 20.5, 19.3, 19. , 20. , 19.5, 19. , 19.5,\n",
       "       19. , 19.5, 20. , 20.6, 18. , 19. , 19.5, 20. , 19. , 18.5, 19.5,\n",
       "       20. , 19.5, 19.5, 21. , 20. , 18. , 21.5, 20. , 18.5, 17.5, 19.5,\n",
       "       20. , 20.5, 20. , 20. , 19. , 19. , 21. , 20. , 19. , 21.5, 20. ,\n",
       "       19.5, 21.5, 18.5, 18.5, 22. , 22. , 19. , 19. , 19.5, 21. , 19. ,\n",
       "       18.8, 19.3, 19.5, 21.5, 19.5, 21.5, 19. , 18.5, 21.5, 21.3, 19. ,\n",
       "       18.5, 18.5, 22. , 19.5, 18.5, 18.5, 20. , 22. , 21. , 20. , 19. ,\n",
       "       20.5, 20. , 20.5, 19.5, 18.5, 19. , 20. , 20.5, 18.5, 20.3, 21.5,\n",
       "       20. , 20.5, 18. , 19.5, 20. , 19.5, 19. , 19. , 19.5, 20. , 20.8,\n",
       "       20. , 18.5, 18.5, 20.5, 21. , 19.5, 19.5, 18. , 20. , 21. , 20. ,\n",
       "       18.5, 19. , 20. , 19.5, 21. , 20. , 18.8, 22. , 20. , 18.5, 18. ,\n",
       "       20. , 18.5, 19.5, 21. , 19. , 19.5, 19. , 22. , 19.5, 18. , 20.5,\n",
       "       20.5, 19. , 19.5, 21.5, 18.5, 19. , 19. , 18.5, 18.5, 19.5, 18.5,\n",
       "       21.5, 21. , 20.5, 20. , 19.5, 21.5, 21. , 18.5, 18.5, 21. , 19. ,\n",
       "       19.5, 18.5, 18. , 18.5, 21. , 21.5, 18. , 18.5, 19. , 21. , 20.5,\n",
       "       19. , 19.5, 19.5, 21. , 19. , 19.5, 19. , 20.5, 19.5, 19.5, 19. ,\n",
       "       18.5, 18.5, 19. , 20. , 18.5, 18.5, 19.5, 20. , 19. , 19.5, 20. ,\n",
       "       20.5, 21. , 20. , 20. , 19.5, 20.5, 20. , 19.5, 18. , 18.5, 18.5,\n",
       "       19.5, 20.5, 20.5, 18.5, 21. , 21.5, 20.3, 20. , 19.5, 21. , 20. ,\n",
       "       18.5, 18.5, 17.8])"
      ]
     },
     "execution_count": 20,
     "metadata": {},
     "output_type": "execute_result"
    }
   ],
   "source": [
    "preds_20mm"
   ]
  },
  {
   "cell_type": "code",
   "execution_count": 32,
   "metadata": {},
   "outputs": [],
   "source": [
    "preds_20_round = np.round(preds_20mm - 0.05)"
   ]
  },
  {
   "cell_type": "code",
   "execution_count": 33,
   "metadata": {},
   "outputs": [
    {
     "data": {
      "text/plain": [
       "1.51"
      ]
     },
     "execution_count": 33,
     "metadata": {},
     "output_type": "execute_result"
    }
   ],
   "source": [
    "mean_squared_error(y_20mm, preds_20_round)"
   ]
  },
  {
   "cell_type": "code",
   "execution_count": 34,
   "metadata": {},
   "outputs": [
    {
     "data": {
      "text/plain": [
       "array([18., 18., 19., 21., 20., 20., 19., 19., 18., 18., 20., 21., 20.,\n",
       "       21., 19., 19., 20., 20., 19., 18., 20., 21., 21., 19., 18., 18.,\n",
       "       19., 20., 21., 18., 19., 19., 21., 19., 20., 19., 22., 21., 20.,\n",
       "       18., 21., 19., 19., 20., 19., 18., 21., 20., 19., 18., 22., 19.,\n",
       "       20., 19., 18., 19., 20., 19., 19., 18., 19., 20., 20., 19., 18.,\n",
       "       20., 21., 19., 21., 18., 19., 21., 21., 18., 19., 21., 19., 20.,\n",
       "       21., 18., 19., 21., 19., 18., 19., 20., 19., 18., 21., 19., 18.,\n",
       "       21., 20., 19., 19., 20., 19., 19., 19., 19., 19., 20., 21., 18.,\n",
       "       19., 19., 20., 19., 18., 19., 20., 19., 19., 21., 20., 18., 21.,\n",
       "       20., 18., 17., 19., 20., 20., 20., 20., 19., 19., 21., 20., 19.,\n",
       "       21., 20., 19., 21., 18., 18., 22., 22., 19., 19., 19., 21., 19.,\n",
       "       19., 19., 19., 21., 19., 21., 19., 18., 21., 21., 19., 18., 18.,\n",
       "       22., 19., 18., 18., 20., 22., 21., 20., 19., 20., 20., 20., 19.,\n",
       "       18., 19., 20., 20., 18., 20., 21., 20., 20., 18., 19., 20., 19.,\n",
       "       19., 19., 19., 20., 21., 20., 18., 18., 20., 21., 19., 19., 18.,\n",
       "       20., 21., 20., 18., 19., 20., 19., 21., 20., 19., 22., 20., 18.,\n",
       "       18., 20., 18., 19., 21., 19., 19., 19., 22., 19., 18., 20., 20.,\n",
       "       19., 19., 21., 18., 19., 19., 18., 18., 19., 18., 21., 21., 20.,\n",
       "       20., 19., 21., 21., 18., 18., 21., 19., 19., 18., 18., 18., 21.,\n",
       "       21., 18., 18., 19., 21., 20., 19., 19., 19., 21., 19., 19., 19.,\n",
       "       20., 19., 19., 19., 18., 18., 19., 20., 18., 18., 19., 20., 19.,\n",
       "       19., 20., 20., 21., 20., 20., 19., 20., 20., 19., 18., 18., 18.,\n",
       "       19., 20., 20., 18., 21., 21., 20., 20., 19., 21., 20., 18., 18.,\n",
       "       18.])"
      ]
     },
     "execution_count": 34,
     "metadata": {},
     "output_type": "execute_result"
    }
   ],
   "source": [
    "preds_20_round"
   ]
  },
  {
   "cell_type": "code",
   "execution_count": 35,
   "metadata": {},
   "outputs": [
    {
     "data": {
      "text/plain": [
       "array([20, 20, 20, 20, 20, 20, 20, 20, 20, 20, 20, 20, 20, 20, 20, 20, 20,\n",
       "       20, 20, 20, 20, 20, 20, 20, 20, 20, 20, 20, 20, 20, 20, 20, 20, 20,\n",
       "       20, 20, 20, 20, 20, 20, 20, 20, 20, 20, 20, 20, 20, 20, 20, 20, 20,\n",
       "       20, 20, 20, 20, 20, 20, 20, 20, 20, 20, 20, 20, 20, 20, 20, 20, 20,\n",
       "       20, 20, 20, 20, 20, 20, 20, 20, 20, 20, 20, 20, 20, 20, 20, 20, 20,\n",
       "       20, 20, 20, 20, 20, 20, 20, 20, 20, 20, 20, 20, 20, 20, 20, 20, 20,\n",
       "       20, 20, 20, 20, 20, 20, 20, 20, 20, 20, 20, 20, 20, 20, 20, 20, 20,\n",
       "       20, 20, 20, 20, 20, 20, 20, 20, 20, 20, 20, 20, 20, 20, 20, 20, 20,\n",
       "       20, 20, 20, 20, 20, 20, 20, 20, 20, 20, 20, 20, 20, 20, 20, 20, 20,\n",
       "       20, 20, 20, 20, 20, 20, 20, 20, 20, 20, 20, 20, 20, 20, 20, 20, 20,\n",
       "       20, 20, 20, 20, 20, 20, 20, 20, 20, 20, 20, 20, 20, 20, 20, 20, 20,\n",
       "       20, 20, 20, 20, 20, 20, 20, 20, 20, 20, 20, 20, 20, 20, 20, 20, 20,\n",
       "       20, 20, 20, 20, 20, 20, 20, 20, 20, 20, 20, 20, 20, 20, 20, 20, 20,\n",
       "       20, 20, 20, 20, 20, 20, 20, 20, 20, 20, 20, 20, 20, 20, 20, 20, 20,\n",
       "       20, 20, 20, 20, 20, 20, 20, 20, 20, 20, 20, 20, 20, 20, 20, 20, 20,\n",
       "       20, 20, 20, 20, 20, 20, 20, 20, 20, 20, 20, 20, 20, 20, 20, 20, 20,\n",
       "       20, 20, 20, 20, 20, 20, 20, 20, 20, 20, 20, 20, 20, 20, 20, 20, 20,\n",
       "       20, 20, 20, 20, 20, 20, 20, 20, 20, 20, 20])"
      ]
     },
     "execution_count": 35,
     "metadata": {},
     "output_type": "execute_result"
    }
   ],
   "source": [
    "y_20mm"
   ]
  },
  {
   "cell_type": "code",
   "execution_count": 37,
   "metadata": {},
   "outputs": [
    {
     "data": {
      "text/plain": [
       "1.01"
      ]
     },
     "execution_count": 37,
     "metadata": {},
     "output_type": "execute_result"
    }
   ],
   "source": [
    "mean_absolute_error(y_20mm, preds_20_round)"
   ]
  },
  {
   "cell_type": "code",
   "execution_count": 38,
   "metadata": {},
   "outputs": [
    {
     "data": {
      "text/plain": [
       "array([18., 18., 19., 21., 20., 20., 19., 19., 18., 18., 20., 21., 20.,\n",
       "       21., 19., 19., 20., 20., 19., 18., 20., 21., 21., 19., 18., 18.,\n",
       "       19., 20., 21., 18., 19., 19., 21., 19., 20., 19., 22., 21., 20.,\n",
       "       18., 21., 19., 19., 20., 19., 18., 21., 20., 19., 18., 22., 19.,\n",
       "       20., 19., 18., 19., 20., 19., 19., 18., 19., 20., 20., 19., 18.,\n",
       "       20., 21., 19., 21., 18., 19., 21., 21., 18., 19., 21., 19., 20.,\n",
       "       21., 18., 19., 21., 19., 18., 19., 20., 19., 18., 21., 19., 18.,\n",
       "       21., 20., 19., 19., 20., 19., 19., 19., 19., 19., 20., 21., 18.,\n",
       "       19., 19., 20., 19., 18., 19., 20., 19., 19., 21., 20., 18., 21.,\n",
       "       20., 18., 17., 19., 20., 20., 20., 20., 19., 19., 21., 20., 19.,\n",
       "       21., 20., 19., 21., 18., 18., 22., 22., 19., 19., 19., 21., 19.,\n",
       "       19., 19., 19., 21., 19., 21., 19., 18., 21., 21., 19., 18., 18.,\n",
       "       22., 19., 18., 18., 20., 22., 21., 20., 19., 20., 20., 20., 19.,\n",
       "       18., 19., 20., 20., 18., 20., 21., 20., 20., 18., 19., 20., 19.,\n",
       "       19., 19., 19., 20., 21., 20., 18., 18., 20., 21., 19., 19., 18.,\n",
       "       20., 21., 20., 18., 19., 20., 19., 21., 20., 19., 22., 20., 18.,\n",
       "       18., 20., 18., 19., 21., 19., 19., 19., 22., 19., 18., 20., 20.,\n",
       "       19., 19., 21., 18., 19., 19., 18., 18., 19., 18., 21., 21., 20.,\n",
       "       20., 19., 21., 21., 18., 18., 21., 19., 19., 18., 18., 18., 21.,\n",
       "       21., 18., 18., 19., 21., 20., 19., 19., 19., 21., 19., 19., 19.,\n",
       "       20., 19., 19., 19., 18., 18., 19., 20., 18., 18., 19., 20., 19.,\n",
       "       19., 20., 20., 21., 20., 20., 19., 20., 20., 19., 18., 18., 18.,\n",
       "       19., 20., 20., 18., 21., 21., 20., 20., 19., 21., 20., 18., 18.,\n",
       "       18.])"
      ]
     },
     "execution_count": 38,
     "metadata": {},
     "output_type": "execute_result"
    }
   ],
   "source": [
    "preds_20_round"
   ]
  },
  {
   "cell_type": "code",
   "execution_count": 22,
   "metadata": {},
   "outputs": [],
   "source": [
    "test_preds = rf.predict(X_test_RF)"
   ]
  },
  {
   "cell_type": "code",
   "execution_count": 23,
   "metadata": {},
   "outputs": [
    {
     "data": {
      "text/plain": [
       "0.03043055555555555"
      ]
     },
     "execution_count": 23,
     "metadata": {},
     "output_type": "execute_result"
    }
   ],
   "source": [
    "mean_squared_error(y_test, test_preds)"
   ]
  },
  {
   "cell_type": "code",
   "execution_count": 288,
   "metadata": {},
   "outputs": [],
   "source": [
    "preds_15_unet=rf.predict(X_15mm_UNet_RF)-1"
   ]
  },
  {
   "cell_type": "code",
   "execution_count": 291,
   "metadata": {},
   "outputs": [],
   "source": [
    "np.savez_compressed(\"out_data_paper.npz\", gt_y = y_test, gt_preds =test_preds,\n",
    "                    unet_y = y_test_pred_unet, unet_preds=preds_unet, \n",
    "                   unet_y_15=y_15mm_UNet, unet_preds_15=preds_15_unet,\n",
    "                   gt_y_15=y_15mm, gt_preds_15=preds_15mm)"
   ]
  },
  {
   "cell_type": "code",
   "execution_count": 280,
   "metadata": {},
   "outputs": [
    {
     "data": {
      "text/plain": [
       "0.9996251817637499"
      ]
     },
     "execution_count": 280,
     "metadata": {},
     "output_type": "execute_result"
    }
   ],
   "source": [
    "r2_score(y_test, test_preds)"
   ]
  },
  {
   "cell_type": "code",
   "execution_count": 24,
   "metadata": {},
   "outputs": [
    {
     "data": {
      "text/plain": [
       "array([10.        , 25.        ,  4.        ,  2.        ,  4.        ,\n",
       "       10.        ,  2.        ,  2.        , 10.        , 25.        ,\n",
       "        2.        ,  4.        ,  2.        ,  2.        , 25.        ,\n",
       "       25.        , 25.        , 25.        , 10.        ,  9.8       ,\n",
       "        4.        ,  4.        ,  3.93333333, 25.        , 25.        ,\n",
       "        4.        ,  2.        ,  9.2       , 10.        , 25.        ,\n",
       "        9.4       , 10.        , 10.        , 10.        ,  4.        ,\n",
       "       10.        , 10.        , 10.        ,  2.        , 25.        ,\n",
       "        2.        ,  4.        ,  4.        , 25.        ,  4.        ,\n",
       "        4.        ,  4.        , 10.        ,  4.        ,  4.        ,\n",
       "        2.        ,  2.        ,  4.        , 10.        ,  2.        ,\n",
       "       25.        , 25.        ,  2.        , 10.        , 10.        ,\n",
       "        2.        , 25.        ,  4.        ,  4.        ,  4.        ,\n",
       "        4.        ,  4.        , 10.        ,  2.        , 25.        ,\n",
       "       10.        ,  2.        ,  4.        ,  4.        ,  2.        ,\n",
       "       25.        , 10.        ,  4.        ,  2.        ,  2.        ,\n",
       "       25.        , 24.3       ,  2.        ,  2.        ,  3.93333333,\n",
       "       10.        , 10.        ,  2.        ,  2.        , 10.        ,\n",
       "        4.        ,  4.        ,  2.        , 25.        ,  4.        ,\n",
       "        4.        ,  4.        ,  2.        ,  2.        ,  2.        ,\n",
       "        4.        ,  2.        , 10.        ,  2.        ,  2.        ,\n",
       "       25.        ,  2.        ,  4.        ,  2.        ,  2.        ,\n",
       "       10.        ,  9.4       , 10.        ,  4.        , 25.        ,\n",
       "        2.        ,  4.        ,  2.        , 10.        ,  4.        ,\n",
       "       10.        ,  2.        , 25.        ,  4.        , 25.        ,\n",
       "       25.        , 25.        , 10.        , 25.        ,  2.        ,\n",
       "       10.        ,  2.        ,  4.        ,  4.        , 25.        ,\n",
       "       25.        ,  4.        ,  2.        , 10.        , 10.        ,\n",
       "       25.        ,  9.8       ,  4.        ,  4.        , 10.        ,\n",
       "       10.        , 10.        , 25.        ,  4.        ,  4.        ,\n",
       "       10.        ,  2.        ,  4.        , 25.        , 25.        ,\n",
       "        2.        , 25.        ,  2.        , 10.        ,  2.        ,\n",
       "       10.        , 25.        ,  2.        ,  4.        ,  4.        ,\n",
       "       10.        , 10.        ,  4.        ,  4.        ,  3.93333333,\n",
       "       10.        ,  2.        ,  4.        ,  2.        , 10.        ,\n",
       "        9.4       ,  2.        , 10.        , 25.        ,  2.        ,\n",
       "        2.        , 25.        , 10.        , 25.        , 25.        ,\n",
       "       25.        ,  4.        , 25.        ,  4.        , 25.        ,\n",
       "        4.        , 24.        ,  2.        ,  4.        , 25.        ,\n",
       "        2.        ,  4.        , 25.        , 23.5       , 25.        ,\n",
       "        2.        , 25.        , 10.        ,  2.        , 10.        ,\n",
       "        4.        , 10.        ,  2.        , 10.        ,  2.        ,\n",
       "       24.5       , 10.        ,  4.        , 25.        ,  2.        ,\n",
       "       24.5       , 25.        , 25.        , 25.        ,  4.        ,\n",
       "       10.        , 10.        , 10.        , 10.        , 25.        ,\n",
       "        4.        ,  4.        , 10.        ,  2.        , 24.5       ,\n",
       "        2.        , 25.        , 25.        , 10.        ,  2.        ,\n",
       "       25.        ,  2.        , 25.        , 24.        , 10.        ])"
      ]
     },
     "execution_count": 24,
     "metadata": {},
     "output_type": "execute_result"
    }
   ],
   "source": [
    "test_preds"
   ]
  },
  {
   "cell_type": "code",
   "execution_count": 25,
   "metadata": {},
   "outputs": [],
   "source": [
    "X_test_pred_unet = np.load(os.path.join(data_dir,\"trained_models\",\"UNet_training_generator_1500epochs\", \"Xy_test_predicted_UNet.npz\"))[ \"y\"]\n",
    "y_test_pred_unet = np.load(os.path.join(data_dir,\"trained_models\", \"UNet_training_generator_1500epochs\", \"Xy_test_predicted_UNet.npz\"))[ \"dist\"]"
   ]
  },
  {
   "cell_type": "code",
   "execution_count": 26,
   "metadata": {},
   "outputs": [],
   "source": [
    "X_test_unet_cut = cut_X(X_test_pred_unet)\n",
    "X_test_unet_RF = reshape_RF(X_test_unet_cut)"
   ]
  },
  {
   "cell_type": "code",
   "execution_count": null,
   "metadata": {},
   "outputs": [],
   "source": []
  },
  {
   "cell_type": "code",
   "execution_count": 27,
   "metadata": {},
   "outputs": [
    {
     "data": {
      "text/plain": [
       "array([2., 2., 2., 2., 2., 2., 2., 2., 2., 2., 2., 2., 2., 2., 2., 2., 2.,\n",
       "       2., 2., 2., 2., 2., 2., 2., 2., 2., 2., 2., 2., 2., 2., 2., 2., 2.,\n",
       "       2., 2., 2., 2., 2., 2., 2., 2., 2., 2., 2., 2., 2., 2., 2., 2., 2.,\n",
       "       2., 2., 2., 2., 2., 2., 2., 2., 2., 2., 2., 2., 2., 2., 2., 2., 2.,\n",
       "       2., 2., 2., 2., 2., 2., 2., 2., 2., 2., 2., 2., 2., 2., 2., 2., 2.,\n",
       "       2., 2., 2., 2., 2., 2., 2., 2., 2., 2., 2., 2., 2., 2., 2., 2., 2.,\n",
       "       2., 2., 2., 2., 2., 2., 2., 2., 2., 2., 2., 2., 2., 2., 2., 2., 2.,\n",
       "       2., 2., 2., 2., 2., 2., 2., 2., 2., 2., 2., 2., 2., 2., 2., 2., 2.,\n",
       "       2., 2., 2., 2., 2., 2., 2., 2., 2., 2., 2., 2., 2., 2., 2., 2., 2.,\n",
       "       2., 2., 2., 2., 2., 2., 2., 2., 2., 2., 2., 2., 2., 2., 2., 2., 2.,\n",
       "       2., 2., 2., 2., 2., 2., 2., 2., 2., 2., 2., 2., 2., 2., 2., 2., 2.,\n",
       "       2., 2., 2., 2., 2., 2., 2., 2., 2., 2., 2., 2., 2., 2., 2., 2., 2.,\n",
       "       2., 2., 2., 2., 2., 2., 2., 2., 2., 2., 2., 2., 2., 2., 2., 2., 2.,\n",
       "       2., 2., 2., 2., 2., 2., 2., 2., 2., 2., 2., 2., 2., 2., 2., 2., 2.,\n",
       "       2., 2.])"
      ]
     },
     "execution_count": 27,
     "metadata": {},
     "output_type": "execute_result"
    }
   ],
   "source": [
    "rf.predict(X_test_unet_RF)"
   ]
  },
  {
   "cell_type": "code",
   "execution_count": 28,
   "metadata": {},
   "outputs": [
    {
     "data": {
      "text/plain": [
       "array([25, 10,  2,  4,  2, 25,  4, 25,  4, 10, 10,  2,  2, 10,  2,  2,  4,\n",
       "       10, 10,  4,  4, 10, 10,  4,  2,  2, 10,  4,  4,  4,  4, 10, 10, 10,\n",
       "        4,  4,  4,  2,  4, 10, 25,  2, 25,  4, 25,  4,  4,  2,  2,  2, 10,\n",
       "       25,  4,  2, 25,  4, 25, 25, 25,  4,  4,  2,  2,  2,  2, 25,  2,  4,\n",
       "        4,  4,  4,  2, 25,  2,  2,  4,  2,  2, 25, 10, 25,  2, 10,  2,  4,\n",
       "       25, 25,  2, 25, 10,  4,  4,  2,  4, 25, 10,  4, 25,  2,  2,  4,  2,\n",
       "       10,  2, 10, 10, 25, 25, 25, 25,  4, 10,  2, 25, 10, 25,  2,  2, 10,\n",
       "        2,  4, 25, 25, 25,  4, 25,  4,  2, 10, 10,  2, 25,  4,  2, 25, 10,\n",
       "       10,  4,  4, 25, 25, 10,  4, 10, 10,  4, 10, 10,  4,  4, 25,  4, 10,\n",
       "        2, 25,  4,  4,  2, 25,  4, 25, 25, 25,  2,  2, 10,  2, 10, 10,  2,\n",
       "       10, 25,  4,  2,  2,  4,  2, 25,  2, 10, 10, 10,  2, 25,  2, 25,  4,\n",
       "       10,  4,  4, 10, 10,  2, 10,  4,  2,  2, 25, 25,  2, 10, 25, 10, 25,\n",
       "       10,  2, 10, 10, 10, 25, 25, 10,  4, 10, 25,  2, 10,  2, 10,  4, 25,\n",
       "       25, 25, 25,  2,  4, 10,  2,  2, 10,  4,  2, 25, 10, 25,  4, 10,  4,\n",
       "       25, 10])"
      ]
     },
     "execution_count": 28,
     "metadata": {},
     "output_type": "execute_result"
    }
   ],
   "source": [
    "y_test_pred_unet"
   ]
  },
  {
   "cell_type": "code",
   "execution_count": 29,
   "metadata": {},
   "outputs": [
    {
     "data": {
      "text/plain": [
       "<matplotlib.image.AxesImage at 0x7f7f7cd6d080>"
      ]
     },
     "execution_count": 29,
     "metadata": {},
     "output_type": "execute_result"
    },
    {
     "data": {
      "image/png": "[encoded data removed]",
      "text/plain": [
       "<Figure size 432x288 with 1 Axes>"
      ]
     },
     "metadata": {
      "needs_background": "light"
     },
     "output_type": "display_data"
    }
   ],
   "source": [
    "plt.imshow(X_test_unet_cut[0])"
   ]
  },
  {
   "cell_type": "code",
   "execution_count": 30,
   "metadata": {},
   "outputs": [
    {
     "data": {
      "text/plain": [
       "(240, 340, 800)"
      ]
     },
     "execution_count": 30,
     "metadata": {},
     "output_type": "execute_result"
    }
   ],
   "source": [
    "X_test_unet_cut.shape"
   ]
  },
  {
   "cell_type": "code",
   "execution_count": 31,
   "metadata": {},
   "outputs": [
    {
     "data": {
      "text/plain": [
       "(240, 340, 800, 1)"
      ]
     },
     "execution_count": 31,
     "metadata": {},
     "output_type": "execute_result"
    }
   ],
   "source": [
    "X_test_cut.shape"
   ]
  },
  {
   "cell_type": "code",
   "execution_count": 32,
   "metadata": {},
   "outputs": [
    {
     "data": {
      "text/plain": [
       "<matplotlib.image.AxesImage at 0x7f7f7ccff7b8>"
      ]
     },
     "execution_count": 32,
     "metadata": {},
     "output_type": "execute_result"
    },
    {
     "data": {
      "image/png": "[encoded data removed]",
      "text/plain": [
       "<Figure size 432x288 with 1 Axes>"
      ]
     },
     "metadata": {
      "needs_background": "light"
     },
     "output_type": "display_data"
    }
   ],
   "source": [
    "plt.imshow(X_test_cut[1][...,0])"
   ]
  },
  {
   "cell_type": "code",
   "execution_count": 33,
   "metadata": {},
   "outputs": [
    {
     "data": {
      "text/plain": [
       "array([2.])"
      ]
     },
     "execution_count": 33,
     "metadata": {},
     "output_type": "execute_result"
    }
   ],
   "source": [
    "rf.predict([X_test_unet_RF[1].astype(np.uint8)])"
   ]
  },
  {
   "cell_type": "code",
   "execution_count": 34,
   "metadata": {},
   "outputs": [
    {
     "data": {
      "text/plain": [
       "array([10, 25,  4,  2,  4, 10,  2,  2, 10, 25,  2,  4,  2,  2, 25, 25, 25,\n",
       "       25, 10, 10,  4,  4,  4, 25, 25,  4,  2, 10, 10, 25, 10, 10, 10, 10,\n",
       "        4, 10, 10, 10,  2, 25,  2,  4,  4, 25,  4,  4,  4, 10,  4,  4,  2,\n",
       "        2,  4, 10,  2, 25, 25,  2, 10, 10,  2, 25,  4,  4,  4,  4,  4, 10,\n",
       "        2, 25, 10,  2,  4,  4,  2, 25, 10,  4,  2,  2, 25, 25,  2,  2,  4,\n",
       "       10, 10,  2,  2, 10,  4,  4,  2, 25,  4,  4,  4,  2,  2,  2,  4,  2,\n",
       "       10,  2,  2, 25,  2,  4,  2,  2, 10, 10, 10,  4, 25,  2,  4,  2, 10,\n",
       "        4, 10,  2, 25,  4, 25, 25, 25, 10, 25,  2, 10,  2,  4,  4, 25, 25,\n",
       "        4,  2, 10, 10, 25, 10,  4,  4, 10, 10, 10, 25,  4,  4, 10,  2,  4,\n",
       "       25, 25,  2, 25,  2, 10,  2, 10, 25,  2,  4,  4, 10, 10,  4,  4,  4,\n",
       "       10,  2,  4,  2, 10, 10,  2, 10, 25,  2,  2, 25, 10, 25, 25, 25,  4,\n",
       "       25,  4, 25,  4, 25,  2,  4, 25,  2,  4, 25, 25, 25,  2, 25, 10,  2,\n",
       "       10,  4, 10,  2, 10,  2, 25, 10,  4, 25,  2, 25, 25, 25, 25,  4, 10,\n",
       "       10, 10, 10, 25,  4,  4, 10,  2, 25,  2, 25, 25, 10,  2, 25,  2, 25,\n",
       "       25, 10])"
      ]
     },
     "execution_count": 34,
     "metadata": {},
     "output_type": "execute_result"
    }
   ],
   "source": [
    "y_test"
   ]
  },
  {
   "cell_type": "code",
   "execution_count": 74,
   "metadata": {},
   "outputs": [
    {
     "data": {
      "text/plain": [
       "array([[0, 0, 0, ..., 0, 0, 0],\n",
       "       [0, 0, 0, ..., 0, 0, 0],\n",
       "       [0, 0, 0, ..., 0, 0, 0],\n",
       "       ...,\n",
       "       [0, 0, 0, ..., 0, 0, 0],\n",
       "       [0, 0, 0, ..., 0, 0, 0],\n",
       "       [0, 0, 0, ..., 0, 0, 0]], dtype=uint8)"
      ]
     },
     "execution_count": 74,
     "metadata": {},
     "output_type": "execute_result"
    }
   ],
   "source": [
    "X_test_cut[1][...,0]"
   ]
  },
  {
   "cell_type": "code",
   "execution_count": 35,
   "metadata": {},
   "outputs": [
    {
     "data": {
      "text/plain": [
       "array([255, 255, 255, ..., 255, 255, 255], dtype=uint8)"
      ]
     },
     "execution_count": 35,
     "metadata": {},
     "output_type": "execute_result"
    }
   ],
   "source": [
    "X_test_cut[1][...,0][X_test_cut[1][...,0]!=0]"
   ]
  },
  {
   "cell_type": "code",
   "execution_count": 36,
   "metadata": {},
   "outputs": [
    {
     "data": {
      "text/plain": [
       "array([2.6934828e-34, 4.4616344e-35, 1.4082635e-38, ..., 2.8038732e-23,\n",
       "       2.0302219e-30, 4.3684898e-25], dtype=float32)"
      ]
     },
     "execution_count": 36,
     "metadata": {},
     "output_type": "execute_result"
    }
   ],
   "source": [
    "X_test_unet_cut[0][X_test_unet_cut[0]!=0]"
   ]
  },
  {
   "cell_type": "code",
   "execution_count": 37,
   "metadata": {},
   "outputs": [],
   "source": [
    "X_test_unet_cut_uint8 = X_test_unet_cut.astype(np.uint8)"
   ]
  },
  {
   "cell_type": "code",
   "execution_count": 38,
   "metadata": {},
   "outputs": [],
   "source": [
    "X_test_unet_cut_uint8[0] = X_test_unet_cut_uint8[0]*255"
   ]
  },
  {
   "cell_type": "code",
   "execution_count": 39,
   "metadata": {},
   "outputs": [
    {
     "data": {
      "text/plain": [
       "array([25.])"
      ]
     },
     "execution_count": 39,
     "metadata": {},
     "output_type": "execute_result"
    }
   ],
   "source": [
    "rf.predict([X_test_unet_cut_uint8[0].ravel()])"
   ]
  },
  {
   "cell_type": "code",
   "execution_count": 40,
   "metadata": {},
   "outputs": [],
   "source": [
    "X_test_unet_cut = X_test_unet_cut.astype(np.uint8)*255"
   ]
  },
  {
   "cell_type": "code",
   "execution_count": 41,
   "metadata": {},
   "outputs": [],
   "source": [
    "X_test_unet_RF = reshape_RF(X_test_unet_cut)"
   ]
  },
  {
   "cell_type": "code",
   "execution_count": 42,
   "metadata": {},
   "outputs": [],
   "source": [
    "preds_unet = rf.predict(X_test_unet_RF)"
   ]
  },
  {
   "cell_type": "code",
   "execution_count": 43,
   "metadata": {},
   "outputs": [
    {
     "data": {
      "text/plain": [
       "array([25.        , 10.        ,  2.        ,  4.2       ,  2.        ,\n",
       "       25.        ,  4.4       , 25.        ,  4.2       , 10.        ,\n",
       "       10.5       ,  2.        ,  2.        , 10.        ,  2.        ,\n",
       "        2.        ,  4.        , 10.        , 10.        ,  4.4       ,\n",
       "        4.6       , 10.5       , 10.5       ,  4.4       ,  2.        ,\n",
       "        2.        , 10.5       ,  4.        ,  4.        ,  4.4       ,\n",
       "        4.        , 10.5       , 10.        , 10.5       ,  4.        ,\n",
       "        4.        ,  4.        ,  2.        ,  4.6       , 10.        ,\n",
       "       25.        ,  2.        , 25.        ,  4.8       , 25.        ,\n",
       "        4.        ,  4.        ,  2.        ,  2.        ,  2.        ,\n",
       "       10.        , 25.        ,  4.        ,  2.        , 25.        ,\n",
       "        4.        , 25.        , 25.        , 25.        ,  4.        ,\n",
       "        4.        ,  2.        ,  2.        ,  2.        ,  2.        ,\n",
       "       25.        ,  2.        ,  4.        ,  4.4       ,  4.        ,\n",
       "        4.        ,  2.        , 25.        ,  2.        ,  2.        ,\n",
       "        4.4       ,  2.        ,  2.        , 25.        , 10.5       ,\n",
       "       25.        ,  2.        , 10.        ,  2.        ,  4.        ,\n",
       "       25.        , 25.        ,  2.        , 25.        , 10.        ,\n",
       "        4.4       ,  4.        ,  2.        ,  4.4       , 25.        ,\n",
       "       10.5       ,  4.        , 25.        ,  2.        ,  2.        ,\n",
       "        4.4       ,  2.        , 10.5       ,  2.        , 10.5       ,\n",
       "       10.        , 25.        , 25.        , 25.        , 25.        ,\n",
       "        4.2       , 10.        ,  2.        , 25.        , 10.        ,\n",
       "       25.        ,  2.        ,  2.06666667, 10.        ,  2.        ,\n",
       "        4.        , 25.        , 25.        , 25.        ,  4.2       ,\n",
       "       25.        ,  4.        ,  2.06666667, 10.        , 10.        ,\n",
       "        2.        , 25.        ,  4.        ,  2.        , 25.        ,\n",
       "       10.        , 10.5       ,  4.6       ,  4.        , 25.        ,\n",
       "       25.        , 10.5       ,  4.2       , 10.        , 10.        ,\n",
       "        4.2       , 10.5       , 10.        ,  4.        ,  4.2       ,\n",
       "       25.        ,  4.4       , 10.        ,  2.        , 25.        ,\n",
       "        4.2       ,  4.        ,  2.        , 25.        ,  4.        ,\n",
       "       25.        , 25.        , 25.        ,  2.33333333,  2.        ,\n",
       "       10.5       ,  2.        , 10.        , 10.        ,  2.        ,\n",
       "       10.5       , 25.        ,  4.        ,  2.        ,  2.        ,\n",
       "        4.        ,  2.        , 25.        ,  2.        , 10.        ,\n",
       "       10.        , 10.        ,  2.        , 25.        ,  2.06666667,\n",
       "       25.        ,  4.        , 10.        ,  4.        ,  4.        ,\n",
       "       10.        , 10.        ,  2.        , 10.5       ,  4.        ,\n",
       "        2.        ,  2.        , 25.        , 25.        ,  2.        ,\n",
       "       10.        , 25.        , 10.5       , 25.        , 10.        ,\n",
       "        2.        , 10.        , 10.5       , 10.5       , 25.        ,\n",
       "       25.        , 10.5       ,  4.        , 10.        , 25.        ,\n",
       "        2.        , 10.        ,  2.        , 10.5       ,  4.        ,\n",
       "       25.        , 25.        , 25.        , 25.        ,  2.        ,\n",
       "        4.4       , 10.        ,  2.        ,  2.        , 11.        ,\n",
       "        4.        ,  2.        , 25.        , 10.        , 25.        ,\n",
       "        4.        , 11.        ,  4.2       , 25.        , 10.        ])"
      ]
     },
     "execution_count": 43,
     "metadata": {},
     "output_type": "execute_result"
    }
   ],
   "source": [
    "preds_unet"
   ]
  },
  {
   "cell_type": "code",
   "execution_count": 44,
   "metadata": {},
   "outputs": [
    {
     "data": {
      "text/plain": [
       "0.04672685185185186"
      ]
     },
     "execution_count": 44,
     "metadata": {},
     "output_type": "execute_result"
    }
   ],
   "source": [
    "mean_squared_error(preds_unet, y_test_pred_unet)"
   ]
  },
  {
   "cell_type": "code",
   "execution_count": 281,
   "metadata": {},
   "outputs": [
    {
     "data": {
      "text/plain": [
       "0.9994119243503138"
      ]
     },
     "execution_count": 281,
     "metadata": {},
     "output_type": "execute_result"
    }
   ],
   "source": [
    "r2_score(preds_unet, y_test_pred_unet)"
   ]
  },
  {
   "cell_type": "code",
   "execution_count": 46,
   "metadata": {},
   "outputs": [],
   "source": [
    "idx_2 = np.where(y_test_pred_unet==2)\n",
    "idx_4 = np.where(y_test_pred_unet==4)\n",
    "idx_10 = np.where(y_test_pred_unet==10)\n",
    "idx_25 = np.where(y_test_pred_unet==25)"
   ]
  },
  {
   "cell_type": "code",
   "execution_count": 47,
   "metadata": {},
   "outputs": [
    {
     "data": {
      "text/plain": [
       "0.002007168458781365"
      ]
     },
     "execution_count": 47,
     "metadata": {},
     "output_type": "execute_result"
    }
   ],
   "source": [
    "mean_squared_error(preds_unet[idx_2], y_test_pred_unet[idx_2])"
   ]
  },
  {
   "cell_type": "code",
   "execution_count": 48,
   "metadata": {},
   "outputs": [
    {
     "data": {
      "text/plain": [
       "0.06400000000000004"
      ]
     },
     "execution_count": 48,
     "metadata": {},
     "output_type": "execute_result"
    }
   ],
   "source": [
    "mean_squared_error(preds_unet[idx_4], y_test_pred_unet[idx_4])"
   ]
  },
  {
   "cell_type": "code",
   "execution_count": 49,
   "metadata": {},
   "outputs": [
    {
     "data": {
      "text/plain": [
       "0.12083333333333333"
      ]
     },
     "execution_count": 49,
     "metadata": {},
     "output_type": "execute_result"
    }
   ],
   "source": [
    "mean_squared_error(preds_unet[idx_10], y_test_pred_unet[idx_10])"
   ]
  },
  {
   "cell_type": "code",
   "execution_count": 50,
   "metadata": {},
   "outputs": [
    {
     "data": {
      "text/plain": [
       "0.0"
      ]
     },
     "execution_count": 50,
     "metadata": {},
     "output_type": "execute_result"
    }
   ],
   "source": [
    "mean_squared_error(preds_unet[idx_25], y_test_pred_unet[idx_25])"
   ]
  },
  {
   "cell_type": "code",
   "execution_count": 254,
   "metadata": {},
   "outputs": [],
   "source": [
    "import numpy as np\n",
    "from scipy.stats import norm\n",
    "\n",
    "def plot_histo(preds, true, xmin, xmax, nbins_fit, nbins_hist=8):\n",
    "    data = preds-true\n",
    "    mean,std=norm.fit(data)\n",
    "\n",
    "    plt.hist(data, bins=nbins_hist, density=True, facecolor='white',edgecolor =\"k\",  alpha=1, label=\"data\")\n",
    "    #xmin, xmax = plt.xlim()\n",
    "    x = np.linspace(xmin,xmax, nbins_fit)\n",
    "    y = norm.pdf(x, mean, std)\n",
    "    plt.plot(x, y, c='r', linestyle='-.', label='gaussian fit')\n",
    "    plt.xlabel('(predicted-true) leaf position [mm]')\n",
    "    plt.ylabel('Frequence')\n",
    "    plt.title(r'$\\mathrm{Resolution\\ histogram:}\\ \\mu=%.3f,\\ \\sigma=%.3f$' %(mean, std))\n",
    "    plt.legend(loc='upper right')\n",
    "    return\n",
    "\n",
    "\n",
    "\n"
   ]
  },
  {
   "cell_type": "code",
   "execution_count": 224,
   "metadata": {},
   "outputs": [
    {
     "data": {
      "image/png": "[encoded data removed]",
      "text/plain": [
       "<Figure size 432x288 with 1 Axes>"
      ]
     },
     "metadata": {
      "needs_background": "light"
     },
     "output_type": "display_data"
    }
   ],
   "source": [
    "plot_histo(preds_unet[idx_2], y_test_pred_unet[idx_2], -0.5,0.5, nbins_fit=50, nbins_hist=6)"
   ]
  },
  {
   "cell_type": "code",
   "execution_count": 262,
   "metadata": {},
   "outputs": [
    {
     "data": {
      "image/png": "[encoded data removed]",
      "text/plain": [
       "<Figure size 432x288 with 1 Axes>"
      ]
     },
     "metadata": {
      "needs_background": "light"
     },
     "output_type": "display_data"
    }
   ],
   "source": [
    "plot_histo(preds_unet[idx_4], y_test_pred_unet[idx_4], -1.0,1.0, nbins_fit=50, nbins_hist=8)\n",
    "\n",
    "plt.savefig(\"resolution_histo_4mm_data_UNet.png\")"
   ]
  },
  {
   "cell_type": "code",
   "execution_count": 226,
   "metadata": {},
   "outputs": [
    {
     "data": {
      "image/png": "[encoded data removed]",
      "text/plain": [
       "<Figure size 432x288 with 1 Axes>"
      ]
     },
     "metadata": {
      "needs_background": "light"
     },
     "output_type": "display_data"
    }
   ],
   "source": [
    "plot_histo(preds_unet[idx_10], y_test_pred_unet[idx_10], -1.0,1.0, nbins_fit=50, nbins_hist=6)"
   ]
  },
  {
   "cell_type": "code",
   "execution_count": 227,
   "metadata": {},
   "outputs": [
    {
     "name": "stderr",
     "output_type": "stream",
     "text": [
      "/users/yw18581/.conda/envs/fluffy-bunnies/lib/python3.6/site-packages/scipy/stats/_distn_infrastructure.py:1662: RuntimeWarning: divide by zero encountered in true_divide\n",
      "  x = np.asarray((x - loc)/scale, dtype=dtyp)\n"
     ]
    },
    {
     "data": {
      "image/png": "[encoded data removed]",
      "text/plain": [
       "<Figure size 432x288 with 1 Axes>"
      ]
     },
     "metadata": {
      "needs_background": "light"
     },
     "output_type": "display_data"
    }
   ],
   "source": [
    "plot_histo(preds_unet[idx_25], y_test_pred_unet[idx_25], -1.0,1.0, 10)"
   ]
  },
  {
   "cell_type": "code",
   "execution_count": 272,
   "metadata": {},
   "outputs": [
    {
     "data": {
      "image/png": "[encoded data removed]",
      "text/plain": [
       "<Figure size 432x288 with 1 Axes>"
      ]
     },
     "metadata": {
      "needs_background": "light"
     },
     "output_type": "display_data"
    }
   ],
   "source": [
    "plot_histo(preds_unet, y_test_pred_unet, -2.0,2.0, nbins_fit=50, nbins_hist=3)\n",
    "\n",
    "plt.savefig(\"resolution_histo_UNet.png\")"
   ]
  },
  {
   "cell_type": "code",
   "execution_count": 256,
   "metadata": {},
   "outputs": [
    {
     "data": {
      "image/png": "[encoded data removed]",
      "text/plain": [
       "<Figure size 432x288 with 1 Axes>"
      ]
     },
     "metadata": {
      "needs_background": "light"
     },
     "output_type": "display_data"
    }
   ],
   "source": [
    "plot_histo(preds_15mm, y_15mm, -2.0,2.0, nbins_fit=50, nbins_hist=6)\n",
    "\n",
    "plt.savefig(\"resolution_histo_15mm_data_gt.png\")"
   ]
  },
  {
   "cell_type": "code",
   "execution_count": 257,
   "metadata": {},
   "outputs": [
    {
     "data": {
      "image/png": "[encoded data removed]",
      "text/plain": [
       "<Figure size 432x288 with 1 Axes>"
      ]
     },
     "metadata": {
      "needs_background": "light"
     },
     "output_type": "display_data"
    }
   ],
   "source": [
    "plot_histo(test_preds, y_test, -2.0,2.0, nbins_fit=100, nbins_hist=6)\n",
    "\n",
    "plt.savefig(\"resolution_histo_gt.png\")"
   ]
  },
  {
   "cell_type": "code",
   "execution_count": 123,
   "metadata": {},
   "outputs": [],
   "source": [
    "def plot_histo2(preds, true, xmin, xmax, nbins):\n",
    "    data = preds-true\n",
    "    mean,std=norm.fit(data)\n",
    "\n",
    "    plt.hist2d(true,preds,  alpha=1)\n",
    "    #xmin, xmax = plt.xlim()\n",
    "    #x = np.linspace(xmin,xmax, nbins)\n",
    "    #y = norm.pdf(x, mean, std)\n",
    "    #plt.plot(x, y, c='r')\n",
    "    plt.xlabel('y_pred-y_true(mm)')\n",
    "    plt.ylabel('Frequence')\n",
    "    plt.title(r'$\\mathrm{Histogram\\ of\\ IQ:}\\ \\mu=%.3f,\\ \\sigma=%.3f$' %(mean, std))\n",
    "    plt.show()\n",
    "    return\n",
    "\n",
    "\n"
   ]
  },
  {
   "cell_type": "code",
   "execution_count": 128,
   "metadata": {},
   "outputs": [],
   "source": [
    "mse_unet = [mean_squared_error(preds_unet[idx], y_test_pred_unet[idx]) for idx in [idx_2, idx_4, idx_10, idx_25]]"
   ]
  },
  {
   "cell_type": "code",
   "execution_count": 149,
   "metadata": {},
   "outputs": [
    {
     "data": {
      "text/plain": [
       "(-0.01, 0.5)"
      ]
     },
     "execution_count": 149,
     "metadata": {},
     "output_type": "execute_result"
    },
    {
     "data": {
      "image/png": "[encoded data removed]",
      "text/plain": [
       "<Figure size 432x288 with 1 Axes>"
      ]
     },
     "metadata": {
      "needs_background": "light"
     },
     "output_type": "display_data"
    }
   ],
   "source": [
    "plt.plot([2,4,10,25], mse_unet,  marker='o')\n",
    "plt.ylim(-0.010,0.5)"
   ]
  },
  {
   "cell_type": "code",
   "execution_count": 130,
   "metadata": {},
   "outputs": [],
   "source": [
    "mse_gt = [mean_squared_error(test_preds[idx], y_test[idx]) for idx in [idx_2, idx_4, idx_10, idx_25]]"
   ]
  },
  {
   "cell_type": "code",
   "execution_count": 148,
   "metadata": {},
   "outputs": [
    {
     "data": {
      "text/plain": [
       "(0, 0.5)"
      ]
     },
     "execution_count": 148,
     "metadata": {},
     "output_type": "execute_result"
    },
    {
     "data": {
      "image/png": "[encoded data removed]",
      "text/plain": [
       "<Figure size 432x288 with 1 Axes>"
      ]
     },
     "metadata": {
      "needs_background": "light"
     },
     "output_type": "display_data"
    }
   ],
   "source": [
    "plt.plot([2,4,10,25], mse_gt, marker='o')\n",
    "plt.ylim(0,0.5)"
   ]
  },
  {
   "cell_type": "code",
   "execution_count": 242,
   "metadata": {},
   "outputs": [],
   "source": [
    "X_15mm_UNet = np.load(os.path.join(data_dir, \"trained_models/UNet_training_generator_1500epochs/Xy_15mm_clean_predicted_UNet.npz\"))[\"y\"]\n",
    "y_15mm_UNet = np.load(os.path.join(data_dir, \"trained_models/UNet_training_generator_1500epochs/Xy_15mm_clean_predicted_UNet.npz\"))[\"dist\"]\n",
    "\n"
   ]
  },
  {
   "cell_type": "code",
   "execution_count": 243,
   "metadata": {},
   "outputs": [],
   "source": [
    "X_15mm_UNet_cut = cut_X(X_15mm_UNet)\n",
    "X_15mm_UNet_RF = reshape_RF(X_15mm_UNet_cut)\n",
    "\n"
   ]
  },
  {
   "cell_type": "code",
   "execution_count": 244,
   "metadata": {},
   "outputs": [
    {
     "data": {
      "text/plain": [
       "1.7933333333333332"
      ]
     },
     "execution_count": 244,
     "metadata": {},
     "output_type": "execute_result"
    }
   ],
   "source": [
    "mean_squared_error(rf.predict(X_15mm_UNet_RF), y_15mm_UNet)"
   ]
  },
  {
   "cell_type": "code",
   "execution_count": 245,
   "metadata": {},
   "outputs": [
    {
     "data": {
      "text/plain": [
       "array([15. , 15.5, 15.5, 16. , 16. , 16.5, 16. , 16.5, 15.5, 17. , 16.5,\n",
       "       17. , 17. , 15.5, 15.5, 16.5, 15. , 15.5, 16. , 17. , 15.5, 15.5,\n",
       "       16. , 16. , 16.5, 17. , 15.5, 15. , 16.5, 16.5, 16.5, 16.5, 15. ,\n",
       "       16. , 15.5, 15.5, 16. , 15. , 16. , 17. , 16.5, 16.5, 16. , 15.5,\n",
       "       17. , 17. , 16. , 16.5, 16. , 17. , 16.5, 17. , 16.5, 16. , 17. ,\n",
       "       15.5, 16. , 15. , 16. , 16. , 17. , 15.5, 16. , 16. , 16.5, 16. ,\n",
       "       16. , 15.5, 17. , 17. , 16.5, 16.5, 15. , 15. , 16.5, 16. , 17. ,\n",
       "       16. , 15.5, 15.5, 16. , 17. , 16. , 16. , 17. , 16.5, 17. , 17. ,\n",
       "       16.5, 16. , 16.5, 17. , 17. , 16. , 16.5, 16.5, 15.5, 15.5, 16.5,\n",
       "       15.5, 15.5, 16. , 15. , 16. , 15.5, 16.5, 16.5, 16. , 15.5, 17. ,\n",
       "       16. , 16.5, 15.5, 17. , 16. , 16.5, 17. , 16. , 15. , 16.5, 17. ,\n",
       "       15.5, 15. , 16. , 17. , 16.5, 17. , 16. , 16. , 16.5, 16. , 16. ,\n",
       "       16.5, 16.5, 16.5, 17. , 16. , 16.5, 15. , 16.5, 16. , 16. , 17. ,\n",
       "       16. , 16. , 17. , 15. , 17. , 16. , 17. , 17. , 16.5, 16.5, 16. ,\n",
       "       16.5, 16. , 15. , 16. , 15.5, 17. , 16.5, 16.5, 16.5, 15.5, 16.5,\n",
       "       15.5, 16.5, 15. , 17. , 16.5, 15.5, 17. , 16. , 15. , 17. , 16.5,\n",
       "       16.5, 15.5, 16. , 17. , 17. , 16.5, 17. , 16. , 17. , 16.5, 16. ,\n",
       "       16. , 17. , 17. , 16.5, 16.5, 17. , 16. , 17. , 16. , 16.5, 15. ,\n",
       "       17. , 16. , 16.5, 16. , 16. , 16. , 16.5, 16.5, 15.5, 15.5, 16.5,\n",
       "       16.5, 16.5, 17. , 16.5, 16. , 17. , 17. , 16.5, 16. , 17. , 16. ,\n",
       "       17. , 17. , 15.5, 16. , 16.5, 16. , 15.5, 15.5, 17. , 16. , 15. ,\n",
       "       16.5, 15.5, 15.5, 15.5, 15. , 16. , 15.5, 16.5, 16.5, 17. , 16. ,\n",
       "       15.5, 17. , 16. , 15. , 16. , 15.5, 17. , 17. , 16.5, 17. , 15.5,\n",
       "       16. , 16. , 15.5, 15.5, 15.5, 16. , 16. , 15.5, 17. , 16. , 17. ,\n",
       "       17. , 15.5, 15. , 17. , 17. , 16.5, 16.5, 16.5, 15. , 17. , 15.5,\n",
       "       17. , 15.5, 17. , 16. , 17. , 15.5, 17. , 15.5, 17. , 15. , 16.5,\n",
       "       15.5, 17. , 15.5, 16. , 16.5, 16.5, 15.5, 17. , 15.5, 15. , 16. ,\n",
       "       17. , 15.5, 15.5])"
      ]
     },
     "execution_count": 245,
     "metadata": {},
     "output_type": "execute_result"
    }
   ],
   "source": [
    "rf.predict(X_15mm_UNet_RF)"
   ]
  },
  {
   "cell_type": "code",
   "execution_count": 266,
   "metadata": {},
   "outputs": [
    {
     "data": {
      "image/png": "[encoded data removed]",
      "text/plain": [
       "<Figure size 432x288 with 1 Axes>"
      ]
     },
     "metadata": {
      "needs_background": "light"
     },
     "output_type": "display_data"
    }
   ],
   "source": [
    "plot_histo(rf.predict(X_15mm_UNet_RF)-1, y_15mm_UNet, -2.0,2.0, nbins_fit=50, nbins_hist=6)\n",
    "plt.savefig(\"resolution_histo_15mm_UNet.png\")"
   ]
  },
  {
   "cell_type": "code",
   "execution_count": 275,
   "metadata": {},
   "outputs": [
    {
     "data": {
      "text/plain": [
       "0.626941429126801"
      ]
     },
     "execution_count": 275,
     "metadata": {},
     "output_type": "execute_result"
    }
   ],
   "source": [
    "np.std(rf.predict(X_15mm_UNet_RF)-1)"
   ]
  },
  {
   "cell_type": "code",
   "execution_count": 292,
   "metadata": {},
   "outputs": [
    {
     "data": {
      "text/plain": [
       "0.4266666666666667"
      ]
     },
     "execution_count": 292,
     "metadata": {},
     "output_type": "execute_result"
    }
   ],
   "source": [
    "mean_squared_error(rf.predict(X_15mm_UNet_RF)-1,y_15mm_UNet)"
   ]
  },
  {
   "cell_type": "code",
   "execution_count": 278,
   "metadata": {},
   "outputs": [
    {
     "data": {
      "text/plain": [
       "0.18333333333333332"
      ]
     },
     "execution_count": 278,
     "metadata": {},
     "output_type": "execute_result"
    }
   ],
   "source": [
    "np.mean(rf.predict(X_15mm_UNet_RF)-1 - y_15mm_UNet)"
   ]
  },
  {
   "cell_type": "code",
   "execution_count": 285,
   "metadata": {},
   "outputs": [
    {
     "name": "stdout",
     "output_type": "stream",
     "text": [
      "[[Model]]\n",
      "    Model(gaussian)\n",
      "[[Fit Statistics]]\n",
      "    # fitting method   = leastsq\n",
      "    # function evals   = 4\n",
      "    # data points      = 300\n",
      "    # variables        = 3\n",
      "    chi-square         = 67500.0000\n",
      "    reduced chi-square = 227.272727\n",
      "    Akaike info crit   = 1630.83012\n",
      "    Bayesian info crit = 1641.94147\n",
      "##  Warning: uncertainties could not be estimated:\n",
      "    amp:  at initial value\n",
      "    cen:  at initial value\n",
      "    wid:  at initial value\n",
      "[[Variables]]\n",
      "    amp:  5.00000000 (init = 5)\n",
      "    cen:  5.00000000 (init = 5)\n",
      "    wid:  1.00000000 (init = 1)\n",
      "\n"
     ]
    },
    {
     "data": {
      "image/png": "[encoded data removed]",
      "text/plain": [
       "<Figure size 432x288 with 1 Axes>"
      ]
     },
     "metadata": {
      "needs_background": "light"
     },
     "output_type": "display_data"
    }
   ],
   "source": [
    "import matplotlib.pyplot as plt\n",
    "from numpy import exp, loadtxt, pi, sqrt\n",
    "\n",
    "from lmfit import Model\n",
    "\n",
    "x = rf.predict(X_15mm_UNet_RF)-1\n",
    "y = y_15mm_UNet\n",
    "\n",
    "\n",
    "def gaussian(x, amp, cen, wid):\n",
    "    \"\"\"1-d gaussian: gaussian(x, amp, cen, wid)\"\"\"\n",
    "    return (amp / (sqrt(2*pi) * wid)) * exp(-(x-cen)**2 / (2*wid**2))\n",
    "\n",
    "\n",
    "gmodel = Model(gaussian)\n",
    "result = gmodel.fit(y, x=x, amp=5, cen=5, wid=1)\n",
    "\n",
    "print(result.fit_report())\n",
    "\n",
    "plt.plot(x, y, 'bo')\n",
    "plt.plot(x, result.init_fit, 'k--')\n",
    "plt.plot(x, result.best_fit, 'r-')\n",
    "plt.show()"
   ]
  },
  {
   "cell_type": "code",
   "execution_count": 287,
   "metadata": {},
   "outputs": [
    {
     "ename": "ModuleNotFoundError",
     "evalue": "No module named 'ROOT'",
     "output_type": "error",
     "traceback": [
      "\u001b[0;31m---------------------------------------------------------------------------\u001b[0m",
      "\u001b[0;31mModuleNotFoundError\u001b[0m                       Traceback (most recent call last)",
      "\u001b[0;32m<ipython-input-287-e37d01b07678>\u001b[0m in \u001b[0;36m<module>\u001b[0;34m\u001b[0m\n\u001b[1;32m      1\u001b[0m \u001b[0;32mimport\u001b[0m \u001b[0mnumpy\u001b[0m \u001b[0;32mas\u001b[0m \u001b[0mnp\u001b[0m\u001b[0;34m\u001b[0m\u001b[0;34m\u001b[0m\u001b[0m\n\u001b[0;32m----> 2\u001b[0;31m \u001b[0;32mfrom\u001b[0m \u001b[0mROOT\u001b[0m \u001b[0;32mimport\u001b[0m \u001b[0mTCanvas\u001b[0m\u001b[0;34m,\u001b[0m \u001b[0mTGraph\u001b[0m\u001b[0;34m\u001b[0m\u001b[0;34m\u001b[0m\u001b[0m\n\u001b[0m\u001b[1;32m      3\u001b[0m \u001b[0;34m\u001b[0m\u001b[0m\n\u001b[1;32m      4\u001b[0m \u001b[0;31m#Some data\u001b[0m\u001b[0;34m\u001b[0m\u001b[0;34m\u001b[0m\u001b[0;34m\u001b[0m\u001b[0m\n\u001b[1;32m      5\u001b[0m \u001b[0mx\u001b[0m \u001b[0;34m=\u001b[0m \u001b[0mnp\u001b[0m\u001b[0;34m.\u001b[0m\u001b[0marange\u001b[0m\u001b[0;34m(\u001b[0m\u001b[0;36m10\u001b[0m\u001b[0;34m)\u001b[0m\u001b[0;34m\u001b[0m\u001b[0;34m\u001b[0m\u001b[0m\n",
      "\u001b[0;31mModuleNotFoundError\u001b[0m: No module named 'ROOT'"
     ]
    }
   ],
   "source": [
    "import numpy as np\n",
    "from ROOT import TCanvas, TGraph\n",
    "\n",
    "#Some data\n",
    "x = np.arange(10)\n",
    "y = x**2\n",
    "\n",
    "#Canvas to plot on and graph\n",
    "c = TCanvas()\n",
    "g = TGraph(x.size, x.astype(np.double),y.astype(np.double))\n",
    "\n",
    "#Draw canvas and graph\n",
    "c.Draw()\n",
    "g.Draw()"
   ]
  },
  {
   "cell_type": "code",
   "execution_count": null,
   "metadata": {},
   "outputs": [],
   "source": []
  }
 ],
 "metadata": {
  "kernelspec": {
   "display_name": "Python 3",
   "language": "python",
   "name": "python3"
  },
  "language_info": {
   "codemirror_mode": {
    "name": "ipython",
    "version": 3
   },
   "file_extension": ".py",
   "mimetype": "text/x-python",
   "name": "python",
   "nbconvert_exporter": "python",
   "pygments_lexer": "ipython3",
   "version": "3.6.7"
  }
 },
 "nbformat": 4,
 "nbformat_minor": 2
}
