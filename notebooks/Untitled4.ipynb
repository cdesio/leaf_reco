{
 "cells": [
  {
   "cell_type": "code",
   "execution_count": 36,
   "metadata": {},
   "outputs": [],
   "source": [
    "import numpy as np\n",
    "from sklearn.externals import joblib\n",
    "from sklearn.ensemble import RandomForestRegressor\n",
    "import os\n",
    "from sklearn.metrics import mean_squared_error, mean_absolute_error\n",
    "import matplotlib.pyplot as plt"
   ]
  },
  {
   "cell_type": "code",
   "execution_count": 2,
   "metadata": {},
   "outputs": [],
   "source": [
    "data_dir = '/storage/yw18581/data/'\n",
    "data_folder = os.path.join(data_dir, 'train_validation_test')"
   ]
  },
  {
   "cell_type": "code",
   "execution_count": 11,
   "metadata": {},
   "outputs": [],
   "source": [
    "X_train = np.load(os.path.join(data_folder, 'Xy_train_strat_dist.npz'))[\"y\"]\n",
    "y_train = np.load(os.path.join(data_folder, 'Xy_train_strat_dist.npz'))[\"dist\"]"
   ]
  },
  {
   "cell_type": "code",
   "execution_count": 39,
   "metadata": {},
   "outputs": [],
   "source": [
    "X_test = np.load(os.path.join(data_folder, 'Xy_test_strat_dist.npz'))[\"y\"]\n",
    "y_test = np.load(os.path.join(data_folder, 'Xy_test_strat_dist.npz'))[\"dist\"]"
   ]
  },
  {
   "cell_type": "code",
   "execution_count": 26,
   "metadata": {},
   "outputs": [
    {
     "data": {
      "text/plain": [
       "array([ 4, 25,  4,  2, 25,  2, 10, 10,  2, 25,  2,  4,  2, 25, 25,  2, 25,\n",
       "        2, 25,  2,  4,  2, 10,  4,  2,  2, 25,  2,  4,  4, 10,  2, 10, 25,\n",
       "        2,  2, 25, 10, 10,  2,  4,  2,  4,  4,  2,  4, 10,  2,  4, 10, 10,\n",
       "       25,  2,  4, 25, 25, 25, 25,  4,  4, 25,  4, 10,  4,  4, 10, 25,  4,\n",
       "        4, 10,  2,  4, 10, 25,  2, 25,  2,  4,  4, 10, 25,  2,  4,  4, 10,\n",
       "        4, 25, 25,  4,  2, 10, 10, 10, 10,  2, 25,  4, 25,  4, 25, 10, 10,\n",
       "       10, 10, 10, 25, 25, 25,  4,  4,  2,  2, 10,  2, 25,  2,  2,  2, 10,\n",
       "        2,  4,  4,  2, 25, 25, 25, 25,  4,  2, 25,  4, 10, 10,  4, 25,  2,\n",
       "       10,  2, 25,  2,  2, 10, 25,  2,  4, 10,  2, 25,  2, 10, 10,  4, 25,\n",
       "        4, 10, 25, 25,  2,  2, 10,  2, 25, 25, 10, 10,  2,  2,  4,  4,  2,\n",
       "       10,  2,  4,  2,  4, 25, 25, 25, 25, 25, 25,  2,  2, 10,  2, 10,  2,\n",
       "        2, 25,  2, 10,  2,  2, 10,  2,  4, 10, 25,  4, 25,  2, 25, 10, 10,\n",
       "        2,  4, 25, 10, 25,  2,  2,  4,  2,  4, 10,  4,  4, 10,  4, 25, 10,\n",
       "       10, 10,  4, 25,  2, 10,  2, 10,  4,  2, 10,  2,  4, 25, 10, 10, 25,\n",
       "        2, 25,  4, 10,  2, 25, 10, 25,  2,  4, 10,  2,  4,  4, 25, 10, 25,\n",
       "        4, 25, 25, 25, 25, 25, 10, 10,  4, 10,  2,  2,  4, 10,  4,  2, 25,\n",
       "        2,  4, 25,  2, 25,  2,  2,  2, 25, 10,  2,  4,  2, 25,  4, 25,  4,\n",
       "        2, 10, 10,  4,  4, 25, 25,  4,  2,  4, 25,  2, 10, 25, 25, 25, 10,\n",
       "        4, 25,  4,  4, 25, 10, 25,  2, 10,  2, 25,  4,  4, 25,  4, 25,  4,\n",
       "        2,  2,  4, 25, 25, 25, 25,  4, 10, 25,  2, 25, 25, 10, 25,  2, 25,\n",
       "       10, 10,  2, 10, 10,  4, 10, 25, 10,  4,  4,  4, 25,  4, 10,  2, 10,\n",
       "       25, 25, 25, 10,  4, 25,  2,  4, 25, 25,  4, 25,  2,  4,  2,  4, 25,\n",
       "       10, 10, 25,  4, 25,  2,  2,  4, 10, 25, 10, 25,  4,  2, 10, 25,  2,\n",
       "       25,  4, 10,  2,  2,  4,  2,  4, 10, 10, 10, 10, 25,  4, 25,  4, 25,\n",
       "        2, 25,  4,  2,  4,  2, 25, 10, 25,  2,  4,  4, 10,  4, 10,  4, 10,\n",
       "       10, 25, 10,  4,  4,  2,  4, 10,  4,  4, 25,  4, 10, 10,  4, 10, 10,\n",
       "        2,  2,  2,  2,  2,  2,  2, 25, 10, 10, 10, 25, 10,  2,  2,  2, 10,\n",
       "       25, 10,  4, 10,  4, 10,  2,  2, 25,  2, 25, 10,  2, 25, 25,  2,  4,\n",
       "        2,  4, 10,  4, 10, 25,  2,  4,  2,  4, 25,  2,  2, 25, 10, 10, 10,\n",
       "       25, 10, 25,  2, 10, 10, 10, 10,  4,  2,  2, 10, 25, 25,  2,  2, 25,\n",
       "        4,  4,  4,  4, 25, 25, 10,  2,  4, 10, 10,  4, 25,  4,  4,  2, 10,\n",
       "        2, 25,  4, 10,  4,  4, 10, 25, 25, 10,  2, 10, 25, 10,  2,  2, 10,\n",
       "        4, 25,  2, 10,  4, 10, 10, 25, 10,  2, 25, 25,  2,  4, 10,  4,  4,\n",
       "        2,  4,  2, 25,  2, 25, 25,  2, 10,  2, 10, 10, 25, 10, 10,  2, 10,\n",
       "       10, 25, 10, 10,  4,  4, 25,  2, 25, 25,  4, 25, 10, 25,  2,  4, 10,\n",
       "        2, 25,  2,  4,  2, 25,  2, 25,  4, 10,  4,  4, 25, 25,  2,  4, 25,\n",
       "       10, 10,  2,  4, 10, 10, 10,  4,  2, 25,  4,  4,  2,  4, 10,  2, 25,\n",
       "        2,  2,  2,  4, 10,  4,  4, 10, 10,  2,  2,  4,  4,  4, 10,  2, 10,\n",
       "        4,  4,  4,  4,  4,  2,  2, 10,  4,  4, 25, 25,  4,  2,  2,  4, 25,\n",
       "       10, 25,  4, 10, 25,  2, 25,  2,  4,  4, 10, 25, 25, 25, 10, 25,  4,\n",
       "        4,  2, 10, 10,  4, 25,  4, 10,  4, 10, 25, 10, 25,  4,  4, 25,  4,\n",
       "        2,  4, 25, 10, 10,  4, 10, 25,  4, 10,  2, 10, 10,  2,  2,  2,  2,\n",
       "       25,  4,  2, 25, 25,  4, 10, 25,  2,  2,  2,  2,  4, 10,  4, 25,  4,\n",
       "        2,  4,  2,  2,  4,  4, 10, 10, 10,  4,  2, 10,  4,  4,  2, 25, 10,\n",
       "       25,  2,  4, 10, 10, 25, 10, 10, 25,  2,  4, 10, 25,  2,  4,  2, 10,\n",
       "       25, 10, 25])"
      ]
     },
     "execution_count": 26,
     "metadata": {},
     "output_type": "execute_result"
    }
   ],
   "source": [
    "y_train"
   ]
  },
  {
   "cell_type": "code",
   "execution_count": 12,
   "metadata": {},
   "outputs": [],
   "source": [
    "def cut_X(arr, reshape = None):\n",
    "    x_cut = arr[:,960:1300,600:]\n",
    "    if reshape:\n",
    "        if len(x_cut.shape)>3:\n",
    "            x_cut = x_cut[...,0]\n",
    "            x_cut_out = x_cut.reshape(x_cut.shape[0],x_cut.shape[1]*x_cut.shape[2])\n",
    "    else:\n",
    "        x_cut_out = x_cut\n",
    "    return x_cut_out\n",
    "\n",
    "def reshape_RF(arr):\n",
    "    arr_RF = arr.reshape((arr.shape[0], arr.shape[1]*arr.shape[2]))\n",
    "    return arr_RF"
   ]
  },
  {
   "cell_type": "code",
   "execution_count": 20,
   "metadata": {},
   "outputs": [],
   "source": [
    "X_1mm = np.load(os.path.join(data_folder, \"Xy_1mm.npz\"))[\"y\"]\n",
    "y_1mm = np.load(os.path.join(data_folder, \"Xy_1mm.npz\"))[\"dist\"]\n",
    "\n",
    "X_3mm = np.load(os.path.join(data_folder, \"Xy_3mm.npz\"))[\"y\"]\n",
    "y_3mm = np.load(os.path.join(data_folder, \"Xy_3mm.npz\"))[\"dist\"]"
   ]
  },
  {
   "cell_type": "code",
   "execution_count": 27,
   "metadata": {},
   "outputs": [],
   "source": [
    "X_15mm = np.load(os.path.join(data_folder, \"Xy_15mm.npz\"))[\"y\"]\n",
    "y_15mm = np.load(os.path.join(data_folder, \"Xy_15mm.npz\"))[\"dist\"]\n",
    "\n",
    "X_20mm = np.load(os.path.join(data_folder, \"Xy_20mm.npz\"))[\"y\"]\n",
    "y_20mm = np.load(os.path.join(data_folder, \"Xy_20mm.npz\"))[\"dist\"]\n",
    "\n"
   ]
  },
  {
   "cell_type": "code",
   "execution_count": 40,
   "metadata": {},
   "outputs": [],
   "source": [
    "X_train_cut = cut_X(X_train)\n",
    "X_train_RF = reshape_RF(X_train_cut)\n",
    "\n",
    "X_test_cut = cut_X(X_test)\n",
    "X_test_RF = reshape_RF(X_test_cut)\n",
    "\n"
   ]
  },
  {
   "cell_type": "code",
   "execution_count": 28,
   "metadata": {},
   "outputs": [],
   "source": [
    "\n",
    "X_1mm_cut = cut_X(X_1mm)\n",
    "X_1mm_RF = reshape_RF(X_1mm_cut)\n",
    "\n",
    "X_3mm_cut = cut_X(X_3mm)\n",
    "X_3mm_RF = reshape_RF(X_3mm_cut)\n",
    "\n",
    "X_15mm_cut = cut_X(X_15mm)\n",
    "X_15mm_RF = reshape_RF(X_15mm_cut)\n",
    "\n",
    "X_20mm_cut = cut_X(X_20mm)\n",
    "X_20mm_RF = reshape_RF(X_20mm_cut)\n"
   ]
  },
  {
   "cell_type": "code",
   "execution_count": 15,
   "metadata": {},
   "outputs": [],
   "source": [
    "rf = joblib.load(os.path.join(data_dir,\"trained_models\",\"Leaf_position_regression\",\"leaf_regression_RF_30est_8depth.pkl\"))"
   ]
  },
  {
   "cell_type": "code",
   "execution_count": 18,
   "metadata": {},
   "outputs": [],
   "source": [
    "preds_15mm = rf.predict(X_15mm_RF)"
   ]
  },
  {
   "cell_type": "code",
   "execution_count": 19,
   "metadata": {},
   "outputs": [
    {
     "data": {
      "text/plain": [
       "0.14568148148148144"
      ]
     },
     "execution_count": 19,
     "metadata": {},
     "output_type": "execute_result"
    }
   ],
   "source": [
    "mean_squared_error(y_15mm, preds_15mm)"
   ]
  },
  {
   "cell_type": "code",
   "execution_count": 22,
   "metadata": {},
   "outputs": [],
   "source": [
    "preds_1mm = rf.predict(X_1mm_RF)"
   ]
  },
  {
   "cell_type": "code",
   "execution_count": 24,
   "metadata": {},
   "outputs": [
    {
     "data": {
      "text/plain": [
       "1.0"
      ]
     },
     "execution_count": 24,
     "metadata": {},
     "output_type": "execute_result"
    }
   ],
   "source": [
    "mean_squared_error(y_1mm, preds_1mm)"
   ]
  },
  {
   "cell_type": "code",
   "execution_count": 23,
   "metadata": {},
   "outputs": [],
   "source": [
    "preds_3mm = rf.predict(X_3mm_RF)"
   ]
  },
  {
   "cell_type": "code",
   "execution_count": 25,
   "metadata": {},
   "outputs": [
    {
     "data": {
      "text/plain": [
       "0.49333333333333335"
      ]
     },
     "execution_count": 25,
     "metadata": {},
     "output_type": "execute_result"
    }
   ],
   "source": [
    "mean_squared_error(y_3mm, preds_3mm)"
   ]
  },
  {
   "cell_type": "code",
   "execution_count": 29,
   "metadata": {},
   "outputs": [],
   "source": [
    "preds_20mm = rf.predict(X_20mm_RF)"
   ]
  },
  {
   "cell_type": "code",
   "execution_count": 30,
   "metadata": {},
   "outputs": [
    {
     "data": {
      "text/plain": [
       "1.1747333333333332"
      ]
     },
     "execution_count": 30,
     "metadata": {},
     "output_type": "execute_result"
    }
   ],
   "source": [
    "mean_squared_error(y_20mm, preds_20mm)"
   ]
  },
  {
   "cell_type": "code",
   "execution_count": 31,
   "metadata": {},
   "outputs": [
    {
     "data": {
      "text/plain": [
       "array([18.5, 18.5, 19. , 21. , 20.5, 20. , 19. , 19.5, 18. , 18.5, 20. ,\n",
       "       21. , 20. , 21. , 19. , 19. , 20.5, 20. , 19. , 18.3, 20.5, 21.5,\n",
       "       21.5, 19. , 18. , 18. , 19.5, 20.5, 21. , 18.5, 19. , 19.5, 21.5,\n",
       "       19. , 20. , 19.5, 22. , 21. , 19.8, 18.5, 21. , 19. , 19.5, 20. ,\n",
       "       19. , 18.5, 21.5, 20.5, 19.1, 18.5, 22. , 19. , 20. , 19.5, 18.5,\n",
       "       19.5, 20. , 19.5, 19. , 18.5, 19.5, 20.5, 20.5, 19. , 18.5, 20. ,\n",
       "       21. , 19. , 21. , 18.5, 19.5, 21. , 21.5, 18.5, 19. , 21.5, 19.5,\n",
       "       20. , 21. , 18.5, 19.5, 21. , 19. , 18.5, 19. , 20.5, 19. , 18.5,\n",
       "       21. , 19. , 18.5, 20.6, 20.5, 19.3, 19. , 20. , 19.5, 19. , 19.5,\n",
       "       19. , 19.5, 20. , 20.6, 18. , 19. , 19.5, 20. , 19. , 18.5, 19.5,\n",
       "       20. , 19.5, 19.5, 21. , 20. , 18. , 21.5, 20. , 18.5, 17.5, 19.5,\n",
       "       20. , 20.5, 20. , 20. , 19. , 19. , 21. , 20. , 19. , 21.5, 20. ,\n",
       "       19.5, 21.5, 18.5, 18.5, 22. , 22. , 19. , 19. , 19.5, 21. , 19. ,\n",
       "       18.8, 19.3, 19.5, 21.5, 19.5, 21.5, 19. , 18.5, 21.5, 21.3, 19. ,\n",
       "       18.5, 18.5, 22. , 19.5, 18.5, 18.5, 20. , 22. , 21. , 20. , 19. ,\n",
       "       20.5, 20. , 20.5, 19.5, 18.5, 19. , 20. , 20.5, 18.5, 20.3, 21.5,\n",
       "       20. , 20.5, 18. , 19.5, 20. , 19.5, 19. , 19. , 19.5, 20. , 20.8,\n",
       "       20. , 18.5, 18.5, 20.5, 21. , 19.5, 19.5, 18. , 20. , 21. , 20. ,\n",
       "       18.5, 19. , 20. , 19.5, 21. , 20. , 18.8, 22. , 20. , 18.5, 18. ,\n",
       "       20. , 18.5, 19.5, 21. , 19. , 19.5, 19. , 22. , 19.5, 18. , 20.5,\n",
       "       20.5, 19. , 19.5, 21.5, 18.5, 19. , 19. , 18.5, 18.5, 19.5, 18.5,\n",
       "       21.5, 21. , 20.5, 20. , 19.5, 21.5, 21. , 18.5, 18.5, 21. , 19. ,\n",
       "       19.5, 18.5, 18. , 18.5, 21. , 21.5, 18. , 18.5, 19. , 21. , 20.5,\n",
       "       19. , 19.5, 19.5, 21. , 19. , 19.5, 19. , 20.5, 19.5, 19.5, 19. ,\n",
       "       18.5, 18.5, 19. , 20. , 18.5, 18.5, 19.5, 20. , 19. , 19.5, 20. ,\n",
       "       20.5, 21. , 20. , 20. , 19.5, 20.5, 20. , 19.5, 18. , 18.5, 18.5,\n",
       "       19.5, 20.5, 20.5, 18.5, 21. , 21.5, 20.3, 20. , 19.5, 21. , 20. ,\n",
       "       18.5, 18.5, 17.8])"
      ]
     },
     "execution_count": 31,
     "metadata": {},
     "output_type": "execute_result"
    }
   ],
   "source": [
    "preds_20mm"
   ]
  },
  {
   "cell_type": "code",
   "execution_count": 32,
   "metadata": {},
   "outputs": [],
   "source": [
    "preds_20_round = np.round(preds_20mm - 0.05)"
   ]
  },
  {
   "cell_type": "code",
   "execution_count": 33,
   "metadata": {},
   "outputs": [
    {
     "data": {
      "text/plain": [
       "1.51"
      ]
     },
     "execution_count": 33,
     "metadata": {},
     "output_type": "execute_result"
    }
   ],
   "source": [
    "mean_squared_error(y_20mm, preds_20_round)"
   ]
  },
  {
   "cell_type": "code",
   "execution_count": 34,
   "metadata": {},
   "outputs": [
    {
     "data": {
      "text/plain": [
       "array([18., 18., 19., 21., 20., 20., 19., 19., 18., 18., 20., 21., 20.,\n",
       "       21., 19., 19., 20., 20., 19., 18., 20., 21., 21., 19., 18., 18.,\n",
       "       19., 20., 21., 18., 19., 19., 21., 19., 20., 19., 22., 21., 20.,\n",
       "       18., 21., 19., 19., 20., 19., 18., 21., 20., 19., 18., 22., 19.,\n",
       "       20., 19., 18., 19., 20., 19., 19., 18., 19., 20., 20., 19., 18.,\n",
       "       20., 21., 19., 21., 18., 19., 21., 21., 18., 19., 21., 19., 20.,\n",
       "       21., 18., 19., 21., 19., 18., 19., 20., 19., 18., 21., 19., 18.,\n",
       "       21., 20., 19., 19., 20., 19., 19., 19., 19., 19., 20., 21., 18.,\n",
       "       19., 19., 20., 19., 18., 19., 20., 19., 19., 21., 20., 18., 21.,\n",
       "       20., 18., 17., 19., 20., 20., 20., 20., 19., 19., 21., 20., 19.,\n",
       "       21., 20., 19., 21., 18., 18., 22., 22., 19., 19., 19., 21., 19.,\n",
       "       19., 19., 19., 21., 19., 21., 19., 18., 21., 21., 19., 18., 18.,\n",
       "       22., 19., 18., 18., 20., 22., 21., 20., 19., 20., 20., 20., 19.,\n",
       "       18., 19., 20., 20., 18., 20., 21., 20., 20., 18., 19., 20., 19.,\n",
       "       19., 19., 19., 20., 21., 20., 18., 18., 20., 21., 19., 19., 18.,\n",
       "       20., 21., 20., 18., 19., 20., 19., 21., 20., 19., 22., 20., 18.,\n",
       "       18., 20., 18., 19., 21., 19., 19., 19., 22., 19., 18., 20., 20.,\n",
       "       19., 19., 21., 18., 19., 19., 18., 18., 19., 18., 21., 21., 20.,\n",
       "       20., 19., 21., 21., 18., 18., 21., 19., 19., 18., 18., 18., 21.,\n",
       "       21., 18., 18., 19., 21., 20., 19., 19., 19., 21., 19., 19., 19.,\n",
       "       20., 19., 19., 19., 18., 18., 19., 20., 18., 18., 19., 20., 19.,\n",
       "       19., 20., 20., 21., 20., 20., 19., 20., 20., 19., 18., 18., 18.,\n",
       "       19., 20., 20., 18., 21., 21., 20., 20., 19., 21., 20., 18., 18.,\n",
       "       18.])"
      ]
     },
     "execution_count": 34,
     "metadata": {},
     "output_type": "execute_result"
    }
   ],
   "source": [
    "preds_20_round"
   ]
  },
  {
   "cell_type": "code",
   "execution_count": 35,
   "metadata": {},
   "outputs": [
    {
     "data": {
      "text/plain": [
       "array([20, 20, 20, 20, 20, 20, 20, 20, 20, 20, 20, 20, 20, 20, 20, 20, 20,\n",
       "       20, 20, 20, 20, 20, 20, 20, 20, 20, 20, 20, 20, 20, 20, 20, 20, 20,\n",
       "       20, 20, 20, 20, 20, 20, 20, 20, 20, 20, 20, 20, 20, 20, 20, 20, 20,\n",
       "       20, 20, 20, 20, 20, 20, 20, 20, 20, 20, 20, 20, 20, 20, 20, 20, 20,\n",
       "       20, 20, 20, 20, 20, 20, 20, 20, 20, 20, 20, 20, 20, 20, 20, 20, 20,\n",
       "       20, 20, 20, 20, 20, 20, 20, 20, 20, 20, 20, 20, 20, 20, 20, 20, 20,\n",
       "       20, 20, 20, 20, 20, 20, 20, 20, 20, 20, 20, 20, 20, 20, 20, 20, 20,\n",
       "       20, 20, 20, 20, 20, 20, 20, 20, 20, 20, 20, 20, 20, 20, 20, 20, 20,\n",
       "       20, 20, 20, 20, 20, 20, 20, 20, 20, 20, 20, 20, 20, 20, 20, 20, 20,\n",
       "       20, 20, 20, 20, 20, 20, 20, 20, 20, 20, 20, 20, 20, 20, 20, 20, 20,\n",
       "       20, 20, 20, 20, 20, 20, 20, 20, 20, 20, 20, 20, 20, 20, 20, 20, 20,\n",
       "       20, 20, 20, 20, 20, 20, 20, 20, 20, 20, 20, 20, 20, 20, 20, 20, 20,\n",
       "       20, 20, 20, 20, 20, 20, 20, 20, 20, 20, 20, 20, 20, 20, 20, 20, 20,\n",
       "       20, 20, 20, 20, 20, 20, 20, 20, 20, 20, 20, 20, 20, 20, 20, 20, 20,\n",
       "       20, 20, 20, 20, 20, 20, 20, 20, 20, 20, 20, 20, 20, 20, 20, 20, 20,\n",
       "       20, 20, 20, 20, 20, 20, 20, 20, 20, 20, 20, 20, 20, 20, 20, 20, 20,\n",
       "       20, 20, 20, 20, 20, 20, 20, 20, 20, 20, 20, 20, 20, 20, 20, 20, 20,\n",
       "       20, 20, 20, 20, 20, 20, 20, 20, 20, 20, 20])"
      ]
     },
     "execution_count": 35,
     "metadata": {},
     "output_type": "execute_result"
    }
   ],
   "source": [
    "y_20mm"
   ]
  },
  {
   "cell_type": "code",
   "execution_count": 37,
   "metadata": {},
   "outputs": [
    {
     "data": {
      "text/plain": [
       "1.01"
      ]
     },
     "execution_count": 37,
     "metadata": {},
     "output_type": "execute_result"
    }
   ],
   "source": [
    "mean_absolute_error(y_20mm, preds_20_round)"
   ]
  },
  {
   "cell_type": "code",
   "execution_count": 38,
   "metadata": {},
   "outputs": [
    {
     "data": {
      "text/plain": [
       "array([18., 18., 19., 21., 20., 20., 19., 19., 18., 18., 20., 21., 20.,\n",
       "       21., 19., 19., 20., 20., 19., 18., 20., 21., 21., 19., 18., 18.,\n",
       "       19., 20., 21., 18., 19., 19., 21., 19., 20., 19., 22., 21., 20.,\n",
       "       18., 21., 19., 19., 20., 19., 18., 21., 20., 19., 18., 22., 19.,\n",
       "       20., 19., 18., 19., 20., 19., 19., 18., 19., 20., 20., 19., 18.,\n",
       "       20., 21., 19., 21., 18., 19., 21., 21., 18., 19., 21., 19., 20.,\n",
       "       21., 18., 19., 21., 19., 18., 19., 20., 19., 18., 21., 19., 18.,\n",
       "       21., 20., 19., 19., 20., 19., 19., 19., 19., 19., 20., 21., 18.,\n",
       "       19., 19., 20., 19., 18., 19., 20., 19., 19., 21., 20., 18., 21.,\n",
       "       20., 18., 17., 19., 20., 20., 20., 20., 19., 19., 21., 20., 19.,\n",
       "       21., 20., 19., 21., 18., 18., 22., 22., 19., 19., 19., 21., 19.,\n",
       "       19., 19., 19., 21., 19., 21., 19., 18., 21., 21., 19., 18., 18.,\n",
       "       22., 19., 18., 18., 20., 22., 21., 20., 19., 20., 20., 20., 19.,\n",
       "       18., 19., 20., 20., 18., 20., 21., 20., 20., 18., 19., 20., 19.,\n",
       "       19., 19., 19., 20., 21., 20., 18., 18., 20., 21., 19., 19., 18.,\n",
       "       20., 21., 20., 18., 19., 20., 19., 21., 20., 19., 22., 20., 18.,\n",
       "       18., 20., 18., 19., 21., 19., 19., 19., 22., 19., 18., 20., 20.,\n",
       "       19., 19., 21., 18., 19., 19., 18., 18., 19., 18., 21., 21., 20.,\n",
       "       20., 19., 21., 21., 18., 18., 21., 19., 19., 18., 18., 18., 21.,\n",
       "       21., 18., 18., 19., 21., 20., 19., 19., 19., 21., 19., 19., 19.,\n",
       "       20., 19., 19., 19., 18., 18., 19., 20., 18., 18., 19., 20., 19.,\n",
       "       19., 20., 20., 21., 20., 20., 19., 20., 20., 19., 18., 18., 18.,\n",
       "       19., 20., 20., 18., 21., 21., 20., 20., 19., 21., 20., 18., 18.,\n",
       "       18.])"
      ]
     },
     "execution_count": 38,
     "metadata": {},
     "output_type": "execute_result"
    }
   ],
   "source": [
    "preds_20_round"
   ]
  },
  {
   "cell_type": "code",
   "execution_count": 41,
   "metadata": {},
   "outputs": [],
   "source": [
    "test_preds = rf.predict(X_test_RF)"
   ]
  },
  {
   "cell_type": "code",
   "execution_count": 42,
   "metadata": {},
   "outputs": [
    {
     "data": {
      "text/plain": [
       "0.03043055555555555"
      ]
     },
     "execution_count": 42,
     "metadata": {},
     "output_type": "execute_result"
    }
   ],
   "source": [
    "mean_squared_error(y_test, test_preds)"
   ]
  },
  {
   "cell_type": "code",
   "execution_count": 43,
   "metadata": {},
   "outputs": [
    {
     "data": {
      "text/plain": [
       "array([10.        , 25.        ,  4.        ,  2.        ,  4.        ,\n",
       "       10.        ,  2.        ,  2.        , 10.        , 25.        ,\n",
       "        2.        ,  4.        ,  2.        ,  2.        , 25.        ,\n",
       "       25.        , 25.        , 25.        , 10.        ,  9.8       ,\n",
       "        4.        ,  4.        ,  3.93333333, 25.        , 25.        ,\n",
       "        4.        ,  2.        ,  9.2       , 10.        , 25.        ,\n",
       "        9.4       , 10.        , 10.        , 10.        ,  4.        ,\n",
       "       10.        , 10.        , 10.        ,  2.        , 25.        ,\n",
       "        2.        ,  4.        ,  4.        , 25.        ,  4.        ,\n",
       "        4.        ,  4.        , 10.        ,  4.        ,  4.        ,\n",
       "        2.        ,  2.        ,  4.        , 10.        ,  2.        ,\n",
       "       25.        , 25.        ,  2.        , 10.        , 10.        ,\n",
       "        2.        , 25.        ,  4.        ,  4.        ,  4.        ,\n",
       "        4.        ,  4.        , 10.        ,  2.        , 25.        ,\n",
       "       10.        ,  2.        ,  4.        ,  4.        ,  2.        ,\n",
       "       25.        , 10.        ,  4.        ,  2.        ,  2.        ,\n",
       "       25.        , 24.3       ,  2.        ,  2.        ,  3.93333333,\n",
       "       10.        , 10.        ,  2.        ,  2.        , 10.        ,\n",
       "        4.        ,  4.        ,  2.        , 25.        ,  4.        ,\n",
       "        4.        ,  4.        ,  2.        ,  2.        ,  2.        ,\n",
       "        4.        ,  2.        , 10.        ,  2.        ,  2.        ,\n",
       "       25.        ,  2.        ,  4.        ,  2.        ,  2.        ,\n",
       "       10.        ,  9.4       , 10.        ,  4.        , 25.        ,\n",
       "        2.        ,  4.        ,  2.        , 10.        ,  4.        ,\n",
       "       10.        ,  2.        , 25.        ,  4.        , 25.        ,\n",
       "       25.        , 25.        , 10.        , 25.        ,  2.        ,\n",
       "       10.        ,  2.        ,  4.        ,  4.        , 25.        ,\n",
       "       25.        ,  4.        ,  2.        , 10.        , 10.        ,\n",
       "       25.        ,  9.8       ,  4.        ,  4.        , 10.        ,\n",
       "       10.        , 10.        , 25.        ,  4.        ,  4.        ,\n",
       "       10.        ,  2.        ,  4.        , 25.        , 25.        ,\n",
       "        2.        , 25.        ,  2.        , 10.        ,  2.        ,\n",
       "       10.        , 25.        ,  2.        ,  4.        ,  4.        ,\n",
       "       10.        , 10.        ,  4.        ,  4.        ,  3.93333333,\n",
       "       10.        ,  2.        ,  4.        ,  2.        , 10.        ,\n",
       "        9.4       ,  2.        , 10.        , 25.        ,  2.        ,\n",
       "        2.        , 25.        , 10.        , 25.        , 25.        ,\n",
       "       25.        ,  4.        , 25.        ,  4.        , 25.        ,\n",
       "        4.        , 24.        ,  2.        ,  4.        , 25.        ,\n",
       "        2.        ,  4.        , 25.        , 23.5       , 25.        ,\n",
       "        2.        , 25.        , 10.        ,  2.        , 10.        ,\n",
       "        4.        , 10.        ,  2.        , 10.        ,  2.        ,\n",
       "       24.5       , 10.        ,  4.        , 25.        ,  2.        ,\n",
       "       24.5       , 25.        , 25.        , 25.        ,  4.        ,\n",
       "       10.        , 10.        , 10.        , 10.        , 25.        ,\n",
       "        4.        ,  4.        , 10.        ,  2.        , 24.5       ,\n",
       "        2.        , 25.        , 25.        , 10.        ,  2.        ,\n",
       "       25.        ,  2.        , 25.        , 24.        , 10.        ])"
      ]
     },
     "execution_count": 43,
     "metadata": {},
     "output_type": "execute_result"
    }
   ],
   "source": [
    "test_preds"
   ]
  },
  {
   "cell_type": "code",
   "execution_count": 47,
   "metadata": {},
   "outputs": [],
   "source": [
    "X_test_pred_unet = np.load(os.path.join(data_dir,\"trained_models\",\"UNet_training_generator_1500epochs\", \"Xy_test_predicted_UNet.npz\"))[ \"y\"]\n",
    "y_test_pred_unet = np.load(os.path.join(data_dir,\"trained_models\", \"UNet_training_generator_1500epochs\", \"Xy_test_predicted_UNet.npz\"))[ \"dist\"]"
   ]
  },
  {
   "cell_type": "code",
   "execution_count": 48,
   "metadata": {},
   "outputs": [],
   "source": [
    "X_test_unet_cut = cut_X(X_test_pred_unet)\n",
    "X_test_unet_RF = reshape_RF(X_test_unet_cut)"
   ]
  },
  {
   "cell_type": "code",
   "execution_count": 49,
   "metadata": {},
   "outputs": [
    {
     "data": {
      "text/plain": [
       "array([2., 2., 2., 2., 2., 2., 2., 2., 2., 2., 2., 2., 2., 2., 2., 2., 2.,\n",
       "       2., 2., 2., 2., 2., 2., 2., 2., 2., 2., 2., 2., 2., 2., 2., 2., 2.,\n",
       "       2., 2., 2., 2., 2., 2., 2., 2., 2., 2., 2., 2., 2., 2., 2., 2., 2.,\n",
       "       2., 2., 2., 2., 2., 2., 2., 2., 2., 2., 2., 2., 2., 2., 2., 2., 2.,\n",
       "       2., 2., 2., 2., 2., 2., 2., 2., 2., 2., 2., 2., 2., 2., 2., 2., 2.,\n",
       "       2., 2., 2., 2., 2., 2., 2., 2., 2., 2., 2., 2., 2., 2., 2., 2., 2.,\n",
       "       2., 2., 2., 2., 2., 2., 2., 2., 2., 2., 2., 2., 2., 2., 2., 2., 2.,\n",
       "       2., 2., 2., 2., 2., 2., 2., 2., 2., 2., 2., 2., 2., 2., 2., 2., 2.,\n",
       "       2., 2., 2., 2., 2., 2., 2., 2., 2., 2., 2., 2., 2., 2., 2., 2., 2.,\n",
       "       2., 2., 2., 2., 2., 2., 2., 2., 2., 2., 2., 2., 2., 2., 2., 2., 2.,\n",
       "       2., 2., 2., 2., 2., 2., 2., 2., 2., 2., 2., 2., 2., 2., 2., 2., 2.,\n",
       "       2., 2., 2., 2., 2., 2., 2., 2., 2., 2., 2., 2., 2., 2., 2., 2., 2.,\n",
       "       2., 2., 2., 2., 2., 2., 2., 2., 2., 2., 2., 2., 2., 2., 2., 2., 2.,\n",
       "       2., 2., 2., 2., 2., 2., 2., 2., 2., 2., 2., 2., 2., 2., 2., 2., 2.,\n",
       "       2., 2.])"
      ]
     },
     "execution_count": 49,
     "metadata": {},
     "output_type": "execute_result"
    }
   ],
   "source": [
    "rf.predict(X_test_unet_RF)"
   ]
  },
  {
   "cell_type": "code",
   "execution_count": 56,
   "metadata": {},
   "outputs": [
    {
     "data": {
      "text/plain": [
       "array([25, 10,  2,  4,  2, 25,  4, 25,  4, 10, 10,  2,  2, 10,  2,  2,  4,\n",
       "       10, 10,  4,  4, 10, 10,  4,  2,  2, 10,  4,  4,  4,  4, 10, 10, 10,\n",
       "        4,  4,  4,  2,  4, 10, 25,  2, 25,  4, 25,  4,  4,  2,  2,  2, 10,\n",
       "       25,  4,  2, 25,  4, 25, 25, 25,  4,  4,  2,  2,  2,  2, 25,  2,  4,\n",
       "        4,  4,  4,  2, 25,  2,  2,  4,  2,  2, 25, 10, 25,  2, 10,  2,  4,\n",
       "       25, 25,  2, 25, 10,  4,  4,  2,  4, 25, 10,  4, 25,  2,  2,  4,  2,\n",
       "       10,  2, 10, 10, 25, 25, 25, 25,  4, 10,  2, 25, 10, 25,  2,  2, 10,\n",
       "        2,  4, 25, 25, 25,  4, 25,  4,  2, 10, 10,  2, 25,  4,  2, 25, 10,\n",
       "       10,  4,  4, 25, 25, 10,  4, 10, 10,  4, 10, 10,  4,  4, 25,  4, 10,\n",
       "        2, 25,  4,  4,  2, 25,  4, 25, 25, 25,  2,  2, 10,  2, 10, 10,  2,\n",
       "       10, 25,  4,  2,  2,  4,  2, 25,  2, 10, 10, 10,  2, 25,  2, 25,  4,\n",
       "       10,  4,  4, 10, 10,  2, 10,  4,  2,  2, 25, 25,  2, 10, 25, 10, 25,\n",
       "       10,  2, 10, 10, 10, 25, 25, 10,  4, 10, 25,  2, 10,  2, 10,  4, 25,\n",
       "       25, 25, 25,  2,  4, 10,  2,  2, 10,  4,  2, 25, 10, 25,  4, 10,  4,\n",
       "       25, 10])"
      ]
     },
     "execution_count": 56,
     "metadata": {},
     "output_type": "execute_result"
    }
   ],
   "source": [
    "y_test_pred_unet"
   ]
  },
  {
   "cell_type": "code",
   "execution_count": 66,
   "metadata": {},
   "outputs": [
    {
     "data": {
      "text/plain": [
       "<matplotlib.image.AxesImage at 0x7f9e2d7beef0>"
      ]
     },
     "execution_count": 66,
     "metadata": {},
     "output_type": "execute_result"
    },
    {
     "data": {
      "image/png": "[encoded data removed]",
      "text/plain": [
       "<Figure size 432x288 with 1 Axes>"
      ]
     },
     "metadata": {
      "needs_background": "light"
     },
     "output_type": "display_data"
    }
   ],
   "source": [
    "plt.imshow(X_test_unet_cut[0])"
   ]
  },
  {
   "cell_type": "code",
   "execution_count": 69,
   "metadata": {},
   "outputs": [
    {
     "data": {
      "text/plain": [
       "(240, 340, 800)"
      ]
     },
     "execution_count": 69,
     "metadata": {},
     "output_type": "execute_result"
    }
   ],
   "source": [
    "X_test_unet_cut.shape"
   ]
  },
  {
   "cell_type": "code",
   "execution_count": 70,
   "metadata": {},
   "outputs": [
    {
     "data": {
      "text/plain": [
       "(240, 340, 800, 1)"
      ]
     },
     "execution_count": 70,
     "metadata": {},
     "output_type": "execute_result"
    }
   ],
   "source": [
    "X_test_cut.shape"
   ]
  },
  {
   "cell_type": "code",
   "execution_count": 71,
   "metadata": {},
   "outputs": [
    {
     "data": {
      "text/plain": [
       "<matplotlib.image.AxesImage at 0x7f9e2d799978>"
      ]
     },
     "execution_count": 71,
     "metadata": {},
     "output_type": "execute_result"
    },
    {
     "data": {
      "image/png": "[encoded data removed]",
      "text/plain": [
       "<Figure size 432x288 with 1 Axes>"
      ]
     },
     "metadata": {
      "needs_background": "light"
     },
     "output_type": "display_data"
    }
   ],
   "source": [
    "plt.imshow(X_test_cut[1][...,0])"
   ]
  },
  {
   "cell_type": "code",
   "execution_count": 76,
   "metadata": {},
   "outputs": [
    {
     "data": {
      "text/plain": [
       "array([2.])"
      ]
     },
     "execution_count": 76,
     "metadata": {},
     "output_type": "execute_result"
    }
   ],
   "source": [
    "rf.predict([X_test_unet_RF[1].astype(np.uint8)])"
   ]
  },
  {
   "cell_type": "code",
   "execution_count": 63,
   "metadata": {},
   "outputs": [
    {
     "data": {
      "text/plain": [
       "array([10, 25,  4,  2,  4, 10,  2,  2, 10, 25,  2,  4,  2,  2, 25, 25, 25,\n",
       "       25, 10, 10,  4,  4,  4, 25, 25,  4,  2, 10, 10, 25, 10, 10, 10, 10,\n",
       "        4, 10, 10, 10,  2, 25,  2,  4,  4, 25,  4,  4,  4, 10,  4,  4,  2,\n",
       "        2,  4, 10,  2, 25, 25,  2, 10, 10,  2, 25,  4,  4,  4,  4,  4, 10,\n",
       "        2, 25, 10,  2,  4,  4,  2, 25, 10,  4,  2,  2, 25, 25,  2,  2,  4,\n",
       "       10, 10,  2,  2, 10,  4,  4,  2, 25,  4,  4,  4,  2,  2,  2,  4,  2,\n",
       "       10,  2,  2, 25,  2,  4,  2,  2, 10, 10, 10,  4, 25,  2,  4,  2, 10,\n",
       "        4, 10,  2, 25,  4, 25, 25, 25, 10, 25,  2, 10,  2,  4,  4, 25, 25,\n",
       "        4,  2, 10, 10, 25, 10,  4,  4, 10, 10, 10, 25,  4,  4, 10,  2,  4,\n",
       "       25, 25,  2, 25,  2, 10,  2, 10, 25,  2,  4,  4, 10, 10,  4,  4,  4,\n",
       "       10,  2,  4,  2, 10, 10,  2, 10, 25,  2,  2, 25, 10, 25, 25, 25,  4,\n",
       "       25,  4, 25,  4, 25,  2,  4, 25,  2,  4, 25, 25, 25,  2, 25, 10,  2,\n",
       "       10,  4, 10,  2, 10,  2, 25, 10,  4, 25,  2, 25, 25, 25, 25,  4, 10,\n",
       "       10, 10, 10, 25,  4,  4, 10,  2, 25,  2, 25, 25, 10,  2, 25,  2, 25,\n",
       "       25, 10])"
      ]
     },
     "execution_count": 63,
     "metadata": {},
     "output_type": "execute_result"
    }
   ],
   "source": [
    "y_test"
   ]
  },
  {
   "cell_type": "code",
   "execution_count": 74,
   "metadata": {},
   "outputs": [
    {
     "data": {
      "text/plain": [
       "array([[0, 0, 0, ..., 0, 0, 0],\n",
       "       [0, 0, 0, ..., 0, 0, 0],\n",
       "       [0, 0, 0, ..., 0, 0, 0],\n",
       "       ...,\n",
       "       [0, 0, 0, ..., 0, 0, 0],\n",
       "       [0, 0, 0, ..., 0, 0, 0],\n",
       "       [0, 0, 0, ..., 0, 0, 0]], dtype=uint8)"
      ]
     },
     "execution_count": 74,
     "metadata": {},
     "output_type": "execute_result"
    }
   ],
   "source": [
    "X_test_cut[1][...,0]"
   ]
  },
  {
   "cell_type": "code",
   "execution_count": 80,
   "metadata": {},
   "outputs": [
    {
     "data": {
      "text/plain": [
       "array([255, 255, 255, ..., 255, 255, 255], dtype=uint8)"
      ]
     },
     "execution_count": 80,
     "metadata": {},
     "output_type": "execute_result"
    }
   ],
   "source": [
    "X_test_cut[1][...,0][X_test_cut[1][...,0]!=0]"
   ]
  },
  {
   "cell_type": "code",
   "execution_count": 81,
   "metadata": {},
   "outputs": [
    {
     "data": {
      "text/plain": [
       "array([2.6934828e-34, 4.4616344e-35, 1.4082635e-38, ..., 2.8038732e-23,\n",
       "       2.0302219e-30, 4.3684898e-25], dtype=float32)"
      ]
     },
     "execution_count": 81,
     "metadata": {},
     "output_type": "execute_result"
    }
   ],
   "source": [
    "X_test_unet_cut[0][X_test_unet_cut[0]!=0]"
   ]
  },
  {
   "cell_type": "code",
   "execution_count": 82,
   "metadata": {},
   "outputs": [],
   "source": [
    "X_test_unet_cut_uint8 = X_test_unet_cut.astype(np.uint8)"
   ]
  },
  {
   "cell_type": "code",
   "execution_count": 86,
   "metadata": {},
   "outputs": [],
   "source": [
    "X_test_unet_cut_uint8[0] = X_test_unet_cut_uint8[0]*255"
   ]
  },
  {
   "cell_type": "code",
   "execution_count": 90,
   "metadata": {},
   "outputs": [
    {
     "data": {
      "text/plain": [
       "array([25.])"
      ]
     },
     "execution_count": 90,
     "metadata": {},
     "output_type": "execute_result"
    }
   ],
   "source": [
    "rf.predict([X_test_unet_cut_uint8[0].ravel()])"
   ]
  },
  {
   "cell_type": "code",
   "execution_count": 91,
   "metadata": {},
   "outputs": [],
   "source": [
    "X_test_unet_cut = X_test_unet_cut.astype(np.uint8)*255"
   ]
  },
  {
   "cell_type": "code",
   "execution_count": 92,
   "metadata": {},
   "outputs": [],
   "source": [
    "X_test_unet_RF = reshape_RF(X_test_unet_cut)"
   ]
  },
  {
   "cell_type": "code",
   "execution_count": 93,
   "metadata": {},
   "outputs": [],
   "source": [
    "preds_unet = rf.predict(X_test_unet_RF)"
   ]
  },
  {
   "cell_type": "code",
   "execution_count": 94,
   "metadata": {},
   "outputs": [
    {
     "data": {
      "text/plain": [
       "array([25.        , 10.        ,  2.        ,  4.2       ,  2.        ,\n",
       "       25.        ,  4.4       , 25.        ,  4.2       , 10.        ,\n",
       "       10.5       ,  2.        ,  2.        , 10.        ,  2.        ,\n",
       "        2.        ,  4.        , 10.        , 10.        ,  4.4       ,\n",
       "        4.6       , 10.5       , 10.5       ,  4.4       ,  2.        ,\n",
       "        2.        , 10.5       ,  4.        ,  4.        ,  4.4       ,\n",
       "        4.        , 10.5       , 10.        , 10.5       ,  4.        ,\n",
       "        4.        ,  4.        ,  2.        ,  4.6       , 10.        ,\n",
       "       25.        ,  2.        , 25.        ,  4.8       , 25.        ,\n",
       "        4.        ,  4.        ,  2.        ,  2.        ,  2.        ,\n",
       "       10.        , 25.        ,  4.        ,  2.        , 25.        ,\n",
       "        4.        , 25.        , 25.        , 25.        ,  4.        ,\n",
       "        4.        ,  2.        ,  2.        ,  2.        ,  2.        ,\n",
       "       25.        ,  2.        ,  4.        ,  4.4       ,  4.        ,\n",
       "        4.        ,  2.        , 25.        ,  2.        ,  2.        ,\n",
       "        4.4       ,  2.        ,  2.        , 25.        , 10.5       ,\n",
       "       25.        ,  2.        , 10.        ,  2.        ,  4.        ,\n",
       "       25.        , 25.        ,  2.        , 25.        , 10.        ,\n",
       "        4.4       ,  4.        ,  2.        ,  4.4       , 25.        ,\n",
       "       10.5       ,  4.        , 25.        ,  2.        ,  2.        ,\n",
       "        4.4       ,  2.        , 10.5       ,  2.        , 10.5       ,\n",
       "       10.        , 25.        , 25.        , 25.        , 25.        ,\n",
       "        4.2       , 10.        ,  2.        , 25.        , 10.        ,\n",
       "       25.        ,  2.        ,  2.06666667, 10.        ,  2.        ,\n",
       "        4.        , 25.        , 25.        , 25.        ,  4.2       ,\n",
       "       25.        ,  4.        ,  2.06666667, 10.        , 10.        ,\n",
       "        2.        , 25.        ,  4.        ,  2.        , 25.        ,\n",
       "       10.        , 10.5       ,  4.6       ,  4.        , 25.        ,\n",
       "       25.        , 10.5       ,  4.2       , 10.        , 10.        ,\n",
       "        4.2       , 10.5       , 10.        ,  4.        ,  4.2       ,\n",
       "       25.        ,  4.4       , 10.        ,  2.        , 25.        ,\n",
       "        4.2       ,  4.        ,  2.        , 25.        ,  4.        ,\n",
       "       25.        , 25.        , 25.        ,  2.33333333,  2.        ,\n",
       "       10.5       ,  2.        , 10.        , 10.        ,  2.        ,\n",
       "       10.5       , 25.        ,  4.        ,  2.        ,  2.        ,\n",
       "        4.        ,  2.        , 25.        ,  2.        , 10.        ,\n",
       "       10.        , 10.        ,  2.        , 25.        ,  2.06666667,\n",
       "       25.        ,  4.        , 10.        ,  4.        ,  4.        ,\n",
       "       10.        , 10.        ,  2.        , 10.5       ,  4.        ,\n",
       "        2.        ,  2.        , 25.        , 25.        ,  2.        ,\n",
       "       10.        , 25.        , 10.5       , 25.        , 10.        ,\n",
       "        2.        , 10.        , 10.5       , 10.5       , 25.        ,\n",
       "       25.        , 10.5       ,  4.        , 10.        , 25.        ,\n",
       "        2.        , 10.        ,  2.        , 10.5       ,  4.        ,\n",
       "       25.        , 25.        , 25.        , 25.        ,  2.        ,\n",
       "        4.4       , 10.        ,  2.        ,  2.        , 11.        ,\n",
       "        4.        ,  2.        , 25.        , 10.        , 25.        ,\n",
       "        4.        , 11.        ,  4.2       , 25.        , 10.        ])"
      ]
     },
     "execution_count": 94,
     "metadata": {},
     "output_type": "execute_result"
    }
   ],
   "source": [
    "preds_unet"
   ]
  },
  {
   "cell_type": "code",
   "execution_count": 95,
   "metadata": {},
   "outputs": [
    {
     "data": {
      "text/plain": [
       "0.04672685185185186"
      ]
     },
     "execution_count": 95,
     "metadata": {},
     "output_type": "execute_result"
    }
   ],
   "source": [
    "mean_squared_error(preds_unet, y_test_pred_unet)"
   ]
  },
  {
   "cell_type": "code",
   "execution_count": null,
   "metadata": {},
   "outputs": [],
   "source": []
  }
 ],
 "metadata": {
  "kernelspec": {
   "display_name": "Python 3",
   "language": "python",
   "name": "python3"
  },
  "language_info": {
   "codemirror_mode": {
    "name": "ipython",
    "version": 3
   },
   "file_extension": ".py",
   "mimetype": "text/x-python",
   "name": "python",
   "nbconvert_exporter": "python",
   "pygments_lexer": "ipython3",
   "version": "3.6.7"
  }
 },
 "nbformat": 4,
 "nbformat_minor": 2
}
