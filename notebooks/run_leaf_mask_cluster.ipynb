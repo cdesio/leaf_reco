{
 "cells": [
  {
   "cell_type": "code",
   "execution_count": 4,
   "metadata": {},
   "outputs": [],
   "source": [
    "import numpy as np"
   ]
  },
  {
   "cell_type": "code",
   "execution_count": 12,
   "metadata": {
    "scrolled": true
   },
   "outputs": [
    {
     "name": "stdout",
     "output_type": "stream",
     "text": [
      "Collecting scikit-image\n",
      "  Downloading https://files.pythonhosted.org/packages/24/06/d560630eb9e36d90d69fe57d9ff762d8f501664ce478b8a0ae132b3c3008/scikit_image-0.14.2-cp36-cp36m-manylinux1_x86_64.whl (25.3MB)\n",
      "\u001b[K    100% |################################| 25.3MB 45kB/s  eta 0:00:01  4% |#                               | 1.0MB 48.8MB/s eta 0:00:01\n",
      "\u001b[?25hRequirement already satisfied: pillow>=4.3.0 in /opt/conda/lib/python3.6/site-packages (from scikit-image)\n",
      "Requirement already satisfied: six>=1.10.0 in /opt/conda/lib/python3.6/site-packages (from scikit-image)\n",
      "Requirement already satisfied: cloudpickle>=0.2.1 in /opt/conda/lib/python3.6/site-packages (from scikit-image)\n",
      "Requirement already satisfied: matplotlib>=2.0.0 in /opt/conda/lib/python3.6/site-packages (from scikit-image)\n",
      "Requirement already satisfied: scipy>=0.17.0 in /opt/conda/lib/python3.6/site-packages (from scikit-image)\n",
      "Collecting dask[array]>=1.0.0 (from scikit-image)\n",
      "  Downloading https://files.pythonhosted.org/packages/7c/2b/cf9e5477bec3bd3b4687719876ea38e9d8c9dc9d3526365c74e836e6a650/dask-1.1.1-py2.py3-none-any.whl (701kB)\n",
      "\u001b[K    100% |################################| 706kB 1.6MB/s eta 0:00:01\n",
      "\u001b[?25hCollecting PyWavelets>=0.4.0 (from scikit-image)\n",
      "  Downloading https://files.pythonhosted.org/packages/fe/68/74a8527b3a727aa69736baaf5a273d83947fa6c91ef4f2e1efddda00d8b6/PyWavelets-1.0.1-cp36-cp36m-manylinux1_x86_64.whl (4.4MB)\n",
      "\u001b[K    100% |################################| 4.4MB 258kB/s eta 0:00:01\n",
      "\u001b[?25hCollecting networkx>=1.8 (from scikit-image)\n",
      "  Downloading https://files.pythonhosted.org/packages/f3/f4/7e20ef40b118478191cec0b58c3192f822cace858c19505c7670961b76b2/networkx-2.2.zip (1.7MB)\n",
      "\u001b[K    100% |################################| 1.7MB 693kB/s eta 0:00:01\n",
      "\u001b[?25hRequirement already satisfied: numpy>=1.7.1 in /opt/conda/lib/python3.6/site-packages (from matplotlib>=2.0.0->scikit-image)\n",
      "Requirement already satisfied: cycler>=0.10 in /opt/conda/lib/python3.6/site-packages (from matplotlib>=2.0.0->scikit-image)\n",
      "Requirement already satisfied: pyparsing!=2.0.4,!=2.1.2,!=2.1.6,>=2.0.1 in /opt/conda/lib/python3.6/site-packages (from matplotlib>=2.0.0->scikit-image)\n",
      "Requirement already satisfied: python-dateutil>=2.1 in /opt/conda/lib/python3.6/site-packages (from matplotlib>=2.0.0->scikit-image)\n",
      "Requirement already satisfied: pytz in /opt/conda/lib/python3.6/site-packages (from matplotlib>=2.0.0->scikit-image)\n",
      "Requirement already satisfied: kiwisolver>=1.0.1 in /opt/conda/lib/python3.6/site-packages (from matplotlib>=2.0.0->scikit-image)\n",
      "Requirement already satisfied: toolz>=0.7.3; extra == \"array\" in /opt/conda/lib/python3.6/site-packages (from dask[array]>=1.0.0->scikit-image)\n",
      "Collecting decorator>=4.3.0 (from networkx>=1.8->scikit-image)\n",
      "  Downloading https://files.pythonhosted.org/packages/f1/cd/7c8240007e9716b14679bc217a1baefa4432aa30394f7e2ec40a52b1a708/decorator-4.3.2-py2.py3-none-any.whl\n",
      "Requirement already satisfied: setuptools in /opt/conda/lib/python3.6/site-packages (from kiwisolver>=1.0.1->matplotlib>=2.0.0->scikit-image)\n",
      "Building wheels for collected packages: networkx\n",
      "  Running setup.py bdist_wheel for networkx ... \u001b[?25ldone\n",
      "\u001b[?25h  Stored in directory: /home/keras/.cache/pip/wheels/68/f8/29/b53346a112a07d30a5a84d53f19aeadaa1a474897c0423af91\n",
      "Successfully built networkx\n",
      "Installing collected packages: dask, PyWavelets, decorator, networkx, scikit-image\n",
      "  Found existing installation: dask 0.17.2\n",
      "    Uninstalling dask-0.17.2:\n",
      "      Successfully uninstalled dask-0.17.2\n",
      "  Found existing installation: decorator 4.2.1\n",
      "    Uninstalling decorator-4.2.1:\n",
      "      Successfully uninstalled decorator-4.2.1\n",
      "Successfully installed PyWavelets-1.0.1 dask-1.1.1 decorator-4.3.2 networkx-2.2 scikit-image-0.14.2\n",
      "\u001b[33mYou are using pip version 9.0.3, however version 19.0.2 is available.\n",
      "You should consider upgrading via the 'pip install --upgrade pip' command.\u001b[0m\n"
     ]
    }
   ],
   "source": [
    "!pip install scikit-image"
   ]
  },
  {
   "cell_type": "code",
   "execution_count": 11,
   "metadata": {
    "scrolled": true
   },
   "outputs": [
    {
     "name": "stdout",
     "output_type": "stream",
     "text": [
      "File_0_4mm_mask_2097.tiff   \u001b[0m\u001b[01;32mFile_260.tiff\u001b[0m*\r\n",
      "\u001b[01;32mFile_10.tiff\u001b[0m*               \u001b[01;32mFile_261.tiff\u001b[0m*\r\n",
      "\u001b[01;32mFile_103.tiff\u001b[0m*              \u001b[01;32mFile_266.tiff\u001b[0m*\r\n",
      "\u001b[01;32mFile_104.tiff\u001b[0m*              \u001b[01;32mFile_267.tiff\u001b[0m*\r\n",
      "\u001b[01;32mFile_105.tiff\u001b[0m*              \u001b[01;32mFile_27.tiff\u001b[0m*\r\n",
      "\u001b[01;32mFile_108.tiff\u001b[0m*              \u001b[01;32mFile_270.tiff\u001b[0m*\r\n",
      "\u001b[01;32mFile_109.tiff\u001b[0m*              \u001b[01;32mFile_271.tiff\u001b[0m*\r\n",
      "File_10_4mm_mask_2097.tiff  \u001b[01;32mFile_276.tiff\u001b[0m*\r\n",
      "\u001b[01;32mFile_11.tiff\u001b[0m*               \u001b[01;32mFile_277.tiff\u001b[0m*\r\n",
      "\u001b[01;32mFile_112.tiff\u001b[0m*              File_27_4mm_mask_2093.tiff\r\n",
      "\u001b[01;32mFile_113.tiff\u001b[0m*              \u001b[01;32mFile_282.tiff\u001b[0m*\r\n",
      "\u001b[01;32mFile_115.tiff\u001b[0m*              \u001b[01;32mFile_283.tiff\u001b[0m*\r\n",
      "\u001b[01;32mFile_118.tiff\u001b[0m*              \u001b[01;32mFile_284.tiff\u001b[0m*\r\n",
      "\u001b[01;32mFile_119.tiff\u001b[0m*              \u001b[01;32mFile_288.tiff\u001b[0m*\r\n",
      "\u001b[01;32mFile_122.tiff\u001b[0m*              \u001b[01;32mFile_289.tiff\u001b[0m*\r\n",
      "\u001b[01;32mFile_123.tiff\u001b[0m*              \u001b[01;32mFile_292.tiff\u001b[0m*\r\n",
      "\u001b[01;32mFile_124.tiff\u001b[0m*              \u001b[01;32mFile_294.tiff\u001b[0m*\r\n",
      "\u001b[01;32mFile_125.tiff\u001b[0m*              \u001b[01;32mFile_295.tiff\u001b[0m*\r\n",
      "\u001b[01;32mFile_128.tiff\u001b[0m*              \u001b[01;32mFile_298.tiff\u001b[0m*\r\n",
      "\u001b[01;32mFile_129.tiff\u001b[0m*              \u001b[01;32mFile_299.tiff\u001b[0m*\r\n",
      "\u001b[01;32mFile_132.tiff\u001b[0m*              File_29_4mm_mask_2094.tiff\r\n",
      "\u001b[01;32mFile_133.tiff\u001b[0m*              \u001b[01;32mFile_3.tiff\u001b[0m*\r\n",
      "\u001b[01;32mFile_134.tiff\u001b[0m*              \u001b[01;32mFile_30.tiff\u001b[0m*\r\n",
      "\u001b[01;32mFile_135.tiff\u001b[0m*              \u001b[01;32mFile_31.tiff\u001b[0m*\r\n",
      "\u001b[01;32mFile_139.tiff\u001b[0m*              File_34_4mm_mask_2103.tiff\r\n",
      "\u001b[01;32mFile_142.tiff\u001b[0m*              \u001b[01;32mFile_36.tiff\u001b[0m*\r\n",
      "\u001b[01;32mFile_144.tiff\u001b[0m*              File_36_4mm_mask_2091.tiff\r\n",
      "\u001b[01;32mFile_145.tiff\u001b[0m*              File_37_4mm_mask_2099.tiff\r\n",
      "\u001b[01;32mFile_148.tiff\u001b[0m*              File_3_4mm_mask_2097.tiff\r\n",
      "\u001b[01;32mFile_149.tiff\u001b[0m*              \u001b[01;32mFile_4.tiff\u001b[0m*\r\n",
      "\u001b[01;32mFile_152.tiff\u001b[0m*              \u001b[01;32mFile_40.tiff\u001b[0m*\r\n",
      "\u001b[01;32mFile_153.tiff\u001b[0m*              \u001b[01;32mFile_41.tiff\u001b[0m*\r\n",
      "\u001b[01;32mFile_154.tiff\u001b[0m*              File_42_4mm_mask_2093.tiff\r\n",
      "\u001b[01;32mFile_158.tiff\u001b[0m*              \u001b[01;32mFile_46.tiff\u001b[0m*\r\n",
      "\u001b[01;32mFile_159.tiff\u001b[0m*              File_46_4mm_mask_2091.tiff\r\n",
      "\u001b[01;32mFile_16.tiff\u001b[0m*               \u001b[01;32mFile_47.tiff\u001b[0m*\r\n",
      "\u001b[01;32mFile_162.tiff\u001b[0m*              File_49_4mm_mask_2098.tiff\r\n",
      "\u001b[01;32mFile_163.tiff\u001b[0m*              \u001b[01;32mFile_5.tiff\u001b[0m*\r\n",
      "\u001b[01;32mFile_164.tiff\u001b[0m*              \u001b[01;32mFile_50.tiff\u001b[0m*\r\n",
      "\u001b[01;32mFile_165.tiff\u001b[0m*              File_50_4mm_mask_2096.tiff\r\n",
      "\u001b[01;32mFile_168.tiff\u001b[0m*              \u001b[01;32mFile_51.tiff\u001b[0m*\r\n",
      "\u001b[01;32mFile_169.tiff\u001b[0m*              File_51_4mm_mask_2095.tiff\r\n",
      "File_16_4mm_mask_2100.tiff  File_52_4mm_mask_2102.tiff\r\n",
      "\u001b[01;32mFile_17.tiff\u001b[0m*               File_55_4mm_mask_2096.tiff\r\n",
      "\u001b[01;32mFile_172.tiff\u001b[0m*              \u001b[01;32mFile_56.tiff\u001b[0m*\r\n",
      "\u001b[01;32mFile_173.tiff\u001b[0m*              File_56_4mm_mask_2096.tiff\r\n",
      "\u001b[01;32mFile_174.tiff\u001b[0m*              \u001b[01;32mFile_57.tiff\u001b[0m*\r\n",
      "\u001b[01;32mFile_175.tiff\u001b[0m*              \u001b[01;32mFile_61.tiff\u001b[0m*\r\n",
      "\u001b[01;32mFile_178.tiff\u001b[0m*              File_61_4mm_mask_2098.tiff\r\n",
      "\u001b[01;32mFile_179.tiff\u001b[0m*              \u001b[01;32mFile_66.tiff\u001b[0m*\r\n",
      "\u001b[01;32mFile_181.tiff\u001b[0m*              File_66_4mm_mask_2091.tiff\r\n",
      "\u001b[01;32mFile_186.tiff\u001b[0m*              \u001b[01;32mFile_67.tiff\u001b[0m*\r\n",
      "\u001b[01;32mFile_187.tiff\u001b[0m*              File_69_4mm_mask_2094.tiff\r\n",
      "\u001b[01;32mFile_190.tiff\u001b[0m*              File_6_4mm_mask_2096.tiff\r\n",
      "\u001b[01;32mFile_191.tiff\u001b[0m*              \u001b[01;32mFile_70.tiff\u001b[0m*\r\n",
      "\u001b[01;32mFile_196.tiff\u001b[0m*              File_70_4mm_mask_2101.tiff\r\n",
      "\u001b[01;32mFile_197.tiff\u001b[0m*              \u001b[01;32mFile_71.tiff\u001b[0m*\r\n",
      "File_1_4mm_mask_2104.tiff   File_71_4mm_mask_2095.tiff\r\n",
      "\u001b[01;32mFile_2.tiff\u001b[0m*                File_74_4mm_mask_2098.tiff\r\n",
      "\u001b[01;32mFile_20.tiff\u001b[0m*               \u001b[01;32mFile_77.tiff\u001b[0m*\r\n",
      "\u001b[01;32mFile_200.tiff\u001b[0m*              File_77_4mm_mask_2092.tiff\r\n",
      "\u001b[01;32mFile_201.tiff\u001b[0m*              File_79_4mm_mask_2108.tiff\r\n",
      "\u001b[01;32mFile_206.tiff\u001b[0m*              File_7_4mm_mask_2109.tiff\r\n",
      "\u001b[01;32mFile_207.tiff\u001b[0m*              \u001b[01;32mFile_8.tiff\u001b[0m*\r\n",
      "\u001b[01;32mFile_210.tiff\u001b[0m*              File_81_4mm_mask_2099.tiff\r\n",
      "\u001b[01;32mFile_216.tiff\u001b[0m*              \u001b[01;32mFile_82.tiff\u001b[0m*\r\n",
      "\u001b[01;32mFile_217.tiff\u001b[0m*              \u001b[01;32mFile_83.tiff\u001b[0m*\r\n",
      "\u001b[01;32mFile_220.tiff\u001b[0m*              \u001b[01;32mFile_84.tiff\u001b[0m*\r\n",
      "\u001b[01;32mFile_221.tiff\u001b[0m*              File_84_4mm_mask_2098.tiff\r\n",
      "\u001b[01;32mFile_226.tiff\u001b[0m*              \u001b[01;32mFile_85.tiff\u001b[0m*\r\n",
      "\u001b[01;32mFile_227.tiff\u001b[0m*              File_85_4mm_mask_2096.tiff\r\n",
      "File_22_4mm_mask_2099.tiff  File_86_4mm_mask_2096.tiff\r\n",
      "\u001b[01;32mFile_230.tiff\u001b[0m*              File_87_4mm_mask_2104.tiff\r\n",
      "\u001b[01;32mFile_231.tiff\u001b[0m*              \u001b[01;32mFile_88.tiff\u001b[0m*\r\n",
      "\u001b[01;32mFile_236.tiff\u001b[0m*              \u001b[01;32mFile_89.tiff\u001b[0m*\r\n",
      "\u001b[01;32mFile_237.tiff\u001b[0m*              File_89_4mm_mask_2092.tiff\r\n",
      "\u001b[01;32mFile_240.tiff\u001b[0m*              \u001b[01;32mFile_9.tiff\u001b[0m*\r\n",
      "\u001b[01;32mFile_241.tiff\u001b[0m*              File_91_4mm_mask_2088.tiff\r\n",
      "\u001b[01;32mFile_246.tiff\u001b[0m*              \u001b[01;32mFile_92.tiff\u001b[0m*\r\n",
      "\u001b[01;32mFile_247.tiff\u001b[0m*              File_92_4mm_mask_2098.tiff\r\n",
      "\u001b[01;32mFile_250.tiff\u001b[0m*              \u001b[01;32mFile_93.tiff\u001b[0m*\r\n",
      "\u001b[01;32mFile_251.tiff\u001b[0m*              \u001b[01;32mFile_94.tiff\u001b[0m*\r\n",
      "\u001b[01;32mFile_256.tiff\u001b[0m*              \u001b[01;32mFile_95.tiff\u001b[0m*\r\n",
      "\u001b[01;32mFile_257.tiff\u001b[0m*              \u001b[01;32mFile_98.tiff\u001b[0m*\r\n",
      "\u001b[01;32mFile_26.tiff\u001b[0m*\r\n"
     ]
    }
   ],
   "source": [
    "ls /data/10x10_4mm_v2/"
   ]
  },
  {
   "cell_type": "code",
   "execution_count": null,
   "metadata": {},
   "outputs": [],
   "source": [
    "for i in range(300):\n",
    "    %run /src/workspace/Leaf_mask_inv.py"
   ]
  }
 ],
 "metadata": {
  "kernelspec": {
   "display_name": "Python 3",
   "language": "python",
   "name": "python3"
  },
  "language_info": {
   "codemirror_mode": {
    "name": "ipython",
    "version": 3
   },
   "file_extension": ".py",
   "mimetype": "text/x-python",
   "name": "python",
   "nbconvert_exporter": "python",
   "pygments_lexer": "ipython3",
   "version": "3.6.3"
  }
 },
 "nbformat": 4,
 "nbformat_minor": 2
}
