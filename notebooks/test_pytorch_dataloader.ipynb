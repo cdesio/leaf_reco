{
 "cells": [
  {
   "cell_type": "code",
   "execution_count": 1,
   "metadata": {},
   "outputs": [],
   "source": [
    "import torch\n",
    "import numpy as np\n",
    "import os\n",
    "from torch.utils.data import Dataset, DataLoader\n",
    "import torch.utils.data as utils"
   ]
  },
  {
   "cell_type": "code",
   "execution_count": 2,
   "metadata": {},
   "outputs": [],
   "source": [
    "DATA_DIR_DEEPTHOUGHT=\"/storage/yw18581/data\"\n",
    "data_dir = DATA_DIR_DEEPTHOUGHT\n",
    "train_test = os.path.join(data_dir, \"train_validation_test\")"
   ]
  },
  {
   "cell_type": "code",
   "execution_count": 3,
   "metadata": {},
   "outputs": [],
   "source": [
    "data = np.load(\"/storage/yw18581/data/train_validation_test/Xy_train+val_clean_300_24_10_25.npz\")\n",
    "x = data[\"x\"]\n",
    "y = data['y']\n",
    "\n",
    "tensor_x = torch.from_numpy(x) # transform to torch tensors\n",
    "tensor_y = torch.from_numpy(y)\n",
    "\n",
    "xy_dataset = utils.TensorDataset(tensor_x,tensor_y)"
   ]
  },
  {
   "cell_type": "code",
   "execution_count": 4,
   "metadata": {},
   "outputs": [],
   "source": [
    "class UNetDataset(Dataset):\n",
    "    def __init__(self, xy_dataset, transform=None):\n",
    "        self.transform = transform\n",
    "        self._data = xy_dataset\n",
    "\n",
    "    def __getitem__(self, idx):\n",
    "        image = self._data[idx][0]\n",
    "        mask = self._data[idx][1]\n",
    "        sample = {'image': image, 'masks': mask}\n",
    "\n",
    "        if self.transform:\n",
    "            sample = self.transform(sample)\n",
    "        return sample\n",
    "\n",
    "    def __len__(self):\n",
    "        return len(self._data)\n",
    "\n",
    "\n",
    "class ToTensor(object):\n",
    "    \"\"\"Convert ndarrays in sample to Tensors.\"\"\"\n",
    "\n",
    "    def __call__(self, sample):\n",
    "        image, mask = sample['image'], sample['masks']\n",
    "        # swap color axis because\n",
    "        # numpy image: H x W x C\n",
    "        # torch image: C X H X W\n",
    "        image = image.transpose(2,0)\n",
    "        mask = mask.transpose(2,0)\n",
    "        return {'image': image,\n",
    "                'masks': mask}\n"
   ]
  },
  {
   "cell_type": "code",
   "execution_count": 5,
   "metadata": {},
   "outputs": [],
   "source": [
    "train_dataset = UNetDataset(xy_dataset, transform=ToTensor())"
   ]
  },
  {
   "cell_type": "code",
   "execution_count": 6,
   "metadata": {},
   "outputs": [],
   "source": [
    "dataloader = DataLoader(train_dataset, batch_size=4, shuffle=True, num_workers=4)"
   ]
  },
  {
   "cell_type": "code",
   "execution_count": 7,
   "metadata": {},
   "outputs": [
    {
     "data": {
      "text/plain": [
       "960"
      ]
     },
     "execution_count": 7,
     "metadata": {},
     "output_type": "execute_result"
    }
   ],
   "source": [
    "len(train_dataset)"
   ]
  },
  {
   "cell_type": "code",
   "execution_count": 8,
   "metadata": {},
   "outputs": [
    {
     "name": "stdout",
     "output_type": "stream",
     "text": [
      "0 torch.Size([4, 1, 1400, 1400]) torch.Size([4, 1, 1400, 1400])\n",
      "1 torch.Size([4, 1, 1400, 1400]) torch.Size([4, 1, 1400, 1400])\n",
      "2 torch.Size([4, 1, 1400, 1400]) torch.Size([4, 1, 1400, 1400])\n",
      "3 torch.Size([4, 1, 1400, 1400]) torch.Size([4, 1, 1400, 1400])\n",
      "4 torch.Size([4, 1, 1400, 1400]) torch.Size([4, 1, 1400, 1400])\n"
     ]
    }
   ],
   "source": [
    "for i, data in enumerate(dataloader):\n",
    "    print(i, data['image'].shape, data['masks'].shape)\n",
    "    if i==4:\n",
    "        break"
   ]
  },
  {
   "cell_type": "code",
   "execution_count": null,
   "metadata": {},
   "outputs": [],
   "source": []
  },
  {
   "cell_type": "code",
   "execution_count": null,
   "metadata": {},
   "outputs": [],
   "source": []
  },
  {
   "cell_type": "code",
   "execution_count": null,
   "metadata": {},
   "outputs": [],
   "source": []
  },
  {
   "cell_type": "markdown",
   "metadata": {},
   "source": [
    "#### NEW: AFTER CLASS DEFINITION IN SCRIPT \"Transformers.py\""
   ]
  },
  {
   "cell_type": "code",
   "execution_count": 9,
   "metadata": {},
   "outputs": [],
   "source": [
    "import sys, os"
   ]
  },
  {
   "cell_type": "code",
   "execution_count": 10,
   "metadata": {},
   "outputs": [],
   "source": [
    "import numpy as np"
   ]
  },
  {
   "cell_type": "code",
   "execution_count": 11,
   "metadata": {},
   "outputs": [],
   "source": [
    "from torchvision import transforms"
   ]
  },
  {
   "cell_type": "code",
   "execution_count": 12,
   "metadata": {},
   "outputs": [],
   "source": [
    "from torch.utils.data import DataLoader"
   ]
  },
  {
   "cell_type": "code",
   "execution_count": 13,
   "metadata": {},
   "outputs": [],
   "source": [
    "sys.path.append(\"../\")"
   ]
  },
  {
   "cell_type": "code",
   "execution_count": 14,
   "metadata": {},
   "outputs": [],
   "source": [
    "from Transformers import UNetDataset, ChannelsFirst, ToTensor, Rescale"
   ]
  },
  {
   "cell_type": "code",
   "execution_count": 15,
   "metadata": {},
   "outputs": [],
   "source": [
    "DATA_DIR_DEEPTHOUGHT=\"/storage/yw18581/data\"\n",
    "data_dir = DATA_DIR_DEEPTHOUGHT\n",
    "train_test = os.path.join(data_dir, \"train_validation_test\")"
   ]
  },
  {
   "cell_type": "code",
   "execution_count": 16,
   "metadata": {},
   "outputs": [],
   "source": [
    "data = np.load(\"/storage/yw18581/data/train_validation_test/Xy_train+val_clean_300_24_10_25.npz\")\n",
    "x = data[\"x\"]\n",
    "y = data['y']"
   ]
  },
  {
   "cell_type": "code",
   "execution_count": 17,
   "metadata": {},
   "outputs": [],
   "source": [
    "composed = transforms.Compose([Rescale(0.25), ChannelsFirst(), ToTensor()])"
   ]
  },
  {
   "cell_type": "code",
   "execution_count": 18,
   "metadata": {},
   "outputs": [],
   "source": [
    "train_dataset = UNetDataset(x, y, transform=composed)"
   ]
  },
  {
   "cell_type": "code",
   "execution_count": 19,
   "metadata": {},
   "outputs": [],
   "source": [
    "data_loader = DataLoader(train_dataset, batch_size=4, shuffle=True, num_workers=4)"
   ]
  },
  {
   "cell_type": "code",
   "execution_count": 20,
   "metadata": {},
   "outputs": [
    {
     "name": "stdout",
     "output_type": "stream",
     "text": [
      "torch.Size([4, 1, 350, 350]) torch.float64\n",
      "torch.Size([4, 1, 350, 350]) torch.float64\n",
      "torch.Size([4, 1, 350, 350]) torch.float64\n",
      "torch.Size([4, 1, 350, 350]) torch.float64\n",
      "torch.Size([4, 1, 350, 350]) torch.float64\n"
     ]
    }
   ],
   "source": [
    "for i, batch in enumerate(data_loader):\n",
    "    print(batch['image'].size(), batch['image'].dtype)\n",
    "    if i==4:\n",
    "        break"
   ]
  },
  {
   "cell_type": "markdown",
   "metadata": {},
   "source": [
    "#### test new dataset, with dist"
   ]
  },
  {
   "cell_type": "code",
   "execution_count": 1,
   "metadata": {},
   "outputs": [],
   "source": [
    "import sys, os\n",
    "import torch\n",
    "import torch.nn as nn\n",
    "import numpy as np\n",
    "from torch.utils.data import DataLoader\n",
    "from torchvision import transforms\n",
    "\n"
   ]
  },
  {
   "cell_type": "code",
   "execution_count": 2,
   "metadata": {},
   "outputs": [],
   "source": [
    "sys.path.append(\"../\")"
   ]
  },
  {
   "cell_type": "code",
   "execution_count": 3,
   "metadata": {},
   "outputs": [],
   "source": [
    "DATA_DIR_DEEPTHOUGHT=\"/storage/yw18581/data\"\n",
    "data_dir = DATA_DIR_DEEPTHOUGHT\n",
    "train_test = os.path.join(data_dir, \"train_validation_test\")"
   ]
  },
  {
   "cell_type": "code",
   "execution_count": 4,
   "metadata": {},
   "outputs": [],
   "source": [
    "data = np.load(\"/storage/yw18581/data/train_validation_test/Xy_train+val_clean_300_24_10_25.npz\")\n",
    "x = data[\"x\"]\n",
    "y = data['y']\n",
    "dist = data['dist']"
   ]
  },
  {
   "cell_type": "code",
   "execution_count": 5,
   "metadata": {},
   "outputs": [],
   "source": [
    "from Transformers import UNetDataset, ChannelsFirst, ToTensor, Rescale"
   ]
  },
  {
   "cell_type": "code",
   "execution_count": 6,
   "metadata": {},
   "outputs": [],
   "source": [
    "composed = transforms.Compose([Rescale(.25), ChannelsFirst(), ToTensor()])"
   ]
  },
  {
   "cell_type": "code",
   "execution_count": 7,
   "metadata": {},
   "outputs": [],
   "source": [
    "train_dataset = UNetDataset(x, y, transform=composed, dist = dist)"
   ]
  },
  {
   "cell_type": "code",
   "execution_count": 8,
   "metadata": {},
   "outputs": [],
   "source": [
    "data_loader = DataLoader(train_dataset, batch_size=16, shuffle=True, num_workers=4)"
   ]
  },
  {
   "cell_type": "code",
   "execution_count": 9,
   "metadata": {},
   "outputs": [
    {
     "name": "stdout",
     "output_type": "stream",
     "text": [
      "torch.Size([16, 1, 350, 350]) torch.Size([16, 1, 350, 350]) torch.Size([16])\n",
      "torch.Size([16, 1, 350, 350]) torch.Size([16, 1, 350, 350]) torch.Size([16])\n",
      "torch.Size([16, 1, 350, 350]) torch.Size([16, 1, 350, 350]) torch.Size([16])\n",
      "torch.Size([16, 1, 350, 350]) torch.Size([16, 1, 350, 350]) torch.Size([16])\n",
      "torch.Size([16, 1, 350, 350]) torch.Size([16, 1, 350, 350]) torch.Size([16])\n"
     ]
    }
   ],
   "source": [
    "for i, batch in enumerate(data_loader):\n",
    "    print(batch['image'].size(), batch['mask'].size(), batch['dist'].size())\n",
    "    if i==4:\n",
    "        break"
   ]
  },
  {
   "cell_type": "code",
   "execution_count": 10,
   "metadata": {},
   "outputs": [
    {
     "data": {
      "text/plain": [
       "tensor([10,  4, 25,  4, 25, 10, 10,  4, 10, 10, 10,  4, 10,  2,  4, 25])"
      ]
     },
     "execution_count": 10,
     "metadata": {},
     "output_type": "execute_result"
    }
   ],
   "source": [
    "batch['dist']"
   ]
  },
  {
   "cell_type": "markdown",
   "metadata": {},
   "source": [
    "#### modify label data with class index"
   ]
  },
  {
   "cell_type": "code",
   "execution_count": 15,
   "metadata": {},
   "outputs": [
    {
     "data": {
      "text/plain": [
       "array([ 4, 25,  4,  2, 25,  2, 10, 10,  2, 25,  2,  4,  2, 25, 25,  2, 25,\n",
       "        2, 25,  2,  4,  2, 10,  4,  2,  2, 25,  2,  4,  4, 10,  2, 10, 25,\n",
       "        2,  2, 25, 10, 10,  2,  4,  2,  4,  4,  2,  4, 10,  2,  4, 10, 10,\n",
       "       25,  2,  4, 25, 25, 25, 25,  4,  4, 25,  4, 10,  4,  4, 10, 25,  4,\n",
       "        4, 10,  2,  4, 10, 25,  2, 25,  2,  4,  4, 10, 25,  2,  4,  4, 10,\n",
       "        4, 25, 25,  4,  2, 10, 10, 10, 10,  2, 25,  4, 25,  4, 25, 10, 10,\n",
       "       10, 10, 10, 25, 25, 25,  4,  4,  2,  2, 10,  2, 25,  2,  2,  2, 10,\n",
       "        2,  4,  4,  2, 25, 25, 25, 25,  4,  2, 25,  4, 10, 10,  4, 25,  2,\n",
       "       10,  2, 25,  2,  2, 10, 25,  2,  4, 10,  2, 25,  2, 10, 10,  4, 25,\n",
       "        4, 10, 25, 25,  2,  2, 10,  2, 25, 25, 10, 10,  2,  2,  4,  4,  2,\n",
       "       10,  2,  4,  2,  4, 25, 25, 25, 25, 25, 25,  2,  2, 10,  2, 10,  2,\n",
       "        2, 25,  2, 10,  2,  2, 10,  2,  4, 10, 25,  4, 25,  2, 25, 10, 10,\n",
       "        2,  4, 25, 10, 25,  2,  2,  4,  2,  4, 10,  4,  4, 10,  4, 25, 10,\n",
       "       10, 10,  4, 25,  2, 10,  2, 10,  4,  2, 10,  2,  4, 25, 10, 10, 25,\n",
       "        2, 25,  4, 10,  2, 25, 10, 25,  2,  4, 10,  2,  4,  4, 25, 10, 25,\n",
       "        4, 25, 25, 25, 25, 25, 10, 10,  4, 10,  2,  2,  4, 10,  4,  2, 25,\n",
       "        2,  4, 25,  2, 25,  2,  2,  2, 25, 10,  2,  4,  2, 25,  4, 25,  4,\n",
       "        2, 10, 10,  4,  4, 25, 25,  4,  2,  4, 25,  2, 10, 25, 25, 25, 10,\n",
       "        4, 25,  4,  4, 25, 10, 25,  2, 10,  2, 25,  4,  4, 25,  4, 25,  4,\n",
       "        2,  2,  4, 25, 25, 25, 25,  4, 10, 25,  2, 25, 25, 10, 25,  2, 25,\n",
       "       10, 10,  2, 10, 10,  4, 10, 25, 10,  4,  4,  4, 25,  4, 10,  2, 10,\n",
       "       25, 25, 25, 10,  4, 25,  2,  4, 25, 25,  4, 25,  2,  4,  2,  4, 25,\n",
       "       10, 10, 25,  4, 25,  2,  2,  4, 10, 25, 10, 25,  4,  2, 10, 25,  2,\n",
       "       25,  4, 10,  2,  2,  4,  2,  4, 10, 10, 10, 10, 25,  4, 25,  4, 25,\n",
       "        2, 25,  4,  2,  4,  2, 25, 10, 25,  2,  4,  4, 10,  4, 10,  4, 10,\n",
       "       10, 25, 10,  4,  4,  2,  4, 10,  4,  4, 25,  4, 10, 10,  4, 10, 10,\n",
       "        2,  2,  2,  2,  2,  2,  2, 25, 10, 10, 10, 25, 10,  2,  2,  2, 10,\n",
       "       25, 10,  4, 10,  4, 10,  2,  2, 25,  2, 25, 10,  2, 25, 25,  2,  4,\n",
       "        2,  4, 10,  4, 10, 25,  2,  4,  2,  4, 25,  2,  2, 25, 10, 10, 10,\n",
       "       25, 10, 25,  2, 10, 10, 10, 10,  4,  2,  2, 10, 25, 25,  2,  2, 25,\n",
       "        4,  4,  4,  4, 25, 25, 10,  2,  4, 10, 10,  4, 25,  4,  4,  2, 10,\n",
       "        2, 25,  4, 10,  4,  4, 10, 25, 25, 10,  2, 10, 25, 10,  2,  2, 10,\n",
       "        4, 25,  2, 10,  4, 10, 10, 25, 10,  2, 25, 25,  2,  4, 10,  4,  4,\n",
       "        2,  4,  2, 25,  2, 25, 25,  2, 10,  2, 10, 10, 25, 10, 10,  2, 10,\n",
       "       10, 25, 10, 10,  4,  4, 25,  2, 25, 25,  4, 25, 10, 25,  2,  4, 10,\n",
       "        2, 25,  2,  4,  2, 25,  2, 25,  4, 10,  4,  4, 25, 25,  2,  4, 25,\n",
       "       10, 10,  2,  4, 10, 10, 10,  4,  2, 25,  4,  4,  2,  4, 10,  2, 25,\n",
       "        2,  2,  2,  4, 10,  4,  4, 10, 10,  2,  2,  4,  4,  4, 10,  2, 10,\n",
       "        4,  4,  4,  4,  4,  2,  2, 10,  4,  4, 25, 25,  4,  2,  2,  4, 25,\n",
       "       10, 25,  4, 10, 25,  2, 25,  2,  4,  4, 10, 25, 25, 25, 10, 25,  4,\n",
       "        4,  2, 10, 10,  4, 25,  4, 10,  4, 10, 25, 10, 25,  4,  4, 25,  4,\n",
       "        2,  4, 25, 10, 10,  4, 10, 25,  4, 10,  2, 10, 10,  2,  2,  2,  2,\n",
       "       25,  4,  2, 25, 25,  4, 10, 25,  2,  2,  2,  2,  4, 10,  4, 25,  4,\n",
       "        2,  4,  2,  2,  4,  4, 10, 10, 10,  4,  2, 10,  4,  4,  2, 25, 10,\n",
       "       25,  2,  4, 10, 10, 25, 10, 10, 25,  2,  4, 10, 25,  2,  4,  2, 10,\n",
       "       25, 10, 25,  4,  4,  2, 10,  4,  2, 10, 25, 25,  4,  2,  2,  4, 10,\n",
       "       10,  4, 10, 25, 25, 10, 25, 25,  4, 25, 10,  2,  2, 10, 25, 10, 10,\n",
       "       10, 10,  2,  4, 25,  4,  2,  4, 10,  2,  2, 25, 10, 10, 25,  2,  2,\n",
       "        4,  4, 25, 10, 10, 25, 25,  2,  2, 25,  2, 25,  2,  4,  2, 25, 25,\n",
       "       10, 10, 25, 25, 10, 25, 25,  4,  4,  4, 10,  2, 10, 25,  2,  2, 10,\n",
       "        4,  2,  4,  2,  4, 10,  2,  4,  4,  2,  4,  4,  2, 10,  4, 10, 10,\n",
       "        4,  2, 10,  4,  4, 10, 25,  2, 25, 10, 10, 10,  2, 25, 10,  4,  4,\n",
       "        2, 10, 25, 25,  4,  2,  4,  2,  4, 10,  4, 25,  4, 25,  2, 10,  4,\n",
       "       25, 25,  2, 25,  2, 25, 25, 25,  2, 25, 25, 25,  2,  4, 10, 25,  4,\n",
       "        2,  2,  2,  2,  4, 25,  2,  4, 10,  4,  4, 25, 25, 10, 10, 10, 10,\n",
       "        4,  2, 25,  2,  4, 10, 10,  4,  2, 25,  2,  2, 25, 25,  2,  4,  4,\n",
       "       10,  2, 25, 10,  4, 10, 10,  4])"
      ]
     },
     "execution_count": 15,
     "metadata": {},
     "output_type": "execute_result"
    }
   ],
   "source": [
    "dist"
   ]
  },
  {
   "cell_type": "code",
   "execution_count": 18,
   "metadata": {},
   "outputs": [
    {
     "data": {
      "text/plain": [
       "tensor([1, 3, 1, 0, 3, 0, 2, 2, 0, 3, 0, 1, 0, 3, 3, 0, 3, 0, 3, 0, 1, 0, 2, 1,\n",
       "        0, 0, 3, 0, 1, 1, 2, 0, 2, 3, 0, 0, 3, 2, 2, 0, 1, 0, 1, 1, 0, 1, 2, 0,\n",
       "        1, 2, 2, 3, 0, 1, 3, 3, 3, 3, 1, 1, 3, 1, 2, 1, 1, 2, 3, 1, 1, 2, 0, 1,\n",
       "        2, 3, 0, 3, 0, 1, 1, 2, 3, 0, 1, 1, 2, 1, 3, 3, 1, 0, 2, 2, 2, 2, 0, 3,\n",
       "        1, 3, 1, 3, 2, 2, 2, 2, 2, 3, 3, 3, 1, 1, 0, 0, 2, 0, 3, 0, 0, 0, 2, 0,\n",
       "        1, 1, 0, 3, 3, 3, 3, 1, 0, 3, 1, 2, 2, 1, 3, 0, 2, 0, 3, 0, 0, 2, 3, 0,\n",
       "        1, 2, 0, 3, 0, 2, 2, 1, 3, 1, 2, 3, 3, 0, 0, 2, 0, 3, 3, 2, 2, 0, 0, 1,\n",
       "        1, 0, 2, 0, 1, 0, 1, 3, 3, 3, 3, 3, 3, 0, 0, 2, 0, 2, 0, 0, 3, 0, 2, 0,\n",
       "        0, 2, 0, 1, 2, 3, 1, 3, 0, 3, 2, 2, 0, 1, 3, 2, 3, 0, 0, 1, 0, 1, 2, 1,\n",
       "        1, 2, 1, 3, 2, 2, 2, 1, 3, 0, 2, 0, 2, 1, 0, 2, 0, 1, 3, 2, 2, 3, 0, 3,\n",
       "        1, 2, 0, 3, 2, 3, 0, 1, 2, 0, 1, 1, 3, 2, 3, 1, 3, 3, 3, 3, 3, 2, 2, 1,\n",
       "        2, 0, 0, 1, 2, 1, 0, 3, 0, 1, 3, 0, 3, 0, 0, 0, 3, 2, 0, 1, 0, 3, 1, 3,\n",
       "        1, 0, 2, 2, 1, 1, 3, 3, 1, 0, 1, 3, 0, 2, 3, 3, 3, 2, 1, 3, 1, 1, 3, 2,\n",
       "        3, 0, 2, 0, 3, 1, 1, 3, 1, 3, 1, 0, 0, 1, 3, 3, 3, 3, 1, 2, 3, 0, 3, 3,\n",
       "        2, 3, 0, 3, 2, 2, 0, 2, 2, 1, 2, 3, 2, 1, 1, 1, 3, 1, 2, 0, 2, 3, 3, 3,\n",
       "        2, 1, 3, 0, 1, 3, 3, 1, 3, 0, 1, 0, 1, 3, 2, 2, 3, 1, 3, 0, 0, 1, 2, 3,\n",
       "        2, 3, 1, 0, 2, 3, 0, 3, 1, 2, 0, 0, 1, 0, 1, 2, 2, 2, 2, 3, 1, 3, 1, 3,\n",
       "        0, 3, 1, 0, 1, 0, 3, 2, 3, 0, 1, 1, 2, 1, 2, 1, 2, 2, 3, 2, 1, 1, 0, 1,\n",
       "        2, 1, 1, 3, 1, 2, 2, 1, 2, 2, 0, 0, 0, 0, 0, 0, 0, 3, 2, 2, 2, 3, 2, 0,\n",
       "        0, 0, 2, 3, 2, 1, 2, 1, 2, 0, 0, 3, 0, 3, 2, 0, 3, 3, 0, 1, 0, 1, 2, 1,\n",
       "        2, 3, 0, 1, 0, 1, 3, 0, 0, 3, 2, 2, 2, 3, 2, 3, 0, 2, 2, 2, 2, 1, 0, 0,\n",
       "        2, 3, 3, 0, 0, 3, 1, 1, 1, 1, 3, 3, 2, 0, 1, 2, 2, 1, 3, 1, 1, 0, 2, 0,\n",
       "        3, 1, 2, 1, 1, 2, 3, 3, 2, 0, 2, 3, 2, 0, 0, 2, 1, 3, 0, 2, 1, 2, 2, 3,\n",
       "        2, 0, 3, 3, 0, 1, 2, 1, 1, 0, 1, 0, 3, 0, 3, 3, 0, 2, 0, 2, 2, 3, 2, 2,\n",
       "        0, 2, 2, 3, 2, 2, 1, 1, 3, 0, 3, 3, 1, 3, 2, 3, 0, 1, 2, 0, 3, 0, 1, 0,\n",
       "        3, 0, 3, 1, 2, 1, 1, 3, 3, 0, 1, 3, 2, 2, 0, 1, 2, 2, 2, 1, 0, 3, 1, 1,\n",
       "        0, 1, 2, 0, 3, 0, 0, 0, 1, 2, 1, 1, 2, 2, 0, 0, 1, 1, 1, 2, 0, 2, 1, 1,\n",
       "        1, 1, 1, 0, 0, 2, 1, 1, 3, 3, 1, 0, 0, 1, 3, 2, 3, 1, 2, 3, 0, 3, 0, 1,\n",
       "        1, 2, 3, 3, 3, 2, 3, 1, 1, 0, 2, 2, 1, 3, 1, 2, 1, 2, 3, 2, 3, 1, 1, 3,\n",
       "        1, 0, 1, 3, 2, 2, 1, 2, 3, 1, 2, 0, 2, 2, 0, 0, 0, 0, 3, 1, 0, 3, 3, 1,\n",
       "        2, 3, 0, 0, 0, 0, 1, 2, 1, 3, 1, 0, 1, 0, 0, 1, 1, 2, 2, 2, 1, 0, 2, 1,\n",
       "        1, 0, 3, 2, 3, 0, 1, 2, 2, 3, 2, 2, 3, 0, 1, 2, 3, 0, 1, 0, 2, 3, 2, 3,\n",
       "        1, 1, 0, 2, 1, 0, 2, 3, 3, 1, 0, 0, 1, 2, 2, 1, 2, 3, 3, 2, 3, 3, 1, 3,\n",
       "        2, 0, 0, 2, 3, 2, 2, 2, 2, 0, 1, 3, 1, 0, 1, 2, 0, 0, 3, 2, 2, 3, 0, 0,\n",
       "        1, 1, 3, 2, 2, 3, 3, 0, 0, 3, 0, 3, 0, 1, 0, 3, 3, 2, 2, 3, 3, 2, 3, 3,\n",
       "        1, 1, 1, 2, 0, 2, 3, 0, 0, 2, 1, 0, 1, 0, 1, 2, 0, 1, 1, 0, 1, 1, 0, 2,\n",
       "        1, 2, 2, 1, 0, 2, 1, 1, 2, 3, 0, 3, 2, 2, 2, 0, 3, 2, 1, 1, 0, 2, 3, 3,\n",
       "        1, 0, 1, 0, 1, 2, 1, 3, 1, 3, 0, 2, 1, 3, 3, 0, 3, 0, 3, 3, 3, 0, 3, 3,\n",
       "        3, 0, 1, 2, 3, 1, 0, 0, 0, 0, 1, 3, 0, 1, 2, 1, 1, 3, 3, 2, 2, 2, 2, 1,\n",
       "        0, 3, 0, 1, 2, 2, 1, 0, 3, 0, 0, 3, 3, 0, 1, 1, 2, 0, 3, 2, 1, 2, 2, 1])"
      ]
     },
     "execution_count": 18,
     "metadata": {},
     "output_type": "execute_result"
    }
   ],
   "source": [
    "torch.from_numpy(np.unique(dist, return_inverse=True)[1])"
   ]
  },
  {
   "cell_type": "code",
   "execution_count": 10,
   "metadata": {},
   "outputs": [
    {
     "data": {
      "text/plain": [
       "tensor([[0],\n",
       "        [0],\n",
       "        [0],\n",
       "        [0],\n",
       "        [0],\n",
       "        [0],\n",
       "        [0],\n",
       "        [0],\n",
       "        [0],\n",
       "        [0],\n",
       "        [0],\n",
       "        [0],\n",
       "        [0],\n",
       "        [0],\n",
       "        [0],\n",
       "        [0]])"
      ]
     },
     "execution_count": 10,
     "metadata": {},
     "output_type": "execute_result"
    }
   ],
   "source": [
    "batch['dist']"
   ]
  },
  {
   "cell_type": "code",
   "execution_count": 10,
   "metadata": {},
   "outputs": [],
   "source": [
    "del train_dataset"
   ]
  },
  {
   "cell_type": "code",
   "execution_count": 11,
   "metadata": {},
   "outputs": [],
   "source": [
    "del data_loader"
   ]
  },
  {
   "cell_type": "code",
   "execution_count": 7,
   "metadata": {},
   "outputs": [],
   "source": [
    "train_dataset = UNetDataset(x, y, transform=composed)"
   ]
  },
  {
   "cell_type": "code",
   "execution_count": 8,
   "metadata": {},
   "outputs": [],
   "source": [
    "data_loader = DataLoader(train_dataset, batch_size=16, shuffle=True, num_workers=4)"
   ]
  },
  {
   "cell_type": "code",
   "execution_count": 9,
   "metadata": {},
   "outputs": [
    {
     "name": "stdout",
     "output_type": "stream",
     "text": [
      "torch.Size([16, 1, 350, 350]) torch.Size([16, 1, 350, 350])\n",
      "torch.Size([16, 1, 350, 350]) torch.Size([16, 1, 350, 350])\n",
      "torch.Size([16, 1, 350, 350]) torch.Size([16, 1, 350, 350])\n",
      "torch.Size([16, 1, 350, 350]) torch.Size([16, 1, 350, 350])\n",
      "torch.Size([16, 1, 350, 350]) torch.Size([16, 1, 350, 350])\n"
     ]
    }
   ],
   "source": [
    "for i, batch in enumerate(data_loader):\n",
    "    print(batch['image'].size(), batch['mask'].size())\n",
    "    if i==4:\n",
    "        break"
   ]
  },
  {
   "cell_type": "code",
   "execution_count": null,
   "metadata": {},
   "outputs": [],
   "source": []
  }
 ],
 "metadata": {
  "kernelspec": {
   "display_name": "Python 3",
   "language": "python",
   "name": "python3"
  },
  "language_info": {
   "codemirror_mode": {
    "name": "ipython",
    "version": 3
   },
   "file_extension": ".py",
   "mimetype": "text/x-python",
   "name": "python",
   "nbconvert_exporter": "python",
   "pygments_lexer": "ipython3",
   "version": "3.6.7"
  }
 },
 "nbformat": 4,
 "nbformat_minor": 2
}
