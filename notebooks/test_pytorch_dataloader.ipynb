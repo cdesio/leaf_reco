{
 "cells": [
  {
   "cell_type": "code",
   "execution_count": 1,
   "metadata": {},
   "outputs": [],
   "source": [
    "import torch\n",
    "import numpy as np\n",
    "import os\n",
    "from torch.utils.data import Dataset, DataLoader\n",
    "import torch.utils.data as utils"
   ]
  },
  {
   "cell_type": "code",
   "execution_count": 2,
   "metadata": {},
   "outputs": [],
   "source": [
    "DATA_DIR_DEEPTHOUGHT=\"/storage/yw18581/data\"\n",
    "data_dir = DATA_DIR_DEEPTHOUGHT\n",
    "train_test = os.path.join(data_dir, \"train_validation_test\")"
   ]
  },
  {
   "cell_type": "code",
   "execution_count": 3,
   "metadata": {},
   "outputs": [],
   "source": [
    "data = np.load(\"/storage/yw18581/data/train_validation_test/Xy_train+val_clean_300_24_10_25.npz\")\n",
    "x = data[\"x\"]\n",
    "y = data['y']\n",
    "\n",
    "tensor_x = torch.from_numpy(x) # transform to torch tensors\n",
    "tensor_y = torch.from_numpy(y)\n",
    "\n",
    "xy_dataset = utils.TensorDataset(tensor_x,tensor_y)"
   ]
  },
  {
   "cell_type": "code",
   "execution_count": 63,
   "metadata": {},
   "outputs": [],
   "source": [
    "class UNetDataset(Dataset):\n",
    "    def __init__(self, xy_dataset, transform=None):\n",
    "        self.transform = transform\n",
    "        self._data = xy_dataset\n",
    "\n",
    "    def __getitem__(self, idx):\n",
    "        image = self._data[idx][0]\n",
    "        mask = self._data[idx][1]\n",
    "        sample = {'image': image, 'masks': mask}\n",
    "\n",
    "        if self.transform:\n",
    "            sample = self.transform(sample)\n",
    "        return sample\n",
    "\n",
    "    def __len__(self):\n",
    "        return len(self._data)\n",
    "\n",
    "\n",
    "class ToTensor(object):\n",
    "    \"\"\"Convert ndarrays in sample to Tensors.\"\"\"\n",
    "\n",
    "    def __call__(self, sample):\n",
    "        image, mask = sample['image'], sample['masks']\n",
    "        # swap color axis because\n",
    "        # numpy image: H x W x C\n",
    "        # torch image: C X H X W\n",
    "        image = image.transpose(2,0)\n",
    "        mask = mask.transpose(2,0)\n",
    "        return {'image': image,\n",
    "                'masks': mask}\n"
   ]
  },
  {
   "cell_type": "code",
   "execution_count": 64,
   "metadata": {},
   "outputs": [],
   "source": [
    "train_dataset = UNetDataset(xy_dataset, transform=ToTensor())"
   ]
  },
  {
   "cell_type": "code",
   "execution_count": 68,
   "metadata": {},
   "outputs": [],
   "source": [
    "dataloader = DataLoader(train_dataset, batch_size=4, shuffle=True, num_workers=4)"
   ]
  },
  {
   "cell_type": "code",
   "execution_count": 69,
   "metadata": {},
   "outputs": [
    {
     "data": {
      "text/plain": [
       "960"
      ]
     },
     "execution_count": 69,
     "metadata": {},
     "output_type": "execute_result"
    }
   ],
   "source": [
    "len(train_dataset)"
   ]
  },
  {
   "cell_type": "code",
   "execution_count": 70,
   "metadata": {},
   "outputs": [
    {
     "name": "stdout",
     "output_type": "stream",
     "text": [
      "0 torch.Size([4, 1, 1400, 1400]) torch.Size([4, 1, 1400, 1400])\n",
      "1 torch.Size([4, 1, 1400, 1400]) torch.Size([4, 1, 1400, 1400])\n",
      "2 torch.Size([4, 1, 1400, 1400]) torch.Size([4, 1, 1400, 1400])\n",
      "3 torch.Size([4, 1, 1400, 1400]) torch.Size([4, 1, 1400, 1400])\n",
      "4 torch.Size([4, 1, 1400, 1400]) torch.Size([4, 1, 1400, 1400])\n"
     ]
    }
   ],
   "source": [
    "for i, data in enumerate(dataloader):\n",
    "    print(i, data['image'].shape, data['masks'].shape)\n",
    "    if i==4:\n",
    "        break"
   ]
  },
  {
   "cell_type": "code",
   "execution_count": null,
   "metadata": {},
   "outputs": [],
   "source": []
  },
  {
   "cell_type": "code",
   "execution_count": null,
   "metadata": {},
   "outputs": [],
   "source": []
  },
  {
   "cell_type": "code",
   "execution_count": null,
   "metadata": {},
   "outputs": [],
   "source": []
  }
 ],
 "metadata": {
  "kernelspec": {
   "display_name": "Python 3",
   "language": "python",
   "name": "python3"
  },
  "language_info": {
   "codemirror_mode": {
    "name": "ipython",
    "version": 3
   },
   "file_extension": ".py",
   "mimetype": "text/x-python",
   "name": "python",
   "nbconvert_exporter": "python",
   "pygments_lexer": "ipython3",
   "version": "3.6.7"
  }
 },
 "nbformat": 4,
 "nbformat_minor": 2
}
